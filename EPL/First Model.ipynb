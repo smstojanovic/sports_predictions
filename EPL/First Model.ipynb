{
 "cells": [
  {
   "cell_type": "code",
   "execution_count": null,
   "metadata": {},
   "outputs": [],
   "source": [
    "library(tidyverse)\n",
    "library(caret)\n",
    "library(plotly)"
   ]
  },
  {
   "cell_type": "markdown",
   "metadata": {},
   "source": [
    "## Read data and view"
   ]
  },
  {
   "cell_type": "code",
   "execution_count": 3,
   "metadata": {
    "collapsed": true
   },
   "outputs": [],
   "source": [
    "df <- read.csv('../DataCollection/english_premier_league_historical_data.csv')"
   ]
  },
  {
   "cell_type": "code",
   "execution_count": 4,
   "metadata": {
    "collapsed": true
   },
   "outputs": [],
   "source": [
    "score <- read.csv('../DataCollection/english_premier_league_competition_data.csv')"
   ]
  },
  {
   "cell_type": "code",
   "execution_count": 5,
   "metadata": {},
   "outputs": [
    {
     "data": {
      "text/html": [
       "<table>\n",
       "<thead><tr><th scope=col>id</th><th scope=col>date</th><th scope=col>team_1_name</th><th scope=col>team_1_score</th><th scope=col>team_2_name</th><th scope=col>team_2_score</th><th scope=col>d_ability_1</th><th scope=col>d_ability_3</th><th scope=col>d_ability_4</th><th scope=col>is_november</th><th scope=col>is_february</th><th scope=col>d_form_4</th><th scope=col>d_h2h_2</th><th scope=col>c_ability_3</th></tr></thead>\n",
       "<tbody>\n",
       "\t<tr><td>5969fbdb4825083689956894</td><td>2004-02-11 19:45:00     </td><td>Fulham                  </td><td>1                       </td><td>Aston Villa             </td><td>2                       </td><td>0.003173703             </td><td>-0.09081544             </td><td>-0.09371598             </td><td>-0.3388981              </td><td>3.142823                </td><td>NaN                     </td><td>NaN                     </td><td>-0.07596201             </td></tr>\n",
       "\t<tr><td>5969fbdb4825083689956893</td><td>2004-02-11 19:45:00     </td><td>Birmingham              </td><td>3                       </td><td>Everton                 </td><td>0                       </td><td>0.003173703             </td><td>-0.09081544             </td><td>-0.09371598             </td><td>-0.3388981              </td><td>3.142823                </td><td>NaN                     </td><td>NaN                     </td><td>-0.07596201             </td></tr>\n",
       "\t<tr><td>5969fbdb4825083689956892</td><td>2004-02-11 20:00:00     </td><td>Portsmouth              </td><td>0                       </td><td>Chelsea                 </td><td>2                       </td><td>0.003173703             </td><td>-0.09081544             </td><td>-0.09371598             </td><td>-0.3388981              </td><td>3.142823                </td><td>NaN                     </td><td>NaN                     </td><td>-0.07596201             </td></tr>\n",
       "</tbody>\n",
       "</table>\n"
      ],
      "text/latex": [
       "\\begin{tabular}{r|llllllllllllll}\n",
       " id & date & team\\_1\\_name & team\\_1\\_score & team\\_2\\_name & team\\_2\\_score & d\\_ability\\_1 & d\\_ability\\_3 & d\\_ability\\_4 & is\\_november & is\\_february & d\\_form\\_4 & d\\_h2h\\_2 & c\\_ability\\_3\\\\\n",
       "\\hline\n",
       "\t 5969fbdb4825083689956894 & 2004-02-11 19:45:00      & Fulham                   & 1                        & Aston Villa              & 2                        & 0.003173703              & -0.09081544              & -0.09371598              & -0.3388981               & 3.142823                 & NaN                      & NaN                      & -0.07596201             \\\\\n",
       "\t 5969fbdb4825083689956893 & 2004-02-11 19:45:00      & Birmingham               & 3                        & Everton                  & 0                        & 0.003173703              & -0.09081544              & -0.09371598              & -0.3388981               & 3.142823                 & NaN                      & NaN                      & -0.07596201             \\\\\n",
       "\t 5969fbdb4825083689956892 & 2004-02-11 20:00:00      & Portsmouth               & 0                        & Chelsea                  & 2                        & 0.003173703              & -0.09081544              & -0.09371598              & -0.3388981               & 3.142823                 & NaN                      & NaN                      & -0.07596201             \\\\\n",
       "\\end{tabular}\n"
      ],
      "text/markdown": [
       "\n",
       "id | date | team_1_name | team_1_score | team_2_name | team_2_score | d_ability_1 | d_ability_3 | d_ability_4 | is_november | is_february | d_form_4 | d_h2h_2 | c_ability_3 | \n",
       "|---|---|---|\n",
       "| 5969fbdb4825083689956894 | 2004-02-11 19:45:00      | Fulham                   | 1                        | Aston Villa              | 2                        | 0.003173703              | -0.09081544              | -0.09371598              | -0.3388981               | 3.142823                 | NaN                      | NaN                      | -0.07596201              | \n",
       "| 5969fbdb4825083689956893 | 2004-02-11 19:45:00      | Birmingham               | 3                        | Everton                  | 0                        | 0.003173703              | -0.09081544              | -0.09371598              | -0.3388981               | 3.142823                 | NaN                      | NaN                      | -0.07596201              | \n",
       "| 5969fbdb4825083689956892 | 2004-02-11 20:00:00      | Portsmouth               | 0                        | Chelsea                  | 2                        | 0.003173703              | -0.09081544              | -0.09371598              | -0.3388981               | 3.142823                 | NaN                      | NaN                      | -0.07596201              | \n",
       "\n",
       "\n"
      ],
      "text/plain": [
       "  id                       date                team_1_name team_1_score\n",
       "1 5969fbdb4825083689956894 2004-02-11 19:45:00 Fulham      1           \n",
       "2 5969fbdb4825083689956893 2004-02-11 19:45:00 Birmingham  3           \n",
       "3 5969fbdb4825083689956892 2004-02-11 20:00:00 Portsmouth  0           \n",
       "  team_2_name team_2_score d_ability_1 d_ability_3 d_ability_4 is_november\n",
       "1 Aston Villa 2            0.003173703 -0.09081544 -0.09371598 -0.3388981 \n",
       "2 Everton     0            0.003173703 -0.09081544 -0.09371598 -0.3388981 \n",
       "3 Chelsea     2            0.003173703 -0.09081544 -0.09371598 -0.3388981 \n",
       "  is_february d_form_4 d_h2h_2 c_ability_3\n",
       "1 3.142823    NaN      NaN     -0.07596201\n",
       "2 3.142823    NaN      NaN     -0.07596201\n",
       "3 3.142823    NaN      NaN     -0.07596201"
      ]
     },
     "metadata": {},
     "output_type": "display_data"
    }
   ],
   "source": [
    "df %>% head(3)"
   ]
  },
  {
   "cell_type": "markdown",
   "metadata": {},
   "source": [
    "### Align score and concat"
   ]
  },
  {
   "cell_type": "code",
   "execution_count": 6,
   "metadata": {
    "collapsed": true
   },
   "outputs": [],
   "source": [
    "score <- score %>%\n",
    "    mutate(team_1_score = NA,\n",
    "           team_2_score = NA,\n",
    "           datatype = 'score'\n",
    "          )"
   ]
  },
  {
   "cell_type": "code",
   "execution_count": 7,
   "metadata": {
    "collapsed": true
   },
   "outputs": [],
   "source": [
    "df <- df %>%\n",
    "    mutate(datatype = 'build',\n",
    "        team_1_prob = NA,\n",
    "          team_tie_prob = NA,\n",
    "           team_2_prob = NA\n",
    "          )"
   ]
  },
  {
   "cell_type": "code",
   "execution_count": 8,
   "metadata": {
    "collapsed": true
   },
   "outputs": [],
   "source": [
    "df <- rbind(df, score)"
   ]
  },
  {
   "cell_type": "markdown",
   "metadata": {},
   "source": [
    "## Build response variables"
   ]
  },
  {
   "cell_type": "code",
   "execution_count": 9,
   "metadata": {
    "collapsed": true
   },
   "outputs": [],
   "source": [
    "df <- df %>%\n",
    "    mutate(team_1_win = as.numeric(team_1_score > team_2_score),\n",
    "           team_1_draw = as.numeric(team_1_score == team_2_score))\n",
    "\n",
    "df <- df %>%\n",
    "    mutate(team_1_result = case_when(.$team_1_win > 0 ~ 'T1_Win',\n",
    "                                     .$team_1_draw > 0 ~ 'Draw',\n",
    "                                    T ~ 'T2_Win') )"
   ]
  },
  {
   "cell_type": "markdown",
   "metadata": {},
   "source": [
    "## Visualise team data"
   ]
  },
  {
   "cell_type": "code",
   "execution_count": 10,
   "metadata": {},
   "outputs": [
    {
     "data": {},
     "metadata": {},
     "output_type": "display_data"
    },
    {
     "data": {
      "image/png": "[encoded data removed]",
      "text/plain": [
       "plot without title"
      ]
     },
     "metadata": {},
     "output_type": "display_data"
    }
   ],
   "source": [
    "df %>%\n",
    "    group_by(team_1_name) %>%\n",
    "    summarise( avg_score = mean(team_1_score),\n",
    "                vol = n()) %>%\n",
    "     filter(vol < 100) %>%\n",
    "    ggplot(aes(x = team_1_name, y = vol)) + geom_bar(stat=\"identity\") + theme(axis.text.x = element_text(angle = 90, hjust = 1))"
   ]
  },
  {
   "cell_type": "code",
   "execution_count": 11,
   "metadata": {},
   "outputs": [
    {
     "name": "stderr",
     "output_type": "stream",
     "text": [
      "Warning message:\n",
      "\"Removed 10 rows containing missing values (position_stack).\""
     ]
    },
    {
     "data": {},
     "metadata": {},
     "output_type": "display_data"
    },
    {
     "data": {
      "image/png": "[encoded data removed]",
      "text/plain": [
       "plot without title"
      ]
     },
     "metadata": {},
     "output_type": "display_data"
    }
   ],
   "source": [
    "df %>%\n",
    "    group_by(team_1_name) %>%\n",
    "    summarise( avg_score = mean(team_1_score),\n",
    "                vol = n()) %>%\n",
    "    ggplot(aes(x = team_1_name, y = avg_score)) + geom_bar(stat=\"identity\") + theme(axis.text.x = element_text(angle = 90, hjust = 1))"
   ]
  },
  {
   "cell_type": "code",
   "execution_count": 12,
   "metadata": {},
   "outputs": [
    {
     "data": {},
     "metadata": {},
     "output_type": "display_data"
    },
    {
     "data": {
      "image/png": "[encoded data removed]",
      "text/plain": [
       "plot without title"
      ]
     },
     "metadata": {},
     "output_type": "display_data"
    }
   ],
   "source": [
    "df %>%\n",
    "    group_by(team_2_name) %>%\n",
    "    summarise( avg_score = mean(team_2_score),\n",
    "                vol = n()) %>%\n",
    "     filter(vol < 100) %>%\n",
    "    ggplot(aes(x = team_2_name, y = vol)) + geom_bar(stat=\"identity\") + theme(axis.text.x = element_text(angle = 90, hjust = 1))"
   ]
  },
  {
   "cell_type": "markdown",
   "metadata": {},
   "source": [
    "# Try simple logit model"
   ]
  },
  {
   "cell_type": "code",
   "execution_count": 13,
   "metadata": {},
   "outputs": [
    {
     "data": {
      "text/html": [
       "<table>\n",
       "<thead><tr><th scope=col>id</th><th scope=col>date</th><th scope=col>team_1_name</th><th scope=col>team_1_score</th><th scope=col>team_2_name</th><th scope=col>team_2_score</th><th scope=col>d_ability_1</th><th scope=col>d_ability_3</th><th scope=col>d_ability_4</th><th scope=col>is_november</th><th scope=col>...</th><th scope=col>d_form_4</th><th scope=col>d_h2h_2</th><th scope=col>c_ability_3</th><th scope=col>datatype</th><th scope=col>team_1_prob</th><th scope=col>team_tie_prob</th><th scope=col>team_2_prob</th><th scope=col>team_1_win</th><th scope=col>team_1_draw</th><th scope=col>team_1_result</th></tr></thead>\n",
       "<tbody>\n",
       "\t<tr><td>5969fbdb4825083689956894</td><td>2004-02-11 19:45:00     </td><td>Fulham                  </td><td>1                       </td><td>Aston Villa             </td><td>2                       </td><td>0.003173703             </td><td>-0.09081544             </td><td>-0.09371598             </td><td>-0.3388981              </td><td>...                     </td><td>NaN                     </td><td>NaN                     </td><td>-0.07596201             </td><td>build                   </td><td>NA                      </td><td>NA                      </td><td>NA                      </td><td>0                       </td><td>0                       </td><td>T2_Win                  </td></tr>\n",
       "\t<tr><td>5969fbdb4825083689956893</td><td>2004-02-11 19:45:00     </td><td>Birmingham              </td><td>3                       </td><td>Everton                 </td><td>0                       </td><td>0.003173703             </td><td>-0.09081544             </td><td>-0.09371598             </td><td>-0.3388981              </td><td>...                     </td><td>NaN                     </td><td>NaN                     </td><td>-0.07596201             </td><td>build                   </td><td>NA                      </td><td>NA                      </td><td>NA                      </td><td>1                       </td><td>0                       </td><td>T1_Win                  </td></tr>\n",
       "\t<tr><td>5969fbdb4825083689956892</td><td>2004-02-11 20:00:00     </td><td>Portsmouth              </td><td>0                       </td><td>Chelsea                 </td><td>2                       </td><td>0.003173703             </td><td>-0.09081544             </td><td>-0.09371598             </td><td>-0.3388981              </td><td>...                     </td><td>NaN                     </td><td>NaN                     </td><td>-0.07596201             </td><td>build                   </td><td>NA                      </td><td>NA                      </td><td>NA                      </td><td>0                       </td><td>0                       </td><td>T2_Win                  </td></tr>\n",
       "</tbody>\n",
       "</table>\n"
      ],
      "text/latex": [
       "\\begin{tabular}{r|lllllllllllllllllllll}\n",
       " id & date & team\\_1\\_name & team\\_1\\_score & team\\_2\\_name & team\\_2\\_score & d\\_ability\\_1 & d\\_ability\\_3 & d\\_ability\\_4 & is\\_november & ... & d\\_form\\_4 & d\\_h2h\\_2 & c\\_ability\\_3 & datatype & team\\_1\\_prob & team\\_tie\\_prob & team\\_2\\_prob & team\\_1\\_win & team\\_1\\_draw & team\\_1\\_result\\\\\n",
       "\\hline\n",
       "\t 5969fbdb4825083689956894 & 2004-02-11 19:45:00      & Fulham                   & 1                        & Aston Villa              & 2                        & 0.003173703              & -0.09081544              & -0.09371598              & -0.3388981               & ...                      & NaN                      & NaN                      & -0.07596201              & build                    & NA                       & NA                       & NA                       & 0                        & 0                        & T2\\_Win                \\\\\n",
       "\t 5969fbdb4825083689956893 & 2004-02-11 19:45:00      & Birmingham               & 3                        & Everton                  & 0                        & 0.003173703              & -0.09081544              & -0.09371598              & -0.3388981               & ...                      & NaN                      & NaN                      & -0.07596201              & build                    & NA                       & NA                       & NA                       & 1                        & 0                        & T1\\_Win                \\\\\n",
       "\t 5969fbdb4825083689956892 & 2004-02-11 20:00:00      & Portsmouth               & 0                        & Chelsea                  & 2                        & 0.003173703              & -0.09081544              & -0.09371598              & -0.3388981               & ...                      & NaN                      & NaN                      & -0.07596201              & build                    & NA                       & NA                       & NA                       & 0                        & 0                        & T2\\_Win                \\\\\n",
       "\\end{tabular}\n"
      ],
      "text/markdown": [
       "\n",
       "id | date | team_1_name | team_1_score | team_2_name | team_2_score | d_ability_1 | d_ability_3 | d_ability_4 | is_november | ... | d_form_4 | d_h2h_2 | c_ability_3 | datatype | team_1_prob | team_tie_prob | team_2_prob | team_1_win | team_1_draw | team_1_result | \n",
       "|---|---|---|\n",
       "| 5969fbdb4825083689956894 | 2004-02-11 19:45:00      | Fulham                   | 1                        | Aston Villa              | 2                        | 0.003173703              | -0.09081544              | -0.09371598              | -0.3388981               | ...                      | NaN                      | NaN                      | -0.07596201              | build                    | NA                       | NA                       | NA                       | 0                        | 0                        | T2_Win                   | \n",
       "| 5969fbdb4825083689956893 | 2004-02-11 19:45:00      | Birmingham               | 3                        | Everton                  | 0                        | 0.003173703              | -0.09081544              | -0.09371598              | -0.3388981               | ...                      | NaN                      | NaN                      | -0.07596201              | build                    | NA                       | NA                       | NA                       | 1                        | 0                        | T1_Win                   | \n",
       "| 5969fbdb4825083689956892 | 2004-02-11 20:00:00      | Portsmouth               | 0                        | Chelsea                  | 2                        | 0.003173703              | -0.09081544              | -0.09371598              | -0.3388981               | ...                      | NaN                      | NaN                      | -0.07596201              | build                    | NA                       | NA                       | NA                       | 0                        | 0                        | T2_Win                   | \n",
       "\n",
       "\n"
      ],
      "text/plain": [
       "  id                       date                team_1_name team_1_score\n",
       "1 5969fbdb4825083689956894 2004-02-11 19:45:00 Fulham      1           \n",
       "2 5969fbdb4825083689956893 2004-02-11 19:45:00 Birmingham  3           \n",
       "3 5969fbdb4825083689956892 2004-02-11 20:00:00 Portsmouth  0           \n",
       "  team_2_name team_2_score d_ability_1 d_ability_3 d_ability_4 is_november ...\n",
       "1 Aston Villa 2            0.003173703 -0.09081544 -0.09371598 -0.3388981  ...\n",
       "2 Everton     0            0.003173703 -0.09081544 -0.09371598 -0.3388981  ...\n",
       "3 Chelsea     2            0.003173703 -0.09081544 -0.09371598 -0.3388981  ...\n",
       "  d_form_4 d_h2h_2 c_ability_3 datatype team_1_prob team_tie_prob team_2_prob\n",
       "1 NaN      NaN     -0.07596201 build    NA          NA            NA         \n",
       "2 NaN      NaN     -0.07596201 build    NA          NA            NA         \n",
       "3 NaN      NaN     -0.07596201 build    NA          NA            NA         \n",
       "  team_1_win team_1_draw team_1_result\n",
       "1 0          0           T2_Win       \n",
       "2 1          0           T1_Win       \n",
       "3 0          0           T2_Win       "
      ]
     },
     "metadata": {},
     "output_type": "display_data"
    }
   ],
   "source": [
    "df %>% head(3)"
   ]
  },
  {
   "cell_type": "code",
   "execution_count": 14,
   "metadata": {
    "collapsed": true
   },
   "outputs": [],
   "source": [
    "df <- df %>% \n",
    "    mutate(team_1_name = as.factor(team_1_name),\n",
    "           team_2_name = as.factor(team_2_name),\n",
    "           team_1_result = as.factor(team_1_result)\n",
    "          )"
   ]
  },
  {
   "cell_type": "code",
   "execution_count": 15,
   "metadata": {
    "collapsed": true
   },
   "outputs": [],
   "source": [
    "index <- createDataPartition(y = df$team_1_result, p = 0.7, list = F)"
   ]
  },
  {
   "cell_type": "code",
   "execution_count": 16,
   "metadata": {
    "collapsed": true
   },
   "outputs": [],
   "source": [
    "train <- df[index,]\n",
    "test <- df[-index,]"
   ]
  },
  {
   "cell_type": "code",
   "execution_count": 17,
   "metadata": {
    "collapsed": true
   },
   "outputs": [],
   "source": [
    "library(nnet)"
   ]
  },
  {
   "cell_type": "code",
   "execution_count": 18,
   "metadata": {},
   "outputs": [
    {
     "name": "stdout",
     "output_type": "stream",
     "text": [
      "# weights:  264 (174 variable)\n",
      "initial  value 3950.609790 \n",
      "iter  10 value 3484.031110\n",
      "iter  20 value 3400.691432\n",
      "iter  30 value 3380.155434\n",
      "iter  40 value 3377.926020\n",
      "iter  50 value 3376.447593\n",
      "iter  60 value 3375.919522\n",
      "iter  70 value 3375.678414\n",
      "iter  80 value 3375.620574\n",
      "iter  90 value 3375.556557\n",
      "iter 100 value 3375.471469\n",
      "final  value 3375.471469 \n",
      "stopped after 100 iterations\n"
     ]
    }
   ],
   "source": [
    "fit.log <- train %>%\n",
    "            filter(datatype == 'build') %>%\n",
    "                multinom(formula = team_1_result ~ team_1_name + team_2_name + d_ability_1 + d_ability_3 + d_ability_4 + is_november + is_february + d_form_4 + d_h2h_2 + c_ability_3)"
   ]
  },
  {
   "cell_type": "code",
   "execution_count": 19,
   "metadata": {},
   "outputs": [
    {
     "data": {
      "text/plain": [
       "Call:\n",
       "multinom(formula = team_1_result ~ team_1_name + team_2_name + \n",
       "    d_ability_1 + d_ability_3 + d_ability_4 + is_november + is_february + \n",
       "    d_form_4 + d_h2h_2 + c_ability_3, data = .)\n",
       "\n",
       "Coefficients:\n",
       "       (Intercept) team_1_nameAston Villa team_1_nameBirmingham\n",
       "T1_Win   0.4666380             -0.7809907            -0.2717617\n",
       "T2_Win  -0.2612718              0.8168416             0.8338430\n",
       "       team_1_nameBlackburn team_1_nameBlackpool team_1_nameBolton\n",
       "T1_Win           -0.0107177            0.1159722        -0.1358328\n",
       "T2_Win            0.9067508            1.2782510         1.1940527\n",
       "       team_1_nameBournemouth team_1_nameBrighton team_1_nameBurnley\n",
       "T1_Win              0.4178382           -1.750252         0.05895441\n",
       "T2_Win              1.4722036           -6.181347         0.57055940\n",
       "       team_1_nameCardiff team_1_nameCharlton team_1_nameChelsea\n",
       "T1_Win         -0.5626403          -0.0765656         0.20401288\n",
       "T2_Win          1.3556040           1.2828623        -0.07085824\n",
       "       team_1_nameCrystal Palace team_1_nameDerby team_1_nameEverton\n",
       "T1_Win               -0.03255861        -1.426730          0.1121463\n",
       "T2_Win                1.67059225         2.114651          0.6240754\n",
       "       team_1_nameFulham team_1_nameHuddersfield team_1_nameHull City\n",
       "T1_Win         0.2586611              -5.9840628           -0.4376493\n",
       "T2_Win         1.2231994               0.1679696            1.5869663\n",
       "       team_1_nameLeeds team_1_nameLeicester team_1_nameLiverpool\n",
       "T1_Win       -1.0698326          -0.06504257           0.01766699\n",
       "T2_Win        0.6133736           0.41646792           0.04180324\n",
       "       team_1_nameManchester City team_1_nameManchester United\n",
       "T1_Win                  0.4408504                    0.7221277\n",
       "T2_Win                  0.3780854                    0.7122521\n",
       "       team_1_nameMiddlesbrough team_1_nameNewcastle Utd team_1_nameNorwich\n",
       "T1_Win               -0.3031362              -0.06788392         -0.1555277\n",
       "T2_Win                0.7897612               0.69707015          0.8635064\n",
       "       team_1_namePortsmouth team_1_nameQPR team_1_nameReading\n",
       "T1_Win            -0.1101136      0.2842721        -0.03484861\n",
       "T2_Win             1.1054633      1.1957161         1.76230925\n",
       "       team_1_nameSheffield Utd team_1_nameSouthampton team_1_nameStoke City\n",
       "T1_Win               -0.6301833             -0.3142930             0.2222055\n",
       "T2_Win                1.3250400              0.4829074             0.5534566\n",
       "       team_1_nameSunderland team_1_nameSwansea team_1_nameTottenham\n",
       "T1_Win            -0.5135824         0.04065553            0.1995535\n",
       "T2_Win             1.0849137         0.83775949           -0.0119420\n",
       "       team_1_nameWatford team_1_nameWest Brom team_1_nameWest Ham\n",
       "T1_Win         -1.0057187           -0.1662426           0.3205291\n",
       "T2_Win          0.8209563            1.1252385           1.2702971\n",
       "       team_1_nameWigan team_1_nameWolves team_2_nameAston Villa\n",
       "T1_Win       -0.2919855        -0.2933128             -0.3690937\n",
       "T2_Win        1.1898588         1.3544879             -0.5207667\n",
       "       team_2_nameBirmingham team_2_nameBlackburn team_2_nameBlackpool\n",
       "T1_Win             0.2638428            0.1156167           0.33953270\n",
       "T2_Win            -1.1498704           -0.2356287           0.04492383\n",
       "       team_2_nameBolton team_2_nameBournemouth team_2_nameBrighton\n",
       "T1_Win         0.1752559              0.1533086           0.6642511\n",
       "T2_Win        -0.6569039             -0.9697936          -6.6688656\n",
       "       team_2_nameBurnley team_2_nameCardiff team_2_nameCharlton\n",
       "T1_Win          1.1360581           1.150846         0.007192732\n",
       "T2_Win         -0.3391528          -1.404054        -0.762799473\n",
       "       team_2_nameChelsea team_2_nameCrystal Palace team_2_nameDerby\n",
       "T1_Win         -0.0382924                 0.4326996         1.321099\n",
       "T2_Win          0.2925420                -0.3263651        -6.833201\n",
       "       team_2_nameEverton team_2_nameFulham team_2_nameHuddersfield\n",
       "T1_Win         -0.6166618         0.1124794               0.2484456\n",
       "T2_Win         -1.0281828        -0.9753413              -6.3371580\n",
       "       team_2_nameHull City team_2_nameLeeds team_2_nameLeicester\n",
       "T1_Win            0.2682249         7.213791            0.2661317\n",
       "T2_Win           -1.0490233        -2.347861           -0.8900013\n",
       "       team_2_nameLiverpool team_2_nameManchester City\n",
       "T1_Win           -0.1196871                -0.07223163\n",
       "T2_Win           -0.2912335                -0.53531393\n",
       "       team_2_nameManchester United team_2_nameMiddlesbrough\n",
       "T1_Win                -0.4014285292                0.1048139\n",
       "T2_Win                -0.0008787996               -1.0991907\n",
       "       team_2_nameNewcastle Utd team_2_nameNorwich team_2_namePortsmouth\n",
       "T1_Win                0.1647484          0.3308361             0.5259901\n",
       "T2_Win               -0.8520957         -1.3548430            -0.5203414\n",
       "       team_2_nameQPR team_2_nameReading team_2_nameSheffield Utd\n",
       "T1_Win      1.3913406          0.8406425                2.1019594\n",
       "T2_Win     -0.2611016         -0.6786221                0.6873428\n",
       "       team_2_nameSouthampton team_2_nameStoke City team_2_nameSunderland\n",
       "T1_Win              0.1343682             0.1193655             0.3806942\n",
       "T2_Win             -0.6024697            -0.8289178            -0.6259902\n",
       "       team_2_nameSwansea team_2_nameTottenham team_2_nameWatford\n",
       "T1_Win          0.5120701          -0.06312715           0.439166\n",
       "T2_Win         -0.4537786          -0.45850197          -0.318348\n",
       "       team_2_nameWest Brom team_2_nameWest Ham team_2_nameWigan\n",
       "T1_Win            0.2948573          -0.1519183        0.3705700\n",
       "T2_Win           -0.7983776          -0.8953610       -0.2233138\n",
       "       team_2_nameWolves d_ability_1 d_ability_3 d_ability_4 is_november\n",
       "T1_Win         0.2238339   1.9557956  -9.8773823   6.4144622 -0.04827375\n",
       "T2_Win        -1.0075683  -0.9780554  -0.4508206  -0.2980734 -0.03682223\n",
       "       is_february    d_form_4     d_h2h_2 c_ability_3\n",
       "T1_Win  0.04626233 -0.13602982 -0.07014979    1.882067\n",
       "T2_Win -0.08222251  0.02683987 -0.22088710    1.580914\n",
       "\n",
       "Std. Errors:\n",
       "       (Intercept) team_1_nameAston Villa team_1_nameBirmingham\n",
       "T1_Win    0.337251              0.3101506             0.3845370\n",
       "T2_Win    0.409509              0.3896275             0.4590716\n",
       "       team_1_nameBlackburn team_1_nameBlackpool team_1_nameBolton\n",
       "T1_Win            0.3400195            0.8113976         0.3535422\n",
       "T2_Win            0.4256529            0.8527889         0.4261843\n",
       "       team_1_nameBournemouth team_1_nameBrighton team_1_nameBurnley\n",
       "T1_Win              0.5901666            1.205327          0.4715182\n",
       "T2_Win              0.6412310           17.497308          0.5515073\n",
       "       team_1_nameCardiff team_1_nameCharlton team_1_nameChelsea\n",
       "T1_Win          0.7675811           0.4910875          0.2644561\n",
       "T2_Win          0.7328445           0.5474624          0.4311398\n",
       "       team_1_nameCrystal Palace team_1_nameDerby team_1_nameEverton\n",
       "T1_Win                 0.4290367        1.1942586           0.294193\n",
       "T2_Win                 0.4722563        0.7725613           0.391751\n",
       "       team_1_nameFulham team_1_nameHuddersfield team_1_nameHull City\n",
       "T1_Win         0.3289245                19.53023            0.4564078\n",
       "T2_Win         0.4116612                 1.50489            0.4670247\n",
       "       team_1_nameLeeds team_1_nameLeicester team_1_nameLiverpool\n",
       "T1_Win         1.270320            0.4039963            0.2581157\n",
       "T2_Win         1.285777            0.4944484            0.3792012\n",
       "       team_1_nameManchester City team_1_nameManchester United\n",
       "T1_Win                  0.2900389                    0.2879422\n",
       "T2_Win                  0.4068034                    0.4147741\n",
       "       team_1_nameMiddlesbrough team_1_nameNewcastle Utd team_1_nameNorwich\n",
       "T1_Win                0.3674906                0.3173453          0.3997986\n",
       "T2_Win                0.4490154                0.4016201          0.4576192\n",
       "       team_1_namePortsmouth team_1_nameQPR team_1_nameReading\n",
       "T1_Win             0.3690430      0.5524467          0.5190658\n",
       "T2_Win             0.4471901      0.5946398          0.5652133\n",
       "       team_1_nameSheffield Utd team_1_nameSouthampton team_1_nameStoke City\n",
       "T1_Win                0.8635404              0.3417783             0.3266353\n",
       "T2_Win                0.8539992              0.4269473             0.4180723\n",
       "       team_1_nameSunderland team_1_nameSwansea team_1_nameTottenham\n",
       "T1_Win             0.3136097          0.3648753            0.2744666\n",
       "T2_Win             0.3813509          0.4365128            0.4009157\n",
       "       team_1_nameWatford team_1_nameWest Brom team_1_nameWest Ham\n",
       "T1_Win          0.4867635            0.3228878           0.3246986\n",
       "T2_Win          0.5068661            0.3971626           0.4046917\n",
       "       team_1_nameWigan team_1_nameWolves team_2_nameAston Villa\n",
       "T1_Win        0.3543891         0.4948272              0.3231028\n",
       "T2_Win        0.4283863         0.5363376              0.3312331\n",
       "       team_2_nameBirmingham team_2_nameBlackburn team_2_nameBlackpool\n",
       "T1_Win             0.4020791            0.3586859            0.8703914\n",
       "T2_Win             0.4947784            0.3786781            0.9548904\n",
       "       team_2_nameBolton team_2_nameBournemouth team_2_nameBrighton\n",
       "T1_Win         0.3445704              0.5012566            1.296426\n",
       "T2_Win         0.3816236              0.5902288           18.993300\n",
       "       team_2_nameBurnley team_2_nameCardiff team_2_nameCharlton\n",
       "T1_Win          0.5951708          0.8562125           0.4640835\n",
       "T2_Win          0.6796855          1.2836486           0.5632908\n",
       "       team_2_nameChelsea team_2_nameCrystal Palace team_2_nameDerby\n",
       "T1_Win          0.3140023                 0.4518392        0.8861578\n",
       "T2_Win          0.2818212                 0.4978721       17.2553179\n",
       "       team_2_nameEverton team_2_nameFulham team_2_nameHuddersfield\n",
       "T1_Win          0.2959533         0.3546526                1.149696\n",
       "T2_Win          0.2987575         0.4013739               17.648654\n",
       "       team_2_nameHull City team_2_nameLeeds team_2_nameLeicester\n",
       "T1_Win            0.4445687         22.64613            0.4691994\n",
       "T2_Win            0.5343900         65.00519            0.5183889\n",
       "       team_2_nameLiverpool team_2_nameManchester City\n",
       "T1_Win            0.2984950                  0.3012972\n",
       "T2_Win            0.2806986                  0.2928810\n",
       "       team_2_nameManchester United team_2_nameMiddlesbrough\n",
       "T1_Win                    0.3062269                0.3831558\n",
       "T2_Win                    0.2699844                0.4519435\n",
       "       team_2_nameNewcastle Utd team_2_nameNorwich team_2_namePortsmouth\n",
       "T1_Win                0.3220613          0.4504993             0.3996148\n",
       "T2_Win                0.3507286          0.5552305             0.4570182\n",
       "       team_2_nameQPR team_2_nameReading team_2_nameSheffield Utd\n",
       "T1_Win      0.6194274          0.4999964                 1.104311\n",
       "T2_Win      0.7446657          0.5973409                 1.205321\n",
       "       team_2_nameSouthampton team_2_nameStoke City team_2_nameSunderland\n",
       "T1_Win              0.3848769             0.3810311             0.3842714\n",
       "T2_Win              0.4135934             0.4189504             0.4249099\n",
       "       team_2_nameSwansea team_2_nameTottenham team_2_nameWatford\n",
       "T1_Win          0.4041978            0.2967969          0.5218154\n",
       "T2_Win          0.4390122            0.2909354          0.5719358\n",
       "       team_2_nameWest Brom team_2_nameWest Ham team_2_nameWigan\n",
       "T1_Win            0.3806189           0.3246450        0.3873435\n",
       "T2_Win            0.4249786           0.3492889        0.4174522\n",
       "       team_2_nameWolves d_ability_1 d_ability_3 d_ability_4 is_november\n",
       "T1_Win         0.4908766   0.8757669    4.257175    3.841288  0.04186879\n",
       "T2_Win         0.6191618   0.9960405    4.601660    4.238544  0.04634288\n",
       "       is_february   d_form_4    d_h2h_2 c_ability_3\n",
       "T1_Win  0.04274117 0.09526858 0.05772604   0.7455006\n",
       "T2_Win  0.05017870 0.11351042 0.06319275   0.8179811\n",
       "\n",
       "Residual Deviance: 6750.943 \n",
       "AIC: 7098.943 "
      ]
     },
     "metadata": {},
     "output_type": "display_data"
    }
   ],
   "source": [
    "fit.log %>% summary"
   ]
  },
  {
   "cell_type": "code",
   "execution_count": 20,
   "metadata": {
    "collapsed": true
   },
   "outputs": [],
   "source": [
    "#? glm"
   ]
  },
  {
   "cell_type": "code",
   "execution_count": 21,
   "metadata": {
    "collapsed": true
   },
   "outputs": [],
   "source": [
    "realtest <- test %>% filter(datatype == 'build')"
   ]
  },
  {
   "cell_type": "code",
   "execution_count": 22,
   "metadata": {
    "collapsed": true
   },
   "outputs": [],
   "source": [
    "preds <- predict(fit.log, newdata = realtest, type=\"probs\")"
   ]
  },
  {
   "cell_type": "code",
   "execution_count": 23,
   "metadata": {
    "collapsed": true
   },
   "outputs": [],
   "source": [
    "realtest$team_tie_prob <- (preds %>% as.data.frame)$Draw\n",
    "realtest$team_1_prob <- (preds %>% as.data.frame)$T1_Win\n",
    "realtest$team_2_prob <- (preds %>% as.data.frame)$T2_Win"
   ]
  },
  {
   "cell_type": "code",
   "execution_count": 24,
   "metadata": {},
   "outputs": [
    {
     "data": {
      "text/html": [
       "<table>\n",
       "<thead><tr><th scope=col>id</th><th scope=col>date</th><th scope=col>team_1_name</th><th scope=col>team_1_score</th><th scope=col>team_2_name</th><th scope=col>team_2_score</th><th scope=col>d_ability_1</th><th scope=col>d_ability_3</th><th scope=col>d_ability_4</th><th scope=col>is_november</th><th scope=col>...</th><th scope=col>d_form_4</th><th scope=col>d_h2h_2</th><th scope=col>c_ability_3</th><th scope=col>datatype</th><th scope=col>team_1_prob</th><th scope=col>team_tie_prob</th><th scope=col>team_2_prob</th><th scope=col>team_1_win</th><th scope=col>team_1_draw</th><th scope=col>team_1_result</th></tr></thead>\n",
       "<tbody>\n",
       "\t<tr><td>5969fbdb4825083689956893</td><td>2004-02-11 19:45:00     </td><td>Birmingham              </td><td>3                       </td><td>Everton                 </td><td>0                       </td><td> 0.0031737035           </td><td>-0.090815441            </td><td>-0.093715979            </td><td>-0.3388981              </td><td>...                     </td><td>        NaN             </td><td>     NaN                </td><td>-0.075962014            </td><td>build                   </td><td>       NA               </td><td>          NA            </td><td>          NA            </td><td>1                       </td><td>0                       </td><td>T1_Win                  </td></tr>\n",
       "\t<tr><td>5969fbdb4825083689956892</td><td>2004-02-11 20:00:00     </td><td>Portsmouth              </td><td>0                       </td><td>Chelsea                 </td><td>2                       </td><td> 0.0031737035           </td><td>-0.090815441            </td><td>-0.093715979            </td><td>-0.3388981              </td><td>...                     </td><td>        NaN             </td><td>     NaN                </td><td>-0.075962014            </td><td>build                   </td><td>       NA               </td><td>          NA            </td><td>          NA            </td><td>0                       </td><td>0                       </td><td>T2_Win                  </td></tr>\n",
       "\t<tr><td>5969fbdb4825083689956891</td><td>2004-02-11 20:00:00     </td><td>Manchester United       </td><td>2                       </td><td>Middlesbrough           </td><td>3                       </td><td> 0.0031737035           </td><td>-0.090815441            </td><td>-0.093715979            </td><td>-0.3388981              </td><td>...                     </td><td>        NaN             </td><td>     NaN                </td><td>-0.075962014            </td><td>build                   </td><td>       NA               </td><td>          NA            </td><td>          NA            </td><td>0                       </td><td>0                       </td><td>T2_Win                  </td></tr>\n",
       "\t<tr><td>5969fbdb482508368995688e</td><td>2004-02-11 20:00:00     </td><td>Blackburn               </td><td>1                       </td><td>Newcastle Utd           </td><td>1                       </td><td> 0.0031737035           </td><td>-0.090815441            </td><td>-0.093715979            </td><td>-0.3388981              </td><td>...                     </td><td>        NaN             </td><td>     NaN                </td><td>-0.075962014            </td><td>build                   </td><td>       NA               </td><td>          NA            </td><td>          NA            </td><td>0                       </td><td>1                       </td><td>Draw                    </td></tr>\n",
       "\t<tr><td>5969fbdb482508368995688c</td><td>2004-02-21 12:30:00     </td><td>Chelsea                 </td><td>1                       </td><td>Arsenal                 </td><td>2                       </td><td> 0.0955459476           </td><td>-0.003533786            </td><td>-0.009938975            </td><td>-0.3388981              </td><td>...                     </td><td>        NaN             </td><td>     NaN                </td><td> 0.019892363            </td><td>build                   </td><td>       NA               </td><td>          NA            </td><td>          NA            </td><td>0                       </td><td>0                       </td><td>T2_Win                  </td></tr>\n",
       "\t<tr><td>5969fbdb482508368995688b</td><td>2004-02-21 15:00:00     </td><td>Wolves                  </td><td>2                       </td><td>Fulham                  </td><td>1                       </td><td> 0.0556283841           </td><td>-0.041349435            </td><td>-0.046248257            </td><td>-0.3388981              </td><td>...                     </td><td>        NaN             </td><td>     NaN                </td><td>-0.020702111            </td><td>build                   </td><td>       NA               </td><td>          NA            </td><td>          NA            </td><td>1                       </td><td>0                       </td><td>T1_Win                  </td></tr>\n",
       "\t<tr><td>5969fbdb4825083689956889</td><td>2004-02-21 15:00:00     </td><td>Newcastle Utd           </td><td>2                       </td><td>Middlesbrough           </td><td>1                       </td><td>-0.0367438601           </td><td>-0.128631091            </td><td>-0.130025261            </td><td>-0.3388981              </td><td>...                     </td><td>        NaN             </td><td>     NaN                </td><td>-0.116556488            </td><td>build                   </td><td>       NA               </td><td>          NA            </td><td>          NA            </td><td>1                       </td><td>0                       </td><td>T1_Win                  </td></tr>\n",
       "\t<tr><td>5969fbdb4825083689956888</td><td>2004-02-21 15:00:00     </td><td>Charlton                </td><td>3                       </td><td>Blackburn               </td><td>2                       </td><td>-0.0766614236           </td><td>-0.180446642            </td><td>-0.180026996            </td><td>-0.3388981              </td><td>...                     </td><td>        NaN             </td><td>     NaN                </td><td>-0.177643769            </td><td>build                   </td><td>       NA               </td><td>          NA            </td><td>          NA            </td><td>1                       </td><td>0                       </td><td>T1_Win                  </td></tr>\n",
       "\t<tr><td>5969fbdb482508368995687e</td><td>2004-02-29 12:00:00     </td><td>Leeds                   </td><td>2                       </td><td>Liverpool               </td><td>2                       </td><td>-0.0133238747           </td><td>-0.107043567            </td><td>-0.109309935            </td><td>-0.3388981              </td><td>...                     </td><td>        NaN             </td><td>     NaN                </td><td>-0.089396152            </td><td>build                   </td><td>       NA               </td><td>          NA            </td><td>          NA            </td><td>0                       </td><td>1                       </td><td>Draw                    </td></tr>\n",
       "\t<tr><td>5969fbdb482508368995687c</td><td>2004-03-03 19:45:00     </td><td>Birmingham              </td><td>3                       </td><td>Middlesbrough           </td><td>1                       </td><td> 0.0973840498           </td><td> 0.015225661            </td><td> 0.008468567            </td><td>-0.3388981              </td><td>...                     </td><td>-1.20496903             </td><td>1.425950                </td><td> 0.039026928            </td><td>build                   </td><td>0.5462580               </td><td>0.3205484843            </td><td>1.331935e-01            </td><td>1                       </td><td>0                       </td><td>T1_Win                  </td></tr>\n",
       "\t<tr><td>5969fbdb482508368995687a</td><td>2004-03-09 20:00:00     </td><td>Middlesbrough           </td><td>1                       </td><td>Tottenham               </td><td>0                       </td><td>-0.1142598646           </td><td>-0.202485649            </td><td>-0.201137861            </td><td>-0.3388981              </td><td>...                     </td><td>        NaN             </td><td>     NaN                </td><td>-0.188834355            </td><td>build                   </td><td>       NA               </td><td>          NA            </td><td>          NA            </td><td>1                       </td><td>0                       </td><td>T1_Win                  </td></tr>\n",
       "\t<tr><td>5969fbdb4825083689956874</td><td>2004-03-13 15:00:00     </td><td>Birmingham              </td><td>0                       </td><td>Leicester               </td><td>1                       </td><td> 0.2408960057           </td><td> 0.169360986            </td><td> 0.157257481            </td><td>-0.3388981              </td><td>...                     </td><td> 1.62559523             </td><td>1.380987                </td><td> 0.208301584            </td><td>build                   </td><td>0.4738696               </td><td>0.3360398534            </td><td>1.900906e-01            </td><td>0                       </td><td>0                       </td><td>T2_Win                  </td></tr>\n",
       "\t<tr><td>5969fbdb4825083689956875</td><td>2004-03-13 15:00:00     </td><td>Blackburn               </td><td>0                       </td><td>Arsenal                 </td><td>2                       </td><td>-0.1299943565           </td><td>-0.220673631            </td><td>-0.218408780            </td><td>-0.3388981              </td><td>...                     </td><td>-1.56045084             </td><td>1.356399                </td><td>-0.219894231            </td><td>build                   </td><td>0.4597208               </td><td>0.2316754652            </td><td>3.086037e-01            </td><td>0                       </td><td>0                       </td><td>T2_Win                  </td></tr>\n",
       "\t<tr><td>5969fbda4825083689956873</td><td>2004-03-14 12:30:00     </td><td>Wolves                  </td><td>0                       </td><td>Aston Villa             </td><td>4                       </td><td> 0.0709589633           </td><td>-0.022448947            </td><td>-0.027976152            </td><td>-0.3388981              </td><td>...                     </td><td>-0.37171443             </td><td>1.275602                </td><td>-0.003702449            </td><td>build                   </td><td>0.2907042               </td><td>0.3083563794            </td><td>4.009394e-01            </td><td>0                       </td><td>0                       </td><td>T2_Win                  </td></tr>\n",
       "\t<tr><td>5969fbda4825083689956871</td><td>2004-03-14 15:00:00     </td><td>Tottenham               </td><td>1                       </td><td>Newcastle Utd           </td><td>0                       </td><td>-0.0004900662           </td><td>-0.095983410            </td><td>-0.098624413            </td><td>-0.3388981              </td><td>...                     </td><td> 0.60567608             </td><td>1.346777                </td><td>-0.082707402            </td><td>build                   </td><td>0.6454533               </td><td>0.2858354424            </td><td>6.871126e-02            </td><td>1                       </td><td>0                       </td><td>T1_Win                  </td></tr>\n",
       "\t<tr><td>5969fbda4825083689956870</td><td>2004-03-14 16:05:00     </td><td>Southampton             </td><td>2                       </td><td>Liverpool               </td><td>0                       </td><td>-0.0404410666           </td><td>-0.134366914            </td><td>-0.135468113            </td><td>-0.3388981              </td><td>...                     </td><td>-0.35449366             </td><td>1.382322                </td><td>-0.123856391            </td><td>build                   </td><td>0.4058897               </td><td>0.3558444585            </td><td>2.382659e-01            </td><td>1                       </td><td>0                       </td><td>T1_Win                  </td></tr>\n",
       "\t<tr><td>5969fbd44825083689956868</td><td>2004-03-20 15:00:00     </td><td>Arsenal                 </td><td>2                       </td><td>Bolton                  </td><td>1                       </td><td> 0.4069544350           </td><td> 0.294705004            </td><td> 0.276983724            </td><td>-0.3388981              </td><td>...                     </td><td>-0.99099559             </td><td>1.547910                </td><td> 0.340350928            </td><td>build                   </td><td>0.6761175               </td><td>0.2557865174            </td><td>6.809595e-02            </td><td>1                       </td><td>0                       </td><td>T1_Win                  </td></tr>\n",
       "\t<tr><td>5969fbd4482508368995686a</td><td>2004-03-20 15:00:00     </td><td>Chelsea                 </td><td>2                       </td><td>Fulham                  </td><td>1                       </td><td> 0.1984178258           </td><td> 0.084685920            </td><td> 0.074900519            </td><td>-0.3388981              </td><td>...                     </td><td>-0.19516124             </td><td>1.559772                </td><td> 0.115929882            </td><td>build                   </td><td>0.6862769               </td><td>0.2648482765            </td><td>4.887483e-02            </td><td>1                       </td><td>0                       </td><td>T1_Win                  </td></tr>\n",
       "\t<tr><td>5969fbd4482508368995686c</td><td>2004-03-20 15:00:00     </td><td>Liverpool               </td><td>1                       </td><td>Wolves                  </td><td>0                       </td><td> 0.2144834979           </td><td> 0.129206386            </td><td> 0.128791042            </td><td>-0.3388981              </td><td>...                     </td><td>-0.53620861             </td><td>1.536037                </td><td> 0.168318617            </td><td>build                   </td><td>0.6844426               </td><td>0.2617686327            </td><td>5.378879e-02            </td><td>1                       </td><td>0                       </td><td>T1_Win                  </td></tr>\n",
       "\t<tr><td>5969fbd44825083689956867</td><td>2004-03-20 17:30:00     </td><td>Newcastle Utd           </td><td>3                       </td><td>Charlton                </td><td>1                       </td><td> 0.0815180900           </td><td>-0.013638369            </td><td>-0.019341095            </td><td>-0.3388981              </td><td>...                     </td><td> 1.39086260             </td><td>1.536565                </td><td> 0.014600185            </td><td>build                   </td><td>0.4707813               </td><td>0.3459296735            </td><td>1.832891e-01            </td><td>1                       </td><td>0                       </td><td>T1_Win                  </td></tr>\n",
       "\t<tr><td>5969fbd44825083689956866</td><td>2004-03-21 16:05:00     </td><td>Portsmouth              </td><td>1                       </td><td>Southampton             </td><td>0                       </td><td>-0.2909895053           </td><td>-0.384740426            </td><td>-0.376557783            </td><td>-0.3388981              </td><td>...                     </td><td>-1.14330935             </td><td>1.548438                </td><td>-0.394426536            </td><td>build                   </td><td>0.4974513               </td><td>0.2695365674            </td><td>2.330122e-01            </td><td>1                       </td><td>0                       </td><td>T1_Win                  </td></tr>\n",
       "\t<tr><td>5969fbd44825083689956863</td><td>2004-03-27 15:00:00     </td><td>Southampton             </td><td>1                       </td><td>Tottenham               </td><td>0                       </td><td> 0.0721011691           </td><td>-0.017466217            </td><td>-0.023135602            </td><td>-0.3388981              </td><td>...                     </td><td> 0.97504842             </td><td>1.595822                </td><td> 0.003195343            </td><td>build                   </td><td>0.3943876               </td><td>0.3875758463            </td><td>2.180366e-01            </td><td>1                       </td><td>0                       </td><td>T1_Win                  </td></tr>\n",
       "\t<tr><td>5969fbd34825083689956861</td><td>2004-03-27 15:00:00     </td><td>Everton                 </td><td>1                       </td><td>Middlesbrough           </td><td>1                       </td><td>-0.0124482887           </td><td>-0.090982121            </td><td>-0.093526581            </td><td>-0.3388981              </td><td>...                     </td><td>-0.26085202             </td><td>1.666120                </td><td>-0.073770962            </td><td>build                   </td><td>0.6116222               </td><td>0.2919891556            </td><td>9.638868e-02            </td><td>0                       </td><td>1                       </td><td>Draw                    </td></tr>\n",
       "\t<tr><td>5969fbd3482508368995685d</td><td>2004-03-28 13:00:00     </td><td>Bolton                  </td><td>1                       </td><td>Newcastle Utd           </td><td>0                       </td><td>-0.3348822506           </td><td>-0.437711901            </td><td>-0.428089972            </td><td>-0.3388981              </td><td>...                     </td><td>-1.25859146             </td><td>1.607635                </td><td>-0.456823185            </td><td>build                   </td><td>0.5201266               </td><td>0.2802551020            </td><td>1.996183e-01            </td><td>1                       </td><td>0                       </td><td>T1_Win                  </td></tr>\n",
       "\t<tr><td>5969fbd3482508368995685a</td><td>2004-04-03 14:00:00     </td><td>Wolves                  </td><td>1                       </td><td>Southampton             </td><td>4                       </td><td>-0.3030228554           </td><td>-0.404241262            </td><td>-0.407790816            </td><td>-0.3388981              </td><td>...                     </td><td> 0.59672998             </td><td>1.502312                </td><td>-0.415055106            </td><td>build                   </td><td>0.3432195               </td><td>0.3025729421            </td><td>3.542076e-01            </td><td>0                       </td><td>0                       </td><td>T2_Win                  </td></tr>\n",
       "\t<tr><td>5969fbd34825083689956856</td><td>2004-04-03 14:00:00     </td><td>Fulham                  </td><td>0                       </td><td>Birmingham              </td><td>0                       </td><td>-0.2311064302           </td><td>-0.311375276            </td><td>-0.306655121            </td><td>-0.3388981              </td><td>...                     </td><td>-0.05850546             </td><td>1.526092                </td><td>-0.302720136            </td><td>build                   </td><td>0.6242676               </td><td>0.2346477482            </td><td>1.410846e-01            </td><td>0                       </td><td>1                       </td><td>Draw                    </td></tr>\n",
       "\t<tr><td>5969fbd34825083689956854</td><td>2004-04-04 14:00:00     </td><td>Liverpool               </td><td>4                       </td><td>Blackburn               </td><td>0                       </td><td> 0.2079999307           </td><td> 0.125867160            </td><td> 0.114575532            </td><td>-0.3388981              </td><td>...                     </td><td>-2.44267810             </td><td>1.596837                </td><td> 0.165189507            </td><td>build                   </td><td>0.6638934               </td><td>0.2367240828            </td><td>9.938256e-02            </td><td>1                       </td><td>0                       </td><td>T1_Win                  </td></tr>\n",
       "\t<tr><td>5969fbd34825083689956853</td><td>2004-04-05 19:00:00     </td><td>Leeds                   </td><td>3                       </td><td>Leicester               </td><td>2                       </td><td>-0.1751392563           </td><td>-0.257542094            </td><td>-0.253721004            </td><td>-0.3388981              </td><td>...                     </td><td>-1.14003121             </td><td>1.608650                </td><td>-0.251106962            </td><td>build                   </td><td>0.3710698               </td><td>0.4496008891            </td><td>1.793293e-01            </td><td>1                       </td><td>0                       </td><td>T1_Win                  </td></tr>\n",
       "\t<tr><td>5969fbd34825083689956850</td><td>2004-04-10 14:00:00     </td><td>Manchester City         </td><td>3                       </td><td>Wolves                  </td><td>3                       </td><td> 0.4600997684           </td><td> 0.347545820            </td><td> 0.338317215            </td><td>-0.3388981              </td><td>...                     </td><td> 2.35377419             </td><td>1.608831                </td><td> 0.393410775            </td><td>build                   </td><td>0.6944577               </td><td>0.2364283122            </td><td>6.911402e-02            </td><td>0                       </td><td>1                       </td><td>Draw                    </td></tr>\n",
       "\t<tr><td>5969fbd3482508368995684b</td><td>2004-04-10 14:00:00     </td><td>Blackburn               </td><td>1                       </td><td>Leeds                   </td><td>2                       </td><td>-0.1280917949           </td><td>-0.239893527            </td><td>-0.245829344            </td><td>-0.3388981              </td><td>...                     </td><td> 1.16344562             </td><td>1.503466                </td><td>-0.247519734            </td><td>build                   </td><td>0.9993659               </td><td>0.0005617008            </td><td>7.236745e-05            </td><td>0                       </td><td>0                       </td><td>T2_Win                  </td></tr>\n",
       "\t<tr><td>...</td><td>...</td><td>...</td><td>...</td><td>...</td><td>...</td><td>...</td><td>...</td><td>...</td><td>...</td><td>   </td><td>...</td><td>...</td><td>...</td><td>...</td><td>...</td><td>...</td><td>...</td><td>...</td><td>...</td><td>...</td></tr>\n",
       "\t<tr><td>596a139f4825080eae481135</td><td>2017-08-27 13:30:00     </td><td>West Brom               </td><td>1                       </td><td>Stoke City              </td><td>1                       </td><td> 0.0720867983           </td><td> 0.05923018             </td><td> 0.06391458             </td><td>-0.3388981              </td><td>...                     </td><td> 0.63506964             </td><td>-1.560082               </td><td> 0.01334408             </td><td>build                   </td><td>0.3912316085            </td><td>0.25310584              </td><td>0.3556625477            </td><td>0                       </td><td>1                       </td><td>Draw                    </td></tr>\n",
       "\t<tr><td>596a139f4825080eae481137</td><td>2017-08-27 15:00:00     </td><td>Tottenham               </td><td>1                       </td><td>Burnley                 </td><td>1                       </td><td> 2.1186046052           </td><td> 2.21662242             </td><td> 2.22312401             </td><td>-0.3388981              </td><td>...                     </td><td> 1.72491315             </td><td>-1.530181               </td><td> 2.23380802             </td><td>build                   </td><td>0.8669003241            </td><td>0.07943037              </td><td>0.0536693104            </td><td>0                       </td><td>1                       </td><td>Draw                    </td></tr>\n",
       "\t<tr><td>59a1aa8b4825082d92c4932a</td><td>2017-09-09 14:00:00     </td><td>Everton                 </td><td>0                       </td><td>Tottenham               </td><td>3                       </td><td>-1.2601568184           </td><td>-1.11700239             </td><td>-1.11975206             </td><td>-0.3388981              </td><td>...                     </td><td>-0.45607350             </td><td>-1.385792               </td><td>-1.14636439             </td><td>build                   </td><td>0.2562217435            </td><td>0.28179640              </td><td>0.4619818570            </td><td>0                       </td><td>0                       </td><td>T2_Win                  </td></tr>\n",
       "\t<tr><td>59a1aa8c4825082d92c4932d</td><td>2017-09-09 16:30:00     </td><td>Stoke City              </td><td>2                       </td><td>Manchester United       </td><td>2                       </td><td>-1.3971583123           </td><td>-1.32724446             </td><td>-1.32349886             </td><td>-0.3388981              </td><td>...                     </td><td>-0.88772451             </td><td>-1.411781               </td><td>-1.39480806             </td><td>build                   </td><td>0.2008978016            </td><td>0.25251206              </td><td>0.5465901373            </td><td>0                       </td><td>1                       </td><td>Draw                    </td></tr>\n",
       "\t<tr><td>59b050fb482508306303517a</td><td>2017-09-16 14:00:00     </td><td>Watford                 </td><td>0                       </td><td>Manchester City         </td><td>6                       </td><td>-2.1162363282           </td><td>-2.05206914             </td><td>-2.06878527             </td><td>-0.3388981              </td><td>...                     </td><td>-1.18728258             </td><td>-1.557738               </td><td>-2.04398807             </td><td>build                   </td><td>0.0782497118            </td><td>0.29462938              </td><td>0.6271209050            </td><td>0                       </td><td>0                       </td><td>T2_Win                  </td></tr>\n",
       "\t<tr><td>59b050fa4825083063035179</td><td>2017-09-16 14:00:00     </td><td>Newcastle Utd           </td><td>2                       </td><td>Stoke City              </td><td>1                       </td><td> 0.0254308809           </td><td> 0.09092370             </td><td> 0.10087938             </td><td>-0.3388981              </td><td>...                     </td><td> 0.92223484             </td><td>-1.568265               </td><td> 0.15948707             </td><td>build                   </td><td>0.4550966289            </td><td>0.24895856              </td><td>0.2959448116            </td><td>1                       </td><td>0                       </td><td>T1_Win                  </td></tr>\n",
       "\t<tr><td>59b050fe482508306303517d</td><td>2017-09-17 12:30:00     </td><td>Chelsea                 </td><td>0                       </td><td>Arsenal                 </td><td>0                       </td><td> 0.5426075937           </td><td> 0.58790266             </td><td> 0.59025572             </td><td>-0.3388981              </td><td>...                     </td><td>-1.75404139             </td><td>-1.585266               </td><td> 0.57251407             </td><td>build                   </td><td>0.6165692069            </td><td>0.19717641              </td><td>0.1862543875            </td><td>0                       </td><td>1                       </td><td>Draw                    </td></tr>\n",
       "\t<tr><td>59b50c7d4825080c2d524c8b</td><td>2017-09-23 14:00:00     </td><td>Manchester City         </td><td>5                       </td><td>Crystal Palace          </td><td>0                       </td><td> 2.3744625651           </td><td> 2.38300010             </td><td> 2.39624224             </td><td>-0.3388981              </td><td>...                     </td><td>-0.14714746             </td><td>-1.454998               </td><td> 2.37713332             </td><td>build                   </td><td>0.8604837563            </td><td>0.07692978              </td><td>0.0625864670            </td><td>1                       </td><td>0                       </td><td>T1_Win                  </td></tr>\n",
       "\t<tr><td>59b82df2482508155ff069e3</td><td>2017-09-24 15:00:00     </td><td>Brighton                </td><td>1                       </td><td>Newcastle Utd           </td><td>0                       </td><td>-0.3974735593           </td><td>-0.33858167             </td><td>-0.32776559             </td><td>-0.3388981              </td><td>...                     </td><td>-0.53626080             </td><td>-1.600063               </td><td>-0.37073981             </td><td>build                   </td><td>0.2375149920            </td><td>0.76168929              </td><td>0.0007957159            </td><td>1                       </td><td>0                       </td><td>T1_Win                  </td></tr>\n",
       "\t<tr><td>59c1572f48250809e4273431</td><td>2017-09-30 14:00:00     </td><td>West Brom               </td><td>2                       </td><td>Watford                 </td><td>2                       </td><td> 0.3020740526           </td><td> 0.22163320             </td><td> 0.24121039             </td><td>-0.3388981              </td><td>...                     </td><td> 0.60404124             </td><td>-1.680823               </td><td> 0.13156754             </td><td>build                   </td><td>0.4655280947            </td><td>0.17586847              </td><td>0.3586034388            </td><td>0                       </td><td>1                       </td><td>Draw                    </td></tr>\n",
       "\t<tr><td>59c1572d48250809e427342e</td><td>2017-09-30 14:00:00     </td><td>Bournemouth             </td><td>0                       </td><td>Leicester               </td><td>0                       </td><td>-0.4166545456           </td><td>-0.41487565             </td><td>-0.40253436             </td><td>-0.3388981              </td><td>...                     </td><td> 0.01226989             </td><td>-1.672423               </td><td>-0.36862708             </td><td>build                   </td><td>0.5153527876            </td><td>0.14399533              </td><td>0.3406518797            </td><td>0                       </td><td>1                       </td><td>Draw                    </td></tr>\n",
       "\t<tr><td>59c1573048250809e4273433</td><td>2017-09-30 16:30:00     </td><td>Chelsea                 </td><td>0                       </td><td>Manchester City         </td><td>1                       </td><td>-0.3190697968           </td><td>-0.16680610             </td><td>-0.18568149             </td><td>-0.3388981              </td><td>...                     </td><td>-1.35585020             </td><td>-1.597280               </td><td>-0.20809879             </td><td>build                   </td><td>0.4560872907            </td><td>0.32547012              </td><td>0.2184425898            </td><td>0                       </td><td>0                       </td><td>T2_Win                  </td></tr>\n",
       "\t<tr><td>59d153c948250812289fb7e0</td><td>2017-10-14 16:30:00     </td><td>Watford                 </td><td>2                       </td><td>Arsenal                 </td><td>1                       </td><td>-1.6373854170           </td><td>-1.69542119             </td><td>-1.69623654             </td><td>-0.3388981              </td><td>...                     </td><td>-1.61666763             </td><td>-1.424283               </td><td>-1.70778963             </td><td>build                   </td><td>0.1079606961            </td><td>0.23277384              </td><td>0.6592654628            </td><td>1                       </td><td>0                       </td><td>T1_Win                  </td></tr>\n",
       "\t<tr><td>59dbb6394825080bdbe14822</td><td>2017-10-20 19:00:00     </td><td>West Ham                </td><td>0                       </td><td>Brighton                </td><td>3                       </td><td> 0.2218080810           </td><td> 0.18450624             </td><td> 0.16586436             </td><td>-0.3388981              </td><td>...                     </td><td> 1.74405286             </td><td>-1.529275               </td><td> 0.05451046             </td><td>build                   </td><td>0.7496807235            </td><td>0.24930042              </td><td>0.0010188590            </td><td>0                       </td><td>0                       </td><td>T2_Win                  </td></tr>\n",
       "\t<tr><td>59dbb63c4825080bdbe14827</td><td>2017-10-21 14:00:00     </td><td>Stoke City              </td><td>1                       </td><td>Bournemouth             </td><td>2                       </td><td>-0.0457031584           </td><td>-0.05921865             </td><td>-0.08032392             </td><td>-0.3388981              </td><td>...                     </td><td> 0.78718385             </td><td>-1.478259               </td><td>-0.08707799             </td><td>build                   </td><td>0.5291292628            </td><td>0.27434979              </td><td>0.1965209500            </td><td>0                       </td><td>0                       </td><td>T2_Win                  </td></tr>\n",
       "\t<tr><td>59dbb63a4825080bdbe14824</td><td>2017-10-21 14:00:00     </td><td>Huddersfield            </td><td>2                       </td><td>Manchester United       </td><td>1                       </td><td>-2.6385284338           </td><td>-2.59062639             </td><td>-2.59090682             </td><td>-0.3388981              </td><td>...                     </td><td>-2.30242756             </td><td>-1.475952               </td><td>-2.65773164             </td><td>build                   </td><td>0.0004594141            </td><td>0.37084758              </td><td>0.6286930018            </td><td>1                       </td><td>0                       </td><td>T1_Win                  </td></tr>\n",
       "\t<tr><td>59e2710748250813c1940caf</td><td>2017-10-28 11:30:00     </td><td>Manchester United       </td><td>1                       </td><td>Tottenham               </td><td>0                       </td><td>-0.6431655851           </td><td>-0.49154787             </td><td>-0.49410341             </td><td>-0.3388981              </td><td>...                     </td><td>-1.60249905             </td><td>-1.450792               </td><td>-0.48329624             </td><td>build                   </td><td>0.4911583062            </td><td>0.18705923              </td><td>0.3217824635            </td><td>1                       </td><td>0                       </td><td>T1_Win                  </td></tr>\n",
       "\t<tr><td>59e2710a48250813c1940cb4</td><td>2017-10-28 14:00:00     </td><td>West Brom               </td><td>2                       </td><td>Manchester City         </td><td>3                       </td><td>-2.4504268414           </td><td>-2.31056053             </td><td>-2.31464977             </td><td>-0.3388981              </td><td>...                     </td><td>-0.70306361             </td><td>-1.429808               </td><td>-2.38101110             </td><td>build                   </td><td>0.0991239593            </td><td>0.23730094              </td><td>0.6635751029            </td><td>0                       </td><td>0                       </td><td>T2_Win                  </td></tr>\n",
       "\t<tr><td>59e2710848250813c1940cb0</td><td>2017-10-28 14:00:00     </td><td>Arsenal                 </td><td>2                       </td><td>Swansea                 </td><td>1                       </td><td> 1.4862203536           </td><td> 1.55371566             </td><td> 1.55286818             </td><td>-0.3388981              </td><td>...                     </td><td>-0.51095644             </td><td>-1.447063               </td><td> 1.50836953             </td><td>build                   </td><td>0.7454775053            </td><td>0.16449733              </td><td>0.0900251674            </td><td>1                       </td><td>0                       </td><td>T1_Win                  </td></tr>\n",
       "\t<tr><td>59ee280a4825080b9ed279c9</td><td>2017-11-04 12:30:00     </td><td>Stoke City              </td><td>2                       </td><td>Leicester               </td><td>2                       </td><td>-0.5087016085           </td><td>-0.45302588             </td><td>-0.45815774             </td><td> 2.9507397              </td><td>...                     </td><td> 0.15109328             </td><td>-1.443164               </td><td>-0.34560907             </td><td>build                   </td><td>0.5269912479            </td><td>0.24424919              </td><td>0.2287595613            </td><td>0                       </td><td>1                       </td><td>Draw                    </td></tr>\n",
       "\t<tr><td>59ee280a4825080b9ed279ca</td><td>2017-11-04 15:00:00     </td><td>Huddersfield            </td><td>1                       </td><td>West Brom               </td><td>0                       </td><td>-0.9043192571           </td><td>-0.92255084             </td><td>-0.93164496             </td><td> 2.9507397              </td><td>...                     </td><td> 0.63375750             </td><td>-1.524457               </td><td>-0.95211823             </td><td>build                   </td><td>0.0019468156            </td><td>0.63233746              </td><td>0.3657157291            </td><td>1                       </td><td>0                       </td><td>T1_Win                  </td></tr>\n",
       "\t<tr><td>59ee280a4825080b9ed279cd</td><td>2017-11-04 15:00:00     </td><td>Swansea                 </td><td>0                       </td><td>Brighton                </td><td>1                       </td><td>-0.0004318763           </td><td>-0.01751097             </td><td>-0.03043777             </td><td> 2.9507397              </td><td>...                     </td><td> 0.53685654             </td><td>-1.507358               </td><td>-0.11333100             </td><td>build                   </td><td>0.6917195633            </td><td>0.30750998              </td><td>0.0007704556            </td><td>0                       </td><td>0                       </td><td>T2_Win                  </td></tr>\n",
       "\t<tr><td>59ee280a4825080b9ed279ce</td><td>2017-11-04 17:30:00     </td><td>West Ham                </td><td>1                       </td><td>Liverpool               </td><td>4                       </td><td>-1.3128606904           </td><td>-1.29139788             </td><td>-1.29997503             </td><td> 2.9507397              </td><td>...                     </td><td>-1.10085591             </td><td>-1.603455               </td><td>-1.33417581             </td><td>build                   </td><td>0.2175790546            </td><td>0.19475058              </td><td>0.5876703652            </td><td>0                       </td><td>0                       </td><td>T2_Win                  </td></tr>\n",
       "\t<tr><td>59fe4df04825080beffcd881</td><td>2017-11-18 12:30:00     </td><td>Arsenal                 </td><td>2                       </td><td>Tottenham               </td><td>0                       </td><td>-0.7668277960           </td><td>-0.62375575             </td><td>-0.63293496             </td><td> 2.9507397              </td><td>...                     </td><td>-1.40079293             </td><td>-1.481643               </td><td>-0.67569428             </td><td>build                   </td><td>0.3411070209            </td><td>0.38826411              </td><td>0.2706288701            </td><td>1                       </td><td>0                       </td><td>T1_Win                  </td></tr>\n",
       "\t<tr><td>5a071f9b482508420afac456</td><td>2017-11-24 20:00:00     </td><td>West Ham                </td><td>1                       </td><td>Leicester               </td><td>1                       </td><td>-0.6482328627           </td><td>-0.68338793             </td><td>-0.67953308             </td><td> 2.9507397              </td><td>...                     </td><td> 0.02504942             </td><td>-1.379755               </td><td>-0.61070018             </td><td>build                   </td><td>0.4940690529            </td><td>0.18850087              </td><td>0.3174300757            </td><td>0                       </td><td>1                       </td><td>Draw                    </td></tr>\n",
       "\t<tr><td>5a071f9b482508420afac45b</td><td>2017-11-25 15:00:00     </td><td>Tottenham               </td><td>1                       </td><td>West Brom               </td><td>1                       </td><td> 2.1846502262           </td><td> 2.19375072             </td><td> 2.19934975             </td><td> 2.9507397              </td><td>...                     </td><td> 0.76683267             </td><td>-1.382350               </td><td> 2.38756521             </td><td>build                   </td><td>0.8377455343            </td><td>0.11315418              </td><td>0.0491002822            </td><td>0                       </td><td>1                       </td><td>Draw                    </td></tr>\n",
       "\t<tr><td>5a08cab648250813a77a4033</td><td>2017-11-26 14:00:00     </td><td>Burnley                 </td><td>0                       </td><td>Arsenal                 </td><td>1                       </td><td>-1.1183712933           </td><td>-1.05011711             </td><td>-1.04203813             </td><td> 2.9507397              </td><td>...                     </td><td>-0.87514114             </td><td>-1.425670               </td><td>-1.03635310             </td><td>build                   </td><td>0.2681345422            </td><td>0.23357461              </td><td>0.4982908506            </td><td>0                       </td><td>0                       </td><td>T2_Win                  </td></tr>\n",
       "\t<tr><td>5a08cab648250813a77a4034</td><td>2017-11-26 16:00:00     </td><td>Huddersfield            </td><td>1                       </td><td>Manchester City         </td><td>2                       </td><td>-3.4334100368           </td><td>-3.25347222             </td><td>-3.26790241             </td><td> 2.9507397              </td><td>...                     </td><td>-0.28070867             </td><td>-1.457800               </td><td>-3.26777315             </td><td>build                   </td><td>0.0002986847            </td><td>0.44109810              </td><td>0.5586032137            </td><td>0                       </td><td>0                       </td><td>T2_Win                  </td></tr>\n",
       "\t<tr><td>5a0b68884825080defdb7bce</td><td>2017-11-28 19:45:00     </td><td>Brighton                </td><td>0                       </td><td>Crystal Palace          </td><td>0                       </td><td> 0.2628003379           </td><td> 0.16427798             </td><td> 0.16713026             </td><td> 2.9507397              </td><td>...                     </td><td>-0.11236921             </td><td>-1.451563               </td><td> 0.19129301             </td><td>build                   </td><td>0.3614943911            </td><td>0.63764882              </td><td>0.0008567890            </td><td>0                       </td><td>1                       </td><td>Draw                    </td></tr>\n",
       "\t<tr><td>5a0e063f48250809b11b6aef</td><td>2017-11-29 20:00:00     </td><td>Stoke City              </td><td>0                       </td><td>Liverpool               </td><td>3                       </td><td>-1.4854460901           </td><td>-1.36276606             </td><td>-1.36715490             </td><td> 2.9507397              </td><td>...                     </td><td>-0.98729363             </td><td>-1.503022               </td><td>-1.38122844             </td><td>build                   </td><td>0.2413019446            </td><td>0.28375556              </td><td>0.4749424925            </td><td>0                       </td><td>0                       </td><td>T2_Win                  </td></tr>\n",
       "</tbody>\n",
       "</table>\n"
      ],
      "text/latex": [
       "\\begin{tabular}{r|lllllllllllllllllllll}\n",
       " id & date & team\\_1\\_name & team\\_1\\_score & team\\_2\\_name & team\\_2\\_score & d\\_ability\\_1 & d\\_ability\\_3 & d\\_ability\\_4 & is\\_november & ... & d\\_form\\_4 & d\\_h2h\\_2 & c\\_ability\\_3 & datatype & team\\_1\\_prob & team\\_tie\\_prob & team\\_2\\_prob & team\\_1\\_win & team\\_1\\_draw & team\\_1\\_result\\\\\n",
       "\\hline\n",
       "\t 5969fbdb4825083689956893 & 2004-02-11 19:45:00      & Birmingham               & 3                        & Everton                  & 0                        &  0.0031737035            & -0.090815441             & -0.093715979             & -0.3388981               & ...                      &         NaN              &      NaN                 & -0.075962014             & build                    &        NA                &           NA             &           NA             & 1                        & 0                        & T1\\_Win                \\\\\n",
       "\t 5969fbdb4825083689956892 & 2004-02-11 20:00:00      & Portsmouth               & 0                        & Chelsea                  & 2                        &  0.0031737035            & -0.090815441             & -0.093715979             & -0.3388981               & ...                      &         NaN              &      NaN                 & -0.075962014             & build                    &        NA                &           NA             &           NA             & 0                        & 0                        & T2\\_Win                \\\\\n",
       "\t 5969fbdb4825083689956891 & 2004-02-11 20:00:00      & Manchester United        & 2                        & Middlesbrough            & 3                        &  0.0031737035            & -0.090815441             & -0.093715979             & -0.3388981               & ...                      &         NaN              &      NaN                 & -0.075962014             & build                    &        NA                &           NA             &           NA             & 0                        & 0                        & T2\\_Win                \\\\\n",
       "\t 5969fbdb482508368995688e & 2004-02-11 20:00:00      & Blackburn                & 1                        & Newcastle Utd            & 1                        &  0.0031737035            & -0.090815441             & -0.093715979             & -0.3388981               & ...                      &         NaN              &      NaN                 & -0.075962014             & build                    &        NA                &           NA             &           NA             & 0                        & 1                        & Draw                    \\\\\n",
       "\t 5969fbdb482508368995688c & 2004-02-21 12:30:00      & Chelsea                  & 1                        & Arsenal                  & 2                        &  0.0955459476            & -0.003533786             & -0.009938975             & -0.3388981               & ...                      &         NaN              &      NaN                 &  0.019892363             & build                    &        NA                &           NA             &           NA             & 0                        & 0                        & T2\\_Win                \\\\\n",
       "\t 5969fbdb482508368995688b & 2004-02-21 15:00:00      & Wolves                   & 2                        & Fulham                   & 1                        &  0.0556283841            & -0.041349435             & -0.046248257             & -0.3388981               & ...                      &         NaN              &      NaN                 & -0.020702111             & build                    &        NA                &           NA             &           NA             & 1                        & 0                        & T1\\_Win                \\\\\n",
       "\t 5969fbdb4825083689956889 & 2004-02-21 15:00:00      & Newcastle Utd            & 2                        & Middlesbrough            & 1                        & -0.0367438601            & -0.128631091             & -0.130025261             & -0.3388981               & ...                      &         NaN              &      NaN                 & -0.116556488             & build                    &        NA                &           NA             &           NA             & 1                        & 0                        & T1\\_Win                \\\\\n",
       "\t 5969fbdb4825083689956888 & 2004-02-21 15:00:00      & Charlton                 & 3                        & Blackburn                & 2                        & -0.0766614236            & -0.180446642             & -0.180026996             & -0.3388981               & ...                      &         NaN              &      NaN                 & -0.177643769             & build                    &        NA                &           NA             &           NA             & 1                        & 0                        & T1\\_Win                \\\\\n",
       "\t 5969fbdb482508368995687e & 2004-02-29 12:00:00      & Leeds                    & 2                        & Liverpool                & 2                        & -0.0133238747            & -0.107043567             & -0.109309935             & -0.3388981               & ...                      &         NaN              &      NaN                 & -0.089396152             & build                    &        NA                &           NA             &           NA             & 0                        & 1                        & Draw                    \\\\\n",
       "\t 5969fbdb482508368995687c & 2004-03-03 19:45:00      & Birmingham               & 3                        & Middlesbrough            & 1                        &  0.0973840498            &  0.015225661             &  0.008468567             & -0.3388981               & ...                      & -1.20496903              & 1.425950                 &  0.039026928             & build                    & 0.5462580                & 0.3205484843             & 1.331935e-01             & 1                        & 0                        & T1\\_Win                \\\\\n",
       "\t 5969fbdb482508368995687a & 2004-03-09 20:00:00      & Middlesbrough            & 1                        & Tottenham                & 0                        & -0.1142598646            & -0.202485649             & -0.201137861             & -0.3388981               & ...                      &         NaN              &      NaN                 & -0.188834355             & build                    &        NA                &           NA             &           NA             & 1                        & 0                        & T1\\_Win                \\\\\n",
       "\t 5969fbdb4825083689956874 & 2004-03-13 15:00:00      & Birmingham               & 0                        & Leicester                & 1                        &  0.2408960057            &  0.169360986             &  0.157257481             & -0.3388981               & ...                      &  1.62559523              & 1.380987                 &  0.208301584             & build                    & 0.4738696                & 0.3360398534             & 1.900906e-01             & 0                        & 0                        & T2\\_Win                \\\\\n",
       "\t 5969fbdb4825083689956875 & 2004-03-13 15:00:00      & Blackburn                & 0                        & Arsenal                  & 2                        & -0.1299943565            & -0.220673631             & -0.218408780             & -0.3388981               & ...                      & -1.56045084              & 1.356399                 & -0.219894231             & build                    & 0.4597208                & 0.2316754652             & 3.086037e-01             & 0                        & 0                        & T2\\_Win                \\\\\n",
       "\t 5969fbda4825083689956873 & 2004-03-14 12:30:00      & Wolves                   & 0                        & Aston Villa              & 4                        &  0.0709589633            & -0.022448947             & -0.027976152             & -0.3388981               & ...                      & -0.37171443              & 1.275602                 & -0.003702449             & build                    & 0.2907042                & 0.3083563794             & 4.009394e-01             & 0                        & 0                        & T2\\_Win                \\\\\n",
       "\t 5969fbda4825083689956871 & 2004-03-14 15:00:00      & Tottenham                & 1                        & Newcastle Utd            & 0                        & -0.0004900662            & -0.095983410             & -0.098624413             & -0.3388981               & ...                      &  0.60567608              & 1.346777                 & -0.082707402             & build                    & 0.6454533                & 0.2858354424             & 6.871126e-02             & 1                        & 0                        & T1\\_Win                \\\\\n",
       "\t 5969fbda4825083689956870 & 2004-03-14 16:05:00      & Southampton              & 2                        & Liverpool                & 0                        & -0.0404410666            & -0.134366914             & -0.135468113             & -0.3388981               & ...                      & -0.35449366              & 1.382322                 & -0.123856391             & build                    & 0.4058897                & 0.3558444585             & 2.382659e-01             & 1                        & 0                        & T1\\_Win                \\\\\n",
       "\t 5969fbd44825083689956868 & 2004-03-20 15:00:00      & Arsenal                  & 2                        & Bolton                   & 1                        &  0.4069544350            &  0.294705004             &  0.276983724             & -0.3388981               & ...                      & -0.99099559              & 1.547910                 &  0.340350928             & build                    & 0.6761175                & 0.2557865174             & 6.809595e-02             & 1                        & 0                        & T1\\_Win                \\\\\n",
       "\t 5969fbd4482508368995686a & 2004-03-20 15:00:00      & Chelsea                  & 2                        & Fulham                   & 1                        &  0.1984178258            &  0.084685920             &  0.074900519             & -0.3388981               & ...                      & -0.19516124              & 1.559772                 &  0.115929882             & build                    & 0.6862769                & 0.2648482765             & 4.887483e-02             & 1                        & 0                        & T1\\_Win                \\\\\n",
       "\t 5969fbd4482508368995686c & 2004-03-20 15:00:00      & Liverpool                & 1                        & Wolves                   & 0                        &  0.2144834979            &  0.129206386             &  0.128791042             & -0.3388981               & ...                      & -0.53620861              & 1.536037                 &  0.168318617             & build                    & 0.6844426                & 0.2617686327             & 5.378879e-02             & 1                        & 0                        & T1\\_Win                \\\\\n",
       "\t 5969fbd44825083689956867 & 2004-03-20 17:30:00      & Newcastle Utd            & 3                        & Charlton                 & 1                        &  0.0815180900            & -0.013638369             & -0.019341095             & -0.3388981               & ...                      &  1.39086260              & 1.536565                 &  0.014600185             & build                    & 0.4707813                & 0.3459296735             & 1.832891e-01             & 1                        & 0                        & T1\\_Win                \\\\\n",
       "\t 5969fbd44825083689956866 & 2004-03-21 16:05:00      & Portsmouth               & 1                        & Southampton              & 0                        & -0.2909895053            & -0.384740426             & -0.376557783             & -0.3388981               & ...                      & -1.14330935              & 1.548438                 & -0.394426536             & build                    & 0.4974513                & 0.2695365674             & 2.330122e-01             & 1                        & 0                        & T1\\_Win                \\\\\n",
       "\t 5969fbd44825083689956863 & 2004-03-27 15:00:00      & Southampton              & 1                        & Tottenham                & 0                        &  0.0721011691            & -0.017466217             & -0.023135602             & -0.3388981               & ...                      &  0.97504842              & 1.595822                 &  0.003195343             & build                    & 0.3943876                & 0.3875758463             & 2.180366e-01             & 1                        & 0                        & T1\\_Win                \\\\\n",
       "\t 5969fbd34825083689956861 & 2004-03-27 15:00:00      & Everton                  & 1                        & Middlesbrough            & 1                        & -0.0124482887            & -0.090982121             & -0.093526581             & -0.3388981               & ...                      & -0.26085202              & 1.666120                 & -0.073770962             & build                    & 0.6116222                & 0.2919891556             & 9.638868e-02             & 0                        & 1                        & Draw                    \\\\\n",
       "\t 5969fbd3482508368995685d & 2004-03-28 13:00:00      & Bolton                   & 1                        & Newcastle Utd            & 0                        & -0.3348822506            & -0.437711901             & -0.428089972             & -0.3388981               & ...                      & -1.25859146              & 1.607635                 & -0.456823185             & build                    & 0.5201266                & 0.2802551020             & 1.996183e-01             & 1                        & 0                        & T1\\_Win                \\\\\n",
       "\t 5969fbd3482508368995685a & 2004-04-03 14:00:00      & Wolves                   & 1                        & Southampton              & 4                        & -0.3030228554            & -0.404241262             & -0.407790816             & -0.3388981               & ...                      &  0.59672998              & 1.502312                 & -0.415055106             & build                    & 0.3432195                & 0.3025729421             & 3.542076e-01             & 0                        & 0                        & T2\\_Win                \\\\\n",
       "\t 5969fbd34825083689956856 & 2004-04-03 14:00:00      & Fulham                   & 0                        & Birmingham               & 0                        & -0.2311064302            & -0.311375276             & -0.306655121             & -0.3388981               & ...                      & -0.05850546              & 1.526092                 & -0.302720136             & build                    & 0.6242676                & 0.2346477482             & 1.410846e-01             & 0                        & 1                        & Draw                    \\\\\n",
       "\t 5969fbd34825083689956854 & 2004-04-04 14:00:00      & Liverpool                & 4                        & Blackburn                & 0                        &  0.2079999307            &  0.125867160             &  0.114575532             & -0.3388981               & ...                      & -2.44267810              & 1.596837                 &  0.165189507             & build                    & 0.6638934                & 0.2367240828             & 9.938256e-02             & 1                        & 0                        & T1\\_Win                \\\\\n",
       "\t 5969fbd34825083689956853 & 2004-04-05 19:00:00      & Leeds                    & 3                        & Leicester                & 2                        & -0.1751392563            & -0.257542094             & -0.253721004             & -0.3388981               & ...                      & -1.14003121              & 1.608650                 & -0.251106962             & build                    & 0.3710698                & 0.4496008891             & 1.793293e-01             & 1                        & 0                        & T1\\_Win                \\\\\n",
       "\t 5969fbd34825083689956850 & 2004-04-10 14:00:00      & Manchester City          & 3                        & Wolves                   & 3                        &  0.4600997684            &  0.347545820             &  0.338317215             & -0.3388981               & ...                      &  2.35377419              & 1.608831                 &  0.393410775             & build                    & 0.6944577                & 0.2364283122             & 6.911402e-02             & 0                        & 1                        & Draw                    \\\\\n",
       "\t 5969fbd3482508368995684b & 2004-04-10 14:00:00      & Blackburn                & 1                        & Leeds                    & 2                        & -0.1280917949            & -0.239893527             & -0.245829344             & -0.3388981               & ...                      &  1.16344562              & 1.503466                 & -0.247519734             & build                    & 0.9993659                & 0.0005617008             & 7.236745e-05             & 0                        & 0                        & T2\\_Win                \\\\\n",
       "\t ... & ... & ... & ... & ... & ... & ... & ... & ... & ... &     & ... & ... & ... & ... & ... & ... & ... & ... & ... & ...\\\\\n",
       "\t 596a139f4825080eae481135 & 2017-08-27 13:30:00      & West Brom                & 1                        & Stoke City               & 1                        &  0.0720867983            &  0.05923018              &  0.06391458              & -0.3388981               & ...                      &  0.63506964              & -1.560082                &  0.01334408              & build                    & 0.3912316085             & 0.25310584               & 0.3556625477             & 0                        & 1                        & Draw                    \\\\\n",
       "\t 596a139f4825080eae481137 & 2017-08-27 15:00:00      & Tottenham                & 1                        & Burnley                  & 1                        &  2.1186046052            &  2.21662242              &  2.22312401              & -0.3388981               & ...                      &  1.72491315              & -1.530181                &  2.23380802              & build                    & 0.8669003241             & 0.07943037               & 0.0536693104             & 0                        & 1                        & Draw                    \\\\\n",
       "\t 59a1aa8b4825082d92c4932a & 2017-09-09 14:00:00      & Everton                  & 0                        & Tottenham                & 3                        & -1.2601568184            & -1.11700239              & -1.11975206              & -0.3388981               & ...                      & -0.45607350              & -1.385792                & -1.14636439              & build                    & 0.2562217435             & 0.28179640               & 0.4619818570             & 0                        & 0                        & T2\\_Win                \\\\\n",
       "\t 59a1aa8c4825082d92c4932d & 2017-09-09 16:30:00      & Stoke City               & 2                        & Manchester United        & 2                        & -1.3971583123            & -1.32724446              & -1.32349886              & -0.3388981               & ...                      & -0.88772451              & -1.411781                & -1.39480806              & build                    & 0.2008978016             & 0.25251206               & 0.5465901373             & 0                        & 1                        & Draw                    \\\\\n",
       "\t 59b050fb482508306303517a & 2017-09-16 14:00:00      & Watford                  & 0                        & Manchester City          & 6                        & -2.1162363282            & -2.05206914              & -2.06878527              & -0.3388981               & ...                      & -1.18728258              & -1.557738                & -2.04398807              & build                    & 0.0782497118             & 0.29462938               & 0.6271209050             & 0                        & 0                        & T2\\_Win                \\\\\n",
       "\t 59b050fa4825083063035179 & 2017-09-16 14:00:00      & Newcastle Utd            & 2                        & Stoke City               & 1                        &  0.0254308809            &  0.09092370              &  0.10087938              & -0.3388981               & ...                      &  0.92223484              & -1.568265                &  0.15948707              & build                    & 0.4550966289             & 0.24895856               & 0.2959448116             & 1                        & 0                        & T1\\_Win                \\\\\n",
       "\t 59b050fe482508306303517d & 2017-09-17 12:30:00      & Chelsea                  & 0                        & Arsenal                  & 0                        &  0.5426075937            &  0.58790266              &  0.59025572              & -0.3388981               & ...                      & -1.75404139              & -1.585266                &  0.57251407              & build                    & 0.6165692069             & 0.19717641               & 0.1862543875             & 0                        & 1                        & Draw                    \\\\\n",
       "\t 59b50c7d4825080c2d524c8b & 2017-09-23 14:00:00      & Manchester City          & 5                        & Crystal Palace           & 0                        &  2.3744625651            &  2.38300010              &  2.39624224              & -0.3388981               & ...                      & -0.14714746              & -1.454998                &  2.37713332              & build                    & 0.8604837563             & 0.07692978               & 0.0625864670             & 1                        & 0                        & T1\\_Win                \\\\\n",
       "\t 59b82df2482508155ff069e3 & 2017-09-24 15:00:00      & Brighton                 & 1                        & Newcastle Utd            & 0                        & -0.3974735593            & -0.33858167              & -0.32776559              & -0.3388981               & ...                      & -0.53626080              & -1.600063                & -0.37073981              & build                    & 0.2375149920             & 0.76168929               & 0.0007957159             & 1                        & 0                        & T1\\_Win                \\\\\n",
       "\t 59c1572f48250809e4273431 & 2017-09-30 14:00:00      & West Brom                & 2                        & Watford                  & 2                        &  0.3020740526            &  0.22163320              &  0.24121039              & -0.3388981               & ...                      &  0.60404124              & -1.680823                &  0.13156754              & build                    & 0.4655280947             & 0.17586847               & 0.3586034388             & 0                        & 1                        & Draw                    \\\\\n",
       "\t 59c1572d48250809e427342e & 2017-09-30 14:00:00      & Bournemouth              & 0                        & Leicester                & 0                        & -0.4166545456            & -0.41487565              & -0.40253436              & -0.3388981               & ...                      &  0.01226989              & -1.672423                & -0.36862708              & build                    & 0.5153527876             & 0.14399533               & 0.3406518797             & 0                        & 1                        & Draw                    \\\\\n",
       "\t 59c1573048250809e4273433 & 2017-09-30 16:30:00      & Chelsea                  & 0                        & Manchester City          & 1                        & -0.3190697968            & -0.16680610              & -0.18568149              & -0.3388981               & ...                      & -1.35585020              & -1.597280                & -0.20809879              & build                    & 0.4560872907             & 0.32547012               & 0.2184425898             & 0                        & 0                        & T2\\_Win                \\\\\n",
       "\t 59d153c948250812289fb7e0 & 2017-10-14 16:30:00      & Watford                  & 2                        & Arsenal                  & 1                        & -1.6373854170            & -1.69542119              & -1.69623654              & -0.3388981               & ...                      & -1.61666763              & -1.424283                & -1.70778963              & build                    & 0.1079606961             & 0.23277384               & 0.6592654628             & 1                        & 0                        & T1\\_Win                \\\\\n",
       "\t 59dbb6394825080bdbe14822 & 2017-10-20 19:00:00      & West Ham                 & 0                        & Brighton                 & 3                        &  0.2218080810            &  0.18450624              &  0.16586436              & -0.3388981               & ...                      &  1.74405286              & -1.529275                &  0.05451046              & build                    & 0.7496807235             & 0.24930042               & 0.0010188590             & 0                        & 0                        & T2\\_Win                \\\\\n",
       "\t 59dbb63c4825080bdbe14827 & 2017-10-21 14:00:00      & Stoke City               & 1                        & Bournemouth              & 2                        & -0.0457031584            & -0.05921865              & -0.08032392              & -0.3388981               & ...                      &  0.78718385              & -1.478259                & -0.08707799              & build                    & 0.5291292628             & 0.27434979               & 0.1965209500             & 0                        & 0                        & T2\\_Win                \\\\\n",
       "\t 59dbb63a4825080bdbe14824 & 2017-10-21 14:00:00      & Huddersfield             & 2                        & Manchester United        & 1                        & -2.6385284338            & -2.59062639              & -2.59090682              & -0.3388981               & ...                      & -2.30242756              & -1.475952                & -2.65773164              & build                    & 0.0004594141             & 0.37084758               & 0.6286930018             & 1                        & 0                        & T1\\_Win                \\\\\n",
       "\t 59e2710748250813c1940caf & 2017-10-28 11:30:00      & Manchester United        & 1                        & Tottenham                & 0                        & -0.6431655851            & -0.49154787              & -0.49410341              & -0.3388981               & ...                      & -1.60249905              & -1.450792                & -0.48329624              & build                    & 0.4911583062             & 0.18705923               & 0.3217824635             & 1                        & 0                        & T1\\_Win                \\\\\n",
       "\t 59e2710a48250813c1940cb4 & 2017-10-28 14:00:00      & West Brom                & 2                        & Manchester City          & 3                        & -2.4504268414            & -2.31056053              & -2.31464977              & -0.3388981               & ...                      & -0.70306361              & -1.429808                & -2.38101110              & build                    & 0.0991239593             & 0.23730094               & 0.6635751029             & 0                        & 0                        & T2\\_Win                \\\\\n",
       "\t 59e2710848250813c1940cb0 & 2017-10-28 14:00:00      & Arsenal                  & 2                        & Swansea                  & 1                        &  1.4862203536            &  1.55371566              &  1.55286818              & -0.3388981               & ...                      & -0.51095644              & -1.447063                &  1.50836953              & build                    & 0.7454775053             & 0.16449733               & 0.0900251674             & 1                        & 0                        & T1\\_Win                \\\\\n",
       "\t 59ee280a4825080b9ed279c9 & 2017-11-04 12:30:00      & Stoke City               & 2                        & Leicester                & 2                        & -0.5087016085            & -0.45302588              & -0.45815774              &  2.9507397               & ...                      &  0.15109328              & -1.443164                & -0.34560907              & build                    & 0.5269912479             & 0.24424919               & 0.2287595613             & 0                        & 1                        & Draw                    \\\\\n",
       "\t 59ee280a4825080b9ed279ca & 2017-11-04 15:00:00      & Huddersfield             & 1                        & West Brom                & 0                        & -0.9043192571            & -0.92255084              & -0.93164496              &  2.9507397               & ...                      &  0.63375750              & -1.524457                & -0.95211823              & build                    & 0.0019468156             & 0.63233746               & 0.3657157291             & 1                        & 0                        & T1\\_Win                \\\\\n",
       "\t 59ee280a4825080b9ed279cd & 2017-11-04 15:00:00      & Swansea                  & 0                        & Brighton                 & 1                        & -0.0004318763            & -0.01751097              & -0.03043777              &  2.9507397               & ...                      &  0.53685654              & -1.507358                & -0.11333100              & build                    & 0.6917195633             & 0.30750998               & 0.0007704556             & 0                        & 0                        & T2\\_Win                \\\\\n",
       "\t 59ee280a4825080b9ed279ce & 2017-11-04 17:30:00      & West Ham                 & 1                        & Liverpool                & 4                        & -1.3128606904            & -1.29139788              & -1.29997503              &  2.9507397               & ...                      & -1.10085591              & -1.603455                & -1.33417581              & build                    & 0.2175790546             & 0.19475058               & 0.5876703652             & 0                        & 0                        & T2\\_Win                \\\\\n",
       "\t 59fe4df04825080beffcd881 & 2017-11-18 12:30:00      & Arsenal                  & 2                        & Tottenham                & 0                        & -0.7668277960            & -0.62375575              & -0.63293496              &  2.9507397               & ...                      & -1.40079293              & -1.481643                & -0.67569428              & build                    & 0.3411070209             & 0.38826411               & 0.2706288701             & 1                        & 0                        & T1\\_Win                \\\\\n",
       "\t 5a071f9b482508420afac456 & 2017-11-24 20:00:00      & West Ham                 & 1                        & Leicester                & 1                        & -0.6482328627            & -0.68338793              & -0.67953308              &  2.9507397               & ...                      &  0.02504942              & -1.379755                & -0.61070018              & build                    & 0.4940690529             & 0.18850087               & 0.3174300757             & 0                        & 1                        & Draw                    \\\\\n",
       "\t 5a071f9b482508420afac45b & 2017-11-25 15:00:00      & Tottenham                & 1                        & West Brom                & 1                        &  2.1846502262            &  2.19375072              &  2.19934975              &  2.9507397               & ...                      &  0.76683267              & -1.382350                &  2.38756521              & build                    & 0.8377455343             & 0.11315418               & 0.0491002822             & 0                        & 1                        & Draw                    \\\\\n",
       "\t 5a08cab648250813a77a4033 & 2017-11-26 14:00:00      & Burnley                  & 0                        & Arsenal                  & 1                        & -1.1183712933            & -1.05011711              & -1.04203813              &  2.9507397               & ...                      & -0.87514114              & -1.425670                & -1.03635310              & build                    & 0.2681345422             & 0.23357461               & 0.4982908506             & 0                        & 0                        & T2\\_Win                \\\\\n",
       "\t 5a08cab648250813a77a4034 & 2017-11-26 16:00:00      & Huddersfield             & 1                        & Manchester City          & 2                        & -3.4334100368            & -3.25347222              & -3.26790241              &  2.9507397               & ...                      & -0.28070867              & -1.457800                & -3.26777315              & build                    & 0.0002986847             & 0.44109810               & 0.5586032137             & 0                        & 0                        & T2\\_Win                \\\\\n",
       "\t 5a0b68884825080defdb7bce & 2017-11-28 19:45:00      & Brighton                 & 0                        & Crystal Palace           & 0                        &  0.2628003379            &  0.16427798              &  0.16713026              &  2.9507397               & ...                      & -0.11236921              & -1.451563                &  0.19129301              & build                    & 0.3614943911             & 0.63764882               & 0.0008567890             & 0                        & 1                        & Draw                    \\\\\n",
       "\t 5a0e063f48250809b11b6aef & 2017-11-29 20:00:00      & Stoke City               & 0                        & Liverpool                & 3                        & -1.4854460901            & -1.36276606              & -1.36715490              &  2.9507397               & ...                      & -0.98729363              & -1.503022                & -1.38122844              & build                    & 0.2413019446             & 0.28375556               & 0.4749424925             & 0                        & 0                        & T2\\_Win                \\\\\n",
       "\\end{tabular}\n"
      ],
      "text/markdown": [
       "\n",
       "id | date | team_1_name | team_1_score | team_2_name | team_2_score | d_ability_1 | d_ability_3 | d_ability_4 | is_november | ... | d_form_4 | d_h2h_2 | c_ability_3 | datatype | team_1_prob | team_tie_prob | team_2_prob | team_1_win | team_1_draw | team_1_result | \n",
       "|---|---|---|---|---|---|---|---|---|---|---|---|---|---|---|---|---|---|---|---|---|---|---|---|---|---|---|---|---|---|---|---|---|---|---|---|---|---|---|---|---|---|---|---|---|---|---|---|---|---|---|---|---|---|---|---|---|---|---|---|---|\n",
       "| 5969fbdb4825083689956893 | 2004-02-11 19:45:00      | Birmingham               | 3                        | Everton                  | 0                        |  0.0031737035            | -0.090815441             | -0.093715979             | -0.3388981               | ...                      |         NaN              |      NaN                 | -0.075962014             | build                    |        NA                |           NA             |           NA             | 1                        | 0                        | T1_Win                   | \n",
       "| 5969fbdb4825083689956892 | 2004-02-11 20:00:00      | Portsmouth               | 0                        | Chelsea                  | 2                        |  0.0031737035            | -0.090815441             | -0.093715979             | -0.3388981               | ...                      |         NaN              |      NaN                 | -0.075962014             | build                    |        NA                |           NA             |           NA             | 0                        | 0                        | T2_Win                   | \n",
       "| 5969fbdb4825083689956891 | 2004-02-11 20:00:00      | Manchester United        | 2                        | Middlesbrough            | 3                        |  0.0031737035            | -0.090815441             | -0.093715979             | -0.3388981               | ...                      |         NaN              |      NaN                 | -0.075962014             | build                    |        NA                |           NA             |           NA             | 0                        | 0                        | T2_Win                   | \n",
       "| 5969fbdb482508368995688e | 2004-02-11 20:00:00      | Blackburn                | 1                        | Newcastle Utd            | 1                        |  0.0031737035            | -0.090815441             | -0.093715979             | -0.3388981               | ...                      |         NaN              |      NaN                 | -0.075962014             | build                    |        NA                |           NA             |           NA             | 0                        | 1                        | Draw                     | \n",
       "| 5969fbdb482508368995688c | 2004-02-21 12:30:00      | Chelsea                  | 1                        | Arsenal                  | 2                        |  0.0955459476            | -0.003533786             | -0.009938975             | -0.3388981               | ...                      |         NaN              |      NaN                 |  0.019892363             | build                    |        NA                |           NA             |           NA             | 0                        | 0                        | T2_Win                   | \n",
       "| 5969fbdb482508368995688b | 2004-02-21 15:00:00      | Wolves                   | 2                        | Fulham                   | 1                        |  0.0556283841            | -0.041349435             | -0.046248257             | -0.3388981               | ...                      |         NaN              |      NaN                 | -0.020702111             | build                    |        NA                |           NA             |           NA             | 1                        | 0                        | T1_Win                   | \n",
       "| 5969fbdb4825083689956889 | 2004-02-21 15:00:00      | Newcastle Utd            | 2                        | Middlesbrough            | 1                        | -0.0367438601            | -0.128631091             | -0.130025261             | -0.3388981               | ...                      |         NaN              |      NaN                 | -0.116556488             | build                    |        NA                |           NA             |           NA             | 1                        | 0                        | T1_Win                   | \n",
       "| 5969fbdb4825083689956888 | 2004-02-21 15:00:00      | Charlton                 | 3                        | Blackburn                | 2                        | -0.0766614236            | -0.180446642             | -0.180026996             | -0.3388981               | ...                      |         NaN              |      NaN                 | -0.177643769             | build                    |        NA                |           NA             |           NA             | 1                        | 0                        | T1_Win                   | \n",
       "| 5969fbdb482508368995687e | 2004-02-29 12:00:00      | Leeds                    | 2                        | Liverpool                | 2                        | -0.0133238747            | -0.107043567             | -0.109309935             | -0.3388981               | ...                      |         NaN              |      NaN                 | -0.089396152             | build                    |        NA                |           NA             |           NA             | 0                        | 1                        | Draw                     | \n",
       "| 5969fbdb482508368995687c | 2004-03-03 19:45:00      | Birmingham               | 3                        | Middlesbrough            | 1                        |  0.0973840498            |  0.015225661             |  0.008468567             | -0.3388981               | ...                      | -1.20496903              | 1.425950                 |  0.039026928             | build                    | 0.5462580                | 0.3205484843             | 1.331935e-01             | 1                        | 0                        | T1_Win                   | \n",
       "| 5969fbdb482508368995687a | 2004-03-09 20:00:00      | Middlesbrough            | 1                        | Tottenham                | 0                        | -0.1142598646            | -0.202485649             | -0.201137861             | -0.3388981               | ...                      |         NaN              |      NaN                 | -0.188834355             | build                    |        NA                |           NA             |           NA             | 1                        | 0                        | T1_Win                   | \n",
       "| 5969fbdb4825083689956874 | 2004-03-13 15:00:00      | Birmingham               | 0                        | Leicester                | 1                        |  0.2408960057            |  0.169360986             |  0.157257481             | -0.3388981               | ...                      |  1.62559523              | 1.380987                 |  0.208301584             | build                    | 0.4738696                | 0.3360398534             | 1.900906e-01             | 0                        | 0                        | T2_Win                   | \n",
       "| 5969fbdb4825083689956875 | 2004-03-13 15:00:00      | Blackburn                | 0                        | Arsenal                  | 2                        | -0.1299943565            | -0.220673631             | -0.218408780             | -0.3388981               | ...                      | -1.56045084              | 1.356399                 | -0.219894231             | build                    | 0.4597208                | 0.2316754652             | 3.086037e-01             | 0                        | 0                        | T2_Win                   | \n",
       "| 5969fbda4825083689956873 | 2004-03-14 12:30:00      | Wolves                   | 0                        | Aston Villa              | 4                        |  0.0709589633            | -0.022448947             | -0.027976152             | -0.3388981               | ...                      | -0.37171443              | 1.275602                 | -0.003702449             | build                    | 0.2907042                | 0.3083563794             | 4.009394e-01             | 0                        | 0                        | T2_Win                   | \n",
       "| 5969fbda4825083689956871 | 2004-03-14 15:00:00      | Tottenham                | 1                        | Newcastle Utd            | 0                        | -0.0004900662            | -0.095983410             | -0.098624413             | -0.3388981               | ...                      |  0.60567608              | 1.346777                 | -0.082707402             | build                    | 0.6454533                | 0.2858354424             | 6.871126e-02             | 1                        | 0                        | T1_Win                   | \n",
       "| 5969fbda4825083689956870 | 2004-03-14 16:05:00      | Southampton              | 2                        | Liverpool                | 0                        | -0.0404410666            | -0.134366914             | -0.135468113             | -0.3388981               | ...                      | -0.35449366              | 1.382322                 | -0.123856391             | build                    | 0.4058897                | 0.3558444585             | 2.382659e-01             | 1                        | 0                        | T1_Win                   | \n",
       "| 5969fbd44825083689956868 | 2004-03-20 15:00:00      | Arsenal                  | 2                        | Bolton                   | 1                        |  0.4069544350            |  0.294705004             |  0.276983724             | -0.3388981               | ...                      | -0.99099559              | 1.547910                 |  0.340350928             | build                    | 0.6761175                | 0.2557865174             | 6.809595e-02             | 1                        | 0                        | T1_Win                   | \n",
       "| 5969fbd4482508368995686a | 2004-03-20 15:00:00      | Chelsea                  | 2                        | Fulham                   | 1                        |  0.1984178258            |  0.084685920             |  0.074900519             | -0.3388981               | ...                      | -0.19516124              | 1.559772                 |  0.115929882             | build                    | 0.6862769                | 0.2648482765             | 4.887483e-02             | 1                        | 0                        | T1_Win                   | \n",
       "| 5969fbd4482508368995686c | 2004-03-20 15:00:00      | Liverpool                | 1                        | Wolves                   | 0                        |  0.2144834979            |  0.129206386             |  0.128791042             | -0.3388981               | ...                      | -0.53620861              | 1.536037                 |  0.168318617             | build                    | 0.6844426                | 0.2617686327             | 5.378879e-02             | 1                        | 0                        | T1_Win                   | \n",
       "| 5969fbd44825083689956867 | 2004-03-20 17:30:00      | Newcastle Utd            | 3                        | Charlton                 | 1                        |  0.0815180900            | -0.013638369             | -0.019341095             | -0.3388981               | ...                      |  1.39086260              | 1.536565                 |  0.014600185             | build                    | 0.4707813                | 0.3459296735             | 1.832891e-01             | 1                        | 0                        | T1_Win                   | \n",
       "| 5969fbd44825083689956866 | 2004-03-21 16:05:00      | Portsmouth               | 1                        | Southampton              | 0                        | -0.2909895053            | -0.384740426             | -0.376557783             | -0.3388981               | ...                      | -1.14330935              | 1.548438                 | -0.394426536             | build                    | 0.4974513                | 0.2695365674             | 2.330122e-01             | 1                        | 0                        | T1_Win                   | \n",
       "| 5969fbd44825083689956863 | 2004-03-27 15:00:00      | Southampton              | 1                        | Tottenham                | 0                        |  0.0721011691            | -0.017466217             | -0.023135602             | -0.3388981               | ...                      |  0.97504842              | 1.595822                 |  0.003195343             | build                    | 0.3943876                | 0.3875758463             | 2.180366e-01             | 1                        | 0                        | T1_Win                   | \n",
       "| 5969fbd34825083689956861 | 2004-03-27 15:00:00      | Everton                  | 1                        | Middlesbrough            | 1                        | -0.0124482887            | -0.090982121             | -0.093526581             | -0.3388981               | ...                      | -0.26085202              | 1.666120                 | -0.073770962             | build                    | 0.6116222                | 0.2919891556             | 9.638868e-02             | 0                        | 1                        | Draw                     | \n",
       "| 5969fbd3482508368995685d | 2004-03-28 13:00:00      | Bolton                   | 1                        | Newcastle Utd            | 0                        | -0.3348822506            | -0.437711901             | -0.428089972             | -0.3388981               | ...                      | -1.25859146              | 1.607635                 | -0.456823185             | build                    | 0.5201266                | 0.2802551020             | 1.996183e-01             | 1                        | 0                        | T1_Win                   | \n",
       "| 5969fbd3482508368995685a | 2004-04-03 14:00:00      | Wolves                   | 1                        | Southampton              | 4                        | -0.3030228554            | -0.404241262             | -0.407790816             | -0.3388981               | ...                      |  0.59672998              | 1.502312                 | -0.415055106             | build                    | 0.3432195                | 0.3025729421             | 3.542076e-01             | 0                        | 0                        | T2_Win                   | \n",
       "| 5969fbd34825083689956856 | 2004-04-03 14:00:00      | Fulham                   | 0                        | Birmingham               | 0                        | -0.2311064302            | -0.311375276             | -0.306655121             | -0.3388981               | ...                      | -0.05850546              | 1.526092                 | -0.302720136             | build                    | 0.6242676                | 0.2346477482             | 1.410846e-01             | 0                        | 1                        | Draw                     | \n",
       "| 5969fbd34825083689956854 | 2004-04-04 14:00:00      | Liverpool                | 4                        | Blackburn                | 0                        |  0.2079999307            |  0.125867160             |  0.114575532             | -0.3388981               | ...                      | -2.44267810              | 1.596837                 |  0.165189507             | build                    | 0.6638934                | 0.2367240828             | 9.938256e-02             | 1                        | 0                        | T1_Win                   | \n",
       "| 5969fbd34825083689956853 | 2004-04-05 19:00:00      | Leeds                    | 3                        | Leicester                | 2                        | -0.1751392563            | -0.257542094             | -0.253721004             | -0.3388981               | ...                      | -1.14003121              | 1.608650                 | -0.251106962             | build                    | 0.3710698                | 0.4496008891             | 1.793293e-01             | 1                        | 0                        | T1_Win                   | \n",
       "| 5969fbd34825083689956850 | 2004-04-10 14:00:00      | Manchester City          | 3                        | Wolves                   | 3                        |  0.4600997684            |  0.347545820             |  0.338317215             | -0.3388981               | ...                      |  2.35377419              | 1.608831                 |  0.393410775             | build                    | 0.6944577                | 0.2364283122             | 6.911402e-02             | 0                        | 1                        | Draw                     | \n",
       "| 5969fbd3482508368995684b | 2004-04-10 14:00:00      | Blackburn                | 1                        | Leeds                    | 2                        | -0.1280917949            | -0.239893527             | -0.245829344             | -0.3388981               | ...                      |  1.16344562              | 1.503466                 | -0.247519734             | build                    | 0.9993659                | 0.0005617008             | 7.236745e-05             | 0                        | 0                        | T2_Win                   | \n",
       "| ... | ... | ... | ... | ... | ... | ... | ... | ... | ... |     | ... | ... | ... | ... | ... | ... | ... | ... | ... | ... | \n",
       "| 596a139f4825080eae481135 | 2017-08-27 13:30:00      | West Brom                | 1                        | Stoke City               | 1                        |  0.0720867983            |  0.05923018              |  0.06391458              | -0.3388981               | ...                      |  0.63506964              | -1.560082                |  0.01334408              | build                    | 0.3912316085             | 0.25310584               | 0.3556625477             | 0                        | 1                        | Draw                     | \n",
       "| 596a139f4825080eae481137 | 2017-08-27 15:00:00      | Tottenham                | 1                        | Burnley                  | 1                        |  2.1186046052            |  2.21662242              |  2.22312401              | -0.3388981               | ...                      |  1.72491315              | -1.530181                |  2.23380802              | build                    | 0.8669003241             | 0.07943037               | 0.0536693104             | 0                        | 1                        | Draw                     | \n",
       "| 59a1aa8b4825082d92c4932a | 2017-09-09 14:00:00      | Everton                  | 0                        | Tottenham                | 3                        | -1.2601568184            | -1.11700239              | -1.11975206              | -0.3388981               | ...                      | -0.45607350              | -1.385792                | -1.14636439              | build                    | 0.2562217435             | 0.28179640               | 0.4619818570             | 0                        | 0                        | T2_Win                   | \n",
       "| 59a1aa8c4825082d92c4932d | 2017-09-09 16:30:00      | Stoke City               | 2                        | Manchester United        | 2                        | -1.3971583123            | -1.32724446              | -1.32349886              | -0.3388981               | ...                      | -0.88772451              | -1.411781                | -1.39480806              | build                    | 0.2008978016             | 0.25251206               | 0.5465901373             | 0                        | 1                        | Draw                     | \n",
       "| 59b050fb482508306303517a | 2017-09-16 14:00:00      | Watford                  | 0                        | Manchester City          | 6                        | -2.1162363282            | -2.05206914              | -2.06878527              | -0.3388981               | ...                      | -1.18728258              | -1.557738                | -2.04398807              | build                    | 0.0782497118             | 0.29462938               | 0.6271209050             | 0                        | 0                        | T2_Win                   | \n",
       "| 59b050fa4825083063035179 | 2017-09-16 14:00:00      | Newcastle Utd            | 2                        | Stoke City               | 1                        |  0.0254308809            |  0.09092370              |  0.10087938              | -0.3388981               | ...                      |  0.92223484              | -1.568265                |  0.15948707              | build                    | 0.4550966289             | 0.24895856               | 0.2959448116             | 1                        | 0                        | T1_Win                   | \n",
       "| 59b050fe482508306303517d | 2017-09-17 12:30:00      | Chelsea                  | 0                        | Arsenal                  | 0                        |  0.5426075937            |  0.58790266              |  0.59025572              | -0.3388981               | ...                      | -1.75404139              | -1.585266                |  0.57251407              | build                    | 0.6165692069             | 0.19717641               | 0.1862543875             | 0                        | 1                        | Draw                     | \n",
       "| 59b50c7d4825080c2d524c8b | 2017-09-23 14:00:00      | Manchester City          | 5                        | Crystal Palace           | 0                        |  2.3744625651            |  2.38300010              |  2.39624224              | -0.3388981               | ...                      | -0.14714746              | -1.454998                |  2.37713332              | build                    | 0.8604837563             | 0.07692978               | 0.0625864670             | 1                        | 0                        | T1_Win                   | \n",
       "| 59b82df2482508155ff069e3 | 2017-09-24 15:00:00      | Brighton                 | 1                        | Newcastle Utd            | 0                        | -0.3974735593            | -0.33858167              | -0.32776559              | -0.3388981               | ...                      | -0.53626080              | -1.600063                | -0.37073981              | build                    | 0.2375149920             | 0.76168929               | 0.0007957159             | 1                        | 0                        | T1_Win                   | \n",
       "| 59c1572f48250809e4273431 | 2017-09-30 14:00:00      | West Brom                | 2                        | Watford                  | 2                        |  0.3020740526            |  0.22163320              |  0.24121039              | -0.3388981               | ...                      |  0.60404124              | -1.680823                |  0.13156754              | build                    | 0.4655280947             | 0.17586847               | 0.3586034388             | 0                        | 1                        | Draw                     | \n",
       "| 59c1572d48250809e427342e | 2017-09-30 14:00:00      | Bournemouth              | 0                        | Leicester                | 0                        | -0.4166545456            | -0.41487565              | -0.40253436              | -0.3388981               | ...                      |  0.01226989              | -1.672423                | -0.36862708              | build                    | 0.5153527876             | 0.14399533               | 0.3406518797             | 0                        | 1                        | Draw                     | \n",
       "| 59c1573048250809e4273433 | 2017-09-30 16:30:00      | Chelsea                  | 0                        | Manchester City          | 1                        | -0.3190697968            | -0.16680610              | -0.18568149              | -0.3388981               | ...                      | -1.35585020              | -1.597280                | -0.20809879              | build                    | 0.4560872907             | 0.32547012               | 0.2184425898             | 0                        | 0                        | T2_Win                   | \n",
       "| 59d153c948250812289fb7e0 | 2017-10-14 16:30:00      | Watford                  | 2                        | Arsenal                  | 1                        | -1.6373854170            | -1.69542119              | -1.69623654              | -0.3388981               | ...                      | -1.61666763              | -1.424283                | -1.70778963              | build                    | 0.1079606961             | 0.23277384               | 0.6592654628             | 1                        | 0                        | T1_Win                   | \n",
       "| 59dbb6394825080bdbe14822 | 2017-10-20 19:00:00      | West Ham                 | 0                        | Brighton                 | 3                        |  0.2218080810            |  0.18450624              |  0.16586436              | -0.3388981               | ...                      |  1.74405286              | -1.529275                |  0.05451046              | build                    | 0.7496807235             | 0.24930042               | 0.0010188590             | 0                        | 0                        | T2_Win                   | \n",
       "| 59dbb63c4825080bdbe14827 | 2017-10-21 14:00:00      | Stoke City               | 1                        | Bournemouth              | 2                        | -0.0457031584            | -0.05921865              | -0.08032392              | -0.3388981               | ...                      |  0.78718385              | -1.478259                | -0.08707799              | build                    | 0.5291292628             | 0.27434979               | 0.1965209500             | 0                        | 0                        | T2_Win                   | \n",
       "| 59dbb63a4825080bdbe14824 | 2017-10-21 14:00:00      | Huddersfield             | 2                        | Manchester United        | 1                        | -2.6385284338            | -2.59062639              | -2.59090682              | -0.3388981               | ...                      | -2.30242756              | -1.475952                | -2.65773164              | build                    | 0.0004594141             | 0.37084758               | 0.6286930018             | 1                        | 0                        | T1_Win                   | \n",
       "| 59e2710748250813c1940caf | 2017-10-28 11:30:00      | Manchester United        | 1                        | Tottenham                | 0                        | -0.6431655851            | -0.49154787              | -0.49410341              | -0.3388981               | ...                      | -1.60249905              | -1.450792                | -0.48329624              | build                    | 0.4911583062             | 0.18705923               | 0.3217824635             | 1                        | 0                        | T1_Win                   | \n",
       "| 59e2710a48250813c1940cb4 | 2017-10-28 14:00:00      | West Brom                | 2                        | Manchester City          | 3                        | -2.4504268414            | -2.31056053              | -2.31464977              | -0.3388981               | ...                      | -0.70306361              | -1.429808                | -2.38101110              | build                    | 0.0991239593             | 0.23730094               | 0.6635751029             | 0                        | 0                        | T2_Win                   | \n",
       "| 59e2710848250813c1940cb0 | 2017-10-28 14:00:00      | Arsenal                  | 2                        | Swansea                  | 1                        |  1.4862203536            |  1.55371566              |  1.55286818              | -0.3388981               | ...                      | -0.51095644              | -1.447063                |  1.50836953              | build                    | 0.7454775053             | 0.16449733               | 0.0900251674             | 1                        | 0                        | T1_Win                   | \n",
       "| 59ee280a4825080b9ed279c9 | 2017-11-04 12:30:00      | Stoke City               | 2                        | Leicester                | 2                        | -0.5087016085            | -0.45302588              | -0.45815774              |  2.9507397               | ...                      |  0.15109328              | -1.443164                | -0.34560907              | build                    | 0.5269912479             | 0.24424919               | 0.2287595613             | 0                        | 1                        | Draw                     | \n",
       "| 59ee280a4825080b9ed279ca | 2017-11-04 15:00:00      | Huddersfield             | 1                        | West Brom                | 0                        | -0.9043192571            | -0.92255084              | -0.93164496              |  2.9507397               | ...                      |  0.63375750              | -1.524457                | -0.95211823              | build                    | 0.0019468156             | 0.63233746               | 0.3657157291             | 1                        | 0                        | T1_Win                   | \n",
       "| 59ee280a4825080b9ed279cd | 2017-11-04 15:00:00      | Swansea                  | 0                        | Brighton                 | 1                        | -0.0004318763            | -0.01751097              | -0.03043777              |  2.9507397               | ...                      |  0.53685654              | -1.507358                | -0.11333100              | build                    | 0.6917195633             | 0.30750998               | 0.0007704556             | 0                        | 0                        | T2_Win                   | \n",
       "| 59ee280a4825080b9ed279ce | 2017-11-04 17:30:00      | West Ham                 | 1                        | Liverpool                | 4                        | -1.3128606904            | -1.29139788              | -1.29997503              |  2.9507397               | ...                      | -1.10085591              | -1.603455                | -1.33417581              | build                    | 0.2175790546             | 0.19475058               | 0.5876703652             | 0                        | 0                        | T2_Win                   | \n",
       "| 59fe4df04825080beffcd881 | 2017-11-18 12:30:00      | Arsenal                  | 2                        | Tottenham                | 0                        | -0.7668277960            | -0.62375575              | -0.63293496              |  2.9507397               | ...                      | -1.40079293              | -1.481643                | -0.67569428              | build                    | 0.3411070209             | 0.38826411               | 0.2706288701             | 1                        | 0                        | T1_Win                   | \n",
       "| 5a071f9b482508420afac456 | 2017-11-24 20:00:00      | West Ham                 | 1                        | Leicester                | 1                        | -0.6482328627            | -0.68338793              | -0.67953308              |  2.9507397               | ...                      |  0.02504942              | -1.379755                | -0.61070018              | build                    | 0.4940690529             | 0.18850087               | 0.3174300757             | 0                        | 1                        | Draw                     | \n",
       "| 5a071f9b482508420afac45b | 2017-11-25 15:00:00      | Tottenham                | 1                        | West Brom                | 1                        |  2.1846502262            |  2.19375072              |  2.19934975              |  2.9507397               | ...                      |  0.76683267              | -1.382350                |  2.38756521              | build                    | 0.8377455343             | 0.11315418               | 0.0491002822             | 0                        | 1                        | Draw                     | \n",
       "| 5a08cab648250813a77a4033 | 2017-11-26 14:00:00      | Burnley                  | 0                        | Arsenal                  | 1                        | -1.1183712933            | -1.05011711              | -1.04203813              |  2.9507397               | ...                      | -0.87514114              | -1.425670                | -1.03635310              | build                    | 0.2681345422             | 0.23357461               | 0.4982908506             | 0                        | 0                        | T2_Win                   | \n",
       "| 5a08cab648250813a77a4034 | 2017-11-26 16:00:00      | Huddersfield             | 1                        | Manchester City          | 2                        | -3.4334100368            | -3.25347222              | -3.26790241              |  2.9507397               | ...                      | -0.28070867              | -1.457800                | -3.26777315              | build                    | 0.0002986847             | 0.44109810               | 0.5586032137             | 0                        | 0                        | T2_Win                   | \n",
       "| 5a0b68884825080defdb7bce | 2017-11-28 19:45:00      | Brighton                 | 0                        | Crystal Palace           | 0                        |  0.2628003379            |  0.16427798              |  0.16713026              |  2.9507397               | ...                      | -0.11236921              | -1.451563                |  0.19129301              | build                    | 0.3614943911             | 0.63764882               | 0.0008567890             | 0                        | 1                        | Draw                     | \n",
       "| 5a0e063f48250809b11b6aef | 2017-11-29 20:00:00      | Stoke City               | 0                        | Liverpool                | 3                        | -1.4854460901            | -1.36276606              | -1.36715490              |  2.9507397               | ...                      | -0.98729363              | -1.503022                | -1.38122844              | build                    | 0.2413019446             | 0.28375556               | 0.4749424925             | 0                        | 0                        | T2_Win                   | \n",
       "\n",
       "\n"
      ],
      "text/plain": [
       "     id                       date                team_1_name      \n",
       "1    5969fbdb4825083689956893 2004-02-11 19:45:00 Birmingham       \n",
       "2    5969fbdb4825083689956892 2004-02-11 20:00:00 Portsmouth       \n",
       "3    5969fbdb4825083689956891 2004-02-11 20:00:00 Manchester United\n",
       "4    5969fbdb482508368995688e 2004-02-11 20:00:00 Blackburn        \n",
       "5    5969fbdb482508368995688c 2004-02-21 12:30:00 Chelsea          \n",
       "6    5969fbdb482508368995688b 2004-02-21 15:00:00 Wolves           \n",
       "7    5969fbdb4825083689956889 2004-02-21 15:00:00 Newcastle Utd    \n",
       "8    5969fbdb4825083689956888 2004-02-21 15:00:00 Charlton         \n",
       "9    5969fbdb482508368995687e 2004-02-29 12:00:00 Leeds            \n",
       "10   5969fbdb482508368995687c 2004-03-03 19:45:00 Birmingham       \n",
       "11   5969fbdb482508368995687a 2004-03-09 20:00:00 Middlesbrough    \n",
       "12   5969fbdb4825083689956874 2004-03-13 15:00:00 Birmingham       \n",
       "13   5969fbdb4825083689956875 2004-03-13 15:00:00 Blackburn        \n",
       "14   5969fbda4825083689956873 2004-03-14 12:30:00 Wolves           \n",
       "15   5969fbda4825083689956871 2004-03-14 15:00:00 Tottenham        \n",
       "16   5969fbda4825083689956870 2004-03-14 16:05:00 Southampton      \n",
       "17   5969fbd44825083689956868 2004-03-20 15:00:00 Arsenal          \n",
       "18   5969fbd4482508368995686a 2004-03-20 15:00:00 Chelsea          \n",
       "19   5969fbd4482508368995686c 2004-03-20 15:00:00 Liverpool        \n",
       "20   5969fbd44825083689956867 2004-03-20 17:30:00 Newcastle Utd    \n",
       "21   5969fbd44825083689956866 2004-03-21 16:05:00 Portsmouth       \n",
       "22   5969fbd44825083689956863 2004-03-27 15:00:00 Southampton      \n",
       "23   5969fbd34825083689956861 2004-03-27 15:00:00 Everton          \n",
       "24   5969fbd3482508368995685d 2004-03-28 13:00:00 Bolton           \n",
       "25   5969fbd3482508368995685a 2004-04-03 14:00:00 Wolves           \n",
       "26   5969fbd34825083689956856 2004-04-03 14:00:00 Fulham           \n",
       "27   5969fbd34825083689956854 2004-04-04 14:00:00 Liverpool        \n",
       "28   5969fbd34825083689956853 2004-04-05 19:00:00 Leeds            \n",
       "29   5969fbd34825083689956850 2004-04-10 14:00:00 Manchester City  \n",
       "30   5969fbd3482508368995684b 2004-04-10 14:00:00 Blackburn        \n",
       "...  ...                      ...                 ...              \n",
       "1530 596a139f4825080eae481135 2017-08-27 13:30:00 West Brom        \n",
       "1531 596a139f4825080eae481137 2017-08-27 15:00:00 Tottenham        \n",
       "1532 59a1aa8b4825082d92c4932a 2017-09-09 14:00:00 Everton          \n",
       "1533 59a1aa8c4825082d92c4932d 2017-09-09 16:30:00 Stoke City       \n",
       "1534 59b050fb482508306303517a 2017-09-16 14:00:00 Watford          \n",
       "1535 59b050fa4825083063035179 2017-09-16 14:00:00 Newcastle Utd    \n",
       "1536 59b050fe482508306303517d 2017-09-17 12:30:00 Chelsea          \n",
       "1537 59b50c7d4825080c2d524c8b 2017-09-23 14:00:00 Manchester City  \n",
       "1538 59b82df2482508155ff069e3 2017-09-24 15:00:00 Brighton         \n",
       "1539 59c1572f48250809e4273431 2017-09-30 14:00:00 West Brom        \n",
       "1540 59c1572d48250809e427342e 2017-09-30 14:00:00 Bournemouth      \n",
       "1541 59c1573048250809e4273433 2017-09-30 16:30:00 Chelsea          \n",
       "1542 59d153c948250812289fb7e0 2017-10-14 16:30:00 Watford          \n",
       "1543 59dbb6394825080bdbe14822 2017-10-20 19:00:00 West Ham         \n",
       "1544 59dbb63c4825080bdbe14827 2017-10-21 14:00:00 Stoke City       \n",
       "1545 59dbb63a4825080bdbe14824 2017-10-21 14:00:00 Huddersfield     \n",
       "1546 59e2710748250813c1940caf 2017-10-28 11:30:00 Manchester United\n",
       "1547 59e2710a48250813c1940cb4 2017-10-28 14:00:00 West Brom        \n",
       "1548 59e2710848250813c1940cb0 2017-10-28 14:00:00 Arsenal          \n",
       "1549 59ee280a4825080b9ed279c9 2017-11-04 12:30:00 Stoke City       \n",
       "1550 59ee280a4825080b9ed279ca 2017-11-04 15:00:00 Huddersfield     \n",
       "1551 59ee280a4825080b9ed279cd 2017-11-04 15:00:00 Swansea          \n",
       "1552 59ee280a4825080b9ed279ce 2017-11-04 17:30:00 West Ham         \n",
       "1553 59fe4df04825080beffcd881 2017-11-18 12:30:00 Arsenal          \n",
       "1554 5a071f9b482508420afac456 2017-11-24 20:00:00 West Ham         \n",
       "1555 5a071f9b482508420afac45b 2017-11-25 15:00:00 Tottenham        \n",
       "1556 5a08cab648250813a77a4033 2017-11-26 14:00:00 Burnley          \n",
       "1557 5a08cab648250813a77a4034 2017-11-26 16:00:00 Huddersfield     \n",
       "1558 5a0b68884825080defdb7bce 2017-11-28 19:45:00 Brighton         \n",
       "1559 5a0e063f48250809b11b6aef 2017-11-29 20:00:00 Stoke City       \n",
       "     team_1_score team_2_name       team_2_score d_ability_1   d_ability_3 \n",
       "1    3            Everton           0             0.0031737035 -0.090815441\n",
       "2    0            Chelsea           2             0.0031737035 -0.090815441\n",
       "3    2            Middlesbrough     3             0.0031737035 -0.090815441\n",
       "4    1            Newcastle Utd     1             0.0031737035 -0.090815441\n",
       "5    1            Arsenal           2             0.0955459476 -0.003533786\n",
       "6    2            Fulham            1             0.0556283841 -0.041349435\n",
       "7    2            Middlesbrough     1            -0.0367438601 -0.128631091\n",
       "8    3            Blackburn         2            -0.0766614236 -0.180446642\n",
       "9    2            Liverpool         2            -0.0133238747 -0.107043567\n",
       "10   3            Middlesbrough     1             0.0973840498  0.015225661\n",
       "11   1            Tottenham         0            -0.1142598646 -0.202485649\n",
       "12   0            Leicester         1             0.2408960057  0.169360986\n",
       "13   0            Arsenal           2            -0.1299943565 -0.220673631\n",
       "14   0            Aston Villa       4             0.0709589633 -0.022448947\n",
       "15   1            Newcastle Utd     0            -0.0004900662 -0.095983410\n",
       "16   2            Liverpool         0            -0.0404410666 -0.134366914\n",
       "17   2            Bolton            1             0.4069544350  0.294705004\n",
       "18   2            Fulham            1             0.1984178258  0.084685920\n",
       "19   1            Wolves            0             0.2144834979  0.129206386\n",
       "20   3            Charlton          1             0.0815180900 -0.013638369\n",
       "21   1            Southampton       0            -0.2909895053 -0.384740426\n",
       "22   1            Tottenham         0             0.0721011691 -0.017466217\n",
       "23   1            Middlesbrough     1            -0.0124482887 -0.090982121\n",
       "24   1            Newcastle Utd     0            -0.3348822506 -0.437711901\n",
       "25   1            Southampton       4            -0.3030228554 -0.404241262\n",
       "26   0            Birmingham        0            -0.2311064302 -0.311375276\n",
       "27   4            Blackburn         0             0.2079999307  0.125867160\n",
       "28   3            Leicester         2            -0.1751392563 -0.257542094\n",
       "29   3            Wolves            3             0.4600997684  0.347545820\n",
       "30   1            Leeds             2            -0.1280917949 -0.239893527\n",
       "...  ...          ...               ...          ...           ...         \n",
       "1530 1            Stoke City        1             0.0720867983  0.05923018 \n",
       "1531 1            Burnley           1             2.1186046052  2.21662242 \n",
       "1532 0            Tottenham         3            -1.2601568184 -1.11700239 \n",
       "1533 2            Manchester United 2            -1.3971583123 -1.32724446 \n",
       "1534 0            Manchester City   6            -2.1162363282 -2.05206914 \n",
       "1535 2            Stoke City        1             0.0254308809  0.09092370 \n",
       "1536 0            Arsenal           0             0.5426075937  0.58790266 \n",
       "1537 5            Crystal Palace    0             2.3744625651  2.38300010 \n",
       "1538 1            Newcastle Utd     0            -0.3974735593 -0.33858167 \n",
       "1539 2            Watford           2             0.3020740526  0.22163320 \n",
       "1540 0            Leicester         0            -0.4166545456 -0.41487565 \n",
       "1541 0            Manchester City   1            -0.3190697968 -0.16680610 \n",
       "1542 2            Arsenal           1            -1.6373854170 -1.69542119 \n",
       "1543 0            Brighton          3             0.2218080810  0.18450624 \n",
       "1544 1            Bournemouth       2            -0.0457031584 -0.05921865 \n",
       "1545 2            Manchester United 1            -2.6385284338 -2.59062639 \n",
       "1546 1            Tottenham         0            -0.6431655851 -0.49154787 \n",
       "1547 2            Manchester City   3            -2.4504268414 -2.31056053 \n",
       "1548 2            Swansea           1             1.4862203536  1.55371566 \n",
       "1549 2            Leicester         2            -0.5087016085 -0.45302588 \n",
       "1550 1            West Brom         0            -0.9043192571 -0.92255084 \n",
       "1551 0            Brighton          1            -0.0004318763 -0.01751097 \n",
       "1552 1            Liverpool         4            -1.3128606904 -1.29139788 \n",
       "1553 2            Tottenham         0            -0.7668277960 -0.62375575 \n",
       "1554 1            Leicester         1            -0.6482328627 -0.68338793 \n",
       "1555 1            West Brom         1             2.1846502262  2.19375072 \n",
       "1556 0            Arsenal           1            -1.1183712933 -1.05011711 \n",
       "1557 1            Manchester City   2            -3.4334100368 -3.25347222 \n",
       "1558 0            Crystal Palace    0             0.2628003379  0.16427798 \n",
       "1559 0            Liverpool         3            -1.4854460901 -1.36276606 \n",
       "     d_ability_4  is_november ... d_form_4    d_h2h_2   c_ability_3  datatype\n",
       "1    -0.093715979 -0.3388981  ...         NaN      NaN  -0.075962014 build   \n",
       "2    -0.093715979 -0.3388981  ...         NaN      NaN  -0.075962014 build   \n",
       "3    -0.093715979 -0.3388981  ...         NaN      NaN  -0.075962014 build   \n",
       "4    -0.093715979 -0.3388981  ...         NaN      NaN  -0.075962014 build   \n",
       "5    -0.009938975 -0.3388981  ...         NaN      NaN   0.019892363 build   \n",
       "6    -0.046248257 -0.3388981  ...         NaN      NaN  -0.020702111 build   \n",
       "7    -0.130025261 -0.3388981  ...         NaN      NaN  -0.116556488 build   \n",
       "8    -0.180026996 -0.3388981  ...         NaN      NaN  -0.177643769 build   \n",
       "9    -0.109309935 -0.3388981  ...         NaN      NaN  -0.089396152 build   \n",
       "10    0.008468567 -0.3388981  ... -1.20496903 1.425950   0.039026928 build   \n",
       "11   -0.201137861 -0.3388981  ...         NaN      NaN  -0.188834355 build   \n",
       "12    0.157257481 -0.3388981  ...  1.62559523 1.380987   0.208301584 build   \n",
       "13   -0.218408780 -0.3388981  ... -1.56045084 1.356399  -0.219894231 build   \n",
       "14   -0.027976152 -0.3388981  ... -0.37171443 1.275602  -0.003702449 build   \n",
       "15   -0.098624413 -0.3388981  ...  0.60567608 1.346777  -0.082707402 build   \n",
       "16   -0.135468113 -0.3388981  ... -0.35449366 1.382322  -0.123856391 build   \n",
       "17    0.276983724 -0.3388981  ... -0.99099559 1.547910   0.340350928 build   \n",
       "18    0.074900519 -0.3388981  ... -0.19516124 1.559772   0.115929882 build   \n",
       "19    0.128791042 -0.3388981  ... -0.53620861 1.536037   0.168318617 build   \n",
       "20   -0.019341095 -0.3388981  ...  1.39086260 1.536565   0.014600185 build   \n",
       "21   -0.376557783 -0.3388981  ... -1.14330935 1.548438  -0.394426536 build   \n",
       "22   -0.023135602 -0.3388981  ...  0.97504842 1.595822   0.003195343 build   \n",
       "23   -0.093526581 -0.3388981  ... -0.26085202 1.666120  -0.073770962 build   \n",
       "24   -0.428089972 -0.3388981  ... -1.25859146 1.607635  -0.456823185 build   \n",
       "25   -0.407790816 -0.3388981  ...  0.59672998 1.502312  -0.415055106 build   \n",
       "26   -0.306655121 -0.3388981  ... -0.05850546 1.526092  -0.302720136 build   \n",
       "27    0.114575532 -0.3388981  ... -2.44267810 1.596837   0.165189507 build   \n",
       "28   -0.253721004 -0.3388981  ... -1.14003121 1.608650  -0.251106962 build   \n",
       "29    0.338317215 -0.3388981  ...  2.35377419 1.608831   0.393410775 build   \n",
       "30   -0.245829344 -0.3388981  ...  1.16344562 1.503466  -0.247519734 build   \n",
       "...  ...          ...             ...         ...       ...          ...     \n",
       "1530  0.06391458  -0.3388981  ...  0.63506964 -1.560082  0.01334408  build   \n",
       "1531  2.22312401  -0.3388981  ...  1.72491315 -1.530181  2.23380802  build   \n",
       "1532 -1.11975206  -0.3388981  ... -0.45607350 -1.385792 -1.14636439  build   \n",
       "1533 -1.32349886  -0.3388981  ... -0.88772451 -1.411781 -1.39480806  build   \n",
       "1534 -2.06878527  -0.3388981  ... -1.18728258 -1.557738 -2.04398807  build   \n",
       "1535  0.10087938  -0.3388981  ...  0.92223484 -1.568265  0.15948707  build   \n",
       "1536  0.59025572  -0.3388981  ... -1.75404139 -1.585266  0.57251407  build   \n",
       "1537  2.39624224  -0.3388981  ... -0.14714746 -1.454998  2.37713332  build   \n",
       "1538 -0.32776559  -0.3388981  ... -0.53626080 -1.600063 -0.37073981  build   \n",
       "1539  0.24121039  -0.3388981  ...  0.60404124 -1.680823  0.13156754  build   \n",
       "1540 -0.40253436  -0.3388981  ...  0.01226989 -1.672423 -0.36862708  build   \n",
       "1541 -0.18568149  -0.3388981  ... -1.35585020 -1.597280 -0.20809879  build   \n",
       "1542 -1.69623654  -0.3388981  ... -1.61666763 -1.424283 -1.70778963  build   \n",
       "1543  0.16586436  -0.3388981  ...  1.74405286 -1.529275  0.05451046  build   \n",
       "1544 -0.08032392  -0.3388981  ...  0.78718385 -1.478259 -0.08707799  build   \n",
       "1545 -2.59090682  -0.3388981  ... -2.30242756 -1.475952 -2.65773164  build   \n",
       "1546 -0.49410341  -0.3388981  ... -1.60249905 -1.450792 -0.48329624  build   \n",
       "1547 -2.31464977  -0.3388981  ... -0.70306361 -1.429808 -2.38101110  build   \n",
       "1548  1.55286818  -0.3388981  ... -0.51095644 -1.447063  1.50836953  build   \n",
       "1549 -0.45815774   2.9507397  ...  0.15109328 -1.443164 -0.34560907  build   \n",
       "1550 -0.93164496   2.9507397  ...  0.63375750 -1.524457 -0.95211823  build   \n",
       "1551 -0.03043777   2.9507397  ...  0.53685654 -1.507358 -0.11333100  build   \n",
       "1552 -1.29997503   2.9507397  ... -1.10085591 -1.603455 -1.33417581  build   \n",
       "1553 -0.63293496   2.9507397  ... -1.40079293 -1.481643 -0.67569428  build   \n",
       "1554 -0.67953308   2.9507397  ...  0.02504942 -1.379755 -0.61070018  build   \n",
       "1555  2.19934975   2.9507397  ...  0.76683267 -1.382350  2.38756521  build   \n",
       "1556 -1.04203813   2.9507397  ... -0.87514114 -1.425670 -1.03635310  build   \n",
       "1557 -3.26790241   2.9507397  ... -0.28070867 -1.457800 -3.26777315  build   \n",
       "1558  0.16713026   2.9507397  ... -0.11236921 -1.451563  0.19129301  build   \n",
       "1559 -1.36715490   2.9507397  ... -0.98729363 -1.503022 -1.38122844  build   \n",
       "     team_1_prob  team_tie_prob team_2_prob  team_1_win team_1_draw\n",
       "1           NA              NA            NA 1          0          \n",
       "2           NA              NA            NA 0          0          \n",
       "3           NA              NA            NA 0          0          \n",
       "4           NA              NA            NA 0          1          \n",
       "5           NA              NA            NA 0          0          \n",
       "6           NA              NA            NA 1          0          \n",
       "7           NA              NA            NA 1          0          \n",
       "8           NA              NA            NA 1          0          \n",
       "9           NA              NA            NA 0          1          \n",
       "10   0.5462580    0.3205484843  1.331935e-01 1          0          \n",
       "11          NA              NA            NA 1          0          \n",
       "12   0.4738696    0.3360398534  1.900906e-01 0          0          \n",
       "13   0.4597208    0.2316754652  3.086037e-01 0          0          \n",
       "14   0.2907042    0.3083563794  4.009394e-01 0          0          \n",
       "15   0.6454533    0.2858354424  6.871126e-02 1          0          \n",
       "16   0.4058897    0.3558444585  2.382659e-01 1          0          \n",
       "17   0.6761175    0.2557865174  6.809595e-02 1          0          \n",
       "18   0.6862769    0.2648482765  4.887483e-02 1          0          \n",
       "19   0.6844426    0.2617686327  5.378879e-02 1          0          \n",
       "20   0.4707813    0.3459296735  1.832891e-01 1          0          \n",
       "21   0.4974513    0.2695365674  2.330122e-01 1          0          \n",
       "22   0.3943876    0.3875758463  2.180366e-01 1          0          \n",
       "23   0.6116222    0.2919891556  9.638868e-02 0          1          \n",
       "24   0.5201266    0.2802551020  1.996183e-01 1          0          \n",
       "25   0.3432195    0.3025729421  3.542076e-01 0          0          \n",
       "26   0.6242676    0.2346477482  1.410846e-01 0          1          \n",
       "27   0.6638934    0.2367240828  9.938256e-02 1          0          \n",
       "28   0.3710698    0.4496008891  1.793293e-01 1          0          \n",
       "29   0.6944577    0.2364283122  6.911402e-02 0          1          \n",
       "30   0.9993659    0.0005617008  7.236745e-05 0          0          \n",
       "...  ...          ...           ...          ...        ...        \n",
       "1530 0.3912316085 0.25310584    0.3556625477 0          1          \n",
       "1531 0.8669003241 0.07943037    0.0536693104 0          1          \n",
       "1532 0.2562217435 0.28179640    0.4619818570 0          0          \n",
       "1533 0.2008978016 0.25251206    0.5465901373 0          1          \n",
       "1534 0.0782497118 0.29462938    0.6271209050 0          0          \n",
       "1535 0.4550966289 0.24895856    0.2959448116 1          0          \n",
       "1536 0.6165692069 0.19717641    0.1862543875 0          1          \n",
       "1537 0.8604837563 0.07692978    0.0625864670 1          0          \n",
       "1538 0.2375149920 0.76168929    0.0007957159 1          0          \n",
       "1539 0.4655280947 0.17586847    0.3586034388 0          1          \n",
       "1540 0.5153527876 0.14399533    0.3406518797 0          1          \n",
       "1541 0.4560872907 0.32547012    0.2184425898 0          0          \n",
       "1542 0.1079606961 0.23277384    0.6592654628 1          0          \n",
       "1543 0.7496807235 0.24930042    0.0010188590 0          0          \n",
       "1544 0.5291292628 0.27434979    0.1965209500 0          0          \n",
       "1545 0.0004594141 0.37084758    0.6286930018 1          0          \n",
       "1546 0.4911583062 0.18705923    0.3217824635 1          0          \n",
       "1547 0.0991239593 0.23730094    0.6635751029 0          0          \n",
       "1548 0.7454775053 0.16449733    0.0900251674 1          0          \n",
       "1549 0.5269912479 0.24424919    0.2287595613 0          1          \n",
       "1550 0.0019468156 0.63233746    0.3657157291 1          0          \n",
       "1551 0.6917195633 0.30750998    0.0007704556 0          0          \n",
       "1552 0.2175790546 0.19475058    0.5876703652 0          0          \n",
       "1553 0.3411070209 0.38826411    0.2706288701 1          0          \n",
       "1554 0.4940690529 0.18850087    0.3174300757 0          1          \n",
       "1555 0.8377455343 0.11315418    0.0491002822 0          1          \n",
       "1556 0.2681345422 0.23357461    0.4982908506 0          0          \n",
       "1557 0.0002986847 0.44109810    0.5586032137 0          0          \n",
       "1558 0.3614943911 0.63764882    0.0008567890 0          1          \n",
       "1559 0.2413019446 0.28375556    0.4749424925 0          0          \n",
       "     team_1_result\n",
       "1    T1_Win       \n",
       "2    T2_Win       \n",
       "3    T2_Win       \n",
       "4    Draw         \n",
       "5    T2_Win       \n",
       "6    T1_Win       \n",
       "7    T1_Win       \n",
       "8    T1_Win       \n",
       "9    Draw         \n",
       "10   T1_Win       \n",
       "11   T1_Win       \n",
       "12   T2_Win       \n",
       "13   T2_Win       \n",
       "14   T2_Win       \n",
       "15   T1_Win       \n",
       "16   T1_Win       \n",
       "17   T1_Win       \n",
       "18   T1_Win       \n",
       "19   T1_Win       \n",
       "20   T1_Win       \n",
       "21   T1_Win       \n",
       "22   T1_Win       \n",
       "23   Draw         \n",
       "24   T1_Win       \n",
       "25   T2_Win       \n",
       "26   Draw         \n",
       "27   T1_Win       \n",
       "28   T1_Win       \n",
       "29   Draw         \n",
       "30   T2_Win       \n",
       "...  ...          \n",
       "1530 Draw         \n",
       "1531 Draw         \n",
       "1532 T2_Win       \n",
       "1533 Draw         \n",
       "1534 T2_Win       \n",
       "1535 T1_Win       \n",
       "1536 Draw         \n",
       "1537 T1_Win       \n",
       "1538 T1_Win       \n",
       "1539 Draw         \n",
       "1540 Draw         \n",
       "1541 T2_Win       \n",
       "1542 T1_Win       \n",
       "1543 T2_Win       \n",
       "1544 T2_Win       \n",
       "1545 T1_Win       \n",
       "1546 T1_Win       \n",
       "1547 T2_Win       \n",
       "1548 T1_Win       \n",
       "1549 Draw         \n",
       "1550 T1_Win       \n",
       "1551 T2_Win       \n",
       "1552 T2_Win       \n",
       "1553 T1_Win       \n",
       "1554 Draw         \n",
       "1555 Draw         \n",
       "1556 T2_Win       \n",
       "1557 T2_Win       \n",
       "1558 Draw         \n",
       "1559 T2_Win       "
      ]
     },
     "metadata": {},
     "output_type": "display_data"
    }
   ],
   "source": [
    "realtest"
   ]
  },
  {
   "cell_type": "code",
   "execution_count": 25,
   "metadata": {},
   "outputs": [
    {
     "name": "stderr",
     "output_type": "stream",
     "text": [
      "Type 'citation(\"pROC\")' for a citation.\n",
      "\n",
      "Attaching package: 'pROC'\n",
      "\n",
      "The following objects are masked from 'package:stats':\n",
      "\n",
      "    cov, smooth, var\n",
      "\n"
     ]
    }
   ],
   "source": [
    "library(pROC)"
   ]
  },
  {
   "cell_type": "code",
   "execution_count": 26,
   "metadata": {
    "collapsed": true
   },
   "outputs": [],
   "source": [
    "realtest <- realtest %>%\n",
    "    rowwise() %>%\n",
    "    mutate(team_2_win = 1 - max(c(team_1_win, team_1_draw)))"
   ]
  },
  {
   "cell_type": "markdown",
   "metadata": {},
   "source": [
    "## Looking at individual ROC's"
   ]
  },
  {
   "cell_type": "code",
   "execution_count": 27,
   "metadata": {},
   "outputs": [
    {
     "data": {
      "text/plain": [
       "\n",
       "Call:\n",
       "roc.default(response = realtest$team_1_win, predictor = realtest$team_1_prob)\n",
       "\n",
       "Data: realtest$team_1_prob in 823 controls (realtest$team_1_win 0) < 718 cases (realtest$team_1_win 1).\n",
       "Area under the curve: 0.6898"
      ]
     },
     "metadata": {},
     "output_type": "display_data"
    }
   ],
   "source": [
    "pROC::roc(response = realtest$team_1_win, predictor = realtest$team_1_prob)"
   ]
  },
  {
   "cell_type": "code",
   "execution_count": 28,
   "metadata": {},
   "outputs": [
    {
     "data": {
      "text/plain": [
       "\n",
       "Call:\n",
       "roc.default(response = realtest$team_1_draw, predictor = realtest$team_tie_prob)\n",
       "\n",
       "Data: realtest$team_tie_prob in 1150 controls (realtest$team_1_draw 0) < 391 cases (realtest$team_1_draw 1).\n",
       "Area under the curve: 0.5294"
      ]
     },
     "metadata": {},
     "output_type": "display_data"
    }
   ],
   "source": [
    "pROC::roc(response = realtest$team_1_draw, predictor = realtest$team_tie_prob)"
   ]
  },
  {
   "cell_type": "code",
   "execution_count": 29,
   "metadata": {},
   "outputs": [
    {
     "data": {
      "text/plain": [
       "\n",
       "Call:\n",
       "roc.default(response = realtest$team_2_win, predictor = realtest$team_2_prob)\n",
       "\n",
       "Data: realtest$team_2_prob in 1109 controls (realtest$team_2_win 0) < 432 cases (realtest$team_2_win 1).\n",
       "Area under the curve: 0.7188"
      ]
     },
     "metadata": {},
     "output_type": "display_data"
    }
   ],
   "source": [
    "pROC::roc(response = realtest$team_2_win, predictor = realtest$team_2_prob)"
   ]
  },
  {
   "cell_type": "markdown",
   "metadata": {},
   "source": [
    "# Try decision trees"
   ]
  },
  {
   "cell_type": "code",
   "execution_count": 30,
   "metadata": {
    "collapsed": true
   },
   "outputs": [],
   "source": [
    "library(rpart)"
   ]
  },
  {
   "cell_type": "code",
   "execution_count": null,
   "metadata": {},
   "outputs": [],
   "source": [
    "fit.tree <- train %>%\n",
    "            filter(datatype == 'build') %>%\n",
    "                rpart(formula = team_1_result ~ team_1_name + team_2_name + d_ability_1 + d_ability_3 + d_ability_4 \n",
    "                      + is_november + is_february + d_form_4 + d_h2h_2 + c_ability_3,\n",
    "                      control = rpart.control(minbucket=2)\n",
    "                      #,split = \"information\"\n",
    "                     )"
   ]
  },
  {
   "cell_type": "code",
   "execution_count": null,
   "metadata": {
    "collapsed": true
   },
   "outputs": [],
   "source": [
    "fit.tree %>% summary"
   ]
  },
  {
   "cell_type": "code",
   "execution_count": null,
   "metadata": {
    "collapsed": true
   },
   "outputs": [],
   "source": [
    "108800 / 60"
   ]
  },
  {
   "cell_type": "code",
   "execution_count": 87,
   "metadata": {
    "collapsed": true
   },
   "outputs": [],
   "source": [
    "? rpart"
   ]
  },
  {
   "cell_type": "code",
   "execution_count": 76,
   "metadata": {
    "collapsed": true
   },
   "outputs": [],
   "source": [
    "score_df <- df %>%\n",
    "                filter(datatype == 'score')"
   ]
  },
  {
   "cell_type": "code",
   "execution_count": 77,
   "metadata": {
    "collapsed": true
   },
   "outputs": [],
   "source": [
    "score_preds <- predict(fit.log, newdata = score_df, type=\"probs\")"
   ]
  },
  {
   "cell_type": "code",
   "execution_count": 78,
   "metadata": {
    "collapsed": true
   },
   "outputs": [],
   "source": [
    "score_df$team_tie_prob <- (score_preds %>% as.data.frame)$Draw\n",
    "score_df$team_1_prob <- (score_preds %>% as.data.frame)$T1_Win\n",
    "score_df$team_2_prob <- (score_preds %>% as.data.frame)$T2_Win"
   ]
  },
  {
   "cell_type": "code",
   "execution_count": 79,
   "metadata": {},
   "outputs": [
    {
     "data": {
      "text/html": [
       "<table>\n",
       "<thead><tr><th scope=col>id</th><th scope=col>date</th><th scope=col>team_1_name</th><th scope=col>team_1_score</th><th scope=col>team_2_name</th><th scope=col>team_2_score</th><th scope=col>d_ability_1</th><th scope=col>d_ability_3</th><th scope=col>d_ability_4</th><th scope=col>is_november</th><th scope=col>...</th><th scope=col>d_form_4</th><th scope=col>d_h2h_2</th><th scope=col>c_ability_3</th><th scope=col>datatype</th><th scope=col>team_1_prob</th><th scope=col>team_tie_prob</th><th scope=col>team_2_prob</th><th scope=col>team_1_win</th><th scope=col>team_1_draw</th><th scope=col>team_1_result</th></tr></thead>\n",
       "<tbody>\n",
       "\t<tr><td>5a120d709772221454d5f498</td><td>2017-12-02 12:30:00     </td><td>Chelsea                 </td><td>NA                      </td><td>Newcastle Utd           </td><td>NA                      </td><td> 1.96751062             </td><td> 2.01187006             </td><td> 2.00470273             </td><td>-0.3388981              </td><td>...                     </td><td>-0.48595668             </td><td>-1.402763               </td><td> 1.92381970             </td><td>score                   </td><td>0.8028497               </td><td>0.1580269319            </td><td>0.0391233367            </td><td>NA                      </td><td>NA                      </td><td>T2_Win                  </td></tr>\n",
       "\t<tr><td>5a120d709772221454d5f499</td><td>2017-12-02 15:00:00     </td><td>Brighton                </td><td>NA                      </td><td>Liverpool               </td><td>NA                      </td><td>-1.47303379             </td><td>-1.38555272             </td><td>-1.37586793             </td><td>-0.3388981              </td><td>...                     </td><td>-1.64179633             </td><td>-1.402763               </td><td>-1.31565191             </td><td>score                   </td><td>0.1690312               </td><td>0.8300950634            </td><td>0.0008737328            </td><td>NA                      </td><td>NA                      </td><td>T2_Win                  </td></tr>\n",
       "\t<tr><td>5a120d709772221454d5f49a</td><td>2017-12-02 15:00:00     </td><td>Everton                 </td><td>NA                      </td><td>Huddersfield            </td><td>NA                      </td><td> 1.40722915             </td><td> 1.38521152             </td><td> 1.41683349             </td><td>-0.3388981              </td><td>...                     </td><td> 1.31733546             </td><td>-1.402763               </td><td> 1.31911636             </td><td>score                   </td><td>0.9994018               </td><td>0.0005423213            </td><td>0.0000558681            </td><td>NA                      </td><td>NA                      </td><td>T2_Win                  </td></tr>\n",
       "\t<tr><td>5a120d709772221454d5f49b</td><td>2017-12-02 15:00:00     </td><td>Leicester               </td><td>NA                      </td><td>Burnley                 </td><td>NA                      </td><td> 0.10381964             </td><td> 0.17807169             </td><td> 0.18331713             </td><td>-0.3388981              </td><td>...                     </td><td> 1.44243946             </td><td>-1.402763               </td><td> 0.02321273             </td><td>score                   </td><td>0.6687642               </td><td>0.2490841436            </td><td>0.0821516538            </td><td>NA                      </td><td>NA                      </td><td>T2_Win                  </td></tr>\n",
       "\t<tr><td>5a120d709772221454d5f49c</td><td>2017-12-02 15:00:00     </td><td>Stoke City              </td><td>NA                      </td><td>Swansea                 </td><td>NA                      </td><td>-0.06367499             </td><td>-0.07450312             </td><td>-0.07417618             </td><td>-0.3388981              </td><td>...                     </td><td> 0.35385196             </td><td>-1.402763               </td><td>-0.14250315             </td><td>score                   </td><td>0.5238568               </td><td>0.2410995765            </td><td>0.2350436677            </td><td>NA                      </td><td>NA                      </td><td>T2_Win                  </td></tr>\n",
       "\t<tr><td>5a120d709772221454d5f49d</td><td>2017-12-02 15:00:00     </td><td>Watford                 </td><td>NA                      </td><td>Tottenham               </td><td>NA                      </td><td>-1.94949177             </td><td>-1.99054806             </td><td>-2.01590239             </td><td>-0.3388981              </td><td>...                     </td><td>-1.24836563             </td><td>-1.402763               </td><td>-1.98777391             </td><td>score                   </td><td>0.1297043               </td><td>0.2884394701            </td><td>0.5818562230            </td><td>NA                      </td><td>NA                      </td><td>T2_Win                  </td></tr>\n",
       "\t<tr><td>5a120d709772221454d5f49e</td><td>2017-12-02 15:00:00     </td><td>West Brom               </td><td>NA                      </td><td>Crystal Palace          </td><td>NA                      </td><td> 0.15047687             </td><td> 0.02742430             </td><td> 0.03268285             </td><td>-0.3388981              </td><td>...                     </td><td> 0.24193526             </td><td>-1.402763               </td><td>-0.27377401             </td><td>score                   </td><td>0.4619987               </td><td>0.2603309529            </td><td>0.2776703446            </td><td>NA                      </td><td>NA                      </td><td>T2_Win                  </td></tr>\n",
       "\t<tr><td>5a120d709772221454d5f49f</td><td>2017-12-02 17:30:00     </td><td>Arsenal                 </td><td>NA                      </td><td>Manchester United       </td><td>NA                      </td><td>-0.09842435             </td><td> 0.03513061             </td><td> 0.03288044             </td><td>-0.3388981              </td><td>...                     </td><td>-1.75973037             </td><td>-1.402763               </td><td>-0.01497975             </td><td>score                   </td><td>0.3861231               </td><td>0.2561524854            </td><td>0.3577244429            </td><td>NA                      </td><td>NA                      </td><td>T2_Win                  </td></tr>\n",
       "\t<tr><td>5a120d709772221454d5f4a0</td><td>2017-12-03 13:30:00     </td><td>Bournemouth             </td><td>NA                      </td><td>Southampton             </td><td>NA                      </td><td>-0.16643208             </td><td>-0.20420363             </td><td>-0.20670962             </td><td>-0.3388981              </td><td>...                     </td><td>-0.16917232             </td><td>-1.402763               </td><td>-0.23937974             </td><td>score                   </td><td>0.4734958               </td><td>0.1393532226            </td><td>0.3871510255            </td><td>NA                      </td><td>NA                      </td><td>T2_Win                  </td></tr>\n",
       "\t<tr><td>5a120d709772221454d5f4a1</td><td>2017-12-03 16:00:00     </td><td>Manchester City         </td><td>NA                      </td><td>West Ham                </td><td>NA                      </td><td> 2.78026895             </td><td> 2.82749141             </td><td> 2.84175168             </td><td>-0.3388981              </td><td>...                     </td><td>-0.05953659             </td><td>-1.402763               </td><td> 2.86975901             </td><td>score                   </td><td>0.8915772               </td><td>0.0646058786            </td><td>0.0438168846            </td><td>NA                      </td><td>NA                      </td><td>T2_Win                  </td></tr>\n",
       "</tbody>\n",
       "</table>\n"
      ],
      "text/latex": [
       "\\begin{tabular}{r|lllllllllllllllllllll}\n",
       " id & date & team\\_1\\_name & team\\_1\\_score & team\\_2\\_name & team\\_2\\_score & d\\_ability\\_1 & d\\_ability\\_3 & d\\_ability\\_4 & is\\_november & ... & d\\_form\\_4 & d\\_h2h\\_2 & c\\_ability\\_3 & datatype & team\\_1\\_prob & team\\_tie\\_prob & team\\_2\\_prob & team\\_1\\_win & team\\_1\\_draw & team\\_1\\_result\\\\\n",
       "\\hline\n",
       "\t 5a120d709772221454d5f498 & 2017-12-02 12:30:00      & Chelsea                  & NA                       & Newcastle Utd            & NA                       &  1.96751062              &  2.01187006              &  2.00470273              & -0.3388981               & ...                      & -0.48595668              & -1.402763                &  1.92381970              & score                    & 0.8028497                & 0.1580269319             & 0.0391233367             & NA                       & NA                       & T2\\_Win                \\\\\n",
       "\t 5a120d709772221454d5f499 & 2017-12-02 15:00:00      & Brighton                 & NA                       & Liverpool                & NA                       & -1.47303379              & -1.38555272              & -1.37586793              & -0.3388981               & ...                      & -1.64179633              & -1.402763                & -1.31565191              & score                    & 0.1690312                & 0.8300950634             & 0.0008737328             & NA                       & NA                       & T2\\_Win                \\\\\n",
       "\t 5a120d709772221454d5f49a & 2017-12-02 15:00:00      & Everton                  & NA                       & Huddersfield             & NA                       &  1.40722915              &  1.38521152              &  1.41683349              & -0.3388981               & ...                      &  1.31733546              & -1.402763                &  1.31911636              & score                    & 0.9994018                & 0.0005423213             & 0.0000558681             & NA                       & NA                       & T2\\_Win                \\\\\n",
       "\t 5a120d709772221454d5f49b & 2017-12-02 15:00:00      & Leicester                & NA                       & Burnley                  & NA                       &  0.10381964              &  0.17807169              &  0.18331713              & -0.3388981               & ...                      &  1.44243946              & -1.402763                &  0.02321273              & score                    & 0.6687642                & 0.2490841436             & 0.0821516538             & NA                       & NA                       & T2\\_Win                \\\\\n",
       "\t 5a120d709772221454d5f49c & 2017-12-02 15:00:00      & Stoke City               & NA                       & Swansea                  & NA                       & -0.06367499              & -0.07450312              & -0.07417618              & -0.3388981               & ...                      &  0.35385196              & -1.402763                & -0.14250315              & score                    & 0.5238568                & 0.2410995765             & 0.2350436677             & NA                       & NA                       & T2\\_Win                \\\\\n",
       "\t 5a120d709772221454d5f49d & 2017-12-02 15:00:00      & Watford                  & NA                       & Tottenham                & NA                       & -1.94949177              & -1.99054806              & -2.01590239              & -0.3388981               & ...                      & -1.24836563              & -1.402763                & -1.98777391              & score                    & 0.1297043                & 0.2884394701             & 0.5818562230             & NA                       & NA                       & T2\\_Win                \\\\\n",
       "\t 5a120d709772221454d5f49e & 2017-12-02 15:00:00      & West Brom                & NA                       & Crystal Palace           & NA                       &  0.15047687              &  0.02742430              &  0.03268285              & -0.3388981               & ...                      &  0.24193526              & -1.402763                & -0.27377401              & score                    & 0.4619987                & 0.2603309529             & 0.2776703446             & NA                       & NA                       & T2\\_Win                \\\\\n",
       "\t 5a120d709772221454d5f49f & 2017-12-02 17:30:00      & Arsenal                  & NA                       & Manchester United        & NA                       & -0.09842435              &  0.03513061              &  0.03288044              & -0.3388981               & ...                      & -1.75973037              & -1.402763                & -0.01497975              & score                    & 0.3861231                & 0.2561524854             & 0.3577244429             & NA                       & NA                       & T2\\_Win                \\\\\n",
       "\t 5a120d709772221454d5f4a0 & 2017-12-03 13:30:00      & Bournemouth              & NA                       & Southampton              & NA                       & -0.16643208              & -0.20420363              & -0.20670962              & -0.3388981               & ...                      & -0.16917232              & -1.402763                & -0.23937974              & score                    & 0.4734958                & 0.1393532226             & 0.3871510255             & NA                       & NA                       & T2\\_Win                \\\\\n",
       "\t 5a120d709772221454d5f4a1 & 2017-12-03 16:00:00      & Manchester City          & NA                       & West Ham                 & NA                       &  2.78026895              &  2.82749141              &  2.84175168              & -0.3388981               & ...                      & -0.05953659              & -1.402763                &  2.86975901              & score                    & 0.8915772                & 0.0646058786             & 0.0438168846             & NA                       & NA                       & T2\\_Win                \\\\\n",
       "\\end{tabular}\n"
      ],
      "text/markdown": [
       "\n",
       "id | date | team_1_name | team_1_score | team_2_name | team_2_score | d_ability_1 | d_ability_3 | d_ability_4 | is_november | ... | d_form_4 | d_h2h_2 | c_ability_3 | datatype | team_1_prob | team_tie_prob | team_2_prob | team_1_win | team_1_draw | team_1_result | \n",
       "|---|---|---|---|---|---|---|---|---|---|\n",
       "| 5a120d709772221454d5f498 | 2017-12-02 12:30:00      | Chelsea                  | NA                       | Newcastle Utd            | NA                       |  1.96751062              |  2.01187006              |  2.00470273              | -0.3388981               | ...                      | -0.48595668              | -1.402763                |  1.92381970              | score                    | 0.8028497                | 0.1580269319             | 0.0391233367             | NA                       | NA                       | T2_Win                   | \n",
       "| 5a120d709772221454d5f499 | 2017-12-02 15:00:00      | Brighton                 | NA                       | Liverpool                | NA                       | -1.47303379              | -1.38555272              | -1.37586793              | -0.3388981               | ...                      | -1.64179633              | -1.402763                | -1.31565191              | score                    | 0.1690312                | 0.8300950634             | 0.0008737328             | NA                       | NA                       | T2_Win                   | \n",
       "| 5a120d709772221454d5f49a | 2017-12-02 15:00:00      | Everton                  | NA                       | Huddersfield             | NA                       |  1.40722915              |  1.38521152              |  1.41683349              | -0.3388981               | ...                      |  1.31733546              | -1.402763                |  1.31911636              | score                    | 0.9994018                | 0.0005423213             | 0.0000558681             | NA                       | NA                       | T2_Win                   | \n",
       "| 5a120d709772221454d5f49b | 2017-12-02 15:00:00      | Leicester                | NA                       | Burnley                  | NA                       |  0.10381964              |  0.17807169              |  0.18331713              | -0.3388981               | ...                      |  1.44243946              | -1.402763                |  0.02321273              | score                    | 0.6687642                | 0.2490841436             | 0.0821516538             | NA                       | NA                       | T2_Win                   | \n",
       "| 5a120d709772221454d5f49c | 2017-12-02 15:00:00      | Stoke City               | NA                       | Swansea                  | NA                       | -0.06367499              | -0.07450312              | -0.07417618              | -0.3388981               | ...                      |  0.35385196              | -1.402763                | -0.14250315              | score                    | 0.5238568                | 0.2410995765             | 0.2350436677             | NA                       | NA                       | T2_Win                   | \n",
       "| 5a120d709772221454d5f49d | 2017-12-02 15:00:00      | Watford                  | NA                       | Tottenham                | NA                       | -1.94949177              | -1.99054806              | -2.01590239              | -0.3388981               | ...                      | -1.24836563              | -1.402763                | -1.98777391              | score                    | 0.1297043                | 0.2884394701             | 0.5818562230             | NA                       | NA                       | T2_Win                   | \n",
       "| 5a120d709772221454d5f49e | 2017-12-02 15:00:00      | West Brom                | NA                       | Crystal Palace           | NA                       |  0.15047687              |  0.02742430              |  0.03268285              | -0.3388981               | ...                      |  0.24193526              | -1.402763                | -0.27377401              | score                    | 0.4619987                | 0.2603309529             | 0.2776703446             | NA                       | NA                       | T2_Win                   | \n",
       "| 5a120d709772221454d5f49f | 2017-12-02 17:30:00      | Arsenal                  | NA                       | Manchester United        | NA                       | -0.09842435              |  0.03513061              |  0.03288044              | -0.3388981               | ...                      | -1.75973037              | -1.402763                | -0.01497975              | score                    | 0.3861231                | 0.2561524854             | 0.3577244429             | NA                       | NA                       | T2_Win                   | \n",
       "| 5a120d709772221454d5f4a0 | 2017-12-03 13:30:00      | Bournemouth              | NA                       | Southampton              | NA                       | -0.16643208              | -0.20420363              | -0.20670962              | -0.3388981               | ...                      | -0.16917232              | -1.402763                | -0.23937974              | score                    | 0.4734958                | 0.1393532226             | 0.3871510255             | NA                       | NA                       | T2_Win                   | \n",
       "| 5a120d709772221454d5f4a1 | 2017-12-03 16:00:00      | Manchester City          | NA                       | West Ham                 | NA                       |  2.78026895              |  2.82749141              |  2.84175168              | -0.3388981               | ...                      | -0.05953659              | -1.402763                |  2.86975901              | score                    | 0.8915772                | 0.0646058786             | 0.0438168846             | NA                       | NA                       | T2_Win                   | \n",
       "\n",
       "\n"
      ],
      "text/plain": [
       "   id                       date                team_1_name     team_1_score\n",
       "1  5a120d709772221454d5f498 2017-12-02 12:30:00 Chelsea         NA          \n",
       "2  5a120d709772221454d5f499 2017-12-02 15:00:00 Brighton        NA          \n",
       "3  5a120d709772221454d5f49a 2017-12-02 15:00:00 Everton         NA          \n",
       "4  5a120d709772221454d5f49b 2017-12-02 15:00:00 Leicester       NA          \n",
       "5  5a120d709772221454d5f49c 2017-12-02 15:00:00 Stoke City      NA          \n",
       "6  5a120d709772221454d5f49d 2017-12-02 15:00:00 Watford         NA          \n",
       "7  5a120d709772221454d5f49e 2017-12-02 15:00:00 West Brom       NA          \n",
       "8  5a120d709772221454d5f49f 2017-12-02 17:30:00 Arsenal         NA          \n",
       "9  5a120d709772221454d5f4a0 2017-12-03 13:30:00 Bournemouth     NA          \n",
       "10 5a120d709772221454d5f4a1 2017-12-03 16:00:00 Manchester City NA          \n",
       "   team_2_name       team_2_score d_ability_1 d_ability_3 d_ability_4\n",
       "1  Newcastle Utd     NA            1.96751062  2.01187006  2.00470273\n",
       "2  Liverpool         NA           -1.47303379 -1.38555272 -1.37586793\n",
       "3  Huddersfield      NA            1.40722915  1.38521152  1.41683349\n",
       "4  Burnley           NA            0.10381964  0.17807169  0.18331713\n",
       "5  Swansea           NA           -0.06367499 -0.07450312 -0.07417618\n",
       "6  Tottenham         NA           -1.94949177 -1.99054806 -2.01590239\n",
       "7  Crystal Palace    NA            0.15047687  0.02742430  0.03268285\n",
       "8  Manchester United NA           -0.09842435  0.03513061  0.03288044\n",
       "9  Southampton       NA           -0.16643208 -0.20420363 -0.20670962\n",
       "10 West Ham          NA            2.78026895  2.82749141  2.84175168\n",
       "   is_november ... d_form_4    d_h2h_2   c_ability_3 datatype team_1_prob\n",
       "1  -0.3388981  ... -0.48595668 -1.402763  1.92381970 score    0.8028497  \n",
       "2  -0.3388981  ... -1.64179633 -1.402763 -1.31565191 score    0.1690312  \n",
       "3  -0.3388981  ...  1.31733546 -1.402763  1.31911636 score    0.9994018  \n",
       "4  -0.3388981  ...  1.44243946 -1.402763  0.02321273 score    0.6687642  \n",
       "5  -0.3388981  ...  0.35385196 -1.402763 -0.14250315 score    0.5238568  \n",
       "6  -0.3388981  ... -1.24836563 -1.402763 -1.98777391 score    0.1297043  \n",
       "7  -0.3388981  ...  0.24193526 -1.402763 -0.27377401 score    0.4619987  \n",
       "8  -0.3388981  ... -1.75973037 -1.402763 -0.01497975 score    0.3861231  \n",
       "9  -0.3388981  ... -0.16917232 -1.402763 -0.23937974 score    0.4734958  \n",
       "10 -0.3388981  ... -0.05953659 -1.402763  2.86975901 score    0.8915772  \n",
       "   team_tie_prob team_2_prob  team_1_win team_1_draw team_1_result\n",
       "1  0.1580269319  0.0391233367 NA         NA          T2_Win       \n",
       "2  0.8300950634  0.0008737328 NA         NA          T2_Win       \n",
       "3  0.0005423213  0.0000558681 NA         NA          T2_Win       \n",
       "4  0.2490841436  0.0821516538 NA         NA          T2_Win       \n",
       "5  0.2410995765  0.2350436677 NA         NA          T2_Win       \n",
       "6  0.2884394701  0.5818562230 NA         NA          T2_Win       \n",
       "7  0.2603309529  0.2776703446 NA         NA          T2_Win       \n",
       "8  0.2561524854  0.3577244429 NA         NA          T2_Win       \n",
       "9  0.1393532226  0.3871510255 NA         NA          T2_Win       \n",
       "10 0.0646058786  0.0438168846 NA         NA          T2_Win       "
      ]
     },
     "metadata": {},
     "output_type": "display_data"
    }
   ],
   "source": [
    "score_df"
   ]
  },
  {
   "cell_type": "markdown",
   "metadata": {},
   "source": [
    "### Rebuild scores, merge and write"
   ]
  },
  {
   "cell_type": "code",
   "execution_count": 80,
   "metadata": {
    "collapsed": true
   },
   "outputs": [],
   "source": [
    "score <- read.csv('../DataCollection/english_premier_league_competition_data.csv')"
   ]
  },
  {
   "cell_type": "code",
   "execution_count": 81,
   "metadata": {
    "collapsed": true
   },
   "outputs": [],
   "source": [
    "submit <- score %>%\n",
    "    select(-team_1_prob,-team_2_prob,-team_tie_prob) %>%\n",
    "    merge(\n",
    "        score_df %>% select(id, team_1_prob, team_2_prob, team_tie_prob)\n",
    "    )"
   ]
  },
  {
   "cell_type": "code",
   "execution_count": 82,
   "metadata": {},
   "outputs": [
    {
     "data": {
      "text/html": [
       "<table>\n",
       "<thead><tr><th scope=col>id</th><th scope=col>date</th><th scope=col>team_1_name</th><th scope=col>team_2_name</th><th scope=col>d_ability_1</th><th scope=col>d_ability_3</th><th scope=col>d_ability_4</th><th scope=col>is_november</th><th scope=col>is_february</th><th scope=col>d_form_4</th><th scope=col>d_h2h_2</th><th scope=col>c_ability_3</th><th scope=col>team_1_prob</th><th scope=col>team_2_prob</th><th scope=col>team_tie_prob</th></tr></thead>\n",
       "<tbody>\n",
       "\t<tr><td>5a120d709772221454d5f498</td><td>2017-12-02 12:30:00     </td><td>Chelsea                 </td><td>Newcastle Utd           </td><td> 1.96751062             </td><td> 2.01187006             </td><td> 2.00470273             </td><td>-0.3388981              </td><td>-0.3181852              </td><td>-0.48595668             </td><td>-1.402763               </td><td> 1.92381970             </td><td>0.8028497               </td><td>0.0391233367            </td><td>0.1580269319            </td></tr>\n",
       "\t<tr><td>5a120d709772221454d5f499</td><td>2017-12-02 15:00:00     </td><td>Brighton                </td><td>Liverpool               </td><td>-1.47303379             </td><td>-1.38555272             </td><td>-1.37586793             </td><td>-0.3388981              </td><td>-0.3181852              </td><td>-1.64179633             </td><td>-1.402763               </td><td>-1.31565191             </td><td>0.1690312               </td><td>0.0008737328            </td><td>0.8300950634            </td></tr>\n",
       "\t<tr><td>5a120d709772221454d5f49a</td><td>2017-12-02 15:00:00     </td><td>Everton                 </td><td>Huddersfield            </td><td> 1.40722915             </td><td> 1.38521152             </td><td> 1.41683349             </td><td>-0.3388981              </td><td>-0.3181852              </td><td> 1.31733546             </td><td>-1.402763               </td><td> 1.31911636             </td><td>0.9994018               </td><td>0.0000558681            </td><td>0.0005423213            </td></tr>\n",
       "\t<tr><td>5a120d709772221454d5f49b</td><td>2017-12-02 15:00:00     </td><td>Leicester               </td><td>Burnley                 </td><td> 0.10381964             </td><td> 0.17807169             </td><td> 0.18331713             </td><td>-0.3388981              </td><td>-0.3181852              </td><td> 1.44243946             </td><td>-1.402763               </td><td> 0.02321273             </td><td>0.6687642               </td><td>0.0821516538            </td><td>0.2490841436            </td></tr>\n",
       "\t<tr><td>5a120d709772221454d5f49c</td><td>2017-12-02 15:00:00     </td><td>Stoke City              </td><td>Swansea                 </td><td>-0.06367499             </td><td>-0.07450312             </td><td>-0.07417618             </td><td>-0.3388981              </td><td>-0.3181852              </td><td> 0.35385196             </td><td>-1.402763               </td><td>-0.14250315             </td><td>0.5238568               </td><td>0.2350436677            </td><td>0.2410995765            </td></tr>\n",
       "\t<tr><td>5a120d709772221454d5f49d</td><td>2017-12-02 15:00:00     </td><td>Watford                 </td><td>Tottenham               </td><td>-1.94949177             </td><td>-1.99054806             </td><td>-2.01590239             </td><td>-0.3388981              </td><td>-0.3181852              </td><td>-1.24836563             </td><td>-1.402763               </td><td>-1.98777391             </td><td>0.1297043               </td><td>0.5818562230            </td><td>0.2884394701            </td></tr>\n",
       "\t<tr><td>5a120d709772221454d5f49e</td><td>2017-12-02 15:00:00     </td><td>West Brom               </td><td>Crystal Palace          </td><td> 0.15047687             </td><td> 0.02742430             </td><td> 0.03268285             </td><td>-0.3388981              </td><td>-0.3181852              </td><td> 0.24193526             </td><td>-1.402763               </td><td>-0.27377401             </td><td>0.4619987               </td><td>0.2776703446            </td><td>0.2603309529            </td></tr>\n",
       "\t<tr><td>5a120d709772221454d5f49f</td><td>2017-12-02 17:30:00     </td><td>Arsenal                 </td><td>Manchester United       </td><td>-0.09842435             </td><td> 0.03513061             </td><td> 0.03288044             </td><td>-0.3388981              </td><td>-0.3181852              </td><td>-1.75973037             </td><td>-1.402763               </td><td>-0.01497975             </td><td>0.3861231               </td><td>0.3577244429            </td><td>0.2561524854            </td></tr>\n",
       "\t<tr><td>5a120d709772221454d5f4a0</td><td>2017-12-03 13:30:00     </td><td>Bournemouth             </td><td>Southampton             </td><td>-0.16643208             </td><td>-0.20420363             </td><td>-0.20670962             </td><td>-0.3388981              </td><td>-0.3181852              </td><td>-0.16917232             </td><td>-1.402763               </td><td>-0.23937974             </td><td>0.4734958               </td><td>0.3871510255            </td><td>0.1393532226            </td></tr>\n",
       "\t<tr><td>5a120d709772221454d5f4a1</td><td>2017-12-03 16:00:00     </td><td>Manchester City         </td><td>West Ham                </td><td> 2.78026895             </td><td> 2.82749141             </td><td> 2.84175168             </td><td>-0.3388981              </td><td>-0.3181852              </td><td>-0.05953659             </td><td>-1.402763               </td><td> 2.86975901             </td><td>0.8915772               </td><td>0.0438168846            </td><td>0.0646058786            </td></tr>\n",
       "</tbody>\n",
       "</table>\n"
      ],
      "text/latex": [
       "\\begin{tabular}{r|lllllllllllllll}\n",
       " id & date & team\\_1\\_name & team\\_2\\_name & d\\_ability\\_1 & d\\_ability\\_3 & d\\_ability\\_4 & is\\_november & is\\_february & d\\_form\\_4 & d\\_h2h\\_2 & c\\_ability\\_3 & team\\_1\\_prob & team\\_2\\_prob & team\\_tie\\_prob\\\\\n",
       "\\hline\n",
       "\t 5a120d709772221454d5f498 & 2017-12-02 12:30:00      & Chelsea                  & Newcastle Utd            &  1.96751062              &  2.01187006              &  2.00470273              & -0.3388981               & -0.3181852               & -0.48595668              & -1.402763                &  1.92381970              & 0.8028497                & 0.0391233367             & 0.1580269319            \\\\\n",
       "\t 5a120d709772221454d5f499 & 2017-12-02 15:00:00      & Brighton                 & Liverpool                & -1.47303379              & -1.38555272              & -1.37586793              & -0.3388981               & -0.3181852               & -1.64179633              & -1.402763                & -1.31565191              & 0.1690312                & 0.0008737328             & 0.8300950634            \\\\\n",
       "\t 5a120d709772221454d5f49a & 2017-12-02 15:00:00      & Everton                  & Huddersfield             &  1.40722915              &  1.38521152              &  1.41683349              & -0.3388981               & -0.3181852               &  1.31733546              & -1.402763                &  1.31911636              & 0.9994018                & 0.0000558681             & 0.0005423213            \\\\\n",
       "\t 5a120d709772221454d5f49b & 2017-12-02 15:00:00      & Leicester                & Burnley                  &  0.10381964              &  0.17807169              &  0.18331713              & -0.3388981               & -0.3181852               &  1.44243946              & -1.402763                &  0.02321273              & 0.6687642                & 0.0821516538             & 0.2490841436            \\\\\n",
       "\t 5a120d709772221454d5f49c & 2017-12-02 15:00:00      & Stoke City               & Swansea                  & -0.06367499              & -0.07450312              & -0.07417618              & -0.3388981               & -0.3181852               &  0.35385196              & -1.402763                & -0.14250315              & 0.5238568                & 0.2350436677             & 0.2410995765            \\\\\n",
       "\t 5a120d709772221454d5f49d & 2017-12-02 15:00:00      & Watford                  & Tottenham                & -1.94949177              & -1.99054806              & -2.01590239              & -0.3388981               & -0.3181852               & -1.24836563              & -1.402763                & -1.98777391              & 0.1297043                & 0.5818562230             & 0.2884394701            \\\\\n",
       "\t 5a120d709772221454d5f49e & 2017-12-02 15:00:00      & West Brom                & Crystal Palace           &  0.15047687              &  0.02742430              &  0.03268285              & -0.3388981               & -0.3181852               &  0.24193526              & -1.402763                & -0.27377401              & 0.4619987                & 0.2776703446             & 0.2603309529            \\\\\n",
       "\t 5a120d709772221454d5f49f & 2017-12-02 17:30:00      & Arsenal                  & Manchester United        & -0.09842435              &  0.03513061              &  0.03288044              & -0.3388981               & -0.3181852               & -1.75973037              & -1.402763                & -0.01497975              & 0.3861231                & 0.3577244429             & 0.2561524854            \\\\\n",
       "\t 5a120d709772221454d5f4a0 & 2017-12-03 13:30:00      & Bournemouth              & Southampton              & -0.16643208              & -0.20420363              & -0.20670962              & -0.3388981               & -0.3181852               & -0.16917232              & -1.402763                & -0.23937974              & 0.4734958                & 0.3871510255             & 0.1393532226            \\\\\n",
       "\t 5a120d709772221454d5f4a1 & 2017-12-03 16:00:00      & Manchester City          & West Ham                 &  2.78026895              &  2.82749141              &  2.84175168              & -0.3388981               & -0.3181852               & -0.05953659              & -1.402763                &  2.86975901              & 0.8915772                & 0.0438168846             & 0.0646058786            \\\\\n",
       "\\end{tabular}\n"
      ],
      "text/markdown": [
       "\n",
       "id | date | team_1_name | team_2_name | d_ability_1 | d_ability_3 | d_ability_4 | is_november | is_february | d_form_4 | d_h2h_2 | c_ability_3 | team_1_prob | team_2_prob | team_tie_prob | \n",
       "|---|---|---|---|---|---|---|---|---|---|\n",
       "| 5a120d709772221454d5f498 | 2017-12-02 12:30:00      | Chelsea                  | Newcastle Utd            |  1.96751062              |  2.01187006              |  2.00470273              | -0.3388981               | -0.3181852               | -0.48595668              | -1.402763                |  1.92381970              | 0.8028497                | 0.0391233367             | 0.1580269319             | \n",
       "| 5a120d709772221454d5f499 | 2017-12-02 15:00:00      | Brighton                 | Liverpool                | -1.47303379              | -1.38555272              | -1.37586793              | -0.3388981               | -0.3181852               | -1.64179633              | -1.402763                | -1.31565191              | 0.1690312                | 0.0008737328             | 0.8300950634             | \n",
       "| 5a120d709772221454d5f49a | 2017-12-02 15:00:00      | Everton                  | Huddersfield             |  1.40722915              |  1.38521152              |  1.41683349              | -0.3388981               | -0.3181852               |  1.31733546              | -1.402763                |  1.31911636              | 0.9994018                | 0.0000558681             | 0.0005423213             | \n",
       "| 5a120d709772221454d5f49b | 2017-12-02 15:00:00      | Leicester                | Burnley                  |  0.10381964              |  0.17807169              |  0.18331713              | -0.3388981               | -0.3181852               |  1.44243946              | -1.402763                |  0.02321273              | 0.6687642                | 0.0821516538             | 0.2490841436             | \n",
       "| 5a120d709772221454d5f49c | 2017-12-02 15:00:00      | Stoke City               | Swansea                  | -0.06367499              | -0.07450312              | -0.07417618              | -0.3388981               | -0.3181852               |  0.35385196              | -1.402763                | -0.14250315              | 0.5238568                | 0.2350436677             | 0.2410995765             | \n",
       "| 5a120d709772221454d5f49d | 2017-12-02 15:00:00      | Watford                  | Tottenham                | -1.94949177              | -1.99054806              | -2.01590239              | -0.3388981               | -0.3181852               | -1.24836563              | -1.402763                | -1.98777391              | 0.1297043                | 0.5818562230             | 0.2884394701             | \n",
       "| 5a120d709772221454d5f49e | 2017-12-02 15:00:00      | West Brom                | Crystal Palace           |  0.15047687              |  0.02742430              |  0.03268285              | -0.3388981               | -0.3181852               |  0.24193526              | -1.402763                | -0.27377401              | 0.4619987                | 0.2776703446             | 0.2603309529             | \n",
       "| 5a120d709772221454d5f49f | 2017-12-02 17:30:00      | Arsenal                  | Manchester United        | -0.09842435              |  0.03513061              |  0.03288044              | -0.3388981               | -0.3181852               | -1.75973037              | -1.402763                | -0.01497975              | 0.3861231                | 0.3577244429             | 0.2561524854             | \n",
       "| 5a120d709772221454d5f4a0 | 2017-12-03 13:30:00      | Bournemouth              | Southampton              | -0.16643208              | -0.20420363              | -0.20670962              | -0.3388981               | -0.3181852               | -0.16917232              | -1.402763                | -0.23937974              | 0.4734958                | 0.3871510255             | 0.1393532226             | \n",
       "| 5a120d709772221454d5f4a1 | 2017-12-03 16:00:00      | Manchester City          | West Ham                 |  2.78026895              |  2.82749141              |  2.84175168              | -0.3388981               | -0.3181852               | -0.05953659              | -1.402763                |  2.86975901              | 0.8915772                | 0.0438168846             | 0.0646058786             | \n",
       "\n",
       "\n"
      ],
      "text/plain": [
       "   id                       date                team_1_name    \n",
       "1  5a120d709772221454d5f498 2017-12-02 12:30:00 Chelsea        \n",
       "2  5a120d709772221454d5f499 2017-12-02 15:00:00 Brighton       \n",
       "3  5a120d709772221454d5f49a 2017-12-02 15:00:00 Everton        \n",
       "4  5a120d709772221454d5f49b 2017-12-02 15:00:00 Leicester      \n",
       "5  5a120d709772221454d5f49c 2017-12-02 15:00:00 Stoke City     \n",
       "6  5a120d709772221454d5f49d 2017-12-02 15:00:00 Watford        \n",
       "7  5a120d709772221454d5f49e 2017-12-02 15:00:00 West Brom      \n",
       "8  5a120d709772221454d5f49f 2017-12-02 17:30:00 Arsenal        \n",
       "9  5a120d709772221454d5f4a0 2017-12-03 13:30:00 Bournemouth    \n",
       "10 5a120d709772221454d5f4a1 2017-12-03 16:00:00 Manchester City\n",
       "   team_2_name       d_ability_1 d_ability_3 d_ability_4 is_november\n",
       "1  Newcastle Utd      1.96751062  2.01187006  2.00470273 -0.3388981 \n",
       "2  Liverpool         -1.47303379 -1.38555272 -1.37586793 -0.3388981 \n",
       "3  Huddersfield       1.40722915  1.38521152  1.41683349 -0.3388981 \n",
       "4  Burnley            0.10381964  0.17807169  0.18331713 -0.3388981 \n",
       "5  Swansea           -0.06367499 -0.07450312 -0.07417618 -0.3388981 \n",
       "6  Tottenham         -1.94949177 -1.99054806 -2.01590239 -0.3388981 \n",
       "7  Crystal Palace     0.15047687  0.02742430  0.03268285 -0.3388981 \n",
       "8  Manchester United -0.09842435  0.03513061  0.03288044 -0.3388981 \n",
       "9  Southampton       -0.16643208 -0.20420363 -0.20670962 -0.3388981 \n",
       "10 West Ham           2.78026895  2.82749141  2.84175168 -0.3388981 \n",
       "   is_february d_form_4    d_h2h_2   c_ability_3 team_1_prob team_2_prob \n",
       "1  -0.3181852  -0.48595668 -1.402763  1.92381970 0.8028497   0.0391233367\n",
       "2  -0.3181852  -1.64179633 -1.402763 -1.31565191 0.1690312   0.0008737328\n",
       "3  -0.3181852   1.31733546 -1.402763  1.31911636 0.9994018   0.0000558681\n",
       "4  -0.3181852   1.44243946 -1.402763  0.02321273 0.6687642   0.0821516538\n",
       "5  -0.3181852   0.35385196 -1.402763 -0.14250315 0.5238568   0.2350436677\n",
       "6  -0.3181852  -1.24836563 -1.402763 -1.98777391 0.1297043   0.5818562230\n",
       "7  -0.3181852   0.24193526 -1.402763 -0.27377401 0.4619987   0.2776703446\n",
       "8  -0.3181852  -1.75973037 -1.402763 -0.01497975 0.3861231   0.3577244429\n",
       "9  -0.3181852  -0.16917232 -1.402763 -0.23937974 0.4734958   0.3871510255\n",
       "10 -0.3181852  -0.05953659 -1.402763  2.86975901 0.8915772   0.0438168846\n",
       "   team_tie_prob\n",
       "1  0.1580269319 \n",
       "2  0.8300950634 \n",
       "3  0.0005423213 \n",
       "4  0.2490841436 \n",
       "5  0.2410995765 \n",
       "6  0.2884394701 \n",
       "7  0.2603309529 \n",
       "8  0.2561524854 \n",
       "9  0.1393532226 \n",
       "10 0.0646058786 "
      ]
     },
     "metadata": {},
     "output_type": "display_data"
    }
   ],
   "source": [
    "submit"
   ]
  },
  {
   "cell_type": "code",
   "execution_count": 83,
   "metadata": {
    "collapsed": true
   },
   "outputs": [],
   "source": [
    "submit <- submit %>%\n",
    "    mutate(team_1_prob = round(team_1_prob, digits = 5),\n",
    "           team_2_prob = round(team_2_prob, digits = 5))"
   ]
  },
  {
   "cell_type": "code",
   "execution_count": 84,
   "metadata": {
    "collapsed": true
   },
   "outputs": [],
   "source": [
    "submit$team_tie_prob = 1 - submit$team_1_prob - submit$team_2_prob"
   ]
  },
  {
   "cell_type": "code",
   "execution_count": 85,
   "metadata": {
    "collapsed": true
   },
   "outputs": [],
   "source": [
    "submit %>% write.csv('submit.csv', row.names = F)"
   ]
  },
  {
   "cell_type": "code",
   "execution_count": null,
   "metadata": {
    "collapsed": true
   },
   "outputs": [],
   "source": []
  }
 ],
 "metadata": {
  "kernelspec": {
   "display_name": "R",
   "language": "R",
   "name": "ir"
  },
  "language_info": {
   "codemirror_mode": "r",
   "file_extension": ".r",
   "mimetype": "text/x-r-source",
   "name": "R",
   "pygments_lexer": "r",
   "version": "3.4.2"
  }
 },
 "nbformat": 4,
 "nbformat_minor": 2
}
