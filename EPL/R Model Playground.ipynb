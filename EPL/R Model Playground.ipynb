{
 "cells": [
  {
   "cell_type": "code",
   "execution_count": 218,
   "metadata": {},
   "outputs": [],
   "source": [
    "library(tidyverse)\n",
    "library(rpart)\n",
    "library(pROC)\n",
    "library(rpart.plot)\n",
    "library(caret)\n",
    "library(nnet)\n",
    "library(randomForest)\n",
    "library(Matrix)\n",
    "library(xgboost)"
   ]
  },
  {
   "cell_type": "code",
   "execution_count": 219,
   "metadata": {},
   "outputs": [],
   "source": [
    "df <- read.csv('epl_data_w_features.csv')"
   ]
  },
  {
   "cell_type": "code",
   "execution_count": 220,
   "metadata": {},
   "outputs": [],
   "source": [
    "df_play <- df %>%\n",
    "    filter(data_type == 'hist') %>%\n",
    "    na.omit %>%\n",
    "    select(-data_type, -team_1_score, -team_2_score, -id)"
   ]
  },
  {
   "cell_type": "markdown",
   "metadata": {},
   "source": [
    "### Use the last 5% of rows for 'hold-out'"
   ]
  },
  {
   "cell_type": "code",
   "execution_count": 221,
   "metadata": {},
   "outputs": [],
   "source": [
    "holdout <- df_play[round(df_play %>% nrow * 0.95):(df_play %>% nrow),]\n",
    "df_model <- df_play[1:round(df_play %>% nrow * 0.95),]"
   ]
  },
  {
   "cell_type": "code",
   "execution_count": 222,
   "metadata": {
    "collapsed": true
   },
   "outputs": [],
   "source": [
    "index <- caret::createDataPartition(y = df_model$result, p = 0.8, list = F)"
   ]
  },
  {
   "cell_type": "code",
   "execution_count": 223,
   "metadata": {
    "collapsed": true
   },
   "outputs": [],
   "source": [
    "train <- df_model[index,]\n",
    "test <- df_model[-index,]"
   ]
  },
  {
   "cell_type": "markdown",
   "metadata": {},
   "source": [
    "# Classification Models"
   ]
  },
  {
   "cell_type": "markdown",
   "metadata": {},
   "source": [
    "## Linear Models"
   ]
  },
  {
   "cell_type": "markdown",
   "metadata": {},
   "source": [
    "### Multinom"
   ]
  },
  {
   "cell_type": "code",
   "execution_count": 224,
   "metadata": {},
   "outputs": [
    {
     "name": "stdout",
     "output_type": "stream",
     "text": [
      "# weights:  342 (226 variable)\n",
      "initial  value 3856.129133 \n",
      "iter  10 value 3434.523244\n",
      "iter  20 value 3375.618731\n",
      "iter  30 value 3340.619217\n",
      "iter  40 value 3299.878072\n",
      "iter  50 value 3289.056870\n",
      "iter  60 value 3280.858340\n",
      "iter  70 value 3277.195925\n",
      "iter  80 value 3275.667038\n",
      "iter  90 value 3274.637179\n",
      "iter 100 value 3274.061109\n",
      "final  value 3274.061109 \n",
      "stopped after 100 iterations\n"
     ]
    }
   ],
   "source": [
    "fit.mult <- train %>%\n",
    "                multinom(formula = result ~ .)"
   ]
  },
  {
   "cell_type": "code",
   "execution_count": 225,
   "metadata": {},
   "outputs": [
    {
     "name": "stderr",
     "output_type": "stream",
     "text": [
      "Warning message in sqrt(diag(vc)):\n",
      "\"NaNs produced\""
     ]
    },
    {
     "data": {
      "text/plain": [
       "Call:\n",
       "multinom(formula = result ~ ., data = .)\n",
       "\n",
       "Coefficients:\n",
       "           (Intercept) is_february is_november c_ability_3 d_ability_1\n",
       "team_2_win    7.255912 -0.05951545 -0.03437371   0.4070949   -7.154766\n",
       "tie           4.185965 -0.01906930  0.06766479  -0.1186425   -2.608994\n",
       "           d_ability_3 d_ability_4     d_form_4    d_h2h_2\n",
       "team_2_win    5.702480   0.3273958 -0.005919646 -0.4512597\n",
       "tie           6.336302  -4.0571990 -0.148796377 -0.1584988\n",
       "           team_1_nameAston Villa team_1_nameBirmingham team_1_nameBlackburn\n",
       "team_2_win               2.296608             1.5326872            1.9727453\n",
       "tie                      1.274676             0.8604254            0.9949871\n",
       "           team_1_nameBlackpool team_1_nameBolton team_1_nameBournemouth\n",
       "team_2_win             2.758605         1.8003330               1.502174\n",
       "tie                    2.067055         0.5493466               1.092561\n",
       "           team_1_nameBrighton team_1_nameBurnley team_1_nameCardiff\n",
       "team_2_win                   0           1.738591           3.207607\n",
       "tie                          0           1.024107           2.003145\n",
       "           team_1_nameCharlton team_1_nameChelsea team_1_nameCrystal Palace\n",
       "team_2_win           1.8080609         -0.2720843              2.4407638998\n",
       "tie                  0.2332198          0.2014613              0.0008919253\n",
       "           team_1_nameDerby team_1_nameEverton team_1_nameFulham\n",
       "team_2_win                0          1.2805801         1.4360613\n",
       "tie                       0          0.2250329        -0.0773807\n",
       "           team_1_nameHuddersfield team_1_nameHull City team_1_nameLeeds\n",
       "team_2_win                       0             2.087231                0\n",
       "tie                              0             0.927896                0\n",
       "           team_1_nameLeicester team_1_nameLiverpool team_1_nameManchester City\n",
       "team_2_win            0.5741863          -0.44144883                  0.8277632\n",
       "tie                   0.9406494          -0.06635531                 -0.4479273\n",
       "           team_1_nameManchester United team_1_nameMiddlesbrough\n",
       "team_2_win                    0.2273661                1.4237235\n",
       "tie                          -0.5386082                0.6513639\n",
       "           team_1_nameNewcastle Utd team_1_nameNorwich team_1_namePortsmouth\n",
       "team_2_win                1.2285160          1.0841874              1.936877\n",
       "tie                       0.3864836          0.6187748              1.180266\n",
       "           team_1_nameQPR team_1_nameReading team_1_nameSheffield Utd\n",
       "team_2_win       2.285896          2.0424871                 2.406123\n",
       "tie              1.986491          0.3344738                 1.843539\n",
       "           team_1_nameSouthampton team_1_nameStoke City team_1_nameSunderland\n",
       "team_2_win               1.611098              1.262455             2.2320832\n",
       "tie                      1.152272              0.691048             0.8358529\n",
       "           team_1_nameSwansea team_1_nameTottenham team_1_nameWatford\n",
       "team_2_win           1.404709           0.58298566           2.451790\n",
       "tie                  1.364044           0.09117342           2.435309\n",
       "           team_1_nameWest Brom team_1_nameWest Ham team_1_nameWigan\n",
       "team_2_win             1.971346           1.9896467         2.501926\n",
       "tie                    0.244735           0.6454057         1.038087\n",
       "           team_1_nameWolves team_2_nameAston Villa team_2_nameBirmingham\n",
       "team_2_win         3.0945025              0.1476471            -2.0805350\n",
       "tie                0.9888311              0.3635392            -0.3519492\n",
       "           team_2_nameBlackburn team_2_nameBlackpool team_2_nameBolton\n",
       "team_2_win          -0.51740807         -0.002121367        -0.6292616\n",
       "tie                 -0.01945653          0.058181718        -0.4564892\n",
       "           team_2_nameBournemouth team_2_nameBrighton team_2_nameBurnley\n",
       "team_2_win             -1.2939508                   0          -5.734852\n",
       "tie                    -0.8077404                   0          -1.526120\n",
       "           team_2_nameCardiff team_2_nameCharlton team_2_nameChelsea\n",
       "team_2_win         -3.1663734          -1.2897196          0.4774917\n",
       "tie                -0.7968538          -0.1544857         -0.2461274\n",
       "           team_2_nameCrystal Palace team_2_nameDerby team_2_nameEverton\n",
       "team_2_win               -0.98271187                0        -0.06655252\n",
       "tie                      -0.01209335                0         0.89794907\n",
       "           team_2_nameFulham team_2_nameHuddersfield team_2_nameHull City\n",
       "team_2_win        -1.4971418                       0           -2.1181170\n",
       "tie                0.3842469                       0           -0.7190517\n",
       "           team_2_nameLeeds team_2_nameLeicester team_2_nameLiverpool\n",
       "team_2_win        -2.373731            -1.989366           -0.7036390\n",
       "tie               -3.068640            -1.493623           -0.3742233\n",
       "           team_2_nameManchester City team_2_nameManchester United\n",
       "team_2_win                 -0.6085904                    0.7636120\n",
       "tie                         0.1002891                    0.5044022\n",
       "           team_2_nameMiddlesbrough team_2_nameNewcastle Utd team_2_nameNorwich\n",
       "team_2_win               -1.6048658               -1.2642621         -3.0214616\n",
       "tie                       0.4593082               -0.4754785         -0.8068064\n",
       "           team_2_namePortsmouth team_2_nameQPR team_2_nameReading\n",
       "team_2_win            -1.3665907      -3.449510         -1.9438909\n",
       "tie                   -0.5752317      -2.092082         -0.2250515\n",
       "           team_2_nameSheffield Utd team_2_nameSouthampton\n",
       "team_2_win                -2.577159              -1.727341\n",
       "tie                       -2.556748              -0.829327\n",
       "           team_2_nameStoke City team_2_nameSunderland team_2_nameSwansea\n",
       "team_2_win             -1.582510            -1.5106190          -1.673197\n",
       "tie                    -0.157186            -0.1474238          -1.221336\n",
       "           team_2_nameTottenham team_2_nameWatford team_2_nameWest Brom\n",
       "team_2_win          -0.51781056          -1.507894           -1.3771260\n",
       "tie                  0.04477184          -1.634651            0.2246139\n",
       "           team_2_nameWest Ham team_2_nameWigan team_2_nameWolves\n",
       "team_2_win          -0.6926233      -0.13208131        -0.8633697\n",
       "tie                  0.2162838       0.01323775         0.4455373\n",
       "           team_1_match_count team_1_opponent_last_score\n",
       "team_2_win      -0.0000792775                -0.02151459\n",
       "tie              0.0011135842                -0.04551529\n",
       "           team_1_opponent_score_ema_10 team_1_opponent_score_ma_10\n",
       "team_2_win                    0.1450557                   0.1306978\n",
       "tie                           0.2561264                  -0.1494658\n",
       "           team_1_team_last_score team_1_team_score_ema_10\n",
       "team_2_win             0.03242229              -0.07905309\n",
       "tie                    0.03158051              -0.01676180\n",
       "           team_1_team_score_ma_10 team_1_team_win_index team_1_team_loss_index\n",
       "team_2_win             0.093607949            -0.8189897             -1.9394748\n",
       "tie                    0.005806797             0.1500601             -0.9544983\n",
       "           team_1_tie_index team_2_match_count team_2_opponent_last_score\n",
       "team_2_win        -1.032572       -0.003054223                -0.03748889\n",
       "tie               -1.515686       -0.001968204                -0.08578570\n",
       "           team_2_opponent_score_ema_10 team_2_opponent_score_ma_10\n",
       "team_2_win                   -0.2549334                   0.4434706\n",
       "tie                           0.1067966                   0.1012546\n",
       "           team_2_team_last_score team_2_team_score_ema_10\n",
       "team_2_win             0.04825781              -0.07211129\n",
       "tie                   -0.02424339               0.67225923\n",
       "           team_2_team_score_ma_10 team_2_team_win_index team_2_team_loss_index\n",
       "team_2_win             -0.07062161             -2.887708             -0.7619257\n",
       "tie                    -0.41258304             -1.051604             -0.4713770\n",
       "           team_2_tie_index      x_year      y_year      x_week      y_week\n",
       "team_2_win        -1.656689 -0.07785241 -0.10755242 -0.08350626 -0.02016417\n",
       "tie               -2.098981 -0.08604165 -0.08510462 -0.20633632  0.08013919\n",
       "                   x_day      y_day\n",
       "team_2_win -0.0004965341 0.03836822\n",
       "tie         0.1287053582 0.07739954\n",
       "\n",
       "Std. Errors:\n",
       "           (Intercept) is_february is_november c_ability_3 d_ability_1\n",
       "team_2_win  0.09609295  0.04803373  0.05085522   0.3970542   0.1957728\n",
       "tie         0.11063321  0.04573096  0.04691166   0.4331926   0.2115163\n",
       "           d_ability_3 d_ability_4  d_form_4    d_h2h_2 team_1_nameAston Villa\n",
       "team_2_win   0.1127813   0.1229138 0.1151194 0.06838037              0.2309848\n",
       "tie          0.1267320   0.1366020 0.1148556 0.06585388              0.2310625\n",
       "           team_1_nameBirmingham team_1_nameBlackburn team_1_nameBlackpool\n",
       "team_2_win             0.3353208            0.2613392            0.4310224\n",
       "tie                    0.3013955            0.2666340            0.4477357\n",
       "           team_1_nameBolton team_1_nameBournemouth team_1_nameBrighton\n",
       "team_2_win         0.2621506              0.5434009        1.425221e-09\n",
       "tie                0.2855896              0.5532811                 NaN\n",
       "           team_1_nameBurnley team_1_nameCardiff team_1_nameCharlton\n",
       "team_2_win          0.4633670          0.3417583           0.4195158\n",
       "tie                 0.5138636          0.3349247           0.4915656\n",
       "           team_1_nameChelsea team_1_nameCrystal Palace team_1_nameDerby\n",
       "team_2_win          0.3575062                 0.3153230              NaN\n",
       "tie                 0.2549403                 0.4227605      2.13847e-16\n",
       "           team_1_nameEverton team_1_nameFulham team_1_nameHuddersfield\n",
       "team_2_win          0.2370088         0.2404956                     NaN\n",
       "tie                 0.2318228         0.2559617                     NaN\n",
       "           team_1_nameHull City team_1_nameLeeds team_1_nameLeicester\n",
       "team_2_win            0.3339831     8.652519e-10            0.4544633\n",
       "tie                   0.3484430              NaN            0.4127216\n",
       "           team_1_nameLiverpool team_1_nameManchester City\n",
       "team_2_win            0.3053822                  0.2333524\n",
       "tie                   0.2347340                  0.2471623\n",
       "           team_1_nameManchester United team_1_nameMiddlesbrough\n",
       "team_2_win                    0.2960932                0.2984896\n",
       "tie                           0.2582099                0.2937429\n",
       "           team_1_nameNewcastle Utd team_1_nameNorwich team_1_namePortsmouth\n",
       "team_2_win                0.2372510          0.3633835             0.3175209\n",
       "tie                       0.2429539          0.3541570             0.3133421\n",
       "           team_1_nameQPR team_1_nameReading team_1_nameSheffield Utd\n",
       "team_2_win      0.4658900          0.3970957                0.4712435\n",
       "tie             0.4619038          0.4390182                0.4555661\n",
       "           team_1_nameSouthampton team_1_nameStoke City team_1_nameSunderland\n",
       "team_2_win              0.3077397              0.266138             0.2281200\n",
       "tie                     0.3028163              0.252744             0.2359675\n",
       "           team_1_nameSwansea team_1_nameTottenham team_1_nameWatford\n",
       "team_2_win          0.3130850            0.2496297          0.5114146\n",
       "tie                 0.3032489            0.2289441          0.4704258\n",
       "           team_1_nameWest Brom team_1_nameWest Ham team_1_nameWigan\n",
       "team_2_win            0.2174341           0.2167651        0.2816423\n",
       "tie                   0.2419928           0.2326517        0.2986996\n",
       "           team_1_nameWolves team_2_nameAston Villa team_2_nameBirmingham\n",
       "team_2_win         0.3975883              0.2413316             0.3898548\n",
       "tie                0.4440369              0.2364637             0.3248794\n",
       "           team_2_nameBlackburn team_2_nameBlackpool team_2_nameBolton\n",
       "team_2_win            0.2900384            0.4062799         0.2694294\n",
       "tie                   0.2683331            0.5256720         0.2780068\n",
       "           team_2_nameBournemouth team_2_nameBrighton team_2_nameBurnley\n",
       "team_2_win              0.5415767                 NaN          0.1638446\n",
       "tie                     0.5493406        2.767998e-16          0.4656163\n",
       "           team_2_nameCardiff team_2_nameCharlton team_2_nameChelsea\n",
       "team_2_win          0.2014508           0.4835786          0.2712194\n",
       "tie                 0.7089671           0.3994543          0.3044299\n",
       "           team_2_nameCrystal Palace team_2_nameDerby team_2_nameEverton\n",
       "team_2_win                 0.3215316              NaN          0.2288035\n",
       "tie                        0.3215643      1.94765e-16          0.2265421\n",
       "           team_2_nameFulham team_2_nameHuddersfield team_2_nameHull City\n",
       "team_2_win         0.2856317            7.164598e-16            0.4374034\n",
       "tie                0.2409953            1.759682e-16            0.3441004\n",
       "           team_2_nameLeeds team_2_nameLeicester team_2_nameLiverpool\n",
       "team_2_win      0.002390312            0.4087061            0.2455411\n",
       "tie             0.001909065            0.4360497            0.2672332\n",
       "           team_2_nameManchester City team_2_nameManchester United\n",
       "team_2_win                  0.2255804                    0.2618922\n",
       "tie                         0.2333671                    0.2841771\n",
       "           team_2_nameMiddlesbrough team_2_nameNewcastle Utd team_2_nameNorwich\n",
       "team_2_win                0.3782324                0.2399864          0.4197169\n",
       "tie                       0.2837807                0.2405955          0.3549264\n",
       "           team_2_namePortsmouth team_2_nameQPR team_2_nameReading\n",
       "team_2_win             0.3060076      0.6015632          0.4991209\n",
       "tie                    0.2980623      0.4876667          0.4161004\n",
       "           team_2_nameSheffield Utd team_2_nameSouthampton\n",
       "team_2_win                0.1131973              0.3074890\n",
       "tie                       0.1399128              0.2968242\n",
       "           team_2_nameStoke City team_2_nameSunderland team_2_nameSwansea\n",
       "team_2_win             0.2800018             0.2593714          0.3099088\n",
       "tie                    0.2563724             0.2275393          0.3287042\n",
       "           team_2_nameTottenham team_2_nameWatford team_2_nameWest Brom\n",
       "team_2_win            0.2218014          0.4600680            0.2709238\n",
       "tie                   0.2259310          0.5567051            0.2378189\n",
       "           team_2_nameWest Ham team_2_nameWigan team_2_nameWolves\n",
       "team_2_win           0.2362924        0.2897620         0.4537950\n",
       "tie                  0.2208899        0.2851716         0.3809797\n",
       "           team_1_match_count team_1_opponent_last_score\n",
       "team_2_win       0.0006933191                 0.05100599\n",
       "tie              0.0006519138                 0.04998837\n",
       "           team_1_opponent_score_ema_10 team_1_opponent_score_ma_10\n",
       "team_2_win                    0.3184494                   0.2724232\n",
       "tie                           0.3104970                   0.2659552\n",
       "           team_1_team_last_score team_1_team_score_ema_10\n",
       "team_2_win             0.05526697                0.3258568\n",
       "tie                    0.05149741                0.3071838\n",
       "           team_1_team_score_ma_10 team_1_team_win_index team_1_team_loss_index\n",
       "team_2_win               0.2839810             0.3415287              0.4192579\n",
       "tie                      0.2656504             0.3647217              0.4143004\n",
       "           team_1_tie_index team_2_match_count team_2_opponent_last_score\n",
       "team_2_win        0.3457831       0.0006834805                 0.05441083\n",
       "tie               0.3456617       0.0006700291                 0.05183763\n",
       "           team_2_opponent_score_ema_10 team_2_opponent_score_ma_10\n",
       "team_2_win                    0.3164196                   0.2746963\n",
       "tie                           0.3005159                   0.2603441\n",
       "           team_2_team_last_score team_2_team_score_ema_10\n",
       "team_2_win             0.05128199                0.3204925\n",
       "tie                    0.04988967                0.3131699\n",
       "           team_2_team_score_ma_10 team_2_team_win_index team_2_team_loss_index\n",
       "team_2_win               0.2744185             0.4402189              0.3790360\n",
       "tie                      0.2694157             0.4332036              0.3856316\n",
       "           team_2_tie_index     x_year     y_year    x_week     y_week\n",
       "team_2_win        0.3599062 0.08529447 0.06688413 0.1128761 0.07775601\n",
       "tie               0.3554285 0.08312387 0.06531214 0.1065754 0.07377396\n",
       "                x_day     y_day\n",
       "team_2_win 0.07011113 0.1305260\n",
       "tie        0.07122295 0.1298542\n",
       "\n",
       "Residual Deviance: 6548.122 \n",
       "AIC: 6972.122 "
      ]
     },
     "metadata": {},
     "output_type": "display_data"
    }
   ],
   "source": [
    "fit.mult %>% summary"
   ]
  },
  {
   "cell_type": "code",
   "execution_count": 226,
   "metadata": {},
   "outputs": [],
   "source": [
    "preds <- predict(fit.mult, newdata = test, type=\"probs\")"
   ]
  },
  {
   "cell_type": "code",
   "execution_count": 227,
   "metadata": {
    "collapsed": true
   },
   "outputs": [],
   "source": [
    "test$team_tie <- as.numeric(test$result == 'tie')\n",
    "test$team_1_win <- as.numeric(test$result == 'team_1_win')\n",
    "test$team_2_win <- as.numeric(test$result == 'team_2_win')\n",
    "\n",
    "test$team_tie_prob_mult_nom <- (preds %>% as.data.frame)$tie\n",
    "test$team_1_prob_mult_nom <- (preds %>% as.data.frame)$team_1_win\n",
    "test$team_2_prob_mult_nom <- (preds %>% as.data.frame)$team_2_win"
   ]
  },
  {
   "cell_type": "code",
   "execution_count": 228,
   "metadata": {},
   "outputs": [
    {
     "data": {
      "text/plain": [
       "\n",
       "Call:\n",
       "roc.default(response = test$team_tie, predictor = test$team_tie_prob_mult_nom)\n",
       "\n",
       "Data: test$team_tie_prob_mult_nom in 654 controls (test$team_tie 0) < 223 cases (test$team_tie 1).\n",
       "Area under the curve: 0.5474"
      ]
     },
     "metadata": {},
     "output_type": "display_data"
    }
   ],
   "source": [
    "pROC::roc(response = test$team_tie, predictor = test$team_tie_prob_mult_nom)"
   ]
  },
  {
   "cell_type": "code",
   "execution_count": 229,
   "metadata": {},
   "outputs": [
    {
     "data": {
      "text/plain": [
       "\n",
       "Call:\n",
       "roc.default(response = test$team_1_win, predictor = test$team_1_prob_mult_nom)\n",
       "\n",
       "Data: test$team_1_prob_mult_nom in 468 controls (test$team_1_win 0) < 409 cases (test$team_1_win 1).\n",
       "Area under the curve: 0.7144"
      ]
     },
     "metadata": {},
     "output_type": "display_data"
    }
   ],
   "source": [
    "pROC::roc(response = test$team_1_win, predictor = test$team_1_prob_mult_nom)"
   ]
  },
  {
   "cell_type": "code",
   "execution_count": 230,
   "metadata": {},
   "outputs": [
    {
     "data": {
      "text/plain": [
       "\n",
       "Call:\n",
       "roc.default(response = test$team_2_win, predictor = test$team_2_prob_mult_nom)\n",
       "\n",
       "Data: test$team_2_prob_mult_nom in 632 controls (test$team_2_win 0) < 245 cases (test$team_2_win 1).\n",
       "Area under the curve: 0.7421"
      ]
     },
     "metadata": {},
     "output_type": "display_data"
    }
   ],
   "source": [
    "pROC::roc(response = test$team_2_win, predictor = test$team_2_prob_mult_nom)"
   ]
  },
  {
   "cell_type": "markdown",
   "metadata": {},
   "source": [
    "### pairwise logreg"
   ]
  },
  {
   "cell_type": "code",
   "execution_count": 231,
   "metadata": {},
   "outputs": [],
   "source": [
    "train$team_tie <- as.numeric(train$result == 'tie')\n",
    "train$team_1_win <- as.numeric(train$result == 'team_1_win')\n",
    "train$team_2_win <- as.numeric(train$result == 'team_2_win')\n",
    "\n",
    "\n",
    "fit.log_tie <- train %>%\n",
    "                select(-team_1_win,-team_2_win, -result) %>%\n",
    "                glm(formula = team_tie ~ ., family=\"binomial\")\n",
    "\n",
    "fit.log_team_1 <- train %>%\n",
    "                select(-team_tie,-team_2_win, -result) %>%\n",
    "                glm(formula = team_1_win ~ ., family=\"binomial\")\n",
    "\n",
    "fit.log_team_2 <- train %>%\n",
    "                select(-team_1_win,-team_tie, -result) %>%\n",
    "                glm(formula = team_2_win ~ ., family=\"binomial\")"
   ]
  },
  {
   "cell_type": "code",
   "execution_count": 232,
   "metadata": {},
   "outputs": [
    {
     "data": {
      "text/plain": [
       "\n",
       "Call:\n",
       "glm(formula = team_tie ~ ., family = \"binomial\", data = .)\n",
       "\n",
       "Deviance Residuals: \n",
       "   Min      1Q  Median      3Q     Max  \n",
       "-1.331  -0.802  -0.666   1.167   2.433  \n",
       "\n",
       "Coefficients:\n",
       "                               Estimate Std. Error z value Pr(>|z|)   \n",
       "(Intercept)                   1.464e+00  2.390e+00   0.613  0.54006   \n",
       "is_february                   5.687e-03  4.221e-02   0.135  0.89283   \n",
       "is_november                   7.869e-02  4.250e-02   1.851  0.06411 . \n",
       "c_ability_3                  -3.052e-01  7.054e-01  -0.433  0.66530   \n",
       "d_ability_1                   1.860e-01  1.356e+00   0.137  0.89090   \n",
       "d_ability_3                   5.768e+00  4.255e+00   1.355  0.17526   \n",
       "d_ability_4                  -5.812e+00  3.802e+00  -1.529  0.12633   \n",
       "d_form_4                     -1.524e-01  1.482e-01  -1.029  0.30351   \n",
       "d_h2h_2                       2.121e-02  6.656e-02   0.319  0.74999   \n",
       "team_1_nameAston Villa        5.530e-01  3.750e-01   1.474  0.14037   \n",
       "team_1_nameBirmingham         5.313e-01  4.685e-01   1.134  0.25680   \n",
       "team_1_nameBlackburn          3.786e-01  3.893e-01   0.973  0.33075   \n",
       "team_1_nameBlackpool          1.234e+00  9.127e-01   1.352  0.17631   \n",
       "team_1_nameBolton             3.218e-02  4.135e-01   0.078  0.93798   \n",
       "team_1_nameBournemouth        8.714e-01  7.858e-01   1.109  0.26745   \n",
       "team_1_nameBurnley            6.862e-01  8.009e-01   0.857  0.39155   \n",
       "team_1_nameCardiff            7.786e-01  8.485e-01   0.918  0.35884   \n",
       "team_1_nameCharlton          -2.540e-01  5.833e-01  -0.435  0.66326   \n",
       "team_1_nameChelsea            2.013e-01  2.697e-01   0.746  0.45540   \n",
       "team_1_nameCrystal Palace    -7.277e-01  6.061e-01  -1.201  0.22983   \n",
       "team_1_nameEverton           -8.197e-02  3.642e-01  -0.225  0.82195   \n",
       "team_1_nameFulham            -4.087e-01  4.249e-01  -0.962  0.33610   \n",
       "team_1_nameHull City          3.558e-01  5.623e-01   0.633  0.52693   \n",
       "team_1_nameLeicester          9.901e-01  6.292e-01   1.574  0.11558   \n",
       "team_1_nameLiverpool          1.295e-01  2.711e-01   0.478  0.63295   \n",
       "team_1_nameManchester City   -5.876e-01  3.659e-01  -1.606  0.10830   \n",
       "team_1_nameManchester United -6.220e-01  2.776e-01  -2.240  0.02508 * \n",
       "team_1_nameMiddlesbrough      3.232e-01  4.131e-01   0.782  0.43397   \n",
       "team_1_nameNewcastle Utd      1.115e-01  3.897e-01   0.286  0.77469   \n",
       "team_1_nameNorwich            4.675e-01  5.800e-01   0.806  0.42028   \n",
       "team_1_namePortsmouth         5.460e-01  4.178e-01   1.307  0.19127   \n",
       "team_1_nameQPR                1.326e+00  6.643e-01   1.997  0.04587 * \n",
       "team_1_nameReading           -2.521e-01  5.377e-01  -0.469  0.63912   \n",
       "team_1_nameSheffield Utd      1.208e+00  7.818e-01   1.546  0.12216   \n",
       "team_1_nameSouthampton        8.494e-01  4.911e-01   1.729  0.08373 . \n",
       "team_1_nameStoke City         4.695e-01  4.268e-01   1.100  0.27134   \n",
       "team_1_nameSunderland         1.551e-01  4.482e-01   0.346  0.72940   \n",
       "team_1_nameSwansea            1.104e+00  5.124e-01   2.155  0.03115 * \n",
       "team_1_nameTottenham          1.634e-02  3.197e-01   0.051  0.95924   \n",
       "team_1_nameWatford            1.770e+00  6.296e-01   2.812  0.00493 **\n",
       "team_1_nameWest Brom         -2.642e-01  4.662e-01  -0.567  0.57096   \n",
       "team_1_nameWest Ham           6.365e-02  4.029e-01   0.158  0.87447   \n",
       "team_1_nameWigan              2.146e-01  4.422e-01   0.485  0.62749   \n",
       "team_1_nameWolves            -8.291e-02  5.966e-01  -0.139  0.88947   \n",
       "team_2_nameAston Villa        2.866e-01  3.929e-01   0.729  0.46582   \n",
       "team_2_nameBirmingham         2.245e-01  5.090e-01   0.441  0.65914   \n",
       "team_2_nameBlackburn          1.802e-01  3.982e-01   0.453  0.65085   \n",
       "team_2_nameBlackpool          1.471e-02  8.853e-01   0.017  0.98675   \n",
       "team_2_nameBolton            -2.455e-01  4.062e-01  -0.604  0.54561   \n",
       "team_2_nameBournemouth       -4.645e-01  7.828e-01  -0.593  0.55298   \n",
       "team_2_nameBurnley           -1.213e-01  8.043e-01  -0.151  0.88012   \n",
       "team_2_nameCardiff           -2.019e-03  1.002e+00  -0.002  0.99839   \n",
       "team_2_nameCharlton           1.947e-01  5.259e-01   0.370  0.71120   \n",
       "team_2_nameChelsea           -5.158e-01  2.872e-01  -1.796  0.07255 . \n",
       "team_2_nameCrystal Palace     2.462e-01  5.958e-01   0.413  0.67948   \n",
       "team_2_nameEverton            8.918e-01  3.500e-01   2.548  0.01083 * \n",
       "team_2_nameFulham             8.410e-01  4.412e-01   1.906  0.05665 . \n",
       "team_2_nameHull City         -2.515e-01  6.258e-01  -0.402  0.68777   \n",
       "team_2_nameLeeds             -1.026e+01  1.970e+02  -0.052  0.95844   \n",
       "team_2_nameLeicester         -7.777e-01  6.412e-01  -1.213  0.22512   \n",
       "team_2_nameLiverpool         -1.162e-01  2.646e-01  -0.439  0.66058   \n",
       "team_2_nameManchester City    2.546e-01  3.451e-01   0.738  0.46077   \n",
       "team_2_nameManchester United -1.698e-03  2.646e-01  -0.006  0.99488   \n",
       "team_2_nameMiddlesbrough      9.517e-01  4.211e-01   2.260  0.02383 * \n",
       "team_2_nameNewcastle Utd     -5.385e-02  3.811e-01  -0.141  0.88763   \n",
       "team_2_nameNorwich            1.161e-01  6.142e-01   0.189  0.85003   \n",
       "team_2_namePortsmouth        -1.228e-01  4.340e-01  -0.283  0.77719   \n",
       "team_2_nameQPR               -1.255e+00  7.312e-01  -1.716  0.08608 . \n",
       "team_2_nameReading            3.511e-01  5.737e-01   0.612  0.54062   \n",
       "team_2_nameSheffield Utd     -1.904e+00  1.157e+00  -1.646  0.09980 . \n",
       "team_2_nameSouthampton       -2.574e-01  4.954e-01  -0.520  0.60331   \n",
       "team_2_nameStoke City         3.285e-01  4.520e-01   0.727  0.46739   \n",
       "team_2_nameSunderland         2.961e-01  5.002e-01   0.592  0.55392   \n",
       "team_2_nameSwansea           -6.572e-01  5.240e-01  -1.254  0.20980   \n",
       "team_2_nameTottenham          2.228e-01  3.003e-01   0.742  0.45830   \n",
       "team_2_nameWatford           -1.151e+00  7.944e-01  -1.450  0.14719   \n",
       "team_2_nameWest Brom          6.284e-01  5.016e-01   1.253  0.21029   \n",
       "team_2_nameWest Ham           4.190e-01  4.188e-01   1.000  0.31718   \n",
       "team_2_nameWigan             -7.814e-03  4.826e-01  -0.016  0.98708   \n",
       "team_2_nameWolves             5.670e-01  6.276e-01   0.904  0.36626   \n",
       "team_1_match_count            1.424e-03  1.118e-03   1.273  0.20292   \n",
       "team_1_opponent_last_score   -3.958e-02  4.540e-02  -0.872  0.38333   \n",
       "team_1_opponent_score_ema_10  2.226e-01  2.846e-01   0.782  0.43417   \n",
       "team_1_opponent_score_ma_10  -2.156e-01  2.412e-01  -0.894  0.37129   \n",
       "team_1_team_last_score        2.481e-02  4.776e-02   0.520  0.60341   \n",
       "team_1_team_score_ema_10     -5.134e-03  2.855e-01  -0.018  0.98565   \n",
       "team_1_team_score_ma_10      -3.338e-02  2.455e-01  -0.136  0.89185   \n",
       "team_1_team_win_index         3.730e-01  5.946e-01   0.627  0.53049   \n",
       "team_1_team_loss_index       -3.112e-01  7.622e-01  -0.408  0.68310   \n",
       "team_1_tie_index             -1.203e+00  5.788e-01  -2.078  0.03770 * \n",
       "team_2_match_count           -9.865e-04  1.070e-03  -0.922  0.35668   \n",
       "team_2_opponent_last_score   -6.431e-02  4.787e-02  -1.344  0.17907   \n",
       "team_2_opponent_score_ema_10  1.440e-01  2.799e-01   0.514  0.60703   \n",
       "team_2_opponent_score_ma_10  -3.134e-02  2.395e-01  -0.131  0.89592   \n",
       "team_2_team_last_score       -4.231e-02  4.477e-02  -0.945  0.34471   \n",
       "team_2_team_score_ema_10      6.796e-01  2.820e-01   2.410  0.01595 * \n",
       "team_2_team_score_ma_10      -3.858e-01  2.430e-01  -1.588  0.11226   \n",
       "team_2_team_win_index        -2.720e-01  6.843e-01  -0.398  0.69095   \n",
       "team_2_team_loss_index       -3.839e-01  7.326e-01  -0.524  0.60030   \n",
       "team_2_tie_index             -1.618e+00  5.697e-01  -2.840  0.00451 **\n",
       "x_year                       -5.186e-02  7.578e-02  -0.684  0.49378   \n",
       "y_year                       -4.808e-02  5.952e-02  -0.808  0.41918   \n",
       "x_week                       -1.404e-01  9.672e-02  -1.452  0.14661   \n",
       "y_week                        8.719e-02  6.714e-02   1.299  0.19409   \n",
       "x_day                         1.434e-01  6.505e-02   2.205  0.02748 * \n",
       "y_day                         4.158e-02  1.165e-01   0.357  0.72112   \n",
       "---\n",
       "Signif. codes:  0 '***' 0.001 '**' 0.01 '*' 0.05 '.' 0.1 ' ' 1\n",
       "\n",
       "(Dispersion parameter for binomial family taken to be 1)\n",
       "\n",
       "    Null deviance: 3983.4  on 3509  degrees of freedom\n",
       "Residual deviance: 3826.4  on 3404  degrees of freedom\n",
       "AIC: 4038.4\n",
       "\n",
       "Number of Fisher Scoring iterations: 10\n"
      ]
     },
     "metadata": {},
     "output_type": "display_data"
    }
   ],
   "source": [
    "fit.log_tie %>% summary"
   ]
  },
  {
   "cell_type": "code",
   "execution_count": 233,
   "metadata": {},
   "outputs": [],
   "source": [
    "pred_tie_log <- predict(fit.log_tie, newdata = test, type=\"response\")\n",
    "pred_team_1_log <- predict(fit.log_team_1, newdata = test, type=\"response\")\n",
    "pred_team_2_log <- predict(fit.log_team_2, newdata = test, type=\"response\")"
   ]
  },
  {
   "cell_type": "code",
   "execution_count": 234,
   "metadata": {},
   "outputs": [],
   "source": [
    "test$pred_tie_log <- pred_tie_log\n",
    "test$pred_team_1_log <- pred_team_1_log\n",
    "test$pred_team_2_log <- pred_team_2_log"
   ]
  },
  {
   "cell_type": "code",
   "execution_count": 235,
   "metadata": {},
   "outputs": [
    {
     "data": {
      "text/plain": [
       "\n",
       "Call:\n",
       "roc.default(response = test$team_tie, predictor = test$pred_tie_log)\n",
       "\n",
       "Data: test$pred_tie_log in 654 controls (test$team_tie 0) < 223 cases (test$team_tie 1).\n",
       "Area under the curve: 0.5412"
      ]
     },
     "metadata": {},
     "output_type": "display_data"
    }
   ],
   "source": [
    "pROC::roc(response = test$team_tie, predictor = test$pred_tie_log)"
   ]
  },
  {
   "cell_type": "code",
   "execution_count": 236,
   "metadata": {},
   "outputs": [
    {
     "data": {
      "text/plain": [
       "\n",
       "Call:\n",
       "roc.default(response = test$team_1_win, predictor = test$pred_team_1_log)\n",
       "\n",
       "Data: test$pred_team_1_log in 468 controls (test$team_1_win 0) < 409 cases (test$team_1_win 1).\n",
       "Area under the curve: 0.716"
      ]
     },
     "metadata": {},
     "output_type": "display_data"
    }
   ],
   "source": [
    "pROC::roc(response = test$team_1_win, predictor = test$pred_team_1_log)"
   ]
  },
  {
   "cell_type": "code",
   "execution_count": 237,
   "metadata": {},
   "outputs": [
    {
     "data": {
      "text/plain": [
       "\n",
       "Call:\n",
       "roc.default(response = test$team_2_win, predictor = test$pred_team_2_log)\n",
       "\n",
       "Data: test$pred_team_2_log in 632 controls (test$team_2_win 0) < 245 cases (test$team_2_win 1).\n",
       "Area under the curve: 0.7411"
      ]
     },
     "metadata": {},
     "output_type": "display_data"
    }
   ],
   "source": [
    "pROC::roc(response = test$team_2_win, predictor = test$pred_team_2_log)"
   ]
  },
  {
   "cell_type": "markdown",
   "metadata": {},
   "source": [
    "## Non Linear Models"
   ]
  },
  {
   "cell_type": "markdown",
   "metadata": {},
   "source": [
    "### D Tree (excl. team name factors)"
   ]
  },
  {
   "cell_type": "code",
   "execution_count": 238,
   "metadata": {},
   "outputs": [],
   "source": [
    "train <- df_model[index,]\n",
    "test <- df_model[-index,]\n",
    "\n",
    "fit.tree <- train %>%\n",
    "                select(-team_1_name, -team_2_name) %>% # rpart isn't very efficient with 'large' factors\n",
    "                rpart(formula = result ~ .\n",
    "                      , parms =  list(split = \"information\")\n",
    "                      , control = rpart.control(\n",
    "                                minsplit = 20\n",
    "                              , cp = 0.001\n",
    "                              #, maxcompete = 4\n",
    "                              #, maxsurrogate = 5\n",
    "                              #, usesurrogate = 2\n",
    "                              #, xval = 10\n",
    "                              #, surrogatestyle = 0\n",
    "                              #, maxdepth = 30\n",
    "                      )\n",
    "                     )"
   ]
  },
  {
   "cell_type": "code",
   "execution_count": 239,
   "metadata": {},
   "outputs": [],
   "source": [
    "#fit.tree %>% summary"
   ]
  },
  {
   "cell_type": "code",
   "execution_count": 240,
   "metadata": {},
   "outputs": [],
   "source": [
    "#rpart.plot(fit.tree)"
   ]
  },
  {
   "cell_type": "code",
   "execution_count": 241,
   "metadata": {},
   "outputs": [],
   "source": [
    "preds <- predict(fit.tree, newdata = test, type=\"prob\") %>% as.data.frame"
   ]
  },
  {
   "cell_type": "code",
   "execution_count": 242,
   "metadata": {
    "collapsed": true
   },
   "outputs": [],
   "source": [
    "test$team_tie <- as.numeric(test$result == 'tie')\n",
    "test$team_1_win <- as.numeric(test$result == 'team_1_win')\n",
    "test$team_2_win <- as.numeric(test$result == 'team_2_win')\n",
    "\n",
    "test$team_tie_prob_dtree <- (preds %>% as.data.frame)$tie\n",
    "test$team_1_prob_dtree <- (preds %>% as.data.frame)$team_1_win\n",
    "test$team_2_prob_dtree <- (preds %>% as.data.frame)$team_2_win"
   ]
  },
  {
   "cell_type": "code",
   "execution_count": 243,
   "metadata": {},
   "outputs": [
    {
     "data": {
      "text/plain": [
       "\n",
       "Call:\n",
       "roc.default(response = test$team_tie, predictor = test$team_tie_prob_dtree)\n",
       "\n",
       "Data: test$team_tie_prob_dtree in 654 controls (test$team_tie 0) < 223 cases (test$team_tie 1).\n",
       "Area under the curve: 0.5188"
      ]
     },
     "metadata": {},
     "output_type": "display_data"
    }
   ],
   "source": [
    "pROC::roc(response = test$team_tie, predictor = test$team_tie_prob_dtree)"
   ]
  },
  {
   "cell_type": "code",
   "execution_count": 244,
   "metadata": {},
   "outputs": [
    {
     "data": {
      "text/plain": [
       "\n",
       "Call:\n",
       "roc.default(response = test$team_1_win, predictor = test$team_1_prob_dtree)\n",
       "\n",
       "Data: test$team_1_prob_dtree in 468 controls (test$team_1_win 0) < 409 cases (test$team_1_win 1).\n",
       "Area under the curve: 0.6445"
      ]
     },
     "metadata": {},
     "output_type": "display_data"
    }
   ],
   "source": [
    "pROC::roc(response = test$team_1_win, predictor = test$team_1_prob_dtree)"
   ]
  },
  {
   "cell_type": "code",
   "execution_count": 245,
   "metadata": {
    "scrolled": true
   },
   "outputs": [
    {
     "data": {
      "text/plain": [
       "\n",
       "Call:\n",
       "roc.default(response = test$team_2_win, predictor = test$team_2_prob_dtree)\n",
       "\n",
       "Data: test$team_2_prob_dtree in 632 controls (test$team_2_win 0) < 245 cases (test$team_2_win 1).\n",
       "Area under the curve: 0.6428"
      ]
     },
     "metadata": {},
     "output_type": "display_data"
    }
   ],
   "source": [
    "pROC::roc(response = test$team_2_win, predictor = test$team_2_prob_dtree)"
   ]
  },
  {
   "cell_type": "markdown",
   "metadata": {},
   "source": [
    "### Random Forest"
   ]
  },
  {
   "cell_type": "code",
   "execution_count": 246,
   "metadata": {},
   "outputs": [],
   "source": [
    "# train <- df_model[index,]\n",
    "# test <- df_model[-index,]\n",
    "\n",
    "# fit.forest <- train %>%\n",
    "#                 select(-team_1_name, -team_2_name) %>% # rpart isn't very efficient with 'large' factors\n",
    "#                 randomForest(formula = result ~ .\n",
    "#                      )"
   ]
  },
  {
   "cell_type": "code",
   "execution_count": 247,
   "metadata": {},
   "outputs": [],
   "source": [
    "# fit.forest %>% summary"
   ]
  },
  {
   "cell_type": "markdown",
   "metadata": {},
   "source": [
    "### Xgboost"
   ]
  },
  {
   "cell_type": "code",
   "execution_count": 248,
   "metadata": {},
   "outputs": [],
   "source": [
    "sparse_matrix <- sparse.model.matrix(result ~ .-1, data = df_model)\n",
    "\n",
    "sparse_matrix_train <- sparse_matrix[as.vector(index), ,]\n",
    "sparse_matrix_test <- sparse_matrix[-as.vector(index), ,]"
   ]
  },
  {
   "cell_type": "code",
   "execution_count": 249,
   "metadata": {
    "collapsed": true
   },
   "outputs": [],
   "source": [
    "label <- as.numeric(df_model$result)-1"
   ]
  },
  {
   "cell_type": "code",
   "execution_count": 250,
   "metadata": {},
   "outputs": [
    {
     "data": {
      "text/html": [
       "<ol class=list-inline>\n",
       "\t<li>tie</li>\n",
       "\t<li>tie</li>\n",
       "\t<li>team_2_win</li>\n",
       "\t<li>team_1_win</li>\n",
       "\t<li>team_1_win</li>\n",
       "\t<li>tie</li>\n",
       "\t<li>team_1_win</li>\n",
       "\t<li>team_1_win</li>\n",
       "\t<li>team_1_win</li>\n",
       "\t<li>team_1_win</li>\n",
       "\t<li>team_2_win</li>\n",
       "\t<li>team_1_win</li>\n",
       "\t<li>team_1_win</li>\n",
       "\t<li>team_1_win</li>\n",
       "\t<li>tie</li>\n",
       "</ol>\n"
      ],
      "text/latex": [
       "\\begin{enumerate*}\n",
       "\\item tie\n",
       "\\item tie\n",
       "\\item team\\_2\\_win\n",
       "\\item team\\_1\\_win\n",
       "\\item team\\_1\\_win\n",
       "\\item tie\n",
       "\\item team\\_1\\_win\n",
       "\\item team\\_1\\_win\n",
       "\\item team\\_1\\_win\n",
       "\\item team\\_1\\_win\n",
       "\\item team\\_2\\_win\n",
       "\\item team\\_1\\_win\n",
       "\\item team\\_1\\_win\n",
       "\\item team\\_1\\_win\n",
       "\\item tie\n",
       "\\end{enumerate*}\n"
      ],
      "text/markdown": [
       "1. tie\n",
       "2. tie\n",
       "3. team_2_win\n",
       "4. team_1_win\n",
       "5. team_1_win\n",
       "6. tie\n",
       "7. team_1_win\n",
       "8. team_1_win\n",
       "9. team_1_win\n",
       "10. team_1_win\n",
       "11. team_2_win\n",
       "12. team_1_win\n",
       "13. team_1_win\n",
       "14. team_1_win\n",
       "15. tie\n",
       "\n",
       "\n"
      ],
      "text/plain": [
       " [1] tie        tie        team_2_win team_1_win team_1_win tie       \n",
       " [7] team_1_win team_1_win team_1_win team_1_win team_2_win team_1_win\n",
       "[13] team_1_win team_1_win tie       \n",
       "Levels: team_1_win team_2_win tie"
      ]
     },
     "metadata": {},
     "output_type": "display_data"
    }
   ],
   "source": [
    "df_model$result[1:15]"
   ]
  },
  {
   "cell_type": "code",
   "execution_count": 251,
   "metadata": {},
   "outputs": [
    {
     "data": {
      "text/html": [
       "<ol class=list-inline>\n",
       "\t<li>2</li>\n",
       "\t<li>2</li>\n",
       "\t<li>1</li>\n",
       "\t<li>0</li>\n",
       "\t<li>0</li>\n",
       "\t<li>2</li>\n",
       "\t<li>0</li>\n",
       "\t<li>0</li>\n",
       "\t<li>0</li>\n",
       "\t<li>0</li>\n",
       "\t<li>1</li>\n",
       "\t<li>0</li>\n",
       "\t<li>0</li>\n",
       "\t<li>0</li>\n",
       "\t<li>2</li>\n",
       "</ol>\n"
      ],
      "text/latex": [
       "\\begin{enumerate*}\n",
       "\\item 2\n",
       "\\item 2\n",
       "\\item 1\n",
       "\\item 0\n",
       "\\item 0\n",
       "\\item 2\n",
       "\\item 0\n",
       "\\item 0\n",
       "\\item 0\n",
       "\\item 0\n",
       "\\item 1\n",
       "\\item 0\n",
       "\\item 0\n",
       "\\item 0\n",
       "\\item 2\n",
       "\\end{enumerate*}\n"
      ],
      "text/markdown": [
       "1. 2\n",
       "2. 2\n",
       "3. 1\n",
       "4. 0\n",
       "5. 0\n",
       "6. 2\n",
       "7. 0\n",
       "8. 0\n",
       "9. 0\n",
       "10. 0\n",
       "11. 1\n",
       "12. 0\n",
       "13. 0\n",
       "14. 0\n",
       "15. 2\n",
       "\n",
       "\n"
      ],
      "text/plain": [
       " [1] 2 2 1 0 0 2 0 0 0 0 1 0 0 0 2"
      ]
     },
     "metadata": {},
     "output_type": "display_data"
    }
   ],
   "source": [
    "label[1:15]"
   ]
  },
  {
   "cell_type": "code",
   "execution_count": 252,
   "metadata": {
    "collapsed": true
   },
   "outputs": [],
   "source": [
    "train_label <- label[index]\n",
    "test_label <- label[-index]"
   ]
  },
  {
   "cell_type": "code",
   "execution_count": 253,
   "metadata": {},
   "outputs": [
    {
     "name": "stdout",
     "output_type": "stream",
     "text": [
      "[1]\ttrain-mlogloss:1.058370 \n",
      "[2]\ttrain-mlogloss:1.025150 \n",
      "[3]\ttrain-mlogloss:0.992755 \n",
      "[4]\ttrain-mlogloss:0.960848 \n",
      "[5]\ttrain-mlogloss:0.934877 \n",
      "[6]\ttrain-mlogloss:0.909743 \n",
      "[7]\ttrain-mlogloss:0.885279 \n",
      "[8]\ttrain-mlogloss:0.859590 \n",
      "[9]\ttrain-mlogloss:0.838350 \n",
      "[10]\ttrain-mlogloss:0.819809 \n",
      "[11]\ttrain-mlogloss:0.800861 \n",
      "[12]\ttrain-mlogloss:0.781410 \n",
      "[13]\ttrain-mlogloss:0.764735 \n",
      "[14]\ttrain-mlogloss:0.747724 \n",
      "[15]\ttrain-mlogloss:0.731224 \n",
      "[16]\ttrain-mlogloss:0.714098 \n",
      "[17]\ttrain-mlogloss:0.696908 \n",
      "[18]\ttrain-mlogloss:0.685256 \n",
      "[19]\ttrain-mlogloss:0.674023 \n",
      "[20]\ttrain-mlogloss:0.660260 \n",
      "[21]\ttrain-mlogloss:0.651496 \n",
      "[22]\ttrain-mlogloss:0.639115 \n",
      "[23]\ttrain-mlogloss:0.626778 \n",
      "[24]\ttrain-mlogloss:0.613572 \n",
      "[25]\ttrain-mlogloss:0.604649 \n",
      "[26]\ttrain-mlogloss:0.594764 \n",
      "[27]\ttrain-mlogloss:0.585980 \n",
      "[28]\ttrain-mlogloss:0.576342 \n",
      "[29]\ttrain-mlogloss:0.565001 \n",
      "[30]\ttrain-mlogloss:0.555570 \n",
      "[31]\ttrain-mlogloss:0.548421 \n",
      "[32]\ttrain-mlogloss:0.541207 \n",
      "[33]\ttrain-mlogloss:0.532858 \n",
      "[34]\ttrain-mlogloss:0.524838 \n",
      "[35]\ttrain-mlogloss:0.513851 \n",
      "[36]\ttrain-mlogloss:0.506642 \n",
      "[37]\ttrain-mlogloss:0.497030 \n",
      "[38]\ttrain-mlogloss:0.488819 \n",
      "[39]\ttrain-mlogloss:0.482930 \n",
      "[40]\ttrain-mlogloss:0.475933 \n",
      "[41]\ttrain-mlogloss:0.467914 \n",
      "[42]\ttrain-mlogloss:0.462553 \n",
      "[43]\ttrain-mlogloss:0.454534 \n",
      "[44]\ttrain-mlogloss:0.448046 \n",
      "[45]\ttrain-mlogloss:0.442022 \n",
      "[46]\ttrain-mlogloss:0.435296 \n",
      "[47]\ttrain-mlogloss:0.430090 \n",
      "[48]\ttrain-mlogloss:0.425471 \n",
      "[49]\ttrain-mlogloss:0.419755 \n",
      "[50]\ttrain-mlogloss:0.414051 \n"
     ]
    }
   ],
   "source": [
    "xgb <- xgboost(data = data.matrix(sparse_matrix_train), label = train_label,\n",
    "            booster = 'gbtree',\n",
    "             eta = 0.1,\n",
    "             gamma = 0.01,\n",
    "             max_depth = 10, \n",
    "             subsample = 0.5,\n",
    "             colsample_bytree = 0.5,\n",
    "             seed = 1,\n",
    "             eval_metric = \"mlogloss\",\n",
    "             #num_parallel_tree,\n",
    "             num_class = 3,\n",
    "             nthread = 8,\n",
    "             nround=50,\n",
    "             #feval\n",
    "              objective = \"multi:softprob\")"
   ]
  },
  {
   "cell_type": "code",
   "execution_count": 254,
   "metadata": {
    "collapsed": true
   },
   "outputs": [],
   "source": [
    "pred <- predict(xgb, data.matrix(sparse_matrix_test), type=\"probs\")"
   ]
  },
  {
   "cell_type": "code",
   "execution_count": 255,
   "metadata": {},
   "outputs": [],
   "source": [
    "pred_team_tie <- pred[seq(3,length(pred)+2,3)]\n",
    "pred_team_1 <- pred[seq(1,length(pred),3)]\n",
    "pred_team_2 <- pred[seq(2,length(pred)+1,3)]"
   ]
  },
  {
   "cell_type": "code",
   "execution_count": 256,
   "metadata": {
    "collapsed": true
   },
   "outputs": [],
   "source": [
    "test$team_tie <- as.numeric(test$result == 'tie')\n",
    "test$team_1_win <- as.numeric(test$result == 'team_1_win')\n",
    "test$team_2_win <- as.numeric(test$result == 'team_2_win')\n",
    "\n",
    "test$team_tie_prob_xgb_tree <- pred_team_tie\n",
    "test$team_1_prob_xgb_tree <- pred_team_1\n",
    "test$team_2_prob_xgb_tree <- pred_team_2"
   ]
  },
  {
   "cell_type": "code",
   "execution_count": 257,
   "metadata": {},
   "outputs": [
    {
     "data": {
      "text/plain": [
       "\n",
       "Call:\n",
       "roc.default(response = test$team_tie, predictor = test$team_tie_prob_xgb_tree)\n",
       "\n",
       "Data: test$team_tie_prob_xgb_tree in 654 controls (test$team_tie 0) < 223 cases (test$team_tie 1).\n",
       "Area under the curve: 0.5607"
      ]
     },
     "metadata": {},
     "output_type": "display_data"
    }
   ],
   "source": [
    "pROC::roc(response = test$team_tie, predictor = test$team_tie_prob_xgb_tree)"
   ]
  },
  {
   "cell_type": "code",
   "execution_count": 258,
   "metadata": {},
   "outputs": [
    {
     "data": {
      "text/plain": [
       "\n",
       "Call:\n",
       "roc.default(response = test$team_1_win, predictor = test$team_1_prob_xgb_tree)\n",
       "\n",
       "Data: test$team_1_prob_xgb_tree in 468 controls (test$team_1_win 0) < 409 cases (test$team_1_win 1).\n",
       "Area under the curve: 0.6972"
      ]
     },
     "metadata": {},
     "output_type": "display_data"
    }
   ],
   "source": [
    "pROC::roc(response = test$team_1_win, predictor = test$team_1_prob_xgb_tree)"
   ]
  },
  {
   "cell_type": "code",
   "execution_count": 259,
   "metadata": {
    "scrolled": true
   },
   "outputs": [
    {
     "data": {
      "text/plain": [
       "\n",
       "Call:\n",
       "roc.default(response = test$team_2_win, predictor = test$team_2_prob_xgb_tree)\n",
       "\n",
       "Data: test$team_2_prob_xgb_tree in 632 controls (test$team_2_win 0) < 245 cases (test$team_2_win 1).\n",
       "Area under the curve: 0.7173"
      ]
     },
     "metadata": {},
     "output_type": "display_data"
    }
   ],
   "source": [
    "pROC::roc(response = test$team_2_win, predictor = test$team_2_prob_xgb_tree)"
   ]
  },
  {
   "cell_type": "markdown",
   "metadata": {},
   "source": [
    "### Results are surprisingly good. Try on hold out"
   ]
  },
  {
   "cell_type": "code",
   "execution_count": 260,
   "metadata": {
    "collapsed": true
   },
   "outputs": [],
   "source": [
    "sparse_matrix_holdout <- sparse.model.matrix(result ~ .-1, data = holdout)"
   ]
  },
  {
   "cell_type": "code",
   "execution_count": 261,
   "metadata": {
    "collapsed": true
   },
   "outputs": [],
   "source": [
    "label <- as.numeric(holdout$result)-1"
   ]
  },
  {
   "cell_type": "code",
   "execution_count": 262,
   "metadata": {},
   "outputs": [
    {
     "data": {
      "text/html": [
       "<ol class=list-inline>\n",
       "\t<li>tie</li>\n",
       "\t<li>team_2_win</li>\n",
       "\t<li>team_2_win</li>\n",
       "\t<li>team_1_win</li>\n",
       "\t<li>team_2_win</li>\n",
       "\t<li>team_1_win</li>\n",
       "\t<li>tie</li>\n",
       "\t<li>team_1_win</li>\n",
       "\t<li>team_2_win</li>\n",
       "\t<li>team_1_win</li>\n",
       "\t<li>team_2_win</li>\n",
       "\t<li>tie</li>\n",
       "\t<li>team_1_win</li>\n",
       "\t<li>team_1_win</li>\n",
       "\t<li>tie</li>\n",
       "</ol>\n"
      ],
      "text/latex": [
       "\\begin{enumerate*}\n",
       "\\item tie\n",
       "\\item team\\_2\\_win\n",
       "\\item team\\_2\\_win\n",
       "\\item team\\_1\\_win\n",
       "\\item team\\_2\\_win\n",
       "\\item team\\_1\\_win\n",
       "\\item tie\n",
       "\\item team\\_1\\_win\n",
       "\\item team\\_2\\_win\n",
       "\\item team\\_1\\_win\n",
       "\\item team\\_2\\_win\n",
       "\\item tie\n",
       "\\item team\\_1\\_win\n",
       "\\item team\\_1\\_win\n",
       "\\item tie\n",
       "\\end{enumerate*}\n"
      ],
      "text/markdown": [
       "1. tie\n",
       "2. team_2_win\n",
       "3. team_2_win\n",
       "4. team_1_win\n",
       "5. team_2_win\n",
       "6. team_1_win\n",
       "7. tie\n",
       "8. team_1_win\n",
       "9. team_2_win\n",
       "10. team_1_win\n",
       "11. team_2_win\n",
       "12. tie\n",
       "13. team_1_win\n",
       "14. team_1_win\n",
       "15. tie\n",
       "\n",
       "\n"
      ],
      "text/plain": [
       " [1] tie        team_2_win team_2_win team_1_win team_2_win team_1_win\n",
       " [7] tie        team_1_win team_2_win team_1_win team_2_win tie       \n",
       "[13] team_1_win team_1_win tie       \n",
       "Levels: team_1_win team_2_win tie"
      ]
     },
     "metadata": {},
     "output_type": "display_data"
    }
   ],
   "source": [
    "holdout$result[1:15]"
   ]
  },
  {
   "cell_type": "code",
   "execution_count": 263,
   "metadata": {},
   "outputs": [
    {
     "data": {
      "text/html": [
       "<ol class=list-inline>\n",
       "\t<li>2</li>\n",
       "\t<li>1</li>\n",
       "\t<li>1</li>\n",
       "\t<li>0</li>\n",
       "\t<li>1</li>\n",
       "\t<li>0</li>\n",
       "\t<li>2</li>\n",
       "\t<li>0</li>\n",
       "\t<li>1</li>\n",
       "\t<li>0</li>\n",
       "\t<li>1</li>\n",
       "\t<li>2</li>\n",
       "\t<li>0</li>\n",
       "\t<li>0</li>\n",
       "\t<li>2</li>\n",
       "</ol>\n"
      ],
      "text/latex": [
       "\\begin{enumerate*}\n",
       "\\item 2\n",
       "\\item 1\n",
       "\\item 1\n",
       "\\item 0\n",
       "\\item 1\n",
       "\\item 0\n",
       "\\item 2\n",
       "\\item 0\n",
       "\\item 1\n",
       "\\item 0\n",
       "\\item 1\n",
       "\\item 2\n",
       "\\item 0\n",
       "\\item 0\n",
       "\\item 2\n",
       "\\end{enumerate*}\n"
      ],
      "text/markdown": [
       "1. 2\n",
       "2. 1\n",
       "3. 1\n",
       "4. 0\n",
       "5. 1\n",
       "6. 0\n",
       "7. 2\n",
       "8. 0\n",
       "9. 1\n",
       "10. 0\n",
       "11. 1\n",
       "12. 2\n",
       "13. 0\n",
       "14. 0\n",
       "15. 2\n",
       "\n",
       "\n"
      ],
      "text/plain": [
       " [1] 2 1 1 0 1 0 2 0 1 0 1 2 0 0 2"
      ]
     },
     "metadata": {},
     "output_type": "display_data"
    }
   ],
   "source": [
    "label[1:15]"
   ]
  },
  {
   "cell_type": "code",
   "execution_count": 264,
   "metadata": {
    "collapsed": true
   },
   "outputs": [],
   "source": [
    "pred_holdout <- predict(xgb, data.matrix(sparse_matrix_holdout), type=\"probs\")"
   ]
  },
  {
   "cell_type": "code",
   "execution_count": 265,
   "metadata": {
    "collapsed": true
   },
   "outputs": [],
   "source": [
    "holdout_pred_team_tie <- pred_holdout[seq(3,length(pred_holdout)+2,3)]\n",
    "holdout_pred_team_1 <- pred_holdout[seq(1,length(pred_holdout),3)]\n",
    "holdout_pred_team_2 <- pred_holdout[seq(2,length(pred_holdout)+1,3)]"
   ]
  },
  {
   "cell_type": "code",
   "execution_count": 266,
   "metadata": {
    "collapsed": true
   },
   "outputs": [],
   "source": [
    "holdout$team_tie <- as.numeric(holdout$result == 'tie')\n",
    "holdout$team_1_win <- as.numeric(holdout$result == 'team_1_win')\n",
    "holdout$team_2_win <- as.numeric(holdout$result == 'team_2_win')\n",
    "\n",
    "holdout$team_tie_prob_xgb_tree <- holdout_pred_team_tie\n",
    "holdout$team_1_prob_xgb_tree <- holdout_pred_team_1\n",
    "holdout$team_2_prob_xgb_tree <- holdout_pred_team_2"
   ]
  },
  {
   "cell_type": "code",
   "execution_count": 267,
   "metadata": {},
   "outputs": [
    {
     "data": {
      "text/plain": [
       "\n",
       "Call:\n",
       "roc.default(response = holdout$team_tie, predictor = holdout$team_tie_prob_xgb_tree)\n",
       "\n",
       "Data: holdout$team_tie_prob_xgb_tree in 180 controls (holdout$team_tie 0) < 52 cases (holdout$team_tie 1).\n",
       "Area under the curve: 0.6025"
      ]
     },
     "metadata": {},
     "output_type": "display_data"
    }
   ],
   "source": [
    "pROC::roc(response = holdout$team_tie, predictor = holdout$team_tie_prob_xgb_tree)"
   ]
  },
  {
   "cell_type": "code",
   "execution_count": 268,
   "metadata": {},
   "outputs": [
    {
     "data": {
      "text/plain": [
       "\n",
       "Call:\n",
       "roc.default(response = holdout$team_1_win, predictor = holdout$team_1_prob_xgb_tree)\n",
       "\n",
       "Data: holdout$team_1_prob_xgb_tree in 126 controls (holdout$team_1_win 0) < 106 cases (holdout$team_1_win 1).\n",
       "Area under the curve: 0.7681"
      ]
     },
     "metadata": {},
     "output_type": "display_data"
    }
   ],
   "source": [
    "pROC::roc(response = holdout$team_1_win, predictor = holdout$team_1_prob_xgb_tree)"
   ]
  },
  {
   "cell_type": "code",
   "execution_count": 269,
   "metadata": {
    "scrolled": true
   },
   "outputs": [
    {
     "data": {
      "text/plain": [
       "\n",
       "Call:\n",
       "roc.default(response = holdout$team_2_win, predictor = holdout$team_2_prob_xgb_tree)\n",
       "\n",
       "Data: holdout$team_2_prob_xgb_tree in 158 controls (holdout$team_2_win 0) < 74 cases (holdout$team_2_win 1).\n",
       "Area under the curve: 0.7905"
      ]
     },
     "metadata": {},
     "output_type": "display_data"
    }
   ],
   "source": [
    "pROC::roc(response = holdout$team_2_win, predictor = holdout$team_2_prob_xgb_tree)"
   ]
  },
  {
   "cell_type": "code",
   "execution_count": 270,
   "metadata": {
    "collapsed": true
   },
   "outputs": [],
   "source": [
    "df_comp <- df %>%\n",
    "    filter(data_type == 'comp') %>%\n",
    "    #na.omit %>%\n",
    "    select(-data_type, -team_1_score, -team_2_score, -id)"
   ]
  },
  {
   "cell_type": "code",
   "execution_count": 271,
   "metadata": {},
   "outputs": [
    {
     "data": {
      "text/html": [
       "<table>\n",
       "<thead><tr><th scope=col>result</th><th scope=col>is_february</th><th scope=col>is_november</th><th scope=col>c_ability_3</th><th scope=col>d_ability_1</th><th scope=col>d_ability_3</th><th scope=col>d_ability_4</th><th scope=col>d_form_4</th><th scope=col>d_h2h_2</th><th scope=col>team_1_name</th><th scope=col>...</th><th scope=col>team_2_team_score_ma_10</th><th scope=col>team_2_team_win_index</th><th scope=col>team_2_team_loss_index</th><th scope=col>team_2_tie_index</th><th scope=col>x_year</th><th scope=col>y_year</th><th scope=col>x_week</th><th scope=col>y_week</th><th scope=col>x_day</th><th scope=col>y_day</th></tr></thead>\n",
       "<tbody>\n",
       "\t<tr><td>tie              </td><td>-0.3178843       </td><td>-0.3385736       </td><td>         NA      </td><td>-2.20500635      </td><td>-2.2454484       </td><td>-2.2445428       </td><td>-0.94887132      </td><td>-1.525527        </td><td>West Ham         </td><td>...              </td><td>1.7              </td><td>0.8953355        </td><td>1.459592         </td><td>0.9748441        </td><td>0.9291414        </td><td>-0.3697245       </td><td>0.2225209        </td><td>-0.9749279       </td><td>-1.000000e+00    </td><td>1.224647e-16     </td></tr>\n",
       "\t<tr><td>tie              </td><td>-0.3178843       </td><td>-0.3385736       </td><td>-0.89467958      </td><td>-0.88925776      </td><td>-0.8380912       </td><td>-0.8429574       </td><td> 0.03982277      </td><td>-1.525527        </td><td>Huddersfield     </td><td>...              </td><td>1.0              </td><td>1.0714286        </td><td>1.428571         </td><td>0.4285714        </td><td>0.9291414        </td><td>-0.3697245       </td><td>0.3302791        </td><td>-0.9438833       </td><td> 1.000000e+00    </td><td>0.000000e+00     </td></tr>\n",
       "\t<tr><td>tie              </td><td>-0.3178843       </td><td>-0.3385736       </td><td> 0.02459464      </td><td>-0.02423344      </td><td>-0.1066833       </td><td>-0.1148918       </td><td> 0.74354760      </td><td>-1.525527        </td><td>Swansea          </td><td>...              </td><td>0.8              </td><td>0.6683673        </td><td>1.121498         </td><td>1.1080827        </td><td>0.9291414        </td><td>-0.3697245       </td><td>0.3302791        </td><td>-0.9438833       </td><td> 1.000000e+00    </td><td>0.000000e+00     </td></tr>\n",
       "\t<tr><td>tie              </td><td>-0.3178843       </td><td>-0.3385736       </td><td> 0.30058679      </td><td> 0.36483990      </td><td> 0.3435022       </td><td> 0.3538497       </td><td> 0.71709936      </td><td>-1.525527        </td><td>Burnley          </td><td>...              </td><td>1.8              </td><td>0.8892463        </td><td>1.235383         </td><td>0.6718750        </td><td>0.9291414        </td><td>-0.3697245       </td><td>0.3302791        </td><td>-0.9438833       </td><td> 1.000000e+00    </td><td>0.000000e+00     </td></tr>\n",
       "\t<tr><td>tie              </td><td>-0.3178843       </td><td>-0.3385736       </td><td>         NA      </td><td>-0.33941503      </td><td>-0.4276060       </td><td>-0.4371238       </td><td> 0.28919047      </td><td>-1.525527        </td><td>Crystal Palace   </td><td>...              </td><td>1.0              </td><td>0.8238683        </td><td>1.107407         </td><td>1.0111111        </td><td>0.9291414        </td><td>-0.3697245       </td><td>0.3302791        </td><td>-0.9438833       </td><td> 1.000000e+00    </td><td>0.000000e+00     </td></tr>\n",
       "\t<tr><td>tie              </td><td>-0.3178843       </td><td>-0.3385736       </td><td> 2.04973789      </td><td> 2.02210898      </td><td> 2.0842651       </td><td> 2.0996903       </td><td> 0.79409032      </td><td>-1.525527        </td><td>Tottenham        </td><td>...              </td><td>1.2              </td><td>0.6071429        </td><td>1.314685         </td><td>0.9900990        </td><td>0.9291414        </td><td>-0.3697245       </td><td>0.3302791        </td><td>-0.9438833       </td><td> 1.000000e+00    </td><td>0.000000e+00     </td></tr>\n",
       "\t<tr><td>tie              </td><td>-0.3178843       </td><td>-0.3385736       </td><td>-0.31882605      </td><td>-0.55800277      </td><td>-0.4606444       </td><td>-0.4416270       </td><td> 0.21156075      </td><td>-1.525527        </td><td>Newcastle Utd    </td><td>...              </td><td>1.3              </td><td>0.7169811        </td><td>1.320000         </td><td>0.9743590        </td><td>0.9291414        </td><td>-0.3697245       </td><td>0.3998920        </td><td>-0.9165623       </td><td>-1.000000e+00    </td><td>1.224647e-16     </td></tr>\n",
       "\t<tr><td>tie              </td><td>-0.3178843       </td><td>-0.3385736       </td><td>         NA      </td><td>-1.16595526      </td><td>-1.1310483       </td><td>-1.1045425       </td><td>-0.73148374      </td><td>-1.525527        </td><td>Southampton      </td><td>...              </td><td>2.2              </td><td>0.8211312        </td><td>1.456750         </td><td>1.0573135        </td><td>0.9353679        </td><td>-0.3536761       </td><td>0.9009689        </td><td>-0.4338837       </td><td> 1.000000e+00    </td><td>0.000000e+00     </td></tr>\n",
       "\t<tr><td>tie              </td><td>-0.3178843       </td><td>-0.3385736       </td><td> 1.14170119      </td><td> 1.17455248      </td><td> 1.2793569       </td><td> 1.2666328       </td><td>-0.29539431      </td><td>-1.525527        </td><td>Liverpool        </td><td>...              </td><td>1.7              </td><td>0.6824645        </td><td>1.235669         </td><td>1.1948052        </td><td>0.9353679        </td><td>-0.3536761       </td><td>0.9308737        </td><td>-0.3653410       </td><td> 6.123234e-17    </td><td>1.000000e+00     </td></tr>\n",
       "\t<tr><td>tie              </td><td>-0.3178843       </td><td>-0.3385736       </td><td>         NA      </td><td>-0.56000922      </td><td>-0.3529263       </td><td>-0.3716552       </td><td>-1.48296742      </td><td>-1.525527        </td><td>Manchester United</td><td>...              </td><td>3.0              </td><td>0.7537313        </td><td>1.323944         </td><td>1.1785714        </td><td>0.9353679        </td><td>-0.3536761       </td><td>0.9555728        </td><td>-0.2947552       </td><td>-1.000000e+00    </td><td>1.224647e-16     </td></tr>\n",
       "</tbody>\n",
       "</table>\n"
      ],
      "text/latex": [
       "\\begin{tabular}{r|lllllllllllllllllllllllllllllllllllll}\n",
       " result & is\\_february & is\\_november & c\\_ability\\_3 & d\\_ability\\_1 & d\\_ability\\_3 & d\\_ability\\_4 & d\\_form\\_4 & d\\_h2h\\_2 & team\\_1\\_name & ... & team\\_2\\_team\\_score\\_ma\\_10 & team\\_2\\_team\\_win\\_index & team\\_2\\_team\\_loss\\_index & team\\_2\\_tie\\_index & x\\_year & y\\_year & x\\_week & y\\_week & x\\_day & y\\_day\\\\\n",
       "\\hline\n",
       "\t tie               & -0.3178843        & -0.3385736        &          NA       & -2.20500635       & -2.2454484        & -2.2445428        & -0.94887132       & -1.525527         & West Ham          & ...               & 1.7               & 0.8953355         & 1.459592          & 0.9748441         & 0.9291414         & -0.3697245        & 0.2225209         & -0.9749279        & -1.000000e+00     & 1.224647e-16     \\\\\n",
       "\t tie               & -0.3178843        & -0.3385736        & -0.89467958       & -0.88925776       & -0.8380912        & -0.8429574        &  0.03982277       & -1.525527         & Huddersfield      & ...               & 1.0               & 1.0714286         & 1.428571          & 0.4285714         & 0.9291414         & -0.3697245        & 0.3302791         & -0.9438833        &  1.000000e+00     & 0.000000e+00     \\\\\n",
       "\t tie               & -0.3178843        & -0.3385736        &  0.02459464       & -0.02423344       & -0.1066833        & -0.1148918        &  0.74354760       & -1.525527         & Swansea           & ...               & 0.8               & 0.6683673         & 1.121498          & 1.1080827         & 0.9291414         & -0.3697245        & 0.3302791         & -0.9438833        &  1.000000e+00     & 0.000000e+00     \\\\\n",
       "\t tie               & -0.3178843        & -0.3385736        &  0.30058679       &  0.36483990       &  0.3435022        &  0.3538497        &  0.71709936       & -1.525527         & Burnley           & ...               & 1.8               & 0.8892463         & 1.235383          & 0.6718750         & 0.9291414         & -0.3697245        & 0.3302791         & -0.9438833        &  1.000000e+00     & 0.000000e+00     \\\\\n",
       "\t tie               & -0.3178843        & -0.3385736        &          NA       & -0.33941503       & -0.4276060        & -0.4371238        &  0.28919047       & -1.525527         & Crystal Palace    & ...               & 1.0               & 0.8238683         & 1.107407          & 1.0111111         & 0.9291414         & -0.3697245        & 0.3302791         & -0.9438833        &  1.000000e+00     & 0.000000e+00     \\\\\n",
       "\t tie               & -0.3178843        & -0.3385736        &  2.04973789       &  2.02210898       &  2.0842651        &  2.0996903        &  0.79409032       & -1.525527         & Tottenham         & ...               & 1.2               & 0.6071429         & 1.314685          & 0.9900990         & 0.9291414         & -0.3697245        & 0.3302791         & -0.9438833        &  1.000000e+00     & 0.000000e+00     \\\\\n",
       "\t tie               & -0.3178843        & -0.3385736        & -0.31882605       & -0.55800277       & -0.4606444        & -0.4416270        &  0.21156075       & -1.525527         & Newcastle Utd     & ...               & 1.3               & 0.7169811         & 1.320000          & 0.9743590         & 0.9291414         & -0.3697245        & 0.3998920         & -0.9165623        & -1.000000e+00     & 1.224647e-16     \\\\\n",
       "\t tie               & -0.3178843        & -0.3385736        &          NA       & -1.16595526       & -1.1310483        & -1.1045425        & -0.73148374       & -1.525527         & Southampton       & ...               & 2.2               & 0.8211312         & 1.456750          & 1.0573135         & 0.9353679         & -0.3536761        & 0.9009689         & -0.4338837        &  1.000000e+00     & 0.000000e+00     \\\\\n",
       "\t tie               & -0.3178843        & -0.3385736        &  1.14170119       &  1.17455248       &  1.2793569        &  1.2666328        & -0.29539431       & -1.525527         & Liverpool         & ...               & 1.7               & 0.6824645         & 1.235669          & 1.1948052         & 0.9353679         & -0.3536761        & 0.9308737         & -0.3653410        &  6.123234e-17     & 1.000000e+00     \\\\\n",
       "\t tie               & -0.3178843        & -0.3385736        &          NA       & -0.56000922       & -0.3529263        & -0.3716552        & -1.48296742       & -1.525527         & Manchester United & ...               & 3.0               & 0.7537313         & 1.323944          & 1.1785714         & 0.9353679         & -0.3536761        & 0.9555728         & -0.2947552        & -1.000000e+00     & 1.224647e-16     \\\\\n",
       "\\end{tabular}\n"
      ],
      "text/markdown": [
       "\n",
       "result | is_february | is_november | c_ability_3 | d_ability_1 | d_ability_3 | d_ability_4 | d_form_4 | d_h2h_2 | team_1_name | ... | team_2_team_score_ma_10 | team_2_team_win_index | team_2_team_loss_index | team_2_tie_index | x_year | y_year | x_week | y_week | x_day | y_day | \n",
       "|---|---|---|---|---|---|---|---|---|---|\n",
       "| tie               | -0.3178843        | -0.3385736        |          NA       | -2.20500635       | -2.2454484        | -2.2445428        | -0.94887132       | -1.525527         | West Ham          | ...               | 1.7               | 0.8953355         | 1.459592          | 0.9748441         | 0.9291414         | -0.3697245        | 0.2225209         | -0.9749279        | -1.000000e+00     | 1.224647e-16      | \n",
       "| tie               | -0.3178843        | -0.3385736        | -0.89467958       | -0.88925776       | -0.8380912        | -0.8429574        |  0.03982277       | -1.525527         | Huddersfield      | ...               | 1.0               | 1.0714286         | 1.428571          | 0.4285714         | 0.9291414         | -0.3697245        | 0.3302791         | -0.9438833        |  1.000000e+00     | 0.000000e+00      | \n",
       "| tie               | -0.3178843        | -0.3385736        |  0.02459464       | -0.02423344       | -0.1066833        | -0.1148918        |  0.74354760       | -1.525527         | Swansea           | ...               | 0.8               | 0.6683673         | 1.121498          | 1.1080827         | 0.9291414         | -0.3697245        | 0.3302791         | -0.9438833        |  1.000000e+00     | 0.000000e+00      | \n",
       "| tie               | -0.3178843        | -0.3385736        |  0.30058679       |  0.36483990       |  0.3435022        |  0.3538497        |  0.71709936       | -1.525527         | Burnley           | ...               | 1.8               | 0.8892463         | 1.235383          | 0.6718750         | 0.9291414         | -0.3697245        | 0.3302791         | -0.9438833        |  1.000000e+00     | 0.000000e+00      | \n",
       "| tie               | -0.3178843        | -0.3385736        |          NA       | -0.33941503       | -0.4276060        | -0.4371238        |  0.28919047       | -1.525527         | Crystal Palace    | ...               | 1.0               | 0.8238683         | 1.107407          | 1.0111111         | 0.9291414         | -0.3697245        | 0.3302791         | -0.9438833        |  1.000000e+00     | 0.000000e+00      | \n",
       "| tie               | -0.3178843        | -0.3385736        |  2.04973789       |  2.02210898       |  2.0842651        |  2.0996903        |  0.79409032       | -1.525527         | Tottenham         | ...               | 1.2               | 0.6071429         | 1.314685          | 0.9900990         | 0.9291414         | -0.3697245        | 0.3302791         | -0.9438833        |  1.000000e+00     | 0.000000e+00      | \n",
       "| tie               | -0.3178843        | -0.3385736        | -0.31882605       | -0.55800277       | -0.4606444        | -0.4416270        |  0.21156075       | -1.525527         | Newcastle Utd     | ...               | 1.3               | 0.7169811         | 1.320000          | 0.9743590         | 0.9291414         | -0.3697245        | 0.3998920         | -0.9165623        | -1.000000e+00     | 1.224647e-16      | \n",
       "| tie               | -0.3178843        | -0.3385736        |          NA       | -1.16595526       | -1.1310483        | -1.1045425        | -0.73148374       | -1.525527         | Southampton       | ...               | 2.2               | 0.8211312         | 1.456750          | 1.0573135         | 0.9353679         | -0.3536761        | 0.9009689         | -0.4338837        |  1.000000e+00     | 0.000000e+00      | \n",
       "| tie               | -0.3178843        | -0.3385736        |  1.14170119       |  1.17455248       |  1.2793569        |  1.2666328        | -0.29539431       | -1.525527         | Liverpool         | ...               | 1.7               | 0.6824645         | 1.235669          | 1.1948052         | 0.9353679         | -0.3536761        | 0.9308737         | -0.3653410        |  6.123234e-17     | 1.000000e+00      | \n",
       "| tie               | -0.3178843        | -0.3385736        |          NA       | -0.56000922       | -0.3529263        | -0.3716552        | -1.48296742       | -1.525527         | Manchester United | ...               | 3.0               | 0.7537313         | 1.323944          | 1.1785714         | 0.9353679         | -0.3536761        | 0.9555728         | -0.2947552        | -1.000000e+00     | 1.224647e-16      | \n",
       "\n",
       "\n"
      ],
      "text/plain": [
       "   result is_february is_november c_ability_3 d_ability_1 d_ability_3\n",
       "1  tie    -0.3178843  -0.3385736           NA -2.20500635 -2.2454484 \n",
       "2  tie    -0.3178843  -0.3385736  -0.89467958 -0.88925776 -0.8380912 \n",
       "3  tie    -0.3178843  -0.3385736   0.02459464 -0.02423344 -0.1066833 \n",
       "4  tie    -0.3178843  -0.3385736   0.30058679  0.36483990  0.3435022 \n",
       "5  tie    -0.3178843  -0.3385736           NA -0.33941503 -0.4276060 \n",
       "6  tie    -0.3178843  -0.3385736   2.04973789  2.02210898  2.0842651 \n",
       "7  tie    -0.3178843  -0.3385736  -0.31882605 -0.55800277 -0.4606444 \n",
       "8  tie    -0.3178843  -0.3385736           NA -1.16595526 -1.1310483 \n",
       "9  tie    -0.3178843  -0.3385736   1.14170119  1.17455248  1.2793569 \n",
       "10 tie    -0.3178843  -0.3385736           NA -0.56000922 -0.3529263 \n",
       "   d_ability_4 d_form_4    d_h2h_2   team_1_name       ...\n",
       "1  -2.2445428  -0.94887132 -1.525527 West Ham          ...\n",
       "2  -0.8429574   0.03982277 -1.525527 Huddersfield      ...\n",
       "3  -0.1148918   0.74354760 -1.525527 Swansea           ...\n",
       "4   0.3538497   0.71709936 -1.525527 Burnley           ...\n",
       "5  -0.4371238   0.28919047 -1.525527 Crystal Palace    ...\n",
       "6   2.0996903   0.79409032 -1.525527 Tottenham         ...\n",
       "7  -0.4416270   0.21156075 -1.525527 Newcastle Utd     ...\n",
       "8  -1.1045425  -0.73148374 -1.525527 Southampton       ...\n",
       "9   1.2666328  -0.29539431 -1.525527 Liverpool         ...\n",
       "10 -0.3716552  -1.48296742 -1.525527 Manchester United ...\n",
       "   team_2_team_score_ma_10 team_2_team_win_index team_2_team_loss_index\n",
       "1  1.7                     0.8953355             1.459592              \n",
       "2  1.0                     1.0714286             1.428571              \n",
       "3  0.8                     0.6683673             1.121498              \n",
       "4  1.8                     0.8892463             1.235383              \n",
       "5  1.0                     0.8238683             1.107407              \n",
       "6  1.2                     0.6071429             1.314685              \n",
       "7  1.3                     0.7169811             1.320000              \n",
       "8  2.2                     0.8211312             1.456750              \n",
       "9  1.7                     0.6824645             1.235669              \n",
       "10 3.0                     0.7537313             1.323944              \n",
       "   team_2_tie_index x_year    y_year     x_week    y_week     x_day        \n",
       "1  0.9748441        0.9291414 -0.3697245 0.2225209 -0.9749279 -1.000000e+00\n",
       "2  0.4285714        0.9291414 -0.3697245 0.3302791 -0.9438833  1.000000e+00\n",
       "3  1.1080827        0.9291414 -0.3697245 0.3302791 -0.9438833  1.000000e+00\n",
       "4  0.6718750        0.9291414 -0.3697245 0.3302791 -0.9438833  1.000000e+00\n",
       "5  1.0111111        0.9291414 -0.3697245 0.3302791 -0.9438833  1.000000e+00\n",
       "6  0.9900990        0.9291414 -0.3697245 0.3302791 -0.9438833  1.000000e+00\n",
       "7  0.9743590        0.9291414 -0.3697245 0.3998920 -0.9165623 -1.000000e+00\n",
       "8  1.0573135        0.9353679 -0.3536761 0.9009689 -0.4338837  1.000000e+00\n",
       "9  1.1948052        0.9353679 -0.3536761 0.9308737 -0.3653410  6.123234e-17\n",
       "10 1.1785714        0.9353679 -0.3536761 0.9555728 -0.2947552 -1.000000e+00\n",
       "   y_day       \n",
       "1  1.224647e-16\n",
       "2  0.000000e+00\n",
       "3  0.000000e+00\n",
       "4  0.000000e+00\n",
       "5  0.000000e+00\n",
       "6  0.000000e+00\n",
       "7  1.224647e-16\n",
       "8  0.000000e+00\n",
       "9  1.000000e+00\n",
       "10 1.224647e-16"
      ]
     },
     "metadata": {},
     "output_type": "display_data"
    }
   ],
   "source": [
    "df_comp"
   ]
  },
  {
   "cell_type": "code",
   "execution_count": null,
   "metadata": {
    "collapsed": true
   },
   "outputs": [],
   "source": []
  }
 ],
 "metadata": {
  "kernelspec": {
   "display_name": "R",
   "language": "R",
   "name": "ir"
  },
  "language_info": {
   "codemirror_mode": "r",
   "file_extension": ".r",
   "mimetype": "text/x-r-source",
   "name": "R",
   "pygments_lexer": "r",
   "version": "3.4.2"
  }
 },
 "nbformat": 4,
 "nbformat_minor": 2
}
