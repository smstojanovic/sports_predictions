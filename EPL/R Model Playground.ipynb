{
 "cells": [
  {
   "cell_type": "code",
   "execution_count": 218,
   "metadata": {},
   "outputs": [],
   "source": [
    "library(tidyverse)\n",
    "library(rpart)\n",
    "library(pROC)\n",
    "library(rpart.plot)\n",
    "library(caret)\n",
    "library(nnet)\n",
    "library(randomForest)\n",
    "library(Matrix)\n",
    "library(xgboost)"
   ]
  },
  {
   "cell_type": "code",
   "execution_count": 219,
   "metadata": {},
   "outputs": [],
   "source": [
    "df <- read.csv('epl_data_w_features.csv')"
   ]
  },
  {
   "cell_type": "code",
   "execution_count": 322,
   "metadata": {},
   "outputs": [],
   "source": [
    "df <- df %>% select(-c_ability_3)"
   ]
  },
  {
   "cell_type": "code",
   "execution_count": 323,
   "metadata": {},
   "outputs": [],
   "source": [
    "df_play <- df %>%\n",
    "    filter(data_type == 'hist') %>%\n",
    "    na.omit %>%\n",
    "    select(-data_type, -team_1_score, -team_2_score, -id)"
   ]
  },
  {
   "cell_type": "markdown",
   "metadata": {},
   "source": [
    "### Use the last 5% of rows for 'hold-out'"
   ]
  },
  {
   "cell_type": "code",
   "execution_count": 324,
   "metadata": {},
   "outputs": [],
   "source": [
    "holdout <- df_play[round(df_play %>% nrow * 0.95):(df_play %>% nrow),]\n",
    "df_model <- df_play[1:round(df_play %>% nrow * 0.95),]"
   ]
  },
  {
   "cell_type": "code",
   "execution_count": 325,
   "metadata": {
    "collapsed": true
   },
   "outputs": [],
   "source": [
    "index <- caret::createDataPartition(y = df_model$result, p = 0.8, list = F)"
   ]
  },
  {
   "cell_type": "code",
   "execution_count": 326,
   "metadata": {
    "collapsed": true
   },
   "outputs": [],
   "source": [
    "train <- df_model[index,]\n",
    "test <- df_model[-index,]"
   ]
  },
  {
   "cell_type": "markdown",
   "metadata": {},
   "source": [
    "# Classification Models"
   ]
  },
  {
   "cell_type": "markdown",
   "metadata": {},
   "source": [
    "## Linear Models"
   ]
  },
  {
   "cell_type": "markdown",
   "metadata": {},
   "source": [
    "### Multinom"
   ]
  },
  {
   "cell_type": "code",
   "execution_count": 327,
   "metadata": {},
   "outputs": [
    {
     "name": "stdout",
     "output_type": "stream",
     "text": [
      "# weights:  339 (224 variable)\n",
      "initial  value 3856.129133 \n",
      "iter  10 value 3444.284188\n",
      "iter  20 value 3385.442892\n",
      "iter  30 value 3341.695076\n",
      "iter  40 value 3294.117657\n",
      "iter  50 value 3280.204725\n",
      "iter  60 value 3273.122916\n",
      "iter  70 value 3269.953816\n",
      "iter  80 value 3268.858662\n",
      "iter  90 value 3267.643583\n",
      "iter 100 value 3266.948937\n",
      "final  value 3266.948937 \n",
      "stopped after 100 iterations\n"
     ]
    }
   ],
   "source": [
    "fit.mult <- train %>%\n",
    "                multinom(formula = result ~ .)"
   ]
  },
  {
   "cell_type": "code",
   "execution_count": 328,
   "metadata": {},
   "outputs": [
    {
     "name": "stderr",
     "output_type": "stream",
     "text": [
      "Warning message in sqrt(diag(vc)):\n",
      "\"NaNs produced\""
     ]
    },
    {
     "data": {
      "text/plain": [
       "Call:\n",
       "multinom(formula = result ~ ., data = .)\n",
       "\n",
       "Coefficients:\n",
       "           (Intercept) is_february is_november d_ability_1 d_ability_3\n",
       "team_2_win    4.033818 -0.09617404 -0.04268949   -8.093651    7.687734\n",
       "tie           1.857866 -0.01106152  0.03737004   -3.163904    8.462804\n",
       "           d_ability_4    d_form_4    d_h2h_2 team_1_nameAston Villa\n",
       "team_2_win  -0.2706663  0.01294139 -0.5023426              2.3453274\n",
       "tie         -5.6950433 -0.08489720 -0.0890849              0.7844435\n",
       "           team_1_nameBirmingham team_1_nameBlackburn team_1_nameBlackpool\n",
       "team_2_win             1.3158453            1.5676319             3.501682\n",
       "tie                    0.2237564            0.2079519             1.570668\n",
       "           team_1_nameBolton team_1_nameBournemouth team_1_nameBrighton\n",
       "team_2_win         1.4147930              2.2734065                   0\n",
       "tie                0.1265607              0.8492698                   0\n",
       "           team_1_nameBurnley team_1_nameCardiff team_1_nameCharlton\n",
       "team_2_win         1.08047132           2.872783           1.6923180\n",
       "tie               -0.03599054           0.916071          -0.1328057\n",
       "           team_1_nameChelsea team_1_nameCrystal Palace team_1_nameDerby\n",
       "team_2_win         -0.1431710                 2.5616449                0\n",
       "tie                 0.5758121                -0.1909472                0\n",
       "           team_1_nameEverton team_1_nameFulham team_1_nameHuddersfield\n",
       "team_2_win         1.07293602         1.2028073                       0\n",
       "tie               -0.03199509        -0.7693374                       0\n",
       "           team_1_nameHull City team_1_nameLeeds team_1_nameLeicester\n",
       "team_2_win            2.3279888                0            0.4647151\n",
       "tie                   0.4625395                0            0.4321700\n",
       "           team_1_nameLiverpool team_1_nameManchester City\n",
       "team_2_win         -0.553922565                  0.6716120\n",
       "tie                -0.004570038                 -0.7318471\n",
       "           team_1_nameManchester United team_1_nameMiddlesbrough\n",
       "team_2_win                    0.4197716                1.4696170\n",
       "tie                          -0.3483143                0.1950632\n",
       "           team_1_nameNewcastle Utd team_1_nameNorwich team_1_namePortsmouth\n",
       "team_2_win               0.98129291          1.1256371             1.3370843\n",
       "tie                      0.06468624         -0.2283675             0.2329409\n",
       "           team_1_nameQPR team_1_nameReading team_1_nameSheffield Utd\n",
       "team_2_win      1.4403222          2.2171327                1.8634756\n",
       "tie             0.4159628         -0.1174127                0.9112012\n",
       "           team_1_nameSouthampton team_1_nameStoke City team_1_nameSunderland\n",
       "team_2_win               1.165582           1.000280824              2.117416\n",
       "tie                      0.562367          -0.003054797              0.360806\n",
       "           team_1_nameSwansea team_1_nameTottenham team_1_nameWatford\n",
       "team_2_win          1.3270050            0.4726952           2.126599\n",
       "tie                 0.5635539           -0.1684414           0.828147\n",
       "           team_1_nameWest Brom team_1_nameWest Ham team_1_nameWigan\n",
       "team_2_win            1.5484833           1.7467524         2.432044\n",
       "tie                  -0.2540301           0.1048882         0.462029\n",
       "           team_1_nameWolves team_2_nameAston Villa team_2_nameBirmingham\n",
       "team_2_win         3.1202658              0.1234499            -1.9665327\n",
       "tie                0.1010949              0.1265245            -0.3855779\n",
       "           team_2_nameBlackburn team_2_nameBlackpool team_2_nameBolton\n",
       "team_2_win           -0.7041524           -0.6291293        -0.4761851\n",
       "tie                  -0.2269818           -0.5340331        -0.5336201\n",
       "           team_2_nameBournemouth team_2_nameBrighton team_2_nameBurnley\n",
       "team_2_win             -1.5857163                   0          -5.104489\n",
       "tie                    -0.6125234                   0          -1.999820\n",
       "           team_2_nameCardiff team_2_nameCharlton team_2_nameChelsea\n",
       "team_2_win          -3.691445           -1.016545          0.3793700\n",
       "tie                 -1.237313           -0.295979         -0.1226864\n",
       "           team_2_nameCrystal Palace team_2_nameDerby team_2_nameEverton\n",
       "team_2_win                -1.2392619                0        -0.03750314\n",
       "tie                        0.1427249                0         0.80160955\n",
       "           team_2_nameFulham team_2_nameHuddersfield team_2_nameHull City\n",
       "team_2_win        -1.3934418                       0           -2.0757702\n",
       "tie                0.1606223                       0           -0.2494587\n",
       "           team_2_nameLeeds team_2_nameLeicester team_2_nameLiverpool\n",
       "team_2_win        -3.320689            -2.623326           -0.6997147\n",
       "tie               -4.671893            -1.810531           -0.3681833\n",
       "           team_2_nameManchester City team_2_nameManchester United\n",
       "team_2_win                -0.47597854                    0.4765273\n",
       "tie                       -0.01032894                    0.3247373\n",
       "           team_2_nameMiddlesbrough team_2_nameNewcastle Utd team_2_nameNorwich\n",
       "team_2_win              -1.74448032                -1.616007          -3.530100\n",
       "tie                      0.05528454                -0.693710          -0.809256\n",
       "           team_2_namePortsmouth team_2_nameQPR team_2_nameReading\n",
       "team_2_win             -1.618596      -3.553279         -2.5000310\n",
       "tie                    -1.095499      -2.159160         -0.7624361\n",
       "           team_2_nameSheffield Utd team_2_nameSouthampton\n",
       "team_2_win                -2.836775             -2.0158139\n",
       "tie                       -2.913220             -0.9396949\n",
       "           team_2_nameStoke City team_2_nameSunderland team_2_nameSwansea\n",
       "team_2_win            -1.8053521             -1.604874          -2.065812\n",
       "tie                   -0.1448151             -0.374569          -1.384670\n",
       "           team_2_nameTottenham team_2_nameWatford team_2_nameWest Brom\n",
       "team_2_win           -0.5182561          -2.206485           -1.6715644\n",
       "tie                  -0.0741660          -1.618980            0.1348899\n",
       "           team_2_nameWest Ham team_2_nameWigan team_2_nameWolves\n",
       "team_2_win          -0.7313747       -0.2471002        -1.7322679\n",
       "tie                 -0.0286502       -0.4106651        -0.2994372\n",
       "           team_1_match_count team_1_opponent_last_score\n",
       "team_2_win       0.0002861013                 0.01298060\n",
       "tie              0.0001977571                -0.02850721\n",
       "           team_1_opponent_score_ema_10 team_1_opponent_score_ma_10\n",
       "team_2_win                  -0.12844602                   0.2953984\n",
       "tie                          0.04482837                   0.1419569\n",
       "           team_1_team_last_score team_1_team_score_ema_10\n",
       "team_2_win            -0.06343859                0.1285969\n",
       "tie                   -0.02176079               -0.1952050\n",
       "           team_1_team_score_ma_10 team_1_team_win_index team_1_team_loss_index\n",
       "team_2_win             -0.09986076             0.1038049             -1.1982392\n",
       "tie                     0.07929854             1.2047737              0.3563133\n",
       "           team_1_tie_index team_2_match_count team_2_opponent_last_score\n",
       "team_2_win       -0.1146854       -0.003777185                -0.12413951\n",
       "tie              -0.6770703       -0.001364066                -0.08606683\n",
       "           team_2_opponent_score_ema_10 team_2_opponent_score_ma_10\n",
       "team_2_win                    0.1568373                   0.2820476\n",
       "tie                           0.1968624                   0.1065477\n",
       "           team_2_team_last_score team_2_team_score_ema_10\n",
       "team_2_win             0.05391606               -0.1325068\n",
       "tie                   -0.01213592                0.6502749\n",
       "           team_2_team_score_ma_10 team_2_team_win_index team_2_team_loss_index\n",
       "team_2_win              -0.1205487            -2.3875388             -0.2573689\n",
       "tie                     -0.4369120            -0.8842809             -0.5151814\n",
       "           team_2_tie_index      x_year      y_year     x_week     y_week\n",
       "team_2_win        -1.618481 -0.05980355 -0.07833138 -0.1415597 0.01770005\n",
       "tie               -2.332238 -0.16567250 -0.13541222 -0.1820712 0.05773726\n",
       "                x_day     y_day\n",
       "team_2_win 0.01315188 0.1787359\n",
       "tie        0.11330810 0.1103223\n",
       "\n",
       "Std. Errors:\n",
       "           (Intercept) is_february is_november d_ability_1 d_ability_3\n",
       "team_2_win   0.1032995  0.04857603  0.05155846   0.1124292  0.06718907\n",
       "tie          0.1086946  0.04565343  0.04759405   0.1140875  0.06600194\n",
       "           d_ability_4  d_form_4    d_h2h_2 team_1_nameAston Villa\n",
       "team_2_win  0.06641680 0.1170867 0.06918007              0.2291130\n",
       "tie         0.06450877 0.1187353 0.06531347              0.2358041\n",
       "           team_1_nameBirmingham team_1_nameBlackburn team_1_nameBlackpool\n",
       "team_2_win             0.3268948            0.2624383            0.4125346\n",
       "tie                    0.2967339            0.2745870            0.3825790\n",
       "           team_1_nameBolton team_1_nameBournemouth team_1_nameBrighton\n",
       "team_2_win         0.2655762              0.5043427                 NaN\n",
       "tie                0.2743113              0.5470790        4.087528e-16\n",
       "           team_1_nameBurnley team_1_nameCardiff team_1_nameCharlton\n",
       "team_2_win          0.4840648          0.3442309           0.3609086\n",
       "tie                 0.5065479          0.3508130           0.4075008\n",
       "           team_1_nameChelsea team_1_nameCrystal Palace team_1_nameDerby\n",
       "team_2_win          0.3679171                 0.3215868     3.178506e-10\n",
       "tie                 0.2656767                 0.3925293              NaN\n",
       "           team_1_nameEverton team_1_nameFulham team_1_nameHuddersfield\n",
       "team_2_win          0.2419541         0.2455618            5.018847e-10\n",
       "tie                 0.2285189         0.2659753                     NaN\n",
       "           team_1_nameHull City team_1_nameLeeds team_1_nameLeicester\n",
       "team_2_win            0.3298892     6.834926e-10            0.4371718\n",
       "tie                   0.3499197     3.347293e-16            0.3955813\n",
       "           team_1_nameLiverpool team_1_nameManchester City\n",
       "team_2_win            0.3169954                  0.2310428\n",
       "tie                   0.2379452                  0.2417464\n",
       "           team_1_nameManchester United team_1_nameMiddlesbrough\n",
       "team_2_win                    0.3055387                0.2990352\n",
       "tie                           0.2704095                0.3026679\n",
       "           team_1_nameNewcastle Utd team_1_nameNorwich team_1_namePortsmouth\n",
       "team_2_win                 0.236894          0.3576015             0.2996575\n",
       "tie                        0.231577          0.3688507             0.3032685\n",
       "           team_1_nameQPR team_1_nameReading team_1_nameSheffield Utd\n",
       "team_2_win      0.4346170          0.4037864                0.4870860\n",
       "tie             0.4430902          0.4514192                0.4702287\n",
       "           team_1_nameSouthampton team_1_nameStoke City team_1_nameSunderland\n",
       "team_2_win              0.3127220             0.2687973             0.2336106\n",
       "tie                     0.2929123             0.2541554             0.2417854\n",
       "           team_1_nameSwansea team_1_nameTottenham team_1_nameWatford\n",
       "team_2_win          0.3077600            0.2380270          0.4287907\n",
       "tie                 0.3109959            0.2219239          0.4552270\n",
       "           team_1_nameWest Brom team_1_nameWest Ham team_1_nameWigan\n",
       "team_2_win            0.2454006           0.2224749        0.2800530\n",
       "tie                   0.2505798           0.2336728        0.2971578\n",
       "           team_1_nameWolves team_2_nameAston Villa team_2_nameBirmingham\n",
       "team_2_win         0.3943335              0.2420496             0.3820346\n",
       "tie                0.4396716              0.2353110             0.3120670\n",
       "           team_2_nameBlackburn team_2_nameBlackpool team_2_nameBolton\n",
       "team_2_win            0.2939150            0.4205183         0.2692884\n",
       "tie                   0.2621962            0.5680446         0.2820370\n",
       "           team_2_nameBournemouth team_2_nameBrighton team_2_nameBurnley\n",
       "team_2_win              0.5853103                 NaN          0.6166057\n",
       "tie                     0.5636981        1.737653e-16          0.4768196\n",
       "           team_2_nameCardiff team_2_nameCharlton team_2_nameChelsea\n",
       "team_2_win          0.1876041           0.4919093          0.2667937\n",
       "tie                 0.7006472           0.4280258          0.2944455\n",
       "           team_2_nameCrystal Palace team_2_nameDerby team_2_nameEverton\n",
       "team_2_win                 0.3558309     5.195277e-16          0.2364365\n",
       "tie                        0.3305479              NaN          0.2319133\n",
       "           team_2_nameFulham team_2_nameHuddersfield team_2_nameHull City\n",
       "team_2_win          0.286858            1.486912e-15            0.4277227\n",
       "tie                 0.247235                     NaN            0.3070000\n",
       "           team_2_nameLeeds team_2_nameLeicester team_2_nameLiverpool\n",
       "team_2_win      0.002217859            0.4113782            0.2416259\n",
       "tie             0.001469029            0.4621665            0.2636358\n",
       "           team_2_nameManchester City team_2_nameManchester United\n",
       "team_2_win                  0.2233353                    0.2568437\n",
       "tie                         0.2336456                    0.2784534\n",
       "           team_2_nameMiddlesbrough team_2_nameNewcastle Utd team_2_nameNorwich\n",
       "team_2_win                0.3624588                0.2478882          0.4301606\n",
       "tie                       0.2793536                0.2355599          0.3187379\n",
       "           team_2_namePortsmouth team_2_nameQPR team_2_nameReading\n",
       "team_2_win             0.3193897      0.6063323          0.5461821\n",
       "tie                    0.3155682      0.4998879          0.4467442\n",
       "           team_2_nameSheffield Utd team_2_nameSouthampton\n",
       "team_2_win                0.1259520              0.2990152\n",
       "tie                       0.1323345              0.2982604\n",
       "           team_2_nameStoke City team_2_nameSunderland team_2_nameSwansea\n",
       "team_2_win             0.2807267             0.2660463          0.3077083\n",
       "tie                    0.2463086             0.2322827          0.3263825\n",
       "           team_2_nameTottenham team_2_nameWatford team_2_nameWest Brom\n",
       "team_2_win            0.2221984          0.4807067            0.2848092\n",
       "tie                   0.2289830          0.5194352            0.2394119\n",
       "           team_2_nameWest Ham team_2_nameWigan team_2_nameWolves\n",
       "team_2_win           0.2383566        0.3006817         0.5515774\n",
       "tie                  0.2279756        0.3021880         0.4217492\n",
       "           team_1_match_count team_1_opponent_last_score\n",
       "team_2_win       0.0006876496                 0.05065188\n",
       "tie              0.0006745089                 0.04931922\n",
       "           team_1_opponent_score_ema_10 team_1_opponent_score_ma_10\n",
       "team_2_win                    0.3229372                   0.2743382\n",
       "tie                           0.3126734                   0.2655336\n",
       "           team_1_team_last_score team_1_team_score_ema_10\n",
       "team_2_win             0.05591668                0.3268730\n",
       "tie                    0.05208253                0.3086238\n",
       "           team_1_team_score_ma_10 team_1_team_win_index team_1_team_loss_index\n",
       "team_2_win               0.2830752             0.3406974              0.4284285\n",
       "tie                      0.2649373             0.3658822              0.4312357\n",
       "           team_1_tie_index team_2_match_count team_2_opponent_last_score\n",
       "team_2_win        0.3472856       0.0006757709                 0.05547913\n",
       "tie               0.3522119       0.0006842820                 0.05206210\n",
       "           team_2_opponent_score_ema_10 team_2_opponent_score_ma_10\n",
       "team_2_win                    0.3216965                   0.2793301\n",
       "tie                           0.3018067                   0.2621474\n",
       "           team_2_team_last_score team_2_team_score_ema_10\n",
       "team_2_win             0.05162935                0.3213537\n",
       "tie                    0.04995964                0.3122784\n",
       "           team_2_team_score_ma_10 team_2_team_win_index team_2_team_loss_index\n",
       "team_2_win               0.2754480             0.4253672              0.3871722\n",
       "tie                      0.2694098             0.4392216              0.3824321\n",
       "           team_2_tie_index     x_year     y_year    x_week     y_week\n",
       "team_2_win        0.3567760 0.08529657 0.06698734 0.1117467 0.07751003\n",
       "tie               0.3591666 0.08260392 0.06445041 0.1066563 0.07434179\n",
       "                x_day     y_day\n",
       "team_2_win 0.07088546 0.1319588\n",
       "tie        0.07100149 0.1309285\n",
       "\n",
       "Residual Deviance: 6533.898 \n",
       "AIC: 6953.898 "
      ]
     },
     "metadata": {},
     "output_type": "display_data"
    }
   ],
   "source": [
    "fit.mult %>% summary"
   ]
  },
  {
   "cell_type": "code",
   "execution_count": 329,
   "metadata": {},
   "outputs": [],
   "source": [
    "preds <- predict(fit.mult, newdata = test, type=\"probs\")"
   ]
  },
  {
   "cell_type": "code",
   "execution_count": 330,
   "metadata": {
    "collapsed": true
   },
   "outputs": [],
   "source": [
    "test$team_tie <- as.numeric(test$result == 'tie')\n",
    "test$team_1_win <- as.numeric(test$result == 'team_1_win')\n",
    "test$team_2_win <- as.numeric(test$result == 'team_2_win')\n",
    "\n",
    "test$team_tie_prob_mult_nom <- (preds %>% as.data.frame)$tie\n",
    "test$team_1_prob_mult_nom <- (preds %>% as.data.frame)$team_1_win\n",
    "test$team_2_prob_mult_nom <- (preds %>% as.data.frame)$team_2_win"
   ]
  },
  {
   "cell_type": "code",
   "execution_count": 331,
   "metadata": {},
   "outputs": [
    {
     "data": {
      "text/plain": [
       "\n",
       "Call:\n",
       "roc.default(response = test$team_tie, predictor = test$team_tie_prob_mult_nom)\n",
       "\n",
       "Data: test$team_tie_prob_mult_nom in 654 controls (test$team_tie 0) < 223 cases (test$team_tie 1).\n",
       "Area under the curve: 0.5895"
      ]
     },
     "metadata": {},
     "output_type": "display_data"
    }
   ],
   "source": [
    "pROC::roc(response = test$team_tie, predictor = test$team_tie_prob_mult_nom)"
   ]
  },
  {
   "cell_type": "code",
   "execution_count": 332,
   "metadata": {},
   "outputs": [
    {
     "data": {
      "text/plain": [
       "\n",
       "Call:\n",
       "roc.default(response = test$team_1_win, predictor = test$team_1_prob_mult_nom)\n",
       "\n",
       "Data: test$team_1_prob_mult_nom in 468 controls (test$team_1_win 0) < 409 cases (test$team_1_win 1).\n",
       "Area under the curve: 0.7023"
      ]
     },
     "metadata": {},
     "output_type": "display_data"
    }
   ],
   "source": [
    "pROC::roc(response = test$team_1_win, predictor = test$team_1_prob_mult_nom)"
   ]
  },
  {
   "cell_type": "code",
   "execution_count": 333,
   "metadata": {},
   "outputs": [
    {
     "data": {
      "text/plain": [
       "\n",
       "Call:\n",
       "roc.default(response = test$team_2_win, predictor = test$team_2_prob_mult_nom)\n",
       "\n",
       "Data: test$team_2_prob_mult_nom in 632 controls (test$team_2_win 0) < 245 cases (test$team_2_win 1).\n",
       "Area under the curve: 0.7159"
      ]
     },
     "metadata": {},
     "output_type": "display_data"
    }
   ],
   "source": [
    "pROC::roc(response = test$team_2_win, predictor = test$team_2_prob_mult_nom)"
   ]
  },
  {
   "cell_type": "markdown",
   "metadata": {},
   "source": [
    "### pairwise logreg"
   ]
  },
  {
   "cell_type": "code",
   "execution_count": 334,
   "metadata": {},
   "outputs": [],
   "source": [
    "train$team_tie <- as.numeric(train$result == 'tie')\n",
    "train$team_1_win <- as.numeric(train$result == 'team_1_win')\n",
    "train$team_2_win <- as.numeric(train$result == 'team_2_win')\n",
    "\n",
    "\n",
    "fit.log_tie <- train %>%\n",
    "                select(-team_1_win,-team_2_win, -result) %>%\n",
    "                glm(formula = team_tie ~ ., family=\"binomial\")\n",
    "\n",
    "fit.log_team_1 <- train %>%\n",
    "                select(-team_tie,-team_2_win, -result) %>%\n",
    "                glm(formula = team_1_win ~ ., family=\"binomial\")\n",
    "\n",
    "fit.log_team_2 <- train %>%\n",
    "                select(-team_1_win,-team_tie, -result) %>%\n",
    "                glm(formula = team_2_win ~ ., family=\"binomial\")"
   ]
  },
  {
   "cell_type": "code",
   "execution_count": 335,
   "metadata": {},
   "outputs": [
    {
     "data": {
      "text/plain": [
       "\n",
       "Call:\n",
       "glm(formula = team_tie ~ ., family = \"binomial\", data = .)\n",
       "\n",
       "Deviance Residuals: \n",
       "    Min       1Q   Median       3Q      Max  \n",
       "-1.4356  -0.8018  -0.6726   1.1940   2.2434  \n",
       "\n",
       "Coefficients:\n",
       "                               Estimate Std. Error z value Pr(>|z|)    \n",
       "(Intercept)                   6.195e-01  2.391e+00   0.259 0.795540    \n",
       "is_february                   2.617e-02  4.216e-02   0.621 0.534795    \n",
       "is_november                   5.178e-02  4.326e-02   1.197 0.231361    \n",
       "d_ability_1                   6.660e-04  1.336e+00   0.000 0.999602    \n",
       "d_ability_3                   7.093e+00  4.053e+00   1.750 0.080133 .  \n",
       "d_ability_4                  -7.233e+00  3.735e+00  -1.937 0.052771 .  \n",
       "d_form_4                     -8.911e-02  1.478e-01  -0.603 0.546655    \n",
       "d_h2h_2                       1.084e-01  6.581e-02   1.648 0.099424 .  \n",
       "team_1_nameAston Villa        7.613e-02  3.871e-01   0.197 0.844087    \n",
       "team_1_nameBirmingham         4.331e-02  4.695e-01   0.092 0.926507    \n",
       "team_1_nameBlackburn         -1.743e-01  4.060e-01  -0.429 0.667770    \n",
       "team_1_nameBlackpool          3.461e-01  8.800e-01   0.393 0.694133    \n",
       "team_1_nameBolton            -1.674e-01  4.157e-01  -0.403 0.687194    \n",
       "team_1_nameBournemouth        3.089e-01  7.629e-01   0.405 0.685508    \n",
       "team_1_nameBurnley            2.737e-02  7.967e-01   0.034 0.972595    \n",
       "team_1_nameCardiff           -1.884e-02  8.508e-01  -0.022 0.982334    \n",
       "team_1_nameCharlton          -5.382e-01  5.183e-01  -1.038 0.299125    \n",
       "team_1_nameChelsea            5.187e-01  2.822e-01   1.838 0.066082 .  \n",
       "team_1_nameCrystal Palace    -9.585e-01  5.929e-01  -1.616 0.105997    \n",
       "team_1_nameEverton           -2.153e-01  3.686e-01  -0.584 0.559166    \n",
       "team_1_nameFulham            -9.527e-01  4.382e-01  -2.174 0.029703 *  \n",
       "team_1_nameHull City         -2.528e-01  5.611e-01  -0.451 0.652276    \n",
       "team_1_nameLeicester          6.102e-01  6.159e-01   0.991 0.321794    \n",
       "team_1_nameLiverpool          2.752e-01  2.783e-01   0.989 0.322778    \n",
       "team_1_nameManchester City   -7.533e-01  3.760e-01  -2.004 0.045120 *  \n",
       "team_1_nameManchester United -4.663e-01  2.939e-01  -1.587 0.112599    \n",
       "team_1_nameMiddlesbrough     -1.272e-01  4.230e-01  -0.301 0.763689    \n",
       "team_1_nameNewcastle Utd     -5.044e-02  3.903e-01  -0.129 0.897176    \n",
       "team_1_nameNorwich           -2.821e-01  5.844e-01  -0.483 0.629309    \n",
       "team_1_namePortsmouth        -2.932e-02  4.252e-01  -0.069 0.945035    \n",
       "team_1_nameQPR                2.661e-01  6.761e-01   0.394 0.693873    \n",
       "team_1_nameReading           -7.015e-01  5.447e-01  -1.288 0.197766    \n",
       "team_1_nameSheffield Utd      5.998e-01  8.426e-01   0.712 0.476554    \n",
       "team_1_nameSouthampton        4.809e-01  4.840e-01   0.994 0.320436    \n",
       "team_1_nameStoke City        -9.595e-02  4.339e-01  -0.221 0.824986    \n",
       "team_1_nameSunderland        -2.279e-01  4.555e-01  -0.500 0.616922    \n",
       "team_1_nameSwansea            3.697e-01  5.194e-01   0.712 0.476602    \n",
       "team_1_nameTottenham         -1.047e-01  3.240e-01  -0.323 0.746630    \n",
       "team_1_nameWatford            4.009e-01  6.531e-01   0.614 0.539337    \n",
       "team_1_nameWest Brom         -5.290e-01  4.813e-01  -1.099 0.271742    \n",
       "team_1_nameWest Ham          -3.290e-01  4.123e-01  -0.798 0.424861    \n",
       "team_1_nameWigan             -2.745e-01  4.504e-01  -0.609 0.542273    \n",
       "team_1_nameWolves            -8.586e-01  5.977e-01  -1.436 0.150869    \n",
       "team_2_nameAston Villa        8.429e-02  3.903e-01   0.216 0.829006    \n",
       "team_2_nameBirmingham         2.152e-01  4.922e-01   0.437 0.661982    \n",
       "team_2_nameBlackburn          6.794e-02  3.902e-01   0.174 0.861778    \n",
       "team_2_nameBlackpool         -3.379e-01  8.495e-01  -0.398 0.690827    \n",
       "team_2_nameBolton            -3.482e-01  4.031e-01  -0.864 0.387670    \n",
       "team_2_nameBournemouth       -7.242e-02  7.958e-01  -0.091 0.927486    \n",
       "team_2_nameBurnley           -5.143e-01  8.145e-01  -0.631 0.527777    \n",
       "team_2_nameCardiff           -2.426e-01  9.953e-01  -0.244 0.807438    \n",
       "team_2_nameCharlton           4.099e-02  5.364e-01   0.076 0.939098    \n",
       "team_2_nameChelsea           -3.374e-01  2.764e-01  -1.221 0.222109    \n",
       "team_2_nameCrystal Palace     4.993e-01  5.919e-01   0.844 0.398929    \n",
       "team_2_nameEverton            8.203e-01  3.484e-01   2.354 0.018564 *  \n",
       "team_2_nameFulham             6.403e-01  4.404e-01   1.454 0.146029    \n",
       "team_2_nameHull City          2.559e-01  5.934e-01   0.431 0.666360    \n",
       "team_2_nameLeeds             -1.121e+01  1.970e+02  -0.057 0.954597    \n",
       "team_2_nameLeicester         -8.160e-01  6.699e-01  -1.218 0.223229    \n",
       "team_2_nameLiverpool         -1.013e-01  2.592e-01  -0.391 0.695777    \n",
       "team_2_nameManchester City    1.132e-01  3.414e-01   0.331 0.740308    \n",
       "team_2_nameManchester United  6.785e-02  2.634e-01   0.258 0.796748    \n",
       "team_2_nameMiddlesbrough      6.047e-01  4.163e-01   1.453 0.146314    \n",
       "team_2_nameNewcastle Utd     -1.344e-01  3.761e-01  -0.357 0.720859    \n",
       "team_2_nameNorwich            2.842e-01  5.906e-01   0.481 0.630351    \n",
       "team_2_namePortsmouth        -5.160e-01  4.432e-01  -1.164 0.244371    \n",
       "team_2_nameQPR               -1.138e+00  7.310e-01  -1.556 0.119629    \n",
       "team_2_nameReading           -1.002e-02  6.026e-01  -0.017 0.986737    \n",
       "team_2_nameSheffield Utd     -2.145e+00  1.157e+00  -1.855 0.063649 .  \n",
       "team_2_nameSouthampton       -2.331e-01  4.954e-01  -0.471 0.637992    \n",
       "team_2_nameStoke City         4.354e-01  4.472e-01   0.974 0.330236    \n",
       "team_2_nameSunderland         1.353e-01  4.977e-01   0.272 0.785799    \n",
       "team_2_nameSwansea           -6.252e-01  5.204e-01  -1.201 0.229617    \n",
       "team_2_nameTottenham          1.368e-01  2.994e-01   0.457 0.647772    \n",
       "team_2_nameWatford           -8.399e-01  7.585e-01  -1.107 0.268186    \n",
       "team_2_nameWest Brom          6.730e-01  5.014e-01   1.342 0.179488    \n",
       "team_2_nameWest Ham           2.341e-01  4.177e-01   0.560 0.575199    \n",
       "team_2_nameWigan             -3.401e-01  4.890e-01  -0.696 0.486704    \n",
       "team_2_nameWolves             5.788e-02  6.541e-01   0.088 0.929486    \n",
       "team_1_match_count            3.687e-04  1.121e-03   0.329 0.742219    \n",
       "team_1_opponent_last_score   -3.666e-02  4.473e-02  -0.820 0.412471    \n",
       "team_1_opponent_score_ema_10  1.125e-01  2.849e-01   0.395 0.692821    \n",
       "team_1_opponent_score_ma_10   4.427e-03  2.397e-01   0.018 0.985267    \n",
       "team_1_team_last_score        3.093e-03  4.834e-02   0.064 0.948984    \n",
       "team_1_team_score_ema_10     -2.324e-01  2.859e-01  -0.813 0.416371    \n",
       "team_1_team_score_ma_10       9.101e-02  2.448e-01   0.372 0.710081    \n",
       "team_1_team_win_index         9.501e-01  5.998e-01   1.584 0.113191    \n",
       "team_1_team_loss_index        6.376e-01  7.786e-01   0.819 0.412832    \n",
       "team_1_tie_index             -7.919e-01  5.764e-01  -1.374 0.169504    \n",
       "team_2_match_count           -9.472e-05  1.075e-03  -0.088 0.929801    \n",
       "team_2_opponent_last_score   -3.795e-02  4.808e-02  -0.789 0.430024    \n",
       "team_2_opponent_score_ema_10  1.089e-01  2.801e-01   0.389 0.697318    \n",
       "team_2_opponent_score_ma_10   1.237e-02  2.412e-01   0.051 0.959083    \n",
       "team_2_team_last_score       -3.248e-02  4.482e-02  -0.725 0.468611    \n",
       "team_2_team_score_ema_10      6.791e-01  2.808e-01   2.419 0.015583 *  \n",
       "team_2_team_score_ma_10      -3.959e-01  2.420e-01  -1.636 0.101934    \n",
       "team_2_team_win_index        -2.790e-01  6.737e-01  -0.414 0.678822    \n",
       "team_2_team_loss_index       -6.151e-01  7.218e-01  -0.852 0.394133    \n",
       "team_2_tie_index             -1.913e+00  5.704e-01  -3.354 0.000797 ***\n",
       "x_year                       -1.450e-01  7.519e-02  -1.928 0.053878 .  \n",
       "y_year                       -1.103e-01  5.861e-02  -1.881 0.059915 .  \n",
       "x_week                       -1.028e-01  9.696e-02  -1.060 0.289233    \n",
       "y_week                        5.152e-02  6.771e-02   0.761 0.446690    \n",
       "x_day                         1.228e-01  6.455e-02   1.902 0.057195 .  \n",
       "y_day                         1.878e-02  1.172e-01   0.160 0.872725    \n",
       "---\n",
       "Signif. codes:  0 '***' 0.001 '**' 0.01 '*' 0.05 '.' 0.1 ' ' 1\n",
       "\n",
       "(Dispersion parameter for binomial family taken to be 1)\n",
       "\n",
       "    Null deviance: 3983.4  on 3509  degrees of freedom\n",
       "Residual deviance: 3837.7  on 3405  degrees of freedom\n",
       "AIC: 4047.7\n",
       "\n",
       "Number of Fisher Scoring iterations: 10\n"
      ]
     },
     "metadata": {},
     "output_type": "display_data"
    }
   ],
   "source": [
    "fit.log_tie %>% summary"
   ]
  },
  {
   "cell_type": "code",
   "execution_count": 336,
   "metadata": {},
   "outputs": [],
   "source": [
    "pred_tie_log <- predict(fit.log_tie, newdata = test, type=\"response\")\n",
    "pred_team_1_log <- predict(fit.log_team_1, newdata = test, type=\"response\")\n",
    "pred_team_2_log <- predict(fit.log_team_2, newdata = test, type=\"response\")"
   ]
  },
  {
   "cell_type": "code",
   "execution_count": 337,
   "metadata": {},
   "outputs": [],
   "source": [
    "test$pred_tie_log <- pred_tie_log\n",
    "test$pred_team_1_log <- pred_team_1_log\n",
    "test$pred_team_2_log <- pred_team_2_log"
   ]
  },
  {
   "cell_type": "code",
   "execution_count": 338,
   "metadata": {},
   "outputs": [
    {
     "data": {
      "text/plain": [
       "\n",
       "Call:\n",
       "roc.default(response = test$team_tie, predictor = test$pred_tie_log)\n",
       "\n",
       "Data: test$pred_tie_log in 654 controls (test$team_tie 0) < 223 cases (test$team_tie 1).\n",
       "Area under the curve: 0.5682"
      ]
     },
     "metadata": {},
     "output_type": "display_data"
    }
   ],
   "source": [
    "pROC::roc(response = test$team_tie, predictor = test$pred_tie_log)"
   ]
  },
  {
   "cell_type": "code",
   "execution_count": 339,
   "metadata": {},
   "outputs": [
    {
     "data": {
      "text/plain": [
       "\n",
       "Call:\n",
       "roc.default(response = test$team_1_win, predictor = test$pred_team_1_log)\n",
       "\n",
       "Data: test$pred_team_1_log in 468 controls (test$team_1_win 0) < 409 cases (test$team_1_win 1).\n",
       "Area under the curve: 0.7056"
      ]
     },
     "metadata": {},
     "output_type": "display_data"
    }
   ],
   "source": [
    "pROC::roc(response = test$team_1_win, predictor = test$pred_team_1_log)"
   ]
  },
  {
   "cell_type": "code",
   "execution_count": 340,
   "metadata": {},
   "outputs": [
    {
     "data": {
      "text/plain": [
       "\n",
       "Call:\n",
       "roc.default(response = test$team_2_win, predictor = test$pred_team_2_log)\n",
       "\n",
       "Data: test$pred_team_2_log in 632 controls (test$team_2_win 0) < 245 cases (test$team_2_win 1).\n",
       "Area under the curve: 0.718"
      ]
     },
     "metadata": {},
     "output_type": "display_data"
    }
   ],
   "source": [
    "pROC::roc(response = test$team_2_win, predictor = test$pred_team_2_log)"
   ]
  },
  {
   "cell_type": "markdown",
   "metadata": {},
   "source": [
    "## Non Linear Models"
   ]
  },
  {
   "cell_type": "markdown",
   "metadata": {},
   "source": [
    "### D Tree (excl. team name factors)"
   ]
  },
  {
   "cell_type": "code",
   "execution_count": 341,
   "metadata": {},
   "outputs": [],
   "source": [
    "train <- df_model[index,]\n",
    "test <- df_model[-index,]\n",
    "\n",
    "fit.tree <- train %>%\n",
    "                select(-team_1_name, -team_2_name) %>% # rpart isn't very efficient with 'large' factors\n",
    "                rpart(formula = result ~ .\n",
    "                      , parms =  list(split = \"information\")\n",
    "                      , control = rpart.control(\n",
    "                                minsplit = 20\n",
    "                              , cp = 0.001\n",
    "                              #, maxcompete = 4\n",
    "                              #, maxsurrogate = 5\n",
    "                              #, usesurrogate = 2\n",
    "                              #, xval = 10\n",
    "                              #, surrogatestyle = 0\n",
    "                              #, maxdepth = 30\n",
    "                      )\n",
    "                     )"
   ]
  },
  {
   "cell_type": "code",
   "execution_count": 342,
   "metadata": {},
   "outputs": [],
   "source": [
    "#fit.tree %>% summary"
   ]
  },
  {
   "cell_type": "code",
   "execution_count": 343,
   "metadata": {},
   "outputs": [],
   "source": [
    "#rpart.plot(fit.tree)"
   ]
  },
  {
   "cell_type": "code",
   "execution_count": 344,
   "metadata": {},
   "outputs": [],
   "source": [
    "preds <- predict(fit.tree, newdata = test, type=\"prob\") %>% as.data.frame"
   ]
  },
  {
   "cell_type": "code",
   "execution_count": 345,
   "metadata": {
    "collapsed": true
   },
   "outputs": [],
   "source": [
    "test$team_tie <- as.numeric(test$result == 'tie')\n",
    "test$team_1_win <- as.numeric(test$result == 'team_1_win')\n",
    "test$team_2_win <- as.numeric(test$result == 'team_2_win')\n",
    "\n",
    "test$team_tie_prob_dtree <- (preds %>% as.data.frame)$tie\n",
    "test$team_1_prob_dtree <- (preds %>% as.data.frame)$team_1_win\n",
    "test$team_2_prob_dtree <- (preds %>% as.data.frame)$team_2_win"
   ]
  },
  {
   "cell_type": "code",
   "execution_count": 346,
   "metadata": {},
   "outputs": [
    {
     "data": {
      "text/plain": [
       "\n",
       "Call:\n",
       "roc.default(response = test$team_tie, predictor = test$team_tie_prob_dtree)\n",
       "\n",
       "Data: test$team_tie_prob_dtree in 654 controls (test$team_tie 0) < 223 cases (test$team_tie 1).\n",
       "Area under the curve: 0.5607"
      ]
     },
     "metadata": {},
     "output_type": "display_data"
    }
   ],
   "source": [
    "pROC::roc(response = test$team_tie, predictor = test$team_tie_prob_dtree)"
   ]
  },
  {
   "cell_type": "code",
   "execution_count": 347,
   "metadata": {},
   "outputs": [
    {
     "data": {
      "text/plain": [
       "\n",
       "Call:\n",
       "roc.default(response = test$team_1_win, predictor = test$team_1_prob_dtree)\n",
       "\n",
       "Data: test$team_1_prob_dtree in 468 controls (test$team_1_win 0) < 409 cases (test$team_1_win 1).\n",
       "Area under the curve: 0.6434"
      ]
     },
     "metadata": {},
     "output_type": "display_data"
    }
   ],
   "source": [
    "pROC::roc(response = test$team_1_win, predictor = test$team_1_prob_dtree)"
   ]
  },
  {
   "cell_type": "code",
   "execution_count": 348,
   "metadata": {
    "scrolled": true
   },
   "outputs": [
    {
     "data": {
      "text/plain": [
       "\n",
       "Call:\n",
       "roc.default(response = test$team_2_win, predictor = test$team_2_prob_dtree)\n",
       "\n",
       "Data: test$team_2_prob_dtree in 632 controls (test$team_2_win 0) < 245 cases (test$team_2_win 1).\n",
       "Area under the curve: 0.6061"
      ]
     },
     "metadata": {},
     "output_type": "display_data"
    }
   ],
   "source": [
    "pROC::roc(response = test$team_2_win, predictor = test$team_2_prob_dtree)"
   ]
  },
  {
   "cell_type": "markdown",
   "metadata": {},
   "source": [
    "### Random Forest"
   ]
  },
  {
   "cell_type": "code",
   "execution_count": 349,
   "metadata": {},
   "outputs": [],
   "source": [
    "# train <- df_model[index,]\n",
    "# test <- df_model[-index,]\n",
    "\n",
    "# fit.forest <- train %>%\n",
    "#                 select(-team_1_name, -team_2_name) %>% # rpart isn't very efficient with 'large' factors\n",
    "#                 randomForest(formula = result ~ .\n",
    "#                      )"
   ]
  },
  {
   "cell_type": "code",
   "execution_count": 350,
   "metadata": {},
   "outputs": [],
   "source": [
    "# fit.forest %>% summary"
   ]
  },
  {
   "cell_type": "markdown",
   "metadata": {},
   "source": [
    "### Xgboost"
   ]
  },
  {
   "cell_type": "code",
   "execution_count": 351,
   "metadata": {},
   "outputs": [],
   "source": [
    "sparse_matrix <- sparse.model.matrix(result ~ .-1, data = df_model)\n",
    "\n",
    "sparse_matrix_train <- sparse_matrix[as.vector(index), ,]\n",
    "sparse_matrix_test <- sparse_matrix[-as.vector(index), ,]"
   ]
  },
  {
   "cell_type": "code",
   "execution_count": 352,
   "metadata": {
    "collapsed": true
   },
   "outputs": [],
   "source": [
    "label <- as.numeric(df_model$result)-1"
   ]
  },
  {
   "cell_type": "code",
   "execution_count": 353,
   "metadata": {},
   "outputs": [
    {
     "data": {
      "text/html": [
       "<ol class=list-inline>\n",
       "\t<li>tie</li>\n",
       "\t<li>tie</li>\n",
       "\t<li>team_2_win</li>\n",
       "\t<li>team_1_win</li>\n",
       "\t<li>team_1_win</li>\n",
       "\t<li>tie</li>\n",
       "\t<li>team_1_win</li>\n",
       "\t<li>team_1_win</li>\n",
       "\t<li>team_1_win</li>\n",
       "\t<li>team_1_win</li>\n",
       "\t<li>team_2_win</li>\n",
       "\t<li>team_1_win</li>\n",
       "\t<li>team_1_win</li>\n",
       "\t<li>team_1_win</li>\n",
       "\t<li>tie</li>\n",
       "</ol>\n"
      ],
      "text/latex": [
       "\\begin{enumerate*}\n",
       "\\item tie\n",
       "\\item tie\n",
       "\\item team\\_2\\_win\n",
       "\\item team\\_1\\_win\n",
       "\\item team\\_1\\_win\n",
       "\\item tie\n",
       "\\item team\\_1\\_win\n",
       "\\item team\\_1\\_win\n",
       "\\item team\\_1\\_win\n",
       "\\item team\\_1\\_win\n",
       "\\item team\\_2\\_win\n",
       "\\item team\\_1\\_win\n",
       "\\item team\\_1\\_win\n",
       "\\item team\\_1\\_win\n",
       "\\item tie\n",
       "\\end{enumerate*}\n"
      ],
      "text/markdown": [
       "1. tie\n",
       "2. tie\n",
       "3. team_2_win\n",
       "4. team_1_win\n",
       "5. team_1_win\n",
       "6. tie\n",
       "7. team_1_win\n",
       "8. team_1_win\n",
       "9. team_1_win\n",
       "10. team_1_win\n",
       "11. team_2_win\n",
       "12. team_1_win\n",
       "13. team_1_win\n",
       "14. team_1_win\n",
       "15. tie\n",
       "\n",
       "\n"
      ],
      "text/plain": [
       " [1] tie        tie        team_2_win team_1_win team_1_win tie       \n",
       " [7] team_1_win team_1_win team_1_win team_1_win team_2_win team_1_win\n",
       "[13] team_1_win team_1_win tie       \n",
       "Levels: team_1_win team_2_win tie"
      ]
     },
     "metadata": {},
     "output_type": "display_data"
    }
   ],
   "source": [
    "df_model$result[1:15]"
   ]
  },
  {
   "cell_type": "code",
   "execution_count": 354,
   "metadata": {},
   "outputs": [
    {
     "data": {
      "text/html": [
       "<ol class=list-inline>\n",
       "\t<li>2</li>\n",
       "\t<li>2</li>\n",
       "\t<li>1</li>\n",
       "\t<li>0</li>\n",
       "\t<li>0</li>\n",
       "\t<li>2</li>\n",
       "\t<li>0</li>\n",
       "\t<li>0</li>\n",
       "\t<li>0</li>\n",
       "\t<li>0</li>\n",
       "\t<li>1</li>\n",
       "\t<li>0</li>\n",
       "\t<li>0</li>\n",
       "\t<li>0</li>\n",
       "\t<li>2</li>\n",
       "</ol>\n"
      ],
      "text/latex": [
       "\\begin{enumerate*}\n",
       "\\item 2\n",
       "\\item 2\n",
       "\\item 1\n",
       "\\item 0\n",
       "\\item 0\n",
       "\\item 2\n",
       "\\item 0\n",
       "\\item 0\n",
       "\\item 0\n",
       "\\item 0\n",
       "\\item 1\n",
       "\\item 0\n",
       "\\item 0\n",
       "\\item 0\n",
       "\\item 2\n",
       "\\end{enumerate*}\n"
      ],
      "text/markdown": [
       "1. 2\n",
       "2. 2\n",
       "3. 1\n",
       "4. 0\n",
       "5. 0\n",
       "6. 2\n",
       "7. 0\n",
       "8. 0\n",
       "9. 0\n",
       "10. 0\n",
       "11. 1\n",
       "12. 0\n",
       "13. 0\n",
       "14. 0\n",
       "15. 2\n",
       "\n",
       "\n"
      ],
      "text/plain": [
       " [1] 2 2 1 0 0 2 0 0 0 0 1 0 0 0 2"
      ]
     },
     "metadata": {},
     "output_type": "display_data"
    }
   ],
   "source": [
    "label[1:15]"
   ]
  },
  {
   "cell_type": "code",
   "execution_count": 355,
   "metadata": {
    "collapsed": true
   },
   "outputs": [],
   "source": [
    "train_label <- label[index]\n",
    "test_label <- label[-index]"
   ]
  },
  {
   "cell_type": "code",
   "execution_count": 356,
   "metadata": {},
   "outputs": [
    {
     "name": "stdout",
     "output_type": "stream",
     "text": [
      "[1]\ttrain-mlogloss:1.054484 \n",
      "[2]\ttrain-mlogloss:1.014985 \n",
      "[3]\ttrain-mlogloss:0.974090 \n",
      "[4]\ttrain-mlogloss:0.936342 \n",
      "[5]\ttrain-mlogloss:0.905022 \n",
      "[6]\ttrain-mlogloss:0.874824 \n",
      "[7]\ttrain-mlogloss:0.846290 \n",
      "[8]\ttrain-mlogloss:0.816756 \n",
      "[9]\ttrain-mlogloss:0.788367 \n",
      "[10]\ttrain-mlogloss:0.762583 \n",
      "[11]\ttrain-mlogloss:0.739644 \n",
      "[12]\ttrain-mlogloss:0.715316 \n",
      "[13]\ttrain-mlogloss:0.694908 \n",
      "[14]\ttrain-mlogloss:0.673172 \n",
      "[15]\ttrain-mlogloss:0.651578 \n",
      "[16]\ttrain-mlogloss:0.631341 \n",
      "[17]\ttrain-mlogloss:0.613895 \n",
      "[18]\ttrain-mlogloss:0.595569 \n",
      "[19]\ttrain-mlogloss:0.576375 \n",
      "[20]\ttrain-mlogloss:0.558628 \n",
      "[21]\ttrain-mlogloss:0.543467 \n",
      "[22]\ttrain-mlogloss:0.530412 \n",
      "[23]\ttrain-mlogloss:0.514335 \n",
      "[24]\ttrain-mlogloss:0.500144 \n",
      "[25]\ttrain-mlogloss:0.487722 \n",
      "[26]\ttrain-mlogloss:0.478307 \n",
      "[27]\ttrain-mlogloss:0.465854 \n",
      "[28]\ttrain-mlogloss:0.455731 \n",
      "[29]\ttrain-mlogloss:0.443521 \n",
      "[30]\ttrain-mlogloss:0.434945 \n",
      "[31]\ttrain-mlogloss:0.428245 \n",
      "[32]\ttrain-mlogloss:0.417627 \n",
      "[33]\ttrain-mlogloss:0.409425 \n",
      "[34]\ttrain-mlogloss:0.401108 \n",
      "[35]\ttrain-mlogloss:0.391685 \n",
      "[36]\ttrain-mlogloss:0.384155 \n",
      "[37]\ttrain-mlogloss:0.375133 \n",
      "[38]\ttrain-mlogloss:0.366629 \n",
      "[39]\ttrain-mlogloss:0.361726 \n",
      "[40]\ttrain-mlogloss:0.354411 \n",
      "[41]\ttrain-mlogloss:0.346903 \n",
      "[42]\ttrain-mlogloss:0.339192 \n",
      "[43]\ttrain-mlogloss:0.332561 \n",
      "[44]\ttrain-mlogloss:0.325249 \n",
      "[45]\ttrain-mlogloss:0.319214 \n",
      "[46]\ttrain-mlogloss:0.312846 \n",
      "[47]\ttrain-mlogloss:0.307368 \n",
      "[48]\ttrain-mlogloss:0.301800 \n",
      "[49]\ttrain-mlogloss:0.296091 \n",
      "[50]\ttrain-mlogloss:0.289959 \n",
      "[51]\ttrain-mlogloss:0.285254 \n",
      "[52]\ttrain-mlogloss:0.279497 \n",
      "[53]\ttrain-mlogloss:0.274167 \n",
      "[54]\ttrain-mlogloss:0.268582 \n",
      "[55]\ttrain-mlogloss:0.263121 \n",
      "[56]\ttrain-mlogloss:0.258362 \n",
      "[57]\ttrain-mlogloss:0.254069 \n",
      "[58]\ttrain-mlogloss:0.249404 \n",
      "[59]\ttrain-mlogloss:0.244255 \n",
      "[60]\ttrain-mlogloss:0.239299 \n",
      "[61]\ttrain-mlogloss:0.234506 \n",
      "[62]\ttrain-mlogloss:0.230638 \n",
      "[63]\ttrain-mlogloss:0.226625 \n",
      "[64]\ttrain-mlogloss:0.222293 \n",
      "[65]\ttrain-mlogloss:0.217724 \n",
      "[66]\ttrain-mlogloss:0.213621 \n",
      "[67]\ttrain-mlogloss:0.210010 \n",
      "[68]\ttrain-mlogloss:0.206016 \n",
      "[69]\ttrain-mlogloss:0.202158 \n",
      "[70]\ttrain-mlogloss:0.198410 \n",
      "[71]\ttrain-mlogloss:0.195334 \n",
      "[72]\ttrain-mlogloss:0.192652 \n",
      "[73]\ttrain-mlogloss:0.189332 \n",
      "[74]\ttrain-mlogloss:0.185657 \n",
      "[75]\ttrain-mlogloss:0.183083 \n",
      "[76]\ttrain-mlogloss:0.179862 \n",
      "[77]\ttrain-mlogloss:0.176570 \n",
      "[78]\ttrain-mlogloss:0.173705 \n",
      "[79]\ttrain-mlogloss:0.170756 \n",
      "[80]\ttrain-mlogloss:0.168017 \n",
      "[81]\ttrain-mlogloss:0.165145 \n",
      "[82]\ttrain-mlogloss:0.162278 \n",
      "[83]\ttrain-mlogloss:0.160002 \n",
      "[84]\ttrain-mlogloss:0.157504 \n",
      "[85]\ttrain-mlogloss:0.154848 \n",
      "[86]\ttrain-mlogloss:0.152376 \n",
      "[87]\ttrain-mlogloss:0.150042 \n",
      "[88]\ttrain-mlogloss:0.147304 \n",
      "[89]\ttrain-mlogloss:0.145176 \n",
      "[90]\ttrain-mlogloss:0.143093 \n",
      "[91]\ttrain-mlogloss:0.141439 \n",
      "[92]\ttrain-mlogloss:0.139413 \n",
      "[93]\ttrain-mlogloss:0.137425 \n",
      "[94]\ttrain-mlogloss:0.135168 \n",
      "[95]\ttrain-mlogloss:0.133058 \n",
      "[96]\ttrain-mlogloss:0.131575 \n",
      "[97]\ttrain-mlogloss:0.129631 \n",
      "[98]\ttrain-mlogloss:0.128142 \n",
      "[99]\ttrain-mlogloss:0.126572 \n",
      "[100]\ttrain-mlogloss:0.124649 \n"
     ]
    }
   ],
   "source": [
    "xgb <- xgboost(data = data.matrix(sparse_matrix_train), label = train_label,\n",
    "            booster = 'gbtree',\n",
    "             eta = 0.1,\n",
    "             gamma = 0.01,\n",
    "             max_depth = 13, \n",
    "             subsample = 0.5,\n",
    "             colsample_bytree = 0.5,\n",
    "             seed = 1,\n",
    "             eval_metric = \"mlogloss\",\n",
    "             #num_parallel_tree,\n",
    "             num_class = 3,\n",
    "             nthread = 8,\n",
    "             nround=100,\n",
    "             #feval\n",
    "              objective = \"multi:softprob\")"
   ]
  },
  {
   "cell_type": "code",
   "execution_count": 357,
   "metadata": {
    "collapsed": true
   },
   "outputs": [],
   "source": [
    "pred <- predict(xgb, data.matrix(sparse_matrix_test), type=\"probs\")"
   ]
  },
  {
   "cell_type": "code",
   "execution_count": 358,
   "metadata": {},
   "outputs": [],
   "source": [
    "pred_team_tie <- pred[seq(3,length(pred)+2,3)]\n",
    "pred_team_1 <- pred[seq(1,length(pred),3)]\n",
    "pred_team_2 <- pred[seq(2,length(pred)+1,3)]"
   ]
  },
  {
   "cell_type": "code",
   "execution_count": 359,
   "metadata": {
    "collapsed": true
   },
   "outputs": [],
   "source": [
    "test$team_tie <- as.numeric(test$result == 'tie')\n",
    "test$team_1_win <- as.numeric(test$result == 'team_1_win')\n",
    "test$team_2_win <- as.numeric(test$result == 'team_2_win')\n",
    "\n",
    "test$team_tie_prob_xgb_tree <- pred_team_tie\n",
    "test$team_1_prob_xgb_tree <- pred_team_1\n",
    "test$team_2_prob_xgb_tree <- pred_team_2"
   ]
  },
  {
   "cell_type": "code",
   "execution_count": 360,
   "metadata": {},
   "outputs": [
    {
     "data": {
      "text/plain": [
       "\n",
       "Call:\n",
       "roc.default(response = test$team_tie, predictor = test$team_tie_prob_xgb_tree)\n",
       "\n",
       "Data: test$team_tie_prob_xgb_tree in 654 controls (test$team_tie 0) < 223 cases (test$team_tie 1).\n",
       "Area under the curve: 0.5803"
      ]
     },
     "metadata": {},
     "output_type": "display_data"
    }
   ],
   "source": [
    "pROC::roc(response = test$team_tie, predictor = test$team_tie_prob_xgb_tree)"
   ]
  },
  {
   "cell_type": "code",
   "execution_count": 361,
   "metadata": {},
   "outputs": [
    {
     "data": {
      "text/plain": [
       "\n",
       "Call:\n",
       "roc.default(response = test$team_1_win, predictor = test$team_1_prob_xgb_tree)\n",
       "\n",
       "Data: test$team_1_prob_xgb_tree in 468 controls (test$team_1_win 0) < 409 cases (test$team_1_win 1).\n",
       "Area under the curve: 0.677"
      ]
     },
     "metadata": {},
     "output_type": "display_data"
    }
   ],
   "source": [
    "pROC::roc(response = test$team_1_win, predictor = test$team_1_prob_xgb_tree)"
   ]
  },
  {
   "cell_type": "code",
   "execution_count": 362,
   "metadata": {
    "scrolled": true
   },
   "outputs": [
    {
     "data": {
      "text/plain": [
       "\n",
       "Call:\n",
       "roc.default(response = test$team_2_win, predictor = test$team_2_prob_xgb_tree)\n",
       "\n",
       "Data: test$team_2_prob_xgb_tree in 632 controls (test$team_2_win 0) < 245 cases (test$team_2_win 1).\n",
       "Area under the curve: 0.706"
      ]
     },
     "metadata": {},
     "output_type": "display_data"
    }
   ],
   "source": [
    "pROC::roc(response = test$team_2_win, predictor = test$team_2_prob_xgb_tree)"
   ]
  },
  {
   "cell_type": "markdown",
   "metadata": {},
   "source": [
    "### Results are within the norm. Try Linear booster"
   ]
  },
  {
   "cell_type": "code",
   "execution_count": 363,
   "metadata": {},
   "outputs": [
    {
     "name": "stdout",
     "output_type": "stream",
     "text": [
      "[1]\ttrain-mlogloss:0.962955 \n",
      "[2]\ttrain-mlogloss:0.950577 \n",
      "[3]\ttrain-mlogloss:0.947382 \n",
      "[4]\ttrain-mlogloss:0.946421 \n",
      "[5]\ttrain-mlogloss:0.945864 \n",
      "[6]\ttrain-mlogloss:0.945456 \n",
      "[7]\ttrain-mlogloss:0.945121 \n",
      "[8]\ttrain-mlogloss:0.944846 \n",
      "[9]\ttrain-mlogloss:0.944583 \n",
      "[10]\ttrain-mlogloss:0.944343 \n",
      "[11]\ttrain-mlogloss:0.944100 \n",
      "[12]\ttrain-mlogloss:0.943889 \n",
      "[13]\ttrain-mlogloss:0.943709 \n",
      "[14]\ttrain-mlogloss:0.943530 \n",
      "[15]\ttrain-mlogloss:0.943361 \n",
      "[16]\ttrain-mlogloss:0.943201 \n",
      "[17]\ttrain-mlogloss:0.943059 \n",
      "[18]\ttrain-mlogloss:0.942911 \n",
      "[19]\ttrain-mlogloss:0.942765 \n",
      "[20]\ttrain-mlogloss:0.942621 \n",
      "[21]\ttrain-mlogloss:0.942491 \n",
      "[22]\ttrain-mlogloss:0.942367 \n",
      "[23]\ttrain-mlogloss:0.942230 \n",
      "[24]\ttrain-mlogloss:0.942098 \n",
      "[25]\ttrain-mlogloss:0.941997 \n",
      "[26]\ttrain-mlogloss:0.941871 \n",
      "[27]\ttrain-mlogloss:0.941754 \n",
      "[28]\ttrain-mlogloss:0.941631 \n",
      "[29]\ttrain-mlogloss:0.941514 \n",
      "[30]\ttrain-mlogloss:0.941403 \n",
      "[31]\ttrain-mlogloss:0.941294 \n",
      "[32]\ttrain-mlogloss:0.941195 \n",
      "[33]\ttrain-mlogloss:0.941092 \n",
      "[34]\ttrain-mlogloss:0.940990 \n",
      "[35]\ttrain-mlogloss:0.940891 \n",
      "[36]\ttrain-mlogloss:0.940814 \n",
      "[37]\ttrain-mlogloss:0.940725 \n",
      "[38]\ttrain-mlogloss:0.940644 \n",
      "[39]\ttrain-mlogloss:0.940551 \n",
      "[40]\ttrain-mlogloss:0.940477 \n",
      "[41]\ttrain-mlogloss:0.940400 \n",
      "[42]\ttrain-mlogloss:0.940311 \n",
      "[43]\ttrain-mlogloss:0.940228 \n",
      "[44]\ttrain-mlogloss:0.940139 \n",
      "[45]\ttrain-mlogloss:0.940056 \n",
      "[46]\ttrain-mlogloss:0.939981 \n",
      "[47]\ttrain-mlogloss:0.939886 \n",
      "[48]\ttrain-mlogloss:0.939813 \n",
      "[49]\ttrain-mlogloss:0.939736 \n",
      "[50]\ttrain-mlogloss:0.939661 \n"
     ]
    }
   ],
   "source": [
    "xgb_lin <- xgboost(data = data.matrix(sparse_matrix_train), label = train_label,\n",
    "            booster = 'gblinear',\n",
    "            lambda = 0.1,\n",
    "            lambda_bias = 0.1,\n",
    "            alpha = 0.1,\n",
    "             seed = 1,\n",
    "             eval_metric = \"mlogloss\",\n",
    "             #num_parallel_tree,\n",
    "             num_class = 3,\n",
    "             nthread = 8,\n",
    "             nround=50,\n",
    "             #feval\n",
    "              objective = \"multi:softprob\")"
   ]
  },
  {
   "cell_type": "code",
   "execution_count": 364,
   "metadata": {
    "collapsed": true
   },
   "outputs": [],
   "source": [
    "pred_lin <- predict(xgb_lin, data.matrix(sparse_matrix_test), type=\"probs\")"
   ]
  },
  {
   "cell_type": "code",
   "execution_count": 365,
   "metadata": {
    "collapsed": true
   },
   "outputs": [],
   "source": [
    "pred_lin_team_tie <- pred_lin[seq(3,length(pred_lin)+2,3)]\n",
    "pred_lin_team_1 <- pred_lin[seq(1,length(pred_lin),3)]\n",
    "pred_lin_team_2 <- pred_lin[seq(2,length(pred_lin)+1,3)]"
   ]
  },
  {
   "cell_type": "code",
   "execution_count": 366,
   "metadata": {
    "collapsed": true
   },
   "outputs": [],
   "source": [
    "test$team_tie <- as.numeric(test$result == 'tie')\n",
    "test$team_1_win <- as.numeric(test$result == 'team_1_win')\n",
    "test$team_2_win <- as.numeric(test$result == 'team_2_win')\n",
    "\n",
    "test$team_tie_prob_xgb_lin <- pred_lin_team_tie\n",
    "test$team_1_prob_xgb_lin <- pred_lin_team_1\n",
    "test$team_2_prob_xgb_lin <- pred_lin_team_2"
   ]
  },
  {
   "cell_type": "code",
   "execution_count": 367,
   "metadata": {},
   "outputs": [
    {
     "data": {
      "text/plain": [
       "\n",
       "Call:\n",
       "roc.default(response = test$team_tie, predictor = test$team_tie_prob_xgb_lin)\n",
       "\n",
       "Data: test$team_tie_prob_xgb_lin in 654 controls (test$team_tie 0) < 223 cases (test$team_tie 1).\n",
       "Area under the curve: 0.5802"
      ]
     },
     "metadata": {},
     "output_type": "display_data"
    }
   ],
   "source": [
    "pROC::roc(response = test$team_tie, predictor = test$team_tie_prob_xgb_lin)"
   ]
  },
  {
   "cell_type": "code",
   "execution_count": 368,
   "metadata": {},
   "outputs": [
    {
     "data": {
      "text/plain": [
       "\n",
       "Call:\n",
       "roc.default(response = test$team_1_win, predictor = test$team_1_prob_xgb_lin)\n",
       "\n",
       "Data: test$team_1_prob_xgb_lin in 468 controls (test$team_1_win 0) < 409 cases (test$team_1_win 1).\n",
       "Area under the curve: 0.701"
      ]
     },
     "metadata": {},
     "output_type": "display_data"
    }
   ],
   "source": [
    "pROC::roc(response = test$team_1_win, predictor = test$team_1_prob_xgb_lin)"
   ]
  },
  {
   "cell_type": "code",
   "execution_count": 369,
   "metadata": {
    "scrolled": true
   },
   "outputs": [
    {
     "data": {
      "text/plain": [
       "\n",
       "Call:\n",
       "roc.default(response = test$team_2_win, predictor = test$team_2_prob_xgb_lin)\n",
       "\n",
       "Data: test$team_2_prob_xgb_lin in 632 controls (test$team_2_win 0) < 245 cases (test$team_2_win 1).\n",
       "Area under the curve: 0.7153"
      ]
     },
     "metadata": {},
     "output_type": "display_data"
    }
   ],
   "source": [
    "pROC::roc(response = test$team_2_win, predictor = test$team_2_prob_xgb_lin)"
   ]
  },
  {
   "cell_type": "markdown",
   "metadata": {},
   "source": [
    "# Test on holdout"
   ]
  },
  {
   "cell_type": "code",
   "execution_count": 370,
   "metadata": {
    "collapsed": true
   },
   "outputs": [],
   "source": [
    "sparse_matrix_holdout <- sparse.model.matrix(result ~ .-1, data = holdout)"
   ]
  },
  {
   "cell_type": "code",
   "execution_count": 371,
   "metadata": {
    "collapsed": true
   },
   "outputs": [],
   "source": [
    "label <- as.numeric(holdout$result)-1"
   ]
  },
  {
   "cell_type": "code",
   "execution_count": 372,
   "metadata": {},
   "outputs": [
    {
     "data": {
      "text/html": [
       "<ol class=list-inline>\n",
       "\t<li>tie</li>\n",
       "\t<li>team_2_win</li>\n",
       "\t<li>team_2_win</li>\n",
       "\t<li>team_1_win</li>\n",
       "\t<li>team_2_win</li>\n",
       "\t<li>team_1_win</li>\n",
       "\t<li>tie</li>\n",
       "\t<li>team_1_win</li>\n",
       "\t<li>team_2_win</li>\n",
       "\t<li>team_1_win</li>\n",
       "\t<li>team_2_win</li>\n",
       "\t<li>tie</li>\n",
       "\t<li>team_1_win</li>\n",
       "\t<li>team_1_win</li>\n",
       "\t<li>tie</li>\n",
       "</ol>\n"
      ],
      "text/latex": [
       "\\begin{enumerate*}\n",
       "\\item tie\n",
       "\\item team\\_2\\_win\n",
       "\\item team\\_2\\_win\n",
       "\\item team\\_1\\_win\n",
       "\\item team\\_2\\_win\n",
       "\\item team\\_1\\_win\n",
       "\\item tie\n",
       "\\item team\\_1\\_win\n",
       "\\item team\\_2\\_win\n",
       "\\item team\\_1\\_win\n",
       "\\item team\\_2\\_win\n",
       "\\item tie\n",
       "\\item team\\_1\\_win\n",
       "\\item team\\_1\\_win\n",
       "\\item tie\n",
       "\\end{enumerate*}\n"
      ],
      "text/markdown": [
       "1. tie\n",
       "2. team_2_win\n",
       "3. team_2_win\n",
       "4. team_1_win\n",
       "5. team_2_win\n",
       "6. team_1_win\n",
       "7. tie\n",
       "8. team_1_win\n",
       "9. team_2_win\n",
       "10. team_1_win\n",
       "11. team_2_win\n",
       "12. tie\n",
       "13. team_1_win\n",
       "14. team_1_win\n",
       "15. tie\n",
       "\n",
       "\n"
      ],
      "text/plain": [
       " [1] tie        team_2_win team_2_win team_1_win team_2_win team_1_win\n",
       " [7] tie        team_1_win team_2_win team_1_win team_2_win tie       \n",
       "[13] team_1_win team_1_win tie       \n",
       "Levels: team_1_win team_2_win tie"
      ]
     },
     "metadata": {},
     "output_type": "display_data"
    }
   ],
   "source": [
    "holdout$result[1:15]"
   ]
  },
  {
   "cell_type": "code",
   "execution_count": 373,
   "metadata": {},
   "outputs": [
    {
     "data": {
      "text/html": [
       "<ol class=list-inline>\n",
       "\t<li>2</li>\n",
       "\t<li>1</li>\n",
       "\t<li>1</li>\n",
       "\t<li>0</li>\n",
       "\t<li>1</li>\n",
       "\t<li>0</li>\n",
       "\t<li>2</li>\n",
       "\t<li>0</li>\n",
       "\t<li>1</li>\n",
       "\t<li>0</li>\n",
       "\t<li>1</li>\n",
       "\t<li>2</li>\n",
       "\t<li>0</li>\n",
       "\t<li>0</li>\n",
       "\t<li>2</li>\n",
       "</ol>\n"
      ],
      "text/latex": [
       "\\begin{enumerate*}\n",
       "\\item 2\n",
       "\\item 1\n",
       "\\item 1\n",
       "\\item 0\n",
       "\\item 1\n",
       "\\item 0\n",
       "\\item 2\n",
       "\\item 0\n",
       "\\item 1\n",
       "\\item 0\n",
       "\\item 1\n",
       "\\item 2\n",
       "\\item 0\n",
       "\\item 0\n",
       "\\item 2\n",
       "\\end{enumerate*}\n"
      ],
      "text/markdown": [
       "1. 2\n",
       "2. 1\n",
       "3. 1\n",
       "4. 0\n",
       "5. 1\n",
       "6. 0\n",
       "7. 2\n",
       "8. 0\n",
       "9. 1\n",
       "10. 0\n",
       "11. 1\n",
       "12. 2\n",
       "13. 0\n",
       "14. 0\n",
       "15. 2\n",
       "\n",
       "\n"
      ],
      "text/plain": [
       " [1] 2 1 1 0 1 0 2 0 1 0 1 2 0 0 2"
      ]
     },
     "metadata": {},
     "output_type": "display_data"
    }
   ],
   "source": [
    "label[1:15]"
   ]
  },
  {
   "cell_type": "code",
   "execution_count": 374,
   "metadata": {
    "collapsed": true
   },
   "outputs": [],
   "source": [
    "pred_holdout <- predict(xgb, data.matrix(sparse_matrix_holdout), type=\"probs\")"
   ]
  },
  {
   "cell_type": "code",
   "execution_count": 375,
   "metadata": {
    "collapsed": true
   },
   "outputs": [],
   "source": [
    "holdout_pred_team_tie <- pred_holdout[seq(3,length(pred_holdout)+2,3)]\n",
    "holdout_pred_team_1 <- pred_holdout[seq(1,length(pred_holdout),3)]\n",
    "holdout_pred_team_2 <- pred_holdout[seq(2,length(pred_holdout)+1,3)]"
   ]
  },
  {
   "cell_type": "code",
   "execution_count": 376,
   "metadata": {
    "collapsed": true
   },
   "outputs": [],
   "source": [
    "holdout$team_tie <- as.numeric(holdout$result == 'tie')\n",
    "holdout$team_1_win <- as.numeric(holdout$result == 'team_1_win')\n",
    "holdout$team_2_win <- as.numeric(holdout$result == 'team_2_win')\n",
    "\n",
    "holdout$team_tie_prob_xgb_tree <- holdout_pred_team_tie\n",
    "holdout$team_1_prob_xgb_tree <- holdout_pred_team_1\n",
    "holdout$team_2_prob_xgb_tree <- holdout_pred_team_2"
   ]
  },
  {
   "cell_type": "code",
   "execution_count": 377,
   "metadata": {},
   "outputs": [
    {
     "data": {
      "text/plain": [
       "\n",
       "Call:\n",
       "roc.default(response = holdout$team_tie, predictor = holdout$team_tie_prob_xgb_tree)\n",
       "\n",
       "Data: holdout$team_tie_prob_xgb_tree in 180 controls (holdout$team_tie 0) < 52 cases (holdout$team_tie 1).\n",
       "Area under the curve: 0.6189"
      ]
     },
     "metadata": {},
     "output_type": "display_data"
    }
   ],
   "source": [
    "pROC::roc(response = holdout$team_tie, predictor = holdout$team_tie_prob_xgb_tree)"
   ]
  },
  {
   "cell_type": "code",
   "execution_count": 378,
   "metadata": {},
   "outputs": [
    {
     "data": {
      "text/plain": [
       "\n",
       "Call:\n",
       "roc.default(response = holdout$team_1_win, predictor = holdout$team_1_prob_xgb_tree)\n",
       "\n",
       "Data: holdout$team_1_prob_xgb_tree in 126 controls (holdout$team_1_win 0) < 106 cases (holdout$team_1_win 1).\n",
       "Area under the curve: 0.7537"
      ]
     },
     "metadata": {},
     "output_type": "display_data"
    }
   ],
   "source": [
    "pROC::roc(response = holdout$team_1_win, predictor = holdout$team_1_prob_xgb_tree)"
   ]
  },
  {
   "cell_type": "code",
   "execution_count": 379,
   "metadata": {
    "scrolled": true
   },
   "outputs": [
    {
     "data": {
      "text/plain": [
       "\n",
       "Call:\n",
       "roc.default(response = holdout$team_2_win, predictor = holdout$team_2_prob_xgb_tree)\n",
       "\n",
       "Data: holdout$team_2_prob_xgb_tree in 158 controls (holdout$team_2_win 0) < 74 cases (holdout$team_2_win 1).\n",
       "Area under the curve: 0.7873"
      ]
     },
     "metadata": {},
     "output_type": "display_data"
    }
   ],
   "source": [
    "pROC::roc(response = holdout$team_2_win, predictor = holdout$team_2_prob_xgb_tree)"
   ]
  },
  {
   "cell_type": "code",
   "execution_count": 384,
   "metadata": {
    "collapsed": true
   },
   "outputs": [],
   "source": [
    "df_comp <- df %>%\n",
    "    filter(data_type == 'comp') %>%\n",
    "    #na.omit %>%\n",
    "    select(-data_type, -team_1_score, -team_2_score, -id)"
   ]
  },
  {
   "cell_type": "code",
   "execution_count": 397,
   "metadata": {},
   "outputs": [
    {
     "data": {
      "text/html": [
       "<table>\n",
       "<thead><tr><th scope=col>result</th><th scope=col>is_february</th><th scope=col>is_november</th><th scope=col>d_ability_1</th><th scope=col>d_ability_3</th><th scope=col>d_ability_4</th><th scope=col>d_form_4</th><th scope=col>d_h2h_2</th><th scope=col>team_1_name</th><th scope=col>team_2_name</th><th scope=col>...</th><th scope=col>team_2_team_score_ma_10</th><th scope=col>team_2_team_win_index</th><th scope=col>team_2_team_loss_index</th><th scope=col>team_2_tie_index</th><th scope=col>x_year</th><th scope=col>y_year</th><th scope=col>x_week</th><th scope=col>y_week</th><th scope=col>x_day</th><th scope=col>y_day</th></tr></thead>\n",
       "<tbody>\n",
       "\t<tr><td>tie              </td><td>-0.3178843       </td><td>-0.3385736       </td><td>-2.20500635      </td><td>-2.2454484       </td><td>-2.2445428       </td><td>-0.94887132      </td><td>-1.525527        </td><td>West Ham         </td><td>Chelsea          </td><td>...              </td><td>1.7              </td><td>0.8953355        </td><td>1.459592         </td><td>0.9748441        </td><td>0.9291414        </td><td>-0.3697245       </td><td>0.2225209        </td><td>-0.9749279       </td><td>-1.000000e+00    </td><td>1.224647e-16     </td></tr>\n",
       "\t<tr><td>tie              </td><td>-0.3178843       </td><td>-0.3385736       </td><td>-0.88925776      </td><td>-0.8380912       </td><td>-0.8429574       </td><td> 0.03982277      </td><td>-1.525527        </td><td>Huddersfield     </td><td>Brighton         </td><td>...              </td><td>1.0              </td><td>1.0714286        </td><td>1.428571         </td><td>0.4285714        </td><td>0.9291414        </td><td>-0.3697245       </td><td>0.3302791        </td><td>-0.9438833       </td><td> 1.000000e+00    </td><td>0.000000e+00     </td></tr>\n",
       "\t<tr><td>tie              </td><td>-0.3178843       </td><td>-0.3385736       </td><td>-0.02423344      </td><td>-0.1066833       </td><td>-0.1148918       </td><td> 0.74354760      </td><td>-1.525527        </td><td>Swansea          </td><td>West Brom        </td><td>...              </td><td>0.8              </td><td>0.6683673        </td><td>1.121498         </td><td>1.1080827        </td><td>0.9291414        </td><td>-0.3697245       </td><td>0.3302791        </td><td>-0.9438833       </td><td> 1.000000e+00    </td><td>0.000000e+00     </td></tr>\n",
       "\t<tr><td>tie              </td><td>-0.3178843       </td><td>-0.3385736       </td><td> 0.36483990      </td><td> 0.3435022       </td><td> 0.3538497       </td><td> 0.71709936      </td><td>-1.525527        </td><td>Burnley          </td><td>Watford          </td><td>...              </td><td>1.8              </td><td>0.8892463        </td><td>1.235383         </td><td>0.6718750        </td><td>0.9291414        </td><td>-0.3697245       </td><td>0.3302791        </td><td>-0.9438833       </td><td> 1.000000e+00    </td><td>0.000000e+00     </td></tr>\n",
       "\t<tr><td>tie              </td><td>-0.3178843       </td><td>-0.3385736       </td><td>-0.33941503      </td><td>-0.4276060       </td><td>-0.4371238       </td><td> 0.28919047      </td><td>-1.525527        </td><td>Crystal Palace   </td><td>Bournemouth      </td><td>...              </td><td>1.0              </td><td>0.8238683        </td><td>1.107407         </td><td>1.0111111        </td><td>0.9291414        </td><td>-0.3697245       </td><td>0.3302791        </td><td>-0.9438833       </td><td> 1.000000e+00    </td><td>0.000000e+00     </td></tr>\n",
       "\t<tr><td>tie              </td><td>-0.3178843       </td><td>-0.3385736       </td><td> 2.02210898      </td><td> 2.0842651       </td><td> 2.0996903       </td><td> 0.79409032      </td><td>-1.525527        </td><td>Tottenham        </td><td>Stoke City       </td><td>...              </td><td>1.2              </td><td>0.6071429        </td><td>1.314685         </td><td>0.9900990        </td><td>0.9291414        </td><td>-0.3697245       </td><td>0.3302791        </td><td>-0.9438833       </td><td> 1.000000e+00    </td><td>0.000000e+00     </td></tr>\n",
       "\t<tr><td>tie              </td><td>-0.3178843       </td><td>-0.3385736       </td><td>-0.55800277      </td><td>-0.4606444       </td><td>-0.4416270       </td><td> 0.21156075      </td><td>-1.525527        </td><td>Newcastle Utd    </td><td>Leicester        </td><td>...              </td><td>1.3              </td><td>0.7169811        </td><td>1.320000         </td><td>0.9743590        </td><td>0.9291414        </td><td>-0.3697245       </td><td>0.3998920        </td><td>-0.9165623       </td><td>-1.000000e+00    </td><td>1.224647e-16     </td></tr>\n",
       "\t<tr><td>tie              </td><td>-0.3178843       </td><td>-0.3385736       </td><td>-1.16595526      </td><td>-1.1310483       </td><td>-1.1045425       </td><td>-0.73148374      </td><td>-1.525527        </td><td>Southampton      </td><td>Arsenal          </td><td>...              </td><td>2.2              </td><td>0.8211312        </td><td>1.456750         </td><td>1.0573135        </td><td>0.9353679        </td><td>-0.3536761       </td><td>0.9009689        </td><td>-0.4338837       </td><td> 1.000000e+00    </td><td>0.000000e+00     </td></tr>\n",
       "\t<tr><td>tie              </td><td>-0.3178843       </td><td>-0.3385736       </td><td> 1.17455248      </td><td> 1.2793569       </td><td> 1.2666328       </td><td>-0.29539431      </td><td>-1.525527        </td><td>Liverpool        </td><td>Everton          </td><td>...              </td><td>1.7              </td><td>0.6824645        </td><td>1.235669         </td><td>1.1948052        </td><td>0.9353679        </td><td>-0.3536761       </td><td>0.9308737        </td><td>-0.3653410       </td><td> 6.123234e-17    </td><td>1.000000e+00     </td></tr>\n",
       "\t<tr><td>tie              </td><td>-0.3178843       </td><td>-0.3385736       </td><td>-0.56000922      </td><td>-0.3529263       </td><td>-0.3716552       </td><td>-1.48296742      </td><td>-1.525527        </td><td>Manchester United</td><td>Manchester City  </td><td>...              </td><td>3.0              </td><td>0.7537313        </td><td>1.323944         </td><td>1.1785714        </td><td>0.9353679        </td><td>-0.3536761       </td><td>0.9555728        </td><td>-0.2947552       </td><td>-1.000000e+00    </td><td>1.224647e-16     </td></tr>\n",
       "</tbody>\n",
       "</table>\n"
      ],
      "text/latex": [
       "\\begin{tabular}{r|llllllllllllllllllllllllllllllllllll}\n",
       " result & is\\_february & is\\_november & d\\_ability\\_1 & d\\_ability\\_3 & d\\_ability\\_4 & d\\_form\\_4 & d\\_h2h\\_2 & team\\_1\\_name & team\\_2\\_name & ... & team\\_2\\_team\\_score\\_ma\\_10 & team\\_2\\_team\\_win\\_index & team\\_2\\_team\\_loss\\_index & team\\_2\\_tie\\_index & x\\_year & y\\_year & x\\_week & y\\_week & x\\_day & y\\_day\\\\\n",
       "\\hline\n",
       "\t tie               & -0.3178843        & -0.3385736        & -2.20500635       & -2.2454484        & -2.2445428        & -0.94887132       & -1.525527         & West Ham          & Chelsea           & ...               & 1.7               & 0.8953355         & 1.459592          & 0.9748441         & 0.9291414         & -0.3697245        & 0.2225209         & -0.9749279        & -1.000000e+00     & 1.224647e-16     \\\\\n",
       "\t tie               & -0.3178843        & -0.3385736        & -0.88925776       & -0.8380912        & -0.8429574        &  0.03982277       & -1.525527         & Huddersfield      & Brighton          & ...               & 1.0               & 1.0714286         & 1.428571          & 0.4285714         & 0.9291414         & -0.3697245        & 0.3302791         & -0.9438833        &  1.000000e+00     & 0.000000e+00     \\\\\n",
       "\t tie               & -0.3178843        & -0.3385736        & -0.02423344       & -0.1066833        & -0.1148918        &  0.74354760       & -1.525527         & Swansea           & West Brom         & ...               & 0.8               & 0.6683673         & 1.121498          & 1.1080827         & 0.9291414         & -0.3697245        & 0.3302791         & -0.9438833        &  1.000000e+00     & 0.000000e+00     \\\\\n",
       "\t tie               & -0.3178843        & -0.3385736        &  0.36483990       &  0.3435022        &  0.3538497        &  0.71709936       & -1.525527         & Burnley           & Watford           & ...               & 1.8               & 0.8892463         & 1.235383          & 0.6718750         & 0.9291414         & -0.3697245        & 0.3302791         & -0.9438833        &  1.000000e+00     & 0.000000e+00     \\\\\n",
       "\t tie               & -0.3178843        & -0.3385736        & -0.33941503       & -0.4276060        & -0.4371238        &  0.28919047       & -1.525527         & Crystal Palace    & Bournemouth       & ...               & 1.0               & 0.8238683         & 1.107407          & 1.0111111         & 0.9291414         & -0.3697245        & 0.3302791         & -0.9438833        &  1.000000e+00     & 0.000000e+00     \\\\\n",
       "\t tie               & -0.3178843        & -0.3385736        &  2.02210898       &  2.0842651        &  2.0996903        &  0.79409032       & -1.525527         & Tottenham         & Stoke City        & ...               & 1.2               & 0.6071429         & 1.314685          & 0.9900990         & 0.9291414         & -0.3697245        & 0.3302791         & -0.9438833        &  1.000000e+00     & 0.000000e+00     \\\\\n",
       "\t tie               & -0.3178843        & -0.3385736        & -0.55800277       & -0.4606444        & -0.4416270        &  0.21156075       & -1.525527         & Newcastle Utd     & Leicester         & ...               & 1.3               & 0.7169811         & 1.320000          & 0.9743590         & 0.9291414         & -0.3697245        & 0.3998920         & -0.9165623        & -1.000000e+00     & 1.224647e-16     \\\\\n",
       "\t tie               & -0.3178843        & -0.3385736        & -1.16595526       & -1.1310483        & -1.1045425        & -0.73148374       & -1.525527         & Southampton       & Arsenal           & ...               & 2.2               & 0.8211312         & 1.456750          & 1.0573135         & 0.9353679         & -0.3536761        & 0.9009689         & -0.4338837        &  1.000000e+00     & 0.000000e+00     \\\\\n",
       "\t tie               & -0.3178843        & -0.3385736        &  1.17455248       &  1.2793569        &  1.2666328        & -0.29539431       & -1.525527         & Liverpool         & Everton           & ...               & 1.7               & 0.6824645         & 1.235669          & 1.1948052         & 0.9353679         & -0.3536761        & 0.9308737         & -0.3653410        &  6.123234e-17     & 1.000000e+00     \\\\\n",
       "\t tie               & -0.3178843        & -0.3385736        & -0.56000922       & -0.3529263        & -0.3716552        & -1.48296742       & -1.525527         & Manchester United & Manchester City   & ...               & 3.0               & 0.7537313         & 1.323944          & 1.1785714         & 0.9353679         & -0.3536761        & 0.9555728         & -0.2947552        & -1.000000e+00     & 1.224647e-16     \\\\\n",
       "\\end{tabular}\n"
      ],
      "text/markdown": [
       "\n",
       "result | is_february | is_november | d_ability_1 | d_ability_3 | d_ability_4 | d_form_4 | d_h2h_2 | team_1_name | team_2_name | ... | team_2_team_score_ma_10 | team_2_team_win_index | team_2_team_loss_index | team_2_tie_index | x_year | y_year | x_week | y_week | x_day | y_day | \n",
       "|---|---|---|---|---|---|---|---|---|---|\n",
       "| tie               | -0.3178843        | -0.3385736        | -2.20500635       | -2.2454484        | -2.2445428        | -0.94887132       | -1.525527         | West Ham          | Chelsea           | ...               | 1.7               | 0.8953355         | 1.459592          | 0.9748441         | 0.9291414         | -0.3697245        | 0.2225209         | -0.9749279        | -1.000000e+00     | 1.224647e-16      | \n",
       "| tie               | -0.3178843        | -0.3385736        | -0.88925776       | -0.8380912        | -0.8429574        |  0.03982277       | -1.525527         | Huddersfield      | Brighton          | ...               | 1.0               | 1.0714286         | 1.428571          | 0.4285714         | 0.9291414         | -0.3697245        | 0.3302791         | -0.9438833        |  1.000000e+00     | 0.000000e+00      | \n",
       "| tie               | -0.3178843        | -0.3385736        | -0.02423344       | -0.1066833        | -0.1148918        |  0.74354760       | -1.525527         | Swansea           | West Brom         | ...               | 0.8               | 0.6683673         | 1.121498          | 1.1080827         | 0.9291414         | -0.3697245        | 0.3302791         | -0.9438833        |  1.000000e+00     | 0.000000e+00      | \n",
       "| tie               | -0.3178843        | -0.3385736        |  0.36483990       |  0.3435022        |  0.3538497        |  0.71709936       | -1.525527         | Burnley           | Watford           | ...               | 1.8               | 0.8892463         | 1.235383          | 0.6718750         | 0.9291414         | -0.3697245        | 0.3302791         | -0.9438833        |  1.000000e+00     | 0.000000e+00      | \n",
       "| tie               | -0.3178843        | -0.3385736        | -0.33941503       | -0.4276060        | -0.4371238        |  0.28919047       | -1.525527         | Crystal Palace    | Bournemouth       | ...               | 1.0               | 0.8238683         | 1.107407          | 1.0111111         | 0.9291414         | -0.3697245        | 0.3302791         | -0.9438833        |  1.000000e+00     | 0.000000e+00      | \n",
       "| tie               | -0.3178843        | -0.3385736        |  2.02210898       |  2.0842651        |  2.0996903        |  0.79409032       | -1.525527         | Tottenham         | Stoke City        | ...               | 1.2               | 0.6071429         | 1.314685          | 0.9900990         | 0.9291414         | -0.3697245        | 0.3302791         | -0.9438833        |  1.000000e+00     | 0.000000e+00      | \n",
       "| tie               | -0.3178843        | -0.3385736        | -0.55800277       | -0.4606444        | -0.4416270        |  0.21156075       | -1.525527         | Newcastle Utd     | Leicester         | ...               | 1.3               | 0.7169811         | 1.320000          | 0.9743590         | 0.9291414         | -0.3697245        | 0.3998920         | -0.9165623        | -1.000000e+00     | 1.224647e-16      | \n",
       "| tie               | -0.3178843        | -0.3385736        | -1.16595526       | -1.1310483        | -1.1045425        | -0.73148374       | -1.525527         | Southampton       | Arsenal           | ...               | 2.2               | 0.8211312         | 1.456750          | 1.0573135         | 0.9353679         | -0.3536761        | 0.9009689         | -0.4338837        |  1.000000e+00     | 0.000000e+00      | \n",
       "| tie               | -0.3178843        | -0.3385736        |  1.17455248       |  1.2793569        |  1.2666328        | -0.29539431       | -1.525527         | Liverpool         | Everton           | ...               | 1.7               | 0.6824645         | 1.235669          | 1.1948052         | 0.9353679         | -0.3536761        | 0.9308737         | -0.3653410        |  6.123234e-17     | 1.000000e+00      | \n",
       "| tie               | -0.3178843        | -0.3385736        | -0.56000922       | -0.3529263        | -0.3716552        | -1.48296742       | -1.525527         | Manchester United | Manchester City   | ...               | 3.0               | 0.7537313         | 1.323944          | 1.1785714         | 0.9353679         | -0.3536761        | 0.9555728         | -0.2947552        | -1.000000e+00     | 1.224647e-16      | \n",
       "\n",
       "\n"
      ],
      "text/plain": [
       "   result is_february is_november d_ability_1 d_ability_3 d_ability_4\n",
       "1  tie    -0.3178843  -0.3385736  -2.20500635 -2.2454484  -2.2445428 \n",
       "2  tie    -0.3178843  -0.3385736  -0.88925776 -0.8380912  -0.8429574 \n",
       "3  tie    -0.3178843  -0.3385736  -0.02423344 -0.1066833  -0.1148918 \n",
       "4  tie    -0.3178843  -0.3385736   0.36483990  0.3435022   0.3538497 \n",
       "5  tie    -0.3178843  -0.3385736  -0.33941503 -0.4276060  -0.4371238 \n",
       "6  tie    -0.3178843  -0.3385736   2.02210898  2.0842651   2.0996903 \n",
       "7  tie    -0.3178843  -0.3385736  -0.55800277 -0.4606444  -0.4416270 \n",
       "8  tie    -0.3178843  -0.3385736  -1.16595526 -1.1310483  -1.1045425 \n",
       "9  tie    -0.3178843  -0.3385736   1.17455248  1.2793569   1.2666328 \n",
       "10 tie    -0.3178843  -0.3385736  -0.56000922 -0.3529263  -0.3716552 \n",
       "   d_form_4    d_h2h_2   team_1_name       team_2_name     ...\n",
       "1  -0.94887132 -1.525527 West Ham          Chelsea         ...\n",
       "2   0.03982277 -1.525527 Huddersfield      Brighton        ...\n",
       "3   0.74354760 -1.525527 Swansea           West Brom       ...\n",
       "4   0.71709936 -1.525527 Burnley           Watford         ...\n",
       "5   0.28919047 -1.525527 Crystal Palace    Bournemouth     ...\n",
       "6   0.79409032 -1.525527 Tottenham         Stoke City      ...\n",
       "7   0.21156075 -1.525527 Newcastle Utd     Leicester       ...\n",
       "8  -0.73148374 -1.525527 Southampton       Arsenal         ...\n",
       "9  -0.29539431 -1.525527 Liverpool         Everton         ...\n",
       "10 -1.48296742 -1.525527 Manchester United Manchester City ...\n",
       "   team_2_team_score_ma_10 team_2_team_win_index team_2_team_loss_index\n",
       "1  1.7                     0.8953355             1.459592              \n",
       "2  1.0                     1.0714286             1.428571              \n",
       "3  0.8                     0.6683673             1.121498              \n",
       "4  1.8                     0.8892463             1.235383              \n",
       "5  1.0                     0.8238683             1.107407              \n",
       "6  1.2                     0.6071429             1.314685              \n",
       "7  1.3                     0.7169811             1.320000              \n",
       "8  2.2                     0.8211312             1.456750              \n",
       "9  1.7                     0.6824645             1.235669              \n",
       "10 3.0                     0.7537313             1.323944              \n",
       "   team_2_tie_index x_year    y_year     x_week    y_week     x_day        \n",
       "1  0.9748441        0.9291414 -0.3697245 0.2225209 -0.9749279 -1.000000e+00\n",
       "2  0.4285714        0.9291414 -0.3697245 0.3302791 -0.9438833  1.000000e+00\n",
       "3  1.1080827        0.9291414 -0.3697245 0.3302791 -0.9438833  1.000000e+00\n",
       "4  0.6718750        0.9291414 -0.3697245 0.3302791 -0.9438833  1.000000e+00\n",
       "5  1.0111111        0.9291414 -0.3697245 0.3302791 -0.9438833  1.000000e+00\n",
       "6  0.9900990        0.9291414 -0.3697245 0.3302791 -0.9438833  1.000000e+00\n",
       "7  0.9743590        0.9291414 -0.3697245 0.3998920 -0.9165623 -1.000000e+00\n",
       "8  1.0573135        0.9353679 -0.3536761 0.9009689 -0.4338837  1.000000e+00\n",
       "9  1.1948052        0.9353679 -0.3536761 0.9308737 -0.3653410  6.123234e-17\n",
       "10 1.1785714        0.9353679 -0.3536761 0.9555728 -0.2947552 -1.000000e+00\n",
       "   y_day       \n",
       "1  1.224647e-16\n",
       "2  0.000000e+00\n",
       "3  0.000000e+00\n",
       "4  0.000000e+00\n",
       "5  0.000000e+00\n",
       "6  0.000000e+00\n",
       "7  1.224647e-16\n",
       "8  0.000000e+00\n",
       "9  1.000000e+00\n",
       "10 1.224647e-16"
      ]
     },
     "metadata": {},
     "output_type": "display_data"
    }
   ],
   "source": [
    "df_comp"
   ]
  },
  {
   "cell_type": "markdown",
   "metadata": {},
   "source": [
    "# submit"
   ]
  },
  {
   "cell_type": "code",
   "execution_count": 399,
   "metadata": {
    "collapsed": true
   },
   "outputs": [],
   "source": [
    "sparse_matrix_comp <- sparse.model.matrix(result ~ .-1, data = df_comp)"
   ]
  },
  {
   "cell_type": "code",
   "execution_count": 401,
   "metadata": {
    "collapsed": true
   },
   "outputs": [],
   "source": [
    "pred_comp <- predict(xgb, data.matrix(sparse_matrix_comp), type=\"probs\")"
   ]
  },
  {
   "cell_type": "code",
   "execution_count": 405,
   "metadata": {
    "collapsed": true
   },
   "outputs": [],
   "source": [
    "comp_pred_team_tie <- pred_comp[seq(3,length(pred_comp)+2,3)]\n",
    "comp_pred_team_1 <- pred_comp[seq(1,length(pred_comp),3)]\n",
    "comp_pred_team_2 <- pred_comp[seq(2,length(pred_comp)+1,3)]"
   ]
  },
  {
   "cell_type": "code",
   "execution_count": 406,
   "metadata": {
    "collapsed": true
   },
   "outputs": [],
   "source": [
    "df_comp$team_tie_prob <- comp_pred_team_tie\n",
    "df_comp$team_1_prob <- comp_pred_team_1\n",
    "df_comp$team_2_prob <- comp_pred_team_2"
   ]
  },
  {
   "cell_type": "code",
   "execution_count": 413,
   "metadata": {},
   "outputs": [
    {
     "data": {
      "text/html": [
       "<ol class=list-inline>\n",
       "\t<li>'id'</li>\n",
       "\t<li>'data_type'</li>\n",
       "\t<li>'result'</li>\n",
       "\t<li>'team_1_score'</li>\n",
       "\t<li>'team_2_score'</li>\n",
       "\t<li>'is_february'</li>\n",
       "\t<li>'is_november'</li>\n",
       "\t<li>'d_ability_1'</li>\n",
       "\t<li>'d_ability_3'</li>\n",
       "\t<li>'d_ability_4'</li>\n",
       "\t<li>'d_form_4'</li>\n",
       "\t<li>'d_h2h_2'</li>\n",
       "\t<li>'team_1_name'</li>\n",
       "\t<li>'team_2_name'</li>\n",
       "\t<li>'team_1_match_count'</li>\n",
       "\t<li>'team_1_opponent_last_score'</li>\n",
       "\t<li>'team_1_opponent_score_ema_10'</li>\n",
       "\t<li>'team_1_opponent_score_ma_10'</li>\n",
       "\t<li>'team_1_team_last_score'</li>\n",
       "\t<li>'team_1_team_score_ema_10'</li>\n",
       "\t<li>'team_1_team_score_ma_10'</li>\n",
       "\t<li>'team_1_team_win_index'</li>\n",
       "\t<li>'team_1_team_loss_index'</li>\n",
       "\t<li>'team_1_tie_index'</li>\n",
       "\t<li>'team_2_match_count'</li>\n",
       "\t<li>'team_2_opponent_last_score'</li>\n",
       "\t<li>'team_2_opponent_score_ema_10'</li>\n",
       "\t<li>'team_2_opponent_score_ma_10'</li>\n",
       "\t<li>'team_2_team_last_score'</li>\n",
       "\t<li>'team_2_team_score_ema_10'</li>\n",
       "\t<li>'team_2_team_score_ma_10'</li>\n",
       "\t<li>'team_2_team_win_index'</li>\n",
       "\t<li>'team_2_team_loss_index'</li>\n",
       "\t<li>'team_2_tie_index'</li>\n",
       "\t<li>'x_year'</li>\n",
       "\t<li>'y_year'</li>\n",
       "\t<li>'x_week'</li>\n",
       "\t<li>'y_week'</li>\n",
       "\t<li>'x_day'</li>\n",
       "\t<li>'y_day'</li>\n",
       "</ol>\n"
      ],
      "text/latex": [
       "\\begin{enumerate*}\n",
       "\\item 'id'\n",
       "\\item 'data\\_type'\n",
       "\\item 'result'\n",
       "\\item 'team\\_1\\_score'\n",
       "\\item 'team\\_2\\_score'\n",
       "\\item 'is\\_february'\n",
       "\\item 'is\\_november'\n",
       "\\item 'd\\_ability\\_1'\n",
       "\\item 'd\\_ability\\_3'\n",
       "\\item 'd\\_ability\\_4'\n",
       "\\item 'd\\_form\\_4'\n",
       "\\item 'd\\_h2h\\_2'\n",
       "\\item 'team\\_1\\_name'\n",
       "\\item 'team\\_2\\_name'\n",
       "\\item 'team\\_1\\_match\\_count'\n",
       "\\item 'team\\_1\\_opponent\\_last\\_score'\n",
       "\\item 'team\\_1\\_opponent\\_score\\_ema\\_10'\n",
       "\\item 'team\\_1\\_opponent\\_score\\_ma\\_10'\n",
       "\\item 'team\\_1\\_team\\_last\\_score'\n",
       "\\item 'team\\_1\\_team\\_score\\_ema\\_10'\n",
       "\\item 'team\\_1\\_team\\_score\\_ma\\_10'\n",
       "\\item 'team\\_1\\_team\\_win\\_index'\n",
       "\\item 'team\\_1\\_team\\_loss\\_index'\n",
       "\\item 'team\\_1\\_tie\\_index'\n",
       "\\item 'team\\_2\\_match\\_count'\n",
       "\\item 'team\\_2\\_opponent\\_last\\_score'\n",
       "\\item 'team\\_2\\_opponent\\_score\\_ema\\_10'\n",
       "\\item 'team\\_2\\_opponent\\_score\\_ma\\_10'\n",
       "\\item 'team\\_2\\_team\\_last\\_score'\n",
       "\\item 'team\\_2\\_team\\_score\\_ema\\_10'\n",
       "\\item 'team\\_2\\_team\\_score\\_ma\\_10'\n",
       "\\item 'team\\_2\\_team\\_win\\_index'\n",
       "\\item 'team\\_2\\_team\\_loss\\_index'\n",
       "\\item 'team\\_2\\_tie\\_index'\n",
       "\\item 'x\\_year'\n",
       "\\item 'y\\_year'\n",
       "\\item 'x\\_week'\n",
       "\\item 'y\\_week'\n",
       "\\item 'x\\_day'\n",
       "\\item 'y\\_day'\n",
       "\\end{enumerate*}\n"
      ],
      "text/markdown": [
       "1. 'id'\n",
       "2. 'data_type'\n",
       "3. 'result'\n",
       "4. 'team_1_score'\n",
       "5. 'team_2_score'\n",
       "6. 'is_february'\n",
       "7. 'is_november'\n",
       "8. 'd_ability_1'\n",
       "9. 'd_ability_3'\n",
       "10. 'd_ability_4'\n",
       "11. 'd_form_4'\n",
       "12. 'd_h2h_2'\n",
       "13. 'team_1_name'\n",
       "14. 'team_2_name'\n",
       "15. 'team_1_match_count'\n",
       "16. 'team_1_opponent_last_score'\n",
       "17. 'team_1_opponent_score_ema_10'\n",
       "18. 'team_1_opponent_score_ma_10'\n",
       "19. 'team_1_team_last_score'\n",
       "20. 'team_1_team_score_ema_10'\n",
       "21. 'team_1_team_score_ma_10'\n",
       "22. 'team_1_team_win_index'\n",
       "23. 'team_1_team_loss_index'\n",
       "24. 'team_1_tie_index'\n",
       "25. 'team_2_match_count'\n",
       "26. 'team_2_opponent_last_score'\n",
       "27. 'team_2_opponent_score_ema_10'\n",
       "28. 'team_2_opponent_score_ma_10'\n",
       "29. 'team_2_team_last_score'\n",
       "30. 'team_2_team_score_ema_10'\n",
       "31. 'team_2_team_score_ma_10'\n",
       "32. 'team_2_team_win_index'\n",
       "33. 'team_2_team_loss_index'\n",
       "34. 'team_2_tie_index'\n",
       "35. 'x_year'\n",
       "36. 'y_year'\n",
       "37. 'x_week'\n",
       "38. 'y_week'\n",
       "39. 'x_day'\n",
       "40. 'y_day'\n",
       "\n",
       "\n"
      ],
      "text/plain": [
       " [1] \"id\"                           \"data_type\"                   \n",
       " [3] \"result\"                       \"team_1_score\"                \n",
       " [5] \"team_2_score\"                 \"is_february\"                 \n",
       " [7] \"is_november\"                  \"d_ability_1\"                 \n",
       " [9] \"d_ability_3\"                  \"d_ability_4\"                 \n",
       "[11] \"d_form_4\"                     \"d_h2h_2\"                     \n",
       "[13] \"team_1_name\"                  \"team_2_name\"                 \n",
       "[15] \"team_1_match_count\"           \"team_1_opponent_last_score\"  \n",
       "[17] \"team_1_opponent_score_ema_10\" \"team_1_opponent_score_ma_10\" \n",
       "[19] \"team_1_team_last_score\"       \"team_1_team_score_ema_10\"    \n",
       "[21] \"team_1_team_score_ma_10\"      \"team_1_team_win_index\"       \n",
       "[23] \"team_1_team_loss_index\"       \"team_1_tie_index\"            \n",
       "[25] \"team_2_match_count\"           \"team_2_opponent_last_score\"  \n",
       "[27] \"team_2_opponent_score_ema_10\" \"team_2_opponent_score_ma_10\" \n",
       "[29] \"team_2_team_last_score\"       \"team_2_team_score_ema_10\"    \n",
       "[31] \"team_2_team_score_ma_10\"      \"team_2_team_win_index\"       \n",
       "[33] \"team_2_team_loss_index\"       \"team_2_tie_index\"            \n",
       "[35] \"x_year\"                       \"y_year\"                      \n",
       "[37] \"x_week\"                       \"y_week\"                      \n",
       "[39] \"x_day\"                        \"y_day\"                       "
      ]
     },
     "metadata": {},
     "output_type": "display_data"
    }
   ],
   "source": [
    "names(df)"
   ]
  },
  {
   "cell_type": "code",
   "execution_count": 415,
   "metadata": {},
   "outputs": [
    {
     "data": {
      "text/html": [
       "<table>\n",
       "<thead><tr><th scope=col>id</th><th scope=col>team_1_name</th><th scope=col>team_2_name</th><th scope=col>team_1_prob</th><th scope=col>team_2_prob</th><th scope=col>team_tie_prob</th></tr></thead>\n",
       "<tbody>\n",
       "\t<tr><td>5a19f6719772221c48d2f9ec</td><td>West Ham                </td><td>Chelsea                 </td><td>0.1262285               </td><td>0.69770116              </td><td>0.17607033              </td></tr>\n",
       "\t<tr><td>5a19f6719772221c48d2f9ef</td><td>Huddersfield            </td><td>Brighton                </td><td>0.2380701               </td><td>0.32086292              </td><td>0.44106704              </td></tr>\n",
       "\t<tr><td>5a19f6719772221c48d2f9f0</td><td>Swansea                 </td><td>West Brom               </td><td>0.3491643               </td><td>0.38985953              </td><td>0.26097620              </td></tr>\n",
       "\t<tr><td>5a19f6719772221c48d2f9ed</td><td>Burnley                 </td><td>Watford                 </td><td>0.4990587               </td><td>0.24181381              </td><td>0.25912747              </td></tr>\n",
       "\t<tr><td>5a19f6719772221c48d2f9ee</td><td>Crystal Palace          </td><td>Bournemouth             </td><td>0.2830107               </td><td>0.53522688              </td><td>0.18176244              </td></tr>\n",
       "\t<tr><td>5a19f6719772221c48d2f9f1</td><td>Tottenham               </td><td>Stoke City              </td><td>0.9089789               </td><td>0.03562783              </td><td>0.05539323              </td></tr>\n",
       "\t<tr><td>5a19f6719772221c48d2f9f2</td><td>Newcastle Utd           </td><td>Leicester               </td><td>0.2727764               </td><td>0.63662666              </td><td>0.09059697              </td></tr>\n",
       "\t<tr><td>5a1ac45d4825080ad7e3b9c2</td><td>Southampton             </td><td>Arsenal                 </td><td>0.3058268               </td><td>0.49828175              </td><td>0.19589151              </td></tr>\n",
       "\t<tr><td>5a1ad9014825081aeace6799</td><td>Liverpool               </td><td>Everton                 </td><td>0.7974147               </td><td>0.02765434              </td><td>0.17493099              </td></tr>\n",
       "\t<tr><td>5a1b13b99772220c94eb5151</td><td>Manchester United       </td><td>Manchester City         </td><td>0.5753282               </td><td>0.24864997              </td><td>0.17602190              </td></tr>\n",
       "</tbody>\n",
       "</table>\n"
      ],
      "text/latex": [
       "\\begin{tabular}{r|llllll}\n",
       " id & team\\_1\\_name & team\\_2\\_name & team\\_1\\_prob & team\\_2\\_prob & team\\_tie\\_prob\\\\\n",
       "\\hline\n",
       "\t 5a19f6719772221c48d2f9ec & West Ham                 & Chelsea                  & 0.1262285                & 0.69770116               & 0.17607033              \\\\\n",
       "\t 5a19f6719772221c48d2f9ef & Huddersfield             & Brighton                 & 0.2380701                & 0.32086292               & 0.44106704              \\\\\n",
       "\t 5a19f6719772221c48d2f9f0 & Swansea                  & West Brom                & 0.3491643                & 0.38985953               & 0.26097620              \\\\\n",
       "\t 5a19f6719772221c48d2f9ed & Burnley                  & Watford                  & 0.4990587                & 0.24181381               & 0.25912747              \\\\\n",
       "\t 5a19f6719772221c48d2f9ee & Crystal Palace           & Bournemouth              & 0.2830107                & 0.53522688               & 0.18176244              \\\\\n",
       "\t 5a19f6719772221c48d2f9f1 & Tottenham                & Stoke City               & 0.9089789                & 0.03562783               & 0.05539323              \\\\\n",
       "\t 5a19f6719772221c48d2f9f2 & Newcastle Utd            & Leicester                & 0.2727764                & 0.63662666               & 0.09059697              \\\\\n",
       "\t 5a1ac45d4825080ad7e3b9c2 & Southampton              & Arsenal                  & 0.3058268                & 0.49828175               & 0.19589151              \\\\\n",
       "\t 5a1ad9014825081aeace6799 & Liverpool                & Everton                  & 0.7974147                & 0.02765434               & 0.17493099              \\\\\n",
       "\t 5a1b13b99772220c94eb5151 & Manchester United        & Manchester City          & 0.5753282                & 0.24864997               & 0.17602190              \\\\\n",
       "\\end{tabular}\n"
      ],
      "text/markdown": [
       "\n",
       "id | team_1_name | team_2_name | team_1_prob | team_2_prob | team_tie_prob | \n",
       "|---|---|---|---|---|---|---|---|---|---|\n",
       "| 5a19f6719772221c48d2f9ec | West Ham                 | Chelsea                  | 0.1262285                | 0.69770116               | 0.17607033               | \n",
       "| 5a19f6719772221c48d2f9ef | Huddersfield             | Brighton                 | 0.2380701                | 0.32086292               | 0.44106704               | \n",
       "| 5a19f6719772221c48d2f9f0 | Swansea                  | West Brom                | 0.3491643                | 0.38985953               | 0.26097620               | \n",
       "| 5a19f6719772221c48d2f9ed | Burnley                  | Watford                  | 0.4990587                | 0.24181381               | 0.25912747               | \n",
       "| 5a19f6719772221c48d2f9ee | Crystal Palace           | Bournemouth              | 0.2830107                | 0.53522688               | 0.18176244               | \n",
       "| 5a19f6719772221c48d2f9f1 | Tottenham                | Stoke City               | 0.9089789                | 0.03562783               | 0.05539323               | \n",
       "| 5a19f6719772221c48d2f9f2 | Newcastle Utd            | Leicester                | 0.2727764                | 0.63662666               | 0.09059697               | \n",
       "| 5a1ac45d4825080ad7e3b9c2 | Southampton              | Arsenal                  | 0.3058268                | 0.49828175               | 0.19589151               | \n",
       "| 5a1ad9014825081aeace6799 | Liverpool                | Everton                  | 0.7974147                | 0.02765434               | 0.17493099               | \n",
       "| 5a1b13b99772220c94eb5151 | Manchester United        | Manchester City          | 0.5753282                | 0.24864997               | 0.17602190               | \n",
       "\n",
       "\n"
      ],
      "text/plain": [
       "   id                       team_1_name       team_2_name     team_1_prob\n",
       "1  5a19f6719772221c48d2f9ec West Ham          Chelsea         0.1262285  \n",
       "2  5a19f6719772221c48d2f9ef Huddersfield      Brighton        0.2380701  \n",
       "3  5a19f6719772221c48d2f9f0 Swansea           West Brom       0.3491643  \n",
       "4  5a19f6719772221c48d2f9ed Burnley           Watford         0.4990587  \n",
       "5  5a19f6719772221c48d2f9ee Crystal Palace    Bournemouth     0.2830107  \n",
       "6  5a19f6719772221c48d2f9f1 Tottenham         Stoke City      0.9089789  \n",
       "7  5a19f6719772221c48d2f9f2 Newcastle Utd     Leicester       0.2727764  \n",
       "8  5a1ac45d4825080ad7e3b9c2 Southampton       Arsenal         0.3058268  \n",
       "9  5a1ad9014825081aeace6799 Liverpool         Everton         0.7974147  \n",
       "10 5a1b13b99772220c94eb5151 Manchester United Manchester City 0.5753282  \n",
       "   team_2_prob team_tie_prob\n",
       "1  0.69770116  0.17607033   \n",
       "2  0.32086292  0.44106704   \n",
       "3  0.38985953  0.26097620   \n",
       "4  0.24181381  0.25912747   \n",
       "5  0.53522688  0.18176244   \n",
       "6  0.03562783  0.05539323   \n",
       "7  0.63662666  0.09059697   \n",
       "8  0.49828175  0.19589151   \n",
       "9  0.02765434  0.17493099   \n",
       "10 0.24864997  0.17602190   "
      ]
     },
     "metadata": {},
     "output_type": "display_data"
    }
   ],
   "source": [
    "cbind(df %>%\n",
    "    filter(data_type == 'comp') %>% select(id, team_1_name, team_2_name), df_comp %>% select(team_1_prob, team_2_prob, team_tie_prob) )"
   ]
  },
  {
   "cell_type": "code",
   "execution_count": null,
   "metadata": {
    "collapsed": true
   },
   "outputs": [],
   "source": []
  }
 ],
 "metadata": {
  "kernelspec": {
   "display_name": "R",
   "language": "R",
   "name": "ir"
  },
  "language_info": {
   "codemirror_mode": "r",
   "file_extension": ".r",
   "mimetype": "text/x-r-source",
   "name": "R",
   "pygments_lexer": "r",
   "version": "3.4.2"
  }
 },
 "nbformat": 4,
 "nbformat_minor": 2
}
