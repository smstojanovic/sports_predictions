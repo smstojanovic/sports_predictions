{
 "cells": [
  {
   "cell_type": "code",
   "execution_count": 136,
   "metadata": {},
   "outputs": [],
   "source": [
    "library(tidyverse)\n",
    "library(rpart)\n",
    "library(pROC)\n",
    "library(rpart.plot)\n",
    "library(caret)\n",
    "library(nnet)\n",
    "library(randomForest)\n",
    "library(Matrix)\n",
    "library(xgboost)"
   ]
  },
  {
   "cell_type": "code",
   "execution_count": 5,
   "metadata": {},
   "outputs": [],
   "source": [
    "df <- read.csv('epl_data_w_features.csv')"
   ]
  },
  {
   "cell_type": "code",
   "execution_count": 31,
   "metadata": {},
   "outputs": [],
   "source": [
    "df_play <- df %>%\n",
    "    filter(data_type == 'hist') %>%\n",
    "    na.omit %>%\n",
    "    select(-data_type, -team_1_score, -team_2_score)"
   ]
  },
  {
   "cell_type": "markdown",
   "metadata": {},
   "source": [
    "### Use the last 5% of rows for 'hold-out'"
   ]
  },
  {
   "cell_type": "code",
   "execution_count": 32,
   "metadata": {},
   "outputs": [],
   "source": [
    "holdout <- df_play[round(df_play %>% nrow * 0.95):(df_play %>% nrow),]\n",
    "df_model <- df_play[1:round(df_play %>% nrow * 0.95),]"
   ]
  },
  {
   "cell_type": "code",
   "execution_count": 33,
   "metadata": {
    "collapsed": true
   },
   "outputs": [],
   "source": [
    "index <- caret::createDataPartition(y = df_model$result, p = 0.8, list = F)"
   ]
  },
  {
   "cell_type": "code",
   "execution_count": 34,
   "metadata": {
    "collapsed": true
   },
   "outputs": [],
   "source": [
    "train <- df_model[index,]\n",
    "test <- df_model[-index,]"
   ]
  },
  {
   "cell_type": "markdown",
   "metadata": {},
   "source": [
    "# Classification Models"
   ]
  },
  {
   "cell_type": "markdown",
   "metadata": {},
   "source": [
    "## Linear Models"
   ]
  },
  {
   "cell_type": "markdown",
   "metadata": {},
   "source": [
    "### Multinom"
   ]
  },
  {
   "cell_type": "code",
   "execution_count": 35,
   "metadata": {},
   "outputs": [
    {
     "name": "stdout",
     "output_type": "stream",
     "text": [
      "# weights:  342 (226 variable)\n",
      "initial  value 15776.072465 \n",
      "iter  10 value 14050.961694\n",
      "iter  20 value 13837.163131\n",
      "iter  30 value 13765.606720\n",
      "iter  40 value 13667.293979\n",
      "iter  50 value 13589.281797\n",
      "iter  60 value 13546.854082\n",
      "iter  70 value 13530.828685\n",
      "iter  80 value 13526.440738\n",
      "iter  90 value 13523.261664\n",
      "iter 100 value 13520.637527\n",
      "final  value 13520.637527 \n",
      "stopped after 100 iterations\n"
     ]
    }
   ],
   "source": [
    "fit.mult <- train %>%\n",
    "                multinom(formula = result ~ .)"
   ]
  },
  {
   "cell_type": "code",
   "execution_count": 36,
   "metadata": {},
   "outputs": [
    {
     "name": "stderr",
     "output_type": "stream",
     "text": [
      "Warning message in sqrt(diag(vc)):\n",
      "\"NaNs produced\""
     ]
    },
    {
     "data": {
      "text/plain": [
       "Call:\n",
       "multinom(formula = result ~ ., data = .)\n",
       "\n",
       "Coefficients:\n",
       "           (Intercept) is_february is_november c_ability_3 d_ability_1\n",
       "team_2_win   0.3676769 -0.05770273 0.004129931 -0.06303336   -5.394345\n",
       "tie          0.5893085  0.01593427 0.059187991 -1.13638565   -2.804251\n",
       "           d_ability_3 d_ability_4  d_form_4     d_h2h_2 team_1_nameAston Villa\n",
       "team_2_win    6.031571   -1.097106 0.2924610 -0.30101180               1.634776\n",
       "tie           7.283479   -3.762729 0.1275206 -0.03864114               0.761339\n",
       "           team_1_nameBirmingham team_1_nameBlackburn team_1_nameBlackpool\n",
       "team_2_win             0.8388550            1.0348717             1.978206\n",
       "tie                    0.5609212            0.0999535             0.329718\n",
       "           team_1_nameBolton team_1_nameBournemouth team_1_nameBrighton\n",
       "team_2_win         1.0960967              0.8033679                   0\n",
       "tie                0.1539115              0.1033317                   0\n",
       "           team_1_nameBurnley team_1_nameCardiff team_1_nameCharlton\n",
       "team_2_win          0.5182712          1.5049613          1.27041343\n",
       "tie                 0.1079427          0.2839649          0.03928047\n",
       "           team_1_nameChelsea team_1_nameCrystal Palace team_1_nameDerby\n",
       "team_2_win        -0.03852267                 1.5451575          3.81114\n",
       "tie                0.24525503                -0.3406772          2.14543\n",
       "           team_1_nameEverton team_1_nameFulham team_1_nameHuddersfield\n",
       "team_2_win          0.3531747         0.8841718                       0\n",
       "tie                -0.2172841        -0.3546000                       0\n",
       "           team_1_nameHull City team_1_nameLeeds team_1_nameLeicester\n",
       "team_2_win            1.4947952       -0.5411171           0.06504190\n",
       "tie                   0.3682617        3.1890027           0.06975845\n",
       "           team_1_nameLiverpool team_1_nameManchester City\n",
       "team_2_win          -0.32291967                 0.01561985\n",
       "tie                 -0.02293147                -0.71459347\n",
       "           team_1_nameManchester United team_1_nameMiddlesbrough\n",
       "team_2_win                   0.07194602                0.9939193\n",
       "tie                         -0.56231504                0.2105665\n",
       "           team_1_nameNewcastle Utd team_1_nameNorwich team_1_namePortsmouth\n",
       "team_2_win                0.6417246          0.4991584              1.323887\n",
       "tie                       0.1614965          0.1585217              0.361190\n",
       "           team_1_nameQPR team_1_nameReading team_1_nameSheffield Utd\n",
       "team_2_win       1.147020          1.5940592                1.4226661\n",
       "tie              0.417633          0.1400162                0.4212454\n",
       "           team_1_nameSouthampton team_1_nameStoke City team_1_nameSunderland\n",
       "team_2_win              0.4672712            0.42869797             1.5996521\n",
       "tie                     0.3506187           -0.03634844             0.4720487\n",
       "           team_1_nameSwansea team_1_nameTottenham team_1_nameWatford\n",
       "team_2_win          0.6179430            0.1100981          1.4687301\n",
       "tie                 0.2682186           -0.1716677          0.9368088\n",
       "           team_1_nameWest Brom team_1_nameWest Ham team_1_nameWigan\n",
       "team_2_win           1.16093016          1.04005580        1.8298464\n",
       "tie                  0.03184562         -0.08831606        0.6046124\n",
       "           team_1_nameWolves team_2_nameAston Villa team_2_nameBirmingham\n",
       "team_2_win         2.0332137             -0.2594400            -1.6703499\n",
       "tie                0.0744739              0.1642788            -0.5447225\n",
       "           team_2_nameBlackburn team_2_nameBlackpool team_2_nameBolton\n",
       "team_2_win           -0.6636421          -0.06721238        -0.6715825\n",
       "tie                  -0.2458692           0.10473374        -0.5435243\n",
       "           team_2_nameBournemouth team_2_nameBrighton team_2_nameBurnley\n",
       "team_2_win             -1.0931344                   0           -3.01789\n",
       "tie                    -0.4704348                   0           -1.33699\n",
       "           team_2_nameCardiff team_2_nameCharlton team_2_nameChelsea\n",
       "team_2_win          -2.635950          -1.0462199          0.2207186\n",
       "tie                 -1.246089          -0.0233992         -0.2975083\n",
       "           team_2_nameCrystal Palace team_2_nameDerby team_2_nameEverton\n",
       "team_2_win              -0.932889549       -5.2134318         -0.4418892\n",
       "tie                     -0.005714683       -0.9262391          0.4792295\n",
       "           team_2_nameFulham team_2_nameHuddersfield team_2_nameHull City\n",
       "team_2_win      -1.441744703                       0           -1.9223500\n",
       "tie              0.006396916                       0           -0.3805541\n",
       "           team_2_nameLeeds team_2_nameLeicester team_2_nameLiverpool\n",
       "team_2_win        -3.386016           -1.5211222           -0.4401332\n",
       "tie               -3.599851           -0.9198535           -0.4304908\n",
       "           team_2_nameManchester City team_2_nameManchester United\n",
       "team_2_win                 -0.6277726                    0.4582993\n",
       "tie                        -0.1954245                    0.2469373\n",
       "           team_2_nameMiddlesbrough team_2_nameNewcastle Utd team_2_nameNorwich\n",
       "team_2_win              -1.39280136               -1.1463983         -2.3691586\n",
       "tie                     -0.01122529               -0.5301283         -0.6752869\n",
       "           team_2_namePortsmouth team_2_nameQPR team_2_nameReading\n",
       "team_2_win            -1.3338014      -2.693278         -1.9303155\n",
       "tie                   -0.7250646      -1.352118         -0.8630048\n",
       "           team_2_nameSheffield Utd team_2_nameSouthampton\n",
       "team_2_win                -2.657094              -1.295518\n",
       "tie                       -2.523619              -0.519996\n",
       "           team_2_nameStoke City team_2_nameSunderland team_2_nameSwansea\n",
       "team_2_win            -1.3590584            -1.4390691         -1.1565373\n",
       "tie                   -0.2920805            -0.3723075         -0.7514658\n",
       "           team_2_nameTottenham team_2_nameWatford team_2_nameWest Brom\n",
       "team_2_win          -0.31397241          -1.429802          -1.31462281\n",
       "tie                  0.05394023          -1.294536           0.04319113\n",
       "           team_2_nameWest Ham team_2_nameWigan team_2_nameWolves\n",
       "team_2_win         -0.86950723       -0.6298155      -1.104880516\n",
       "tie                -0.09575314       -0.3099584      -0.003270662\n",
       "           team_1_match_count team_1_opponent_last_score\n",
       "team_2_win      -0.0007248187                0.032428384\n",
       "tie             -0.0002071226               -0.008820968\n",
       "           team_1_opponent_score_ema_10 team_1_opponent_score_ma_10\n",
       "team_2_win                  -0.14533361                  0.15766269\n",
       "tie                         -0.07177432                  0.09478725\n",
       "           team_1_team_last_score team_1_team_score_ema_10\n",
       "team_2_win            0.008437438              -0.18554328\n",
       "tie                   0.014300820              -0.08083706\n",
       "           team_1_team_score_ma_10 team_1_team_win_index team_1_team_loss_index\n",
       "team_2_win              0.14351575            -0.0952106           -0.029188425\n",
       "tie                     0.05209736             0.0444542            0.009783344\n",
       "           team_1_tie_index team_2_match_count team_2_opponent_last_score\n",
       "team_2_win       -0.1604907      -0.0006894127                -0.01757452\n",
       "tie              -0.5895430      -0.0001287507                -0.03197346\n",
       "           team_2_opponent_score_ema_10 team_2_opponent_score_ma_10\n",
       "team_2_win                  -0.07682467                  0.14288111\n",
       "tie                          0.01560229                  0.04529147\n",
       "           team_2_team_last_score team_2_team_score_ema_10\n",
       "team_2_win             0.02745276              -0.02422961\n",
       "tie                    0.01273327               0.11993776\n",
       "           team_2_team_score_ma_10 team_2_team_win_index team_2_team_loss_index\n",
       "team_2_win             -0.01620327           -0.06405872            -0.05249515\n",
       "tie                    -0.08140913            0.09341962             0.08364494\n",
       "           team_2_tie_index      x_year      y_year      x_week      y_week\n",
       "team_2_win       -0.2004126 -0.05486656 -0.05317072 -0.07602746 0.008622922\n",
       "tie              -0.5595473 -0.10745297 -0.06546964 -0.15959896 0.088250322\n",
       "                 x_day      y_day\n",
       "team_2_win -0.02065813 0.05814226\n",
       "tie         0.09173362 0.10711753\n",
       "\n",
       "Std. Errors:\n",
       "           (Intercept) is_february is_november c_ability_3 d_ability_1\n",
       "team_2_win   0.1672239  0.02379810  0.02462814   0.1801995  0.09088666\n",
       "tie          0.1944942  0.02226095  0.02326352   0.1960785  0.09421956\n",
       "           d_ability_3 d_ability_4   d_form_4    d_h2h_2 team_1_nameAston Villa\n",
       "team_2_win   0.0511700  0.06046000 0.04461075 0.03080640              0.1014559\n",
       "tie          0.0559196  0.06523976 0.04229150 0.02922491              0.1001416\n",
       "           team_1_nameBirmingham team_1_nameBlackburn team_1_nameBlackpool\n",
       "team_2_win             0.1649933            0.1196481            0.2121595\n",
       "tie                    0.1442232            0.1210709            0.1607910\n",
       "           team_1_nameBolton team_1_nameBournemouth team_1_nameBrighton\n",
       "team_2_win         0.1213624              0.2590877                 NaN\n",
       "tie                0.1229587              0.2842824                 NaN\n",
       "           team_1_nameBurnley team_1_nameCardiff team_1_nameCharlton\n",
       "team_2_win          0.2149102          0.1929256           0.1815389\n",
       "tie                 0.2236521          0.1696507           0.1995478\n",
       "           team_1_nameChelsea team_1_nameCrystal Palace team_1_nameDerby\n",
       "team_2_win          0.1605002                 0.1476882        0.2707219\n",
       "tie                 0.1150257                 0.1914846        0.2616076\n",
       "           team_1_nameEverton team_1_nameFulham team_1_nameHuddersfield\n",
       "team_2_win         0.10634698         0.1073784            3.343645e-10\n",
       "tie                0.09950043         0.1160299            2.015873e-16\n",
       "           team_1_nameHull City team_1_nameLeeds team_1_nameLeicester\n",
       "team_2_win            0.1577032     0.0001441996            0.1955912\n",
       "tie                   0.1702198     0.0009459462            0.1855149\n",
       "           team_1_nameLiverpool team_1_nameManchester City\n",
       "team_2_win           0.13021509                  0.1133710\n",
       "tie                  0.09867677                  0.1130853\n",
       "           team_1_nameManchester United team_1_nameMiddlesbrough\n",
       "team_2_win                    0.1399532                0.1419394\n",
       "tie                           0.1246881                0.1435554\n",
       "           team_1_nameNewcastle Utd team_1_nameNorwich team_1_namePortsmouth\n",
       "team_2_win                0.1084185          0.1644564             0.1381121\n",
       "tie                       0.1042134          0.1593915             0.1437331\n",
       "           team_1_nameQPR team_1_nameReading team_1_nameSheffield Utd\n",
       "team_2_win      0.1967560          0.1936768                0.2229060\n",
       "tie             0.2067411          0.2138306                0.1915998\n",
       "           team_1_nameSouthampton team_1_nameStoke City team_1_nameSunderland\n",
       "team_2_win              0.1488398             0.1211170             0.1081314\n",
       "tie                     0.1376828             0.1151822             0.1131670\n",
       "           team_1_nameSwansea team_1_nameTottenham team_1_nameWatford\n",
       "team_2_win          0.1457559            0.1134132          0.2245537\n",
       "tie                 0.1460841            0.1002150          0.2199163\n",
       "           team_1_nameWest Brom team_1_nameWest Ham team_1_nameWigan\n",
       "team_2_win            0.1085112           0.1007146        0.1285628\n",
       "tie                   0.1156788           0.1085304        0.1323148\n",
       "           team_1_nameWolves team_2_nameAston Villa team_2_nameBirmingham\n",
       "team_2_win         0.1890679              0.1085654             0.1790495\n",
       "tie                0.2210153              0.1025537             0.1522529\n",
       "           team_2_nameBlackburn team_2_nameBlackpool team_2_nameBolton\n",
       "team_2_win            0.1323318            0.2262016         0.1287118\n",
       "tie                   0.1258028            0.2493660         0.1337508\n",
       "           team_2_nameBournemouth team_2_nameBrighton team_2_nameBurnley\n",
       "team_2_win              0.2802393                 NaN          0.2889066\n",
       "tie                     0.2822024                 NaN          0.2299528\n",
       "           team_2_nameCardiff team_2_nameCharlton team_2_nameChelsea\n",
       "team_2_win         0.08770269           0.2386090          0.1186509\n",
       "tie                0.20553740           0.1931293          0.1343448\n",
       "           team_2_nameCrystal Palace team_2_nameDerby team_2_nameEverton\n",
       "team_2_win                 0.1626846     0.0008555635          0.1094935\n",
       "tie                        0.1557445     0.0282212855          0.1024712\n",
       "           team_2_nameFulham team_2_nameHuddersfield team_2_nameHull City\n",
       "team_2_win         0.1299581                     NaN            0.2009331\n",
       "tie                0.1048638                     NaN            0.1511203\n",
       "           team_2_nameLeeds team_2_nameLeicester team_2_nameLiverpool\n",
       "team_2_win     0.0004645094            0.1942686            0.1122118\n",
       "tie            0.0005362019            0.2044804            0.1239013\n",
       "           team_2_nameManchester City team_2_nameManchester United\n",
       "team_2_win                  0.1050493                    0.1280751\n",
       "tie                         0.1082831                    0.1380275\n",
       "           team_2_nameMiddlesbrough team_2_nameNewcastle Utd team_2_nameNorwich\n",
       "team_2_win                0.1681900                0.1108644          0.2035879\n",
       "tie                       0.1325179                0.1073222          0.1624053\n",
       "           team_2_namePortsmouth team_2_nameQPR team_2_nameReading\n",
       "team_2_win             0.1528024      0.2964269          0.2419279\n",
       "tie                    0.1443924      0.2182734          0.2113949\n",
       "           team_2_nameSheffield Utd team_2_nameSouthampton\n",
       "team_2_win                0.0162650              0.1394811\n",
       "tie                       0.0163416              0.1378242\n",
       "           team_2_nameStoke City team_2_nameSunderland team_2_nameSwansea\n",
       "team_2_win              0.131417             0.1234337          0.1423037\n",
       "tie                     0.118766             0.1085036          0.1521538\n",
       "           team_2_nameTottenham team_2_nameWatford team_2_nameWest Brom\n",
       "team_2_win            0.1059437          0.2231224            0.1308735\n",
       "tie                   0.1070088          0.2658186            0.1111939\n",
       "           team_2_nameWest Ham team_2_nameWigan team_2_nameWolves\n",
       "team_2_win           0.1103681        0.1341876         0.2314121\n",
       "tie                  0.1032172        0.1307828         0.1885996\n",
       "           team_1_match_count team_1_opponent_last_score\n",
       "team_2_win       0.0002738826                 0.02947427\n",
       "tie              0.0002687106                 0.02854894\n",
       "           team_1_opponent_score_ema_10 team_1_opponent_score_ma_10\n",
       "team_2_win                    0.1771545                   0.1536699\n",
       "tie                           0.1701311                   0.1476673\n",
       "           team_1_team_last_score team_1_team_score_ema_10\n",
       "team_2_win             0.02973106                0.1805011\n",
       "tie                    0.02853180                0.1743640\n",
       "           team_1_team_score_ma_10 team_1_team_win_index team_1_team_loss_index\n",
       "team_2_win               0.1587392             0.1223281              0.1189834\n",
       "tie                      0.1530914             0.1181268              0.1140465\n",
       "           team_1_tie_index team_2_match_count team_2_opponent_last_score\n",
       "team_2_win        0.1593304       0.0002736694                 0.02951165\n",
       "tie               0.1547656       0.0002684559                 0.02851378\n",
       "           team_2_opponent_score_ema_10 team_2_opponent_score_ma_10\n",
       "team_2_win                    0.1779023                   0.1542545\n",
       "tie                           0.1709215                   0.1484452\n",
       "           team_2_team_last_score team_2_team_score_ema_10\n",
       "team_2_win             0.02972825                0.1807494\n",
       "tie                    0.02851177                0.1740068\n",
       "           team_2_team_score_ma_10 team_2_team_win_index team_2_team_loss_index\n",
       "team_2_win               0.1590615             0.1226624              0.1190804\n",
       "tie                      0.1528868             0.1184694              0.1141376\n",
       "           team_2_tie_index     x_year     y_year     x_week     y_week\n",
       "team_2_win        0.1589300 0.04133392 0.03275665 0.05483348 0.03758525\n",
       "tie               0.1545341 0.04029042 0.03171069 0.05220762 0.03607654\n",
       "                x_day      y_day\n",
       "team_2_win 0.03426824 0.06429730\n",
       "tie        0.03439342 0.06422588\n",
       "\n",
       "Residual Deviance: 27041.28 \n",
       "AIC: 27477.28 "
      ]
     },
     "metadata": {},
     "output_type": "display_data"
    }
   ],
   "source": [
    "fit.mult %>% summary"
   ]
  },
  {
   "cell_type": "code",
   "execution_count": 38,
   "metadata": {},
   "outputs": [],
   "source": [
    "preds <- predict(fit.mult, newdata = test, type=\"probs\")"
   ]
  },
  {
   "cell_type": "code",
   "execution_count": 50,
   "metadata": {
    "collapsed": true
   },
   "outputs": [],
   "source": [
    "test$team_tie <- as.numeric(test$result == 'tie')\n",
    "test$team_1_win <- as.numeric(test$result == 'team_1_win')\n",
    "test$team_2_win <- as.numeric(test$result == 'team_2_win')\n",
    "\n",
    "test$team_tie_prob_mult_nom <- (preds %>% as.data.frame)$tie\n",
    "test$team_1_prob_mult_nom <- (preds %>% as.data.frame)$team_1_win\n",
    "test$team_2_prob_mult_nom <- (preds %>% as.data.frame)$team_2_win"
   ]
  },
  {
   "cell_type": "code",
   "execution_count": 49,
   "metadata": {},
   "outputs": [
    {
     "data": {
      "text/plain": [
       "\n",
       "Call:\n",
       "roc.default(response = test$team_tie, predictor = test$team_tie_prob_mult_nom)\n",
       "\n",
       "Data: test$team_tie_prob_mult_nom in 2676 controls (test$team_tie 0) < 912 cases (test$team_tie 1).\n",
       "Area under the curve: 0.5919"
      ]
     },
     "metadata": {},
     "output_type": "display_data"
    }
   ],
   "source": [
    "pROC::roc(response = test$team_tie, predictor = test$team_tie_prob_mult_nom)"
   ]
  },
  {
   "cell_type": "code",
   "execution_count": 51,
   "metadata": {},
   "outputs": [
    {
     "data": {
      "text/plain": [
       "\n",
       "Call:\n",
       "roc.default(response = test$team_1_win, predictor = test$team_1_prob_mult_nom)\n",
       "\n",
       "Data: test$team_1_prob_mult_nom in 1915 controls (test$team_1_win 0) < 1673 cases (test$team_1_win 1).\n",
       "Area under the curve: 0.7252"
      ]
     },
     "metadata": {},
     "output_type": "display_data"
    }
   ],
   "source": [
    "pROC::roc(response = test$team_1_win, predictor = test$team_1_prob_mult_nom)"
   ]
  },
  {
   "cell_type": "code",
   "execution_count": 52,
   "metadata": {},
   "outputs": [
    {
     "data": {
      "text/plain": [
       "\n",
       "Call:\n",
       "roc.default(response = test$team_2_win, predictor = test$team_2_prob_mult_nom)\n",
       "\n",
       "Data: test$team_2_prob_mult_nom in 2585 controls (test$team_2_win 0) < 1003 cases (test$team_2_win 1).\n",
       "Area under the curve: 0.7388"
      ]
     },
     "metadata": {},
     "output_type": "display_data"
    }
   ],
   "source": [
    "pROC::roc(response = test$team_2_win, predictor = test$team_2_prob_mult_nom)"
   ]
  },
  {
   "cell_type": "markdown",
   "metadata": {},
   "source": [
    "### pairwise logreg"
   ]
  },
  {
   "cell_type": "code",
   "execution_count": 61,
   "metadata": {},
   "outputs": [],
   "source": [
    "train$team_tie <- as.numeric(train$result == 'tie')\n",
    "train$team_1_win <- as.numeric(train$result == 'team_1_win')\n",
    "train$team_2_win <- as.numeric(train$result == 'team_2_win')\n",
    "\n",
    "\n",
    "fit.log_tie <- train %>%\n",
    "                select(-team_1_win,-team_2_win, -result) %>%\n",
    "                glm(formula = team_tie ~ ., family=\"binomial\")\n",
    "\n",
    "fit.log_team_1 <- train %>%\n",
    "                select(-team_tie,-team_2_win, -result) %>%\n",
    "                glm(formula = team_1_win ~ ., family=\"binomial\")\n",
    "\n",
    "fit.log_team_2 <- train %>%\n",
    "                select(-team_1_win,-team_tie, -result) %>%\n",
    "                glm(formula = team_2_win ~ ., family=\"binomial\")"
   ]
  },
  {
   "cell_type": "code",
   "execution_count": 74,
   "metadata": {},
   "outputs": [
    {
     "data": {
      "text/plain": [
       "\n",
       "Call:\n",
       "glm(formula = team_tie ~ ., family = \"binomial\", data = .)\n",
       "\n",
       "Deviance Residuals: \n",
       "    Min       1Q   Median       3Q      Max  \n",
       "-1.4096  -0.8020  -0.6794   1.2471   2.4286  \n",
       "\n",
       "Coefficients:\n",
       "                               Estimate Std. Error z value Pr(>|z|)    \n",
       "(Intercept)                  -3.498e-01  4.951e-01  -0.707 0.479822    \n",
       "is_february                   3.920e-02  2.046e-02   1.916 0.055417 .  \n",
       "is_november                   5.772e-02  2.110e-02   2.736 0.006219 ** \n",
       "c_ability_3                  -1.160e+00  3.264e-01  -3.554 0.000380 ***\n",
       "d_ability_1                  -7.951e-01  5.114e-01  -1.555 0.120003    \n",
       "d_ability_3                   6.581e+00  1.931e+00   3.408 0.000655 ***\n",
       "d_ability_4                  -4.835e+00  1.725e+00  -2.802 0.005077 ** \n",
       "d_form_4                      1.781e-02  5.375e-02   0.331 0.740359    \n",
       "d_h2h_2                       7.496e-02  2.865e-02   2.616 0.008895 ** \n",
       "team_1_nameAston Villa        2.555e-01  1.497e-01   1.707 0.087832 .  \n",
       "team_1_nameBirmingham         4.416e-01  1.809e-01   2.442 0.014613 *  \n",
       "team_1_nameBlackburn         -1.340e-01  1.630e-01  -0.822 0.410973    \n",
       "team_1_nameBlackpool         -3.642e-01  3.837e-01  -0.949 0.342503    \n",
       "team_1_nameBolton            -1.147e-01  1.687e-01  -0.680 0.496318    \n",
       "team_1_nameBournemouth       -4.166e-02  2.925e-01  -0.142 0.886726    \n",
       "team_1_nameBurnley            9.653e-02  2.496e-01   0.387 0.698915    \n",
       "team_1_nameCardiff           -1.950e-01  3.672e-01  -0.531 0.595412    \n",
       "team_1_nameCharlton          -2.509e-01  2.245e-01  -1.118 0.263763    \n",
       "team_1_nameChelsea            1.995e-01  1.286e-01   1.552 0.120765    \n",
       "team_1_nameCrystal Palace    -8.848e-01  2.146e-01  -4.124 3.73e-05 ***\n",
       "team_1_nameDerby             -3.036e-01  6.058e-01  -0.501 0.616296    \n",
       "team_1_nameEverton           -1.974e-01  1.462e-01  -1.350 0.176944    \n",
       "team_1_nameFulham            -4.925e-01  1.635e-01  -3.011 0.002600 ** \n",
       "team_1_nameHull City         -1.450e-01  1.917e-01  -0.756 0.449391    \n",
       "team_1_nameLeeds              1.379e+01  3.247e+02   0.042 0.966141    \n",
       "team_1_nameLeicester          2.434e-01  2.074e-01   1.174 0.240538    \n",
       "team_1_nameLiverpool          1.364e-01  1.288e-01   1.060 0.289346    \n",
       "team_1_nameManchester City   -5.981e-01  1.498e-01  -3.993 6.53e-05 ***\n",
       "team_1_nameManchester United -5.679e-01  1.369e-01  -4.147 3.37e-05 ***\n",
       "team_1_nameMiddlesbrough      6.134e-03  1.824e-01   0.034 0.973177    \n",
       "team_1_nameNewcastle Utd      8.708e-02  1.572e-01   0.554 0.579635    \n",
       "team_1_nameNorwich            1.300e-01  1.895e-01   0.686 0.492457    \n",
       "team_1_namePortsmouth         3.361e-03  1.752e-01   0.019 0.984699    \n",
       "team_1_nameQPR                9.173e-02  2.254e-01   0.407 0.684073    \n",
       "team_1_nameReading           -3.975e-01  2.275e-01  -1.747 0.080553 .  \n",
       "team_1_nameSheffield Utd      5.707e-02  3.866e-01   0.148 0.882631    \n",
       "team_1_nameSouthampton        3.734e-01  1.728e-01   2.161 0.030709 *  \n",
       "team_1_nameStoke City        -7.772e-03  1.638e-01  -0.047 0.962154    \n",
       "team_1_nameSunderland        -7.853e-03  1.531e-01  -0.051 0.959079    \n",
       "team_1_nameSwansea            2.210e-01  1.795e-01   1.231 0.218314    \n",
       "team_1_nameTottenham         -1.053e-01  1.405e-01  -0.749 0.453587    \n",
       "team_1_nameWatford            5.383e-01  2.238e-01   2.406 0.016135 *  \n",
       "team_1_nameWest Brom         -2.679e-01  1.624e-01  -1.650 0.098961 .  \n",
       "team_1_nameWest Ham          -3.308e-01  1.548e-01  -2.136 0.032672 *  \n",
       "team_1_nameWigan              1.980e-02  1.734e-01   0.114 0.909094    \n",
       "team_1_nameWolves            -6.475e-01  2.434e-01  -2.661 0.007798 ** \n",
       "team_2_nameAston Villa        3.295e-01  1.439e-01   2.290 0.022022 *  \n",
       "team_2_nameBirmingham         8.856e-02  2.022e-01   0.438 0.661466    \n",
       "team_2_nameBlackburn          8.787e-02  1.613e-01   0.545 0.585813    \n",
       "team_2_nameBlackpool          1.902e-01  4.118e-01   0.462 0.644134    \n",
       "team_2_nameBolton            -2.001e-01  1.663e-01  -1.204 0.228700    \n",
       "team_2_nameBournemouth        1.395e-02  2.995e-01   0.047 0.962854    \n",
       "team_2_nameBurnley           -3.287e-01  3.048e-01  -1.078 0.280815    \n",
       "team_2_nameCardiff           -2.816e-01  4.472e-01  -0.630 0.528920    \n",
       "team_2_nameCharlton           4.273e-01  2.268e-01   1.884 0.059527 .  \n",
       "team_2_nameChelsea           -4.805e-01  1.304e-01  -3.683 0.000230 ***\n",
       "team_2_nameCrystal Palace     4.377e-01  2.076e-01   2.108 0.035029 *  \n",
       "team_2_nameDerby              1.391e-02  6.931e-01   0.020 0.983989    \n",
       "team_2_nameEverton            7.353e-01  1.325e-01   5.549 2.87e-08 ***\n",
       "team_2_nameFulham             5.950e-01  1.676e-01   3.549 0.000386 ***\n",
       "team_2_nameHull City          2.811e-01  2.096e-01   1.341 0.179836    \n",
       "team_2_nameLeeds             -1.152e+01  1.429e+02  -0.081 0.935747    \n",
       "team_2_nameLeicester         -2.052e-01  2.324e-01  -0.883 0.377199    \n",
       "team_2_nameLiverpool         -2.454e-01  1.273e-01  -1.927 0.053982 .  \n",
       "team_2_nameManchester City    7.795e-02  1.335e-01   0.584 0.559361    \n",
       "team_2_nameManchester United -4.949e-02  1.242e-01  -0.398 0.690293    \n",
       "team_2_nameMiddlesbrough      5.395e-01  1.765e-01   3.057 0.002239 ** \n",
       "team_2_nameNewcastle Utd     -4.832e-02  1.540e-01  -0.314 0.753724    \n",
       "team_2_nameNorwich            2.071e-01  2.291e-01   0.904 0.365978    \n",
       "team_2_namePortsmouth        -1.770e-01  1.893e-01  -0.935 0.349749    \n",
       "team_2_nameQPR               -6.003e-01  2.690e-01  -2.231 0.025676 *  \n",
       "team_2_nameReading           -1.660e-01  2.485e-01  -0.668 0.504000    \n",
       "team_2_nameSheffield Utd     -1.543e+00  5.513e-01  -2.799 0.005122 ** \n",
       "team_2_nameSouthampton        6.303e-02  1.820e-01   0.346 0.729159    \n",
       "team_2_nameStoke City         3.051e-01  1.832e-01   1.665 0.095957 .  \n",
       "team_2_nameSunderland         2.253e-01  1.835e-01   1.228 0.219339    \n",
       "team_2_nameSwansea           -2.447e-01  1.918e-01  -1.276 0.202040    \n",
       "team_2_nameTottenham          2.332e-01  1.271e-01   1.835 0.066472 .  \n",
       "team_2_nameWatford           -6.879e-01  3.114e-01  -2.209 0.027146 *  \n",
       "team_2_nameWest Brom          5.970e-01  1.821e-01   3.278 0.001045 ** \n",
       "team_2_nameWest Ham           3.060e-01  1.527e-01   2.004 0.045072 *  \n",
       "team_2_nameWigan             -5.692e-03  1.802e-01  -0.032 0.974801    \n",
       "team_2_nameWolves             4.488e-01  2.403e-01   1.868 0.061775 .  \n",
       "team_1_match_count            7.324e-05  2.524e-04   0.290 0.771698    \n",
       "team_1_opponent_last_score   -2.188e-02  2.603e-02  -0.841 0.400603    \n",
       "team_1_opponent_score_ema_10 -6.568e-03  1.555e-01  -0.042 0.966308    \n",
       "team_1_opponent_score_ma_10   2.850e-02  1.348e-01   0.211 0.832509    \n",
       "team_1_team_last_score        1.206e-02  2.595e-02   0.465 0.642151    \n",
       "team_1_team_score_ema_10     -1.629e-02  1.582e-01  -0.103 0.918005    \n",
       "team_1_team_score_ma_10      -1.278e-02  1.391e-01  -0.092 0.926774    \n",
       "team_1_team_win_index         4.171e-02  1.291e-01   0.323 0.746579    \n",
       "team_1_team_loss_index        1.155e-02  1.242e-01   0.093 0.925919    \n",
       "team_1_tie_index             -5.654e-01  1.597e-01  -3.540 0.000400 ***\n",
       "team_2_match_count            1.261e-04  2.529e-04   0.499 0.618023    \n",
       "team_2_opponent_last_score   -2.466e-02  2.603e-02  -0.947 0.343442    \n",
       "team_2_opponent_score_ema_10  3.636e-02  1.562e-01   0.233 0.815947    \n",
       "team_2_opponent_score_ma_10  -8.056e-04  1.355e-01  -0.006 0.995256    \n",
       "team_2_team_last_score        4.838e-03  2.589e-02   0.187 0.851782    \n",
       "team_2_team_score_ema_10      1.184e-01  1.579e-01   0.750 0.453324    \n",
       "team_2_team_score_ma_10      -8.071e-02  1.389e-01  -0.581 0.561173    \n",
       "team_2_team_win_index         9.064e-02  1.295e-01   0.700 0.484054    \n",
       "team_2_team_loss_index        1.051e-01  1.244e-01   0.845 0.398374    \n",
       "team_2_tie_index             -5.189e-01  1.599e-01  -3.246 0.001171 ** \n",
       "x_year                       -9.104e-02  3.677e-02  -2.476 0.013285 *  \n",
       "y_year                       -4.760e-02  2.896e-02  -1.644 0.100173    \n",
       "x_week                       -1.021e-01  4.749e-02  -2.150 0.031557 *  \n",
       "y_week                        8.514e-02  3.284e-02   2.593 0.009523 ** \n",
       "x_day                         1.155e-01  3.136e-02   3.683 0.000230 ***\n",
       "y_day                         6.316e-02  5.775e-02   1.094 0.274062    \n",
       "---\n",
       "Signif. codes:  0 '***' 0.001 '**' 0.01 '*' 0.05 '.' 0.1 ' ' 1\n",
       "\n",
       "(Dispersion parameter for binomial family taken to be 1)\n",
       "\n",
       "    Null deviance: 16276  on 14359  degrees of freedom\n",
       "Residual deviance: 15768  on 14251  degrees of freedom\n",
       "AIC: 15986\n",
       "\n",
       "Number of Fisher Scoring iterations: 11\n"
      ]
     },
     "metadata": {},
     "output_type": "display_data"
    }
   ],
   "source": [
    "fit.log_tie %>% summary"
   ]
  },
  {
   "cell_type": "code",
   "execution_count": 68,
   "metadata": {},
   "outputs": [],
   "source": [
    "pred_tie_log <- predict(fit.log_tie, newdata = test, type=\"response\")\n",
    "pred_team_1_log <- predict(fit.log_team_1, newdata = test, type=\"response\")\n",
    "pred_team_2_log <- predict(fit.log_team_2, newdata = test, type=\"response\")"
   ]
  },
  {
   "cell_type": "code",
   "execution_count": 69,
   "metadata": {},
   "outputs": [],
   "source": [
    "test$pred_tie_log <- pred_tie_log\n",
    "test$pred_team_1_log <- pred_team_1_log\n",
    "test$pred_team_2_log <- pred_team_2_log"
   ]
  },
  {
   "cell_type": "code",
   "execution_count": 70,
   "metadata": {},
   "outputs": [
    {
     "data": {
      "text/plain": [
       "\n",
       "Call:\n",
       "roc.default(response = test$team_tie, predictor = test$pred_tie_log)\n",
       "\n",
       "Data: test$pred_tie_log in 2676 controls (test$team_tie 0) < 912 cases (test$team_tie 1).\n",
       "Area under the curve: 0.5785"
      ]
     },
     "metadata": {},
     "output_type": "display_data"
    }
   ],
   "source": [
    "pROC::roc(response = test$team_tie, predictor = test$pred_tie_log)"
   ]
  },
  {
   "cell_type": "code",
   "execution_count": 71,
   "metadata": {},
   "outputs": [
    {
     "data": {
      "text/plain": [
       "\n",
       "Call:\n",
       "roc.default(response = test$team_1_win, predictor = test$pred_team_1_log)\n",
       "\n",
       "Data: test$pred_team_1_log in 1915 controls (test$team_1_win 0) < 1673 cases (test$team_1_win 1).\n",
       "Area under the curve: 0.7258"
      ]
     },
     "metadata": {},
     "output_type": "display_data"
    }
   ],
   "source": [
    "pROC::roc(response = test$team_1_win, predictor = test$pred_team_1_log)"
   ]
  },
  {
   "cell_type": "code",
   "execution_count": 72,
   "metadata": {},
   "outputs": [
    {
     "data": {
      "text/plain": [
       "\n",
       "Call:\n",
       "roc.default(response = test$team_2_win, predictor = test$pred_team_2_log)\n",
       "\n",
       "Data: test$pred_team_2_log in 2585 controls (test$team_2_win 0) < 1003 cases (test$team_2_win 1).\n",
       "Area under the curve: 0.7391"
      ]
     },
     "metadata": {},
     "output_type": "display_data"
    }
   ],
   "source": [
    "pROC::roc(response = test$team_2_win, predictor = test$pred_team_2_log)"
   ]
  },
  {
   "cell_type": "markdown",
   "metadata": {},
   "source": [
    "## Non Linear Models"
   ]
  },
  {
   "cell_type": "markdown",
   "metadata": {},
   "source": [
    "### D Tree (excl. team name factors)"
   ]
  },
  {
   "cell_type": "code",
   "execution_count": 98,
   "metadata": {},
   "outputs": [],
   "source": [
    "train <- df_model[index,]\n",
    "test <- df_model[-index,]\n",
    "\n",
    "fit.tree <- train %>%\n",
    "                select(-team_1_name, -team_2_name) %>% # rpart isn't very efficient with 'large' factors\n",
    "                rpart(formula = result ~ .\n",
    "                      , parms =  list(split = \"information\")\n",
    "                      , control = rpart.control(\n",
    "                                minsplit = 20\n",
    "                              , cp = 0.001\n",
    "                              #, maxcompete = 4\n",
    "                              #, maxsurrogate = 5\n",
    "                              #, usesurrogate = 2\n",
    "                              #, xval = 10\n",
    "                              #, surrogatestyle = 0\n",
    "                              #, maxdepth = 30\n",
    "                      )\n",
    "                     )"
   ]
  },
  {
   "cell_type": "code",
   "execution_count": 102,
   "metadata": {},
   "outputs": [],
   "source": [
    "#fit.tree %>% summary"
   ]
  },
  {
   "cell_type": "code",
   "execution_count": 101,
   "metadata": {},
   "outputs": [],
   "source": [
    "#rpart.plot(fit.tree)"
   ]
  },
  {
   "cell_type": "code",
   "execution_count": 117,
   "metadata": {},
   "outputs": [],
   "source": [
    "preds <- predict(fit.tree, newdata = test, type=\"prob\") %>% as.data.frame"
   ]
  },
  {
   "cell_type": "code",
   "execution_count": 120,
   "metadata": {
    "collapsed": true
   },
   "outputs": [],
   "source": [
    "test$team_tie <- as.numeric(test$result == 'tie')\n",
    "test$team_1_win <- as.numeric(test$result == 'team_1_win')\n",
    "test$team_2_win <- as.numeric(test$result == 'team_2_win')\n",
    "\n",
    "test$team_tie_prob_dtree <- (preds %>% as.data.frame)$tie\n",
    "test$team_1_prob_dtree <- (preds %>% as.data.frame)$team_1_win\n",
    "test$team_2_prob_dtree <- (preds %>% as.data.frame)$team_2_win"
   ]
  },
  {
   "cell_type": "code",
   "execution_count": 121,
   "metadata": {},
   "outputs": [
    {
     "data": {
      "text/plain": [
       "\n",
       "Call:\n",
       "roc.default(response = test$team_tie, predictor = test$team_tie_prob_dtree)\n",
       "\n",
       "Data: test$team_tie_prob_dtree in 2676 controls (test$team_tie 0) < 912 cases (test$team_tie 1).\n",
       "Area under the curve: 0.6416"
      ]
     },
     "metadata": {},
     "output_type": "display_data"
    }
   ],
   "source": [
    "pROC::roc(response = test$team_tie, predictor = test$team_tie_prob_dtree)"
   ]
  },
  {
   "cell_type": "code",
   "execution_count": 122,
   "metadata": {},
   "outputs": [
    {
     "data": {
      "text/plain": [
       "\n",
       "Call:\n",
       "roc.default(response = test$team_1_win, predictor = test$team_1_prob_dtree)\n",
       "\n",
       "Data: test$team_1_prob_dtree in 1915 controls (test$team_1_win 0) < 1673 cases (test$team_1_win 1).\n",
       "Area under the curve: 0.7377"
      ]
     },
     "metadata": {},
     "output_type": "display_data"
    }
   ],
   "source": [
    "pROC::roc(response = test$team_1_win, predictor = test$team_1_prob_dtree)"
   ]
  },
  {
   "cell_type": "code",
   "execution_count": 123,
   "metadata": {
    "scrolled": true
   },
   "outputs": [
    {
     "data": {
      "text/plain": [
       "\n",
       "Call:\n",
       "roc.default(response = test$team_2_win, predictor = test$team_2_prob_dtree)\n",
       "\n",
       "Data: test$team_2_prob_dtree in 2585 controls (test$team_2_win 0) < 1003 cases (test$team_2_win 1).\n",
       "Area under the curve: 0.7555"
      ]
     },
     "metadata": {},
     "output_type": "display_data"
    }
   ],
   "source": [
    "pROC::roc(response = test$team_2_win, predictor = test$team_2_prob_dtree)"
   ]
  },
  {
   "cell_type": "markdown",
   "metadata": {},
   "source": [
    "### Random Forest"
   ]
  },
  {
   "cell_type": "code",
   "execution_count": 127,
   "metadata": {},
   "outputs": [],
   "source": [
    "# train <- df_model[index,]\n",
    "# test <- df_model[-index,]\n",
    "\n",
    "# fit.forest <- train %>%\n",
    "#                 select(-team_1_name, -team_2_name) %>% # rpart isn't very efficient with 'large' factors\n",
    "#                 randomForest(formula = result ~ .\n",
    "#                      )"
   ]
  },
  {
   "cell_type": "code",
   "execution_count": 131,
   "metadata": {},
   "outputs": [],
   "source": [
    "# fit.forest %>% summary"
   ]
  },
  {
   "cell_type": "markdown",
   "metadata": {},
   "source": [
    "### Xgboost"
   ]
  },
  {
   "cell_type": "code",
   "execution_count": 169,
   "metadata": {},
   "outputs": [],
   "source": [
    "sparse_matrix <- sparse.model.matrix(result ~ .-1, data = df_model)\n",
    "\n",
    "sparse_matrix_train <- sparse_matrix[as.vector(index), ,]\n",
    "sparse_matrix_test <- sparse_matrix[-as.vector(index), ,]"
   ]
  },
  {
   "cell_type": "code",
   "execution_count": 173,
   "metadata": {
    "collapsed": true
   },
   "outputs": [],
   "source": [
    "label <- as.numeric(df_model$result)-1"
   ]
  },
  {
   "cell_type": "code",
   "execution_count": 187,
   "metadata": {},
   "outputs": [
    {
     "data": {
      "text/html": [
       "<ol class=list-inline>\n",
       "\t<li>team_1_win</li>\n",
       "\t<li>team_2_win</li>\n",
       "\t<li>tie</li>\n",
       "\t<li>team_2_win</li>\n",
       "\t<li>team_1_win</li>\n",
       "\t<li>tie</li>\n",
       "\t<li>tie</li>\n",
       "\t<li>tie</li>\n",
       "\t<li>tie</li>\n",
       "\t<li>team_1_win</li>\n",
       "\t<li>team_1_win</li>\n",
       "\t<li>team_1_win</li>\n",
       "\t<li>team_1_win</li>\n",
       "\t<li>tie</li>\n",
       "\t<li>tie</li>\n",
       "</ol>\n"
      ],
      "text/latex": [
       "\\begin{enumerate*}\n",
       "\\item team\\_1\\_win\n",
       "\\item team\\_2\\_win\n",
       "\\item tie\n",
       "\\item team\\_2\\_win\n",
       "\\item team\\_1\\_win\n",
       "\\item tie\n",
       "\\item tie\n",
       "\\item tie\n",
       "\\item tie\n",
       "\\item team\\_1\\_win\n",
       "\\item team\\_1\\_win\n",
       "\\item team\\_1\\_win\n",
       "\\item team\\_1\\_win\n",
       "\\item tie\n",
       "\\item tie\n",
       "\\end{enumerate*}\n"
      ],
      "text/markdown": [
       "1. team_1_win\n",
       "2. team_2_win\n",
       "3. tie\n",
       "4. team_2_win\n",
       "5. team_1_win\n",
       "6. tie\n",
       "7. tie\n",
       "8. tie\n",
       "9. tie\n",
       "10. team_1_win\n",
       "11. team_1_win\n",
       "12. team_1_win\n",
       "13. team_1_win\n",
       "14. tie\n",
       "15. tie\n",
       "\n",
       "\n"
      ],
      "text/plain": [
       " [1] team_1_win team_2_win tie        team_2_win team_1_win tie       \n",
       " [7] tie        tie        tie        team_1_win team_1_win team_1_win\n",
       "[13] team_1_win tie        tie       \n",
       "Levels: team_1_win team_2_win tie"
      ]
     },
     "metadata": {},
     "output_type": "display_data"
    }
   ],
   "source": [
    "df_model$result[1:15]"
   ]
  },
  {
   "cell_type": "code",
   "execution_count": 188,
   "metadata": {},
   "outputs": [
    {
     "data": {
      "text/html": [
       "<ol class=list-inline>\n",
       "\t<li>0</li>\n",
       "\t<li>1</li>\n",
       "\t<li>2</li>\n",
       "\t<li>1</li>\n",
       "\t<li>0</li>\n",
       "\t<li>2</li>\n",
       "\t<li>2</li>\n",
       "\t<li>2</li>\n",
       "\t<li>2</li>\n",
       "\t<li>0</li>\n",
       "\t<li>0</li>\n",
       "\t<li>0</li>\n",
       "\t<li>0</li>\n",
       "\t<li>2</li>\n",
       "\t<li>2</li>\n",
       "</ol>\n"
      ],
      "text/latex": [
       "\\begin{enumerate*}\n",
       "\\item 0\n",
       "\\item 1\n",
       "\\item 2\n",
       "\\item 1\n",
       "\\item 0\n",
       "\\item 2\n",
       "\\item 2\n",
       "\\item 2\n",
       "\\item 2\n",
       "\\item 0\n",
       "\\item 0\n",
       "\\item 0\n",
       "\\item 0\n",
       "\\item 2\n",
       "\\item 2\n",
       "\\end{enumerate*}\n"
      ],
      "text/markdown": [
       "1. 0\n",
       "2. 1\n",
       "3. 2\n",
       "4. 1\n",
       "5. 0\n",
       "6. 2\n",
       "7. 2\n",
       "8. 2\n",
       "9. 2\n",
       "10. 0\n",
       "11. 0\n",
       "12. 0\n",
       "13. 0\n",
       "14. 2\n",
       "15. 2\n",
       "\n",
       "\n"
      ],
      "text/plain": [
       " [1] 0 1 2 1 0 2 2 2 2 0 0 0 0 2 2"
      ]
     },
     "metadata": {},
     "output_type": "display_data"
    }
   ],
   "source": [
    "label[1:15]"
   ]
  },
  {
   "cell_type": "code",
   "execution_count": 176,
   "metadata": {
    "collapsed": true
   },
   "outputs": [],
   "source": [
    "train_label <- label[index]\n",
    "test_label <- label[-index]"
   ]
  },
  {
   "cell_type": "code",
   "execution_count": 178,
   "metadata": {},
   "outputs": [
    {
     "name": "stdout",
     "output_type": "stream",
     "text": [
      "[1]\ttrain-mlogloss:1.059615 \n",
      "[2]\ttrain-mlogloss:1.023653 \n",
      "[3]\ttrain-mlogloss:0.993390 \n",
      "[4]\ttrain-mlogloss:0.968390 \n",
      "[5]\ttrain-mlogloss:0.943642 \n",
      "[6]\ttrain-mlogloss:0.917093 \n",
      "[7]\ttrain-mlogloss:0.894182 \n",
      "[8]\ttrain-mlogloss:0.873009 \n",
      "[9]\ttrain-mlogloss:0.852926 \n",
      "[10]\ttrain-mlogloss:0.837225 \n",
      "[11]\ttrain-mlogloss:0.823549 \n",
      "[12]\ttrain-mlogloss:0.810765 \n",
      "[13]\ttrain-mlogloss:0.793902 \n",
      "[14]\ttrain-mlogloss:0.776414 \n",
      "[15]\ttrain-mlogloss:0.764874 \n",
      "[16]\ttrain-mlogloss:0.752564 \n",
      "[17]\ttrain-mlogloss:0.739220 \n",
      "[18]\ttrain-mlogloss:0.728563 \n",
      "[19]\ttrain-mlogloss:0.717959 \n",
      "[20]\ttrain-mlogloss:0.709159 \n",
      "[21]\ttrain-mlogloss:0.700949 \n",
      "[22]\ttrain-mlogloss:0.691296 \n",
      "[23]\ttrain-mlogloss:0.682693 \n",
      "[24]\ttrain-mlogloss:0.674318 \n",
      "[25]\ttrain-mlogloss:0.665528 \n",
      "[26]\ttrain-mlogloss:0.657604 \n",
      "[27]\ttrain-mlogloss:0.649091 \n",
      "[28]\ttrain-mlogloss:0.640728 \n",
      "[29]\ttrain-mlogloss:0.634544 \n",
      "[30]\ttrain-mlogloss:0.626369 \n",
      "[31]\ttrain-mlogloss:0.617973 \n",
      "[32]\ttrain-mlogloss:0.609972 \n",
      "[33]\ttrain-mlogloss:0.603002 \n",
      "[34]\ttrain-mlogloss:0.598928 \n",
      "[35]\ttrain-mlogloss:0.591372 \n",
      "[36]\ttrain-mlogloss:0.584873 \n",
      "[37]\ttrain-mlogloss:0.579750 \n",
      "[38]\ttrain-mlogloss:0.573900 \n",
      "[39]\ttrain-mlogloss:0.567560 \n",
      "[40]\ttrain-mlogloss:0.562383 \n",
      "[41]\ttrain-mlogloss:0.557605 \n",
      "[42]\ttrain-mlogloss:0.552679 \n",
      "[43]\ttrain-mlogloss:0.548220 \n",
      "[44]\ttrain-mlogloss:0.542297 \n",
      "[45]\ttrain-mlogloss:0.537537 \n",
      "[46]\ttrain-mlogloss:0.532758 \n",
      "[47]\ttrain-mlogloss:0.527617 \n",
      "[48]\ttrain-mlogloss:0.523388 \n",
      "[49]\ttrain-mlogloss:0.517838 \n",
      "[50]\ttrain-mlogloss:0.512130 \n"
     ]
    }
   ],
   "source": [
    "xgb <- xgboost(data = data.matrix(sparse_matrix_train), label = train_label,\n",
    "            booster = 'gbtree',\n",
    "             eta = 0.1,\n",
    "             gamma = 0.01,\n",
    "             max_depth = 10, \n",
    "             subsample = 0.5,\n",
    "             colsample_bytree = 0.5,\n",
    "             seed = 1,\n",
    "             eval_metric = \"mlogloss\",\n",
    "             #num_parallel_tree,\n",
    "             num_class = 3,\n",
    "             nthread = 8,\n",
    "             nround=50,\n",
    "             #feval\n",
    "              objective = \"multi:softprob\")"
   ]
  },
  {
   "cell_type": "code",
   "execution_count": 179,
   "metadata": {
    "collapsed": true
   },
   "outputs": [],
   "source": [
    "pred <- predict(xgb, data.matrix(sparse_matrix_test), type=\"probs\")"
   ]
  },
  {
   "cell_type": "code",
   "execution_count": 194,
   "metadata": {},
   "outputs": [],
   "source": [
    "pred_team_tie <- pred[seq(3,length(pred)+2,3)]\n",
    "pred_team_1 <- pred[seq(1,length(pred),3)]\n",
    "pred_team_2 <- pred[seq(2,length(pred)+1,3)]"
   ]
  },
  {
   "cell_type": "code",
   "execution_count": 195,
   "metadata": {
    "collapsed": true
   },
   "outputs": [],
   "source": [
    "test$team_tie <- as.numeric(test$result == 'tie')\n",
    "test$team_1_win <- as.numeric(test$result == 'team_1_win')\n",
    "test$team_2_win <- as.numeric(test$result == 'team_2_win')\n",
    "\n",
    "test$team_tie_prob_xgb_tree <- pred_team_tie\n",
    "test$team_1_prob_xgb_tree <- pred_team_1\n",
    "test$team_2_prob_xgb_tree <- pred_team_2"
   ]
  },
  {
   "cell_type": "code",
   "execution_count": 196,
   "metadata": {},
   "outputs": [
    {
     "data": {
      "text/plain": [
       "\n",
       "Call:\n",
       "roc.default(response = test$team_tie, predictor = test$team_tie_prob_xgb_tree)\n",
       "\n",
       "Data: test$team_tie_prob_xgb_tree in 2676 controls (test$team_tie 0) < 912 cases (test$team_tie 1).\n",
       "Area under the curve: 0.9302"
      ]
     },
     "metadata": {},
     "output_type": "display_data"
    }
   ],
   "source": [
    "pROC::roc(response = test$team_tie, predictor = test$team_tie_prob_xgb_tree)"
   ]
  },
  {
   "cell_type": "code",
   "execution_count": 197,
   "metadata": {},
   "outputs": [
    {
     "data": {
      "text/plain": [
       "\n",
       "Call:\n",
       "roc.default(response = test$team_1_win, predictor = test$team_1_prob_xgb_tree)\n",
       "\n",
       "Data: test$team_1_prob_xgb_tree in 1915 controls (test$team_1_win 0) < 1673 cases (test$team_1_win 1).\n",
       "Area under the curve: 0.9097"
      ]
     },
     "metadata": {},
     "output_type": "display_data"
    }
   ],
   "source": [
    "pROC::roc(response = test$team_1_win, predictor = test$team_1_prob_xgb_tree)"
   ]
  },
  {
   "cell_type": "code",
   "execution_count": 198,
   "metadata": {
    "scrolled": true
   },
   "outputs": [
    {
     "data": {
      "text/plain": [
       "\n",
       "Call:\n",
       "roc.default(response = test$team_2_win, predictor = test$team_2_prob_xgb_tree)\n",
       "\n",
       "Data: test$team_2_prob_xgb_tree in 2585 controls (test$team_2_win 0) < 1003 cases (test$team_2_win 1).\n",
       "Area under the curve: 0.9181"
      ]
     },
     "metadata": {},
     "output_type": "display_data"
    }
   ],
   "source": [
    "pROC::roc(response = test$team_2_win, predictor = test$team_2_prob_xgb_tree)"
   ]
  },
  {
   "cell_type": "markdown",
   "metadata": {},
   "source": [
    "### Results are surprisingly good. Try on hold out"
   ]
  },
  {
   "cell_type": "code",
   "execution_count": 200,
   "metadata": {
    "collapsed": true
   },
   "outputs": [],
   "source": [
    "sparse_matrix_holdout <- sparse.model.matrix(result ~ .-1, data = holdout)"
   ]
  },
  {
   "cell_type": "code",
   "execution_count": 201,
   "metadata": {
    "collapsed": true
   },
   "outputs": [],
   "source": [
    "label <- as.numeric(holdout$result)-1"
   ]
  },
  {
   "cell_type": "code",
   "execution_count": 204,
   "metadata": {},
   "outputs": [
    {
     "data": {
      "text/html": [
       "<ol class=list-inline>\n",
       "\t<li>team_1_win</li>\n",
       "\t<li>team_1_win</li>\n",
       "\t<li>tie</li>\n",
       "\t<li>tie</li>\n",
       "\t<li>tie</li>\n",
       "\t<li>tie</li>\n",
       "\t<li>team_2_win</li>\n",
       "\t<li>team_2_win</li>\n",
       "\t<li>team_2_win</li>\n",
       "\t<li>team_2_win</li>\n",
       "\t<li>team_2_win</li>\n",
       "\t<li>team_2_win</li>\n",
       "\t<li>team_2_win</li>\n",
       "\t<li>team_2_win</li>\n",
       "\t<li>team_1_win</li>\n",
       "</ol>\n"
      ],
      "text/latex": [
       "\\begin{enumerate*}\n",
       "\\item team\\_1\\_win\n",
       "\\item team\\_1\\_win\n",
       "\\item tie\n",
       "\\item tie\n",
       "\\item tie\n",
       "\\item tie\n",
       "\\item team\\_2\\_win\n",
       "\\item team\\_2\\_win\n",
       "\\item team\\_2\\_win\n",
       "\\item team\\_2\\_win\n",
       "\\item team\\_2\\_win\n",
       "\\item team\\_2\\_win\n",
       "\\item team\\_2\\_win\n",
       "\\item team\\_2\\_win\n",
       "\\item team\\_1\\_win\n",
       "\\end{enumerate*}\n"
      ],
      "text/markdown": [
       "1. team_1_win\n",
       "2. team_1_win\n",
       "3. tie\n",
       "4. tie\n",
       "5. tie\n",
       "6. tie\n",
       "7. team_2_win\n",
       "8. team_2_win\n",
       "9. team_2_win\n",
       "10. team_2_win\n",
       "11. team_2_win\n",
       "12. team_2_win\n",
       "13. team_2_win\n",
       "14. team_2_win\n",
       "15. team_1_win\n",
       "\n",
       "\n"
      ],
      "text/plain": [
       " [1] team_1_win team_1_win tie        tie        tie        tie       \n",
       " [7] team_2_win team_2_win team_2_win team_2_win team_2_win team_2_win\n",
       "[13] team_2_win team_2_win team_1_win\n",
       "Levels: team_1_win team_2_win tie"
      ]
     },
     "metadata": {},
     "output_type": "display_data"
    }
   ],
   "source": [
    "holdout$result[1:15]"
   ]
  },
  {
   "cell_type": "code",
   "execution_count": 203,
   "metadata": {},
   "outputs": [
    {
     "data": {
      "text/html": [
       "<ol class=list-inline>\n",
       "\t<li>0</li>\n",
       "\t<li>0</li>\n",
       "\t<li>2</li>\n",
       "\t<li>2</li>\n",
       "\t<li>2</li>\n",
       "\t<li>2</li>\n",
       "\t<li>1</li>\n",
       "\t<li>1</li>\n",
       "\t<li>1</li>\n",
       "\t<li>1</li>\n",
       "\t<li>1</li>\n",
       "\t<li>1</li>\n",
       "\t<li>1</li>\n",
       "\t<li>1</li>\n",
       "\t<li>0</li>\n",
       "</ol>\n"
      ],
      "text/latex": [
       "\\begin{enumerate*}\n",
       "\\item 0\n",
       "\\item 0\n",
       "\\item 2\n",
       "\\item 2\n",
       "\\item 2\n",
       "\\item 2\n",
       "\\item 1\n",
       "\\item 1\n",
       "\\item 1\n",
       "\\item 1\n",
       "\\item 1\n",
       "\\item 1\n",
       "\\item 1\n",
       "\\item 1\n",
       "\\item 0\n",
       "\\end{enumerate*}\n"
      ],
      "text/markdown": [
       "1. 0\n",
       "2. 0\n",
       "3. 2\n",
       "4. 2\n",
       "5. 2\n",
       "6. 2\n",
       "7. 1\n",
       "8. 1\n",
       "9. 1\n",
       "10. 1\n",
       "11. 1\n",
       "12. 1\n",
       "13. 1\n",
       "14. 1\n",
       "15. 0\n",
       "\n",
       "\n"
      ],
      "text/plain": [
       " [1] 0 0 2 2 2 2 1 1 1 1 1 1 1 1 0"
      ]
     },
     "metadata": {},
     "output_type": "display_data"
    }
   ],
   "source": [
    "label[1:15]"
   ]
  },
  {
   "cell_type": "code",
   "execution_count": 205,
   "metadata": {
    "collapsed": true
   },
   "outputs": [],
   "source": [
    "pred_holdout <- predict(xgb, data.matrix(sparse_matrix_holdout), type=\"probs\")"
   ]
  },
  {
   "cell_type": "code",
   "execution_count": 206,
   "metadata": {
    "collapsed": true
   },
   "outputs": [],
   "source": [
    "holdout_pred_team_tie <- pred_holdout[seq(3,length(pred_holdout)+2,3)]\n",
    "holdout_pred_team_1 <- pred_holdout[seq(1,length(pred_holdout),3)]\n",
    "holdout_pred_team_2 <- pred_holdout[seq(2,length(pred_holdout)+1,3)]"
   ]
  },
  {
   "cell_type": "code",
   "execution_count": 208,
   "metadata": {
    "collapsed": true
   },
   "outputs": [],
   "source": [
    "holdout$team_tie <- as.numeric(holdout$result == 'tie')\n",
    "holdout$team_1_win <- as.numeric(holdout$result == 'team_1_win')\n",
    "holdout$team_2_win <- as.numeric(holdout$result == 'team_2_win')\n",
    "\n",
    "holdout$team_tie_prob_xgb_tree <- holdout_pred_team_tie\n",
    "holdout$team_1_prob_xgb_tree <- holdout_pred_team_1\n",
    "holdout$team_2_prob_xgb_tree <- holdout_pred_team_2"
   ]
  },
  {
   "cell_type": "code",
   "execution_count": 209,
   "metadata": {},
   "outputs": [
    {
     "data": {
      "text/plain": [
       "\n",
       "Call:\n",
       "roc.default(response = holdout$team_tie, predictor = holdout$team_tie_prob_xgb_tree)\n",
       "\n",
       "Data: holdout$team_tie_prob_xgb_tree in 732 controls (holdout$team_tie 0) < 214 cases (holdout$team_tie 1).\n",
       "Area under the curve: 0.61"
      ]
     },
     "metadata": {},
     "output_type": "display_data"
    }
   ],
   "source": [
    "pROC::roc(response = holdout$team_tie, predictor = holdout$team_tie_prob_xgb_tree)"
   ]
  },
  {
   "cell_type": "code",
   "execution_count": 210,
   "metadata": {},
   "outputs": [
    {
     "data": {
      "text/plain": [
       "\n",
       "Call:\n",
       "roc.default(response = holdout$team_1_win, predictor = holdout$team_1_prob_xgb_tree)\n",
       "\n",
       "Data: holdout$team_1_prob_xgb_tree in 512 controls (holdout$team_1_win 0) < 434 cases (holdout$team_1_win 1).\n",
       "Area under the curve: 0.7719"
      ]
     },
     "metadata": {},
     "output_type": "display_data"
    }
   ],
   "source": [
    "pROC::roc(response = holdout$team_1_win, predictor = holdout$team_1_prob_xgb_tree)"
   ]
  },
  {
   "cell_type": "code",
   "execution_count": 211,
   "metadata": {
    "scrolled": true
   },
   "outputs": [
    {
     "data": {
      "text/plain": [
       "\n",
       "Call:\n",
       "roc.default(response = holdout$team_2_win, predictor = holdout$team_2_prob_xgb_tree)\n",
       "\n",
       "Data: holdout$team_2_prob_xgb_tree in 648 controls (holdout$team_2_win 0) < 298 cases (holdout$team_2_win 1).\n",
       "Area under the curve: 0.8009"
      ]
     },
     "metadata": {},
     "output_type": "display_data"
    }
   ],
   "source": [
    "pROC::roc(response = holdout$team_2_win, predictor = holdout$team_2_prob_xgb_tree)"
   ]
  },
  {
   "cell_type": "code",
   "execution_count": null,
   "metadata": {
    "collapsed": true
   },
   "outputs": [],
   "source": []
  }
 ],
 "metadata": {
  "kernelspec": {
   "display_name": "R",
   "language": "R",
   "name": "ir"
  },
  "language_info": {
   "codemirror_mode": "r",
   "file_extension": ".r",
   "mimetype": "text/x-r-source",
   "name": "R",
   "pygments_lexer": "r",
   "version": "3.4.2"
  }
 },
 "nbformat": 4,
 "nbformat_minor": 2
}
