{
 "cells": [
  {
   "cell_type": "code",
   "execution_count": 13,
   "metadata": {},
   "outputs": [
    {
     "name": "stderr",
     "output_type": "stream",
     "text": [
      "\n",
      "Attaching package: 'plotly'\n",
      "\n",
      "The following object is masked from 'package:ggplot2':\n",
      "\n",
      "    last_plot\n",
      "\n",
      "The following object is masked from 'package:stats':\n",
      "\n",
      "    filter\n",
      "\n",
      "The following object is masked from 'package:graphics':\n",
      "\n",
      "    layout\n",
      "\n"
     ]
    }
   ],
   "source": [
    "library(tidyverse)\n",
    "library(caret)\n",
    "library(plotly)"
   ]
  },
  {
   "cell_type": "markdown",
   "metadata": {},
   "source": [
    "## Read data and view"
   ]
  },
  {
   "cell_type": "code",
   "execution_count": 55,
   "metadata": {},
   "outputs": [],
   "source": [
    "df <- read.csv('english_premier_league_historical_data.csv')"
   ]
  },
  {
   "cell_type": "code",
   "execution_count": 56,
   "metadata": {
    "collapsed": true
   },
   "outputs": [],
   "source": [
    "score <- read.csv('english_premier_league_competition_data.csv')"
   ]
  },
  {
   "cell_type": "code",
   "execution_count": 57,
   "metadata": {},
   "outputs": [
    {
     "data": {
      "text/html": [
       "<table>\n",
       "<thead><tr><th scope=col>id</th><th scope=col>date</th><th scope=col>team_1_name</th><th scope=col>team_1_score</th><th scope=col>team_2_name</th><th scope=col>team_2_score</th><th scope=col>d_ability_1</th><th scope=col>d_ability_3</th><th scope=col>d_ability_4</th><th scope=col>is_november</th><th scope=col>is_february</th><th scope=col>d_form_4</th><th scope=col>d_h2h_2</th><th scope=col>c_ability_3</th></tr></thead>\n",
       "<tbody>\n",
       "\t<tr><td>5969fbdb4825083689956894</td><td>2004-02-11 19:45:00     </td><td>Fulham                  </td><td>1                       </td><td>Aston Villa             </td><td>2                       </td><td>0.003688123             </td><td>-0.09036144             </td><td>-0.09326111             </td><td>-0.3392597              </td><td>3.139514                </td><td>NaN                     </td><td>NaN                     </td><td>-0.07561561             </td></tr>\n",
       "\t<tr><td>5969fbdb4825083689956893</td><td>2004-02-11 19:45:00     </td><td>Birmingham              </td><td>3                       </td><td>Everton                 </td><td>0                       </td><td>0.003688123             </td><td>-0.09036144             </td><td>-0.09326111             </td><td>-0.3392597              </td><td>3.139514                </td><td>NaN                     </td><td>NaN                     </td><td>-0.07561561             </td></tr>\n",
       "\t<tr><td>5969fbdb4825083689956892</td><td>2004-02-11 20:00:00     </td><td>Portsmouth              </td><td>0                       </td><td>Chelsea                 </td><td>2                       </td><td>0.003688123             </td><td>-0.09036144             </td><td>-0.09326111             </td><td>-0.3392597              </td><td>3.139514                </td><td>NaN                     </td><td>NaN                     </td><td>-0.07561561             </td></tr>\n",
       "</tbody>\n",
       "</table>\n"
      ],
      "text/latex": [
       "\\begin{tabular}{r|llllllllllllll}\n",
       " id & date & team\\_1\\_name & team\\_1\\_score & team\\_2\\_name & team\\_2\\_score & d\\_ability\\_1 & d\\_ability\\_3 & d\\_ability\\_4 & is\\_november & is\\_february & d\\_form\\_4 & d\\_h2h\\_2 & c\\_ability\\_3\\\\\n",
       "\\hline\n",
       "\t 5969fbdb4825083689956894 & 2004-02-11 19:45:00      & Fulham                   & 1                        & Aston Villa              & 2                        & 0.003688123              & -0.09036144              & -0.09326111              & -0.3392597               & 3.139514                 & NaN                      & NaN                      & -0.07561561             \\\\\n",
       "\t 5969fbdb4825083689956893 & 2004-02-11 19:45:00      & Birmingham               & 3                        & Everton                  & 0                        & 0.003688123              & -0.09036144              & -0.09326111              & -0.3392597               & 3.139514                 & NaN                      & NaN                      & -0.07561561             \\\\\n",
       "\t 5969fbdb4825083689956892 & 2004-02-11 20:00:00      & Portsmouth               & 0                        & Chelsea                  & 2                        & 0.003688123              & -0.09036144              & -0.09326111              & -0.3392597               & 3.139514                 & NaN                      & NaN                      & -0.07561561             \\\\\n",
       "\\end{tabular}\n"
      ],
      "text/markdown": [
       "\n",
       "id | date | team_1_name | team_1_score | team_2_name | team_2_score | d_ability_1 | d_ability_3 | d_ability_4 | is_november | is_february | d_form_4 | d_h2h_2 | c_ability_3 | \n",
       "|---|---|---|\n",
       "| 5969fbdb4825083689956894 | 2004-02-11 19:45:00      | Fulham                   | 1                        | Aston Villa              | 2                        | 0.003688123              | -0.09036144              | -0.09326111              | -0.3392597               | 3.139514                 | NaN                      | NaN                      | -0.07561561              | \n",
       "| 5969fbdb4825083689956893 | 2004-02-11 19:45:00      | Birmingham               | 3                        | Everton                  | 0                        | 0.003688123              | -0.09036144              | -0.09326111              | -0.3392597               | 3.139514                 | NaN                      | NaN                      | -0.07561561              | \n",
       "| 5969fbdb4825083689956892 | 2004-02-11 20:00:00      | Portsmouth               | 0                        | Chelsea                  | 2                        | 0.003688123              | -0.09036144              | -0.09326111              | -0.3392597               | 3.139514                 | NaN                      | NaN                      | -0.07561561              | \n",
       "\n",
       "\n"
      ],
      "text/plain": [
       "  id                       date                team_1_name team_1_score\n",
       "1 5969fbdb4825083689956894 2004-02-11 19:45:00 Fulham      1           \n",
       "2 5969fbdb4825083689956893 2004-02-11 19:45:00 Birmingham  3           \n",
       "3 5969fbdb4825083689956892 2004-02-11 20:00:00 Portsmouth  0           \n",
       "  team_2_name team_2_score d_ability_1 d_ability_3 d_ability_4 is_november\n",
       "1 Aston Villa 2            0.003688123 -0.09036144 -0.09326111 -0.3392597 \n",
       "2 Everton     0            0.003688123 -0.09036144 -0.09326111 -0.3392597 \n",
       "3 Chelsea     2            0.003688123 -0.09036144 -0.09326111 -0.3392597 \n",
       "  is_february d_form_4 d_h2h_2 c_ability_3\n",
       "1 3.139514    NaN      NaN     -0.07561561\n",
       "2 3.139514    NaN      NaN     -0.07561561\n",
       "3 3.139514    NaN      NaN     -0.07561561"
      ]
     },
     "metadata": {},
     "output_type": "display_data"
    }
   ],
   "source": [
    "df %>% head(3)"
   ]
  },
  {
   "cell_type": "markdown",
   "metadata": {},
   "source": [
    "### Align score and concat"
   ]
  },
  {
   "cell_type": "code",
   "execution_count": 63,
   "metadata": {},
   "outputs": [],
   "source": [
    "score <- score %>%\n",
    "    mutate(team_1_score = NA,\n",
    "           team_2_score = NA,\n",
    "           datatype = 'score'\n",
    "          )"
   ]
  },
  {
   "cell_type": "code",
   "execution_count": 67,
   "metadata": {},
   "outputs": [],
   "source": [
    "df <- df %>%\n",
    "    mutate(datatype = 'build',\n",
    "        team_1_prob = NA,\n",
    "          team_tie_prob = NA,\n",
    "           team_2_prob = NA\n",
    "          )"
   ]
  },
  {
   "cell_type": "code",
   "execution_count": 68,
   "metadata": {},
   "outputs": [],
   "source": [
    "df <- rbind(df, score)"
   ]
  },
  {
   "cell_type": "markdown",
   "metadata": {},
   "source": [
    "## Build response variables"
   ]
  },
  {
   "cell_type": "code",
   "execution_count": 69,
   "metadata": {},
   "outputs": [],
   "source": [
    "df <- df %>%\n",
    "    mutate(team_1_win = as.numeric(team_1_score > team_2_score),\n",
    "           team_1_draw = as.numeric(team_1_score == team_2_score))\n",
    "\n",
    "df <- df %>%\n",
    "    mutate(team_1_result = case_when(.$team_1_win > 0 ~ 'T1_Win',\n",
    "                                     .$team_1_draw > 0 ~ 'Draw',\n",
    "                                    T ~ 'T2_Win') )"
   ]
  },
  {
   "cell_type": "markdown",
   "metadata": {},
   "source": [
    "## Visualise team data"
   ]
  },
  {
   "cell_type": "code",
   "execution_count": 70,
   "metadata": {},
   "outputs": [
    {
     "data": {},
     "metadata": {},
     "output_type": "display_data"
    },
    {
     "data": {
      "image/png": "[encoded data removed]",
      "text/plain": [
       "plot without title"
      ]
     },
     "metadata": {},
     "output_type": "display_data"
    }
   ],
   "source": [
    "df %>%\n",
    "    group_by(team_1_name) %>%\n",
    "    summarise( avg_score = mean(team_1_score),\n",
    "                vol = n()) %>%\n",
    "     filter(vol < 100) %>%\n",
    "    ggplot(aes(x = team_1_name, y = vol)) + geom_bar(stat=\"identity\") + theme(axis.text.x = element_text(angle = 90, hjust = 1))"
   ]
  },
  {
   "cell_type": "code",
   "execution_count": 71,
   "metadata": {},
   "outputs": [
    {
     "name": "stderr",
     "output_type": "stream",
     "text": [
      "Warning message:\n",
      "\"Removed 10 rows containing missing values (position_stack).\""
     ]
    },
    {
     "data": {},
     "metadata": {},
     "output_type": "display_data"
    },
    {
     "data": {
      "image/png": "[encoded data removed]",
      "text/plain": [
       "plot without title"
      ]
     },
     "metadata": {},
     "output_type": "display_data"
    }
   ],
   "source": [
    "df %>%\n",
    "    group_by(team_1_name) %>%\n",
    "    summarise( avg_score = mean(team_1_score),\n",
    "                vol = n()) %>%\n",
    "    ggplot(aes(x = team_1_name, y = avg_score)) + geom_bar(stat=\"identity\") + theme(axis.text.x = element_text(angle = 90, hjust = 1))"
   ]
  },
  {
   "cell_type": "code",
   "execution_count": 72,
   "metadata": {},
   "outputs": [
    {
     "data": {},
     "metadata": {},
     "output_type": "display_data"
    },
    {
     "data": {
      "image/png": "[encoded data removed]",
      "text/plain": [
       "plot without title"
      ]
     },
     "metadata": {},
     "output_type": "display_data"
    }
   ],
   "source": [
    "df %>%\n",
    "    group_by(team_2_name) %>%\n",
    "    summarise( avg_score = mean(team_2_score),\n",
    "                vol = n()) %>%\n",
    "     filter(vol < 100) %>%\n",
    "    ggplot(aes(x = team_2_name, y = vol)) + geom_bar(stat=\"identity\") + theme(axis.text.x = element_text(angle = 90, hjust = 1))"
   ]
  },
  {
   "cell_type": "markdown",
   "metadata": {},
   "source": [
    "# Try simple logit model"
   ]
  },
  {
   "cell_type": "code",
   "execution_count": 73,
   "metadata": {},
   "outputs": [
    {
     "data": {
      "text/html": [
       "<table>\n",
       "<thead><tr><th scope=col>id</th><th scope=col>date</th><th scope=col>team_1_name</th><th scope=col>team_1_score</th><th scope=col>team_2_name</th><th scope=col>team_2_score</th><th scope=col>d_ability_1</th><th scope=col>d_ability_3</th><th scope=col>d_ability_4</th><th scope=col>is_november</th><th scope=col>...</th><th scope=col>d_form_4</th><th scope=col>d_h2h_2</th><th scope=col>c_ability_3</th><th scope=col>datatype</th><th scope=col>team_1_prob</th><th scope=col>team_tie_prob</th><th scope=col>team_2_prob</th><th scope=col>team_1_win</th><th scope=col>team_1_draw</th><th scope=col>team_1_result</th></tr></thead>\n",
       "<tbody>\n",
       "\t<tr><td>5969fbdb4825083689956894</td><td>2004-02-11 19:45:00     </td><td>Fulham                  </td><td>1                       </td><td>Aston Villa             </td><td>2                       </td><td>0.003688123             </td><td>-0.09036144             </td><td>-0.09326111             </td><td>-0.3392597              </td><td>...                     </td><td>NaN                     </td><td>NaN                     </td><td>-0.07561561             </td><td>build                   </td><td>NA                      </td><td>NA                      </td><td>NA                      </td><td>0                       </td><td>0                       </td><td>T2_Win                  </td></tr>\n",
       "\t<tr><td>5969fbdb4825083689956893</td><td>2004-02-11 19:45:00     </td><td>Birmingham              </td><td>3                       </td><td>Everton                 </td><td>0                       </td><td>0.003688123             </td><td>-0.09036144             </td><td>-0.09326111             </td><td>-0.3392597              </td><td>...                     </td><td>NaN                     </td><td>NaN                     </td><td>-0.07561561             </td><td>build                   </td><td>NA                      </td><td>NA                      </td><td>NA                      </td><td>1                       </td><td>0                       </td><td>T1_Win                  </td></tr>\n",
       "\t<tr><td>5969fbdb4825083689956892</td><td>2004-02-11 20:00:00     </td><td>Portsmouth              </td><td>0                       </td><td>Chelsea                 </td><td>2                       </td><td>0.003688123             </td><td>-0.09036144             </td><td>-0.09326111             </td><td>-0.3392597              </td><td>...                     </td><td>NaN                     </td><td>NaN                     </td><td>-0.07561561             </td><td>build                   </td><td>NA                      </td><td>NA                      </td><td>NA                      </td><td>0                       </td><td>0                       </td><td>T2_Win                  </td></tr>\n",
       "</tbody>\n",
       "</table>\n"
      ],
      "text/latex": [
       "\\begin{tabular}{r|lllllllllllllllllllll}\n",
       " id & date & team\\_1\\_name & team\\_1\\_score & team\\_2\\_name & team\\_2\\_score & d\\_ability\\_1 & d\\_ability\\_3 & d\\_ability\\_4 & is\\_november & ... & d\\_form\\_4 & d\\_h2h\\_2 & c\\_ability\\_3 & datatype & team\\_1\\_prob & team\\_tie\\_prob & team\\_2\\_prob & team\\_1\\_win & team\\_1\\_draw & team\\_1\\_result\\\\\n",
       "\\hline\n",
       "\t 5969fbdb4825083689956894 & 2004-02-11 19:45:00      & Fulham                   & 1                        & Aston Villa              & 2                        & 0.003688123              & -0.09036144              & -0.09326111              & -0.3392597               & ...                      & NaN                      & NaN                      & -0.07561561              & build                    & NA                       & NA                       & NA                       & 0                        & 0                        & T2\\_Win                \\\\\n",
       "\t 5969fbdb4825083689956893 & 2004-02-11 19:45:00      & Birmingham               & 3                        & Everton                  & 0                        & 0.003688123              & -0.09036144              & -0.09326111              & -0.3392597               & ...                      & NaN                      & NaN                      & -0.07561561              & build                    & NA                       & NA                       & NA                       & 1                        & 0                        & T1\\_Win                \\\\\n",
       "\t 5969fbdb4825083689956892 & 2004-02-11 20:00:00      & Portsmouth               & 0                        & Chelsea                  & 2                        & 0.003688123              & -0.09036144              & -0.09326111              & -0.3392597               & ...                      & NaN                      & NaN                      & -0.07561561              & build                    & NA                       & NA                       & NA                       & 0                        & 0                        & T2\\_Win                \\\\\n",
       "\\end{tabular}\n"
      ],
      "text/markdown": [
       "\n",
       "id | date | team_1_name | team_1_score | team_2_name | team_2_score | d_ability_1 | d_ability_3 | d_ability_4 | is_november | ... | d_form_4 | d_h2h_2 | c_ability_3 | datatype | team_1_prob | team_tie_prob | team_2_prob | team_1_win | team_1_draw | team_1_result | \n",
       "|---|---|---|\n",
       "| 5969fbdb4825083689956894 | 2004-02-11 19:45:00      | Fulham                   | 1                        | Aston Villa              | 2                        | 0.003688123              | -0.09036144              | -0.09326111              | -0.3392597               | ...                      | NaN                      | NaN                      | -0.07561561              | build                    | NA                       | NA                       | NA                       | 0                        | 0                        | T2_Win                   | \n",
       "| 5969fbdb4825083689956893 | 2004-02-11 19:45:00      | Birmingham               | 3                        | Everton                  | 0                        | 0.003688123              | -0.09036144              | -0.09326111              | -0.3392597               | ...                      | NaN                      | NaN                      | -0.07561561              | build                    | NA                       | NA                       | NA                       | 1                        | 0                        | T1_Win                   | \n",
       "| 5969fbdb4825083689956892 | 2004-02-11 20:00:00      | Portsmouth               | 0                        | Chelsea                  | 2                        | 0.003688123              | -0.09036144              | -0.09326111              | -0.3392597               | ...                      | NaN                      | NaN                      | -0.07561561              | build                    | NA                       | NA                       | NA                       | 0                        | 0                        | T2_Win                   | \n",
       "\n",
       "\n"
      ],
      "text/plain": [
       "  id                       date                team_1_name team_1_score\n",
       "1 5969fbdb4825083689956894 2004-02-11 19:45:00 Fulham      1           \n",
       "2 5969fbdb4825083689956893 2004-02-11 19:45:00 Birmingham  3           \n",
       "3 5969fbdb4825083689956892 2004-02-11 20:00:00 Portsmouth  0           \n",
       "  team_2_name team_2_score d_ability_1 d_ability_3 d_ability_4 is_november ...\n",
       "1 Aston Villa 2            0.003688123 -0.09036144 -0.09326111 -0.3392597  ...\n",
       "2 Everton     0            0.003688123 -0.09036144 -0.09326111 -0.3392597  ...\n",
       "3 Chelsea     2            0.003688123 -0.09036144 -0.09326111 -0.3392597  ...\n",
       "  d_form_4 d_h2h_2 c_ability_3 datatype team_1_prob team_tie_prob team_2_prob\n",
       "1 NaN      NaN     -0.07561561 build    NA          NA            NA         \n",
       "2 NaN      NaN     -0.07561561 build    NA          NA            NA         \n",
       "3 NaN      NaN     -0.07561561 build    NA          NA            NA         \n",
       "  team_1_win team_1_draw team_1_result\n",
       "1 0          0           T2_Win       \n",
       "2 1          0           T1_Win       \n",
       "3 0          0           T2_Win       "
      ]
     },
     "metadata": {},
     "output_type": "display_data"
    }
   ],
   "source": [
    "df %>% head(3)"
   ]
  },
  {
   "cell_type": "code",
   "execution_count": 74,
   "metadata": {},
   "outputs": [],
   "source": [
    "df <- df %>% \n",
    "    mutate(team_1_name = as.factor(team_1_name),\n",
    "           team_2_name = as.factor(team_2_name),\n",
    "           team_1_result = as.factor(team_1_result)\n",
    "          )"
   ]
  },
  {
   "cell_type": "code",
   "execution_count": 75,
   "metadata": {
    "collapsed": true
   },
   "outputs": [],
   "source": [
    "index <- createDataPartition(y = df$team_1_result, p = 0.7, list = F)"
   ]
  },
  {
   "cell_type": "code",
   "execution_count": 76,
   "metadata": {
    "collapsed": true
   },
   "outputs": [],
   "source": [
    "train <- df[index,]\n",
    "test <- df[-index,]"
   ]
  },
  {
   "cell_type": "code",
   "execution_count": 77,
   "metadata": {
    "collapsed": true
   },
   "outputs": [],
   "source": [
    "library(nnet)"
   ]
  },
  {
   "cell_type": "code",
   "execution_count": 82,
   "metadata": {},
   "outputs": [
    {
     "name": "stdout",
     "output_type": "stream",
     "text": [
      "# weights:  264 (174 variable)\n",
      "initial  value 3946.215341 \n",
      "iter  10 value 3507.608434\n",
      "iter  20 value 3428.240001\n",
      "iter  30 value 3401.713899\n",
      "iter  40 value 3400.470875\n",
      "iter  50 value 3399.972024\n",
      "iter  60 value 3399.737920\n",
      "iter  70 value 3399.612133\n",
      "iter  80 value 3399.520283\n",
      "iter  90 value 3399.484906\n",
      "iter 100 value 3399.476014\n",
      "final  value 3399.476014 \n",
      "stopped after 100 iterations\n"
     ]
    }
   ],
   "source": [
    "fit.log <- train %>%\n",
    "            filter(datatype == 'build') %>%\n",
    "                multinom(formula = team_1_result ~ team_1_name + team_2_name + d_ability_1 + d_ability_3 + d_ability_4 + is_november + is_february + d_form_4 + d_h2h_2 + c_ability_3)"
   ]
  },
  {
   "cell_type": "code",
   "execution_count": 83,
   "metadata": {},
   "outputs": [
    {
     "data": {
      "text/plain": [
       "Call:\n",
       "multinom(formula = team_1_result ~ team_1_name + team_2_name + \n",
       "    d_ability_1 + d_ability_3 + d_ability_4 + is_november + is_february + \n",
       "    d_form_4 + d_h2h_2 + c_ability_3, data = .)\n",
       "\n",
       "Coefficients:\n",
       "       (Intercept) team_1_nameAston Villa team_1_nameBirmingham\n",
       "T1_Win  0.60898428             -0.7516715           -0.84426298\n",
       "T2_Win  0.08903297              0.4344268           -0.02602823\n",
       "       team_1_nameBlackburn team_1_nameBlackpool team_1_nameBolton\n",
       "T1_Win           -0.3859707           -0.9098818        -0.3113772\n",
       "T2_Win            0.7303944            1.7233582         0.7233843\n",
       "       team_1_nameBournemouth team_1_nameBrighton team_1_nameBurnley\n",
       "T1_Win             -0.8931641           -1.729140          0.1410058\n",
       "T2_Win              0.1277148           -8.069035          1.1361855\n",
       "       team_1_nameCardiff team_1_nameCharlton team_1_nameChelsea\n",
       "T1_Win         -0.6632421          -0.3372535        -0.05946812\n",
       "T2_Win          1.1854320           0.7256732        -0.41586162\n",
       "       team_1_nameCrystal Palace team_1_nameDerby team_1_nameEverton\n",
       "T1_Win                  0.268914        -1.096902        -0.07428457\n",
       "T2_Win                  1.582001         2.446460         0.27820249\n",
       "       team_1_nameFulham team_1_nameHuddersfield team_1_nameHull City\n",
       "T1_Win       -0.09582043               0.3140316           -0.2619313\n",
       "T2_Win        0.70652814              -0.5936951            0.9789422\n",
       "       team_1_nameLeeds team_1_nameLeicester team_1_nameLiverpool\n",
       "T1_Win       -0.1958624           -0.3998086           -0.1355637\n",
       "T2_Win        0.6498583           -0.3753148           -0.3095094\n",
       "       team_1_nameManchester City team_1_nameManchester United\n",
       "T1_Win                  0.1339926                    0.2567907\n",
       "T2_Win                  0.2941418                   -0.1823891\n",
       "       team_1_nameMiddlesbrough team_1_nameNewcastle Utd team_1_nameNorwich\n",
       "T1_Win               -0.5990549               -0.2495568         -0.3681979\n",
       "T2_Win                0.1617637                0.2477897          0.3331209\n",
       "       team_1_namePortsmouth team_1_nameQPR team_1_nameReading\n",
       "T1_Win            -0.2717442     -0.3648571         -0.0346072\n",
       "T2_Win             0.5938376      0.4847860          1.2372276\n",
       "       team_1_nameSheffield Utd team_1_nameSouthampton team_1_nameStoke City\n",
       "T1_Win               -1.0483016             -0.7540640           -0.25166231\n",
       "T2_Win                0.6044572             -0.2972805           -0.03256348\n",
       "       team_1_nameSunderland team_1_nameSwansea team_1_nameTottenham\n",
       "T1_Win            -0.6157929         -0.3290572            0.1529674\n",
       "T2_Win             0.8637303          0.3513137            0.1923561\n",
       "       team_1_nameWatford team_1_nameWest Brom team_1_nameWest Ham\n",
       "T1_Win         -0.5480288           -0.1596217          -0.1613765\n",
       "T2_Win          0.3171033            0.9111286           0.8273965\n",
       "       team_1_nameWigan team_1_nameWolves team_2_nameAston Villa\n",
       "T1_Win       -0.8464361        -0.2350949              0.0169756\n",
       "T2_Win        0.9167442         1.5285029             -0.2111259\n",
       "       team_2_nameBirmingham team_2_nameBlackburn team_2_nameBlackpool\n",
       "T1_Win             0.3375981            0.1634818           0.09306066\n",
       "T2_Win            -1.1163859           -0.3152214           0.07381952\n",
       "       team_2_nameBolton team_2_nameBournemouth team_2_nameBrighton\n",
       "T1_Win         0.5106104             -0.1586565          -0.5856113\n",
       "T2_Win        -0.2309003             -0.8100911          -0.8765003\n",
       "       team_2_nameBurnley team_2_nameCardiff team_2_nameCharlton\n",
       "T1_Win          0.4947375          0.5129305           0.3107983\n",
       "T2_Win         -1.2690977         -1.4888181          -0.5209034\n",
       "       team_2_nameChelsea team_2_nameCrystal Palace team_2_nameDerby\n",
       "T1_Win          0.1775017                 0.1441544         1.453816\n",
       "T2_Win          0.2381646                -0.3435952        -7.769496\n",
       "       team_2_nameEverton team_2_nameFulham team_2_nameHuddersfield\n",
       "T1_Win         -0.2369718        0.01505074               0.6866326\n",
       "T2_Win         -0.8841782       -1.12914138              -7.4947248\n",
       "       team_2_nameHull City team_2_nameLeeds team_2_nameLeicester\n",
       "T1_Win            0.4071594         8.030366            0.1883284\n",
       "T2_Win           -0.9196005        -2.572407           -0.6153064\n",
       "       team_2_nameLiverpool team_2_nameManchester City\n",
       "T1_Win           0.49283006                  0.2324429\n",
       "T2_Win           0.08344261                 -0.1529800\n",
       "       team_2_nameManchester United team_2_nameMiddlesbrough\n",
       "T1_Win                   -0.1017817              -0.02468473\n",
       "T2_Win                    0.1567742              -1.04989662\n",
       "       team_2_nameNewcastle Utd team_2_nameNorwich team_2_namePortsmouth\n",
       "T1_Win                0.4116173          0.2587594             0.3347352\n",
       "T2_Win               -0.5863006         -2.0397170            -0.6157312\n",
       "       team_2_nameQPR team_2_nameReading team_2_nameSheffield Utd\n",
       "T1_Win       1.156500          0.6327045                0.7473442\n",
       "T2_Win      -1.152397         -0.6381480               -0.4403016\n",
       "       team_2_nameSouthampton team_2_nameStoke City team_2_nameSunderland\n",
       "T1_Win              0.6020905            -0.1253849             0.2520923\n",
       "T2_Win             -0.2751035            -1.3591425            -1.3305849\n",
       "       team_2_nameSwansea team_2_nameTottenham team_2_nameWatford\n",
       "T1_Win        -0.03526656           0.07858992          0.6944242\n",
       "T2_Win        -0.70804295          -0.29757981         -0.4847200\n",
       "       team_2_nameWest Brom team_2_nameWest Ham team_2_nameWigan\n",
       "T1_Win           -0.1880159           0.1283334        0.3276958\n",
       "T2_Win           -1.2136752          -0.7679602       -0.2566885\n",
       "       team_2_nameWolves d_ability_1 d_ability_3 d_ability_4 is_november\n",
       "T1_Win        -0.4615125    1.261610   -2.248738   0.7502594 -0.05618299\n",
       "T2_Win        -1.3666597   -1.747759   -2.584575   4.0249930 -0.04034340\n",
       "       is_february  d_form_4     d_h2h_2 c_ability_3\n",
       "T1_Win  0.03006813 0.0242564  0.01000943   0.6204481\n",
       "T2_Win -0.03141974 0.1591455 -0.21748720   0.1723325\n",
       "\n",
       "Std. Errors:\n",
       "       (Intercept) team_1_nameAston Villa team_1_nameBirmingham\n",
       "T1_Win   0.3461256              0.3140542             0.3818955\n",
       "T2_Win   0.4030073              0.3858523             0.4641543\n",
       "       team_1_nameBlackburn team_1_nameBlackpool team_1_nameBolton\n",
       "T1_Win            0.3456845            0.9568763         0.3562565\n",
       "T2_Win            0.4153063            0.7708838         0.4243888\n",
       "       team_1_nameBournemouth team_1_nameBrighton team_1_nameBurnley\n",
       "T1_Win              0.5932299            1.200686          0.5429236\n",
       "T2_Win              0.6206874           37.177846          0.5657027\n",
       "       team_1_nameCardiff team_1_nameCharlton team_1_nameChelsea\n",
       "T1_Win          0.8697337           0.4600154          0.2669992\n",
       "T2_Win          0.7988314           0.5217870          0.4046745\n",
       "       team_1_nameCrystal Palace team_1_nameDerby team_1_nameEverton\n",
       "T1_Win                 0.4484223        1.2636540          0.2986315\n",
       "T2_Win                 0.4881292        0.8641348          0.3835335\n",
       "       team_1_nameFulham team_1_nameHuddersfield team_1_nameHull City\n",
       "T1_Win         0.3327887                1.491419            0.4242021\n",
       "T2_Win         0.4042999                1.481092            0.4602591\n",
       "       team_1_nameLeeds team_1_nameLeicester team_1_nameLiverpool\n",
       "T1_Win         1.258329            0.4043441            0.2679221\n",
       "T2_Win         1.464327            0.5121024            0.3761447\n",
       "       team_1_nameManchester City team_1_nameManchester United\n",
       "T1_Win                  0.2966543                    0.2772401\n",
       "T2_Win                  0.3875010                    0.4117952\n",
       "       team_1_nameMiddlesbrough team_1_nameNewcastle Utd team_1_nameNorwich\n",
       "T1_Win                0.3669269                0.3143820          0.3765656\n",
       "T2_Win                0.4428959                0.3928139          0.4407755\n",
       "       team_1_namePortsmouth team_1_nameQPR team_1_nameReading\n",
       "T1_Win             0.3526549      0.5277403          0.5110862\n",
       "T2_Win             0.4278586      0.5554888          0.5653352\n",
       "       team_1_nameSheffield Utd team_1_nameSouthampton team_1_nameStoke City\n",
       "T1_Win                0.7240243              0.3526346             0.3305277\n",
       "T2_Win                0.7180518              0.4348382             0.4136597\n",
       "       team_1_nameSunderland team_1_nameSwansea team_1_nameTottenham\n",
       "T1_Win             0.3182917          0.3659932            0.2913791\n",
       "T2_Win             0.3737326          0.4299852            0.3839154\n",
       "       team_1_nameWatford team_1_nameWest Brom team_1_nameWest Ham\n",
       "T1_Win          0.4596445            0.3344547           0.3201153\n",
       "T2_Win          0.5135253            0.3961230           0.3851853\n",
       "       team_1_nameWigan team_1_nameWolves team_2_nameAston Villa\n",
       "T1_Win        0.3738258         0.5416371              0.3265707\n",
       "T2_Win        0.4236633         0.5629722              0.3284973\n",
       "       team_2_nameBirmingham team_2_nameBlackburn team_2_nameBlackpool\n",
       "T1_Win             0.3995777            0.3603068            0.7824523\n",
       "T2_Win             0.4889464            0.3758858            0.8721244\n",
       "       team_2_nameBolton team_2_nameBournemouth team_2_nameBrighton\n",
       "T1_Win         0.3614406              0.5250411            1.490491\n",
       "T2_Win         0.3877301              0.5765554            1.496304\n",
       "       team_2_nameBurnley team_2_nameCardiff team_2_nameCharlton\n",
       "T1_Win          0.5342485           0.880730           0.4793064\n",
       "T2_Win          0.6541003           1.286884           0.5626770\n",
       "       team_2_nameChelsea team_2_nameCrystal Palace team_2_nameDerby\n",
       "T1_Win          0.3177140                 0.4401676         1.151283\n",
       "T2_Win          0.2852307                 0.4666543        35.018740\n",
       "       team_2_nameEverton team_2_nameFulham team_2_nameHuddersfield\n",
       "T1_Win          0.3023242         0.3539879                1.198906\n",
       "T2_Win          0.3044194         0.3977954               34.016417\n",
       "       team_2_nameHull City team_2_nameLeeds team_2_nameLeicester\n",
       "T1_Win            0.4397482         39.83593            0.4517745\n",
       "T2_Win            0.5239692        127.66618            0.4752942\n",
       "       team_2_nameLiverpool team_2_nameManchester City\n",
       "T1_Win            0.3059504                  0.3150780\n",
       "T2_Win            0.2889474                  0.3007342\n",
       "       team_2_nameManchester United team_2_nameMiddlesbrough\n",
       "T1_Win                    0.3082673                0.3676245\n",
       "T2_Win                    0.2707341                0.4193245\n",
       "       team_2_nameNewcastle Utd team_2_nameNorwich team_2_namePortsmouth\n",
       "T1_Win                0.3363486          0.4602433             0.4021001\n",
       "T2_Win                0.3617105          0.6361549             0.4568810\n",
       "       team_2_nameQPR team_2_nameReading team_2_nameSheffield Utd\n",
       "T1_Win      0.5787839          0.4839512                 0.875557\n",
       "T2_Win      0.8014929          0.5725195                 1.059198\n",
       "       team_2_nameSouthampton team_2_nameStoke City team_2_nameSunderland\n",
       "T1_Win              0.3993557             0.3769801             0.3740968\n",
       "T2_Win              0.4211341             0.4208489             0.4328642\n",
       "       team_2_nameSwansea team_2_nameTottenham team_2_nameWatford\n",
       "T1_Win          0.4058936            0.3030616          0.5525770\n",
       "T2_Win          0.4334386            0.2927770          0.6271516\n",
       "       team_2_nameWest Brom team_2_nameWest Ham team_2_nameWigan\n",
       "T1_Win            0.3776224           0.3336888        0.3861162\n",
       "T2_Win            0.4220254           0.3574667        0.4151563\n",
       "       team_2_nameWolves d_ability_1 d_ability_3 d_ability_4 is_november\n",
       "T1_Win         0.4912087   0.8389830    4.166355    3.784054  0.04305659\n",
       "T2_Win         0.6343700   0.9628634    4.580065    4.221667  0.04809918\n",
       "       is_february   d_form_4    d_h2h_2 c_ability_3\n",
       "T1_Win  0.04361033 0.09242554 0.05361664   0.7285435\n",
       "T2_Win  0.05040941 0.11208839 0.05985592   0.8111541\n",
       "\n",
       "Residual Deviance: 6798.952 \n",
       "AIC: 7146.952 "
      ]
     },
     "metadata": {},
     "output_type": "display_data"
    }
   ],
   "source": [
    "fit.log %>% summary"
   ]
  },
  {
   "cell_type": "code",
   "execution_count": 33,
   "metadata": {
    "collapsed": true
   },
   "outputs": [],
   "source": [
    "? glm"
   ]
  },
  {
   "cell_type": "code",
   "execution_count": 89,
   "metadata": {
    "collapsed": true
   },
   "outputs": [],
   "source": [
    "realtest <- test %>% filter(datatype == 'build')"
   ]
  },
  {
   "cell_type": "code",
   "execution_count": 90,
   "metadata": {},
   "outputs": [],
   "source": [
    "preds <- predict(fit.log, newdata = realtest, type=\"probs\")"
   ]
  },
  {
   "cell_type": "code",
   "execution_count": 93,
   "metadata": {},
   "outputs": [],
   "source": [
    "realtest$team_tie_prob <- (preds %>% as.data.frame)$Draw\n",
    "realtest$team_1_prob <- (preds %>% as.data.frame)$T1_Win\n",
    "realtest$team_2_prob <- (preds %>% as.data.frame)$T2_Win"
   ]
  },
  {
   "cell_type": "code",
   "execution_count": 94,
   "metadata": {},
   "outputs": [
    {
     "data": {
      "text/html": [
       "<table>\n",
       "<thead><tr><th scope=col>id</th><th scope=col>date</th><th scope=col>team_1_name</th><th scope=col>team_1_score</th><th scope=col>team_2_name</th><th scope=col>team_2_score</th><th scope=col>d_ability_1</th><th scope=col>d_ability_3</th><th scope=col>d_ability_4</th><th scope=col>is_november</th><th scope=col>...</th><th scope=col>d_form_4</th><th scope=col>d_h2h_2</th><th scope=col>c_ability_3</th><th scope=col>datatype</th><th scope=col>team_1_prob</th><th scope=col>team_tie_prob</th><th scope=col>team_2_prob</th><th scope=col>team_1_win</th><th scope=col>team_1_draw</th><th scope=col>team_1_result</th></tr></thead>\n",
       "<tbody>\n",
       "\t<tr><td>5969fbdb4825083689956890</td><td>2004-02-11 20:00:00     </td><td>Liverpool               </td><td>2                       </td><td>Manchester City         </td><td>1                       </td><td> 0.003688123            </td><td>-0.090361437            </td><td>-0.093261106            </td><td>-0.3392597              </td><td>...                     </td><td>       NaN              </td><td>      NaN               </td><td>-0.07561561             </td><td>build                   </td><td>       NA               </td><td>          NA            </td><td>          NA            </td><td>1                       </td><td>0                       </td><td>T1_Win                  </td></tr>\n",
       "\t<tr><td>5969fbdb482508368995688f</td><td>2004-02-11 20:00:00     </td><td>Charlton                </td><td>2                       </td><td>Tottenham               </td><td>4                       </td><td> 0.003688123            </td><td>-0.090361437            </td><td>-0.093261106            </td><td>-0.3392597              </td><td>...                     </td><td>       NaN              </td><td>      NaN               </td><td>-0.07561561             </td><td>build                   </td><td>       NA               </td><td>          NA            </td><td>          NA            </td><td>0                       </td><td>0                       </td><td>T2_Win                  </td></tr>\n",
       "\t<tr><td>5969fbdb482508368995688e</td><td>2004-02-11 20:00:00     </td><td>Blackburn               </td><td>1                       </td><td>Newcastle Utd           </td><td>1                       </td><td> 0.003688123            </td><td>-0.090361437            </td><td>-0.093261106            </td><td>-0.3392597              </td><td>...                     </td><td>       NaN              </td><td>      NaN               </td><td>-0.07561561             </td><td>build                   </td><td>       NA               </td><td>          NA            </td><td>          NA            </td><td>0                       </td><td>1                       </td><td>Draw                    </td></tr>\n",
       "\t<tr><td>5969fbdb482508368995688c</td><td>2004-02-21 12:30:00     </td><td>Chelsea                 </td><td>1                       </td><td>Arsenal                 </td><td>2                       </td><td> 0.096145967            </td><td>-0.002996394            </td><td>-0.009402297            </td><td>-0.3392597              </td><td>...                     </td><td>       NaN              </td><td>      NaN               </td><td> 0.02032654             </td><td>build                   </td><td>       NA               </td><td>          NA            </td><td>          NA            </td><td>0                       </td><td>0                       </td><td>T2_Win                  </td></tr>\n",
       "\t<tr><td>5969fbdb482508368995688b</td><td>2004-02-21 15:00:00     </td><td>Wolves                  </td><td>2                       </td><td>Fulham                  </td><td>1                       </td><td> 0.056191413            </td><td>-0.040848172            </td><td>-0.045747034            </td><td>-0.3392597              </td><td>...                     </td><td>       NaN              </td><td>      NaN               </td><td>-0.02030511             </td><td>build                   </td><td>       NA               </td><td>          NA            </td><td>          NA            </td><td>1                       </td><td>0                       </td><td>T1_Win                  </td></tr>\n",
       "\t<tr><td>5969fbdb4825083689956888</td><td>2004-02-21 15:00:00     </td><td>Charlton                </td><td>3                       </td><td>Blackburn               </td><td>2                       </td><td>-0.076220986            </td><td>-0.180078270            </td><td>-0.179656401            </td><td>-0.3392597              </td><td>...                     </td><td>       NaN              </td><td>      NaN               </td><td>-0.17739046             </td><td>build                   </td><td>       NA               </td><td>          NA            </td><td>          NA            </td><td>1                       </td><td>0                       </td><td>T1_Win                  </td></tr>\n",
       "\t<tr><td>5969fbdb4825083689956886</td><td>2004-02-22 12:00:00     </td><td>Aston Villa             </td><td>2                       </td><td>Birmingham              </td><td>2                       </td><td>-0.051123516            </td><td>-0.142742019            </td><td>-0.143611908            </td><td>-0.3392597              </td><td>...                     </td><td>       NaN              </td><td>      NaN               </td><td>-0.12752118             </td><td>build                   </td><td>       NA               </td><td>          NA            </td><td>          NA            </td><td>0                       </td><td>1                       </td><td>Draw                    </td></tr>\n",
       "\t<tr><td>5969fbdb4825083689956883</td><td>2004-02-28 15:00:00     </td><td>Leicester               </td><td>0                       </td><td>Wolves                  </td><td>0                       </td><td>-0.006597362            </td><td>-0.100804923            </td><td>-0.103457348            </td><td>-0.3392597              </td><td>...                     </td><td>       NaN              </td><td>      NaN               </td><td>-0.08199498             </td><td>build                   </td><td>       NA               </td><td>          NA            </td><td>          NA            </td><td>0                       </td><td>1                       </td><td>Draw                    </td></tr>\n",
       "\t<tr><td>5969fbdb4825083689956882</td><td>2004-02-28 15:00:00     </td><td>Fulham                  </td><td>1                       </td><td>Manchester United       </td><td>1                       </td><td>-0.011168961            </td><td>-0.113069162            </td><td>-0.115258042            </td><td>-0.3392597              </td><td>...                     </td><td>       NaN              </td><td>      NaN               </td><td>-0.09909708             </td><td>build                   </td><td>       NA               </td><td>          NA            </td><td>          NA            </td><td>0                       </td><td>1                       </td><td>Draw                    </td></tr>\n",
       "\t<tr><td>5969fbdb482508368995687a</td><td>2004-03-09 20:00:00     </td><td>Middlesbrough           </td><td>1                       </td><td>Tottenham               </td><td>0                       </td><td>-0.113854269            </td><td>-0.202138333            </td><td>-0.200787880            </td><td>-0.3392597              </td><td>...                     </td><td>       NaN              </td><td>      NaN               </td><td>-0.18859130             </td><td>build                   </td><td>       NA               </td><td>          NA            </td><td>          NA            </td><td>1                       </td><td>0                       </td><td>T1_Win                  </td></tr>\n",
       "\t<tr><td>5969fbda4825083689956872</td><td>2004-03-14 14:00:00     </td><td>Manchester City         </td><td>4                       </td><td>Manchester United       </td><td>1                       </td><td> 0.067506495            </td><td>-0.038309110            </td><td>-0.043438867            </td><td>-0.3392597              </td><td>...                     </td><td>-2.6608515              </td><td>0.2805044               </td><td>-0.01933201             </td><td>build                   </td><td>0.5199324               </td><td>0.2541757954            </td><td>2.258918e-01            </td><td>1                       </td><td>0                       </td><td>T1_Win                  </td></tr>\n",
       "\t<tr><td>5969fbda482508368995686f</td><td>2004-03-17 20:00:00     </td><td>Liverpool               </td><td>3                       </td><td>Portsmouth              </td><td>0                       </td><td> 0.100028207            </td><td> 0.004313764            </td><td>-0.002102092            </td><td>-0.3392597              </td><td>...                     </td><td> 0.5265413              </td><td>0.4140971               </td><td> 0.03012769             </td><td>build                   </td><td>0.6585989               </td><td>0.2501215670            </td><td>9.127953e-02            </td><td>1                       </td><td>0                       </td><td>T1_Win                  </td></tr>\n",
       "\t<tr><td>5969fbd44825083689956864</td><td>2004-03-27 12:30:00     </td><td>Birmingham              </td><td>4                       </td><td>Leeds                   </td><td>1                       </td><td> 0.148489979            </td><td> 0.072824955            </td><td> 0.064753014            </td><td>-0.3392597              </td><td>...                     </td><td> 2.5228779              </td><td>0.6466017               </td><td> 0.10027319             </td><td>build                   </td><td>0.9996365               </td><td>0.0003331325            </td><td>3.038272e-05            </td><td>1                       </td><td>0                       </td><td>T1_Win                  </td></tr>\n",
       "\t<tr><td>5969fbd3482508368995685e</td><td>2004-03-27 15:00:00     </td><td>Blackburn               </td><td>1                       </td><td>Portsmouth              </td><td>2                       </td><td> 0.155987456            </td><td> 0.035758307            </td><td> 0.028023141            </td><td>-0.3392597              </td><td>...                     </td><td> 0.6524054              </td><td>0.6126096               </td><td> 0.05106439             </td><td>build                   </td><td>0.5218888               </td><td>0.2444898485            </td><td>2.336214e-01            </td><td>0                       </td><td>0                       </td><td>T2_Win                  </td></tr>\n",
       "\t<tr><td>5969fbd34825083689956860</td><td>2004-03-27 15:00:00     </td><td>Chelsea                 </td><td>5                       </td><td>Wolves                  </td><td>2                       </td><td> 0.357463695            </td><td> 0.239909300            </td><td> 0.234789745            </td><td>-0.3392597              </td><td>...                     </td><td> 0.3855577              </td><td>0.6534490               </td><td> 0.27599721             </td><td>build                   </td><td>0.5611093               </td><td>0.3867018357            </td><td>5.218888e-02            </td><td>1                       </td><td>0                       </td><td>T1_Win                  </td></tr>\n",
       "\t<tr><td>5969fbd34825083689956859</td><td>2004-04-03 14:00:00     </td><td>Tottenham               </td><td>0                       </td><td>Chelsea                 </td><td>1                       </td><td>-0.355374610            </td><td>-0.429857534            </td><td>-0.419292412            </td><td>-0.3392597              </td><td>...                     </td><td> 1.0874954              </td><td>0.4688446               </td><td>-0.43451655             </td><td>build                   </td><td>0.4717768               </td><td>0.1891192788            </td><td>3.391039e-01            </td><td>0                       </td><td>0                       </td><td>T2_Win                  </td></tr>\n",
       "\t<tr><td>5969fbd34825083689956855</td><td>2004-04-04 13:00:00     </td><td>Aston Villa             </td><td>1                       </td><td>Manchester City         </td><td>1                       </td><td> 0.026211003            </td><td>-0.086177368            </td><td>-0.079306463            </td><td>-0.3392597              </td><td>...                     </td><td> 0.1783247              </td><td>0.5451342               </td><td>-0.07424299             </td><td>build                   </td><td>0.3681741               </td><td>0.2924345021            </td><td>3.393914e-01            </td><td>0                       </td><td>1                       </td><td>Draw                    </td></tr>\n",
       "\t<tr><td>5969fbd34825083689956854</td><td>2004-04-04 14:00:00     </td><td>Liverpool               </td><td>4                       </td><td>Blackburn               </td><td>0                       </td><td> 0.208704160            </td><td> 0.126528180            </td><td> 0.115233793            </td><td>-0.3392597              </td><td>...                     </td><td>-2.4429240              </td><td>0.6461082               </td><td> 0.16575672             </td><td>build                   </td><td>0.6242587               </td><td>0.2914578253            </td><td>8.428347e-02            </td><td>1                       </td><td>0                       </td><td>T1_Win                  </td></tr>\n",
       "\t<tr><td>5969fbd3482508368995684b</td><td>2004-04-10 14:00:00     </td><td>Blackburn               </td><td>1                       </td><td>Leeds                   </td><td>2                       </td><td>-0.127699017            </td><td>-0.239581950            </td><td>-0.245523003            </td><td>-0.3392597              </td><td>...                     </td><td> 1.1632240              </td><td>0.6151056               </td><td>-0.24733041             </td><td>build                   </td><td>0.9997236               </td><td>0.0002393698            </td><td>3.702607e-05            </td><td>0                       </td><td>0                       </td><td>T2_Win                  </td></tr>\n",
       "\t<tr><td>5969fbd3482508368995684f</td><td>2004-04-10 14:00:00     </td><td>Leicester               </td><td>0                       </td><td>Fulham                  </td><td>2                       </td><td> 0.038484022            </td><td>-0.061516280            </td><td>-0.065279065            </td><td>-0.3392597              </td><td>...                     </td><td> 0.4631463              </td><td>0.6809869               </td><td>-0.04738403             </td><td>build                   </td><td>0.5458307               </td><td>0.3807101008            </td><td>7.345922e-02            </td><td>0                       </td><td>0                       </td><td>T2_Win                  </td></tr>\n",
       "\t<tr><td>5969fbd34825083689956847</td><td>2004-04-12 14:00:00     </td><td>Tottenham               </td><td>1                       </td><td>Manchester City         </td><td>1                       </td><td>-0.223911918            </td><td>-0.311136531            </td><td>-0.306057734            </td><td>-0.3392597              </td><td>...                     </td><td> 0.4267008              </td><td>0.4839913               </td><td>-0.30840672             </td><td>build                   </td><td>0.5767480               </td><td>0.2089574880            </td><td>2.142945e-01            </td><td>0                       </td><td>1                       </td><td>Draw                    </td></tr>\n",
       "\t<tr><td>5969fbd34825083689956846</td><td>2004-04-12 14:00:00     </td><td>Portsmouth              </td><td>3                       </td><td>Birmingham              </td><td>1                       </td><td>-0.275497288            </td><td>-0.364376583            </td><td>-0.358262800            </td><td>-0.3392597              </td><td>...                     </td><td>-0.2132664              </td><td>0.5320644               </td><td>-0.35973652             </td><td>build                   </td><td>0.5599309               </td><td>0.2881582634            </td><td>1.519108e-01            </td><td>1                       </td><td>0                       </td><td>T1_Win                  </td></tr>\n",
       "\t<tr><td>5969fbd34825083689956841</td><td>2004-04-13 18:45:00     </td><td>Leeds                   </td><td>1                       </td><td>Everton                 </td><td>1                       </td><td>-0.062727805            </td><td>-0.145049837            </td><td>-0.145955084            </td><td>-0.3392597              </td><td>...                     </td><td> 1.0464162              </td><td>0.4949421               </td><td>-0.13087552             </td><td>build                   </td><td>0.4179578               </td><td>0.3183257230            </td><td>2.637165e-01            </td><td>0                       </td><td>1                       </td><td>Draw                    </td></tr>\n",
       "\t<tr><td>5969fbcc4825083689956836</td><td>2004-04-18 13:00:00     </td><td>Aston Villa             </td><td>0                       </td><td>Newcastle Utd           </td><td>0                       </td><td> 0.011172043            </td><td>-0.093769411            </td><td>-0.087462397            </td><td>-0.3392597              </td><td>...                     </td><td> 0.7384219              </td><td>0.6408614               </td><td>-0.08283926             </td><td>build                   </td><td>0.4537727               </td><td>0.3009415535            </td><td>2.452858e-01            </td><td>0                       </td><td>1                       </td><td>Draw                    </td></tr>\n",
       "\t<tr><td>5969fbcc4825083689956834</td><td>2004-04-24 14:00:00     </td><td>Southampton             </td><td>1                       </td><td>Bolton                  </td><td>2                       </td><td> 0.356651477            </td><td> 0.256414321            </td><td> 0.241475661            </td><td>-0.3392597              </td><td>...                     </td><td> 1.5296003              </td><td>0.5093668               </td><td> 0.29863417             </td><td>build                   </td><td>0.5498004               </td><td>0.2850137004            </td><td>1.651859e-01            </td><td>0                       </td><td>0                       </td><td>T2_Win                  </td></tr>\n",
       "\t<tr><td>5969fbcc4825083689956832</td><td>2004-04-24 14:00:00     </td><td>Manchester United       </td><td>0                       </td><td>Liverpool               </td><td>1                       </td><td>-0.001268403            </td><td>-0.072269002            </td><td>-0.084345236            </td><td>-0.3392597              </td><td>...                     </td><td>-0.2361961              </td><td>0.6441866               </td><td>-0.04117259             </td><td>build                   </td><td>0.7100506               </td><td>0.1680802540            </td><td>1.218692e-01            </td><td>0                       </td><td>0                       </td><td>T2_Win                  </td></tr>\n",
       "\t<tr><td>5969fbcc482508368995682c</td><td>2004-04-25 13:00:00     </td><td>Newcastle Utd           </td><td>2                       </td><td>Chelsea                 </td><td>1                       </td><td>-0.135965963            </td><td>-0.203999701            </td><td>-0.202757076            </td><td>-0.3392597              </td><td>...                     </td><td>-1.2802215              </td><td>0.5165924               </td><td>-0.18729685             </td><td>build                   </td><td>0.4357967               </td><td>0.2541103504            </td><td>3.100930e-01            </td><td>1                       </td><td>0                       </td><td>T1_Win                  </td></tr>\n",
       "\t<tr><td>5969fbcc482508368995682b</td><td>2004-04-25 15:00:00     </td><td>Tottenham               </td><td>2                       </td><td>Arsenal                 </td><td>2                       </td><td>-0.662569571            </td><td>-0.729655452            </td><td>-0.719691044            </td><td>-0.3392597              </td><td>...                     </td><td>-0.3775669              </td><td>0.5042308               </td><td>-0.75367246             </td><td>build                   </td><td>0.4482658               </td><td>0.2548647069            </td><td>2.968695e-01            </td><td>0                       </td><td>1                       </td><td>Draw                    </td></tr>\n",
       "\t<tr><td>5969fbcc4825083689956826</td><td>2004-05-01 14:00:00     </td><td>Chelsea                 </td><td>4                       </td><td>Southampton             </td><td>0                       </td><td> 0.096163195            </td><td> 0.002690612            </td><td>-0.002798292            </td><td>-0.3392597              </td><td>...                     </td><td>-0.7741807              </td><td>0.5929088               </td><td> 0.02019803             </td><td>build                   </td><td>0.7239659               </td><td>0.2025113797            </td><td>7.352274e-02            </td><td>1                       </td><td>0                       </td><td>T1_Win                  </td></tr>\n",
       "\t<tr><td>5969fbcc4825083689956828</td><td>2004-05-01 14:00:00     </td><td>Portsmouth              </td><td>1                       </td><td>Fulham                  </td><td>1                       </td><td>-0.045538291            </td><td>-0.132354698            </td><td>-0.134357988            </td><td>-0.3392597              </td><td>...                     </td><td> 0.9684411              </td><td>0.5998007               </td><td>-0.11695096             </td><td>build                   </td><td>0.4995620               </td><td>0.3159705120            </td><td>1.844675e-01            </td><td>0                       </td><td>1                       </td><td>Draw                    </td></tr>\n",
       "\t<tr><td>...</td><td>...</td><td>...</td><td>...</td><td>...</td><td>...</td><td>...</td><td>...</td><td>...</td><td>...</td><td>   </td><td>...</td><td>...</td><td>...</td><td>...</td><td>...</td><td>...</td><td>...</td><td>...</td><td>...</td><td>...</td></tr>\n",
       "\t<tr><td>59b050ff482508306303517e</td><td>2017-09-17 15:00:00     </td><td>Manchester United       </td><td>4                       </td><td>Everton                 </td><td>0                       </td><td> 7.089912e-01           </td><td> 0.75618038             </td><td> 0.74406755             </td><td>-0.3392597              </td><td>...                     </td><td>-1.17996972             </td><td>-1.508011               </td><td> 0.7777282              </td><td>build                   </td><td>0.6181967               </td><td>0.2697333               </td><td>0.11207002              </td><td>1                       </td><td>0                       </td><td>T1_Win                  </td></tr>\n",
       "\t<tr><td>59b50c7d4825080c2d524c8a</td><td>2017-09-23 14:00:00     </td><td>Everton                 </td><td>2                       </td><td>Bournemouth             </td><td>1                       </td><td> 7.260732e-01           </td><td> 0.74254075             </td><td> 0.73362930             </td><td>-0.3392597              </td><td>...                     </td><td> 0.79439123             </td><td>-1.608042               </td><td> 0.7304378              </td><td>build                   </td><td>0.4928199               </td><td>0.2602366               </td><td>0.24694353              </td><td>1                       </td><td>0                       </td><td>T1_Win                  </td></tr>\n",
       "\t<tr><td>59c1572c48250809e427342d</td><td>2017-09-30 11:30:00     </td><td>Huddersfield            </td><td>0                       </td><td>Tottenham               </td><td>4                       </td><td>-2.942339e+00           </td><td>-2.84902699             </td><td>-2.85561849             </td><td>-0.3392597              </td><td>...                     </td><td>-1.25812495             </td><td>-1.705638               </td><td>-2.8754365              </td><td>build                   </td><td>0.2855723               </td><td>0.3734857               </td><td>0.34094197              </td><td>0                       </td><td>0                       </td><td>T2_Win                  </td></tr>\n",
       "\t<tr><td>59c1572f48250809e4273431</td><td>2017-09-30 14:00:00     </td><td>West Brom               </td><td>2                       </td><td>Watford                 </td><td>2                       </td><td> 3.028655e-01           </td><td> 0.22238572             </td><td> 0.24199230             </td><td>-0.3392597              </td><td>...                     </td><td> 0.60355981             </td><td>-1.715778               </td><td> 0.1321040              </td><td>build                   </td><td>0.5135931               </td><td>0.1404938               </td><td>0.34591314              </td><td>0                       </td><td>1                       </td><td>Draw                    </td></tr>\n",
       "\t<tr><td>59c1573148250809e4273436</td><td>2017-10-01 15:30:00     </td><td>Newcastle Utd           </td><td>1                       </td><td>Liverpool               </td><td>1                       </td><td>-1.127485e+00           </td><td>-0.98194459             </td><td>-0.97895374             </td><td>-0.3392597              </td><td>...                     </td><td>-0.92212109             </td><td>-1.627359               </td><td>-0.8738286              </td><td>build                   </td><td>0.2627272               </td><td>0.1884771               </td><td>0.54879563              </td><td>0                       </td><td>1                       </td><td>Draw                    </td></tr>\n",
       "\t<tr><td>59d153c848250812289fb7dd</td><td>2017-10-14 14:00:00     </td><td>Manchester City         </td><td>7                       </td><td>Stoke City              </td><td>2                       </td><td> 2.279557e+00           </td><td> 2.39416330             </td><td> 2.42099065             </td><td>-0.3392597              </td><td>...                     </td><td> 0.31223556             </td><td>-1.516276               </td><td> 2.4239683              </td><td>build                   </td><td>0.7287277               </td><td>0.1740677               </td><td>0.09720467              </td><td>1                       </td><td>0                       </td><td>T1_Win                  </td></tr>\n",
       "\t<tr><td>59d153c948250812289fb7df</td><td>2017-10-14 14:00:00     </td><td>Tottenham               </td><td>1                       </td><td>Bournemouth             </td><td>0                       </td><td> 2.283968e+00           </td><td> 2.29035506             </td><td> 2.28431306             </td><td>-0.3392597              </td><td>...                     </td><td> 0.65450391             </td><td>-1.498263               </td><td> 2.3139618              </td><td>build                   </td><td>0.7268179               </td><td>0.1631107               </td><td>0.11007144              </td><td>1                       </td><td>0                       </td><td>T1_Win                  </td></tr>\n",
       "\t<tr><td>59d153c648250812289fb7db</td><td>2017-10-14 14:00:00     </td><td>Burnley                 </td><td>1                       </td><td>West Ham                </td><td>1                       </td><td> 2.390821e-01           </td><td> 0.21827605             </td><td> 0.22281845             </td><td>-0.3392597              </td><td>...                     </td><td> 0.44250339             </td><td>-1.647784               </td><td> 0.2331697              </td><td>build                   </td><td>0.4473064               </td><td>0.1637880               </td><td>0.38890563              </td><td>0                       </td><td>1                       </td><td>Draw                    </td></tr>\n",
       "\t<tr><td>59dbb63b4825080bdbe14825</td><td>2017-10-21 14:00:00     </td><td>Manchester City         </td><td>3                       </td><td>Burnley                 </td><td>0                       </td><td> 2.192194e+00           </td><td> 2.32347694             </td><td> 2.35028645             </td><td>-0.3392597              </td><td>...                     </td><td> 1.20737351             </td><td>-1.403698               </td><td> 2.3499147              </td><td>build                   </td><td>0.8154179               </td><td>0.1076773               </td><td>0.07690483              </td><td>1                       </td><td>0                       </td><td>T1_Win                  </td></tr>\n",
       "\t<tr><td>59dbb63c4825080bdbe14826</td><td>2017-10-21 14:00:00     </td><td>Newcastle Utd           </td><td>1                       </td><td>Crystal Palace          </td><td>0                       </td><td> 5.091704e-01           </td><td> 0.47280809             </td><td> 0.47706076             </td><td>-0.3392597              </td><td>...                     </td><td> 0.51583586             </td><td>-1.463246               </td><td> 0.5186170              </td><td>build                   </td><td>0.4767292               </td><td>0.2207808               </td><td>0.30248997              </td><td>1                       </td><td>0                       </td><td>T1_Win                  </td></tr>\n",
       "\t<tr><td>59dbb63d4825080bdbe14829</td><td>2017-10-21 16:30:00     </td><td>Southampton             </td><td>1                       </td><td>West Brom               </td><td>0                       </td><td> 2.480517e-01           </td><td> 0.17449651             </td><td> 0.19292086             </td><td>-0.3392597              </td><td>...                     </td><td> 0.92901998             </td><td>-1.445287               </td><td> 0.1600951              </td><td>build                   </td><td>0.3870381               </td><td>0.4500903               </td><td>0.16287152              </td><td>1                       </td><td>0                       </td><td>T1_Win                  </td></tr>\n",
       "\t<tr><td>59dbb63e4825080bdbe1482a</td><td>2017-10-22 12:30:00     </td><td>Everton                 </td><td>2                       </td><td>Arsenal                 </td><td>5                       </td><td>-7.334163e-01           </td><td>-0.65816114             </td><td>-0.64187043             </td><td>-0.3392597              </td><td>...                     </td><td>-0.73221666             </td><td>-1.540710               </td><td>-0.6755186              </td><td>build                   </td><td>0.2552626               </td><td>0.2164240               </td><td>0.52831341              </td><td>0                       </td><td>0                       </td><td>T2_Win                  </td></tr>\n",
       "\t<tr><td>59e2710748250813c1940caf</td><td>2017-10-28 11:30:00     </td><td>Manchester United       </td><td>1                       </td><td>Tottenham               </td><td>0                       </td><td>-6.432501e-01           </td><td>-0.49147672             </td><td>-0.49403950             </td><td>-0.3392597              </td><td>...                     </td><td>-1.60373351             </td><td>-1.448029               </td><td>-0.4833228              </td><td>build                   </td><td>0.4558233               </td><td>0.2700250               </td><td>0.27415168              </td><td>1                       </td><td>0                       </td><td>T1_Win                  </td></tr>\n",
       "\t<tr><td>59e2710a48250813c1940cb3</td><td>2017-10-28 14:00:00     </td><td>Watford                 </td><td>0                       </td><td>Stoke City              </td><td>1                       </td><td>-4.078113e-02           </td><td>-0.12544880             </td><td>-0.13487870             </td><td>-0.3392597              </td><td>...                     </td><td> 0.19121089             </td><td>-1.486767               </td><td>-0.1357063              </td><td>build                   </td><td>0.3993936               </td><td>0.4074337               </td><td>0.19317273              </td><td>0                       </td><td>0                       </td><td>T2_Win                  </td></tr>\n",
       "\t<tr><td>59e2710b48250813c1940cb5</td><td>2017-10-28 16:30:00     </td><td>Bournemouth             </td><td>0                       </td><td>Chelsea                 </td><td>1                       </td><td>-1.785109e+00           </td><td>-1.78999407             </td><td>-1.77722634             </td><td>-0.3392597              </td><td>...                     </td><td>-1.03087562             </td><td>-1.481914               </td><td>-1.7867371              </td><td>build                   </td><td>0.1127789               </td><td>0.2524730               </td><td>0.63474810              </td><td>0                       </td><td>0                       </td><td>T2_Win                  </td></tr>\n",
       "\t<tr><td>59e3c815482508497e129ee7</td><td>2017-10-29 16:00:00     </td><td>Leicester               </td><td>2                       </td><td>Everton                 </td><td>0                       </td><td>-1.016087e-01           </td><td>-0.05506807             </td><td>-0.06004887             </td><td>-0.3392597              </td><td>...                     </td><td>-0.33105301             </td><td>-1.445947               </td><td>-0.1467934              </td><td>build                   </td><td>0.3675887               </td><td>0.4406573               </td><td>0.19175400              </td><td>1                       </td><td>0                       </td><td>T1_Win                  </td></tr>\n",
       "\t<tr><td>59ee280a4825080b9ed279ca</td><td>2017-11-04 15:00:00     </td><td>Huddersfield            </td><td>1                       </td><td>West Brom               </td><td>0                       </td><td>-9.046458e-01           </td><td>-0.92289147             </td><td>-0.93200829             </td><td> 2.9475942              </td><td>...                     </td><td> 0.63336569             </td><td>-1.536498               </td><td>-0.9525740              </td><td>build                   </td><td>0.4928186               </td><td>0.4020512               </td><td>0.10513017              </td><td>1                       </td><td>0                       </td><td>T1_Win                  </td></tr>\n",
       "\t<tr><td>59ee280a4825080b9ed279cd</td><td>2017-11-04 15:00:00     </td><td>Swansea                 </td><td>0                       </td><td>Brighton                </td><td>1                       </td><td> 7.920212e-05           </td><td>-0.01698693             </td><td>-0.02992111             </td><td> 2.9475942              </td><td>...                     </td><td> 0.53527541             </td><td>-1.554549               </td><td>-0.1130188              </td><td>build                   </td><td>0.2445629               </td><td>0.4187134               </td><td>0.33672368              </td><td>0                       </td><td>0                       </td><td>T2_Win                  </td></tr>\n",
       "\t<tr><td>59ee280a4825080b9ed279cf</td><td>2017-11-05 12:00:00     </td><td>Tottenham               </td><td>1                       </td><td>Crystal Palace          </td><td>0                       </td><td> 2.526343e+00           </td><td> 2.48609002             </td><td> 2.48970033             </td><td> 2.9475942              </td><td>...                     </td><td> 0.40766080             </td><td>-1.613702               </td><td> 2.4645188              </td><td>build                   </td><td>0.7498174               </td><td>0.1344843               </td><td>0.11569832              </td><td>1                       </td><td>0                       </td><td>T1_Win                  </td></tr>\n",
       "\t<tr><td>59ee280a4825080b9ed279d0</td><td>2017-11-05 14:15:00     </td><td>Manchester City         </td><td>3                       </td><td>Arsenal                 </td><td>1                       </td><td> 1.040673e+00           </td><td> 1.18584689             </td><td> 1.21764366             </td><td> 2.9475942              </td><td>...                     </td><td>-1.43126474             </td><td>-1.567251               </td><td> 1.2373732              </td><td>build                   </td><td>0.4491487               </td><td>0.1929489               </td><td>0.35790245              </td><td>1                       </td><td>0                       </td><td>T1_Win                  </td></tr>\n",
       "\t<tr><td>59ee280a4825080b9ed279d2</td><td>2017-11-05 16:30:00     </td><td>Everton                 </td><td>3                       </td><td>Watford                 </td><td>2                       </td><td> 6.266435e-01           </td><td> 0.60371613             </td><td> 0.62895406             </td><td> 2.9475942              </td><td>...                     </td><td> 0.98911903             </td><td>-1.531143               </td><td> 0.4704718              </td><td>build                   </td><td>0.6105427               </td><td>0.1732919               </td><td>0.21616542              </td><td>1                       </td><td>0                       </td><td>T1_Win                  </td></tr>\n",
       "\t<tr><td>59ee280a4825080b9ed279d1</td><td>2017-11-05 16:30:00     </td><td>Chelsea                 </td><td>1                       </td><td>Manchester United       </td><td>0                       </td><td> 1.684365e-01           </td><td> 0.21478754             </td><td> 0.21737351             </td><td> 2.9475942              </td><td>...                     </td><td>-1.83043427             </td><td>-1.549188               </td><td> 0.1294810              </td><td>build                   </td><td>0.3967396               </td><td>0.3295443               </td><td>0.27371603              </td><td>1                       </td><td>0                       </td><td>T1_Win                  </td></tr>\n",
       "\t<tr><td>59fe4df04825080beffcd881</td><td>2017-11-18 12:30:00     </td><td>Arsenal                 </td><td>2                       </td><td>Tottenham               </td><td>0                       </td><td>-7.670269e-01           </td><td>-0.62381091             </td><td>-0.63300661             </td><td> 2.9475942              </td><td>...                     </td><td>-1.40195823             </td><td>-1.484774               </td><td>-0.6758970              </td><td>build                   </td><td>0.3263204               </td><td>0.3249059               </td><td>0.34877369              </td><td>1                       </td><td>0                       </td><td>T1_Win                  </td></tr>\n",
       "\t<tr><td>59fe4df04825080beffcd883</td><td>2017-11-18 15:00:00     </td><td>Burnley                 </td><td>2                       </td><td>Swansea                 </td><td>0                       </td><td> 3.806345e-01           </td><td> 0.40276993             </td><td> 0.40512243             </td><td> 2.9475942              </td><td>...                     </td><td> 0.27729370             </td><td>-1.459255               </td><td> 0.3990296              </td><td>build                   </td><td>0.3803702               </td><td>0.1970527               </td><td>0.42257709              </td><td>1                       </td><td>0                       </td><td>T1_Win                  </td></tr>\n",
       "\t<tr><td>59fe4df04825080beffcd885</td><td>2017-11-18 15:00:00     </td><td>Leicester               </td><td>0                       </td><td>Manchester City         </td><td>2                       </td><td>-2.042208e+00           </td><td>-1.83250822             </td><td>-1.84392573             </td><td> 2.9475942              </td><td>...                     </td><td>-0.62884772             </td><td>-1.462210               </td><td>-1.9857972              </td><td>build                   </td><td>0.1626055               </td><td>0.3746253               </td><td>0.46276914              </td><td>0                       </td><td>0                       </td><td>T2_Win                  </td></tr>\n",
       "\t<tr><td>59fe4df04825080beffcd888</td><td>2017-11-18 17:30:00     </td><td>Manchester United       </td><td>4                       </td><td>Newcastle Utd           </td><td>1                       </td><td> 1.503841e+00           </td><td> 1.63441042             </td><td> 1.62827909             </td><td> 2.9475942              </td><td>...                     </td><td>-0.62939427             </td><td>-1.387570               </td><td> 1.5922399              </td><td>build                   </td><td>0.7447889               </td><td>0.1654405               </td><td>0.08977061              </td><td>1                       </td><td>0                       </td><td>T1_Win                  </td></tr>\n",
       "\t<tr><td>5a071f9b482508420afac456</td><td>2017-11-24 20:00:00     </td><td>West Ham                </td><td>1                       </td><td>Leicester               </td><td>1                       </td><td>-6.483221e-01           </td><td>-0.68350006             </td><td>-0.67965023             </td><td> 2.9475942              </td><td>...                     </td><td> 0.02436838             </td><td>-1.362342               </td><td>-0.6108434              </td><td>build                   </td><td>0.3255523               </td><td>0.2465690               </td><td>0.42787867              </td><td>0                       </td><td>1                       </td><td>Draw                    </td></tr>\n",
       "\t<tr><td>5a071f9b482508420afac458</td><td>2017-11-25 15:00:00     </td><td>Manchester United       </td><td>1                       </td><td>Brighton                </td><td>0                       </td><td> 1.683356e+00           </td><td> 1.77422636             </td><td> 1.76927775             </td><td> 2.9475942              </td><td>...                     </td><td>-1.03497650             </td><td>-1.354956               </td><td> 1.7393073              </td><td>build                   </td><td>0.5764459               </td><td>0.3142004               </td><td>0.10935366              </td><td>1                       </td><td>0                       </td><td>T1_Win                  </td></tr>\n",
       "\t<tr><td>5a071f9b482508420afac45b</td><td>2017-11-25 15:00:00     </td><td>Tottenham               </td><td>1                       </td><td>West Brom               </td><td>1                       </td><td> 2.187186e+00           </td><td> 2.19638738             </td><td> 2.20204371             </td><td> 2.9475942              </td><td>...                     </td><td> 0.76640809             </td><td>-1.372825               </td><td> 2.3901673              </td><td>build                   </td><td>0.7313683               </td><td>0.1879092               </td><td>0.08072249              </td><td>0                       </td><td>1                       </td><td>Draw                    </td></tr>\n",
       "\t<tr><td>5a0837574825082702bbe4c7</td><td>2017-11-25 17:30:00     </td><td>Liverpool               </td><td>1                       </td><td>Chelsea                 </td><td>1                       </td><td>-5.470480e-01           </td><td>-0.40171205             </td><td>-0.39939550             </td><td> 2.9475942              </td><td>...                     </td><td>-0.98401119             </td><td>-1.453535               </td><td>-0.4034803              </td><td>build                   </td><td>0.3091953               </td><td>0.2796267               </td><td>0.41117796              </td><td>0                       </td><td>1                       </td><td>Draw                    </td></tr>\n",
       "</tbody>\n",
       "</table>\n"
      ],
      "text/latex": [
       "\\begin{tabular}{r|lllllllllllllllllllll}\n",
       " id & date & team\\_1\\_name & team\\_1\\_score & team\\_2\\_name & team\\_2\\_score & d\\_ability\\_1 & d\\_ability\\_3 & d\\_ability\\_4 & is\\_november & ... & d\\_form\\_4 & d\\_h2h\\_2 & c\\_ability\\_3 & datatype & team\\_1\\_prob & team\\_tie\\_prob & team\\_2\\_prob & team\\_1\\_win & team\\_1\\_draw & team\\_1\\_result\\\\\n",
       "\\hline\n",
       "\t 5969fbdb4825083689956890 & 2004-02-11 20:00:00      & Liverpool                & 2                        & Manchester City          & 1                        &  0.003688123             & -0.090361437             & -0.093261106             & -0.3392597               & ...                      &        NaN               &       NaN                & -0.07561561              & build                    &        NA                &           NA             &           NA             & 1                        & 0                        & T1\\_Win                \\\\\n",
       "\t 5969fbdb482508368995688f & 2004-02-11 20:00:00      & Charlton                 & 2                        & Tottenham                & 4                        &  0.003688123             & -0.090361437             & -0.093261106             & -0.3392597               & ...                      &        NaN               &       NaN                & -0.07561561              & build                    &        NA                &           NA             &           NA             & 0                        & 0                        & T2\\_Win                \\\\\n",
       "\t 5969fbdb482508368995688e & 2004-02-11 20:00:00      & Blackburn                & 1                        & Newcastle Utd            & 1                        &  0.003688123             & -0.090361437             & -0.093261106             & -0.3392597               & ...                      &        NaN               &       NaN                & -0.07561561              & build                    &        NA                &           NA             &           NA             & 0                        & 1                        & Draw                    \\\\\n",
       "\t 5969fbdb482508368995688c & 2004-02-21 12:30:00      & Chelsea                  & 1                        & Arsenal                  & 2                        &  0.096145967             & -0.002996394             & -0.009402297             & -0.3392597               & ...                      &        NaN               &       NaN                &  0.02032654              & build                    &        NA                &           NA             &           NA             & 0                        & 0                        & T2\\_Win                \\\\\n",
       "\t 5969fbdb482508368995688b & 2004-02-21 15:00:00      & Wolves                   & 2                        & Fulham                   & 1                        &  0.056191413             & -0.040848172             & -0.045747034             & -0.3392597               & ...                      &        NaN               &       NaN                & -0.02030511              & build                    &        NA                &           NA             &           NA             & 1                        & 0                        & T1\\_Win                \\\\\n",
       "\t 5969fbdb4825083689956888 & 2004-02-21 15:00:00      & Charlton                 & 3                        & Blackburn                & 2                        & -0.076220986             & -0.180078270             & -0.179656401             & -0.3392597               & ...                      &        NaN               &       NaN                & -0.17739046              & build                    &        NA                &           NA             &           NA             & 1                        & 0                        & T1\\_Win                \\\\\n",
       "\t 5969fbdb4825083689956886 & 2004-02-22 12:00:00      & Aston Villa              & 2                        & Birmingham               & 2                        & -0.051123516             & -0.142742019             & -0.143611908             & -0.3392597               & ...                      &        NaN               &       NaN                & -0.12752118              & build                    &        NA                &           NA             &           NA             & 0                        & 1                        & Draw                    \\\\\n",
       "\t 5969fbdb4825083689956883 & 2004-02-28 15:00:00      & Leicester                & 0                        & Wolves                   & 0                        & -0.006597362             & -0.100804923             & -0.103457348             & -0.3392597               & ...                      &        NaN               &       NaN                & -0.08199498              & build                    &        NA                &           NA             &           NA             & 0                        & 1                        & Draw                    \\\\\n",
       "\t 5969fbdb4825083689956882 & 2004-02-28 15:00:00      & Fulham                   & 1                        & Manchester United        & 1                        & -0.011168961             & -0.113069162             & -0.115258042             & -0.3392597               & ...                      &        NaN               &       NaN                & -0.09909708              & build                    &        NA                &           NA             &           NA             & 0                        & 1                        & Draw                    \\\\\n",
       "\t 5969fbdb482508368995687a & 2004-03-09 20:00:00      & Middlesbrough            & 1                        & Tottenham                & 0                        & -0.113854269             & -0.202138333             & -0.200787880             & -0.3392597               & ...                      &        NaN               &       NaN                & -0.18859130              & build                    &        NA                &           NA             &           NA             & 1                        & 0                        & T1\\_Win                \\\\\n",
       "\t 5969fbda4825083689956872 & 2004-03-14 14:00:00      & Manchester City          & 4                        & Manchester United        & 1                        &  0.067506495             & -0.038309110             & -0.043438867             & -0.3392597               & ...                      & -2.6608515               & 0.2805044                & -0.01933201              & build                    & 0.5199324                & 0.2541757954             & 2.258918e-01             & 1                        & 0                        & T1\\_Win                \\\\\n",
       "\t 5969fbda482508368995686f & 2004-03-17 20:00:00      & Liverpool                & 3                        & Portsmouth               & 0                        &  0.100028207             &  0.004313764             & -0.002102092             & -0.3392597               & ...                      &  0.5265413               & 0.4140971                &  0.03012769              & build                    & 0.6585989                & 0.2501215670             & 9.127953e-02             & 1                        & 0                        & T1\\_Win                \\\\\n",
       "\t 5969fbd44825083689956864 & 2004-03-27 12:30:00      & Birmingham               & 4                        & Leeds                    & 1                        &  0.148489979             &  0.072824955             &  0.064753014             & -0.3392597               & ...                      &  2.5228779               & 0.6466017                &  0.10027319              & build                    & 0.9996365                & 0.0003331325             & 3.038272e-05             & 1                        & 0                        & T1\\_Win                \\\\\n",
       "\t 5969fbd3482508368995685e & 2004-03-27 15:00:00      & Blackburn                & 1                        & Portsmouth               & 2                        &  0.155987456             &  0.035758307             &  0.028023141             & -0.3392597               & ...                      &  0.6524054               & 0.6126096                &  0.05106439              & build                    & 0.5218888                & 0.2444898485             & 2.336214e-01             & 0                        & 0                        & T2\\_Win                \\\\\n",
       "\t 5969fbd34825083689956860 & 2004-03-27 15:00:00      & Chelsea                  & 5                        & Wolves                   & 2                        &  0.357463695             &  0.239909300             &  0.234789745             & -0.3392597               & ...                      &  0.3855577               & 0.6534490                &  0.27599721              & build                    & 0.5611093                & 0.3867018357             & 5.218888e-02             & 1                        & 0                        & T1\\_Win                \\\\\n",
       "\t 5969fbd34825083689956859 & 2004-04-03 14:00:00      & Tottenham                & 0                        & Chelsea                  & 1                        & -0.355374610             & -0.429857534             & -0.419292412             & -0.3392597               & ...                      &  1.0874954               & 0.4688446                & -0.43451655              & build                    & 0.4717768                & 0.1891192788             & 3.391039e-01             & 0                        & 0                        & T2\\_Win                \\\\\n",
       "\t 5969fbd34825083689956855 & 2004-04-04 13:00:00      & Aston Villa              & 1                        & Manchester City          & 1                        &  0.026211003             & -0.086177368             & -0.079306463             & -0.3392597               & ...                      &  0.1783247               & 0.5451342                & -0.07424299              & build                    & 0.3681741                & 0.2924345021             & 3.393914e-01             & 0                        & 1                        & Draw                    \\\\\n",
       "\t 5969fbd34825083689956854 & 2004-04-04 14:00:00      & Liverpool                & 4                        & Blackburn                & 0                        &  0.208704160             &  0.126528180             &  0.115233793             & -0.3392597               & ...                      & -2.4429240               & 0.6461082                &  0.16575672              & build                    & 0.6242587                & 0.2914578253             & 8.428347e-02             & 1                        & 0                        & T1\\_Win                \\\\\n",
       "\t 5969fbd3482508368995684b & 2004-04-10 14:00:00      & Blackburn                & 1                        & Leeds                    & 2                        & -0.127699017             & -0.239581950             & -0.245523003             & -0.3392597               & ...                      &  1.1632240               & 0.6151056                & -0.24733041              & build                    & 0.9997236                & 0.0002393698             & 3.702607e-05             & 0                        & 0                        & T2\\_Win                \\\\\n",
       "\t 5969fbd3482508368995684f & 2004-04-10 14:00:00      & Leicester                & 0                        & Fulham                   & 2                        &  0.038484022             & -0.061516280             & -0.065279065             & -0.3392597               & ...                      &  0.4631463               & 0.6809869                & -0.04738403              & build                    & 0.5458307                & 0.3807101008             & 7.345922e-02             & 0                        & 0                        & T2\\_Win                \\\\\n",
       "\t 5969fbd34825083689956847 & 2004-04-12 14:00:00      & Tottenham                & 1                        & Manchester City          & 1                        & -0.223911918             & -0.311136531             & -0.306057734             & -0.3392597               & ...                      &  0.4267008               & 0.4839913                & -0.30840672              & build                    & 0.5767480                & 0.2089574880             & 2.142945e-01             & 0                        & 1                        & Draw                    \\\\\n",
       "\t 5969fbd34825083689956846 & 2004-04-12 14:00:00      & Portsmouth               & 3                        & Birmingham               & 1                        & -0.275497288             & -0.364376583             & -0.358262800             & -0.3392597               & ...                      & -0.2132664               & 0.5320644                & -0.35973652              & build                    & 0.5599309                & 0.2881582634             & 1.519108e-01             & 1                        & 0                        & T1\\_Win                \\\\\n",
       "\t 5969fbd34825083689956841 & 2004-04-13 18:45:00      & Leeds                    & 1                        & Everton                  & 1                        & -0.062727805             & -0.145049837             & -0.145955084             & -0.3392597               & ...                      &  1.0464162               & 0.4949421                & -0.13087552              & build                    & 0.4179578                & 0.3183257230             & 2.637165e-01             & 0                        & 1                        & Draw                    \\\\\n",
       "\t 5969fbcc4825083689956836 & 2004-04-18 13:00:00      & Aston Villa              & 0                        & Newcastle Utd            & 0                        &  0.011172043             & -0.093769411             & -0.087462397             & -0.3392597               & ...                      &  0.7384219               & 0.6408614                & -0.08283926              & build                    & 0.4537727                & 0.3009415535             & 2.452858e-01             & 0                        & 1                        & Draw                    \\\\\n",
       "\t 5969fbcc4825083689956834 & 2004-04-24 14:00:00      & Southampton              & 1                        & Bolton                   & 2                        &  0.356651477             &  0.256414321             &  0.241475661             & -0.3392597               & ...                      &  1.5296003               & 0.5093668                &  0.29863417              & build                    & 0.5498004                & 0.2850137004             & 1.651859e-01             & 0                        & 0                        & T2\\_Win                \\\\\n",
       "\t 5969fbcc4825083689956832 & 2004-04-24 14:00:00      & Manchester United        & 0                        & Liverpool                & 1                        & -0.001268403             & -0.072269002             & -0.084345236             & -0.3392597               & ...                      & -0.2361961               & 0.6441866                & -0.04117259              & build                    & 0.7100506                & 0.1680802540             & 1.218692e-01             & 0                        & 0                        & T2\\_Win                \\\\\n",
       "\t 5969fbcc482508368995682c & 2004-04-25 13:00:00      & Newcastle Utd            & 2                        & Chelsea                  & 1                        & -0.135965963             & -0.203999701             & -0.202757076             & -0.3392597               & ...                      & -1.2802215               & 0.5165924                & -0.18729685              & build                    & 0.4357967                & 0.2541103504             & 3.100930e-01             & 1                        & 0                        & T1\\_Win                \\\\\n",
       "\t 5969fbcc482508368995682b & 2004-04-25 15:00:00      & Tottenham                & 2                        & Arsenal                  & 2                        & -0.662569571             & -0.729655452             & -0.719691044             & -0.3392597               & ...                      & -0.3775669               & 0.5042308                & -0.75367246              & build                    & 0.4482658                & 0.2548647069             & 2.968695e-01             & 0                        & 1                        & Draw                    \\\\\n",
       "\t 5969fbcc4825083689956826 & 2004-05-01 14:00:00      & Chelsea                  & 4                        & Southampton              & 0                        &  0.096163195             &  0.002690612             & -0.002798292             & -0.3392597               & ...                      & -0.7741807               & 0.5929088                &  0.02019803              & build                    & 0.7239659                & 0.2025113797             & 7.352274e-02             & 1                        & 0                        & T1\\_Win                \\\\\n",
       "\t 5969fbcc4825083689956828 & 2004-05-01 14:00:00      & Portsmouth               & 1                        & Fulham                   & 1                        & -0.045538291             & -0.132354698             & -0.134357988             & -0.3392597               & ...                      &  0.9684411               & 0.5998007                & -0.11695096              & build                    & 0.4995620                & 0.3159705120             & 1.844675e-01             & 0                        & 1                        & Draw                    \\\\\n",
       "\t ... & ... & ... & ... & ... & ... & ... & ... & ... & ... &     & ... & ... & ... & ... & ... & ... & ... & ... & ... & ...\\\\\n",
       "\t 59b050ff482508306303517e & 2017-09-17 15:00:00      & Manchester United        & 4                        & Everton                  & 0                        &  7.089912e-01            &  0.75618038              &  0.74406755              & -0.3392597               & ...                      & -1.17996972              & -1.508011                &  0.7777282               & build                    & 0.6181967                & 0.2697333                & 0.11207002               & 1                        & 0                        & T1\\_Win                \\\\\n",
       "\t 59b50c7d4825080c2d524c8a & 2017-09-23 14:00:00      & Everton                  & 2                        & Bournemouth              & 1                        &  7.260732e-01            &  0.74254075              &  0.73362930              & -0.3392597               & ...                      &  0.79439123              & -1.608042                &  0.7304378               & build                    & 0.4928199                & 0.2602366                & 0.24694353               & 1                        & 0                        & T1\\_Win                \\\\\n",
       "\t 59c1572c48250809e427342d & 2017-09-30 11:30:00      & Huddersfield             & 0                        & Tottenham                & 4                        & -2.942339e+00            & -2.84902699              & -2.85561849              & -0.3392597               & ...                      & -1.25812495              & -1.705638                & -2.8754365               & build                    & 0.2855723                & 0.3734857                & 0.34094197               & 0                        & 0                        & T2\\_Win                \\\\\n",
       "\t 59c1572f48250809e4273431 & 2017-09-30 14:00:00      & West Brom                & 2                        & Watford                  & 2                        &  3.028655e-01            &  0.22238572              &  0.24199230              & -0.3392597               & ...                      &  0.60355981              & -1.715778                &  0.1321040               & build                    & 0.5135931                & 0.1404938                & 0.34591314               & 0                        & 1                        & Draw                    \\\\\n",
       "\t 59c1573148250809e4273436 & 2017-10-01 15:30:00      & Newcastle Utd            & 1                        & Liverpool                & 1                        & -1.127485e+00            & -0.98194459              & -0.97895374              & -0.3392597               & ...                      & -0.92212109              & -1.627359                & -0.8738286               & build                    & 0.2627272                & 0.1884771                & 0.54879563               & 0                        & 1                        & Draw                    \\\\\n",
       "\t 59d153c848250812289fb7dd & 2017-10-14 14:00:00      & Manchester City          & 7                        & Stoke City               & 2                        &  2.279557e+00            &  2.39416330              &  2.42099065              & -0.3392597               & ...                      &  0.31223556              & -1.516276                &  2.4239683               & build                    & 0.7287277                & 0.1740677                & 0.09720467               & 1                        & 0                        & T1\\_Win                \\\\\n",
       "\t 59d153c948250812289fb7df & 2017-10-14 14:00:00      & Tottenham                & 1                        & Bournemouth              & 0                        &  2.283968e+00            &  2.29035506              &  2.28431306              & -0.3392597               & ...                      &  0.65450391              & -1.498263                &  2.3139618               & build                    & 0.7268179                & 0.1631107                & 0.11007144               & 1                        & 0                        & T1\\_Win                \\\\\n",
       "\t 59d153c648250812289fb7db & 2017-10-14 14:00:00      & Burnley                  & 1                        & West Ham                 & 1                        &  2.390821e-01            &  0.21827605              &  0.22281845              & -0.3392597               & ...                      &  0.44250339              & -1.647784                &  0.2331697               & build                    & 0.4473064                & 0.1637880                & 0.38890563               & 0                        & 1                        & Draw                    \\\\\n",
       "\t 59dbb63b4825080bdbe14825 & 2017-10-21 14:00:00      & Manchester City          & 3                        & Burnley                  & 0                        &  2.192194e+00            &  2.32347694              &  2.35028645              & -0.3392597               & ...                      &  1.20737351              & -1.403698                &  2.3499147               & build                    & 0.8154179                & 0.1076773                & 0.07690483               & 1                        & 0                        & T1\\_Win                \\\\\n",
       "\t 59dbb63c4825080bdbe14826 & 2017-10-21 14:00:00      & Newcastle Utd            & 1                        & Crystal Palace           & 0                        &  5.091704e-01            &  0.47280809              &  0.47706076              & -0.3392597               & ...                      &  0.51583586              & -1.463246                &  0.5186170               & build                    & 0.4767292                & 0.2207808                & 0.30248997               & 1                        & 0                        & T1\\_Win                \\\\\n",
       "\t 59dbb63d4825080bdbe14829 & 2017-10-21 16:30:00      & Southampton              & 1                        & West Brom                & 0                        &  2.480517e-01            &  0.17449651              &  0.19292086              & -0.3392597               & ...                      &  0.92901998              & -1.445287                &  0.1600951               & build                    & 0.3870381                & 0.4500903                & 0.16287152               & 1                        & 0                        & T1\\_Win                \\\\\n",
       "\t 59dbb63e4825080bdbe1482a & 2017-10-22 12:30:00      & Everton                  & 2                        & Arsenal                  & 5                        & -7.334163e-01            & -0.65816114              & -0.64187043              & -0.3392597               & ...                      & -0.73221666              & -1.540710                & -0.6755186               & build                    & 0.2552626                & 0.2164240                & 0.52831341               & 0                        & 0                        & T2\\_Win                \\\\\n",
       "\t 59e2710748250813c1940caf & 2017-10-28 11:30:00      & Manchester United        & 1                        & Tottenham                & 0                        & -6.432501e-01            & -0.49147672              & -0.49403950              & -0.3392597               & ...                      & -1.60373351              & -1.448029                & -0.4833228               & build                    & 0.4558233                & 0.2700250                & 0.27415168               & 1                        & 0                        & T1\\_Win                \\\\\n",
       "\t 59e2710a48250813c1940cb3 & 2017-10-28 14:00:00      & Watford                  & 0                        & Stoke City               & 1                        & -4.078113e-02            & -0.12544880              & -0.13487870              & -0.3392597               & ...                      &  0.19121089              & -1.486767                & -0.1357063               & build                    & 0.3993936                & 0.4074337                & 0.19317273               & 0                        & 0                        & T2\\_Win                \\\\\n",
       "\t 59e2710b48250813c1940cb5 & 2017-10-28 16:30:00      & Bournemouth              & 0                        & Chelsea                  & 1                        & -1.785109e+00            & -1.78999407              & -1.77722634              & -0.3392597               & ...                      & -1.03087562              & -1.481914                & -1.7867371               & build                    & 0.1127789                & 0.2524730                & 0.63474810               & 0                        & 0                        & T2\\_Win                \\\\\n",
       "\t 59e3c815482508497e129ee7 & 2017-10-29 16:00:00      & Leicester                & 2                        & Everton                  & 0                        & -1.016087e-01            & -0.05506807              & -0.06004887              & -0.3392597               & ...                      & -0.33105301              & -1.445947                & -0.1467934               & build                    & 0.3675887                & 0.4406573                & 0.19175400               & 1                        & 0                        & T1\\_Win                \\\\\n",
       "\t 59ee280a4825080b9ed279ca & 2017-11-04 15:00:00      & Huddersfield             & 1                        & West Brom                & 0                        & -9.046458e-01            & -0.92289147              & -0.93200829              &  2.9475942               & ...                      &  0.63336569              & -1.536498                & -0.9525740               & build                    & 0.4928186                & 0.4020512                & 0.10513017               & 1                        & 0                        & T1\\_Win                \\\\\n",
       "\t 59ee280a4825080b9ed279cd & 2017-11-04 15:00:00      & Swansea                  & 0                        & Brighton                 & 1                        &  7.920212e-05            & -0.01698693              & -0.02992111              &  2.9475942               & ...                      &  0.53527541              & -1.554549                & -0.1130188               & build                    & 0.2445629                & 0.4187134                & 0.33672368               & 0                        & 0                        & T2\\_Win                \\\\\n",
       "\t 59ee280a4825080b9ed279cf & 2017-11-05 12:00:00      & Tottenham                & 1                        & Crystal Palace           & 0                        &  2.526343e+00            &  2.48609002              &  2.48970033              &  2.9475942               & ...                      &  0.40766080              & -1.613702                &  2.4645188               & build                    & 0.7498174                & 0.1344843                & 0.11569832               & 1                        & 0                        & T1\\_Win                \\\\\n",
       "\t 59ee280a4825080b9ed279d0 & 2017-11-05 14:15:00      & Manchester City          & 3                        & Arsenal                  & 1                        &  1.040673e+00            &  1.18584689              &  1.21764366              &  2.9475942               & ...                      & -1.43126474              & -1.567251                &  1.2373732               & build                    & 0.4491487                & 0.1929489                & 0.35790245               & 1                        & 0                        & T1\\_Win                \\\\\n",
       "\t 59ee280a4825080b9ed279d2 & 2017-11-05 16:30:00      & Everton                  & 3                        & Watford                  & 2                        &  6.266435e-01            &  0.60371613              &  0.62895406              &  2.9475942               & ...                      &  0.98911903              & -1.531143                &  0.4704718               & build                    & 0.6105427                & 0.1732919                & 0.21616542               & 1                        & 0                        & T1\\_Win                \\\\\n",
       "\t 59ee280a4825080b9ed279d1 & 2017-11-05 16:30:00      & Chelsea                  & 1                        & Manchester United        & 0                        &  1.684365e-01            &  0.21478754              &  0.21737351              &  2.9475942               & ...                      & -1.83043427              & -1.549188                &  0.1294810               & build                    & 0.3967396                & 0.3295443                & 0.27371603               & 1                        & 0                        & T1\\_Win                \\\\\n",
       "\t 59fe4df04825080beffcd881 & 2017-11-18 12:30:00      & Arsenal                  & 2                        & Tottenham                & 0                        & -7.670269e-01            & -0.62381091              & -0.63300661              &  2.9475942               & ...                      & -1.40195823              & -1.484774                & -0.6758970               & build                    & 0.3263204                & 0.3249059                & 0.34877369               & 1                        & 0                        & T1\\_Win                \\\\\n",
       "\t 59fe4df04825080beffcd883 & 2017-11-18 15:00:00      & Burnley                  & 2                        & Swansea                  & 0                        &  3.806345e-01            &  0.40276993              &  0.40512243              &  2.9475942               & ...                      &  0.27729370              & -1.459255                &  0.3990296               & build                    & 0.3803702                & 0.1970527                & 0.42257709               & 1                        & 0                        & T1\\_Win                \\\\\n",
       "\t 59fe4df04825080beffcd885 & 2017-11-18 15:00:00      & Leicester                & 0                        & Manchester City          & 2                        & -2.042208e+00            & -1.83250822              & -1.84392573              &  2.9475942               & ...                      & -0.62884772              & -1.462210                & -1.9857972               & build                    & 0.1626055                & 0.3746253                & 0.46276914               & 0                        & 0                        & T2\\_Win                \\\\\n",
       "\t 59fe4df04825080beffcd888 & 2017-11-18 17:30:00      & Manchester United        & 4                        & Newcastle Utd            & 1                        &  1.503841e+00            &  1.63441042              &  1.62827909              &  2.9475942               & ...                      & -0.62939427              & -1.387570                &  1.5922399               & build                    & 0.7447889                & 0.1654405                & 0.08977061               & 1                        & 0                        & T1\\_Win                \\\\\n",
       "\t 5a071f9b482508420afac456 & 2017-11-24 20:00:00      & West Ham                 & 1                        & Leicester                & 1                        & -6.483221e-01            & -0.68350006              & -0.67965023              &  2.9475942               & ...                      &  0.02436838              & -1.362342                & -0.6108434               & build                    & 0.3255523                & 0.2465690                & 0.42787867               & 0                        & 1                        & Draw                    \\\\\n",
       "\t 5a071f9b482508420afac458 & 2017-11-25 15:00:00      & Manchester United        & 1                        & Brighton                 & 0                        &  1.683356e+00            &  1.77422636              &  1.76927775              &  2.9475942               & ...                      & -1.03497650              & -1.354956                &  1.7393073               & build                    & 0.5764459                & 0.3142004                & 0.10935366               & 1                        & 0                        & T1\\_Win                \\\\\n",
       "\t 5a071f9b482508420afac45b & 2017-11-25 15:00:00      & Tottenham                & 1                        & West Brom                & 1                        &  2.187186e+00            &  2.19638738              &  2.20204371              &  2.9475942               & ...                      &  0.76640809              & -1.372825                &  2.3901673               & build                    & 0.7313683                & 0.1879092                & 0.08072249               & 0                        & 1                        & Draw                    \\\\\n",
       "\t 5a0837574825082702bbe4c7 & 2017-11-25 17:30:00      & Liverpool                & 1                        & Chelsea                  & 1                        & -5.470480e-01            & -0.40171205              & -0.39939550              &  2.9475942               & ...                      & -0.98401119              & -1.453535                & -0.4034803               & build                    & 0.3091953                & 0.2796267                & 0.41117796               & 0                        & 1                        & Draw                    \\\\\n",
       "\\end{tabular}\n"
      ],
      "text/markdown": [
       "\n",
       "id | date | team_1_name | team_1_score | team_2_name | team_2_score | d_ability_1 | d_ability_3 | d_ability_4 | is_november | ... | d_form_4 | d_h2h_2 | c_ability_3 | datatype | team_1_prob | team_tie_prob | team_2_prob | team_1_win | team_1_draw | team_1_result | \n",
       "|---|---|---|---|---|---|---|---|---|---|---|---|---|---|---|---|---|---|---|---|---|---|---|---|---|---|---|---|---|---|---|---|---|---|---|---|---|---|---|---|---|---|---|---|---|---|---|---|---|---|---|---|---|---|---|---|---|---|---|---|---|\n",
       "| 5969fbdb4825083689956890 | 2004-02-11 20:00:00      | Liverpool                | 2                        | Manchester City          | 1                        |  0.003688123             | -0.090361437             | -0.093261106             | -0.3392597               | ...                      |        NaN               |       NaN                | -0.07561561              | build                    |        NA                |           NA             |           NA             | 1                        | 0                        | T1_Win                   | \n",
       "| 5969fbdb482508368995688f | 2004-02-11 20:00:00      | Charlton                 | 2                        | Tottenham                | 4                        |  0.003688123             | -0.090361437             | -0.093261106             | -0.3392597               | ...                      |        NaN               |       NaN                | -0.07561561              | build                    |        NA                |           NA             |           NA             | 0                        | 0                        | T2_Win                   | \n",
       "| 5969fbdb482508368995688e | 2004-02-11 20:00:00      | Blackburn                | 1                        | Newcastle Utd            | 1                        |  0.003688123             | -0.090361437             | -0.093261106             | -0.3392597               | ...                      |        NaN               |       NaN                | -0.07561561              | build                    |        NA                |           NA             |           NA             | 0                        | 1                        | Draw                     | \n",
       "| 5969fbdb482508368995688c | 2004-02-21 12:30:00      | Chelsea                  | 1                        | Arsenal                  | 2                        |  0.096145967             | -0.002996394             | -0.009402297             | -0.3392597               | ...                      |        NaN               |       NaN                |  0.02032654              | build                    |        NA                |           NA             |           NA             | 0                        | 0                        | T2_Win                   | \n",
       "| 5969fbdb482508368995688b | 2004-02-21 15:00:00      | Wolves                   | 2                        | Fulham                   | 1                        |  0.056191413             | -0.040848172             | -0.045747034             | -0.3392597               | ...                      |        NaN               |       NaN                | -0.02030511              | build                    |        NA                |           NA             |           NA             | 1                        | 0                        | T1_Win                   | \n",
       "| 5969fbdb4825083689956888 | 2004-02-21 15:00:00      | Charlton                 | 3                        | Blackburn                | 2                        | -0.076220986             | -0.180078270             | -0.179656401             | -0.3392597               | ...                      |        NaN               |       NaN                | -0.17739046              | build                    |        NA                |           NA             |           NA             | 1                        | 0                        | T1_Win                   | \n",
       "| 5969fbdb4825083689956886 | 2004-02-22 12:00:00      | Aston Villa              | 2                        | Birmingham               | 2                        | -0.051123516             | -0.142742019             | -0.143611908             | -0.3392597               | ...                      |        NaN               |       NaN                | -0.12752118              | build                    |        NA                |           NA             |           NA             | 0                        | 1                        | Draw                     | \n",
       "| 5969fbdb4825083689956883 | 2004-02-28 15:00:00      | Leicester                | 0                        | Wolves                   | 0                        | -0.006597362             | -0.100804923             | -0.103457348             | -0.3392597               | ...                      |        NaN               |       NaN                | -0.08199498              | build                    |        NA                |           NA             |           NA             | 0                        | 1                        | Draw                     | \n",
       "| 5969fbdb4825083689956882 | 2004-02-28 15:00:00      | Fulham                   | 1                        | Manchester United        | 1                        | -0.011168961             | -0.113069162             | -0.115258042             | -0.3392597               | ...                      |        NaN               |       NaN                | -0.09909708              | build                    |        NA                |           NA             |           NA             | 0                        | 1                        | Draw                     | \n",
       "| 5969fbdb482508368995687a | 2004-03-09 20:00:00      | Middlesbrough            | 1                        | Tottenham                | 0                        | -0.113854269             | -0.202138333             | -0.200787880             | -0.3392597               | ...                      |        NaN               |       NaN                | -0.18859130              | build                    |        NA                |           NA             |           NA             | 1                        | 0                        | T1_Win                   | \n",
       "| 5969fbda4825083689956872 | 2004-03-14 14:00:00      | Manchester City          | 4                        | Manchester United        | 1                        |  0.067506495             | -0.038309110             | -0.043438867             | -0.3392597               | ...                      | -2.6608515               | 0.2805044                | -0.01933201              | build                    | 0.5199324                | 0.2541757954             | 2.258918e-01             | 1                        | 0                        | T1_Win                   | \n",
       "| 5969fbda482508368995686f | 2004-03-17 20:00:00      | Liverpool                | 3                        | Portsmouth               | 0                        |  0.100028207             |  0.004313764             | -0.002102092             | -0.3392597               | ...                      |  0.5265413               | 0.4140971                |  0.03012769              | build                    | 0.6585989                | 0.2501215670             | 9.127953e-02             | 1                        | 0                        | T1_Win                   | \n",
       "| 5969fbd44825083689956864 | 2004-03-27 12:30:00      | Birmingham               | 4                        | Leeds                    | 1                        |  0.148489979             |  0.072824955             |  0.064753014             | -0.3392597               | ...                      |  2.5228779               | 0.6466017                |  0.10027319              | build                    | 0.9996365                | 0.0003331325             | 3.038272e-05             | 1                        | 0                        | T1_Win                   | \n",
       "| 5969fbd3482508368995685e | 2004-03-27 15:00:00      | Blackburn                | 1                        | Portsmouth               | 2                        |  0.155987456             |  0.035758307             |  0.028023141             | -0.3392597               | ...                      |  0.6524054               | 0.6126096                |  0.05106439              | build                    | 0.5218888                | 0.2444898485             | 2.336214e-01             | 0                        | 0                        | T2_Win                   | \n",
       "| 5969fbd34825083689956860 | 2004-03-27 15:00:00      | Chelsea                  | 5                        | Wolves                   | 2                        |  0.357463695             |  0.239909300             |  0.234789745             | -0.3392597               | ...                      |  0.3855577               | 0.6534490                |  0.27599721              | build                    | 0.5611093                | 0.3867018357             | 5.218888e-02             | 1                        | 0                        | T1_Win                   | \n",
       "| 5969fbd34825083689956859 | 2004-04-03 14:00:00      | Tottenham                | 0                        | Chelsea                  | 1                        | -0.355374610             | -0.429857534             | -0.419292412             | -0.3392597               | ...                      |  1.0874954               | 0.4688446                | -0.43451655              | build                    | 0.4717768                | 0.1891192788             | 3.391039e-01             | 0                        | 0                        | T2_Win                   | \n",
       "| 5969fbd34825083689956855 | 2004-04-04 13:00:00      | Aston Villa              | 1                        | Manchester City          | 1                        |  0.026211003             | -0.086177368             | -0.079306463             | -0.3392597               | ...                      |  0.1783247               | 0.5451342                | -0.07424299              | build                    | 0.3681741                | 0.2924345021             | 3.393914e-01             | 0                        | 1                        | Draw                     | \n",
       "| 5969fbd34825083689956854 | 2004-04-04 14:00:00      | Liverpool                | 4                        | Blackburn                | 0                        |  0.208704160             |  0.126528180             |  0.115233793             | -0.3392597               | ...                      | -2.4429240               | 0.6461082                |  0.16575672              | build                    | 0.6242587                | 0.2914578253             | 8.428347e-02             | 1                        | 0                        | T1_Win                   | \n",
       "| 5969fbd3482508368995684b | 2004-04-10 14:00:00      | Blackburn                | 1                        | Leeds                    | 2                        | -0.127699017             | -0.239581950             | -0.245523003             | -0.3392597               | ...                      |  1.1632240               | 0.6151056                | -0.24733041              | build                    | 0.9997236                | 0.0002393698             | 3.702607e-05             | 0                        | 0                        | T2_Win                   | \n",
       "| 5969fbd3482508368995684f | 2004-04-10 14:00:00      | Leicester                | 0                        | Fulham                   | 2                        |  0.038484022             | -0.061516280             | -0.065279065             | -0.3392597               | ...                      |  0.4631463               | 0.6809869                | -0.04738403              | build                    | 0.5458307                | 0.3807101008             | 7.345922e-02             | 0                        | 0                        | T2_Win                   | \n",
       "| 5969fbd34825083689956847 | 2004-04-12 14:00:00      | Tottenham                | 1                        | Manchester City          | 1                        | -0.223911918             | -0.311136531             | -0.306057734             | -0.3392597               | ...                      |  0.4267008               | 0.4839913                | -0.30840672              | build                    | 0.5767480                | 0.2089574880             | 2.142945e-01             | 0                        | 1                        | Draw                     | \n",
       "| 5969fbd34825083689956846 | 2004-04-12 14:00:00      | Portsmouth               | 3                        | Birmingham               | 1                        | -0.275497288             | -0.364376583             | -0.358262800             | -0.3392597               | ...                      | -0.2132664               | 0.5320644                | -0.35973652              | build                    | 0.5599309                | 0.2881582634             | 1.519108e-01             | 1                        | 0                        | T1_Win                   | \n",
       "| 5969fbd34825083689956841 | 2004-04-13 18:45:00      | Leeds                    | 1                        | Everton                  | 1                        | -0.062727805             | -0.145049837             | -0.145955084             | -0.3392597               | ...                      |  1.0464162               | 0.4949421                | -0.13087552              | build                    | 0.4179578                | 0.3183257230             | 2.637165e-01             | 0                        | 1                        | Draw                     | \n",
       "| 5969fbcc4825083689956836 | 2004-04-18 13:00:00      | Aston Villa              | 0                        | Newcastle Utd            | 0                        |  0.011172043             | -0.093769411             | -0.087462397             | -0.3392597               | ...                      |  0.7384219               | 0.6408614                | -0.08283926              | build                    | 0.4537727                | 0.3009415535             | 2.452858e-01             | 0                        | 1                        | Draw                     | \n",
       "| 5969fbcc4825083689956834 | 2004-04-24 14:00:00      | Southampton              | 1                        | Bolton                   | 2                        |  0.356651477             |  0.256414321             |  0.241475661             | -0.3392597               | ...                      |  1.5296003               | 0.5093668                |  0.29863417              | build                    | 0.5498004                | 0.2850137004             | 1.651859e-01             | 0                        | 0                        | T2_Win                   | \n",
       "| 5969fbcc4825083689956832 | 2004-04-24 14:00:00      | Manchester United        | 0                        | Liverpool                | 1                        | -0.001268403             | -0.072269002             | -0.084345236             | -0.3392597               | ...                      | -0.2361961               | 0.6441866                | -0.04117259              | build                    | 0.7100506                | 0.1680802540             | 1.218692e-01             | 0                        | 0                        | T2_Win                   | \n",
       "| 5969fbcc482508368995682c | 2004-04-25 13:00:00      | Newcastle Utd            | 2                        | Chelsea                  | 1                        | -0.135965963             | -0.203999701             | -0.202757076             | -0.3392597               | ...                      | -1.2802215               | 0.5165924                | -0.18729685              | build                    | 0.4357967                | 0.2541103504             | 3.100930e-01             | 1                        | 0                        | T1_Win                   | \n",
       "| 5969fbcc482508368995682b | 2004-04-25 15:00:00      | Tottenham                | 2                        | Arsenal                  | 2                        | -0.662569571             | -0.729655452             | -0.719691044             | -0.3392597               | ...                      | -0.3775669               | 0.5042308                | -0.75367246              | build                    | 0.4482658                | 0.2548647069             | 2.968695e-01             | 0                        | 1                        | Draw                     | \n",
       "| 5969fbcc4825083689956826 | 2004-05-01 14:00:00      | Chelsea                  | 4                        | Southampton              | 0                        |  0.096163195             |  0.002690612             | -0.002798292             | -0.3392597               | ...                      | -0.7741807               | 0.5929088                |  0.02019803              | build                    | 0.7239659                | 0.2025113797             | 7.352274e-02             | 1                        | 0                        | T1_Win                   | \n",
       "| 5969fbcc4825083689956828 | 2004-05-01 14:00:00      | Portsmouth               | 1                        | Fulham                   | 1                        | -0.045538291             | -0.132354698             | -0.134357988             | -0.3392597               | ...                      |  0.9684411               | 0.5998007                | -0.11695096              | build                    | 0.4995620                | 0.3159705120             | 1.844675e-01             | 0                        | 1                        | Draw                     | \n",
       "| ... | ... | ... | ... | ... | ... | ... | ... | ... | ... |     | ... | ... | ... | ... | ... | ... | ... | ... | ... | ... | \n",
       "| 59b050ff482508306303517e | 2017-09-17 15:00:00      | Manchester United        | 4                        | Everton                  | 0                        |  7.089912e-01            |  0.75618038              |  0.74406755              | -0.3392597               | ...                      | -1.17996972              | -1.508011                |  0.7777282               | build                    | 0.6181967                | 0.2697333                | 0.11207002               | 1                        | 0                        | T1_Win                   | \n",
       "| 59b50c7d4825080c2d524c8a | 2017-09-23 14:00:00      | Everton                  | 2                        | Bournemouth              | 1                        |  7.260732e-01            |  0.74254075              |  0.73362930              | -0.3392597               | ...                      |  0.79439123              | -1.608042                |  0.7304378               | build                    | 0.4928199                | 0.2602366                | 0.24694353               | 1                        | 0                        | T1_Win                   | \n",
       "| 59c1572c48250809e427342d | 2017-09-30 11:30:00      | Huddersfield             | 0                        | Tottenham                | 4                        | -2.942339e+00            | -2.84902699              | -2.85561849              | -0.3392597               | ...                      | -1.25812495              | -1.705638                | -2.8754365               | build                    | 0.2855723                | 0.3734857                | 0.34094197               | 0                        | 0                        | T2_Win                   | \n",
       "| 59c1572f48250809e4273431 | 2017-09-30 14:00:00      | West Brom                | 2                        | Watford                  | 2                        |  3.028655e-01            |  0.22238572              |  0.24199230              | -0.3392597               | ...                      |  0.60355981              | -1.715778                |  0.1321040               | build                    | 0.5135931                | 0.1404938                | 0.34591314               | 0                        | 1                        | Draw                     | \n",
       "| 59c1573148250809e4273436 | 2017-10-01 15:30:00      | Newcastle Utd            | 1                        | Liverpool                | 1                        | -1.127485e+00            | -0.98194459              | -0.97895374              | -0.3392597               | ...                      | -0.92212109              | -1.627359                | -0.8738286               | build                    | 0.2627272                | 0.1884771                | 0.54879563               | 0                        | 1                        | Draw                     | \n",
       "| 59d153c848250812289fb7dd | 2017-10-14 14:00:00      | Manchester City          | 7                        | Stoke City               | 2                        |  2.279557e+00            |  2.39416330              |  2.42099065              | -0.3392597               | ...                      |  0.31223556              | -1.516276                |  2.4239683               | build                    | 0.7287277                | 0.1740677                | 0.09720467               | 1                        | 0                        | T1_Win                   | \n",
       "| 59d153c948250812289fb7df | 2017-10-14 14:00:00      | Tottenham                | 1                        | Bournemouth              | 0                        |  2.283968e+00            |  2.29035506              |  2.28431306              | -0.3392597               | ...                      |  0.65450391              | -1.498263                |  2.3139618               | build                    | 0.7268179                | 0.1631107                | 0.11007144               | 1                        | 0                        | T1_Win                   | \n",
       "| 59d153c648250812289fb7db | 2017-10-14 14:00:00      | Burnley                  | 1                        | West Ham                 | 1                        |  2.390821e-01            |  0.21827605              |  0.22281845              | -0.3392597               | ...                      |  0.44250339              | -1.647784                |  0.2331697               | build                    | 0.4473064                | 0.1637880                | 0.38890563               | 0                        | 1                        | Draw                     | \n",
       "| 59dbb63b4825080bdbe14825 | 2017-10-21 14:00:00      | Manchester City          | 3                        | Burnley                  | 0                        |  2.192194e+00            |  2.32347694              |  2.35028645              | -0.3392597               | ...                      |  1.20737351              | -1.403698                |  2.3499147               | build                    | 0.8154179                | 0.1076773                | 0.07690483               | 1                        | 0                        | T1_Win                   | \n",
       "| 59dbb63c4825080bdbe14826 | 2017-10-21 14:00:00      | Newcastle Utd            | 1                        | Crystal Palace           | 0                        |  5.091704e-01            |  0.47280809              |  0.47706076              | -0.3392597               | ...                      |  0.51583586              | -1.463246                |  0.5186170               | build                    | 0.4767292                | 0.2207808                | 0.30248997               | 1                        | 0                        | T1_Win                   | \n",
       "| 59dbb63d4825080bdbe14829 | 2017-10-21 16:30:00      | Southampton              | 1                        | West Brom                | 0                        |  2.480517e-01            |  0.17449651              |  0.19292086              | -0.3392597               | ...                      |  0.92901998              | -1.445287                |  0.1600951               | build                    | 0.3870381                | 0.4500903                | 0.16287152               | 1                        | 0                        | T1_Win                   | \n",
       "| 59dbb63e4825080bdbe1482a | 2017-10-22 12:30:00      | Everton                  | 2                        | Arsenal                  | 5                        | -7.334163e-01            | -0.65816114              | -0.64187043              | -0.3392597               | ...                      | -0.73221666              | -1.540710                | -0.6755186               | build                    | 0.2552626                | 0.2164240                | 0.52831341               | 0                        | 0                        | T2_Win                   | \n",
       "| 59e2710748250813c1940caf | 2017-10-28 11:30:00      | Manchester United        | 1                        | Tottenham                | 0                        | -6.432501e-01            | -0.49147672              | -0.49403950              | -0.3392597               | ...                      | -1.60373351              | -1.448029                | -0.4833228               | build                    | 0.4558233                | 0.2700250                | 0.27415168               | 1                        | 0                        | T1_Win                   | \n",
       "| 59e2710a48250813c1940cb3 | 2017-10-28 14:00:00      | Watford                  | 0                        | Stoke City               | 1                        | -4.078113e-02            | -0.12544880              | -0.13487870              | -0.3392597               | ...                      |  0.19121089              | -1.486767                | -0.1357063               | build                    | 0.3993936                | 0.4074337                | 0.19317273               | 0                        | 0                        | T2_Win                   | \n",
       "| 59e2710b48250813c1940cb5 | 2017-10-28 16:30:00      | Bournemouth              | 0                        | Chelsea                  | 1                        | -1.785109e+00            | -1.78999407              | -1.77722634              | -0.3392597               | ...                      | -1.03087562              | -1.481914                | -1.7867371               | build                    | 0.1127789                | 0.2524730                | 0.63474810               | 0                        | 0                        | T2_Win                   | \n",
       "| 59e3c815482508497e129ee7 | 2017-10-29 16:00:00      | Leicester                | 2                        | Everton                  | 0                        | -1.016087e-01            | -0.05506807              | -0.06004887              | -0.3392597               | ...                      | -0.33105301              | -1.445947                | -0.1467934               | build                    | 0.3675887                | 0.4406573                | 0.19175400               | 1                        | 0                        | T1_Win                   | \n",
       "| 59ee280a4825080b9ed279ca | 2017-11-04 15:00:00      | Huddersfield             | 1                        | West Brom                | 0                        | -9.046458e-01            | -0.92289147              | -0.93200829              |  2.9475942               | ...                      |  0.63336569              | -1.536498                | -0.9525740               | build                    | 0.4928186                | 0.4020512                | 0.10513017               | 1                        | 0                        | T1_Win                   | \n",
       "| 59ee280a4825080b9ed279cd | 2017-11-04 15:00:00      | Swansea                  | 0                        | Brighton                 | 1                        |  7.920212e-05            | -0.01698693              | -0.02992111              |  2.9475942               | ...                      |  0.53527541              | -1.554549                | -0.1130188               | build                    | 0.2445629                | 0.4187134                | 0.33672368               | 0                        | 0                        | T2_Win                   | \n",
       "| 59ee280a4825080b9ed279cf | 2017-11-05 12:00:00      | Tottenham                | 1                        | Crystal Palace           | 0                        |  2.526343e+00            |  2.48609002              |  2.48970033              |  2.9475942               | ...                      |  0.40766080              | -1.613702                |  2.4645188               | build                    | 0.7498174                | 0.1344843                | 0.11569832               | 1                        | 0                        | T1_Win                   | \n",
       "| 59ee280a4825080b9ed279d0 | 2017-11-05 14:15:00      | Manchester City          | 3                        | Arsenal                  | 1                        |  1.040673e+00            |  1.18584689              |  1.21764366              |  2.9475942               | ...                      | -1.43126474              | -1.567251                |  1.2373732               | build                    | 0.4491487                | 0.1929489                | 0.35790245               | 1                        | 0                        | T1_Win                   | \n",
       "| 59ee280a4825080b9ed279d2 | 2017-11-05 16:30:00      | Everton                  | 3                        | Watford                  | 2                        |  6.266435e-01            |  0.60371613              |  0.62895406              |  2.9475942               | ...                      |  0.98911903              | -1.531143                |  0.4704718               | build                    | 0.6105427                | 0.1732919                | 0.21616542               | 1                        | 0                        | T1_Win                   | \n",
       "| 59ee280a4825080b9ed279d1 | 2017-11-05 16:30:00      | Chelsea                  | 1                        | Manchester United        | 0                        |  1.684365e-01            |  0.21478754              |  0.21737351              |  2.9475942               | ...                      | -1.83043427              | -1.549188                |  0.1294810               | build                    | 0.3967396                | 0.3295443                | 0.27371603               | 1                        | 0                        | T1_Win                   | \n",
       "| 59fe4df04825080beffcd881 | 2017-11-18 12:30:00      | Arsenal                  | 2                        | Tottenham                | 0                        | -7.670269e-01            | -0.62381091              | -0.63300661              |  2.9475942               | ...                      | -1.40195823              | -1.484774                | -0.6758970               | build                    | 0.3263204                | 0.3249059                | 0.34877369               | 1                        | 0                        | T1_Win                   | \n",
       "| 59fe4df04825080beffcd883 | 2017-11-18 15:00:00      | Burnley                  | 2                        | Swansea                  | 0                        |  3.806345e-01            |  0.40276993              |  0.40512243              |  2.9475942               | ...                      |  0.27729370              | -1.459255                |  0.3990296               | build                    | 0.3803702                | 0.1970527                | 0.42257709               | 1                        | 0                        | T1_Win                   | \n",
       "| 59fe4df04825080beffcd885 | 2017-11-18 15:00:00      | Leicester                | 0                        | Manchester City          | 2                        | -2.042208e+00            | -1.83250822              | -1.84392573              |  2.9475942               | ...                      | -0.62884772              | -1.462210                | -1.9857972               | build                    | 0.1626055                | 0.3746253                | 0.46276914               | 0                        | 0                        | T2_Win                   | \n",
       "| 59fe4df04825080beffcd888 | 2017-11-18 17:30:00      | Manchester United        | 4                        | Newcastle Utd            | 1                        |  1.503841e+00            |  1.63441042              |  1.62827909              |  2.9475942               | ...                      | -0.62939427              | -1.387570                |  1.5922399               | build                    | 0.7447889                | 0.1654405                | 0.08977061               | 1                        | 0                        | T1_Win                   | \n",
       "| 5a071f9b482508420afac456 | 2017-11-24 20:00:00      | West Ham                 | 1                        | Leicester                | 1                        | -6.483221e-01            | -0.68350006              | -0.67965023              |  2.9475942               | ...                      |  0.02436838              | -1.362342                | -0.6108434               | build                    | 0.3255523                | 0.2465690                | 0.42787867               | 0                        | 1                        | Draw                     | \n",
       "| 5a071f9b482508420afac458 | 2017-11-25 15:00:00      | Manchester United        | 1                        | Brighton                 | 0                        |  1.683356e+00            |  1.77422636              |  1.76927775              |  2.9475942               | ...                      | -1.03497650              | -1.354956                |  1.7393073               | build                    | 0.5764459                | 0.3142004                | 0.10935366               | 1                        | 0                        | T1_Win                   | \n",
       "| 5a071f9b482508420afac45b | 2017-11-25 15:00:00      | Tottenham                | 1                        | West Brom                | 1                        |  2.187186e+00            |  2.19638738              |  2.20204371              |  2.9475942               | ...                      |  0.76640809              | -1.372825                |  2.3901673               | build                    | 0.7313683                | 0.1879092                | 0.08072249               | 0                        | 1                        | Draw                     | \n",
       "| 5a0837574825082702bbe4c7 | 2017-11-25 17:30:00      | Liverpool                | 1                        | Chelsea                  | 1                        | -5.470480e-01            | -0.40171205              | -0.39939550              |  2.9475942               | ...                      | -0.98401119              | -1.453535                | -0.4034803               | build                    | 0.3091953                | 0.2796267                | 0.41117796               | 0                        | 1                        | Draw                     | \n",
       "\n",
       "\n"
      ],
      "text/plain": [
       "     id                       date                team_1_name      \n",
       "1    5969fbdb4825083689956890 2004-02-11 20:00:00 Liverpool        \n",
       "2    5969fbdb482508368995688f 2004-02-11 20:00:00 Charlton         \n",
       "3    5969fbdb482508368995688e 2004-02-11 20:00:00 Blackburn        \n",
       "4    5969fbdb482508368995688c 2004-02-21 12:30:00 Chelsea          \n",
       "5    5969fbdb482508368995688b 2004-02-21 15:00:00 Wolves           \n",
       "6    5969fbdb4825083689956888 2004-02-21 15:00:00 Charlton         \n",
       "7    5969fbdb4825083689956886 2004-02-22 12:00:00 Aston Villa      \n",
       "8    5969fbdb4825083689956883 2004-02-28 15:00:00 Leicester        \n",
       "9    5969fbdb4825083689956882 2004-02-28 15:00:00 Fulham           \n",
       "10   5969fbdb482508368995687a 2004-03-09 20:00:00 Middlesbrough    \n",
       "11   5969fbda4825083689956872 2004-03-14 14:00:00 Manchester City  \n",
       "12   5969fbda482508368995686f 2004-03-17 20:00:00 Liverpool        \n",
       "13   5969fbd44825083689956864 2004-03-27 12:30:00 Birmingham       \n",
       "14   5969fbd3482508368995685e 2004-03-27 15:00:00 Blackburn        \n",
       "15   5969fbd34825083689956860 2004-03-27 15:00:00 Chelsea          \n",
       "16   5969fbd34825083689956859 2004-04-03 14:00:00 Tottenham        \n",
       "17   5969fbd34825083689956855 2004-04-04 13:00:00 Aston Villa      \n",
       "18   5969fbd34825083689956854 2004-04-04 14:00:00 Liverpool        \n",
       "19   5969fbd3482508368995684b 2004-04-10 14:00:00 Blackburn        \n",
       "20   5969fbd3482508368995684f 2004-04-10 14:00:00 Leicester        \n",
       "21   5969fbd34825083689956847 2004-04-12 14:00:00 Tottenham        \n",
       "22   5969fbd34825083689956846 2004-04-12 14:00:00 Portsmouth       \n",
       "23   5969fbd34825083689956841 2004-04-13 18:45:00 Leeds            \n",
       "24   5969fbcc4825083689956836 2004-04-18 13:00:00 Aston Villa      \n",
       "25   5969fbcc4825083689956834 2004-04-24 14:00:00 Southampton      \n",
       "26   5969fbcc4825083689956832 2004-04-24 14:00:00 Manchester United\n",
       "27   5969fbcc482508368995682c 2004-04-25 13:00:00 Newcastle Utd    \n",
       "28   5969fbcc482508368995682b 2004-04-25 15:00:00 Tottenham        \n",
       "29   5969fbcc4825083689956826 2004-05-01 14:00:00 Chelsea          \n",
       "30   5969fbcc4825083689956828 2004-05-01 14:00:00 Portsmouth       \n",
       "...  ...                      ...                 ...              \n",
       "1529 59b050ff482508306303517e 2017-09-17 15:00:00 Manchester United\n",
       "1530 59b50c7d4825080c2d524c8a 2017-09-23 14:00:00 Everton          \n",
       "1531 59c1572c48250809e427342d 2017-09-30 11:30:00 Huddersfield     \n",
       "1532 59c1572f48250809e4273431 2017-09-30 14:00:00 West Brom        \n",
       "1533 59c1573148250809e4273436 2017-10-01 15:30:00 Newcastle Utd    \n",
       "1534 59d153c848250812289fb7dd 2017-10-14 14:00:00 Manchester City  \n",
       "1535 59d153c948250812289fb7df 2017-10-14 14:00:00 Tottenham        \n",
       "1536 59d153c648250812289fb7db 2017-10-14 14:00:00 Burnley          \n",
       "1537 59dbb63b4825080bdbe14825 2017-10-21 14:00:00 Manchester City  \n",
       "1538 59dbb63c4825080bdbe14826 2017-10-21 14:00:00 Newcastle Utd    \n",
       "1539 59dbb63d4825080bdbe14829 2017-10-21 16:30:00 Southampton      \n",
       "1540 59dbb63e4825080bdbe1482a 2017-10-22 12:30:00 Everton          \n",
       "1541 59e2710748250813c1940caf 2017-10-28 11:30:00 Manchester United\n",
       "1542 59e2710a48250813c1940cb3 2017-10-28 14:00:00 Watford          \n",
       "1543 59e2710b48250813c1940cb5 2017-10-28 16:30:00 Bournemouth      \n",
       "1544 59e3c815482508497e129ee7 2017-10-29 16:00:00 Leicester        \n",
       "1545 59ee280a4825080b9ed279ca 2017-11-04 15:00:00 Huddersfield     \n",
       "1546 59ee280a4825080b9ed279cd 2017-11-04 15:00:00 Swansea          \n",
       "1547 59ee280a4825080b9ed279cf 2017-11-05 12:00:00 Tottenham        \n",
       "1548 59ee280a4825080b9ed279d0 2017-11-05 14:15:00 Manchester City  \n",
       "1549 59ee280a4825080b9ed279d2 2017-11-05 16:30:00 Everton          \n",
       "1550 59ee280a4825080b9ed279d1 2017-11-05 16:30:00 Chelsea          \n",
       "1551 59fe4df04825080beffcd881 2017-11-18 12:30:00 Arsenal          \n",
       "1552 59fe4df04825080beffcd883 2017-11-18 15:00:00 Burnley          \n",
       "1553 59fe4df04825080beffcd885 2017-11-18 15:00:00 Leicester        \n",
       "1554 59fe4df04825080beffcd888 2017-11-18 17:30:00 Manchester United\n",
       "1555 5a071f9b482508420afac456 2017-11-24 20:00:00 West Ham         \n",
       "1556 5a071f9b482508420afac458 2017-11-25 15:00:00 Manchester United\n",
       "1557 5a071f9b482508420afac45b 2017-11-25 15:00:00 Tottenham        \n",
       "1558 5a0837574825082702bbe4c7 2017-11-25 17:30:00 Liverpool        \n",
       "     team_1_score team_2_name       team_2_score d_ability_1   d_ability_3 \n",
       "1    2            Manchester City   1             0.003688123  -0.090361437\n",
       "2    2            Tottenham         4             0.003688123  -0.090361437\n",
       "3    1            Newcastle Utd     1             0.003688123  -0.090361437\n",
       "4    1            Arsenal           2             0.096145967  -0.002996394\n",
       "5    2            Fulham            1             0.056191413  -0.040848172\n",
       "6    3            Blackburn         2            -0.076220986  -0.180078270\n",
       "7    2            Birmingham        2            -0.051123516  -0.142742019\n",
       "8    0            Wolves            0            -0.006597362  -0.100804923\n",
       "9    1            Manchester United 1            -0.011168961  -0.113069162\n",
       "10   1            Tottenham         0            -0.113854269  -0.202138333\n",
       "11   4            Manchester United 1             0.067506495  -0.038309110\n",
       "12   3            Portsmouth        0             0.100028207   0.004313764\n",
       "13   4            Leeds             1             0.148489979   0.072824955\n",
       "14   1            Portsmouth        2             0.155987456   0.035758307\n",
       "15   5            Wolves            2             0.357463695   0.239909300\n",
       "16   0            Chelsea           1            -0.355374610  -0.429857534\n",
       "17   1            Manchester City   1             0.026211003  -0.086177368\n",
       "18   4            Blackburn         0             0.208704160   0.126528180\n",
       "19   1            Leeds             2            -0.127699017  -0.239581950\n",
       "20   0            Fulham            2             0.038484022  -0.061516280\n",
       "21   1            Manchester City   1            -0.223911918  -0.311136531\n",
       "22   3            Birmingham        1            -0.275497288  -0.364376583\n",
       "23   1            Everton           1            -0.062727805  -0.145049837\n",
       "24   0            Newcastle Utd     0             0.011172043  -0.093769411\n",
       "25   1            Bolton            2             0.356651477   0.256414321\n",
       "26   0            Liverpool         1            -0.001268403  -0.072269002\n",
       "27   2            Chelsea           1            -0.135965963  -0.203999701\n",
       "28   2            Arsenal           2            -0.662569571  -0.729655452\n",
       "29   4            Southampton       0             0.096163195   0.002690612\n",
       "30   1            Fulham            1            -0.045538291  -0.132354698\n",
       "...  ...          ...               ...          ...           ...         \n",
       "1529 4            Everton           0             7.089912e-01  0.75618038 \n",
       "1530 2            Bournemouth       1             7.260732e-01  0.74254075 \n",
       "1531 0            Tottenham         4            -2.942339e+00 -2.84902699 \n",
       "1532 2            Watford           2             3.028655e-01  0.22238572 \n",
       "1533 1            Liverpool         1            -1.127485e+00 -0.98194459 \n",
       "1534 7            Stoke City        2             2.279557e+00  2.39416330 \n",
       "1535 1            Bournemouth       0             2.283968e+00  2.29035506 \n",
       "1536 1            West Ham          1             2.390821e-01  0.21827605 \n",
       "1537 3            Burnley           0             2.192194e+00  2.32347694 \n",
       "1538 1            Crystal Palace    0             5.091704e-01  0.47280809 \n",
       "1539 1            West Brom         0             2.480517e-01  0.17449651 \n",
       "1540 2            Arsenal           5            -7.334163e-01 -0.65816114 \n",
       "1541 1            Tottenham         0            -6.432501e-01 -0.49147672 \n",
       "1542 0            Stoke City        1            -4.078113e-02 -0.12544880 \n",
       "1543 0            Chelsea           1            -1.785109e+00 -1.78999407 \n",
       "1544 2            Everton           0            -1.016087e-01 -0.05506807 \n",
       "1545 1            West Brom         0            -9.046458e-01 -0.92289147 \n",
       "1546 0            Brighton          1             7.920212e-05 -0.01698693 \n",
       "1547 1            Crystal Palace    0             2.526343e+00  2.48609002 \n",
       "1548 3            Arsenal           1             1.040673e+00  1.18584689 \n",
       "1549 3            Watford           2             6.266435e-01  0.60371613 \n",
       "1550 1            Manchester United 0             1.684365e-01  0.21478754 \n",
       "1551 2            Tottenham         0            -7.670269e-01 -0.62381091 \n",
       "1552 2            Swansea           0             3.806345e-01  0.40276993 \n",
       "1553 0            Manchester City   2            -2.042208e+00 -1.83250822 \n",
       "1554 4            Newcastle Utd     1             1.503841e+00  1.63441042 \n",
       "1555 1            Leicester         1            -6.483221e-01 -0.68350006 \n",
       "1556 1            Brighton          0             1.683356e+00  1.77422636 \n",
       "1557 1            West Brom         1             2.187186e+00  2.19638738 \n",
       "1558 1            Chelsea           1            -5.470480e-01 -0.40171205 \n",
       "     d_ability_4  is_november ... d_form_4    d_h2h_2   c_ability_3 datatype\n",
       "1    -0.093261106 -0.3392597  ...        NaN        NaN -0.07561561 build   \n",
       "2    -0.093261106 -0.3392597  ...        NaN        NaN -0.07561561 build   \n",
       "3    -0.093261106 -0.3392597  ...        NaN        NaN -0.07561561 build   \n",
       "4    -0.009402297 -0.3392597  ...        NaN        NaN  0.02032654 build   \n",
       "5    -0.045747034 -0.3392597  ...        NaN        NaN -0.02030511 build   \n",
       "6    -0.179656401 -0.3392597  ...        NaN        NaN -0.17739046 build   \n",
       "7    -0.143611908 -0.3392597  ...        NaN        NaN -0.12752118 build   \n",
       "8    -0.103457348 -0.3392597  ...        NaN        NaN -0.08199498 build   \n",
       "9    -0.115258042 -0.3392597  ...        NaN        NaN -0.09909708 build   \n",
       "10   -0.200787880 -0.3392597  ...        NaN        NaN -0.18859130 build   \n",
       "11   -0.043438867 -0.3392597  ... -2.6608515  0.2805044 -0.01933201 build   \n",
       "12   -0.002102092 -0.3392597  ...  0.5265413  0.4140971  0.03012769 build   \n",
       "13    0.064753014 -0.3392597  ...  2.5228779  0.6466017  0.10027319 build   \n",
       "14    0.028023141 -0.3392597  ...  0.6524054  0.6126096  0.05106439 build   \n",
       "15    0.234789745 -0.3392597  ...  0.3855577  0.6534490  0.27599721 build   \n",
       "16   -0.419292412 -0.3392597  ...  1.0874954  0.4688446 -0.43451655 build   \n",
       "17   -0.079306463 -0.3392597  ...  0.1783247  0.5451342 -0.07424299 build   \n",
       "18    0.115233793 -0.3392597  ... -2.4429240  0.6461082  0.16575672 build   \n",
       "19   -0.245523003 -0.3392597  ...  1.1632240  0.6151056 -0.24733041 build   \n",
       "20   -0.065279065 -0.3392597  ...  0.4631463  0.6809869 -0.04738403 build   \n",
       "21   -0.306057734 -0.3392597  ...  0.4267008  0.4839913 -0.30840672 build   \n",
       "22   -0.358262800 -0.3392597  ... -0.2132664  0.5320644 -0.35973652 build   \n",
       "23   -0.145955084 -0.3392597  ...  1.0464162  0.4949421 -0.13087552 build   \n",
       "24   -0.087462397 -0.3392597  ...  0.7384219  0.6408614 -0.08283926 build   \n",
       "25    0.241475661 -0.3392597  ...  1.5296003  0.5093668  0.29863417 build   \n",
       "26   -0.084345236 -0.3392597  ... -0.2361961  0.6441866 -0.04117259 build   \n",
       "27   -0.202757076 -0.3392597  ... -1.2802215  0.5165924 -0.18729685 build   \n",
       "28   -0.719691044 -0.3392597  ... -0.3775669  0.5042308 -0.75367246 build   \n",
       "29   -0.002798292 -0.3392597  ... -0.7741807  0.5929088  0.02019803 build   \n",
       "30   -0.134357988 -0.3392597  ...  0.9684411  0.5998007 -0.11695096 build   \n",
       "...  ...          ...             ...         ...       ...         ...     \n",
       "1529  0.74406755  -0.3392597  ... -1.17996972 -1.508011  0.7777282  build   \n",
       "1530  0.73362930  -0.3392597  ...  0.79439123 -1.608042  0.7304378  build   \n",
       "1531 -2.85561849  -0.3392597  ... -1.25812495 -1.705638 -2.8754365  build   \n",
       "1532  0.24199230  -0.3392597  ...  0.60355981 -1.715778  0.1321040  build   \n",
       "1533 -0.97895374  -0.3392597  ... -0.92212109 -1.627359 -0.8738286  build   \n",
       "1534  2.42099065  -0.3392597  ...  0.31223556 -1.516276  2.4239683  build   \n",
       "1535  2.28431306  -0.3392597  ...  0.65450391 -1.498263  2.3139618  build   \n",
       "1536  0.22281845  -0.3392597  ...  0.44250339 -1.647784  0.2331697  build   \n",
       "1537  2.35028645  -0.3392597  ...  1.20737351 -1.403698  2.3499147  build   \n",
       "1538  0.47706076  -0.3392597  ...  0.51583586 -1.463246  0.5186170  build   \n",
       "1539  0.19292086  -0.3392597  ...  0.92901998 -1.445287  0.1600951  build   \n",
       "1540 -0.64187043  -0.3392597  ... -0.73221666 -1.540710 -0.6755186  build   \n",
       "1541 -0.49403950  -0.3392597  ... -1.60373351 -1.448029 -0.4833228  build   \n",
       "1542 -0.13487870  -0.3392597  ...  0.19121089 -1.486767 -0.1357063  build   \n",
       "1543 -1.77722634  -0.3392597  ... -1.03087562 -1.481914 -1.7867371  build   \n",
       "1544 -0.06004887  -0.3392597  ... -0.33105301 -1.445947 -0.1467934  build   \n",
       "1545 -0.93200829   2.9475942  ...  0.63336569 -1.536498 -0.9525740  build   \n",
       "1546 -0.02992111   2.9475942  ...  0.53527541 -1.554549 -0.1130188  build   \n",
       "1547  2.48970033   2.9475942  ...  0.40766080 -1.613702  2.4645188  build   \n",
       "1548  1.21764366   2.9475942  ... -1.43126474 -1.567251  1.2373732  build   \n",
       "1549  0.62895406   2.9475942  ...  0.98911903 -1.531143  0.4704718  build   \n",
       "1550  0.21737351   2.9475942  ... -1.83043427 -1.549188  0.1294810  build   \n",
       "1551 -0.63300661   2.9475942  ... -1.40195823 -1.484774 -0.6758970  build   \n",
       "1552  0.40512243   2.9475942  ...  0.27729370 -1.459255  0.3990296  build   \n",
       "1553 -1.84392573   2.9475942  ... -0.62884772 -1.462210 -1.9857972  build   \n",
       "1554  1.62827909   2.9475942  ... -0.62939427 -1.387570  1.5922399  build   \n",
       "1555 -0.67965023   2.9475942  ...  0.02436838 -1.362342 -0.6108434  build   \n",
       "1556  1.76927775   2.9475942  ... -1.03497650 -1.354956  1.7393073  build   \n",
       "1557  2.20204371   2.9475942  ...  0.76640809 -1.372825  2.3901673  build   \n",
       "1558 -0.39939550   2.9475942  ... -0.98401119 -1.453535 -0.4034803  build   \n",
       "     team_1_prob team_tie_prob team_2_prob  team_1_win team_1_draw\n",
       "1           NA             NA            NA 1          0          \n",
       "2           NA             NA            NA 0          0          \n",
       "3           NA             NA            NA 0          1          \n",
       "4           NA             NA            NA 0          0          \n",
       "5           NA             NA            NA 1          0          \n",
       "6           NA             NA            NA 1          0          \n",
       "7           NA             NA            NA 0          1          \n",
       "8           NA             NA            NA 0          1          \n",
       "9           NA             NA            NA 0          1          \n",
       "10          NA             NA            NA 1          0          \n",
       "11   0.5199324   0.2541757954  2.258918e-01 1          0          \n",
       "12   0.6585989   0.2501215670  9.127953e-02 1          0          \n",
       "13   0.9996365   0.0003331325  3.038272e-05 1          0          \n",
       "14   0.5218888   0.2444898485  2.336214e-01 0          0          \n",
       "15   0.5611093   0.3867018357  5.218888e-02 1          0          \n",
       "16   0.4717768   0.1891192788  3.391039e-01 0          0          \n",
       "17   0.3681741   0.2924345021  3.393914e-01 0          1          \n",
       "18   0.6242587   0.2914578253  8.428347e-02 1          0          \n",
       "19   0.9997236   0.0002393698  3.702607e-05 0          0          \n",
       "20   0.5458307   0.3807101008  7.345922e-02 0          0          \n",
       "21   0.5767480   0.2089574880  2.142945e-01 0          1          \n",
       "22   0.5599309   0.2881582634  1.519108e-01 1          0          \n",
       "23   0.4179578   0.3183257230  2.637165e-01 0          1          \n",
       "24   0.4537727   0.3009415535  2.452858e-01 0          1          \n",
       "25   0.5498004   0.2850137004  1.651859e-01 0          0          \n",
       "26   0.7100506   0.1680802540  1.218692e-01 0          0          \n",
       "27   0.4357967   0.2541103504  3.100930e-01 1          0          \n",
       "28   0.4482658   0.2548647069  2.968695e-01 0          1          \n",
       "29   0.7239659   0.2025113797  7.352274e-02 1          0          \n",
       "30   0.4995620   0.3159705120  1.844675e-01 0          1          \n",
       "...  ...         ...           ...          ...        ...        \n",
       "1529 0.6181967   0.2697333     0.11207002   1          0          \n",
       "1530 0.4928199   0.2602366     0.24694353   1          0          \n",
       "1531 0.2855723   0.3734857     0.34094197   0          0          \n",
       "1532 0.5135931   0.1404938     0.34591314   0          1          \n",
       "1533 0.2627272   0.1884771     0.54879563   0          1          \n",
       "1534 0.7287277   0.1740677     0.09720467   1          0          \n",
       "1535 0.7268179   0.1631107     0.11007144   1          0          \n",
       "1536 0.4473064   0.1637880     0.38890563   0          1          \n",
       "1537 0.8154179   0.1076773     0.07690483   1          0          \n",
       "1538 0.4767292   0.2207808     0.30248997   1          0          \n",
       "1539 0.3870381   0.4500903     0.16287152   1          0          \n",
       "1540 0.2552626   0.2164240     0.52831341   0          0          \n",
       "1541 0.4558233   0.2700250     0.27415168   1          0          \n",
       "1542 0.3993936   0.4074337     0.19317273   0          0          \n",
       "1543 0.1127789   0.2524730     0.63474810   0          0          \n",
       "1544 0.3675887   0.4406573     0.19175400   1          0          \n",
       "1545 0.4928186   0.4020512     0.10513017   1          0          \n",
       "1546 0.2445629   0.4187134     0.33672368   0          0          \n",
       "1547 0.7498174   0.1344843     0.11569832   1          0          \n",
       "1548 0.4491487   0.1929489     0.35790245   1          0          \n",
       "1549 0.6105427   0.1732919     0.21616542   1          0          \n",
       "1550 0.3967396   0.3295443     0.27371603   1          0          \n",
       "1551 0.3263204   0.3249059     0.34877369   1          0          \n",
       "1552 0.3803702   0.1970527     0.42257709   1          0          \n",
       "1553 0.1626055   0.3746253     0.46276914   0          0          \n",
       "1554 0.7447889   0.1654405     0.08977061   1          0          \n",
       "1555 0.3255523   0.2465690     0.42787867   0          1          \n",
       "1556 0.5764459   0.3142004     0.10935366   1          0          \n",
       "1557 0.7313683   0.1879092     0.08072249   0          1          \n",
       "1558 0.3091953   0.2796267     0.41117796   0          1          \n",
       "     team_1_result\n",
       "1    T1_Win       \n",
       "2    T2_Win       \n",
       "3    Draw         \n",
       "4    T2_Win       \n",
       "5    T1_Win       \n",
       "6    T1_Win       \n",
       "7    Draw         \n",
       "8    Draw         \n",
       "9    Draw         \n",
       "10   T1_Win       \n",
       "11   T1_Win       \n",
       "12   T1_Win       \n",
       "13   T1_Win       \n",
       "14   T2_Win       \n",
       "15   T1_Win       \n",
       "16   T2_Win       \n",
       "17   Draw         \n",
       "18   T1_Win       \n",
       "19   T2_Win       \n",
       "20   T2_Win       \n",
       "21   Draw         \n",
       "22   T1_Win       \n",
       "23   Draw         \n",
       "24   Draw         \n",
       "25   T2_Win       \n",
       "26   T2_Win       \n",
       "27   T1_Win       \n",
       "28   Draw         \n",
       "29   T1_Win       \n",
       "30   Draw         \n",
       "...  ...          \n",
       "1529 T1_Win       \n",
       "1530 T1_Win       \n",
       "1531 T2_Win       \n",
       "1532 Draw         \n",
       "1533 Draw         \n",
       "1534 T1_Win       \n",
       "1535 T1_Win       \n",
       "1536 Draw         \n",
       "1537 T1_Win       \n",
       "1538 T1_Win       \n",
       "1539 T1_Win       \n",
       "1540 T2_Win       \n",
       "1541 T1_Win       \n",
       "1542 T2_Win       \n",
       "1543 T2_Win       \n",
       "1544 T1_Win       \n",
       "1545 T1_Win       \n",
       "1546 T2_Win       \n",
       "1547 T1_Win       \n",
       "1548 T1_Win       \n",
       "1549 T1_Win       \n",
       "1550 T1_Win       \n",
       "1551 T1_Win       \n",
       "1552 T1_Win       \n",
       "1553 T2_Win       \n",
       "1554 T1_Win       \n",
       "1555 Draw         \n",
       "1556 T1_Win       \n",
       "1557 Draw         \n",
       "1558 Draw         "
      ]
     },
     "metadata": {},
     "output_type": "display_data"
    }
   ],
   "source": [
    "realtest"
   ]
  },
  {
   "cell_type": "code",
   "execution_count": 98,
   "metadata": {},
   "outputs": [
    {
     "name": "stderr",
     "output_type": "stream",
     "text": [
      "Type 'citation(\"pROC\")' for a citation.\n",
      "\n",
      "Attaching package: 'pROC'\n",
      "\n",
      "The following objects are masked from 'package:stats':\n",
      "\n",
      "    cov, smooth, var\n",
      "\n"
     ]
    }
   ],
   "source": [
    "library(pROC)"
   ]
  },
  {
   "cell_type": "code",
   "execution_count": 106,
   "metadata": {},
   "outputs": [],
   "source": [
    "realtest <- realtest %>%\n",
    "    rowwise() %>%\n",
    "    mutate(team_2_win = 1 - max(c(team_1_win, team_1_draw)))"
   ]
  },
  {
   "cell_type": "markdown",
   "metadata": {},
   "source": [
    "## Looking at individual ROC's"
   ]
  },
  {
   "cell_type": "code",
   "execution_count": 101,
   "metadata": {},
   "outputs": [
    {
     "data": {
      "text/plain": [
       "\n",
       "Call:\n",
       "roc.default(response = realtest$team_1_win, predictor = realtest$team_1_prob)\n",
       "\n",
       "Data: realtest$team_1_prob in 822 controls (realtest$team_1_win 0) < 713 cases (realtest$team_1_win 1).\n",
       "Area under the curve: 0.7229"
      ]
     },
     "metadata": {},
     "output_type": "display_data"
    }
   ],
   "source": [
    "pROC::roc(response = realtest$team_1_win, predictor = realtest$team_1_prob)"
   ]
  },
  {
   "cell_type": "code",
   "execution_count": 102,
   "metadata": {},
   "outputs": [
    {
     "data": {
      "text/plain": [
       "\n",
       "Call:\n",
       "roc.default(response = realtest$team_1_draw, predictor = realtest$team_tie_prob)\n",
       "\n",
       "Data: realtest$team_tie_prob in 1146 controls (realtest$team_1_draw 0) < 389 cases (realtest$team_1_draw 1).\n",
       "Area under the curve: 0.5432"
      ]
     },
     "metadata": {},
     "output_type": "display_data"
    }
   ],
   "source": [
    "pROC::roc(response = realtest$team_1_draw, predictor = realtest$team_tie_prob)"
   ]
  },
  {
   "cell_type": "code",
   "execution_count": 107,
   "metadata": {},
   "outputs": [
    {
     "data": {
      "text/plain": [
       "\n",
       "Call:\n",
       "roc.default(response = realtest$team_2_win, predictor = realtest$team_2_prob)\n",
       "\n",
       "Data: realtest$team_2_prob in 1102 controls (realtest$team_2_win 0) < 433 cases (realtest$team_2_win 1).\n",
       "Area under the curve: 0.7366"
      ]
     },
     "metadata": {},
     "output_type": "display_data"
    }
   ],
   "source": [
    "pROC::roc(response = realtest$team_2_win, predictor = realtest$team_2_prob)"
   ]
  },
  {
   "cell_type": "code",
   "execution_count": 110,
   "metadata": {},
   "outputs": [],
   "source": [
    "score_df <- df %>%\n",
    "                filter(datatype == 'score')"
   ]
  },
  {
   "cell_type": "code",
   "execution_count": 111,
   "metadata": {
    "collapsed": true
   },
   "outputs": [],
   "source": [
    "score_preds <- predict(fit.log, newdata = score_df, type=\"probs\")"
   ]
  },
  {
   "cell_type": "code",
   "execution_count": 113,
   "metadata": {},
   "outputs": [],
   "source": [
    "score_df$team_tie_prob <- (score_preds %>% as.data.frame)$Draw\n",
    "score_df$team_1_prob <- (score_preds %>% as.data.frame)$T1_Win\n",
    "score_df$team_2_prob <- (score_preds %>% as.data.frame)$T2_Win"
   ]
  },
  {
   "cell_type": "code",
   "execution_count": 114,
   "metadata": {},
   "outputs": [
    {
     "data": {
      "text/html": [
       "<table>\n",
       "<thead><tr><th scope=col>id</th><th scope=col>date</th><th scope=col>team_1_name</th><th scope=col>team_1_score</th><th scope=col>team_2_name</th><th scope=col>team_2_score</th><th scope=col>d_ability_1</th><th scope=col>d_ability_3</th><th scope=col>d_ability_4</th><th scope=col>is_november</th><th scope=col>...</th><th scope=col>d_form_4</th><th scope=col>d_h2h_2</th><th scope=col>c_ability_3</th><th scope=col>datatype</th><th scope=col>team_1_prob</th><th scope=col>team_tie_prob</th><th scope=col>team_2_prob</th><th scope=col>team_1_win</th><th scope=col>team_1_draw</th><th scope=col>team_1_result</th></tr></thead>\n",
       "<tbody>\n",
       "\t<tr><td>5a0b68884825080defdb7bce</td><td>2017-11-28 19:45:00     </td><td>Brighton                </td><td>NA                      </td><td>Crystal Palace          </td><td>NA                      </td><td> 0.26355535             </td><td> 0.16497569             </td><td> 0.16783984             </td><td>2.947594                </td><td>...                     </td><td>-0.11362614             </td><td>-1.456478               </td><td> 0.1918841              </td><td>score                   </td><td>0.2764241               </td><td>0.7233983               </td><td>1.775924e-04            </td><td>NA                      </td><td>NA                      </td><td>T2_Win                  </td></tr>\n",
       "\t<tr><td>5a0b68884825080defdb7bcf</td><td>2017-11-28 19:45:00     </td><td>Leicester               </td><td>NA                      </td><td>Tottenham               </td><td>NA                      </td><td>-1.56949927             </td><td>-1.47169200             </td><td>-1.48014634             </td><td>2.947594                </td><td>...                     </td><td>-0.78325766             </td><td>-1.456478               </td><td>-1.6041951              </td><td>score                   </td><td>0.2139858               </td><td>0.4298188               </td><td>3.561954e-01            </td><td>NA                      </td><td>NA                      </td><td>T2_Win                  </td></tr>\n",
       "\t<tr><td>5a0b68884825080defdb7bd0</td><td>2017-11-28 20:00:00     </td><td>Watford                 </td><td>NA                      </td><td>Manchester United       </td><td>NA                      </td><td>-1.67440272             </td><td>-1.70985568             </td><td>-1.72507595             </td><td>2.947594                </td><td>...                     </td><td>-1.56627445             </td><td>-1.456478               </td><td>-1.7535180              </td><td>score                   </td><td>0.1224197               </td><td>0.3066422               </td><td>5.709381e-01            </td><td>NA                      </td><td>NA                      </td><td>T2_Win                  </td></tr>\n",
       "\t<tr><td>5a0b68884825080defdb7bd1</td><td>2017-11-28 20:00:00     </td><td>West Brom               </td><td>NA                      </td><td>Newcastle Utd           </td><td>NA                      </td><td> 0.03091583             </td><td> 0.04102128             </td><td> 0.03303243             </td><td>2.947594                </td><td>...                     </td><td> 0.13725584             </td><td>-1.456478               </td><td>-0.2912185              </td><td>score                   </td><td>0.3657623               </td><td>0.2296555               </td><td>4.045823e-01            </td><td>NA                      </td><td>NA                      </td><td>T2_Win                  </td></tr>\n",
       "\t<tr><td>5a0c9ccc4825080cc88ed833</td><td>2017-11-29 19:45:00     </td><td>Arsenal                 </td><td>NA                      </td><td>Huddersfield            </td><td>NA                      </td><td> 2.36201157             </td><td> 2.37085968             </td><td> 2.37139294             </td><td>2.947594                </td><td>...                     </td><td>-0.03236493             </td><td>-1.456478               </td><td> 2.3537672              </td><td>score                   </td><td>0.8800146               </td><td>0.1199196               </td><td>6.577034e-05            </td><td>NA                      </td><td>NA                      </td><td>T2_Win                  </td></tr>\n",
       "\t<tr><td>5a0c9ccc4825080cc88ed834</td><td>2017-11-29 19:45:00     </td><td>Bournemouth             </td><td>NA                      </td><td>Burnley                 </td><td>NA                      </td><td>-0.11529674             </td><td>-0.10358930             </td><td>-0.08943155             </td><td>2.947594                </td><td>...                     </td><td> 1.41539178             </td><td>-1.456478               </td><td>-0.1177579              </td><td>score                   </td><td>0.3869127               </td><td>0.3859637               </td><td>2.271236e-01            </td><td>NA                      </td><td>NA                      </td><td>T2_Win                  </td></tr>\n",
       "\t<tr><td>5a0c9ccc4825080cc88ed835</td><td>2017-11-29 19:45:00     </td><td>Chelsea                 </td><td>NA                      </td><td>Swansea                 </td><td>NA                      </td><td> 2.09174071             </td><td> 2.08705057             </td><td> 2.09255741             </td><td>2.947594                </td><td>...                     </td><td>-0.53545170             </td><td>-1.456478               </td><td> 2.0472275              </td><td>score                   </td><td>0.6965791               </td><td>0.2324766               </td><td>7.094428e-02            </td><td>NA                      </td><td>NA                      </td><td>T2_Win                  </td></tr>\n",
       "\t<tr><td>5a0e063f48250809b11b6aed</td><td>2017-11-29 20:00:00     </td><td>Everton                 </td><td>NA                      </td><td>West Ham                </td><td>NA                      </td><td> 0.52741585             </td><td> 0.51460698             </td><td> 0.52852845             </td><td>2.947594                </td><td>...                     </td><td> 0.64614941             </td><td>-1.456478               </td><td> 0.4237393              </td><td>score                   </td><td>0.5079188               </td><td>0.2634220               </td><td>2.286592e-01            </td><td>NA                      </td><td>NA                      </td><td>T2_Win                  </td></tr>\n",
       "\t<tr><td>5a0e063f48250809b11b6aee</td><td>2017-11-29 20:00:00     </td><td>Manchester City         </td><td>NA                      </td><td>Southampton             </td><td>NA                      </td><td> 2.16881521             </td><td> 2.29000949             </td><td> 2.29039344             </td><td>2.947594                </td><td>...                     </td><td>-0.51592673             </td><td>-1.456478               </td><td> 2.2944675              </td><td>score                   </td><td>0.7514581               </td><td>0.1156615               </td><td>1.328804e-01            </td><td>NA                      </td><td>NA                      </td><td>T2_Win                  </td></tr>\n",
       "\t<tr><td>5a0e063f48250809b11b6aef</td><td>2017-11-29 20:00:00     </td><td>Stoke City              </td><td>NA                      </td><td>Liverpool               </td><td>NA                      </td><td>-1.48631115             </td><td>-1.36352726             </td><td>-1.36794349             </td><td>2.947594                </td><td>...                     </td><td>-0.98827398             </td><td>-1.456478               </td><td>-1.3820772              </td><td>score                   </td><td>0.2547563               </td><td>0.2695185               </td><td>4.757252e-01            </td><td>NA                      </td><td>NA                      </td><td>T2_Win                  </td></tr>\n",
       "</tbody>\n",
       "</table>\n"
      ],
      "text/latex": [
       "\\begin{tabular}{r|lllllllllllllllllllll}\n",
       " id & date & team\\_1\\_name & team\\_1\\_score & team\\_2\\_name & team\\_2\\_score & d\\_ability\\_1 & d\\_ability\\_3 & d\\_ability\\_4 & is\\_november & ... & d\\_form\\_4 & d\\_h2h\\_2 & c\\_ability\\_3 & datatype & team\\_1\\_prob & team\\_tie\\_prob & team\\_2\\_prob & team\\_1\\_win & team\\_1\\_draw & team\\_1\\_result\\\\\n",
       "\\hline\n",
       "\t 5a0b68884825080defdb7bce & 2017-11-28 19:45:00      & Brighton                 & NA                       & Crystal Palace           & NA                       &  0.26355535              &  0.16497569              &  0.16783984              & 2.947594                 & ...                      & -0.11362614              & -1.456478                &  0.1918841               & score                    & 0.2764241                & 0.7233983                & 1.775924e-04             & NA                       & NA                       & T2\\_Win                \\\\\n",
       "\t 5a0b68884825080defdb7bcf & 2017-11-28 19:45:00      & Leicester                & NA                       & Tottenham                & NA                       & -1.56949927              & -1.47169200              & -1.48014634              & 2.947594                 & ...                      & -0.78325766              & -1.456478                & -1.6041951               & score                    & 0.2139858                & 0.4298188                & 3.561954e-01             & NA                       & NA                       & T2\\_Win                \\\\\n",
       "\t 5a0b68884825080defdb7bd0 & 2017-11-28 20:00:00      & Watford                  & NA                       & Manchester United        & NA                       & -1.67440272              & -1.70985568              & -1.72507595              & 2.947594                 & ...                      & -1.56627445              & -1.456478                & -1.7535180               & score                    & 0.1224197                & 0.3066422                & 5.709381e-01             & NA                       & NA                       & T2\\_Win                \\\\\n",
       "\t 5a0b68884825080defdb7bd1 & 2017-11-28 20:00:00      & West Brom                & NA                       & Newcastle Utd            & NA                       &  0.03091583              &  0.04102128              &  0.03303243              & 2.947594                 & ...                      &  0.13725584              & -1.456478                & -0.2912185               & score                    & 0.3657623                & 0.2296555                & 4.045823e-01             & NA                       & NA                       & T2\\_Win                \\\\\n",
       "\t 5a0c9ccc4825080cc88ed833 & 2017-11-29 19:45:00      & Arsenal                  & NA                       & Huddersfield             & NA                       &  2.36201157              &  2.37085968              &  2.37139294              & 2.947594                 & ...                      & -0.03236493              & -1.456478                &  2.3537672               & score                    & 0.8800146                & 0.1199196                & 6.577034e-05             & NA                       & NA                       & T2\\_Win                \\\\\n",
       "\t 5a0c9ccc4825080cc88ed834 & 2017-11-29 19:45:00      & Bournemouth              & NA                       & Burnley                  & NA                       & -0.11529674              & -0.10358930              & -0.08943155              & 2.947594                 & ...                      &  1.41539178              & -1.456478                & -0.1177579               & score                    & 0.3869127                & 0.3859637                & 2.271236e-01             & NA                       & NA                       & T2\\_Win                \\\\\n",
       "\t 5a0c9ccc4825080cc88ed835 & 2017-11-29 19:45:00      & Chelsea                  & NA                       & Swansea                  & NA                       &  2.09174071              &  2.08705057              &  2.09255741              & 2.947594                 & ...                      & -0.53545170              & -1.456478                &  2.0472275               & score                    & 0.6965791                & 0.2324766                & 7.094428e-02             & NA                       & NA                       & T2\\_Win                \\\\\n",
       "\t 5a0e063f48250809b11b6aed & 2017-11-29 20:00:00      & Everton                  & NA                       & West Ham                 & NA                       &  0.52741585              &  0.51460698              &  0.52852845              & 2.947594                 & ...                      &  0.64614941              & -1.456478                &  0.4237393               & score                    & 0.5079188                & 0.2634220                & 2.286592e-01             & NA                       & NA                       & T2\\_Win                \\\\\n",
       "\t 5a0e063f48250809b11b6aee & 2017-11-29 20:00:00      & Manchester City          & NA                       & Southampton              & NA                       &  2.16881521              &  2.29000949              &  2.29039344              & 2.947594                 & ...                      & -0.51592673              & -1.456478                &  2.2944675               & score                    & 0.7514581                & 0.1156615                & 1.328804e-01             & NA                       & NA                       & T2\\_Win                \\\\\n",
       "\t 5a0e063f48250809b11b6aef & 2017-11-29 20:00:00      & Stoke City               & NA                       & Liverpool                & NA                       & -1.48631115              & -1.36352726              & -1.36794349              & 2.947594                 & ...                      & -0.98827398              & -1.456478                & -1.3820772               & score                    & 0.2547563                & 0.2695185                & 4.757252e-01             & NA                       & NA                       & T2\\_Win                \\\\\n",
       "\\end{tabular}\n"
      ],
      "text/markdown": [
       "\n",
       "id | date | team_1_name | team_1_score | team_2_name | team_2_score | d_ability_1 | d_ability_3 | d_ability_4 | is_november | ... | d_form_4 | d_h2h_2 | c_ability_3 | datatype | team_1_prob | team_tie_prob | team_2_prob | team_1_win | team_1_draw | team_1_result | \n",
       "|---|---|---|---|---|---|---|---|---|---|\n",
       "| 5a0b68884825080defdb7bce | 2017-11-28 19:45:00      | Brighton                 | NA                       | Crystal Palace           | NA                       |  0.26355535              |  0.16497569              |  0.16783984              | 2.947594                 | ...                      | -0.11362614              | -1.456478                |  0.1918841               | score                    | 0.2764241                | 0.7233983                | 1.775924e-04             | NA                       | NA                       | T2_Win                   | \n",
       "| 5a0b68884825080defdb7bcf | 2017-11-28 19:45:00      | Leicester                | NA                       | Tottenham                | NA                       | -1.56949927              | -1.47169200              | -1.48014634              | 2.947594                 | ...                      | -0.78325766              | -1.456478                | -1.6041951               | score                    | 0.2139858                | 0.4298188                | 3.561954e-01             | NA                       | NA                       | T2_Win                   | \n",
       "| 5a0b68884825080defdb7bd0 | 2017-11-28 20:00:00      | Watford                  | NA                       | Manchester United        | NA                       | -1.67440272              | -1.70985568              | -1.72507595              | 2.947594                 | ...                      | -1.56627445              | -1.456478                | -1.7535180               | score                    | 0.1224197                | 0.3066422                | 5.709381e-01             | NA                       | NA                       | T2_Win                   | \n",
       "| 5a0b68884825080defdb7bd1 | 2017-11-28 20:00:00      | West Brom                | NA                       | Newcastle Utd            | NA                       |  0.03091583              |  0.04102128              |  0.03303243              | 2.947594                 | ...                      |  0.13725584              | -1.456478                | -0.2912185               | score                    | 0.3657623                | 0.2296555                | 4.045823e-01             | NA                       | NA                       | T2_Win                   | \n",
       "| 5a0c9ccc4825080cc88ed833 | 2017-11-29 19:45:00      | Arsenal                  | NA                       | Huddersfield             | NA                       |  2.36201157              |  2.37085968              |  2.37139294              | 2.947594                 | ...                      | -0.03236493              | -1.456478                |  2.3537672               | score                    | 0.8800146                | 0.1199196                | 6.577034e-05             | NA                       | NA                       | T2_Win                   | \n",
       "| 5a0c9ccc4825080cc88ed834 | 2017-11-29 19:45:00      | Bournemouth              | NA                       | Burnley                  | NA                       | -0.11529674              | -0.10358930              | -0.08943155              | 2.947594                 | ...                      |  1.41539178              | -1.456478                | -0.1177579               | score                    | 0.3869127                | 0.3859637                | 2.271236e-01             | NA                       | NA                       | T2_Win                   | \n",
       "| 5a0c9ccc4825080cc88ed835 | 2017-11-29 19:45:00      | Chelsea                  | NA                       | Swansea                  | NA                       |  2.09174071              |  2.08705057              |  2.09255741              | 2.947594                 | ...                      | -0.53545170              | -1.456478                |  2.0472275               | score                    | 0.6965791                | 0.2324766                | 7.094428e-02             | NA                       | NA                       | T2_Win                   | \n",
       "| 5a0e063f48250809b11b6aed | 2017-11-29 20:00:00      | Everton                  | NA                       | West Ham                 | NA                       |  0.52741585              |  0.51460698              |  0.52852845              | 2.947594                 | ...                      |  0.64614941              | -1.456478                |  0.4237393               | score                    | 0.5079188                | 0.2634220                | 2.286592e-01             | NA                       | NA                       | T2_Win                   | \n",
       "| 5a0e063f48250809b11b6aee | 2017-11-29 20:00:00      | Manchester City          | NA                       | Southampton              | NA                       |  2.16881521              |  2.29000949              |  2.29039344              | 2.947594                 | ...                      | -0.51592673              | -1.456478                |  2.2944675               | score                    | 0.7514581                | 0.1156615                | 1.328804e-01             | NA                       | NA                       | T2_Win                   | \n",
       "| 5a0e063f48250809b11b6aef | 2017-11-29 20:00:00      | Stoke City               | NA                       | Liverpool                | NA                       | -1.48631115              | -1.36352726              | -1.36794349              | 2.947594                 | ...                      | -0.98827398              | -1.456478                | -1.3820772               | score                    | 0.2547563                | 0.2695185                | 4.757252e-01             | NA                       | NA                       | T2_Win                   | \n",
       "\n",
       "\n"
      ],
      "text/plain": [
       "   id                       date                team_1_name     team_1_score\n",
       "1  5a0b68884825080defdb7bce 2017-11-28 19:45:00 Brighton        NA          \n",
       "2  5a0b68884825080defdb7bcf 2017-11-28 19:45:00 Leicester       NA          \n",
       "3  5a0b68884825080defdb7bd0 2017-11-28 20:00:00 Watford         NA          \n",
       "4  5a0b68884825080defdb7bd1 2017-11-28 20:00:00 West Brom       NA          \n",
       "5  5a0c9ccc4825080cc88ed833 2017-11-29 19:45:00 Arsenal         NA          \n",
       "6  5a0c9ccc4825080cc88ed834 2017-11-29 19:45:00 Bournemouth     NA          \n",
       "7  5a0c9ccc4825080cc88ed835 2017-11-29 19:45:00 Chelsea         NA          \n",
       "8  5a0e063f48250809b11b6aed 2017-11-29 20:00:00 Everton         NA          \n",
       "9  5a0e063f48250809b11b6aee 2017-11-29 20:00:00 Manchester City NA          \n",
       "10 5a0e063f48250809b11b6aef 2017-11-29 20:00:00 Stoke City      NA          \n",
       "   team_2_name       team_2_score d_ability_1 d_ability_3 d_ability_4\n",
       "1  Crystal Palace    NA            0.26355535  0.16497569  0.16783984\n",
       "2  Tottenham         NA           -1.56949927 -1.47169200 -1.48014634\n",
       "3  Manchester United NA           -1.67440272 -1.70985568 -1.72507595\n",
       "4  Newcastle Utd     NA            0.03091583  0.04102128  0.03303243\n",
       "5  Huddersfield      NA            2.36201157  2.37085968  2.37139294\n",
       "6  Burnley           NA           -0.11529674 -0.10358930 -0.08943155\n",
       "7  Swansea           NA            2.09174071  2.08705057  2.09255741\n",
       "8  West Ham          NA            0.52741585  0.51460698  0.52852845\n",
       "9  Southampton       NA            2.16881521  2.29000949  2.29039344\n",
       "10 Liverpool         NA           -1.48631115 -1.36352726 -1.36794349\n",
       "   is_november ... d_form_4    d_h2h_2   c_ability_3 datatype team_1_prob\n",
       "1  2.947594    ... -0.11362614 -1.456478  0.1918841  score    0.2764241  \n",
       "2  2.947594    ... -0.78325766 -1.456478 -1.6041951  score    0.2139858  \n",
       "3  2.947594    ... -1.56627445 -1.456478 -1.7535180  score    0.1224197  \n",
       "4  2.947594    ...  0.13725584 -1.456478 -0.2912185  score    0.3657623  \n",
       "5  2.947594    ... -0.03236493 -1.456478  2.3537672  score    0.8800146  \n",
       "6  2.947594    ...  1.41539178 -1.456478 -0.1177579  score    0.3869127  \n",
       "7  2.947594    ... -0.53545170 -1.456478  2.0472275  score    0.6965791  \n",
       "8  2.947594    ...  0.64614941 -1.456478  0.4237393  score    0.5079188  \n",
       "9  2.947594    ... -0.51592673 -1.456478  2.2944675  score    0.7514581  \n",
       "10 2.947594    ... -0.98827398 -1.456478 -1.3820772  score    0.2547563  \n",
       "   team_tie_prob team_2_prob  team_1_win team_1_draw team_1_result\n",
       "1  0.7233983     1.775924e-04 NA         NA          T2_Win       \n",
       "2  0.4298188     3.561954e-01 NA         NA          T2_Win       \n",
       "3  0.3066422     5.709381e-01 NA         NA          T2_Win       \n",
       "4  0.2296555     4.045823e-01 NA         NA          T2_Win       \n",
       "5  0.1199196     6.577034e-05 NA         NA          T2_Win       \n",
       "6  0.3859637     2.271236e-01 NA         NA          T2_Win       \n",
       "7  0.2324766     7.094428e-02 NA         NA          T2_Win       \n",
       "8  0.2634220     2.286592e-01 NA         NA          T2_Win       \n",
       "9  0.1156615     1.328804e-01 NA         NA          T2_Win       \n",
       "10 0.2695185     4.757252e-01 NA         NA          T2_Win       "
      ]
     },
     "metadata": {},
     "output_type": "display_data"
    }
   ],
   "source": [
    "score_df"
   ]
  },
  {
   "cell_type": "markdown",
   "metadata": {},
   "source": [
    "### Rebuild scores, merge and write"
   ]
  },
  {
   "cell_type": "code",
   "execution_count": 115,
   "metadata": {
    "collapsed": true
   },
   "outputs": [],
   "source": [
    "score <- read.csv('english_premier_league_competition_data.csv')"
   ]
  },
  {
   "cell_type": "code",
   "execution_count": 118,
   "metadata": {},
   "outputs": [],
   "source": [
    "submit <- score %>%\n",
    "    select(-team_1_prob,-team_2_prob,-team_tie_prob) %>%\n",
    "    merge(\n",
    "        score_df %>% select(id, team_1_prob, team_2_prob, team_tie_prob)\n",
    "    )"
   ]
  },
  {
   "cell_type": "code",
   "execution_count": 119,
   "metadata": {},
   "outputs": [
    {
     "data": {
      "text/html": [
       "<table>\n",
       "<thead><tr><th scope=col>id</th><th scope=col>date</th><th scope=col>team_1_name</th><th scope=col>team_2_name</th><th scope=col>d_ability_1</th><th scope=col>d_ability_3</th><th scope=col>d_ability_4</th><th scope=col>is_november</th><th scope=col>is_february</th><th scope=col>d_form_4</th><th scope=col>d_h2h_2</th><th scope=col>c_ability_3</th><th scope=col>team_1_prob</th><th scope=col>team_2_prob</th><th scope=col>team_tie_prob</th></tr></thead>\n",
       "<tbody>\n",
       "\t<tr><td>5a0b68884825080defdb7bce</td><td>2017-11-28 19:45:00     </td><td>Brighton                </td><td>Crystal Palace          </td><td> 0.26355535             </td><td> 0.16497569             </td><td> 0.16783984             </td><td>2.947594                </td><td>-0.3185206              </td><td>-0.11362614             </td><td>-1.456478               </td><td> 0.1918841              </td><td>0.2764241               </td><td>1.775924e-04            </td><td>0.7233983               </td></tr>\n",
       "\t<tr><td>5a0b68884825080defdb7bcf</td><td>2017-11-28 19:45:00     </td><td>Leicester               </td><td>Tottenham               </td><td>-1.56949927             </td><td>-1.47169200             </td><td>-1.48014634             </td><td>2.947594                </td><td>-0.3185206              </td><td>-0.78325766             </td><td>-1.456478               </td><td>-1.6041951              </td><td>0.2139858               </td><td>3.561954e-01            </td><td>0.4298188               </td></tr>\n",
       "\t<tr><td>5a0b68884825080defdb7bd0</td><td>2017-11-28 20:00:00     </td><td>Watford                 </td><td>Manchester United       </td><td>-1.67440272             </td><td>-1.70985568             </td><td>-1.72507595             </td><td>2.947594                </td><td>-0.3185206              </td><td>-1.56627445             </td><td>-1.456478               </td><td>-1.7535180              </td><td>0.1224197               </td><td>5.709381e-01            </td><td>0.3066422               </td></tr>\n",
       "\t<tr><td>5a0b68884825080defdb7bd1</td><td>2017-11-28 20:00:00     </td><td>West Brom               </td><td>Newcastle Utd           </td><td> 0.03091583             </td><td> 0.04102128             </td><td> 0.03303243             </td><td>2.947594                </td><td>-0.3185206              </td><td> 0.13725584             </td><td>-1.456478               </td><td>-0.2912185              </td><td>0.3657623               </td><td>4.045823e-01            </td><td>0.2296555               </td></tr>\n",
       "\t<tr><td>5a0c9ccc4825080cc88ed833</td><td>2017-11-29 19:45:00     </td><td>Arsenal                 </td><td>Huddersfield            </td><td> 2.36201157             </td><td> 2.37085968             </td><td> 2.37139294             </td><td>2.947594                </td><td>-0.3185206              </td><td>-0.03236493             </td><td>-1.456478               </td><td> 2.3537672              </td><td>0.8800146               </td><td>6.577034e-05            </td><td>0.1199196               </td></tr>\n",
       "\t<tr><td>5a0c9ccc4825080cc88ed834</td><td>2017-11-29 19:45:00     </td><td>Bournemouth             </td><td>Burnley                 </td><td>-0.11529674             </td><td>-0.10358930             </td><td>-0.08943155             </td><td>2.947594                </td><td>-0.3185206              </td><td> 1.41539178             </td><td>-1.456478               </td><td>-0.1177579              </td><td>0.3869127               </td><td>2.271236e-01            </td><td>0.3859637               </td></tr>\n",
       "\t<tr><td>5a0c9ccc4825080cc88ed835</td><td>2017-11-29 19:45:00     </td><td>Chelsea                 </td><td>Swansea                 </td><td> 2.09174071             </td><td> 2.08705057             </td><td> 2.09255741             </td><td>2.947594                </td><td>-0.3185206              </td><td>-0.53545170             </td><td>-1.456478               </td><td> 2.0472275              </td><td>0.6965791               </td><td>7.094428e-02            </td><td>0.2324766               </td></tr>\n",
       "\t<tr><td>5a0e063f48250809b11b6aed</td><td>2017-11-29 20:00:00     </td><td>Everton                 </td><td>West Ham                </td><td> 0.52741585             </td><td> 0.51460698             </td><td> 0.52852845             </td><td>2.947594                </td><td>-0.3185206              </td><td> 0.64614941             </td><td>-1.456478               </td><td> 0.4237393              </td><td>0.5079188               </td><td>2.286592e-01            </td><td>0.2634220               </td></tr>\n",
       "\t<tr><td>5a0e063f48250809b11b6aee</td><td>2017-11-29 20:00:00     </td><td>Manchester City         </td><td>Southampton             </td><td> 2.16881521             </td><td> 2.29000949             </td><td> 2.29039344             </td><td>2.947594                </td><td>-0.3185206              </td><td>-0.51592673             </td><td>-1.456478               </td><td> 2.2944675              </td><td>0.7514581               </td><td>1.328804e-01            </td><td>0.1156615               </td></tr>\n",
       "\t<tr><td>5a0e063f48250809b11b6aef</td><td>2017-11-29 20:00:00     </td><td>Stoke City              </td><td>Liverpool               </td><td>-1.48631115             </td><td>-1.36352726             </td><td>-1.36794349             </td><td>2.947594                </td><td>-0.3185206              </td><td>-0.98827398             </td><td>-1.456478               </td><td>-1.3820772              </td><td>0.2547563               </td><td>4.757252e-01            </td><td>0.2695185               </td></tr>\n",
       "</tbody>\n",
       "</table>\n"
      ],
      "text/latex": [
       "\\begin{tabular}{r|lllllllllllllll}\n",
       " id & date & team\\_1\\_name & team\\_2\\_name & d\\_ability\\_1 & d\\_ability\\_3 & d\\_ability\\_4 & is\\_november & is\\_february & d\\_form\\_4 & d\\_h2h\\_2 & c\\_ability\\_3 & team\\_1\\_prob & team\\_2\\_prob & team\\_tie\\_prob\\\\\n",
       "\\hline\n",
       "\t 5a0b68884825080defdb7bce & 2017-11-28 19:45:00      & Brighton                 & Crystal Palace           &  0.26355535              &  0.16497569              &  0.16783984              & 2.947594                 & -0.3185206               & -0.11362614              & -1.456478                &  0.1918841               & 0.2764241                & 1.775924e-04             & 0.7233983               \\\\\n",
       "\t 5a0b68884825080defdb7bcf & 2017-11-28 19:45:00      & Leicester                & Tottenham                & -1.56949927              & -1.47169200              & -1.48014634              & 2.947594                 & -0.3185206               & -0.78325766              & -1.456478                & -1.6041951               & 0.2139858                & 3.561954e-01             & 0.4298188               \\\\\n",
       "\t 5a0b68884825080defdb7bd0 & 2017-11-28 20:00:00      & Watford                  & Manchester United        & -1.67440272              & -1.70985568              & -1.72507595              & 2.947594                 & -0.3185206               & -1.56627445              & -1.456478                & -1.7535180               & 0.1224197                & 5.709381e-01             & 0.3066422               \\\\\n",
       "\t 5a0b68884825080defdb7bd1 & 2017-11-28 20:00:00      & West Brom                & Newcastle Utd            &  0.03091583              &  0.04102128              &  0.03303243              & 2.947594                 & -0.3185206               &  0.13725584              & -1.456478                & -0.2912185               & 0.3657623                & 4.045823e-01             & 0.2296555               \\\\\n",
       "\t 5a0c9ccc4825080cc88ed833 & 2017-11-29 19:45:00      & Arsenal                  & Huddersfield             &  2.36201157              &  2.37085968              &  2.37139294              & 2.947594                 & -0.3185206               & -0.03236493              & -1.456478                &  2.3537672               & 0.8800146                & 6.577034e-05             & 0.1199196               \\\\\n",
       "\t 5a0c9ccc4825080cc88ed834 & 2017-11-29 19:45:00      & Bournemouth              & Burnley                  & -0.11529674              & -0.10358930              & -0.08943155              & 2.947594                 & -0.3185206               &  1.41539178              & -1.456478                & -0.1177579               & 0.3869127                & 2.271236e-01             & 0.3859637               \\\\\n",
       "\t 5a0c9ccc4825080cc88ed835 & 2017-11-29 19:45:00      & Chelsea                  & Swansea                  &  2.09174071              &  2.08705057              &  2.09255741              & 2.947594                 & -0.3185206               & -0.53545170              & -1.456478                &  2.0472275               & 0.6965791                & 7.094428e-02             & 0.2324766               \\\\\n",
       "\t 5a0e063f48250809b11b6aed & 2017-11-29 20:00:00      & Everton                  & West Ham                 &  0.52741585              &  0.51460698              &  0.52852845              & 2.947594                 & -0.3185206               &  0.64614941              & -1.456478                &  0.4237393               & 0.5079188                & 2.286592e-01             & 0.2634220               \\\\\n",
       "\t 5a0e063f48250809b11b6aee & 2017-11-29 20:00:00      & Manchester City          & Southampton              &  2.16881521              &  2.29000949              &  2.29039344              & 2.947594                 & -0.3185206               & -0.51592673              & -1.456478                &  2.2944675               & 0.7514581                & 1.328804e-01             & 0.1156615               \\\\\n",
       "\t 5a0e063f48250809b11b6aef & 2017-11-29 20:00:00      & Stoke City               & Liverpool                & -1.48631115              & -1.36352726              & -1.36794349              & 2.947594                 & -0.3185206               & -0.98827398              & -1.456478                & -1.3820772               & 0.2547563                & 4.757252e-01             & 0.2695185               \\\\\n",
       "\\end{tabular}\n"
      ],
      "text/markdown": [
       "\n",
       "id | date | team_1_name | team_2_name | d_ability_1 | d_ability_3 | d_ability_4 | is_november | is_february | d_form_4 | d_h2h_2 | c_ability_3 | team_1_prob | team_2_prob | team_tie_prob | \n",
       "|---|---|---|---|---|---|---|---|---|---|\n",
       "| 5a0b68884825080defdb7bce | 2017-11-28 19:45:00      | Brighton                 | Crystal Palace           |  0.26355535              |  0.16497569              |  0.16783984              | 2.947594                 | -0.3185206               | -0.11362614              | -1.456478                |  0.1918841               | 0.2764241                | 1.775924e-04             | 0.7233983                | \n",
       "| 5a0b68884825080defdb7bcf | 2017-11-28 19:45:00      | Leicester                | Tottenham                | -1.56949927              | -1.47169200              | -1.48014634              | 2.947594                 | -0.3185206               | -0.78325766              | -1.456478                | -1.6041951               | 0.2139858                | 3.561954e-01             | 0.4298188                | \n",
       "| 5a0b68884825080defdb7bd0 | 2017-11-28 20:00:00      | Watford                  | Manchester United        | -1.67440272              | -1.70985568              | -1.72507595              | 2.947594                 | -0.3185206               | -1.56627445              | -1.456478                | -1.7535180               | 0.1224197                | 5.709381e-01             | 0.3066422                | \n",
       "| 5a0b68884825080defdb7bd1 | 2017-11-28 20:00:00      | West Brom                | Newcastle Utd            |  0.03091583              |  0.04102128              |  0.03303243              | 2.947594                 | -0.3185206               |  0.13725584              | -1.456478                | -0.2912185               | 0.3657623                | 4.045823e-01             | 0.2296555                | \n",
       "| 5a0c9ccc4825080cc88ed833 | 2017-11-29 19:45:00      | Arsenal                  | Huddersfield             |  2.36201157              |  2.37085968              |  2.37139294              | 2.947594                 | -0.3185206               | -0.03236493              | -1.456478                |  2.3537672               | 0.8800146                | 6.577034e-05             | 0.1199196                | \n",
       "| 5a0c9ccc4825080cc88ed834 | 2017-11-29 19:45:00      | Bournemouth              | Burnley                  | -0.11529674              | -0.10358930              | -0.08943155              | 2.947594                 | -0.3185206               |  1.41539178              | -1.456478                | -0.1177579               | 0.3869127                | 2.271236e-01             | 0.3859637                | \n",
       "| 5a0c9ccc4825080cc88ed835 | 2017-11-29 19:45:00      | Chelsea                  | Swansea                  |  2.09174071              |  2.08705057              |  2.09255741              | 2.947594                 | -0.3185206               | -0.53545170              | -1.456478                |  2.0472275               | 0.6965791                | 7.094428e-02             | 0.2324766                | \n",
       "| 5a0e063f48250809b11b6aed | 2017-11-29 20:00:00      | Everton                  | West Ham                 |  0.52741585              |  0.51460698              |  0.52852845              | 2.947594                 | -0.3185206               |  0.64614941              | -1.456478                |  0.4237393               | 0.5079188                | 2.286592e-01             | 0.2634220                | \n",
       "| 5a0e063f48250809b11b6aee | 2017-11-29 20:00:00      | Manchester City          | Southampton              |  2.16881521              |  2.29000949              |  2.29039344              | 2.947594                 | -0.3185206               | -0.51592673              | -1.456478                |  2.2944675               | 0.7514581                | 1.328804e-01             | 0.1156615                | \n",
       "| 5a0e063f48250809b11b6aef | 2017-11-29 20:00:00      | Stoke City               | Liverpool                | -1.48631115              | -1.36352726              | -1.36794349              | 2.947594                 | -0.3185206               | -0.98827398              | -1.456478                | -1.3820772               | 0.2547563                | 4.757252e-01             | 0.2695185                | \n",
       "\n",
       "\n"
      ],
      "text/plain": [
       "   id                       date                team_1_name    \n",
       "1  5a0b68884825080defdb7bce 2017-11-28 19:45:00 Brighton       \n",
       "2  5a0b68884825080defdb7bcf 2017-11-28 19:45:00 Leicester      \n",
       "3  5a0b68884825080defdb7bd0 2017-11-28 20:00:00 Watford        \n",
       "4  5a0b68884825080defdb7bd1 2017-11-28 20:00:00 West Brom      \n",
       "5  5a0c9ccc4825080cc88ed833 2017-11-29 19:45:00 Arsenal        \n",
       "6  5a0c9ccc4825080cc88ed834 2017-11-29 19:45:00 Bournemouth    \n",
       "7  5a0c9ccc4825080cc88ed835 2017-11-29 19:45:00 Chelsea        \n",
       "8  5a0e063f48250809b11b6aed 2017-11-29 20:00:00 Everton        \n",
       "9  5a0e063f48250809b11b6aee 2017-11-29 20:00:00 Manchester City\n",
       "10 5a0e063f48250809b11b6aef 2017-11-29 20:00:00 Stoke City     \n",
       "   team_2_name       d_ability_1 d_ability_3 d_ability_4 is_november\n",
       "1  Crystal Palace     0.26355535  0.16497569  0.16783984 2.947594   \n",
       "2  Tottenham         -1.56949927 -1.47169200 -1.48014634 2.947594   \n",
       "3  Manchester United -1.67440272 -1.70985568 -1.72507595 2.947594   \n",
       "4  Newcastle Utd      0.03091583  0.04102128  0.03303243 2.947594   \n",
       "5  Huddersfield       2.36201157  2.37085968  2.37139294 2.947594   \n",
       "6  Burnley           -0.11529674 -0.10358930 -0.08943155 2.947594   \n",
       "7  Swansea            2.09174071  2.08705057  2.09255741 2.947594   \n",
       "8  West Ham           0.52741585  0.51460698  0.52852845 2.947594   \n",
       "9  Southampton        2.16881521  2.29000949  2.29039344 2.947594   \n",
       "10 Liverpool         -1.48631115 -1.36352726 -1.36794349 2.947594   \n",
       "   is_february d_form_4    d_h2h_2   c_ability_3 team_1_prob team_2_prob \n",
       "1  -0.3185206  -0.11362614 -1.456478  0.1918841  0.2764241   1.775924e-04\n",
       "2  -0.3185206  -0.78325766 -1.456478 -1.6041951  0.2139858   3.561954e-01\n",
       "3  -0.3185206  -1.56627445 -1.456478 -1.7535180  0.1224197   5.709381e-01\n",
       "4  -0.3185206   0.13725584 -1.456478 -0.2912185  0.3657623   4.045823e-01\n",
       "5  -0.3185206  -0.03236493 -1.456478  2.3537672  0.8800146   6.577034e-05\n",
       "6  -0.3185206   1.41539178 -1.456478 -0.1177579  0.3869127   2.271236e-01\n",
       "7  -0.3185206  -0.53545170 -1.456478  2.0472275  0.6965791   7.094428e-02\n",
       "8  -0.3185206   0.64614941 -1.456478  0.4237393  0.5079188   2.286592e-01\n",
       "9  -0.3185206  -0.51592673 -1.456478  2.2944675  0.7514581   1.328804e-01\n",
       "10 -0.3185206  -0.98827398 -1.456478 -1.3820772  0.2547563   4.757252e-01\n",
       "   team_tie_prob\n",
       "1  0.7233983    \n",
       "2  0.4298188    \n",
       "3  0.3066422    \n",
       "4  0.2296555    \n",
       "5  0.1199196    \n",
       "6  0.3859637    \n",
       "7  0.2324766    \n",
       "8  0.2634220    \n",
       "9  0.1156615    \n",
       "10 0.2695185    "
      ]
     },
     "metadata": {},
     "output_type": "display_data"
    }
   ],
   "source": [
    "submit"
   ]
  },
  {
   "cell_type": "code",
   "execution_count": null,
   "metadata": {
    "collapsed": true
   },
   "outputs": [],
   "source": [
    "submit$team_tie_prob = 1 - submit$team_1_prob - submit$team_2_prob"
   ]
  },
  {
   "cell_type": "code",
   "execution_count": 122,
   "metadata": {
    "collapsed": true
   },
   "outputs": [],
   "source": [
    "submit %>% write.csv('submit.csv', row.names = F)"
   ]
  }
 ],
 "metadata": {
  "kernelspec": {
   "display_name": "R",
   "language": "R",
   "name": "ir"
  },
  "language_info": {
   "codemirror_mode": "r",
   "file_extension": ".r",
   "mimetype": "text/x-r-source",
   "name": "R",
   "pygments_lexer": "r",
   "version": "3.4.2"
  }
 },
 "nbformat": 4,
 "nbformat_minor": 2
}
