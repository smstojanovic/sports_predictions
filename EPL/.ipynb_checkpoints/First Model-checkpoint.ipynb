{
 "cells": [
  {
   "cell_type": "code",
   "execution_count": 45,
   "metadata": {
    "collapsed": true
   },
   "outputs": [],
   "source": [
    "library(tidyverse)\n",
    "library(caret)\n",
    "library(plotly)"
   ]
  },
  {
   "cell_type": "markdown",
   "metadata": {},
   "source": [
    "## Read data and view"
   ]
  },
  {
   "cell_type": "code",
   "execution_count": 48,
   "metadata": {
    "collapsed": true
   },
   "outputs": [],
   "source": [
    "df <- read.csv('../DataCollection/english_premier_league_historical_data.csv')"
   ]
  },
  {
   "cell_type": "code",
   "execution_count": 50,
   "metadata": {
    "collapsed": true
   },
   "outputs": [],
   "source": [
    "score <- read.csv('../DataCollection/english_premier_league_competition_data.csv')"
   ]
  },
  {
   "cell_type": "code",
   "execution_count": 51,
   "metadata": {},
   "outputs": [
    {
     "data": {
      "text/html": [
       "<table>\n",
       "<thead><tr><th scope=col>id</th><th scope=col>date</th><th scope=col>team_1_name</th><th scope=col>team_1_score</th><th scope=col>team_2_name</th><th scope=col>team_2_score</th><th scope=col>d_ability_1</th><th scope=col>d_ability_3</th><th scope=col>d_ability_4</th><th scope=col>is_november</th><th scope=col>is_february</th><th scope=col>d_form_4</th><th scope=col>d_h2h_2</th><th scope=col>c_ability_3</th></tr></thead>\n",
       "<tbody>\n",
       "\t<tr><td>5969fbdb4825083689956894</td><td>2004-02-11 19:45:00     </td><td>Fulham                  </td><td>1                       </td><td>Aston Villa             </td><td>2                       </td><td>0.003173703             </td><td>-0.09081544             </td><td>-0.09371598             </td><td>-0.3388981              </td><td>3.142823                </td><td>NaN                     </td><td>NaN                     </td><td>-0.07596201             </td></tr>\n",
       "\t<tr><td>5969fbdb4825083689956893</td><td>2004-02-11 19:45:00     </td><td>Birmingham              </td><td>3                       </td><td>Everton                 </td><td>0                       </td><td>0.003173703             </td><td>-0.09081544             </td><td>-0.09371598             </td><td>-0.3388981              </td><td>3.142823                </td><td>NaN                     </td><td>NaN                     </td><td>-0.07596201             </td></tr>\n",
       "\t<tr><td>5969fbdb4825083689956892</td><td>2004-02-11 20:00:00     </td><td>Portsmouth              </td><td>0                       </td><td>Chelsea                 </td><td>2                       </td><td>0.003173703             </td><td>-0.09081544             </td><td>-0.09371598             </td><td>-0.3388981              </td><td>3.142823                </td><td>NaN                     </td><td>NaN                     </td><td>-0.07596201             </td></tr>\n",
       "</tbody>\n",
       "</table>\n"
      ],
      "text/latex": [
       "\\begin{tabular}{r|llllllllllllll}\n",
       " id & date & team\\_1\\_name & team\\_1\\_score & team\\_2\\_name & team\\_2\\_score & d\\_ability\\_1 & d\\_ability\\_3 & d\\_ability\\_4 & is\\_november & is\\_february & d\\_form\\_4 & d\\_h2h\\_2 & c\\_ability\\_3\\\\\n",
       "\\hline\n",
       "\t 5969fbdb4825083689956894 & 2004-02-11 19:45:00      & Fulham                   & 1                        & Aston Villa              & 2                        & 0.003173703              & -0.09081544              & -0.09371598              & -0.3388981               & 3.142823                 & NaN                      & NaN                      & -0.07596201             \\\\\n",
       "\t 5969fbdb4825083689956893 & 2004-02-11 19:45:00      & Birmingham               & 3                        & Everton                  & 0                        & 0.003173703              & -0.09081544              & -0.09371598              & -0.3388981               & 3.142823                 & NaN                      & NaN                      & -0.07596201             \\\\\n",
       "\t 5969fbdb4825083689956892 & 2004-02-11 20:00:00      & Portsmouth               & 0                        & Chelsea                  & 2                        & 0.003173703              & -0.09081544              & -0.09371598              & -0.3388981               & 3.142823                 & NaN                      & NaN                      & -0.07596201             \\\\\n",
       "\\end{tabular}\n"
      ],
      "text/markdown": [
       "\n",
       "id | date | team_1_name | team_1_score | team_2_name | team_2_score | d_ability_1 | d_ability_3 | d_ability_4 | is_november | is_february | d_form_4 | d_h2h_2 | c_ability_3 | \n",
       "|---|---|---|\n",
       "| 5969fbdb4825083689956894 | 2004-02-11 19:45:00      | Fulham                   | 1                        | Aston Villa              | 2                        | 0.003173703              | -0.09081544              | -0.09371598              | -0.3388981               | 3.142823                 | NaN                      | NaN                      | -0.07596201              | \n",
       "| 5969fbdb4825083689956893 | 2004-02-11 19:45:00      | Birmingham               | 3                        | Everton                  | 0                        | 0.003173703              | -0.09081544              | -0.09371598              | -0.3388981               | 3.142823                 | NaN                      | NaN                      | -0.07596201              | \n",
       "| 5969fbdb4825083689956892 | 2004-02-11 20:00:00      | Portsmouth               | 0                        | Chelsea                  | 2                        | 0.003173703              | -0.09081544              | -0.09371598              | -0.3388981               | 3.142823                 | NaN                      | NaN                      | -0.07596201              | \n",
       "\n",
       "\n"
      ],
      "text/plain": [
       "  id                       date                team_1_name team_1_score\n",
       "1 5969fbdb4825083689956894 2004-02-11 19:45:00 Fulham      1           \n",
       "2 5969fbdb4825083689956893 2004-02-11 19:45:00 Birmingham  3           \n",
       "3 5969fbdb4825083689956892 2004-02-11 20:00:00 Portsmouth  0           \n",
       "  team_2_name team_2_score d_ability_1 d_ability_3 d_ability_4 is_november\n",
       "1 Aston Villa 2            0.003173703 -0.09081544 -0.09371598 -0.3388981 \n",
       "2 Everton     0            0.003173703 -0.09081544 -0.09371598 -0.3388981 \n",
       "3 Chelsea     2            0.003173703 -0.09081544 -0.09371598 -0.3388981 \n",
       "  is_february d_form_4 d_h2h_2 c_ability_3\n",
       "1 3.142823    NaN      NaN     -0.07596201\n",
       "2 3.142823    NaN      NaN     -0.07596201\n",
       "3 3.142823    NaN      NaN     -0.07596201"
      ]
     },
     "metadata": {},
     "output_type": "display_data"
    }
   ],
   "source": [
    "df %>% head(3)"
   ]
  },
  {
   "cell_type": "markdown",
   "metadata": {},
   "source": [
    "### Align score and concat"
   ]
  },
  {
   "cell_type": "code",
   "execution_count": 52,
   "metadata": {
    "collapsed": true
   },
   "outputs": [],
   "source": [
    "score <- score %>%\n",
    "    mutate(team_1_score = NA,\n",
    "           team_2_score = NA,\n",
    "           datatype = 'score'\n",
    "          )"
   ]
  },
  {
   "cell_type": "code",
   "execution_count": 53,
   "metadata": {
    "collapsed": true
   },
   "outputs": [],
   "source": [
    "df <- df %>%\n",
    "    mutate(datatype = 'build',\n",
    "        team_1_prob = NA,\n",
    "          team_tie_prob = NA,\n",
    "           team_2_prob = NA\n",
    "          )"
   ]
  },
  {
   "cell_type": "code",
   "execution_count": 54,
   "metadata": {
    "collapsed": true
   },
   "outputs": [],
   "source": [
    "df <- rbind(df, score)"
   ]
  },
  {
   "cell_type": "markdown",
   "metadata": {},
   "source": [
    "## Build response variables"
   ]
  },
  {
   "cell_type": "code",
   "execution_count": 55,
   "metadata": {
    "collapsed": true
   },
   "outputs": [],
   "source": [
    "df <- df %>%\n",
    "    mutate(team_1_win = as.numeric(team_1_score > team_2_score),\n",
    "           team_1_draw = as.numeric(team_1_score == team_2_score))\n",
    "\n",
    "df <- df %>%\n",
    "    mutate(team_1_result = case_when(.$team_1_win > 0 ~ 'T1_Win',\n",
    "                                     .$team_1_draw > 0 ~ 'Draw',\n",
    "                                    T ~ 'T2_Win') )"
   ]
  },
  {
   "cell_type": "markdown",
   "metadata": {},
   "source": [
    "## Visualise team data"
   ]
  },
  {
   "cell_type": "code",
   "execution_count": 56,
   "metadata": {},
   "outputs": [
    {
     "data": {},
     "metadata": {},
     "output_type": "display_data"
    },
    {
     "data": {
      "image/png": "[encoded data removed]",
      "text/plain": [
       "plot without title"
      ]
     },
     "metadata": {},
     "output_type": "display_data"
    }
   ],
   "source": [
    "df %>%\n",
    "    group_by(team_1_name) %>%\n",
    "    summarise( avg_score = mean(team_1_score),\n",
    "                vol = n()) %>%\n",
    "     filter(vol < 100) %>%\n",
    "    ggplot(aes(x = team_1_name, y = vol)) + geom_bar(stat=\"identity\") + theme(axis.text.x = element_text(angle = 90, hjust = 1))"
   ]
  },
  {
   "cell_type": "code",
   "execution_count": 57,
   "metadata": {},
   "outputs": [
    {
     "name": "stderr",
     "output_type": "stream",
     "text": [
      "Warning message:\n",
      "\"Removed 10 rows containing missing values (position_stack).\""
     ]
    },
    {
     "data": {},
     "metadata": {},
     "output_type": "display_data"
    },
    {
     "data": {
      "image/png": "[encoded data removed]",
      "text/plain": [
       "plot without title"
      ]
     },
     "metadata": {},
     "output_type": "display_data"
    }
   ],
   "source": [
    "df %>%\n",
    "    group_by(team_1_name) %>%\n",
    "    summarise( avg_score = mean(team_1_score),\n",
    "                vol = n()) %>%\n",
    "    ggplot(aes(x = team_1_name, y = avg_score)) + geom_bar(stat=\"identity\") + theme(axis.text.x = element_text(angle = 90, hjust = 1))"
   ]
  },
  {
   "cell_type": "code",
   "execution_count": 58,
   "metadata": {},
   "outputs": [
    {
     "data": {},
     "metadata": {},
     "output_type": "display_data"
    },
    {
     "data": {
      "image/png": "[encoded data removed]",
      "text/plain": [
       "plot without title"
      ]
     },
     "metadata": {},
     "output_type": "display_data"
    }
   ],
   "source": [
    "df %>%\n",
    "    group_by(team_2_name) %>%\n",
    "    summarise( avg_score = mean(team_2_score),\n",
    "                vol = n()) %>%\n",
    "     filter(vol < 100) %>%\n",
    "    ggplot(aes(x = team_2_name, y = vol)) + geom_bar(stat=\"identity\") + theme(axis.text.x = element_text(angle = 90, hjust = 1))"
   ]
  },
  {
   "cell_type": "markdown",
   "metadata": {},
   "source": [
    "# Try simple logit model"
   ]
  },
  {
   "cell_type": "code",
   "execution_count": 59,
   "metadata": {},
   "outputs": [
    {
     "data": {
      "text/html": [
       "<table>\n",
       "<thead><tr><th scope=col>id</th><th scope=col>date</th><th scope=col>team_1_name</th><th scope=col>team_1_score</th><th scope=col>team_2_name</th><th scope=col>team_2_score</th><th scope=col>d_ability_1</th><th scope=col>d_ability_3</th><th scope=col>d_ability_4</th><th scope=col>is_november</th><th scope=col>...</th><th scope=col>d_form_4</th><th scope=col>d_h2h_2</th><th scope=col>c_ability_3</th><th scope=col>datatype</th><th scope=col>team_1_prob</th><th scope=col>team_tie_prob</th><th scope=col>team_2_prob</th><th scope=col>team_1_win</th><th scope=col>team_1_draw</th><th scope=col>team_1_result</th></tr></thead>\n",
       "<tbody>\n",
       "\t<tr><td>5969fbdb4825083689956894</td><td>2004-02-11 19:45:00     </td><td>Fulham                  </td><td>1                       </td><td>Aston Villa             </td><td>2                       </td><td>0.003173703             </td><td>-0.09081544             </td><td>-0.09371598             </td><td>-0.3388981              </td><td>...                     </td><td>NaN                     </td><td>NaN                     </td><td>-0.07596201             </td><td>build                   </td><td>NA                      </td><td>NA                      </td><td>NA                      </td><td>0                       </td><td>0                       </td><td>T2_Win                  </td></tr>\n",
       "\t<tr><td>5969fbdb4825083689956893</td><td>2004-02-11 19:45:00     </td><td>Birmingham              </td><td>3                       </td><td>Everton                 </td><td>0                       </td><td>0.003173703             </td><td>-0.09081544             </td><td>-0.09371598             </td><td>-0.3388981              </td><td>...                     </td><td>NaN                     </td><td>NaN                     </td><td>-0.07596201             </td><td>build                   </td><td>NA                      </td><td>NA                      </td><td>NA                      </td><td>1                       </td><td>0                       </td><td>T1_Win                  </td></tr>\n",
       "\t<tr><td>5969fbdb4825083689956892</td><td>2004-02-11 20:00:00     </td><td>Portsmouth              </td><td>0                       </td><td>Chelsea                 </td><td>2                       </td><td>0.003173703             </td><td>-0.09081544             </td><td>-0.09371598             </td><td>-0.3388981              </td><td>...                     </td><td>NaN                     </td><td>NaN                     </td><td>-0.07596201             </td><td>build                   </td><td>NA                      </td><td>NA                      </td><td>NA                      </td><td>0                       </td><td>0                       </td><td>T2_Win                  </td></tr>\n",
       "</tbody>\n",
       "</table>\n"
      ],
      "text/latex": [
       "\\begin{tabular}{r|lllllllllllllllllllll}\n",
       " id & date & team\\_1\\_name & team\\_1\\_score & team\\_2\\_name & team\\_2\\_score & d\\_ability\\_1 & d\\_ability\\_3 & d\\_ability\\_4 & is\\_november & ... & d\\_form\\_4 & d\\_h2h\\_2 & c\\_ability\\_3 & datatype & team\\_1\\_prob & team\\_tie\\_prob & team\\_2\\_prob & team\\_1\\_win & team\\_1\\_draw & team\\_1\\_result\\\\\n",
       "\\hline\n",
       "\t 5969fbdb4825083689956894 & 2004-02-11 19:45:00      & Fulham                   & 1                        & Aston Villa              & 2                        & 0.003173703              & -0.09081544              & -0.09371598              & -0.3388981               & ...                      & NaN                      & NaN                      & -0.07596201              & build                    & NA                       & NA                       & NA                       & 0                        & 0                        & T2\\_Win                \\\\\n",
       "\t 5969fbdb4825083689956893 & 2004-02-11 19:45:00      & Birmingham               & 3                        & Everton                  & 0                        & 0.003173703              & -0.09081544              & -0.09371598              & -0.3388981               & ...                      & NaN                      & NaN                      & -0.07596201              & build                    & NA                       & NA                       & NA                       & 1                        & 0                        & T1\\_Win                \\\\\n",
       "\t 5969fbdb4825083689956892 & 2004-02-11 20:00:00      & Portsmouth               & 0                        & Chelsea                  & 2                        & 0.003173703              & -0.09081544              & -0.09371598              & -0.3388981               & ...                      & NaN                      & NaN                      & -0.07596201              & build                    & NA                       & NA                       & NA                       & 0                        & 0                        & T2\\_Win                \\\\\n",
       "\\end{tabular}\n"
      ],
      "text/markdown": [
       "\n",
       "id | date | team_1_name | team_1_score | team_2_name | team_2_score | d_ability_1 | d_ability_3 | d_ability_4 | is_november | ... | d_form_4 | d_h2h_2 | c_ability_3 | datatype | team_1_prob | team_tie_prob | team_2_prob | team_1_win | team_1_draw | team_1_result | \n",
       "|---|---|---|\n",
       "| 5969fbdb4825083689956894 | 2004-02-11 19:45:00      | Fulham                   | 1                        | Aston Villa              | 2                        | 0.003173703              | -0.09081544              | -0.09371598              | -0.3388981               | ...                      | NaN                      | NaN                      | -0.07596201              | build                    | NA                       | NA                       | NA                       | 0                        | 0                        | T2_Win                   | \n",
       "| 5969fbdb4825083689956893 | 2004-02-11 19:45:00      | Birmingham               | 3                        | Everton                  | 0                        | 0.003173703              | -0.09081544              | -0.09371598              | -0.3388981               | ...                      | NaN                      | NaN                      | -0.07596201              | build                    | NA                       | NA                       | NA                       | 1                        | 0                        | T1_Win                   | \n",
       "| 5969fbdb4825083689956892 | 2004-02-11 20:00:00      | Portsmouth               | 0                        | Chelsea                  | 2                        | 0.003173703              | -0.09081544              | -0.09371598              | -0.3388981               | ...                      | NaN                      | NaN                      | -0.07596201              | build                    | NA                       | NA                       | NA                       | 0                        | 0                        | T2_Win                   | \n",
       "\n",
       "\n"
      ],
      "text/plain": [
       "  id                       date                team_1_name team_1_score\n",
       "1 5969fbdb4825083689956894 2004-02-11 19:45:00 Fulham      1           \n",
       "2 5969fbdb4825083689956893 2004-02-11 19:45:00 Birmingham  3           \n",
       "3 5969fbdb4825083689956892 2004-02-11 20:00:00 Portsmouth  0           \n",
       "  team_2_name team_2_score d_ability_1 d_ability_3 d_ability_4 is_november ...\n",
       "1 Aston Villa 2            0.003173703 -0.09081544 -0.09371598 -0.3388981  ...\n",
       "2 Everton     0            0.003173703 -0.09081544 -0.09371598 -0.3388981  ...\n",
       "3 Chelsea     2            0.003173703 -0.09081544 -0.09371598 -0.3388981  ...\n",
       "  d_form_4 d_h2h_2 c_ability_3 datatype team_1_prob team_tie_prob team_2_prob\n",
       "1 NaN      NaN     -0.07596201 build    NA          NA            NA         \n",
       "2 NaN      NaN     -0.07596201 build    NA          NA            NA         \n",
       "3 NaN      NaN     -0.07596201 build    NA          NA            NA         \n",
       "  team_1_win team_1_draw team_1_result\n",
       "1 0          0           T2_Win       \n",
       "2 1          0           T1_Win       \n",
       "3 0          0           T2_Win       "
      ]
     },
     "metadata": {},
     "output_type": "display_data"
    }
   ],
   "source": [
    "df %>% head(3)"
   ]
  },
  {
   "cell_type": "code",
   "execution_count": 60,
   "metadata": {
    "collapsed": true
   },
   "outputs": [],
   "source": [
    "df <- df %>% \n",
    "    mutate(team_1_name = as.factor(team_1_name),\n",
    "           team_2_name = as.factor(team_2_name),\n",
    "           team_1_result = as.factor(team_1_result)\n",
    "          )"
   ]
  },
  {
   "cell_type": "code",
   "execution_count": 61,
   "metadata": {
    "collapsed": true
   },
   "outputs": [],
   "source": [
    "index <- createDataPartition(y = df$team_1_result, p = 0.7, list = F)"
   ]
  },
  {
   "cell_type": "code",
   "execution_count": 62,
   "metadata": {
    "collapsed": true
   },
   "outputs": [],
   "source": [
    "train <- df[index,]\n",
    "test <- df[-index,]"
   ]
  },
  {
   "cell_type": "code",
   "execution_count": 63,
   "metadata": {
    "collapsed": true
   },
   "outputs": [],
   "source": [
    "library(nnet)"
   ]
  },
  {
   "cell_type": "code",
   "execution_count": 64,
   "metadata": {},
   "outputs": [
    {
     "name": "stdout",
     "output_type": "stream",
     "text": [
      "# weights:  264 (174 variable)\n",
      "initial  value 3949.511178 \n",
      "iter  10 value 3478.149078\n",
      "iter  20 value 3401.648433\n",
      "iter  30 value 3381.314724\n",
      "iter  40 value 3379.742260\n",
      "iter  50 value 3378.830223\n",
      "iter  60 value 3378.510016\n",
      "iter  70 value 3378.371457\n",
      "iter  80 value 3378.299195\n",
      "iter  90 value 3378.277517\n",
      "iter 100 value 3378.224958\n",
      "final  value 3378.224958 \n",
      "stopped after 100 iterations\n"
     ]
    }
   ],
   "source": [
    "fit.log <- train %>%\n",
    "            filter(datatype == 'build') %>%\n",
    "                multinom(formula = team_1_result ~ team_1_name + team_2_name + d_ability_1 + d_ability_3 + d_ability_4 + is_november + is_february + d_form_4 + d_h2h_2 + c_ability_3)"
   ]
  },
  {
   "cell_type": "code",
   "execution_count": 65,
   "metadata": {},
   "outputs": [
    {
     "data": {
      "text/plain": [
       "Call:\n",
       "multinom(formula = team_1_result ~ team_1_name + team_2_name + \n",
       "    d_ability_1 + d_ability_3 + d_ability_4 + is_november + is_february + \n",
       "    d_form_4 + d_h2h_2 + c_ability_3, data = .)\n",
       "\n",
       "Coefficients:\n",
       "       (Intercept) team_1_nameAston Villa team_1_nameBirmingham\n",
       "T1_Win   0.8816044             -0.8481280           -0.76357613\n",
       "T2_Win  -0.1633759              0.7973968            0.09702963\n",
       "       team_1_nameBlackburn team_1_nameBlackpool team_1_nameBolton\n",
       "T1_Win           -0.1588079            0.1933083        -0.1302987\n",
       "T2_Win            0.8959631            1.4167555         0.8855690\n",
       "       team_1_nameBournemouth team_1_nameBrighton team_1_nameBurnley\n",
       "T1_Win              0.3504025           -2.029322         0.06287422\n",
       "T2_Win              1.5863953           -7.349902         0.68619472\n",
       "       team_1_nameCardiff team_1_nameCharlton team_1_nameChelsea\n",
       "T1_Win         -0.8709780          -0.3514422         -0.1621444\n",
       "T2_Win          0.7733688           0.8562927         -0.4830864\n",
       "       team_1_nameCrystal Palace team_1_nameDerby team_1_nameEverton\n",
       "T1_Win                -0.1229342        -7.231863       -0.007320214\n",
       "T2_Win                 0.9782036         2.163995        0.283977361\n",
       "       team_1_nameFulham team_1_nameHuddersfield team_1_nameHull City\n",
       "T1_Win         0.2974246                7.118050           -0.5799167\n",
       "T2_Win         0.9004538                5.508409            0.9556363\n",
       "       team_1_nameLeeds team_1_nameLeicester team_1_nameLiverpool\n",
       "T1_Win      0.007873414           0.02712595           -0.2512045\n",
       "T2_Win      0.931054505           0.12706062           -0.1891598\n",
       "       team_1_nameManchester City team_1_nameManchester United\n",
       "T1_Win                  0.5369443                    0.3070282\n",
       "T2_Win                  0.7759101                    0.3666193\n",
       "       team_1_nameMiddlesbrough team_1_nameNewcastle Utd team_1_nameNorwich\n",
       "T1_Win               -0.2962490               -0.3007253         -0.1313437\n",
       "T2_Win                0.7335227                0.4387806          0.6723703\n",
       "       team_1_namePortsmouth team_1_nameQPR team_1_nameReading\n",
       "T1_Win            -0.7378288     -0.7519188         -0.1111601\n",
       "T2_Win             0.6279302      0.7835017          1.3770457\n",
       "       team_1_nameSheffield Utd team_1_nameSouthampton team_1_nameStoke City\n",
       "T1_Win              -0.95398805             -0.4994159            -0.2208907\n",
       "T2_Win               0.07848099              0.5069326             0.1832137\n",
       "       team_1_nameSunderland team_1_nameSwansea team_1_nameTottenham\n",
       "T1_Win            -0.6856160         -0.2436132           -0.1559703\n",
       "T2_Win             0.8581603          0.5176686            0.3607577\n",
       "       team_1_nameWatford team_1_nameWest Brom team_1_nameWest Ham\n",
       "T1_Win         -0.5882283           -0.4092998          -0.1127843\n",
       "T2_Win          0.6107091            0.8113685           0.9673150\n",
       "       team_1_nameWigan team_1_nameWolves team_2_nameAston Villa\n",
       "T1_Win       -0.5985845       -0.03485528             -0.4111944\n",
       "T2_Win        0.5570826        1.84721122             -0.2460187\n",
       "       team_2_nameBirmingham team_2_nameBlackburn team_2_nameBlackpool\n",
       "T1_Win             0.1298037           -0.1700540           -0.5155121\n",
       "T2_Win            -1.2591122           -0.2064385           -0.5138145\n",
       "       team_2_nameBolton team_2_nameBournemouth team_2_nameBrighton\n",
       "T1_Win        0.15361739             -0.2813102          -0.8402634\n",
       "T2_Win       -0.07314602             -0.4305137           0.2172483\n",
       "       team_2_nameBurnley team_2_nameCardiff team_2_nameCharlton\n",
       "T1_Win          0.1960797         -0.2969182           0.1168926\n",
       "T2_Win         -1.3283981         -1.2040067          -0.2626369\n",
       "       team_2_nameChelsea team_2_nameCrystal Palace team_2_nameDerby\n",
       "T1_Win         -0.1164211                -0.1168028         1.385353\n",
       "T2_Win          0.3408713                -0.4615522        -6.522390\n",
       "       team_2_nameEverton team_2_nameFulham team_2_nameHuddersfield\n",
       "T1_Win         -0.7136319         -0.212549                5.909620\n",
       "T2_Win         -0.8596209         -1.066749               -2.367674\n",
       "       team_2_nameHull City team_2_nameLeeds team_2_nameLeicester\n",
       "T1_Win           -0.3314242         6.016580           -0.1489763\n",
       "T2_Win           -1.4814012         5.845566           -0.6474735\n",
       "       team_2_nameLiverpool team_2_nameManchester City\n",
       "T1_Win          0.194742291                 -0.1239248\n",
       "T2_Win          0.006685087                 -0.2772125\n",
       "       team_2_nameManchester United team_2_nameMiddlesbrough\n",
       "T1_Win                   -0.3698305               -0.1757884\n",
       "T2_Win                    0.1321860               -0.9505397\n",
       "       team_2_nameNewcastle Utd team_2_nameNorwich team_2_namePortsmouth\n",
       "T1_Win             -0.009656731         -0.1281571             0.3070093\n",
       "T2_Win             -0.658263787         -1.5371194            -0.1418641\n",
       "       team_2_nameQPR team_2_nameReading team_2_nameSheffield Utd\n",
       "T1_Win      0.9012186          0.5415884                0.4727212\n",
       "T2_Win     -0.3883513         -0.8367158               -0.3592636\n",
       "       team_2_nameSouthampton team_2_nameStoke City team_2_nameSunderland\n",
       "T1_Win            -0.03002151            -0.2055506            -0.2244991\n",
       "T2_Win            -0.64246350            -0.9079239            -0.7924888\n",
       "       team_2_nameSwansea team_2_nameTottenham team_2_nameWatford\n",
       "T1_Win          0.1160847           -0.2867651         0.40555679\n",
       "T2_Win         -0.2828764           -0.3136967        -0.07305218\n",
       "       team_2_nameWest Brom team_2_nameWest Ham team_2_nameWigan\n",
       "T1_Win           -0.1937147          -0.1533054       -0.3192093\n",
       "T2_Win           -0.9595356          -0.8752056       -0.1738947\n",
       "       team_2_nameWolves d_ability_1 d_ability_3 d_ability_4 is_november\n",
       "T1_Win        -0.3670881    1.904183  -4.0531686    2.361902 -0.04181707\n",
       "T2_Win        -0.5588744   -1.279553   0.8955538   -0.615519 -0.07401201\n",
       "       is_february    d_form_4     d_h2h_2 c_ability_3\n",
       "T1_Win  0.05955228 -0.05837638 -0.04046663   0.2642037\n",
       "T2_Win -0.06647481  0.02567130 -0.17059395   0.8240624\n",
       "\n",
       "Std. Errors:\n",
       "       (Intercept) team_1_nameAston Villa team_1_nameBirmingham\n",
       "T1_Win    0.344476              0.3146752             0.3907052\n",
       "T2_Win    0.409010              0.3852964             0.4640591\n",
       "       team_1_nameBlackburn team_1_nameBlackpool team_1_nameBolton\n",
       "T1_Win            0.3526612            0.7783884         0.3480379\n",
       "T2_Win            0.4278055            0.7820689         0.4245198\n",
       "       team_1_nameBournemouth team_1_nameBrighton team_1_nameBurnley\n",
       "T1_Win              0.6395042             1.15996          0.4816964\n",
       "T2_Win              0.6737423            26.58426          0.5405216\n",
       "       team_1_nameCardiff team_1_nameCharlton team_1_nameChelsea\n",
       "T1_Win          0.8247316           0.4556688          0.2732892\n",
       "T2_Win          0.7860355           0.5232072          0.4471588\n",
       "       team_1_nameCrystal Palace team_1_nameDerby team_1_nameEverton\n",
       "T1_Win                 0.4184741       21.5052404          0.2922815\n",
       "T2_Win                 0.4705492        0.8898545          0.3900260\n",
       "       team_1_nameFulham team_1_nameHuddersfield team_1_nameHull City\n",
       "T1_Win         0.3378738                18.51643            0.4331921\n",
       "T2_Win         0.4194120                18.52924            0.4644031\n",
       "       team_1_nameLeeds team_1_nameLeicester team_1_nameLiverpool\n",
       "T1_Win         1.265936            0.4248129            0.2710809\n",
       "T2_Win         1.467932            0.5410991            0.3842881\n",
       "       team_1_nameManchester City team_1_nameManchester United\n",
       "T1_Win                  0.3091036                    0.2834630\n",
       "T2_Win                  0.4042532                    0.4038553\n",
       "       team_1_nameMiddlesbrough team_1_nameNewcastle Utd team_1_nameNorwich\n",
       "T1_Win                0.3768698                0.3222333          0.3992534\n",
       "T2_Win                0.4490225                0.4025719          0.4571996\n",
       "       team_1_namePortsmouth team_1_nameQPR team_1_nameReading\n",
       "T1_Win             0.3597623      0.5341851          0.4945613\n",
       "T2_Win             0.4220564      0.5234497          0.5446301\n",
       "       team_1_nameSheffield Utd team_1_nameSouthampton team_1_nameStoke City\n",
       "T1_Win                 0.727083              0.3470518             0.3299277\n",
       "T2_Win                 0.817174              0.4194604             0.4184584\n",
       "       team_1_nameSunderland team_1_nameSwansea team_1_nameTottenham\n",
       "T1_Win             0.3225174          0.3679786            0.2874990\n",
       "T2_Win             0.3839865          0.4376284            0.3843251\n",
       "       team_1_nameWatford team_1_nameWest Brom team_1_nameWest Ham\n",
       "T1_Win          0.4547316            0.3371231           0.3238245\n",
       "T2_Win          0.5072085            0.4020816           0.3955193\n",
       "       team_1_nameWigan team_1_nameWolves team_2_nameAston Villa\n",
       "T1_Win        0.3609408         0.5289405              0.3333625\n",
       "T2_Win        0.4364294         0.5577581              0.3377296\n",
       "       team_2_nameBirmingham team_2_nameBlackburn team_2_nameBlackpool\n",
       "T1_Win             0.4214293            0.3559894            0.7000735\n",
       "T2_Win             0.5575811            0.3759547            0.8191850\n",
       "       team_2_nameBolton team_2_nameBournemouth team_2_nameBrighton\n",
       "T1_Win         0.3613352              0.5293316            1.487298\n",
       "T2_Win         0.3832763              0.5730859            1.305947\n",
       "       team_2_nameBurnley team_2_nameCardiff team_2_nameCharlton\n",
       "T1_Win          0.5360160          0.7010100           0.4866414\n",
       "T2_Win          0.6950088          0.9397808           0.5674756\n",
       "       team_2_nameChelsea team_2_nameCrystal Palace team_2_nameDerby\n",
       "T1_Win          0.3157970                 0.4421038         1.136181\n",
       "T2_Win          0.2811112                 0.4852035        22.536528\n",
       "       team_2_nameEverton team_2_nameFulham team_2_nameHuddersfield\n",
       "T1_Win          0.3002570         0.3529124                27.43238\n",
       "T2_Win          0.3021128         0.4018199                74.92862\n",
       "       team_2_nameHull City team_2_nameLeeds team_2_nameLeicester\n",
       "T1_Win            0.4209518         16.70568            0.4429215\n",
       "T2_Win            0.5523069         16.72634            0.4867077\n",
       "       team_2_nameLiverpool team_2_nameManchester City\n",
       "T1_Win            0.3056487                  0.3032340\n",
       "T2_Win            0.2883651                  0.2912285\n",
       "       team_2_nameManchester United team_2_nameMiddlesbrough\n",
       "T1_Win                    0.3051887                0.3833914\n",
       "T2_Win                    0.2691321                0.4521780\n",
       "       team_2_nameNewcastle Utd team_2_nameNorwich team_2_namePortsmouth\n",
       "T1_Win                0.3243290          0.4366190             0.4116767\n",
       "T2_Win                0.3514007          0.5563865             0.4587342\n",
       "       team_2_nameQPR team_2_nameReading team_2_nameSheffield Utd\n",
       "T1_Win      0.5695664          0.5008809                0.8893547\n",
       "T2_Win      0.7064366          0.6394988                1.0596977\n",
       "       team_2_nameSouthampton team_2_nameStoke City team_2_nameSunderland\n",
       "T1_Win              0.3823557             0.3830277             0.3731328\n",
       "T2_Win              0.4105443             0.4267832             0.4143901\n",
       "       team_2_nameSwansea team_2_nameTottenham team_2_nameWatford\n",
       "T1_Win          0.4008524            0.3023327          0.5536398\n",
       "T2_Win          0.4275183            0.2921564          0.6101348\n",
       "       team_2_nameWest Brom team_2_nameWest Ham team_2_nameWigan\n",
       "T1_Win            0.3787508           0.3334389        0.3789533\n",
       "T2_Win            0.4304611           0.3683279        0.3955792\n",
       "       team_2_nameWolves d_ability_1 d_ability_3 d_ability_4 is_november\n",
       "T1_Win         0.4843558   0.8753896    4.229005    3.825676  0.04179464\n",
       "T2_Win         0.5599826   0.9900520    4.592085    4.222010  0.04687690\n",
       "       is_february   d_form_4    d_h2h_2 c_ability_3\n",
       "T1_Win  0.04340641 0.09255027 0.05683918   0.7312832\n",
       "T2_Win  0.05088491 0.11085384 0.06264943   0.8062452\n",
       "\n",
       "Residual Deviance: 6756.45 \n",
       "AIC: 7104.45 "
      ]
     },
     "metadata": {},
     "output_type": "display_data"
    }
   ],
   "source": [
    "fit.log %>% summary"
   ]
  },
  {
   "cell_type": "code",
   "execution_count": 66,
   "metadata": {
    "collapsed": true
   },
   "outputs": [],
   "source": [
    "#? glm"
   ]
  },
  {
   "cell_type": "code",
   "execution_count": 67,
   "metadata": {
    "collapsed": true
   },
   "outputs": [],
   "source": [
    "realtest <- test %>% filter(datatype == 'build')"
   ]
  },
  {
   "cell_type": "code",
   "execution_count": 68,
   "metadata": {
    "collapsed": true
   },
   "outputs": [],
   "source": [
    "preds <- predict(fit.log, newdata = realtest, type=\"probs\")"
   ]
  },
  {
   "cell_type": "code",
   "execution_count": 69,
   "metadata": {
    "collapsed": true
   },
   "outputs": [],
   "source": [
    "realtest$team_tie_prob <- (preds %>% as.data.frame)$Draw\n",
    "realtest$team_1_prob <- (preds %>% as.data.frame)$T1_Win\n",
    "realtest$team_2_prob <- (preds %>% as.data.frame)$T2_Win"
   ]
  },
  {
   "cell_type": "code",
   "execution_count": 70,
   "metadata": {},
   "outputs": [
    {
     "data": {
      "text/html": [
       "<table>\n",
       "<thead><tr><th scope=col>id</th><th scope=col>date</th><th scope=col>team_1_name</th><th scope=col>team_1_score</th><th scope=col>team_2_name</th><th scope=col>team_2_score</th><th scope=col>d_ability_1</th><th scope=col>d_ability_3</th><th scope=col>d_ability_4</th><th scope=col>is_november</th><th scope=col>...</th><th scope=col>d_form_4</th><th scope=col>d_h2h_2</th><th scope=col>c_ability_3</th><th scope=col>datatype</th><th scope=col>team_1_prob</th><th scope=col>team_tie_prob</th><th scope=col>team_2_prob</th><th scope=col>team_1_win</th><th scope=col>team_1_draw</th><th scope=col>team_1_result</th></tr></thead>\n",
       "<tbody>\n",
       "\t<tr><td>5969fbdb4825083689956894</td><td>2004-02-11 19:45:00     </td><td>Fulham                  </td><td>1                       </td><td>Aston Villa             </td><td>2                       </td><td> 0.003173703            </td><td>-0.090815441            </td><td>-0.093715979            </td><td>-0.3388981              </td><td>...                     </td><td>         NaN            </td><td>     NaN                </td><td>-0.07596201             </td><td>build                   </td><td>       NA               </td><td>          NA            </td><td>        NA              </td><td>0                       </td><td>0                       </td><td>T2_Win                  </td></tr>\n",
       "\t<tr><td>5969fbdb4825083689956893</td><td>2004-02-11 19:45:00     </td><td>Birmingham              </td><td>3                       </td><td>Everton                 </td><td>0                       </td><td> 0.003173703            </td><td>-0.090815441            </td><td>-0.093715979            </td><td>-0.3388981              </td><td>...                     </td><td>         NaN            </td><td>     NaN                </td><td>-0.07596201             </td><td>build                   </td><td>       NA               </td><td>          NA            </td><td>        NA              </td><td>1                       </td><td>0                       </td><td>T1_Win                  </td></tr>\n",
       "\t<tr><td>5969fbdb482508368995688c</td><td>2004-02-21 12:30:00     </td><td>Chelsea                 </td><td>1                       </td><td>Arsenal                 </td><td>2                       </td><td> 0.095545948            </td><td>-0.003533786            </td><td>-0.009938975            </td><td>-0.3388981              </td><td>...                     </td><td>         NaN            </td><td>     NaN                </td><td> 0.01989236             </td><td>build                   </td><td>       NA               </td><td>          NA            </td><td>        NA              </td><td>0                       </td><td>0                       </td><td>T2_Win                  </td></tr>\n",
       "\t<tr><td>5969fbdb4825083689956886</td><td>2004-02-22 12:00:00     </td><td>Aston Villa             </td><td>2                       </td><td>Birmingham              </td><td>2                       </td><td>-0.051587189            </td><td>-0.143146027            </td><td>-0.144017664            </td><td>-0.3388981              </td><td>...                     </td><td>         NaN            </td><td>     NaN                </td><td>-0.12782011             </td><td>build                   </td><td>       NA               </td><td>          NA            </td><td>        NA              </td><td>0                       </td><td>1                       </td><td>Draw                    </td></tr>\n",
       "\t<tr><td>5969fbdb4825083689956883</td><td>2004-02-28 15:00:00     </td><td>Leicester               </td><td>0                       </td><td>Wolves                  </td><td>0                       </td><td>-0.007102259            </td><td>-0.101248959            </td><td>-0.103902275            </td><td>-0.3388981              </td><td>...                     </td><td>         NaN            </td><td>     NaN                </td><td>-0.08233556             </td><td>build                   </td><td>       NA               </td><td>          NA            </td><td>        NA              </td><td>0                       </td><td>1                       </td><td>Draw                    </td></tr>\n",
       "\t<tr><td>5969fbdb4825083689956880</td><td>2004-02-28 15:00:00     </td><td>Blackburn               </td><td>1                       </td><td>Southampton             </td><td>1                       </td><td>-0.023343253            </td><td>-0.118486349            </td><td>-0.120358254            </td><td>-0.3388981              </td><td>...                     </td><td>         NaN            </td><td>     NaN                </td><td>-0.10485048             </td><td>build                   </td><td>       NA               </td><td>          NA            </td><td>        NA              </td><td>0                       </td><td>1                       </td><td>Draw                    </td></tr>\n",
       "\t<tr><td>5969fbdb482508368995687c</td><td>2004-03-03 19:45:00     </td><td>Birmingham              </td><td>3                       </td><td>Middlesbrough           </td><td>1                       </td><td> 0.097384050            </td><td> 0.015225661            </td><td> 0.008468567            </td><td>-0.3388981              </td><td>...                     </td><td>-1.204969031            </td><td>1.425950                </td><td> 0.03902693             </td><td>build                   </td><td>0.4673574               </td><td>0.4211356926            </td><td>0.11150693              </td><td>1                       </td><td>0                       </td><td>T1_Win                  </td></tr>\n",
       "\t<tr><td>5969fbdb4825083689956874</td><td>2004-03-13 15:00:00     </td><td>Birmingham              </td><td>0                       </td><td>Leicester               </td><td>1                       </td><td> 0.240896006            </td><td> 0.169360986            </td><td> 0.157257481            </td><td>-0.3388981              </td><td>...                     </td><td> 1.625595230            </td><td>1.380987                </td><td> 0.20830158             </td><td>build                   </td><td>0.4214914               </td><td>0.4163733775            </td><td>0.16213523              </td><td>0                       </td><td>0                       </td><td>T2_Win                  </td></tr>\n",
       "\t<tr><td>5969fbdb4825083689956878</td><td>2004-03-13 15:00:00     </td><td>Fulham                  </td><td>2                       </td><td>Leeds                   </td><td>0                       </td><td>-0.085942213            </td><td>-0.184409187            </td><td>-0.183807457            </td><td>-0.3388981              </td><td>...                     </td><td> 0.899722256            </td><td>1.391935                </td><td>-0.18232032             </td><td>build                   </td><td>0.7025444               </td><td>0.0005332519            </td><td>0.29692233              </td><td>1                       </td><td>0                       </td><td>T1_Win                  </td></tr>\n",
       "\t<tr><td>5969fbdb4825083689956875</td><td>2004-03-13 15:00:00     </td><td>Blackburn               </td><td>0                       </td><td>Arsenal                 </td><td>2                       </td><td>-0.129994357            </td><td>-0.220673631            </td><td>-0.218408780            </td><td>-0.3388981              </td><td>...                     </td><td>-1.560450837            </td><td>1.356399                </td><td>-0.21989423             </td><td>build                   </td><td>0.4741475               </td><td>0.2073393805            </td><td>0.31851307              </td><td>0                       </td><td>0                       </td><td>T2_Win                  </td></tr>\n",
       "\t<tr><td>5969fbd44825083689956868</td><td>2004-03-20 15:00:00     </td><td>Arsenal                 </td><td>2                       </td><td>Bolton                  </td><td>1                       </td><td> 0.406954435            </td><td> 0.294705004            </td><td> 0.276983724            </td><td>-0.3388981              </td><td>...                     </td><td>-0.990995595            </td><td>1.547910                </td><td> 0.34035093             </td><td>build                   </td><td>0.7154643               </td><td>0.1854375093            </td><td>0.09909823              </td><td>1                       </td><td>0                       </td><td>T1_Win                  </td></tr>\n",
       "\t<tr><td>5969fbd4482508368995686a</td><td>2004-03-20 15:00:00     </td><td>Chelsea                 </td><td>2                       </td><td>Fulham                  </td><td>1                       </td><td> 0.198417826            </td><td> 0.084685920            </td><td> 0.074900519            </td><td>-0.3388981              </td><td>...                     </td><td>-0.195161238            </td><td>1.559772                </td><td> 0.11592988             </td><td>build                   </td><td>0.6395276               </td><td>0.3199636478            </td><td>0.04050874              </td><td>1                       </td><td>0                       </td><td>T1_Win                  </td></tr>\n",
       "\t<tr><td>5969fbd44825083689956866</td><td>2004-03-21 16:05:00     </td><td>Portsmouth              </td><td>1                       </td><td>Southampton             </td><td>0                       </td><td>-0.290989505            </td><td>-0.384740426            </td><td>-0.376557783            </td><td>-0.3388981              </td><td>...                     </td><td>-1.143309355            </td><td>1.548438                </td><td>-0.39442654             </td><td>build                   </td><td>0.4126945               </td><td>0.3642822392            </td><td>0.22302331              </td><td>1                       </td><td>0                       </td><td>T1_Win                  </td></tr>\n",
       "\t<tr><td>5969fbd34825083689956862</td><td>2004-03-27 15:00:00     </td><td>Manchester City         </td><td>0                       </td><td>Fulham                  </td><td>0                       </td><td> 0.128894869            </td><td> 0.036774363            </td><td> 0.029365107            </td><td>-0.3388981              </td><td>...                     </td><td> 1.577016734            </td><td>1.654381                </td><td> 0.06507071             </td><td>build                   </td><td>0.6978436               </td><td>0.2049659486            </td><td>0.09719049              </td><td>0                       </td><td>1                       </td><td>Draw                    </td></tr>\n",
       "\t<tr><td>5969fbd3482508368995685c</td><td>2004-03-28 14:00:00     </td><td>Leicester               </td><td>0                       </td><td>Liverpool               </td><td>0                       </td><td>-0.043629300            </td><td>-0.138501371            </td><td>-0.139760921            </td><td>-0.3388981              </td><td>...                     </td><td>-0.726530016            </td><td>1.595955                </td><td>-0.12526434             </td><td>build                   </td><td>0.6597640               </td><td>0.2003894674            </td><td>0.13984654              </td><td>0                       </td><td>1                       </td><td>Draw                    </td></tr>\n",
       "\t<tr><td>5969fbd34825083689956858</td><td>2004-04-03 14:00:00     </td><td>Newcastle Utd           </td><td>4                       </td><td>Everton                 </td><td>2                       </td><td> 0.044615462            </td><td>-0.037154128            </td><td>-0.041420053            </td><td>-0.3388981              </td><td>...                     </td><td> 0.168646772            </td><td>1.537703                </td><td>-0.01218049             </td><td>build                   </td><td>0.3953785               </td><td>0.4262150901            </td><td>0.17840643              </td><td>1                       </td><td>0                       </td><td>T1_Win                  </td></tr>\n",
       "\t<tr><td>5969fbd34825083689956856</td><td>2004-04-03 14:00:00     </td><td>Fulham                  </td><td>0                       </td><td>Birmingham              </td><td>0                       </td><td>-0.231106430            </td><td>-0.311375276            </td><td>-0.306655121            </td><td>-0.3388981              </td><td>...                     </td><td>-0.058505457            </td><td>1.526092                </td><td>-0.30272014             </td><td>build                   </td><td>0.7081795               </td><td>0.2001893724            </td><td>0.09163110              </td><td>0                       </td><td>1                       </td><td>Draw                    </td></tr>\n",
       "\t<tr><td>5969fbd34825083689956855</td><td>2004-04-04 13:00:00     </td><td>Aston Villa             </td><td>1                       </td><td>Manchester City         </td><td>1                       </td><td> 0.025675731            </td><td>-0.086635366            </td><td>-0.079774950            </td><td>-0.3388981              </td><td>...                     </td><td> 0.167967880            </td><td>1.514493                </td><td>-0.07459065             </td><td>build                   </td><td>0.3360980               </td><td>0.3276049575            </td><td>0.33629707              </td><td>0                       </td><td>1                       </td><td>Draw                    </td></tr>\n",
       "\t<tr><td>5969fbd3482508368995683e</td><td>2004-04-17 11:30:00     </td><td>Portsmouth              </td><td>1                       </td><td>Manchester United       </td><td>0                       </td><td>-0.105935128            </td><td>-0.193357971            </td><td>-0.192446503            </td><td>-0.3388981              </td><td>...                     </td><td>-1.390227194            </td><td>1.576162                </td><td>-0.18626430             </td><td>build                   </td><td>0.2748725               </td><td>0.3146696957            </td><td>0.41045781              </td><td>1                       </td><td>0                       </td><td>T1_Win                  </td></tr>\n",
       "\t<tr><td>5969fbcc4825083689956837</td><td>2004-04-17 14:00:00     </td><td>Bolton                  </td><td>2                       </td><td>Tottenham               </td><td>0                       </td><td>-0.041929410            </td><td>-0.155575597            </td><td>-0.157396400            </td><td>-0.3388981              </td><td>...                     </td><td>-0.002330983            </td><td>1.530135                </td><td>-0.15150405             </td><td>build                   </td><td>0.4509052               </td><td>0.2635720522            </td><td>0.28552272              </td><td>1                       </td><td>0                       </td><td>T1_Win                  </td></tr>\n",
       "\t<tr><td>5969fbd3482508368995683d</td><td>2004-04-17 14:00:00     </td><td>Blackburn               </td><td>1                       </td><td>Leicester               </td><td>0                       </td><td>-0.108332771            </td><td>-0.229982627            </td><td>-0.236394614            </td><td>-0.3388981              </td><td>...                     </td><td>-0.102959496            </td><td>1.494737                </td><td>-0.23879644             </td><td>build                   </td><td>0.5102079               </td><td>0.2747359048            </td><td>0.21505624              </td><td>1                       </td><td>0                       </td><td>T1_Win                  </td></tr>\n",
       "\t<tr><td>5969fbcc482508368995683c</td><td>2004-04-17 14:00:00     </td><td>Wolves                  </td><td>2                       </td><td>Middlesbrough           </td><td>0                       </td><td>-0.590518014            </td><td>-0.700058923            </td><td>-0.691232631            </td><td>-0.3388981              </td><td>...                     </td><td> 0.128363617            </td><td>1.565498                </td><td>-0.74786171             </td><td>build                   </td><td>0.3852512               </td><td>0.2388329294            </td><td>0.37591589              </td><td>1                       </td><td>0                       </td><td>T1_Win                  </td></tr>\n",
       "\t<tr><td>5969fbcc4825083689956836</td><td>2004-04-18 13:00:00     </td><td>Aston Villa             </td><td>0                       </td><td>Newcastle Utd           </td><td>0                       </td><td> 0.010650694            </td><td>-0.094220163            </td><td>-0.087922927            </td><td>-0.3388981              </td><td>...                     </td><td> 0.734774518            </td><td>1.553859                </td><td>-0.08317906             </td><td>build                   </td><td>0.3886194               </td><td>0.3566664763            </td><td>0.25471412              </td><td>0                       </td><td>1                       </td><td>Draw                    </td></tr>\n",
       "\t<tr><td>5969fbcc4825083689956835</td><td>2004-04-20 19:00:00     </td><td>Manchester United       </td><td>2                       </td><td>Charlton                </td><td>0                       </td><td> 0.155886269            </td><td> 0.063792205            </td><td> 0.054694998            </td><td>-0.3388981              </td><td>...                     </td><td> 0.643802533            </td><td>1.589198                </td><td> 0.09778966             </td><td>build                   </td><td>0.7035348               </td><td>0.1748564587            </td><td>0.12160875              </td><td>1                       </td><td>0                       </td><td>T1_Win                  </td></tr>\n",
       "\t<tr><td>5969fbcc4825083689956834</td><td>2004-04-24 14:00:00     </td><td>Southampton             </td><td>1                       </td><td>Bolton                  </td><td>2                       </td><td> 0.355810274            </td><td> 0.255629327            </td><td> 0.240694250            </td><td>-0.3388981              </td><td>...                     </td><td> 1.525044503            </td><td>1.589321                </td><td> 0.29794540             </td><td>build                   </td><td>0.4987708               </td><td>0.2561659136            </td><td>0.24506330              </td><td>0                       </td><td>0                       </td><td>T2_Win                  </td></tr>\n",
       "\t<tr><td>5969fbcc4825083689956832</td><td>2004-04-24 14:00:00     </td><td>Manchester United       </td><td>0                       </td><td>Liverpool               </td><td>1                       </td><td>-0.001778234            </td><td>-0.072740275            </td><td>-0.084808807            </td><td>-0.3388981              </td><td>...                     </td><td>-0.239342868            </td><td>1.472410                </td><td>-0.04155051             </td><td>build                   </td><td>0.6776002               </td><td>0.1649127036            </td><td>0.15748714              </td><td>0                       </td><td>0                       </td><td>T2_Win                  </td></tr>\n",
       "\t<tr><td>5969fbcc482508368995682f</td><td>2004-04-24 14:00:00     </td><td>Everton                 </td><td>0                       </td><td>Blackburn               </td><td>1                       </td><td> 0.234242991            </td><td> 0.148146397            </td><td> 0.144349773            </td><td>-0.3388981              </td><td>...                     </td><td>-0.711096566            </td><td>1.554176                </td><td> 0.19148037             </td><td>build                   </td><td>0.6012272               </td><td>0.2407578808            </td><td>0.15801489              </td><td>0                       </td><td>0                       </td><td>T2_Win                  </td></tr>\n",
       "\t<tr><td>5969fbcc482508368995682c</td><td>2004-04-25 13:00:00     </td><td>Newcastle Utd           </td><td>2                       </td><td>Chelsea                 </td><td>1                       </td><td>-0.136351087            </td><td>-0.204345240            </td><td>-0.203105135            </td><td>-0.3388981              </td><td>...                     </td><td>-1.284665165            </td><td>1.437855                </td><td>-0.18754110             </td><td>build                   </td><td>0.4096756               </td><td>0.2445771317            </td><td>0.34574723              </td><td>1                       </td><td>0                       </td><td>T1_Win                  </td></tr>\n",
       "\t<tr><td>5969fbcc4825083689956825</td><td>2004-05-01 14:00:00     </td><td>Charlton                </td><td>2                       </td><td>Leicester               </td><td>2                       </td><td>-0.090852893            </td><td>-0.194517788            </td><td>-0.193613192            </td><td>-0.3388981              </td><td>...                     </td><td> 0.929494789            </td><td>1.497618                </td><td>-0.19182255             </td><td>build                   </td><td>0.4470100               </td><td>0.3090795356            </td><td>0.24391050              </td><td>0                       </td><td>1                       </td><td>Draw                    </td></tr>\n",
       "\t<tr><td>5969fbcc4825083689956826</td><td>2004-05-01 14:00:00     </td><td>Chelsea                 </td><td>4                       </td><td>Southampton             </td><td>0                       </td><td> 0.095563159            </td><td> 0.002147791            </td><td>-0.003341412            </td><td>-0.3388981              </td><td>...                     </td><td>-0.776588722            </td><td>1.497288                </td><td> 0.01976397             </td><td>build                   </td><td>0.6591350               </td><td>0.2845555918            </td><td>0.05630938              </td><td>1                       </td><td>0                       </td><td>T1_Win                  </td></tr>\n",
       "\t<tr><td>...</td><td>...</td><td>...</td><td>...</td><td>...</td><td>...</td><td>...</td><td>...</td><td>...</td><td>...</td><td>   </td><td>...</td><td>...</td><td>...</td><td>...</td><td>...</td><td>...</td><td>...</td><td>...</td><td>...</td><td>...</td></tr>\n",
       "\t<tr><td>59b50c804825080c2d524c8e</td><td>2017-09-23 14:00:00     </td><td>Swansea                 </td><td>1                       </td><td>Watford                 </td><td>2                       </td><td> 0.3677909954           </td><td> 0.26812497             </td><td> 0.26473593             </td><td>-0.3388981              </td><td>...                     </td><td> 0.81514294             </td><td>-1.583115               </td><td> 0.23516976             </td><td>build                   </td><td>0.60633173              </td><td>0.1562065919            </td><td>2.374617e-01            </td><td>0                       </td><td>0                       </td><td>T2_Win                  </td></tr>\n",
       "\t<tr><td>59b50c7c4825080c2d524c89</td><td>2017-09-23 14:00:00     </td><td>Burnley                 </td><td>0                       </td><td>Huddersfield            </td><td>0                       </td><td> 1.1089386483           </td><td> 1.05859411             </td><td> 1.06033770             </td><td>-0.3388981              </td><td>...                     </td><td>-1.23099662             </td><td>-1.551111               </td><td> 1.07690128             </td><td>build                   </td><td>0.99941372              </td><td>0.0005032448            </td><td>8.303997e-05            </td><td>0                       </td><td>1                       </td><td>Draw                    </td></tr>\n",
       "\t<tr><td>59b50c7d4825080c2d524c8b</td><td>2017-09-23 14:00:00     </td><td>Manchester City         </td><td>5                       </td><td>Crystal Palace          </td><td>0                       </td><td> 2.3744625651           </td><td> 2.38300010             </td><td> 2.39624224             </td><td>-0.3388981              </td><td>...                     </td><td>-0.14714746             </td><td>-1.454998               </td><td> 2.37713332             </td><td>build                   </td><td>0.85947528              </td><td>0.0695077959            </td><td>7.101692e-02            </td><td>1                       </td><td>0                       </td><td>T1_Win                  </td></tr>\n",
       "\t<tr><td>59c1572c48250809e427342d</td><td>2017-09-30 11:30:00     </td><td>Huddersfield            </td><td>0                       </td><td>Tottenham               </td><td>4                       </td><td>-2.9401262242           </td><td>-2.84684792             </td><td>-2.85337866             </td><td>-0.3388981              </td><td>...                     </td><td>-1.25713108             </td><td>-1.664014               </td><td>-2.87322167             </td><td>build                   </td><td>0.58845367              </td><td>0.0010908541            </td><td>4.104555e-01            </td><td>0                       </td><td>0                       </td><td>T2_Win                  </td></tr>\n",
       "\t<tr><td>59c1572e48250809e427342f</td><td>2017-09-30 14:00:00     </td><td>Manchester United       </td><td>4                       </td><td>Crystal Palace          </td><td>0                       </td><td> 1.9492582538           </td><td> 1.90529113             </td><td> 1.89212143             </td><td>-0.3388981              </td><td>...                     </td><td>-0.58817530             </td><td>-1.595284               </td><td> 1.91719037             </td><td>build                   </td><td>0.83034605              </td><td>0.0986015612            </td><td>7.105239e-02            </td><td>1                       </td><td>0                       </td><td>T1_Win                  </td></tr>\n",
       "\t<tr><td>59c1572d48250809e427342e</td><td>2017-09-30 14:00:00     </td><td>Bournemouth             </td><td>0                       </td><td>Leicester               </td><td>0                       </td><td>-0.4166545456           </td><td>-0.41487565             </td><td>-0.40253436             </td><td>-0.3388981              </td><td>...                     </td><td> 0.01226989             </td><td>-1.672423               </td><td>-0.36862708             </td><td>build                   </td><td>0.38035873              </td><td>0.1420053526            </td><td>4.776359e-01            </td><td>0                       </td><td>1                       </td><td>Draw                    </td></tr>\n",
       "\t<tr><td>59c1573148250809e4273435</td><td>2017-10-01 13:15:00     </td><td>Everton                 </td><td>0                       </td><td>Burnley                 </td><td>1                       </td><td> 0.4669970923           </td><td> 0.54669984             </td><td> 0.55368765             </td><td>-0.3388981              </td><td>...                     </td><td> 2.00628729             </td><td>-1.590787               </td><td> 0.50440478             </td><td>build                   </td><td>0.68521622              </td><td>0.2219586036            </td><td>9.282518e-02            </td><td>0                       </td><td>0                       </td><td>T2_Win                  </td></tr>\n",
       "\t<tr><td>59d153c648250812289fb7db</td><td>2017-10-14 14:00:00     </td><td>Burnley                 </td><td>1                       </td><td>West Ham                </td><td>1                       </td><td> 0.2383497260           </td><td> 0.21752746             </td><td> 0.22205524             </td><td>-0.3388981              </td><td>...                     </td><td> 0.44303177             </td><td>-1.477502               </td><td> 0.23254079             </td><td>build                   </td><td>0.58250124              </td><td>0.2189648842            </td><td>1.985339e-01            </td><td>0                       </td><td>1                       </td><td>Draw                    </td></tr>\n",
       "\t<tr><td>59d153c948250812289fb7e0</td><td>2017-10-14 16:30:00     </td><td>Watford                 </td><td>2                       </td><td>Arsenal                 </td><td>1                       </td><td>-1.6373854170           </td><td>-1.69542119             </td><td>-1.69623654             </td><td>-0.3388981              </td><td>...                     </td><td>-1.61666763             </td><td>-1.424283               </td><td>-1.70778963             </td><td>build                   </td><td>0.18090343              </td><td>0.2353219163            </td><td>5.837747e-01            </td><td>1                       </td><td>0                       </td><td>T1_Win                  </td></tr>\n",
       "\t<tr><td>59dbb63d4825080bdbe14828</td><td>2017-10-21 14:00:00     </td><td>Swansea                 </td><td>1                       </td><td>Leicester               </td><td>2                       </td><td>-0.3366447789           </td><td>-0.33907677             </td><td>-0.35238894             </td><td>-0.3388981              </td><td>...                     </td><td> 0.10682361             </td><td>-1.508032               </td><td>-0.19383067             </td><td>build                   </td><td>0.39942589              </td><td>0.2707559593            </td><td>3.298182e-01            </td><td>0                       </td><td>0                       </td><td>T2_Win                  </td></tr>\n",
       "\t<tr><td>59dbb63c4825080bdbe14826</td><td>2017-10-21 14:00:00     </td><td>Newcastle Utd           </td><td>1                       </td><td>Crystal Palace          </td><td>0                       </td><td> 0.5081879440           </td><td> 0.47181655             </td><td> 0.47604954             </td><td>-0.3388981              </td><td>...                     </td><td> 0.51634685             </td><td>-1.463371               </td><td> 0.51772696             </td><td>build                   </td><td>0.52427509              </td><td>0.2344268714            </td><td>2.412980e-01            </td><td>1                       </td><td>0                       </td><td>T1_Win                  </td></tr>\n",
       "\t<tr><td>59dbb63d4825080bdbe14829</td><td>2017-10-21 16:30:00     </td><td>Southampton             </td><td>1                       </td><td>West Brom               </td><td>0                       </td><td> 0.2473110746           </td><td> 0.17378970             </td><td> 0.19218681             </td><td>-0.3388981              </td><td>...                     </td><td> 0.92938529             </td><td>-1.448497               </td><td> 0.15953312             </td><td>build                   </td><td>0.48900590              </td><td>0.3115980104            </td><td>1.993961e-01            </td><td>1                       </td><td>0                       </td><td>T1_Win                  </td></tr>\n",
       "\t<tr><td>59dbb63e4825080bdbe1482a</td><td>2017-10-22 12:30:00     </td><td>Everton                 </td><td>2                       </td><td>Arsenal                 </td><td>5                       </td><td>-0.7332483144           </td><td>-0.65807320             </td><td>-0.64179014             </td><td>-0.3388981              </td><td>...                     </td><td>-0.73128078             </td><td>-1.527571               </td><td>-0.67531624             </td><td>build                   </td><td>0.38126826              </td><td>0.2197991523            </td><td>3.989326e-01            </td><td>0                       </td><td>0                       </td><td>T2_Win                  </td></tr>\n",
       "\t<tr><td>59e2710a48250813c1940cb4</td><td>2017-10-28 14:00:00     </td><td>West Brom               </td><td>2                       </td><td>Manchester City         </td><td>3                       </td><td>-2.4504268414           </td><td>-2.31056053             </td><td>-2.31464977             </td><td>-0.3388981              </td><td>...                     </td><td>-0.70306361             </td><td>-1.429808               </td><td>-2.38101110             </td><td>build                   </td><td>0.08346866              </td><td>0.2168016089            </td><td>6.997297e-01            </td><td>0                       </td><td>0                       </td><td>T2_Win                  </td></tr>\n",
       "\t<tr><td>59e2710948250813c1940cb2</td><td>2017-10-28 14:00:00     </td><td>Liverpool               </td><td>3                       </td><td>Huddersfield            </td><td>0                       </td><td> 2.0138805117           </td><td> 2.05441862             </td><td> 2.07286396             </td><td>-0.3388981              </td><td>...                     </td><td>-0.26784055             </td><td>-1.388966               </td><td> 2.03722098             </td><td>build                   </td><td>0.99944101              </td><td>0.0005262794            </td><td>3.271438e-05            </td><td>1                       </td><td>0                       </td><td>T1_Win                  </td></tr>\n",
       "\t<tr><td>59e658da4825081e87f447c1</td><td>2017-10-30 20:00:00     </td><td>Burnley                 </td><td>1                       </td><td>Newcastle Utd           </td><td>0                       </td><td> 0.0007325098           </td><td> 0.10026478             </td><td> 0.09832056             </td><td>-0.3388981              </td><td>...                     </td><td> 0.28117484             </td><td>-1.434526               </td><td> 0.01432858             </td><td>build                   </td><td>0.50074393              </td><td>0.2243931178            </td><td>2.748629e-01            </td><td>1                       </td><td>0                       </td><td>T1_Win                  </td></tr>\n",
       "\t<tr><td>59ee280a4825080b9ed279c9</td><td>2017-11-04 12:30:00     </td><td>Stoke City              </td><td>2                       </td><td>Leicester               </td><td>2                       </td><td>-0.5087016085           </td><td>-0.45302588             </td><td>-0.45815774             </td><td> 2.9507397              </td><td>...                     </td><td> 0.15109328             </td><td>-1.443164               </td><td>-0.34560907             </td><td>build                   </td><td>0.39469378              </td><td>0.3524956192            </td><td>2.528106e-01            </td><td>0                       </td><td>1                       </td><td>Draw                    </td></tr>\n",
       "\t<tr><td>59ee280a4825080b9ed279cf</td><td>2017-11-05 12:00:00     </td><td>Tottenham               </td><td>1                       </td><td>Crystal Palace          </td><td>0                       </td><td> 2.5234932657           </td><td> 2.48317685             </td><td> 2.48672576             </td><td> 2.9507397              </td><td>...                     </td><td> 0.40820890             </td><td>-1.588441               </td><td> 2.46184874             </td><td>build                   </td><td>0.79636150              </td><td>0.1354799484            </td><td>6.815855e-02            </td><td>1                       </td><td>0                       </td><td>T1_Win                  </td></tr>\n",
       "\t<tr><td>59ee280a4825080b9ed279d0</td><td>2017-11-05 14:15:00     </td><td>Manchester City         </td><td>3                       </td><td>Arsenal                 </td><td>1                       </td><td> 1.0391981497           </td><td> 1.18417477             </td><td> 1.21590999             </td><td> 2.9507397              </td><td>...                     </td><td>-1.43008939             </td><td>-1.549960               </td><td> 1.23582571             </td><td>build                   </td><td>0.67567927              </td><td>0.1116949948            </td><td>2.126257e-01            </td><td>1                       </td><td>0                       </td><td>T1_Win                  </td></tr>\n",
       "\t<tr><td>59ee280a4825080b9ed279d2</td><td>2017-11-05 16:30:00     </td><td>Everton                 </td><td>3                       </td><td>Watford                 </td><td>2                       </td><td> 0.6255522926           </td><td> 0.60259964             </td><td> 0.62779466             </td><td> 2.9507397              </td><td>...                     </td><td> 0.98945341             </td><td>-1.535000               </td><td> 0.46962586             </td><td>build                   </td><td>0.70343977              </td><td>0.1573592679            </td><td>1.392010e-01            </td><td>1                       </td><td>0                       </td><td>T1_Win                  </td></tr>\n",
       "\t<tr><td>59fe4df04825080beffcd882</td><td>2017-11-18 15:00:00     </td><td>Bournemouth             </td><td>4                       </td><td>Huddersfield            </td><td>0                       </td><td> 0.9015455826           </td><td> 0.79311808             </td><td> 0.80664975             </td><td> 2.9507397              </td><td>...                     </td><td> 0.26052950             </td><td>-1.554169               </td><td> 0.79209511             </td><td>build                   </td><td>0.99938309              </td><td>0.0004693529            </td><td>1.475568e-04            </td><td>1                       </td><td>0                       </td><td>T1_Win                  </td></tr>\n",
       "\t<tr><td>59fe4df04825080beffcd888</td><td>2017-11-18 17:30:00     </td><td>Manchester United       </td><td>4                       </td><td>Newcastle Utd           </td><td>1                       </td><td> 1.5019378819           </td><td> 1.63231016             </td><td> 1.62614485             </td><td> 2.9507397              </td><td>...                     </td><td>-0.62849331             </td><td>-1.400636               </td><td> 1.59036772             </td><td>build                   </td><td>0.76678106              </td><td>0.1494984470            </td><td>8.372050e-02            </td><td>1                       </td><td>0                       </td><td>T1_Win                  </td></tr>\n",
       "\t<tr><td>5a071f9b482508420afac457</td><td>2017-11-25 15:00:00     </td><td>Crystal Palace          </td><td>2                       </td><td>Stoke City              </td><td>1                       </td><td>-0.2059213694           </td><td>-0.25463293             </td><td>-0.24425586             </td><td> 2.9507397              </td><td>...                     </td><td> 0.60531790             </td><td>-1.367558               </td><td>-0.30738069             </td><td>build                   </td><td>0.44336749              </td><td>0.2934702583            </td><td>2.631623e-01            </td><td>1                       </td><td>0                       </td><td>T1_Win                  </td></tr>\n",
       "\t<tr><td>5a071f9b482508420afac458</td><td>2017-11-25 15:00:00     </td><td>Manchester United       </td><td>1                       </td><td>Brighton                </td><td>0                       </td><td> 1.6812864314           </td><td> 1.77199265             </td><td> 1.76700596             </td><td> 2.9507397              </td><td>...                     </td><td>-1.03446783             </td><td>-1.373651               </td><td> 1.73730062             </td><td>build                   </td><td>0.54234132              </td><td>0.2048142675            </td><td>2.528444e-01            </td><td>1                       </td><td>0                       </td><td>T1_Win                  </td></tr>\n",
       "\t<tr><td>5a071f9b482508420afac45b</td><td>2017-11-25 15:00:00     </td><td>Tottenham               </td><td>1                       </td><td>West Brom               </td><td>1                       </td><td> 2.1846502262           </td><td> 2.19375072             </td><td> 2.19934975             </td><td> 2.9507397              </td><td>...                     </td><td> 0.76683267             </td><td>-1.382350               </td><td> 2.38756521             </td><td>build                   </td><td>0.76121886              </td><td>0.1707813682            </td><td>6.799977e-02            </td><td>0                       </td><td>1                       </td><td>Draw                    </td></tr>\n",
       "\t<tr><td>5a08cab648250813a77a4033</td><td>2017-11-26 14:00:00     </td><td>Burnley                 </td><td>0                       </td><td>Arsenal                 </td><td>1                       </td><td>-1.1183712933           </td><td>-1.05011711             </td><td>-1.04203813             </td><td> 2.9507397              </td><td>...                     </td><td>-0.87514114             </td><td>-1.425670               </td><td>-1.03635310             </td><td>build                   </td><td>0.29208519              </td><td>0.2158122269            </td><td>4.921026e-01            </td><td>0                       </td><td>0                       </td><td>T2_Win                  </td></tr>\n",
       "\t<tr><td>5a0b68884825080defdb7bd0</td><td>2017-11-28 20:00:00     </td><td>Watford                 </td><td>2                       </td><td>Manchester United       </td><td>4                       </td><td>-1.6733635202           </td><td>-1.70876392             </td><td>-1.72393898             </td><td> 2.9507397              </td><td>...                     </td><td>-1.56504689             </td><td>-1.507150               </td><td>-1.75232945             </td><td>build                   </td><td>0.11389108              </td><td>0.2695930829            </td><td>6.165158e-01            </td><td>0                       </td><td>0                       </td><td>T2_Win                  </td></tr>\n",
       "\t<tr><td>5a0b68884825080defdb7bd1</td><td>2017-11-28 20:00:00     </td><td>West Brom               </td><td>2                       </td><td>Newcastle Utd           </td><td>2                       </td><td> 0.0303762014           </td><td> 0.04044188             </td><td> 0.03245436             </td><td> 2.9507397              </td><td>...                     </td><td> 0.13788986             </td><td>-1.515716               </td><td>-0.29136768             </td><td>build                   </td><td>0.41889887              </td><td>0.3206780007            </td><td>2.604231e-01            </td><td>0                       </td><td>1                       </td><td>Draw                    </td></tr>\n",
       "\t<tr><td>5a0c9ccc4825080cc88ed833</td><td>2017-11-29 19:45:00     </td><td>Arsenal                 </td><td>5                       </td><td>Huddersfield            </td><td>0                       </td><td> 2.3593137455           </td><td> 2.36805650             </td><td> 2.36853379             </td><td> 2.9507397              </td><td>...                     </td><td>-0.03159171             </td><td>-1.423925               </td><td> 2.35119841             </td><td>build                   </td><td>0.99957581              </td><td>0.0004021658            </td><td>2.202523e-05            </td><td>1                       </td><td>0                       </td><td>T1_Win                  </td></tr>\n",
       "\t<tr><td>5a0e063f48250809b11b6aef</td><td>2017-11-29 20:00:00     </td><td>Stoke City              </td><td>0                       </td><td>Liverpool               </td><td>3                       </td><td>-1.4854460901           </td><td>-1.36276606             </td><td>-1.36715490             </td><td> 2.9507397              </td><td>...                     </td><td>-0.98729363             </td><td>-1.503022               </td><td>-1.38122844             </td><td>build                   </td><td>0.26756439              </td><td>0.2862422653            </td><td>4.461933e-01            </td><td>0                       </td><td>0                       </td><td>T2_Win                  </td></tr>\n",
       "</tbody>\n",
       "</table>\n"
      ],
      "text/latex": [
       "\\begin{tabular}{r|lllllllllllllllllllll}\n",
       " id & date & team\\_1\\_name & team\\_1\\_score & team\\_2\\_name & team\\_2\\_score & d\\_ability\\_1 & d\\_ability\\_3 & d\\_ability\\_4 & is\\_november & ... & d\\_form\\_4 & d\\_h2h\\_2 & c\\_ability\\_3 & datatype & team\\_1\\_prob & team\\_tie\\_prob & team\\_2\\_prob & team\\_1\\_win & team\\_1\\_draw & team\\_1\\_result\\\\\n",
       "\\hline\n",
       "\t 5969fbdb4825083689956894 & 2004-02-11 19:45:00      & Fulham                   & 1                        & Aston Villa              & 2                        &  0.003173703             & -0.090815441             & -0.093715979             & -0.3388981               & ...                      &          NaN             &      NaN                 & -0.07596201              & build                    &        NA                &           NA             &         NA               & 0                        & 0                        & T2\\_Win                \\\\\n",
       "\t 5969fbdb4825083689956893 & 2004-02-11 19:45:00      & Birmingham               & 3                        & Everton                  & 0                        &  0.003173703             & -0.090815441             & -0.093715979             & -0.3388981               & ...                      &          NaN             &      NaN                 & -0.07596201              & build                    &        NA                &           NA             &         NA               & 1                        & 0                        & T1\\_Win                \\\\\n",
       "\t 5969fbdb482508368995688c & 2004-02-21 12:30:00      & Chelsea                  & 1                        & Arsenal                  & 2                        &  0.095545948             & -0.003533786             & -0.009938975             & -0.3388981               & ...                      &          NaN             &      NaN                 &  0.01989236              & build                    &        NA                &           NA             &         NA               & 0                        & 0                        & T2\\_Win                \\\\\n",
       "\t 5969fbdb4825083689956886 & 2004-02-22 12:00:00      & Aston Villa              & 2                        & Birmingham               & 2                        & -0.051587189             & -0.143146027             & -0.144017664             & -0.3388981               & ...                      &          NaN             &      NaN                 & -0.12782011              & build                    &        NA                &           NA             &         NA               & 0                        & 1                        & Draw                    \\\\\n",
       "\t 5969fbdb4825083689956883 & 2004-02-28 15:00:00      & Leicester                & 0                        & Wolves                   & 0                        & -0.007102259             & -0.101248959             & -0.103902275             & -0.3388981               & ...                      &          NaN             &      NaN                 & -0.08233556              & build                    &        NA                &           NA             &         NA               & 0                        & 1                        & Draw                    \\\\\n",
       "\t 5969fbdb4825083689956880 & 2004-02-28 15:00:00      & Blackburn                & 1                        & Southampton              & 1                        & -0.023343253             & -0.118486349             & -0.120358254             & -0.3388981               & ...                      &          NaN             &      NaN                 & -0.10485048              & build                    &        NA                &           NA             &         NA               & 0                        & 1                        & Draw                    \\\\\n",
       "\t 5969fbdb482508368995687c & 2004-03-03 19:45:00      & Birmingham               & 3                        & Middlesbrough            & 1                        &  0.097384050             &  0.015225661             &  0.008468567             & -0.3388981               & ...                      & -1.204969031             & 1.425950                 &  0.03902693              & build                    & 0.4673574                & 0.4211356926             & 0.11150693               & 1                        & 0                        & T1\\_Win                \\\\\n",
       "\t 5969fbdb4825083689956874 & 2004-03-13 15:00:00      & Birmingham               & 0                        & Leicester                & 1                        &  0.240896006             &  0.169360986             &  0.157257481             & -0.3388981               & ...                      &  1.625595230             & 1.380987                 &  0.20830158              & build                    & 0.4214914                & 0.4163733775             & 0.16213523               & 0                        & 0                        & T2\\_Win                \\\\\n",
       "\t 5969fbdb4825083689956878 & 2004-03-13 15:00:00      & Fulham                   & 2                        & Leeds                    & 0                        & -0.085942213             & -0.184409187             & -0.183807457             & -0.3388981               & ...                      &  0.899722256             & 1.391935                 & -0.18232032              & build                    & 0.7025444                & 0.0005332519             & 0.29692233               & 1                        & 0                        & T1\\_Win                \\\\\n",
       "\t 5969fbdb4825083689956875 & 2004-03-13 15:00:00      & Blackburn                & 0                        & Arsenal                  & 2                        & -0.129994357             & -0.220673631             & -0.218408780             & -0.3388981               & ...                      & -1.560450837             & 1.356399                 & -0.21989423              & build                    & 0.4741475                & 0.2073393805             & 0.31851307               & 0                        & 0                        & T2\\_Win                \\\\\n",
       "\t 5969fbd44825083689956868 & 2004-03-20 15:00:00      & Arsenal                  & 2                        & Bolton                   & 1                        &  0.406954435             &  0.294705004             &  0.276983724             & -0.3388981               & ...                      & -0.990995595             & 1.547910                 &  0.34035093              & build                    & 0.7154643                & 0.1854375093             & 0.09909823               & 1                        & 0                        & T1\\_Win                \\\\\n",
       "\t 5969fbd4482508368995686a & 2004-03-20 15:00:00      & Chelsea                  & 2                        & Fulham                   & 1                        &  0.198417826             &  0.084685920             &  0.074900519             & -0.3388981               & ...                      & -0.195161238             & 1.559772                 &  0.11592988              & build                    & 0.6395276                & 0.3199636478             & 0.04050874               & 1                        & 0                        & T1\\_Win                \\\\\n",
       "\t 5969fbd44825083689956866 & 2004-03-21 16:05:00      & Portsmouth               & 1                        & Southampton              & 0                        & -0.290989505             & -0.384740426             & -0.376557783             & -0.3388981               & ...                      & -1.143309355             & 1.548438                 & -0.39442654              & build                    & 0.4126945                & 0.3642822392             & 0.22302331               & 1                        & 0                        & T1\\_Win                \\\\\n",
       "\t 5969fbd34825083689956862 & 2004-03-27 15:00:00      & Manchester City          & 0                        & Fulham                   & 0                        &  0.128894869             &  0.036774363             &  0.029365107             & -0.3388981               & ...                      &  1.577016734             & 1.654381                 &  0.06507071              & build                    & 0.6978436                & 0.2049659486             & 0.09719049               & 0                        & 1                        & Draw                    \\\\\n",
       "\t 5969fbd3482508368995685c & 2004-03-28 14:00:00      & Leicester                & 0                        & Liverpool                & 0                        & -0.043629300             & -0.138501371             & -0.139760921             & -0.3388981               & ...                      & -0.726530016             & 1.595955                 & -0.12526434              & build                    & 0.6597640                & 0.2003894674             & 0.13984654               & 0                        & 1                        & Draw                    \\\\\n",
       "\t 5969fbd34825083689956858 & 2004-04-03 14:00:00      & Newcastle Utd            & 4                        & Everton                  & 2                        &  0.044615462             & -0.037154128             & -0.041420053             & -0.3388981               & ...                      &  0.168646772             & 1.537703                 & -0.01218049              & build                    & 0.3953785                & 0.4262150901             & 0.17840643               & 1                        & 0                        & T1\\_Win                \\\\\n",
       "\t 5969fbd34825083689956856 & 2004-04-03 14:00:00      & Fulham                   & 0                        & Birmingham               & 0                        & -0.231106430             & -0.311375276             & -0.306655121             & -0.3388981               & ...                      & -0.058505457             & 1.526092                 & -0.30272014              & build                    & 0.7081795                & 0.2001893724             & 0.09163110               & 0                        & 1                        & Draw                    \\\\\n",
       "\t 5969fbd34825083689956855 & 2004-04-04 13:00:00      & Aston Villa              & 1                        & Manchester City          & 1                        &  0.025675731             & -0.086635366             & -0.079774950             & -0.3388981               & ...                      &  0.167967880             & 1.514493                 & -0.07459065              & build                    & 0.3360980                & 0.3276049575             & 0.33629707               & 0                        & 1                        & Draw                    \\\\\n",
       "\t 5969fbd3482508368995683e & 2004-04-17 11:30:00      & Portsmouth               & 1                        & Manchester United        & 0                        & -0.105935128             & -0.193357971             & -0.192446503             & -0.3388981               & ...                      & -1.390227194             & 1.576162                 & -0.18626430              & build                    & 0.2748725                & 0.3146696957             & 0.41045781               & 1                        & 0                        & T1\\_Win                \\\\\n",
       "\t 5969fbcc4825083689956837 & 2004-04-17 14:00:00      & Bolton                   & 2                        & Tottenham                & 0                        & -0.041929410             & -0.155575597             & -0.157396400             & -0.3388981               & ...                      & -0.002330983             & 1.530135                 & -0.15150405              & build                    & 0.4509052                & 0.2635720522             & 0.28552272               & 1                        & 0                        & T1\\_Win                \\\\\n",
       "\t 5969fbd3482508368995683d & 2004-04-17 14:00:00      & Blackburn                & 1                        & Leicester                & 0                        & -0.108332771             & -0.229982627             & -0.236394614             & -0.3388981               & ...                      & -0.102959496             & 1.494737                 & -0.23879644              & build                    & 0.5102079                & 0.2747359048             & 0.21505624               & 1                        & 0                        & T1\\_Win                \\\\\n",
       "\t 5969fbcc482508368995683c & 2004-04-17 14:00:00      & Wolves                   & 2                        & Middlesbrough            & 0                        & -0.590518014             & -0.700058923             & -0.691232631             & -0.3388981               & ...                      &  0.128363617             & 1.565498                 & -0.74786171              & build                    & 0.3852512                & 0.2388329294             & 0.37591589               & 1                        & 0                        & T1\\_Win                \\\\\n",
       "\t 5969fbcc4825083689956836 & 2004-04-18 13:00:00      & Aston Villa              & 0                        & Newcastle Utd            & 0                        &  0.010650694             & -0.094220163             & -0.087922927             & -0.3388981               & ...                      &  0.734774518             & 1.553859                 & -0.08317906              & build                    & 0.3886194                & 0.3566664763             & 0.25471412               & 0                        & 1                        & Draw                    \\\\\n",
       "\t 5969fbcc4825083689956835 & 2004-04-20 19:00:00      & Manchester United        & 2                        & Charlton                 & 0                        &  0.155886269             &  0.063792205             &  0.054694998             & -0.3388981               & ...                      &  0.643802533             & 1.589198                 &  0.09778966              & build                    & 0.7035348                & 0.1748564587             & 0.12160875               & 1                        & 0                        & T1\\_Win                \\\\\n",
       "\t 5969fbcc4825083689956834 & 2004-04-24 14:00:00      & Southampton              & 1                        & Bolton                   & 2                        &  0.355810274             &  0.255629327             &  0.240694250             & -0.3388981               & ...                      &  1.525044503             & 1.589321                 &  0.29794540              & build                    & 0.4987708                & 0.2561659136             & 0.24506330               & 0                        & 0                        & T2\\_Win                \\\\\n",
       "\t 5969fbcc4825083689956832 & 2004-04-24 14:00:00      & Manchester United        & 0                        & Liverpool                & 1                        & -0.001778234             & -0.072740275             & -0.084808807             & -0.3388981               & ...                      & -0.239342868             & 1.472410                 & -0.04155051              & build                    & 0.6776002                & 0.1649127036             & 0.15748714               & 0                        & 0                        & T2\\_Win                \\\\\n",
       "\t 5969fbcc482508368995682f & 2004-04-24 14:00:00      & Everton                  & 0                        & Blackburn                & 1                        &  0.234242991             &  0.148146397             &  0.144349773             & -0.3388981               & ...                      & -0.711096566             & 1.554176                 &  0.19148037              & build                    & 0.6012272                & 0.2407578808             & 0.15801489               & 0                        & 0                        & T2\\_Win                \\\\\n",
       "\t 5969fbcc482508368995682c & 2004-04-25 13:00:00      & Newcastle Utd            & 2                        & Chelsea                  & 1                        & -0.136351087             & -0.204345240             & -0.203105135             & -0.3388981               & ...                      & -1.284665165             & 1.437855                 & -0.18754110              & build                    & 0.4096756                & 0.2445771317             & 0.34574723               & 1                        & 0                        & T1\\_Win                \\\\\n",
       "\t 5969fbcc4825083689956825 & 2004-05-01 14:00:00      & Charlton                 & 2                        & Leicester                & 2                        & -0.090852893             & -0.194517788             & -0.193613192             & -0.3388981               & ...                      &  0.929494789             & 1.497618                 & -0.19182255              & build                    & 0.4470100                & 0.3090795356             & 0.24391050               & 0                        & 1                        & Draw                    \\\\\n",
       "\t 5969fbcc4825083689956826 & 2004-05-01 14:00:00      & Chelsea                  & 4                        & Southampton              & 0                        &  0.095563159             &  0.002147791             & -0.003341412             & -0.3388981               & ...                      & -0.776588722             & 1.497288                 &  0.01976397              & build                    & 0.6591350                & 0.2845555918             & 0.05630938               & 1                        & 0                        & T1\\_Win                \\\\\n",
       "\t ... & ... & ... & ... & ... & ... & ... & ... & ... & ... &     & ... & ... & ... & ... & ... & ... & ... & ... & ... & ...\\\\\n",
       "\t 59b50c804825080c2d524c8e & 2017-09-23 14:00:00      & Swansea                  & 1                        & Watford                  & 2                        &  0.3677909954            &  0.26812497              &  0.26473593              & -0.3388981               & ...                      &  0.81514294              & -1.583115                &  0.23516976              & build                    & 0.60633173               & 0.1562065919             & 2.374617e-01             & 0                        & 0                        & T2\\_Win                \\\\\n",
       "\t 59b50c7c4825080c2d524c89 & 2017-09-23 14:00:00      & Burnley                  & 0                        & Huddersfield             & 0                        &  1.1089386483            &  1.05859411              &  1.06033770              & -0.3388981               & ...                      & -1.23099662              & -1.551111                &  1.07690128              & build                    & 0.99941372               & 0.0005032448             & 8.303997e-05             & 0                        & 1                        & Draw                    \\\\\n",
       "\t 59b50c7d4825080c2d524c8b & 2017-09-23 14:00:00      & Manchester City          & 5                        & Crystal Palace           & 0                        &  2.3744625651            &  2.38300010              &  2.39624224              & -0.3388981               & ...                      & -0.14714746              & -1.454998                &  2.37713332              & build                    & 0.85947528               & 0.0695077959             & 7.101692e-02             & 1                        & 0                        & T1\\_Win                \\\\\n",
       "\t 59c1572c48250809e427342d & 2017-09-30 11:30:00      & Huddersfield             & 0                        & Tottenham                & 4                        & -2.9401262242            & -2.84684792              & -2.85337866              & -0.3388981               & ...                      & -1.25713108              & -1.664014                & -2.87322167              & build                    & 0.58845367               & 0.0010908541             & 4.104555e-01             & 0                        & 0                        & T2\\_Win                \\\\\n",
       "\t 59c1572e48250809e427342f & 2017-09-30 14:00:00      & Manchester United        & 4                        & Crystal Palace           & 0                        &  1.9492582538            &  1.90529113              &  1.89212143              & -0.3388981               & ...                      & -0.58817530              & -1.595284                &  1.91719037              & build                    & 0.83034605               & 0.0986015612             & 7.105239e-02             & 1                        & 0                        & T1\\_Win                \\\\\n",
       "\t 59c1572d48250809e427342e & 2017-09-30 14:00:00      & Bournemouth              & 0                        & Leicester                & 0                        & -0.4166545456            & -0.41487565              & -0.40253436              & -0.3388981               & ...                      &  0.01226989              & -1.672423                & -0.36862708              & build                    & 0.38035873               & 0.1420053526             & 4.776359e-01             & 0                        & 1                        & Draw                    \\\\\n",
       "\t 59c1573148250809e4273435 & 2017-10-01 13:15:00      & Everton                  & 0                        & Burnley                  & 1                        &  0.4669970923            &  0.54669984              &  0.55368765              & -0.3388981               & ...                      &  2.00628729              & -1.590787                &  0.50440478              & build                    & 0.68521622               & 0.2219586036             & 9.282518e-02             & 0                        & 0                        & T2\\_Win                \\\\\n",
       "\t 59d153c648250812289fb7db & 2017-10-14 14:00:00      & Burnley                  & 1                        & West Ham                 & 1                        &  0.2383497260            &  0.21752746              &  0.22205524              & -0.3388981               & ...                      &  0.44303177              & -1.477502                &  0.23254079              & build                    & 0.58250124               & 0.2189648842             & 1.985339e-01             & 0                        & 1                        & Draw                    \\\\\n",
       "\t 59d153c948250812289fb7e0 & 2017-10-14 16:30:00      & Watford                  & 2                        & Arsenal                  & 1                        & -1.6373854170            & -1.69542119              & -1.69623654              & -0.3388981               & ...                      & -1.61666763              & -1.424283                & -1.70778963              & build                    & 0.18090343               & 0.2353219163             & 5.837747e-01             & 1                        & 0                        & T1\\_Win                \\\\\n",
       "\t 59dbb63d4825080bdbe14828 & 2017-10-21 14:00:00      & Swansea                  & 1                        & Leicester                & 2                        & -0.3366447789            & -0.33907677              & -0.35238894              & -0.3388981               & ...                      &  0.10682361              & -1.508032                & -0.19383067              & build                    & 0.39942589               & 0.2707559593             & 3.298182e-01             & 0                        & 0                        & T2\\_Win                \\\\\n",
       "\t 59dbb63c4825080bdbe14826 & 2017-10-21 14:00:00      & Newcastle Utd            & 1                        & Crystal Palace           & 0                        &  0.5081879440            &  0.47181655              &  0.47604954              & -0.3388981               & ...                      &  0.51634685              & -1.463371                &  0.51772696              & build                    & 0.52427509               & 0.2344268714             & 2.412980e-01             & 1                        & 0                        & T1\\_Win                \\\\\n",
       "\t 59dbb63d4825080bdbe14829 & 2017-10-21 16:30:00      & Southampton              & 1                        & West Brom                & 0                        &  0.2473110746            &  0.17378970              &  0.19218681              & -0.3388981               & ...                      &  0.92938529              & -1.448497                &  0.15953312              & build                    & 0.48900590               & 0.3115980104             & 1.993961e-01             & 1                        & 0                        & T1\\_Win                \\\\\n",
       "\t 59dbb63e4825080bdbe1482a & 2017-10-22 12:30:00      & Everton                  & 2                        & Arsenal                  & 5                        & -0.7332483144            & -0.65807320              & -0.64179014              & -0.3388981               & ...                      & -0.73128078              & -1.527571                & -0.67531624              & build                    & 0.38126826               & 0.2197991523             & 3.989326e-01             & 0                        & 0                        & T2\\_Win                \\\\\n",
       "\t 59e2710a48250813c1940cb4 & 2017-10-28 14:00:00      & West Brom                & 2                        & Manchester City          & 3                        & -2.4504268414            & -2.31056053              & -2.31464977              & -0.3388981               & ...                      & -0.70306361              & -1.429808                & -2.38101110              & build                    & 0.08346866               & 0.2168016089             & 6.997297e-01             & 0                        & 0                        & T2\\_Win                \\\\\n",
       "\t 59e2710948250813c1940cb2 & 2017-10-28 14:00:00      & Liverpool                & 3                        & Huddersfield             & 0                        &  2.0138805117            &  2.05441862              &  2.07286396              & -0.3388981               & ...                      & -0.26784055              & -1.388966                &  2.03722098              & build                    & 0.99944101               & 0.0005262794             & 3.271438e-05             & 1                        & 0                        & T1\\_Win                \\\\\n",
       "\t 59e658da4825081e87f447c1 & 2017-10-30 20:00:00      & Burnley                  & 1                        & Newcastle Utd            & 0                        &  0.0007325098            &  0.10026478              &  0.09832056              & -0.3388981               & ...                      &  0.28117484              & -1.434526                &  0.01432858              & build                    & 0.50074393               & 0.2243931178             & 2.748629e-01             & 1                        & 0                        & T1\\_Win                \\\\\n",
       "\t 59ee280a4825080b9ed279c9 & 2017-11-04 12:30:00      & Stoke City               & 2                        & Leicester                & 2                        & -0.5087016085            & -0.45302588              & -0.45815774              &  2.9507397               & ...                      &  0.15109328              & -1.443164                & -0.34560907              & build                    & 0.39469378               & 0.3524956192             & 2.528106e-01             & 0                        & 1                        & Draw                    \\\\\n",
       "\t 59ee280a4825080b9ed279cf & 2017-11-05 12:00:00      & Tottenham                & 1                        & Crystal Palace           & 0                        &  2.5234932657            &  2.48317685              &  2.48672576              &  2.9507397               & ...                      &  0.40820890              & -1.588441                &  2.46184874              & build                    & 0.79636150               & 0.1354799484             & 6.815855e-02             & 1                        & 0                        & T1\\_Win                \\\\\n",
       "\t 59ee280a4825080b9ed279d0 & 2017-11-05 14:15:00      & Manchester City          & 3                        & Arsenal                  & 1                        &  1.0391981497            &  1.18417477              &  1.21590999              &  2.9507397               & ...                      & -1.43008939              & -1.549960                &  1.23582571              & build                    & 0.67567927               & 0.1116949948             & 2.126257e-01             & 1                        & 0                        & T1\\_Win                \\\\\n",
       "\t 59ee280a4825080b9ed279d2 & 2017-11-05 16:30:00      & Everton                  & 3                        & Watford                  & 2                        &  0.6255522926            &  0.60259964              &  0.62779466              &  2.9507397               & ...                      &  0.98945341              & -1.535000                &  0.46962586              & build                    & 0.70343977               & 0.1573592679             & 1.392010e-01             & 1                        & 0                        & T1\\_Win                \\\\\n",
       "\t 59fe4df04825080beffcd882 & 2017-11-18 15:00:00      & Bournemouth              & 4                        & Huddersfield             & 0                        &  0.9015455826            &  0.79311808              &  0.80664975              &  2.9507397               & ...                      &  0.26052950              & -1.554169                &  0.79209511              & build                    & 0.99938309               & 0.0004693529             & 1.475568e-04             & 1                        & 0                        & T1\\_Win                \\\\\n",
       "\t 59fe4df04825080beffcd888 & 2017-11-18 17:30:00      & Manchester United        & 4                        & Newcastle Utd            & 1                        &  1.5019378819            &  1.63231016              &  1.62614485              &  2.9507397               & ...                      & -0.62849331              & -1.400636                &  1.59036772              & build                    & 0.76678106               & 0.1494984470             & 8.372050e-02             & 1                        & 0                        & T1\\_Win                \\\\\n",
       "\t 5a071f9b482508420afac457 & 2017-11-25 15:00:00      & Crystal Palace           & 2                        & Stoke City               & 1                        & -0.2059213694            & -0.25463293              & -0.24425586              &  2.9507397               & ...                      &  0.60531790              & -1.367558                & -0.30738069              & build                    & 0.44336749               & 0.2934702583             & 2.631623e-01             & 1                        & 0                        & T1\\_Win                \\\\\n",
       "\t 5a071f9b482508420afac458 & 2017-11-25 15:00:00      & Manchester United        & 1                        & Brighton                 & 0                        &  1.6812864314            &  1.77199265              &  1.76700596              &  2.9507397               & ...                      & -1.03446783              & -1.373651                &  1.73730062              & build                    & 0.54234132               & 0.2048142675             & 2.528444e-01             & 1                        & 0                        & T1\\_Win                \\\\\n",
       "\t 5a071f9b482508420afac45b & 2017-11-25 15:00:00      & Tottenham                & 1                        & West Brom                & 1                        &  2.1846502262            &  2.19375072              &  2.19934975              &  2.9507397               & ...                      &  0.76683267              & -1.382350                &  2.38756521              & build                    & 0.76121886               & 0.1707813682             & 6.799977e-02             & 0                        & 1                        & Draw                    \\\\\n",
       "\t 5a08cab648250813a77a4033 & 2017-11-26 14:00:00      & Burnley                  & 0                        & Arsenal                  & 1                        & -1.1183712933            & -1.05011711              & -1.04203813              &  2.9507397               & ...                      & -0.87514114              & -1.425670                & -1.03635310              & build                    & 0.29208519               & 0.2158122269             & 4.921026e-01             & 0                        & 0                        & T2\\_Win                \\\\\n",
       "\t 5a0b68884825080defdb7bd0 & 2017-11-28 20:00:00      & Watford                  & 2                        & Manchester United        & 4                        & -1.6733635202            & -1.70876392              & -1.72393898              &  2.9507397               & ...                      & -1.56504689              & -1.507150                & -1.75232945              & build                    & 0.11389108               & 0.2695930829             & 6.165158e-01             & 0                        & 0                        & T2\\_Win                \\\\\n",
       "\t 5a0b68884825080defdb7bd1 & 2017-11-28 20:00:00      & West Brom                & 2                        & Newcastle Utd            & 2                        &  0.0303762014            &  0.04044188              &  0.03245436              &  2.9507397               & ...                      &  0.13788986              & -1.515716                & -0.29136768              & build                    & 0.41889887               & 0.3206780007             & 2.604231e-01             & 0                        & 1                        & Draw                    \\\\\n",
       "\t 5a0c9ccc4825080cc88ed833 & 2017-11-29 19:45:00      & Arsenal                  & 5                        & Huddersfield             & 0                        &  2.3593137455            &  2.36805650              &  2.36853379              &  2.9507397               & ...                      & -0.03159171              & -1.423925                &  2.35119841              & build                    & 0.99957581               & 0.0004021658             & 2.202523e-05             & 1                        & 0                        & T1\\_Win                \\\\\n",
       "\t 5a0e063f48250809b11b6aef & 2017-11-29 20:00:00      & Stoke City               & 0                        & Liverpool                & 3                        & -1.4854460901            & -1.36276606              & -1.36715490              &  2.9507397               & ...                      & -0.98729363              & -1.503022                & -1.38122844              & build                    & 0.26756439               & 0.2862422653             & 4.461933e-01             & 0                        & 0                        & T2\\_Win                \\\\\n",
       "\\end{tabular}\n"
      ],
      "text/markdown": [
       "\n",
       "id | date | team_1_name | team_1_score | team_2_name | team_2_score | d_ability_1 | d_ability_3 | d_ability_4 | is_november | ... | d_form_4 | d_h2h_2 | c_ability_3 | datatype | team_1_prob | team_tie_prob | team_2_prob | team_1_win | team_1_draw | team_1_result | \n",
       "|---|---|---|---|---|---|---|---|---|---|---|---|---|---|---|---|---|---|---|---|---|---|---|---|---|---|---|---|---|---|---|---|---|---|---|---|---|---|---|---|---|---|---|---|---|---|---|---|---|---|---|---|---|---|---|---|---|---|---|---|---|\n",
       "| 5969fbdb4825083689956894 | 2004-02-11 19:45:00      | Fulham                   | 1                        | Aston Villa              | 2                        |  0.003173703             | -0.090815441             | -0.093715979             | -0.3388981               | ...                      |          NaN             |      NaN                 | -0.07596201              | build                    |        NA                |           NA             |         NA               | 0                        | 0                        | T2_Win                   | \n",
       "| 5969fbdb4825083689956893 | 2004-02-11 19:45:00      | Birmingham               | 3                        | Everton                  | 0                        |  0.003173703             | -0.090815441             | -0.093715979             | -0.3388981               | ...                      |          NaN             |      NaN                 | -0.07596201              | build                    |        NA                |           NA             |         NA               | 1                        | 0                        | T1_Win                   | \n",
       "| 5969fbdb482508368995688c | 2004-02-21 12:30:00      | Chelsea                  | 1                        | Arsenal                  | 2                        |  0.095545948             | -0.003533786             | -0.009938975             | -0.3388981               | ...                      |          NaN             |      NaN                 |  0.01989236              | build                    |        NA                |           NA             |         NA               | 0                        | 0                        | T2_Win                   | \n",
       "| 5969fbdb4825083689956886 | 2004-02-22 12:00:00      | Aston Villa              | 2                        | Birmingham               | 2                        | -0.051587189             | -0.143146027             | -0.144017664             | -0.3388981               | ...                      |          NaN             |      NaN                 | -0.12782011              | build                    |        NA                |           NA             |         NA               | 0                        | 1                        | Draw                     | \n",
       "| 5969fbdb4825083689956883 | 2004-02-28 15:00:00      | Leicester                | 0                        | Wolves                   | 0                        | -0.007102259             | -0.101248959             | -0.103902275             | -0.3388981               | ...                      |          NaN             |      NaN                 | -0.08233556              | build                    |        NA                |           NA             |         NA               | 0                        | 1                        | Draw                     | \n",
       "| 5969fbdb4825083689956880 | 2004-02-28 15:00:00      | Blackburn                | 1                        | Southampton              | 1                        | -0.023343253             | -0.118486349             | -0.120358254             | -0.3388981               | ...                      |          NaN             |      NaN                 | -0.10485048              | build                    |        NA                |           NA             |         NA               | 0                        | 1                        | Draw                     | \n",
       "| 5969fbdb482508368995687c | 2004-03-03 19:45:00      | Birmingham               | 3                        | Middlesbrough            | 1                        |  0.097384050             |  0.015225661             |  0.008468567             | -0.3388981               | ...                      | -1.204969031             | 1.425950                 |  0.03902693              | build                    | 0.4673574                | 0.4211356926             | 0.11150693               | 1                        | 0                        | T1_Win                   | \n",
       "| 5969fbdb4825083689956874 | 2004-03-13 15:00:00      | Birmingham               | 0                        | Leicester                | 1                        |  0.240896006             |  0.169360986             |  0.157257481             | -0.3388981               | ...                      |  1.625595230             | 1.380987                 |  0.20830158              | build                    | 0.4214914                | 0.4163733775             | 0.16213523               | 0                        | 0                        | T2_Win                   | \n",
       "| 5969fbdb4825083689956878 | 2004-03-13 15:00:00      | Fulham                   | 2                        | Leeds                    | 0                        | -0.085942213             | -0.184409187             | -0.183807457             | -0.3388981               | ...                      |  0.899722256             | 1.391935                 | -0.18232032              | build                    | 0.7025444                | 0.0005332519             | 0.29692233               | 1                        | 0                        | T1_Win                   | \n",
       "| 5969fbdb4825083689956875 | 2004-03-13 15:00:00      | Blackburn                | 0                        | Arsenal                  | 2                        | -0.129994357             | -0.220673631             | -0.218408780             | -0.3388981               | ...                      | -1.560450837             | 1.356399                 | -0.21989423              | build                    | 0.4741475                | 0.2073393805             | 0.31851307               | 0                        | 0                        | T2_Win                   | \n",
       "| 5969fbd44825083689956868 | 2004-03-20 15:00:00      | Arsenal                  | 2                        | Bolton                   | 1                        |  0.406954435             |  0.294705004             |  0.276983724             | -0.3388981               | ...                      | -0.990995595             | 1.547910                 |  0.34035093              | build                    | 0.7154643                | 0.1854375093             | 0.09909823               | 1                        | 0                        | T1_Win                   | \n",
       "| 5969fbd4482508368995686a | 2004-03-20 15:00:00      | Chelsea                  | 2                        | Fulham                   | 1                        |  0.198417826             |  0.084685920             |  0.074900519             | -0.3388981               | ...                      | -0.195161238             | 1.559772                 |  0.11592988              | build                    | 0.6395276                | 0.3199636478             | 0.04050874               | 1                        | 0                        | T1_Win                   | \n",
       "| 5969fbd44825083689956866 | 2004-03-21 16:05:00      | Portsmouth               | 1                        | Southampton              | 0                        | -0.290989505             | -0.384740426             | -0.376557783             | -0.3388981               | ...                      | -1.143309355             | 1.548438                 | -0.39442654              | build                    | 0.4126945                | 0.3642822392             | 0.22302331               | 1                        | 0                        | T1_Win                   | \n",
       "| 5969fbd34825083689956862 | 2004-03-27 15:00:00      | Manchester City          | 0                        | Fulham                   | 0                        |  0.128894869             |  0.036774363             |  0.029365107             | -0.3388981               | ...                      |  1.577016734             | 1.654381                 |  0.06507071              | build                    | 0.6978436                | 0.2049659486             | 0.09719049               | 0                        | 1                        | Draw                     | \n",
       "| 5969fbd3482508368995685c | 2004-03-28 14:00:00      | Leicester                | 0                        | Liverpool                | 0                        | -0.043629300             | -0.138501371             | -0.139760921             | -0.3388981               | ...                      | -0.726530016             | 1.595955                 | -0.12526434              | build                    | 0.6597640                | 0.2003894674             | 0.13984654               | 0                        | 1                        | Draw                     | \n",
       "| 5969fbd34825083689956858 | 2004-04-03 14:00:00      | Newcastle Utd            | 4                        | Everton                  | 2                        |  0.044615462             | -0.037154128             | -0.041420053             | -0.3388981               | ...                      |  0.168646772             | 1.537703                 | -0.01218049              | build                    | 0.3953785                | 0.4262150901             | 0.17840643               | 1                        | 0                        | T1_Win                   | \n",
       "| 5969fbd34825083689956856 | 2004-04-03 14:00:00      | Fulham                   | 0                        | Birmingham               | 0                        | -0.231106430             | -0.311375276             | -0.306655121             | -0.3388981               | ...                      | -0.058505457             | 1.526092                 | -0.30272014              | build                    | 0.7081795                | 0.2001893724             | 0.09163110               | 0                        | 1                        | Draw                     | \n",
       "| 5969fbd34825083689956855 | 2004-04-04 13:00:00      | Aston Villa              | 1                        | Manchester City          | 1                        |  0.025675731             | -0.086635366             | -0.079774950             | -0.3388981               | ...                      |  0.167967880             | 1.514493                 | -0.07459065              | build                    | 0.3360980                | 0.3276049575             | 0.33629707               | 0                        | 1                        | Draw                     | \n",
       "| 5969fbd3482508368995683e | 2004-04-17 11:30:00      | Portsmouth               | 1                        | Manchester United        | 0                        | -0.105935128             | -0.193357971             | -0.192446503             | -0.3388981               | ...                      | -1.390227194             | 1.576162                 | -0.18626430              | build                    | 0.2748725                | 0.3146696957             | 0.41045781               | 1                        | 0                        | T1_Win                   | \n",
       "| 5969fbcc4825083689956837 | 2004-04-17 14:00:00      | Bolton                   | 2                        | Tottenham                | 0                        | -0.041929410             | -0.155575597             | -0.157396400             | -0.3388981               | ...                      | -0.002330983             | 1.530135                 | -0.15150405              | build                    | 0.4509052                | 0.2635720522             | 0.28552272               | 1                        | 0                        | T1_Win                   | \n",
       "| 5969fbd3482508368995683d | 2004-04-17 14:00:00      | Blackburn                | 1                        | Leicester                | 0                        | -0.108332771             | -0.229982627             | -0.236394614             | -0.3388981               | ...                      | -0.102959496             | 1.494737                 | -0.23879644              | build                    | 0.5102079                | 0.2747359048             | 0.21505624               | 1                        | 0                        | T1_Win                   | \n",
       "| 5969fbcc482508368995683c | 2004-04-17 14:00:00      | Wolves                   | 2                        | Middlesbrough            | 0                        | -0.590518014             | -0.700058923             | -0.691232631             | -0.3388981               | ...                      |  0.128363617             | 1.565498                 | -0.74786171              | build                    | 0.3852512                | 0.2388329294             | 0.37591589               | 1                        | 0                        | T1_Win                   | \n",
       "| 5969fbcc4825083689956836 | 2004-04-18 13:00:00      | Aston Villa              | 0                        | Newcastle Utd            | 0                        |  0.010650694             | -0.094220163             | -0.087922927             | -0.3388981               | ...                      |  0.734774518             | 1.553859                 | -0.08317906              | build                    | 0.3886194                | 0.3566664763             | 0.25471412               | 0                        | 1                        | Draw                     | \n",
       "| 5969fbcc4825083689956835 | 2004-04-20 19:00:00      | Manchester United        | 2                        | Charlton                 | 0                        |  0.155886269             |  0.063792205             |  0.054694998             | -0.3388981               | ...                      |  0.643802533             | 1.589198                 |  0.09778966              | build                    | 0.7035348                | 0.1748564587             | 0.12160875               | 1                        | 0                        | T1_Win                   | \n",
       "| 5969fbcc4825083689956834 | 2004-04-24 14:00:00      | Southampton              | 1                        | Bolton                   | 2                        |  0.355810274             |  0.255629327             |  0.240694250             | -0.3388981               | ...                      |  1.525044503             | 1.589321                 |  0.29794540              | build                    | 0.4987708                | 0.2561659136             | 0.24506330               | 0                        | 0                        | T2_Win                   | \n",
       "| 5969fbcc4825083689956832 | 2004-04-24 14:00:00      | Manchester United        | 0                        | Liverpool                | 1                        | -0.001778234             | -0.072740275             | -0.084808807             | -0.3388981               | ...                      | -0.239342868             | 1.472410                 | -0.04155051              | build                    | 0.6776002                | 0.1649127036             | 0.15748714               | 0                        | 0                        | T2_Win                   | \n",
       "| 5969fbcc482508368995682f | 2004-04-24 14:00:00      | Everton                  | 0                        | Blackburn                | 1                        |  0.234242991             |  0.148146397             |  0.144349773             | -0.3388981               | ...                      | -0.711096566             | 1.554176                 |  0.19148037              | build                    | 0.6012272                | 0.2407578808             | 0.15801489               | 0                        | 0                        | T2_Win                   | \n",
       "| 5969fbcc482508368995682c | 2004-04-25 13:00:00      | Newcastle Utd            | 2                        | Chelsea                  | 1                        | -0.136351087             | -0.204345240             | -0.203105135             | -0.3388981               | ...                      | -1.284665165             | 1.437855                 | -0.18754110              | build                    | 0.4096756                | 0.2445771317             | 0.34574723               | 1                        | 0                        | T1_Win                   | \n",
       "| 5969fbcc4825083689956825 | 2004-05-01 14:00:00      | Charlton                 | 2                        | Leicester                | 2                        | -0.090852893             | -0.194517788             | -0.193613192             | -0.3388981               | ...                      |  0.929494789             | 1.497618                 | -0.19182255              | build                    | 0.4470100                | 0.3090795356             | 0.24391050               | 0                        | 1                        | Draw                     | \n",
       "| 5969fbcc4825083689956826 | 2004-05-01 14:00:00      | Chelsea                  | 4                        | Southampton              | 0                        |  0.095563159             |  0.002147791             | -0.003341412             | -0.3388981               | ...                      | -0.776588722             | 1.497288                 |  0.01976397              | build                    | 0.6591350                | 0.2845555918             | 0.05630938               | 1                        | 0                        | T1_Win                   | \n",
       "| ... | ... | ... | ... | ... | ... | ... | ... | ... | ... |     | ... | ... | ... | ... | ... | ... | ... | ... | ... | ... | \n",
       "| 59b50c804825080c2d524c8e | 2017-09-23 14:00:00      | Swansea                  | 1                        | Watford                  | 2                        |  0.3677909954            |  0.26812497              |  0.26473593              | -0.3388981               | ...                      |  0.81514294              | -1.583115                |  0.23516976              | build                    | 0.60633173               | 0.1562065919             | 2.374617e-01             | 0                        | 0                        | T2_Win                   | \n",
       "| 59b50c7c4825080c2d524c89 | 2017-09-23 14:00:00      | Burnley                  | 0                        | Huddersfield             | 0                        |  1.1089386483            |  1.05859411              |  1.06033770              | -0.3388981               | ...                      | -1.23099662              | -1.551111                |  1.07690128              | build                    | 0.99941372               | 0.0005032448             | 8.303997e-05             | 0                        | 1                        | Draw                     | \n",
       "| 59b50c7d4825080c2d524c8b | 2017-09-23 14:00:00      | Manchester City          | 5                        | Crystal Palace           | 0                        |  2.3744625651            |  2.38300010              |  2.39624224              | -0.3388981               | ...                      | -0.14714746              | -1.454998                |  2.37713332              | build                    | 0.85947528               | 0.0695077959             | 7.101692e-02             | 1                        | 0                        | T1_Win                   | \n",
       "| 59c1572c48250809e427342d | 2017-09-30 11:30:00      | Huddersfield             | 0                        | Tottenham                | 4                        | -2.9401262242            | -2.84684792              | -2.85337866              | -0.3388981               | ...                      | -1.25713108              | -1.664014                | -2.87322167              | build                    | 0.58845367               | 0.0010908541             | 4.104555e-01             | 0                        | 0                        | T2_Win                   | \n",
       "| 59c1572e48250809e427342f | 2017-09-30 14:00:00      | Manchester United        | 4                        | Crystal Palace           | 0                        |  1.9492582538            |  1.90529113              |  1.89212143              | -0.3388981               | ...                      | -0.58817530              | -1.595284                |  1.91719037              | build                    | 0.83034605               | 0.0986015612             | 7.105239e-02             | 1                        | 0                        | T1_Win                   | \n",
       "| 59c1572d48250809e427342e | 2017-09-30 14:00:00      | Bournemouth              | 0                        | Leicester                | 0                        | -0.4166545456            | -0.41487565              | -0.40253436              | -0.3388981               | ...                      |  0.01226989              | -1.672423                | -0.36862708              | build                    | 0.38035873               | 0.1420053526             | 4.776359e-01             | 0                        | 1                        | Draw                     | \n",
       "| 59c1573148250809e4273435 | 2017-10-01 13:15:00      | Everton                  | 0                        | Burnley                  | 1                        |  0.4669970923            |  0.54669984              |  0.55368765              | -0.3388981               | ...                      |  2.00628729              | -1.590787                |  0.50440478              | build                    | 0.68521622               | 0.2219586036             | 9.282518e-02             | 0                        | 0                        | T2_Win                   | \n",
       "| 59d153c648250812289fb7db | 2017-10-14 14:00:00      | Burnley                  | 1                        | West Ham                 | 1                        |  0.2383497260            |  0.21752746              |  0.22205524              | -0.3388981               | ...                      |  0.44303177              | -1.477502                |  0.23254079              | build                    | 0.58250124               | 0.2189648842             | 1.985339e-01             | 0                        | 1                        | Draw                     | \n",
       "| 59d153c948250812289fb7e0 | 2017-10-14 16:30:00      | Watford                  | 2                        | Arsenal                  | 1                        | -1.6373854170            | -1.69542119              | -1.69623654              | -0.3388981               | ...                      | -1.61666763              | -1.424283                | -1.70778963              | build                    | 0.18090343               | 0.2353219163             | 5.837747e-01             | 1                        | 0                        | T1_Win                   | \n",
       "| 59dbb63d4825080bdbe14828 | 2017-10-21 14:00:00      | Swansea                  | 1                        | Leicester                | 2                        | -0.3366447789            | -0.33907677              | -0.35238894              | -0.3388981               | ...                      |  0.10682361              | -1.508032                | -0.19383067              | build                    | 0.39942589               | 0.2707559593             | 3.298182e-01             | 0                        | 0                        | T2_Win                   | \n",
       "| 59dbb63c4825080bdbe14826 | 2017-10-21 14:00:00      | Newcastle Utd            | 1                        | Crystal Palace           | 0                        |  0.5081879440            |  0.47181655              |  0.47604954              | -0.3388981               | ...                      |  0.51634685              | -1.463371                |  0.51772696              | build                    | 0.52427509               | 0.2344268714             | 2.412980e-01             | 1                        | 0                        | T1_Win                   | \n",
       "| 59dbb63d4825080bdbe14829 | 2017-10-21 16:30:00      | Southampton              | 1                        | West Brom                | 0                        |  0.2473110746            |  0.17378970              |  0.19218681              | -0.3388981               | ...                      |  0.92938529              | -1.448497                |  0.15953312              | build                    | 0.48900590               | 0.3115980104             | 1.993961e-01             | 1                        | 0                        | T1_Win                   | \n",
       "| 59dbb63e4825080bdbe1482a | 2017-10-22 12:30:00      | Everton                  | 2                        | Arsenal                  | 5                        | -0.7332483144            | -0.65807320              | -0.64179014              | -0.3388981               | ...                      | -0.73128078              | -1.527571                | -0.67531624              | build                    | 0.38126826               | 0.2197991523             | 3.989326e-01             | 0                        | 0                        | T2_Win                   | \n",
       "| 59e2710a48250813c1940cb4 | 2017-10-28 14:00:00      | West Brom                | 2                        | Manchester City          | 3                        | -2.4504268414            | -2.31056053              | -2.31464977              | -0.3388981               | ...                      | -0.70306361              | -1.429808                | -2.38101110              | build                    | 0.08346866               | 0.2168016089             | 6.997297e-01             | 0                        | 0                        | T2_Win                   | \n",
       "| 59e2710948250813c1940cb2 | 2017-10-28 14:00:00      | Liverpool                | 3                        | Huddersfield             | 0                        |  2.0138805117            |  2.05441862              |  2.07286396              | -0.3388981               | ...                      | -0.26784055              | -1.388966                |  2.03722098              | build                    | 0.99944101               | 0.0005262794             | 3.271438e-05             | 1                        | 0                        | T1_Win                   | \n",
       "| 59e658da4825081e87f447c1 | 2017-10-30 20:00:00      | Burnley                  | 1                        | Newcastle Utd            | 0                        |  0.0007325098            |  0.10026478              |  0.09832056              | -0.3388981               | ...                      |  0.28117484              | -1.434526                |  0.01432858              | build                    | 0.50074393               | 0.2243931178             | 2.748629e-01             | 1                        | 0                        | T1_Win                   | \n",
       "| 59ee280a4825080b9ed279c9 | 2017-11-04 12:30:00      | Stoke City               | 2                        | Leicester                | 2                        | -0.5087016085            | -0.45302588              | -0.45815774              |  2.9507397               | ...                      |  0.15109328              | -1.443164                | -0.34560907              | build                    | 0.39469378               | 0.3524956192             | 2.528106e-01             | 0                        | 1                        | Draw                     | \n",
       "| 59ee280a4825080b9ed279cf | 2017-11-05 12:00:00      | Tottenham                | 1                        | Crystal Palace           | 0                        |  2.5234932657            |  2.48317685              |  2.48672576              |  2.9507397               | ...                      |  0.40820890              | -1.588441                |  2.46184874              | build                    | 0.79636150               | 0.1354799484             | 6.815855e-02             | 1                        | 0                        | T1_Win                   | \n",
       "| 59ee280a4825080b9ed279d0 | 2017-11-05 14:15:00      | Manchester City          | 3                        | Arsenal                  | 1                        |  1.0391981497            |  1.18417477              |  1.21590999              |  2.9507397               | ...                      | -1.43008939              | -1.549960                |  1.23582571              | build                    | 0.67567927               | 0.1116949948             | 2.126257e-01             | 1                        | 0                        | T1_Win                   | \n",
       "| 59ee280a4825080b9ed279d2 | 2017-11-05 16:30:00      | Everton                  | 3                        | Watford                  | 2                        |  0.6255522926            |  0.60259964              |  0.62779466              |  2.9507397               | ...                      |  0.98945341              | -1.535000                |  0.46962586              | build                    | 0.70343977               | 0.1573592679             | 1.392010e-01             | 1                        | 0                        | T1_Win                   | \n",
       "| 59fe4df04825080beffcd882 | 2017-11-18 15:00:00      | Bournemouth              | 4                        | Huddersfield             | 0                        |  0.9015455826            |  0.79311808              |  0.80664975              |  2.9507397               | ...                      |  0.26052950              | -1.554169                |  0.79209511              | build                    | 0.99938309               | 0.0004693529             | 1.475568e-04             | 1                        | 0                        | T1_Win                   | \n",
       "| 59fe4df04825080beffcd888 | 2017-11-18 17:30:00      | Manchester United        | 4                        | Newcastle Utd            | 1                        |  1.5019378819            |  1.63231016              |  1.62614485              |  2.9507397               | ...                      | -0.62849331              | -1.400636                |  1.59036772              | build                    | 0.76678106               | 0.1494984470             | 8.372050e-02             | 1                        | 0                        | T1_Win                   | \n",
       "| 5a071f9b482508420afac457 | 2017-11-25 15:00:00      | Crystal Palace           | 2                        | Stoke City               | 1                        | -0.2059213694            | -0.25463293              | -0.24425586              |  2.9507397               | ...                      |  0.60531790              | -1.367558                | -0.30738069              | build                    | 0.44336749               | 0.2934702583             | 2.631623e-01             | 1                        | 0                        | T1_Win                   | \n",
       "| 5a071f9b482508420afac458 | 2017-11-25 15:00:00      | Manchester United        | 1                        | Brighton                 | 0                        |  1.6812864314            |  1.77199265              |  1.76700596              |  2.9507397               | ...                      | -1.03446783              | -1.373651                |  1.73730062              | build                    | 0.54234132               | 0.2048142675             | 2.528444e-01             | 1                        | 0                        | T1_Win                   | \n",
       "| 5a071f9b482508420afac45b | 2017-11-25 15:00:00      | Tottenham                | 1                        | West Brom                | 1                        |  2.1846502262            |  2.19375072              |  2.19934975              |  2.9507397               | ...                      |  0.76683267              | -1.382350                |  2.38756521              | build                    | 0.76121886               | 0.1707813682             | 6.799977e-02             | 0                        | 1                        | Draw                     | \n",
       "| 5a08cab648250813a77a4033 | 2017-11-26 14:00:00      | Burnley                  | 0                        | Arsenal                  | 1                        | -1.1183712933            | -1.05011711              | -1.04203813              |  2.9507397               | ...                      | -0.87514114              | -1.425670                | -1.03635310              | build                    | 0.29208519               | 0.2158122269             | 4.921026e-01             | 0                        | 0                        | T2_Win                   | \n",
       "| 5a0b68884825080defdb7bd0 | 2017-11-28 20:00:00      | Watford                  | 2                        | Manchester United        | 4                        | -1.6733635202            | -1.70876392              | -1.72393898              |  2.9507397               | ...                      | -1.56504689              | -1.507150                | -1.75232945              | build                    | 0.11389108               | 0.2695930829             | 6.165158e-01             | 0                        | 0                        | T2_Win                   | \n",
       "| 5a0b68884825080defdb7bd1 | 2017-11-28 20:00:00      | West Brom                | 2                        | Newcastle Utd            | 2                        |  0.0303762014            |  0.04044188              |  0.03245436              |  2.9507397               | ...                      |  0.13788986              | -1.515716                | -0.29136768              | build                    | 0.41889887               | 0.3206780007             | 2.604231e-01             | 0                        | 1                        | Draw                     | \n",
       "| 5a0c9ccc4825080cc88ed833 | 2017-11-29 19:45:00      | Arsenal                  | 5                        | Huddersfield             | 0                        |  2.3593137455            |  2.36805650              |  2.36853379              |  2.9507397               | ...                      | -0.03159171              | -1.423925                |  2.35119841              | build                    | 0.99957581               | 0.0004021658             | 2.202523e-05             | 1                        | 0                        | T1_Win                   | \n",
       "| 5a0e063f48250809b11b6aef | 2017-11-29 20:00:00      | Stoke City               | 0                        | Liverpool                | 3                        | -1.4854460901            | -1.36276606              | -1.36715490              |  2.9507397               | ...                      | -0.98729363              | -1.503022                | -1.38122844              | build                    | 0.26756439               | 0.2862422653             | 4.461933e-01             | 0                        | 0                        | T2_Win                   | \n",
       "\n",
       "\n"
      ],
      "text/plain": [
       "     id                       date                team_1_name      \n",
       "1    5969fbdb4825083689956894 2004-02-11 19:45:00 Fulham           \n",
       "2    5969fbdb4825083689956893 2004-02-11 19:45:00 Birmingham       \n",
       "3    5969fbdb482508368995688c 2004-02-21 12:30:00 Chelsea          \n",
       "4    5969fbdb4825083689956886 2004-02-22 12:00:00 Aston Villa      \n",
       "5    5969fbdb4825083689956883 2004-02-28 15:00:00 Leicester        \n",
       "6    5969fbdb4825083689956880 2004-02-28 15:00:00 Blackburn        \n",
       "7    5969fbdb482508368995687c 2004-03-03 19:45:00 Birmingham       \n",
       "8    5969fbdb4825083689956874 2004-03-13 15:00:00 Birmingham       \n",
       "9    5969fbdb4825083689956878 2004-03-13 15:00:00 Fulham           \n",
       "10   5969fbdb4825083689956875 2004-03-13 15:00:00 Blackburn        \n",
       "11   5969fbd44825083689956868 2004-03-20 15:00:00 Arsenal          \n",
       "12   5969fbd4482508368995686a 2004-03-20 15:00:00 Chelsea          \n",
       "13   5969fbd44825083689956866 2004-03-21 16:05:00 Portsmouth       \n",
       "14   5969fbd34825083689956862 2004-03-27 15:00:00 Manchester City  \n",
       "15   5969fbd3482508368995685c 2004-03-28 14:00:00 Leicester        \n",
       "16   5969fbd34825083689956858 2004-04-03 14:00:00 Newcastle Utd    \n",
       "17   5969fbd34825083689956856 2004-04-03 14:00:00 Fulham           \n",
       "18   5969fbd34825083689956855 2004-04-04 13:00:00 Aston Villa      \n",
       "19   5969fbd3482508368995683e 2004-04-17 11:30:00 Portsmouth       \n",
       "20   5969fbcc4825083689956837 2004-04-17 14:00:00 Bolton           \n",
       "21   5969fbd3482508368995683d 2004-04-17 14:00:00 Blackburn        \n",
       "22   5969fbcc482508368995683c 2004-04-17 14:00:00 Wolves           \n",
       "23   5969fbcc4825083689956836 2004-04-18 13:00:00 Aston Villa      \n",
       "24   5969fbcc4825083689956835 2004-04-20 19:00:00 Manchester United\n",
       "25   5969fbcc4825083689956834 2004-04-24 14:00:00 Southampton      \n",
       "26   5969fbcc4825083689956832 2004-04-24 14:00:00 Manchester United\n",
       "27   5969fbcc482508368995682f 2004-04-24 14:00:00 Everton          \n",
       "28   5969fbcc482508368995682c 2004-04-25 13:00:00 Newcastle Utd    \n",
       "29   5969fbcc4825083689956825 2004-05-01 14:00:00 Charlton         \n",
       "30   5969fbcc4825083689956826 2004-05-01 14:00:00 Chelsea          \n",
       "...  ...                      ...                 ...              \n",
       "1532 59b50c804825080c2d524c8e 2017-09-23 14:00:00 Swansea          \n",
       "1533 59b50c7c4825080c2d524c89 2017-09-23 14:00:00 Burnley          \n",
       "1534 59b50c7d4825080c2d524c8b 2017-09-23 14:00:00 Manchester City  \n",
       "1535 59c1572c48250809e427342d 2017-09-30 11:30:00 Huddersfield     \n",
       "1536 59c1572e48250809e427342f 2017-09-30 14:00:00 Manchester United\n",
       "1537 59c1572d48250809e427342e 2017-09-30 14:00:00 Bournemouth      \n",
       "1538 59c1573148250809e4273435 2017-10-01 13:15:00 Everton          \n",
       "1539 59d153c648250812289fb7db 2017-10-14 14:00:00 Burnley          \n",
       "1540 59d153c948250812289fb7e0 2017-10-14 16:30:00 Watford          \n",
       "1541 59dbb63d4825080bdbe14828 2017-10-21 14:00:00 Swansea          \n",
       "1542 59dbb63c4825080bdbe14826 2017-10-21 14:00:00 Newcastle Utd    \n",
       "1543 59dbb63d4825080bdbe14829 2017-10-21 16:30:00 Southampton      \n",
       "1544 59dbb63e4825080bdbe1482a 2017-10-22 12:30:00 Everton          \n",
       "1545 59e2710a48250813c1940cb4 2017-10-28 14:00:00 West Brom        \n",
       "1546 59e2710948250813c1940cb2 2017-10-28 14:00:00 Liverpool        \n",
       "1547 59e658da4825081e87f447c1 2017-10-30 20:00:00 Burnley          \n",
       "1548 59ee280a4825080b9ed279c9 2017-11-04 12:30:00 Stoke City       \n",
       "1549 59ee280a4825080b9ed279cf 2017-11-05 12:00:00 Tottenham        \n",
       "1550 59ee280a4825080b9ed279d0 2017-11-05 14:15:00 Manchester City  \n",
       "1551 59ee280a4825080b9ed279d2 2017-11-05 16:30:00 Everton          \n",
       "1552 59fe4df04825080beffcd882 2017-11-18 15:00:00 Bournemouth      \n",
       "1553 59fe4df04825080beffcd888 2017-11-18 17:30:00 Manchester United\n",
       "1554 5a071f9b482508420afac457 2017-11-25 15:00:00 Crystal Palace   \n",
       "1555 5a071f9b482508420afac458 2017-11-25 15:00:00 Manchester United\n",
       "1556 5a071f9b482508420afac45b 2017-11-25 15:00:00 Tottenham        \n",
       "1557 5a08cab648250813a77a4033 2017-11-26 14:00:00 Burnley          \n",
       "1558 5a0b68884825080defdb7bd0 2017-11-28 20:00:00 Watford          \n",
       "1559 5a0b68884825080defdb7bd1 2017-11-28 20:00:00 West Brom        \n",
       "1560 5a0c9ccc4825080cc88ed833 2017-11-29 19:45:00 Arsenal          \n",
       "1561 5a0e063f48250809b11b6aef 2017-11-29 20:00:00 Stoke City       \n",
       "     team_1_score team_2_name       team_2_score d_ability_1   d_ability_3 \n",
       "1    1            Aston Villa       2             0.003173703  -0.090815441\n",
       "2    3            Everton           0             0.003173703  -0.090815441\n",
       "3    1            Arsenal           2             0.095545948  -0.003533786\n",
       "4    2            Birmingham        2            -0.051587189  -0.143146027\n",
       "5    0            Wolves            0            -0.007102259  -0.101248959\n",
       "6    1            Southampton       1            -0.023343253  -0.118486349\n",
       "7    3            Middlesbrough     1             0.097384050   0.015225661\n",
       "8    0            Leicester         1             0.240896006   0.169360986\n",
       "9    2            Leeds             0            -0.085942213  -0.184409187\n",
       "10   0            Arsenal           2            -0.129994357  -0.220673631\n",
       "11   2            Bolton            1             0.406954435   0.294705004\n",
       "12   2            Fulham            1             0.198417826   0.084685920\n",
       "13   1            Southampton       0            -0.290989505  -0.384740426\n",
       "14   0            Fulham            0             0.128894869   0.036774363\n",
       "15   0            Liverpool         0            -0.043629300  -0.138501371\n",
       "16   4            Everton           2             0.044615462  -0.037154128\n",
       "17   0            Birmingham        0            -0.231106430  -0.311375276\n",
       "18   1            Manchester City   1             0.025675731  -0.086635366\n",
       "19   1            Manchester United 0            -0.105935128  -0.193357971\n",
       "20   2            Tottenham         0            -0.041929410  -0.155575597\n",
       "21   1            Leicester         0            -0.108332771  -0.229982627\n",
       "22   2            Middlesbrough     0            -0.590518014  -0.700058923\n",
       "23   0            Newcastle Utd     0             0.010650694  -0.094220163\n",
       "24   2            Charlton          0             0.155886269   0.063792205\n",
       "25   1            Bolton            2             0.355810274   0.255629327\n",
       "26   0            Liverpool         1            -0.001778234  -0.072740275\n",
       "27   0            Blackburn         1             0.234242991   0.148146397\n",
       "28   2            Chelsea           1            -0.136351087  -0.204345240\n",
       "29   2            Leicester         2            -0.090852893  -0.194517788\n",
       "30   4            Southampton       0             0.095563159   0.002147791\n",
       "...  ...          ...               ...          ...           ...         \n",
       "1532 1            Watford           2             0.3677909954  0.26812497 \n",
       "1533 0            Huddersfield      0             1.1089386483  1.05859411 \n",
       "1534 5            Crystal Palace    0             2.3744625651  2.38300010 \n",
       "1535 0            Tottenham         4            -2.9401262242 -2.84684792 \n",
       "1536 4            Crystal Palace    0             1.9492582538  1.90529113 \n",
       "1537 0            Leicester         0            -0.4166545456 -0.41487565 \n",
       "1538 0            Burnley           1             0.4669970923  0.54669984 \n",
       "1539 1            West Ham          1             0.2383497260  0.21752746 \n",
       "1540 2            Arsenal           1            -1.6373854170 -1.69542119 \n",
       "1541 1            Leicester         2            -0.3366447789 -0.33907677 \n",
       "1542 1            Crystal Palace    0             0.5081879440  0.47181655 \n",
       "1543 1            West Brom         0             0.2473110746  0.17378970 \n",
       "1544 2            Arsenal           5            -0.7332483144 -0.65807320 \n",
       "1545 2            Manchester City   3            -2.4504268414 -2.31056053 \n",
       "1546 3            Huddersfield      0             2.0138805117  2.05441862 \n",
       "1547 1            Newcastle Utd     0             0.0007325098  0.10026478 \n",
       "1548 2            Leicester         2            -0.5087016085 -0.45302588 \n",
       "1549 1            Crystal Palace    0             2.5234932657  2.48317685 \n",
       "1550 3            Arsenal           1             1.0391981497  1.18417477 \n",
       "1551 3            Watford           2             0.6255522926  0.60259964 \n",
       "1552 4            Huddersfield      0             0.9015455826  0.79311808 \n",
       "1553 4            Newcastle Utd     1             1.5019378819  1.63231016 \n",
       "1554 2            Stoke City        1            -0.2059213694 -0.25463293 \n",
       "1555 1            Brighton          0             1.6812864314  1.77199265 \n",
       "1556 1            West Brom         1             2.1846502262  2.19375072 \n",
       "1557 0            Arsenal           1            -1.1183712933 -1.05011711 \n",
       "1558 2            Manchester United 4            -1.6733635202 -1.70876392 \n",
       "1559 2            Newcastle Utd     2             0.0303762014  0.04044188 \n",
       "1560 5            Huddersfield      0             2.3593137455  2.36805650 \n",
       "1561 0            Liverpool         3            -1.4854460901 -1.36276606 \n",
       "     d_ability_4  is_november ... d_form_4     d_h2h_2   c_ability_3 datatype\n",
       "1    -0.093715979 -0.3388981  ...          NaN      NaN  -0.07596201 build   \n",
       "2    -0.093715979 -0.3388981  ...          NaN      NaN  -0.07596201 build   \n",
       "3    -0.009938975 -0.3388981  ...          NaN      NaN   0.01989236 build   \n",
       "4    -0.144017664 -0.3388981  ...          NaN      NaN  -0.12782011 build   \n",
       "5    -0.103902275 -0.3388981  ...          NaN      NaN  -0.08233556 build   \n",
       "6    -0.120358254 -0.3388981  ...          NaN      NaN  -0.10485048 build   \n",
       "7     0.008468567 -0.3388981  ... -1.204969031 1.425950   0.03902693 build   \n",
       "8     0.157257481 -0.3388981  ...  1.625595230 1.380987   0.20830158 build   \n",
       "9    -0.183807457 -0.3388981  ...  0.899722256 1.391935  -0.18232032 build   \n",
       "10   -0.218408780 -0.3388981  ... -1.560450837 1.356399  -0.21989423 build   \n",
       "11    0.276983724 -0.3388981  ... -0.990995595 1.547910   0.34035093 build   \n",
       "12    0.074900519 -0.3388981  ... -0.195161238 1.559772   0.11592988 build   \n",
       "13   -0.376557783 -0.3388981  ... -1.143309355 1.548438  -0.39442654 build   \n",
       "14    0.029365107 -0.3388981  ...  1.577016734 1.654381   0.06507071 build   \n",
       "15   -0.139760921 -0.3388981  ... -0.726530016 1.595955  -0.12526434 build   \n",
       "16   -0.041420053 -0.3388981  ...  0.168646772 1.537703  -0.01218049 build   \n",
       "17   -0.306655121 -0.3388981  ... -0.058505457 1.526092  -0.30272014 build   \n",
       "18   -0.079774950 -0.3388981  ...  0.167967880 1.514493  -0.07459065 build   \n",
       "19   -0.192446503 -0.3388981  ... -1.390227194 1.576162  -0.18626430 build   \n",
       "20   -0.157396400 -0.3388981  ... -0.002330983 1.530135  -0.15150405 build   \n",
       "21   -0.236394614 -0.3388981  ... -0.102959496 1.494737  -0.23879644 build   \n",
       "22   -0.691232631 -0.3388981  ...  0.128363617 1.565498  -0.74786171 build   \n",
       "23   -0.087922927 -0.3388981  ...  0.734774518 1.553859  -0.08317906 build   \n",
       "24    0.054694998 -0.3388981  ...  0.643802533 1.589198   0.09778966 build   \n",
       "25    0.240694250 -0.3388981  ...  1.525044503 1.589321   0.29794540 build   \n",
       "26   -0.084808807 -0.3388981  ... -0.239342868 1.472410  -0.04155051 build   \n",
       "27    0.144349773 -0.3388981  ... -0.711096566 1.554176   0.19148037 build   \n",
       "28   -0.203105135 -0.3388981  ... -1.284665165 1.437855  -0.18754110 build   \n",
       "29   -0.193613192 -0.3388981  ...  0.929494789 1.497618  -0.19182255 build   \n",
       "30   -0.003341412 -0.3388981  ... -0.776588722 1.497288   0.01976397 build   \n",
       "...  ...          ...             ...          ...       ...         ...     \n",
       "1532  0.26473593  -0.3388981  ...  0.81514294  -1.583115  0.23516976 build   \n",
       "1533  1.06033770  -0.3388981  ... -1.23099662  -1.551111  1.07690128 build   \n",
       "1534  2.39624224  -0.3388981  ... -0.14714746  -1.454998  2.37713332 build   \n",
       "1535 -2.85337866  -0.3388981  ... -1.25713108  -1.664014 -2.87322167 build   \n",
       "1536  1.89212143  -0.3388981  ... -0.58817530  -1.595284  1.91719037 build   \n",
       "1537 -0.40253436  -0.3388981  ...  0.01226989  -1.672423 -0.36862708 build   \n",
       "1538  0.55368765  -0.3388981  ...  2.00628729  -1.590787  0.50440478 build   \n",
       "1539  0.22205524  -0.3388981  ...  0.44303177  -1.477502  0.23254079 build   \n",
       "1540 -1.69623654  -0.3388981  ... -1.61666763  -1.424283 -1.70778963 build   \n",
       "1541 -0.35238894  -0.3388981  ...  0.10682361  -1.508032 -0.19383067 build   \n",
       "1542  0.47604954  -0.3388981  ...  0.51634685  -1.463371  0.51772696 build   \n",
       "1543  0.19218681  -0.3388981  ...  0.92938529  -1.448497  0.15953312 build   \n",
       "1544 -0.64179014  -0.3388981  ... -0.73128078  -1.527571 -0.67531624 build   \n",
       "1545 -2.31464977  -0.3388981  ... -0.70306361  -1.429808 -2.38101110 build   \n",
       "1546  2.07286396  -0.3388981  ... -0.26784055  -1.388966  2.03722098 build   \n",
       "1547  0.09832056  -0.3388981  ...  0.28117484  -1.434526  0.01432858 build   \n",
       "1548 -0.45815774   2.9507397  ...  0.15109328  -1.443164 -0.34560907 build   \n",
       "1549  2.48672576   2.9507397  ...  0.40820890  -1.588441  2.46184874 build   \n",
       "1550  1.21590999   2.9507397  ... -1.43008939  -1.549960  1.23582571 build   \n",
       "1551  0.62779466   2.9507397  ...  0.98945341  -1.535000  0.46962586 build   \n",
       "1552  0.80664975   2.9507397  ...  0.26052950  -1.554169  0.79209511 build   \n",
       "1553  1.62614485   2.9507397  ... -0.62849331  -1.400636  1.59036772 build   \n",
       "1554 -0.24425586   2.9507397  ...  0.60531790  -1.367558 -0.30738069 build   \n",
       "1555  1.76700596   2.9507397  ... -1.03446783  -1.373651  1.73730062 build   \n",
       "1556  2.19934975   2.9507397  ...  0.76683267  -1.382350  2.38756521 build   \n",
       "1557 -1.04203813   2.9507397  ... -0.87514114  -1.425670 -1.03635310 build   \n",
       "1558 -1.72393898   2.9507397  ... -1.56504689  -1.507150 -1.75232945 build   \n",
       "1559  0.03245436   2.9507397  ...  0.13788986  -1.515716 -0.29136768 build   \n",
       "1560  2.36853379   2.9507397  ... -0.03159171  -1.423925  2.35119841 build   \n",
       "1561 -1.36715490   2.9507397  ... -0.98729363  -1.503022 -1.38122844 build   \n",
       "     team_1_prob team_tie_prob team_2_prob  team_1_win team_1_draw\n",
       "1           NA             NA          NA   0          0          \n",
       "2           NA             NA          NA   1          0          \n",
       "3           NA             NA          NA   0          0          \n",
       "4           NA             NA          NA   0          1          \n",
       "5           NA             NA          NA   0          1          \n",
       "6           NA             NA          NA   0          1          \n",
       "7    0.4673574   0.4211356926  0.11150693   1          0          \n",
       "8    0.4214914   0.4163733775  0.16213523   0          0          \n",
       "9    0.7025444   0.0005332519  0.29692233   1          0          \n",
       "10   0.4741475   0.2073393805  0.31851307   0          0          \n",
       "11   0.7154643   0.1854375093  0.09909823   1          0          \n",
       "12   0.6395276   0.3199636478  0.04050874   1          0          \n",
       "13   0.4126945   0.3642822392  0.22302331   1          0          \n",
       "14   0.6978436   0.2049659486  0.09719049   0          1          \n",
       "15   0.6597640   0.2003894674  0.13984654   0          1          \n",
       "16   0.3953785   0.4262150901  0.17840643   1          0          \n",
       "17   0.7081795   0.2001893724  0.09163110   0          1          \n",
       "18   0.3360980   0.3276049575  0.33629707   0          1          \n",
       "19   0.2748725   0.3146696957  0.41045781   1          0          \n",
       "20   0.4509052   0.2635720522  0.28552272   1          0          \n",
       "21   0.5102079   0.2747359048  0.21505624   1          0          \n",
       "22   0.3852512   0.2388329294  0.37591589   1          0          \n",
       "23   0.3886194   0.3566664763  0.25471412   0          1          \n",
       "24   0.7035348   0.1748564587  0.12160875   1          0          \n",
       "25   0.4987708   0.2561659136  0.24506330   0          0          \n",
       "26   0.6776002   0.1649127036  0.15748714   0          0          \n",
       "27   0.6012272   0.2407578808  0.15801489   0          0          \n",
       "28   0.4096756   0.2445771317  0.34574723   1          0          \n",
       "29   0.4470100   0.3090795356  0.24391050   0          1          \n",
       "30   0.6591350   0.2845555918  0.05630938   1          0          \n",
       "...  ...         ...           ...          ...        ...        \n",
       "1532 0.60633173  0.1562065919  2.374617e-01 0          0          \n",
       "1533 0.99941372  0.0005032448  8.303997e-05 0          1          \n",
       "1534 0.85947528  0.0695077959  7.101692e-02 1          0          \n",
       "1535 0.58845367  0.0010908541  4.104555e-01 0          0          \n",
       "1536 0.83034605  0.0986015612  7.105239e-02 1          0          \n",
       "1537 0.38035873  0.1420053526  4.776359e-01 0          1          \n",
       "1538 0.68521622  0.2219586036  9.282518e-02 0          0          \n",
       "1539 0.58250124  0.2189648842  1.985339e-01 0          1          \n",
       "1540 0.18090343  0.2353219163  5.837747e-01 1          0          \n",
       "1541 0.39942589  0.2707559593  3.298182e-01 0          0          \n",
       "1542 0.52427509  0.2344268714  2.412980e-01 1          0          \n",
       "1543 0.48900590  0.3115980104  1.993961e-01 1          0          \n",
       "1544 0.38126826  0.2197991523  3.989326e-01 0          0          \n",
       "1545 0.08346866  0.2168016089  6.997297e-01 0          0          \n",
       "1546 0.99944101  0.0005262794  3.271438e-05 1          0          \n",
       "1547 0.50074393  0.2243931178  2.748629e-01 1          0          \n",
       "1548 0.39469378  0.3524956192  2.528106e-01 0          1          \n",
       "1549 0.79636150  0.1354799484  6.815855e-02 1          0          \n",
       "1550 0.67567927  0.1116949948  2.126257e-01 1          0          \n",
       "1551 0.70343977  0.1573592679  1.392010e-01 1          0          \n",
       "1552 0.99938309  0.0004693529  1.475568e-04 1          0          \n",
       "1553 0.76678106  0.1494984470  8.372050e-02 1          0          \n",
       "1554 0.44336749  0.2934702583  2.631623e-01 1          0          \n",
       "1555 0.54234132  0.2048142675  2.528444e-01 1          0          \n",
       "1556 0.76121886  0.1707813682  6.799977e-02 0          1          \n",
       "1557 0.29208519  0.2158122269  4.921026e-01 0          0          \n",
       "1558 0.11389108  0.2695930829  6.165158e-01 0          0          \n",
       "1559 0.41889887  0.3206780007  2.604231e-01 0          1          \n",
       "1560 0.99957581  0.0004021658  2.202523e-05 1          0          \n",
       "1561 0.26756439  0.2862422653  4.461933e-01 0          0          \n",
       "     team_1_result\n",
       "1    T2_Win       \n",
       "2    T1_Win       \n",
       "3    T2_Win       \n",
       "4    Draw         \n",
       "5    Draw         \n",
       "6    Draw         \n",
       "7    T1_Win       \n",
       "8    T2_Win       \n",
       "9    T1_Win       \n",
       "10   T2_Win       \n",
       "11   T1_Win       \n",
       "12   T1_Win       \n",
       "13   T1_Win       \n",
       "14   Draw         \n",
       "15   Draw         \n",
       "16   T1_Win       \n",
       "17   Draw         \n",
       "18   Draw         \n",
       "19   T1_Win       \n",
       "20   T1_Win       \n",
       "21   T1_Win       \n",
       "22   T1_Win       \n",
       "23   Draw         \n",
       "24   T1_Win       \n",
       "25   T2_Win       \n",
       "26   T2_Win       \n",
       "27   T2_Win       \n",
       "28   T1_Win       \n",
       "29   Draw         \n",
       "30   T1_Win       \n",
       "...  ...          \n",
       "1532 T2_Win       \n",
       "1533 Draw         \n",
       "1534 T1_Win       \n",
       "1535 T2_Win       \n",
       "1536 T1_Win       \n",
       "1537 Draw         \n",
       "1538 T2_Win       \n",
       "1539 Draw         \n",
       "1540 T1_Win       \n",
       "1541 T2_Win       \n",
       "1542 T1_Win       \n",
       "1543 T1_Win       \n",
       "1544 T2_Win       \n",
       "1545 T2_Win       \n",
       "1546 T1_Win       \n",
       "1547 T1_Win       \n",
       "1548 Draw         \n",
       "1549 T1_Win       \n",
       "1550 T1_Win       \n",
       "1551 T1_Win       \n",
       "1552 T1_Win       \n",
       "1553 T1_Win       \n",
       "1554 T1_Win       \n",
       "1555 T1_Win       \n",
       "1556 Draw         \n",
       "1557 T2_Win       \n",
       "1558 T2_Win       \n",
       "1559 Draw         \n",
       "1560 T1_Win       \n",
       "1561 T2_Win       "
      ]
     },
     "metadata": {},
     "output_type": "display_data"
    }
   ],
   "source": [
    "realtest"
   ]
  },
  {
   "cell_type": "code",
   "execution_count": 71,
   "metadata": {},
   "outputs": [],
   "source": [
    "library(pROC)"
   ]
  },
  {
   "cell_type": "code",
   "execution_count": 72,
   "metadata": {
    "collapsed": true
   },
   "outputs": [],
   "source": [
    "realtest <- realtest %>%\n",
    "    rowwise() %>%\n",
    "    mutate(team_2_win = 1 - max(c(team_1_win, team_1_draw)))"
   ]
  },
  {
   "cell_type": "markdown",
   "metadata": {},
   "source": [
    "## Looking at individual ROC's"
   ]
  },
  {
   "cell_type": "code",
   "execution_count": 73,
   "metadata": {},
   "outputs": [
    {
     "data": {
      "text/plain": [
       "\n",
       "Call:\n",
       "roc.default(response = realtest$team_1_win, predictor = realtest$team_1_prob)\n",
       "\n",
       "Data: realtest$team_1_prob in 822 controls (realtest$team_1_win 0) < 720 cases (realtest$team_1_win 1).\n",
       "Area under the curve: 0.6878"
      ]
     },
     "metadata": {},
     "output_type": "display_data"
    }
   ],
   "source": [
    "pROC::roc(response = realtest$team_1_win, predictor = realtest$team_1_prob)"
   ]
  },
  {
   "cell_type": "code",
   "execution_count": 74,
   "metadata": {},
   "outputs": [
    {
     "data": {
      "text/plain": [
       "\n",
       "Call:\n",
       "roc.default(response = realtest$team_1_draw, predictor = realtest$team_tie_prob)\n",
       "\n",
       "Data: realtest$team_tie_prob in 1152 controls (realtest$team_1_draw 0) < 390 cases (realtest$team_1_draw 1).\n",
       "Area under the curve: 0.5327"
      ]
     },
     "metadata": {},
     "output_type": "display_data"
    }
   ],
   "source": [
    "pROC::roc(response = realtest$team_1_draw, predictor = realtest$team_tie_prob)"
   ]
  },
  {
   "cell_type": "code",
   "execution_count": 75,
   "metadata": {},
   "outputs": [
    {
     "data": {
      "text/plain": [
       "\n",
       "Call:\n",
       "roc.default(response = realtest$team_2_win, predictor = realtest$team_2_prob)\n",
       "\n",
       "Data: realtest$team_2_prob in 1110 controls (realtest$team_2_win 0) < 432 cases (realtest$team_2_win 1).\n",
       "Area under the curve: 0.7281"
      ]
     },
     "metadata": {},
     "output_type": "display_data"
    }
   ],
   "source": [
    "pROC::roc(response = realtest$team_2_win, predictor = realtest$team_2_prob)"
   ]
  },
  {
   "cell_type": "markdown",
   "metadata": {},
   "source": [
    "# Try decision trees"
   ]
  },
  {
   "cell_type": "code",
   "execution_count": 86,
   "metadata": {
    "collapsed": true
   },
   "outputs": [],
   "source": [
    "library(rpart)"
   ]
  },
  {
   "cell_type": "code",
   "execution_count": null,
   "metadata": {},
   "outputs": [],
   "source": [
    "fit.tree <- train %>%\n",
    "            filter(datatype == 'build') %>%\n",
    "                rpart(formula = team_1_result ~ team_1_name + team_2_name + d_ability_1 + d_ability_3 + d_ability_4 \n",
    "                      + is_november + is_february + d_form_4 + d_h2h_2 + c_ability_3,\n",
    "                      control = rpart.control(minbucket=2)\n",
    "                      #,split = \"information\"\n",
    "                     )"
   ]
  },
  {
   "cell_type": "code",
   "execution_count": null,
   "metadata": {
    "collapsed": true
   },
   "outputs": [],
   "source": [
    "fit.tree %>% summary"
   ]
  },
  {
   "cell_type": "code",
   "execution_count": 87,
   "metadata": {
    "collapsed": true
   },
   "outputs": [],
   "source": [
    "? rpart"
   ]
  },
  {
   "cell_type": "code",
   "execution_count": 76,
   "metadata": {
    "collapsed": true
   },
   "outputs": [],
   "source": [
    "score_df <- df %>%\n",
    "                filter(datatype == 'score')"
   ]
  },
  {
   "cell_type": "code",
   "execution_count": 77,
   "metadata": {
    "collapsed": true
   },
   "outputs": [],
   "source": [
    "score_preds <- predict(fit.log, newdata = score_df, type=\"probs\")"
   ]
  },
  {
   "cell_type": "code",
   "execution_count": 78,
   "metadata": {
    "collapsed": true
   },
   "outputs": [],
   "source": [
    "score_df$team_tie_prob <- (score_preds %>% as.data.frame)$Draw\n",
    "score_df$team_1_prob <- (score_preds %>% as.data.frame)$T1_Win\n",
    "score_df$team_2_prob <- (score_preds %>% as.data.frame)$T2_Win"
   ]
  },
  {
   "cell_type": "code",
   "execution_count": 79,
   "metadata": {},
   "outputs": [
    {
     "data": {
      "text/html": [
       "<table>\n",
       "<thead><tr><th scope=col>id</th><th scope=col>date</th><th scope=col>team_1_name</th><th scope=col>team_1_score</th><th scope=col>team_2_name</th><th scope=col>team_2_score</th><th scope=col>d_ability_1</th><th scope=col>d_ability_3</th><th scope=col>d_ability_4</th><th scope=col>is_november</th><th scope=col>...</th><th scope=col>d_form_4</th><th scope=col>d_h2h_2</th><th scope=col>c_ability_3</th><th scope=col>datatype</th><th scope=col>team_1_prob</th><th scope=col>team_tie_prob</th><th scope=col>team_2_prob</th><th scope=col>team_1_win</th><th scope=col>team_1_draw</th><th scope=col>team_1_result</th></tr></thead>\n",
       "<tbody>\n",
       "\t<tr><td>5a120d709772221454d5f498</td><td>2017-12-02 12:30:00     </td><td>Chelsea                 </td><td>NA                      </td><td>Newcastle Utd           </td><td>NA                      </td><td> 1.96751062             </td><td> 2.01187006             </td><td> 2.00470273             </td><td>-0.3388981              </td><td>...                     </td><td>-0.48595668             </td><td>-1.402763               </td><td> 1.92381970             </td><td>score                   </td><td>0.8028497               </td><td>0.1580269319            </td><td>0.0391233367            </td><td>NA                      </td><td>NA                      </td><td>T2_Win                  </td></tr>\n",
       "\t<tr><td>5a120d709772221454d5f499</td><td>2017-12-02 15:00:00     </td><td>Brighton                </td><td>NA                      </td><td>Liverpool               </td><td>NA                      </td><td>-1.47303379             </td><td>-1.38555272             </td><td>-1.37586793             </td><td>-0.3388981              </td><td>...                     </td><td>-1.64179633             </td><td>-1.402763               </td><td>-1.31565191             </td><td>score                   </td><td>0.1690312               </td><td>0.8300950634            </td><td>0.0008737328            </td><td>NA                      </td><td>NA                      </td><td>T2_Win                  </td></tr>\n",
       "\t<tr><td>5a120d709772221454d5f49a</td><td>2017-12-02 15:00:00     </td><td>Everton                 </td><td>NA                      </td><td>Huddersfield            </td><td>NA                      </td><td> 1.40722915             </td><td> 1.38521152             </td><td> 1.41683349             </td><td>-0.3388981              </td><td>...                     </td><td> 1.31733546             </td><td>-1.402763               </td><td> 1.31911636             </td><td>score                   </td><td>0.9994018               </td><td>0.0005423213            </td><td>0.0000558681            </td><td>NA                      </td><td>NA                      </td><td>T2_Win                  </td></tr>\n",
       "\t<tr><td>5a120d709772221454d5f49b</td><td>2017-12-02 15:00:00     </td><td>Leicester               </td><td>NA                      </td><td>Burnley                 </td><td>NA                      </td><td> 0.10381964             </td><td> 0.17807169             </td><td> 0.18331713             </td><td>-0.3388981              </td><td>...                     </td><td> 1.44243946             </td><td>-1.402763               </td><td> 0.02321273             </td><td>score                   </td><td>0.6687642               </td><td>0.2490841436            </td><td>0.0821516538            </td><td>NA                      </td><td>NA                      </td><td>T2_Win                  </td></tr>\n",
       "\t<tr><td>5a120d709772221454d5f49c</td><td>2017-12-02 15:00:00     </td><td>Stoke City              </td><td>NA                      </td><td>Swansea                 </td><td>NA                      </td><td>-0.06367499             </td><td>-0.07450312             </td><td>-0.07417618             </td><td>-0.3388981              </td><td>...                     </td><td> 0.35385196             </td><td>-1.402763               </td><td>-0.14250315             </td><td>score                   </td><td>0.5238568               </td><td>0.2410995765            </td><td>0.2350436677            </td><td>NA                      </td><td>NA                      </td><td>T2_Win                  </td></tr>\n",
       "\t<tr><td>5a120d709772221454d5f49d</td><td>2017-12-02 15:00:00     </td><td>Watford                 </td><td>NA                      </td><td>Tottenham               </td><td>NA                      </td><td>-1.94949177             </td><td>-1.99054806             </td><td>-2.01590239             </td><td>-0.3388981              </td><td>...                     </td><td>-1.24836563             </td><td>-1.402763               </td><td>-1.98777391             </td><td>score                   </td><td>0.1297043               </td><td>0.2884394701            </td><td>0.5818562230            </td><td>NA                      </td><td>NA                      </td><td>T2_Win                  </td></tr>\n",
       "\t<tr><td>5a120d709772221454d5f49e</td><td>2017-12-02 15:00:00     </td><td>West Brom               </td><td>NA                      </td><td>Crystal Palace          </td><td>NA                      </td><td> 0.15047687             </td><td> 0.02742430             </td><td> 0.03268285             </td><td>-0.3388981              </td><td>...                     </td><td> 0.24193526             </td><td>-1.402763               </td><td>-0.27377401             </td><td>score                   </td><td>0.4619987               </td><td>0.2603309529            </td><td>0.2776703446            </td><td>NA                      </td><td>NA                      </td><td>T2_Win                  </td></tr>\n",
       "\t<tr><td>5a120d709772221454d5f49f</td><td>2017-12-02 17:30:00     </td><td>Arsenal                 </td><td>NA                      </td><td>Manchester United       </td><td>NA                      </td><td>-0.09842435             </td><td> 0.03513061             </td><td> 0.03288044             </td><td>-0.3388981              </td><td>...                     </td><td>-1.75973037             </td><td>-1.402763               </td><td>-0.01497975             </td><td>score                   </td><td>0.3861231               </td><td>0.2561524854            </td><td>0.3577244429            </td><td>NA                      </td><td>NA                      </td><td>T2_Win                  </td></tr>\n",
       "\t<tr><td>5a120d709772221454d5f4a0</td><td>2017-12-03 13:30:00     </td><td>Bournemouth             </td><td>NA                      </td><td>Southampton             </td><td>NA                      </td><td>-0.16643208             </td><td>-0.20420363             </td><td>-0.20670962             </td><td>-0.3388981              </td><td>...                     </td><td>-0.16917232             </td><td>-1.402763               </td><td>-0.23937974             </td><td>score                   </td><td>0.4734958               </td><td>0.1393532226            </td><td>0.3871510255            </td><td>NA                      </td><td>NA                      </td><td>T2_Win                  </td></tr>\n",
       "\t<tr><td>5a120d709772221454d5f4a1</td><td>2017-12-03 16:00:00     </td><td>Manchester City         </td><td>NA                      </td><td>West Ham                </td><td>NA                      </td><td> 2.78026895             </td><td> 2.82749141             </td><td> 2.84175168             </td><td>-0.3388981              </td><td>...                     </td><td>-0.05953659             </td><td>-1.402763               </td><td> 2.86975901             </td><td>score                   </td><td>0.8915772               </td><td>0.0646058786            </td><td>0.0438168846            </td><td>NA                      </td><td>NA                      </td><td>T2_Win                  </td></tr>\n",
       "</tbody>\n",
       "</table>\n"
      ],
      "text/latex": [
       "\\begin{tabular}{r|lllllllllllllllllllll}\n",
       " id & date & team\\_1\\_name & team\\_1\\_score & team\\_2\\_name & team\\_2\\_score & d\\_ability\\_1 & d\\_ability\\_3 & d\\_ability\\_4 & is\\_november & ... & d\\_form\\_4 & d\\_h2h\\_2 & c\\_ability\\_3 & datatype & team\\_1\\_prob & team\\_tie\\_prob & team\\_2\\_prob & team\\_1\\_win & team\\_1\\_draw & team\\_1\\_result\\\\\n",
       "\\hline\n",
       "\t 5a120d709772221454d5f498 & 2017-12-02 12:30:00      & Chelsea                  & NA                       & Newcastle Utd            & NA                       &  1.96751062              &  2.01187006              &  2.00470273              & -0.3388981               & ...                      & -0.48595668              & -1.402763                &  1.92381970              & score                    & 0.8028497                & 0.1580269319             & 0.0391233367             & NA                       & NA                       & T2\\_Win                \\\\\n",
       "\t 5a120d709772221454d5f499 & 2017-12-02 15:00:00      & Brighton                 & NA                       & Liverpool                & NA                       & -1.47303379              & -1.38555272              & -1.37586793              & -0.3388981               & ...                      & -1.64179633              & -1.402763                & -1.31565191              & score                    & 0.1690312                & 0.8300950634             & 0.0008737328             & NA                       & NA                       & T2\\_Win                \\\\\n",
       "\t 5a120d709772221454d5f49a & 2017-12-02 15:00:00      & Everton                  & NA                       & Huddersfield             & NA                       &  1.40722915              &  1.38521152              &  1.41683349              & -0.3388981               & ...                      &  1.31733546              & -1.402763                &  1.31911636              & score                    & 0.9994018                & 0.0005423213             & 0.0000558681             & NA                       & NA                       & T2\\_Win                \\\\\n",
       "\t 5a120d709772221454d5f49b & 2017-12-02 15:00:00      & Leicester                & NA                       & Burnley                  & NA                       &  0.10381964              &  0.17807169              &  0.18331713              & -0.3388981               & ...                      &  1.44243946              & -1.402763                &  0.02321273              & score                    & 0.6687642                & 0.2490841436             & 0.0821516538             & NA                       & NA                       & T2\\_Win                \\\\\n",
       "\t 5a120d709772221454d5f49c & 2017-12-02 15:00:00      & Stoke City               & NA                       & Swansea                  & NA                       & -0.06367499              & -0.07450312              & -0.07417618              & -0.3388981               & ...                      &  0.35385196              & -1.402763                & -0.14250315              & score                    & 0.5238568                & 0.2410995765             & 0.2350436677             & NA                       & NA                       & T2\\_Win                \\\\\n",
       "\t 5a120d709772221454d5f49d & 2017-12-02 15:00:00      & Watford                  & NA                       & Tottenham                & NA                       & -1.94949177              & -1.99054806              & -2.01590239              & -0.3388981               & ...                      & -1.24836563              & -1.402763                & -1.98777391              & score                    & 0.1297043                & 0.2884394701             & 0.5818562230             & NA                       & NA                       & T2\\_Win                \\\\\n",
       "\t 5a120d709772221454d5f49e & 2017-12-02 15:00:00      & West Brom                & NA                       & Crystal Palace           & NA                       &  0.15047687              &  0.02742430              &  0.03268285              & -0.3388981               & ...                      &  0.24193526              & -1.402763                & -0.27377401              & score                    & 0.4619987                & 0.2603309529             & 0.2776703446             & NA                       & NA                       & T2\\_Win                \\\\\n",
       "\t 5a120d709772221454d5f49f & 2017-12-02 17:30:00      & Arsenal                  & NA                       & Manchester United        & NA                       & -0.09842435              &  0.03513061              &  0.03288044              & -0.3388981               & ...                      & -1.75973037              & -1.402763                & -0.01497975              & score                    & 0.3861231                & 0.2561524854             & 0.3577244429             & NA                       & NA                       & T2\\_Win                \\\\\n",
       "\t 5a120d709772221454d5f4a0 & 2017-12-03 13:30:00      & Bournemouth              & NA                       & Southampton              & NA                       & -0.16643208              & -0.20420363              & -0.20670962              & -0.3388981               & ...                      & -0.16917232              & -1.402763                & -0.23937974              & score                    & 0.4734958                & 0.1393532226             & 0.3871510255             & NA                       & NA                       & T2\\_Win                \\\\\n",
       "\t 5a120d709772221454d5f4a1 & 2017-12-03 16:00:00      & Manchester City          & NA                       & West Ham                 & NA                       &  2.78026895              &  2.82749141              &  2.84175168              & -0.3388981               & ...                      & -0.05953659              & -1.402763                &  2.86975901              & score                    & 0.8915772                & 0.0646058786             & 0.0438168846             & NA                       & NA                       & T2\\_Win                \\\\\n",
       "\\end{tabular}\n"
      ],
      "text/markdown": [
       "\n",
       "id | date | team_1_name | team_1_score | team_2_name | team_2_score | d_ability_1 | d_ability_3 | d_ability_4 | is_november | ... | d_form_4 | d_h2h_2 | c_ability_3 | datatype | team_1_prob | team_tie_prob | team_2_prob | team_1_win | team_1_draw | team_1_result | \n",
       "|---|---|---|---|---|---|---|---|---|---|\n",
       "| 5a120d709772221454d5f498 | 2017-12-02 12:30:00      | Chelsea                  | NA                       | Newcastle Utd            | NA                       |  1.96751062              |  2.01187006              |  2.00470273              | -0.3388981               | ...                      | -0.48595668              | -1.402763                |  1.92381970              | score                    | 0.8028497                | 0.1580269319             | 0.0391233367             | NA                       | NA                       | T2_Win                   | \n",
       "| 5a120d709772221454d5f499 | 2017-12-02 15:00:00      | Brighton                 | NA                       | Liverpool                | NA                       | -1.47303379              | -1.38555272              | -1.37586793              | -0.3388981               | ...                      | -1.64179633              | -1.402763                | -1.31565191              | score                    | 0.1690312                | 0.8300950634             | 0.0008737328             | NA                       | NA                       | T2_Win                   | \n",
       "| 5a120d709772221454d5f49a | 2017-12-02 15:00:00      | Everton                  | NA                       | Huddersfield             | NA                       |  1.40722915              |  1.38521152              |  1.41683349              | -0.3388981               | ...                      |  1.31733546              | -1.402763                |  1.31911636              | score                    | 0.9994018                | 0.0005423213             | 0.0000558681             | NA                       | NA                       | T2_Win                   | \n",
       "| 5a120d709772221454d5f49b | 2017-12-02 15:00:00      | Leicester                | NA                       | Burnley                  | NA                       |  0.10381964              |  0.17807169              |  0.18331713              | -0.3388981               | ...                      |  1.44243946              | -1.402763                |  0.02321273              | score                    | 0.6687642                | 0.2490841436             | 0.0821516538             | NA                       | NA                       | T2_Win                   | \n",
       "| 5a120d709772221454d5f49c | 2017-12-02 15:00:00      | Stoke City               | NA                       | Swansea                  | NA                       | -0.06367499              | -0.07450312              | -0.07417618              | -0.3388981               | ...                      |  0.35385196              | -1.402763                | -0.14250315              | score                    | 0.5238568                | 0.2410995765             | 0.2350436677             | NA                       | NA                       | T2_Win                   | \n",
       "| 5a120d709772221454d5f49d | 2017-12-02 15:00:00      | Watford                  | NA                       | Tottenham                | NA                       | -1.94949177              | -1.99054806              | -2.01590239              | -0.3388981               | ...                      | -1.24836563              | -1.402763                | -1.98777391              | score                    | 0.1297043                | 0.2884394701             | 0.5818562230             | NA                       | NA                       | T2_Win                   | \n",
       "| 5a120d709772221454d5f49e | 2017-12-02 15:00:00      | West Brom                | NA                       | Crystal Palace           | NA                       |  0.15047687              |  0.02742430              |  0.03268285              | -0.3388981               | ...                      |  0.24193526              | -1.402763                | -0.27377401              | score                    | 0.4619987                | 0.2603309529             | 0.2776703446             | NA                       | NA                       | T2_Win                   | \n",
       "| 5a120d709772221454d5f49f | 2017-12-02 17:30:00      | Arsenal                  | NA                       | Manchester United        | NA                       | -0.09842435              |  0.03513061              |  0.03288044              | -0.3388981               | ...                      | -1.75973037              | -1.402763                | -0.01497975              | score                    | 0.3861231                | 0.2561524854             | 0.3577244429             | NA                       | NA                       | T2_Win                   | \n",
       "| 5a120d709772221454d5f4a0 | 2017-12-03 13:30:00      | Bournemouth              | NA                       | Southampton              | NA                       | -0.16643208              | -0.20420363              | -0.20670962              | -0.3388981               | ...                      | -0.16917232              | -1.402763                | -0.23937974              | score                    | 0.4734958                | 0.1393532226             | 0.3871510255             | NA                       | NA                       | T2_Win                   | \n",
       "| 5a120d709772221454d5f4a1 | 2017-12-03 16:00:00      | Manchester City          | NA                       | West Ham                 | NA                       |  2.78026895              |  2.82749141              |  2.84175168              | -0.3388981               | ...                      | -0.05953659              | -1.402763                |  2.86975901              | score                    | 0.8915772                | 0.0646058786             | 0.0438168846             | NA                       | NA                       | T2_Win                   | \n",
       "\n",
       "\n"
      ],
      "text/plain": [
       "   id                       date                team_1_name     team_1_score\n",
       "1  5a120d709772221454d5f498 2017-12-02 12:30:00 Chelsea         NA          \n",
       "2  5a120d709772221454d5f499 2017-12-02 15:00:00 Brighton        NA          \n",
       "3  5a120d709772221454d5f49a 2017-12-02 15:00:00 Everton         NA          \n",
       "4  5a120d709772221454d5f49b 2017-12-02 15:00:00 Leicester       NA          \n",
       "5  5a120d709772221454d5f49c 2017-12-02 15:00:00 Stoke City      NA          \n",
       "6  5a120d709772221454d5f49d 2017-12-02 15:00:00 Watford         NA          \n",
       "7  5a120d709772221454d5f49e 2017-12-02 15:00:00 West Brom       NA          \n",
       "8  5a120d709772221454d5f49f 2017-12-02 17:30:00 Arsenal         NA          \n",
       "9  5a120d709772221454d5f4a0 2017-12-03 13:30:00 Bournemouth     NA          \n",
       "10 5a120d709772221454d5f4a1 2017-12-03 16:00:00 Manchester City NA          \n",
       "   team_2_name       team_2_score d_ability_1 d_ability_3 d_ability_4\n",
       "1  Newcastle Utd     NA            1.96751062  2.01187006  2.00470273\n",
       "2  Liverpool         NA           -1.47303379 -1.38555272 -1.37586793\n",
       "3  Huddersfield      NA            1.40722915  1.38521152  1.41683349\n",
       "4  Burnley           NA            0.10381964  0.17807169  0.18331713\n",
       "5  Swansea           NA           -0.06367499 -0.07450312 -0.07417618\n",
       "6  Tottenham         NA           -1.94949177 -1.99054806 -2.01590239\n",
       "7  Crystal Palace    NA            0.15047687  0.02742430  0.03268285\n",
       "8  Manchester United NA           -0.09842435  0.03513061  0.03288044\n",
       "9  Southampton       NA           -0.16643208 -0.20420363 -0.20670962\n",
       "10 West Ham          NA            2.78026895  2.82749141  2.84175168\n",
       "   is_november ... d_form_4    d_h2h_2   c_ability_3 datatype team_1_prob\n",
       "1  -0.3388981  ... -0.48595668 -1.402763  1.92381970 score    0.8028497  \n",
       "2  -0.3388981  ... -1.64179633 -1.402763 -1.31565191 score    0.1690312  \n",
       "3  -0.3388981  ...  1.31733546 -1.402763  1.31911636 score    0.9994018  \n",
       "4  -0.3388981  ...  1.44243946 -1.402763  0.02321273 score    0.6687642  \n",
       "5  -0.3388981  ...  0.35385196 -1.402763 -0.14250315 score    0.5238568  \n",
       "6  -0.3388981  ... -1.24836563 -1.402763 -1.98777391 score    0.1297043  \n",
       "7  -0.3388981  ...  0.24193526 -1.402763 -0.27377401 score    0.4619987  \n",
       "8  -0.3388981  ... -1.75973037 -1.402763 -0.01497975 score    0.3861231  \n",
       "9  -0.3388981  ... -0.16917232 -1.402763 -0.23937974 score    0.4734958  \n",
       "10 -0.3388981  ... -0.05953659 -1.402763  2.86975901 score    0.8915772  \n",
       "   team_tie_prob team_2_prob  team_1_win team_1_draw team_1_result\n",
       "1  0.1580269319  0.0391233367 NA         NA          T2_Win       \n",
       "2  0.8300950634  0.0008737328 NA         NA          T2_Win       \n",
       "3  0.0005423213  0.0000558681 NA         NA          T2_Win       \n",
       "4  0.2490841436  0.0821516538 NA         NA          T2_Win       \n",
       "5  0.2410995765  0.2350436677 NA         NA          T2_Win       \n",
       "6  0.2884394701  0.5818562230 NA         NA          T2_Win       \n",
       "7  0.2603309529  0.2776703446 NA         NA          T2_Win       \n",
       "8  0.2561524854  0.3577244429 NA         NA          T2_Win       \n",
       "9  0.1393532226  0.3871510255 NA         NA          T2_Win       \n",
       "10 0.0646058786  0.0438168846 NA         NA          T2_Win       "
      ]
     },
     "metadata": {},
     "output_type": "display_data"
    }
   ],
   "source": [
    "score_df"
   ]
  },
  {
   "cell_type": "markdown",
   "metadata": {},
   "source": [
    "### Rebuild scores, merge and write"
   ]
  },
  {
   "cell_type": "code",
   "execution_count": 80,
   "metadata": {
    "collapsed": true
   },
   "outputs": [],
   "source": [
    "score <- read.csv('../DataCollection/english_premier_league_competition_data.csv')"
   ]
  },
  {
   "cell_type": "code",
   "execution_count": 81,
   "metadata": {
    "collapsed": true
   },
   "outputs": [],
   "source": [
    "submit <- score %>%\n",
    "    select(-team_1_prob,-team_2_prob,-team_tie_prob) %>%\n",
    "    merge(\n",
    "        score_df %>% select(id, team_1_prob, team_2_prob, team_tie_prob)\n",
    "    )"
   ]
  },
  {
   "cell_type": "code",
   "execution_count": 82,
   "metadata": {},
   "outputs": [
    {
     "data": {
      "text/html": [
       "<table>\n",
       "<thead><tr><th scope=col>id</th><th scope=col>date</th><th scope=col>team_1_name</th><th scope=col>team_2_name</th><th scope=col>d_ability_1</th><th scope=col>d_ability_3</th><th scope=col>d_ability_4</th><th scope=col>is_november</th><th scope=col>is_february</th><th scope=col>d_form_4</th><th scope=col>d_h2h_2</th><th scope=col>c_ability_3</th><th scope=col>team_1_prob</th><th scope=col>team_2_prob</th><th scope=col>team_tie_prob</th></tr></thead>\n",
       "<tbody>\n",
       "\t<tr><td>5a120d709772221454d5f498</td><td>2017-12-02 12:30:00     </td><td>Chelsea                 </td><td>Newcastle Utd           </td><td> 1.96751062             </td><td> 2.01187006             </td><td> 2.00470273             </td><td>-0.3388981              </td><td>-0.3181852              </td><td>-0.48595668             </td><td>-1.402763               </td><td> 1.92381970             </td><td>0.8028497               </td><td>0.0391233367            </td><td>0.1580269319            </td></tr>\n",
       "\t<tr><td>5a120d709772221454d5f499</td><td>2017-12-02 15:00:00     </td><td>Brighton                </td><td>Liverpool               </td><td>-1.47303379             </td><td>-1.38555272             </td><td>-1.37586793             </td><td>-0.3388981              </td><td>-0.3181852              </td><td>-1.64179633             </td><td>-1.402763               </td><td>-1.31565191             </td><td>0.1690312               </td><td>0.0008737328            </td><td>0.8300950634            </td></tr>\n",
       "\t<tr><td>5a120d709772221454d5f49a</td><td>2017-12-02 15:00:00     </td><td>Everton                 </td><td>Huddersfield            </td><td> 1.40722915             </td><td> 1.38521152             </td><td> 1.41683349             </td><td>-0.3388981              </td><td>-0.3181852              </td><td> 1.31733546             </td><td>-1.402763               </td><td> 1.31911636             </td><td>0.9994018               </td><td>0.0000558681            </td><td>0.0005423213            </td></tr>\n",
       "\t<tr><td>5a120d709772221454d5f49b</td><td>2017-12-02 15:00:00     </td><td>Leicester               </td><td>Burnley                 </td><td> 0.10381964             </td><td> 0.17807169             </td><td> 0.18331713             </td><td>-0.3388981              </td><td>-0.3181852              </td><td> 1.44243946             </td><td>-1.402763               </td><td> 0.02321273             </td><td>0.6687642               </td><td>0.0821516538            </td><td>0.2490841436            </td></tr>\n",
       "\t<tr><td>5a120d709772221454d5f49c</td><td>2017-12-02 15:00:00     </td><td>Stoke City              </td><td>Swansea                 </td><td>-0.06367499             </td><td>-0.07450312             </td><td>-0.07417618             </td><td>-0.3388981              </td><td>-0.3181852              </td><td> 0.35385196             </td><td>-1.402763               </td><td>-0.14250315             </td><td>0.5238568               </td><td>0.2350436677            </td><td>0.2410995765            </td></tr>\n",
       "\t<tr><td>5a120d709772221454d5f49d</td><td>2017-12-02 15:00:00     </td><td>Watford                 </td><td>Tottenham               </td><td>-1.94949177             </td><td>-1.99054806             </td><td>-2.01590239             </td><td>-0.3388981              </td><td>-0.3181852              </td><td>-1.24836563             </td><td>-1.402763               </td><td>-1.98777391             </td><td>0.1297043               </td><td>0.5818562230            </td><td>0.2884394701            </td></tr>\n",
       "\t<tr><td>5a120d709772221454d5f49e</td><td>2017-12-02 15:00:00     </td><td>West Brom               </td><td>Crystal Palace          </td><td> 0.15047687             </td><td> 0.02742430             </td><td> 0.03268285             </td><td>-0.3388981              </td><td>-0.3181852              </td><td> 0.24193526             </td><td>-1.402763               </td><td>-0.27377401             </td><td>0.4619987               </td><td>0.2776703446            </td><td>0.2603309529            </td></tr>\n",
       "\t<tr><td>5a120d709772221454d5f49f</td><td>2017-12-02 17:30:00     </td><td>Arsenal                 </td><td>Manchester United       </td><td>-0.09842435             </td><td> 0.03513061             </td><td> 0.03288044             </td><td>-0.3388981              </td><td>-0.3181852              </td><td>-1.75973037             </td><td>-1.402763               </td><td>-0.01497975             </td><td>0.3861231               </td><td>0.3577244429            </td><td>0.2561524854            </td></tr>\n",
       "\t<tr><td>5a120d709772221454d5f4a0</td><td>2017-12-03 13:30:00     </td><td>Bournemouth             </td><td>Southampton             </td><td>-0.16643208             </td><td>-0.20420363             </td><td>-0.20670962             </td><td>-0.3388981              </td><td>-0.3181852              </td><td>-0.16917232             </td><td>-1.402763               </td><td>-0.23937974             </td><td>0.4734958               </td><td>0.3871510255            </td><td>0.1393532226            </td></tr>\n",
       "\t<tr><td>5a120d709772221454d5f4a1</td><td>2017-12-03 16:00:00     </td><td>Manchester City         </td><td>West Ham                </td><td> 2.78026895             </td><td> 2.82749141             </td><td> 2.84175168             </td><td>-0.3388981              </td><td>-0.3181852              </td><td>-0.05953659             </td><td>-1.402763               </td><td> 2.86975901             </td><td>0.8915772               </td><td>0.0438168846            </td><td>0.0646058786            </td></tr>\n",
       "</tbody>\n",
       "</table>\n"
      ],
      "text/latex": [
       "\\begin{tabular}{r|lllllllllllllll}\n",
       " id & date & team\\_1\\_name & team\\_2\\_name & d\\_ability\\_1 & d\\_ability\\_3 & d\\_ability\\_4 & is\\_november & is\\_february & d\\_form\\_4 & d\\_h2h\\_2 & c\\_ability\\_3 & team\\_1\\_prob & team\\_2\\_prob & team\\_tie\\_prob\\\\\n",
       "\\hline\n",
       "\t 5a120d709772221454d5f498 & 2017-12-02 12:30:00      & Chelsea                  & Newcastle Utd            &  1.96751062              &  2.01187006              &  2.00470273              & -0.3388981               & -0.3181852               & -0.48595668              & -1.402763                &  1.92381970              & 0.8028497                & 0.0391233367             & 0.1580269319            \\\\\n",
       "\t 5a120d709772221454d5f499 & 2017-12-02 15:00:00      & Brighton                 & Liverpool                & -1.47303379              & -1.38555272              & -1.37586793              & -0.3388981               & -0.3181852               & -1.64179633              & -1.402763                & -1.31565191              & 0.1690312                & 0.0008737328             & 0.8300950634            \\\\\n",
       "\t 5a120d709772221454d5f49a & 2017-12-02 15:00:00      & Everton                  & Huddersfield             &  1.40722915              &  1.38521152              &  1.41683349              & -0.3388981               & -0.3181852               &  1.31733546              & -1.402763                &  1.31911636              & 0.9994018                & 0.0000558681             & 0.0005423213            \\\\\n",
       "\t 5a120d709772221454d5f49b & 2017-12-02 15:00:00      & Leicester                & Burnley                  &  0.10381964              &  0.17807169              &  0.18331713              & -0.3388981               & -0.3181852               &  1.44243946              & -1.402763                &  0.02321273              & 0.6687642                & 0.0821516538             & 0.2490841436            \\\\\n",
       "\t 5a120d709772221454d5f49c & 2017-12-02 15:00:00      & Stoke City               & Swansea                  & -0.06367499              & -0.07450312              & -0.07417618              & -0.3388981               & -0.3181852               &  0.35385196              & -1.402763                & -0.14250315              & 0.5238568                & 0.2350436677             & 0.2410995765            \\\\\n",
       "\t 5a120d709772221454d5f49d & 2017-12-02 15:00:00      & Watford                  & Tottenham                & -1.94949177              & -1.99054806              & -2.01590239              & -0.3388981               & -0.3181852               & -1.24836563              & -1.402763                & -1.98777391              & 0.1297043                & 0.5818562230             & 0.2884394701            \\\\\n",
       "\t 5a120d709772221454d5f49e & 2017-12-02 15:00:00      & West Brom                & Crystal Palace           &  0.15047687              &  0.02742430              &  0.03268285              & -0.3388981               & -0.3181852               &  0.24193526              & -1.402763                & -0.27377401              & 0.4619987                & 0.2776703446             & 0.2603309529            \\\\\n",
       "\t 5a120d709772221454d5f49f & 2017-12-02 17:30:00      & Arsenal                  & Manchester United        & -0.09842435              &  0.03513061              &  0.03288044              & -0.3388981               & -0.3181852               & -1.75973037              & -1.402763                & -0.01497975              & 0.3861231                & 0.3577244429             & 0.2561524854            \\\\\n",
       "\t 5a120d709772221454d5f4a0 & 2017-12-03 13:30:00      & Bournemouth              & Southampton              & -0.16643208              & -0.20420363              & -0.20670962              & -0.3388981               & -0.3181852               & -0.16917232              & -1.402763                & -0.23937974              & 0.4734958                & 0.3871510255             & 0.1393532226            \\\\\n",
       "\t 5a120d709772221454d5f4a1 & 2017-12-03 16:00:00      & Manchester City          & West Ham                 &  2.78026895              &  2.82749141              &  2.84175168              & -0.3388981               & -0.3181852               & -0.05953659              & -1.402763                &  2.86975901              & 0.8915772                & 0.0438168846             & 0.0646058786            \\\\\n",
       "\\end{tabular}\n"
      ],
      "text/markdown": [
       "\n",
       "id | date | team_1_name | team_2_name | d_ability_1 | d_ability_3 | d_ability_4 | is_november | is_february | d_form_4 | d_h2h_2 | c_ability_3 | team_1_prob | team_2_prob | team_tie_prob | \n",
       "|---|---|---|---|---|---|---|---|---|---|\n",
       "| 5a120d709772221454d5f498 | 2017-12-02 12:30:00      | Chelsea                  | Newcastle Utd            |  1.96751062              |  2.01187006              |  2.00470273              | -0.3388981               | -0.3181852               | -0.48595668              | -1.402763                |  1.92381970              | 0.8028497                | 0.0391233367             | 0.1580269319             | \n",
       "| 5a120d709772221454d5f499 | 2017-12-02 15:00:00      | Brighton                 | Liverpool                | -1.47303379              | -1.38555272              | -1.37586793              | -0.3388981               | -0.3181852               | -1.64179633              | -1.402763                | -1.31565191              | 0.1690312                | 0.0008737328             | 0.8300950634             | \n",
       "| 5a120d709772221454d5f49a | 2017-12-02 15:00:00      | Everton                  | Huddersfield             |  1.40722915              |  1.38521152              |  1.41683349              | -0.3388981               | -0.3181852               |  1.31733546              | -1.402763                |  1.31911636              | 0.9994018                | 0.0000558681             | 0.0005423213             | \n",
       "| 5a120d709772221454d5f49b | 2017-12-02 15:00:00      | Leicester                | Burnley                  |  0.10381964              |  0.17807169              |  0.18331713              | -0.3388981               | -0.3181852               |  1.44243946              | -1.402763                |  0.02321273              | 0.6687642                | 0.0821516538             | 0.2490841436             | \n",
       "| 5a120d709772221454d5f49c | 2017-12-02 15:00:00      | Stoke City               | Swansea                  | -0.06367499              | -0.07450312              | -0.07417618              | -0.3388981               | -0.3181852               |  0.35385196              | -1.402763                | -0.14250315              | 0.5238568                | 0.2350436677             | 0.2410995765             | \n",
       "| 5a120d709772221454d5f49d | 2017-12-02 15:00:00      | Watford                  | Tottenham                | -1.94949177              | -1.99054806              | -2.01590239              | -0.3388981               | -0.3181852               | -1.24836563              | -1.402763                | -1.98777391              | 0.1297043                | 0.5818562230             | 0.2884394701             | \n",
       "| 5a120d709772221454d5f49e | 2017-12-02 15:00:00      | West Brom                | Crystal Palace           |  0.15047687              |  0.02742430              |  0.03268285              | -0.3388981               | -0.3181852               |  0.24193526              | -1.402763                | -0.27377401              | 0.4619987                | 0.2776703446             | 0.2603309529             | \n",
       "| 5a120d709772221454d5f49f | 2017-12-02 17:30:00      | Arsenal                  | Manchester United        | -0.09842435              |  0.03513061              |  0.03288044              | -0.3388981               | -0.3181852               | -1.75973037              | -1.402763                | -0.01497975              | 0.3861231                | 0.3577244429             | 0.2561524854             | \n",
       "| 5a120d709772221454d5f4a0 | 2017-12-03 13:30:00      | Bournemouth              | Southampton              | -0.16643208              | -0.20420363              | -0.20670962              | -0.3388981               | -0.3181852               | -0.16917232              | -1.402763                | -0.23937974              | 0.4734958                | 0.3871510255             | 0.1393532226             | \n",
       "| 5a120d709772221454d5f4a1 | 2017-12-03 16:00:00      | Manchester City          | West Ham                 |  2.78026895              |  2.82749141              |  2.84175168              | -0.3388981               | -0.3181852               | -0.05953659              | -1.402763                |  2.86975901              | 0.8915772                | 0.0438168846             | 0.0646058786             | \n",
       "\n",
       "\n"
      ],
      "text/plain": [
       "   id                       date                team_1_name    \n",
       "1  5a120d709772221454d5f498 2017-12-02 12:30:00 Chelsea        \n",
       "2  5a120d709772221454d5f499 2017-12-02 15:00:00 Brighton       \n",
       "3  5a120d709772221454d5f49a 2017-12-02 15:00:00 Everton        \n",
       "4  5a120d709772221454d5f49b 2017-12-02 15:00:00 Leicester      \n",
       "5  5a120d709772221454d5f49c 2017-12-02 15:00:00 Stoke City     \n",
       "6  5a120d709772221454d5f49d 2017-12-02 15:00:00 Watford        \n",
       "7  5a120d709772221454d5f49e 2017-12-02 15:00:00 West Brom      \n",
       "8  5a120d709772221454d5f49f 2017-12-02 17:30:00 Arsenal        \n",
       "9  5a120d709772221454d5f4a0 2017-12-03 13:30:00 Bournemouth    \n",
       "10 5a120d709772221454d5f4a1 2017-12-03 16:00:00 Manchester City\n",
       "   team_2_name       d_ability_1 d_ability_3 d_ability_4 is_november\n",
       "1  Newcastle Utd      1.96751062  2.01187006  2.00470273 -0.3388981 \n",
       "2  Liverpool         -1.47303379 -1.38555272 -1.37586793 -0.3388981 \n",
       "3  Huddersfield       1.40722915  1.38521152  1.41683349 -0.3388981 \n",
       "4  Burnley            0.10381964  0.17807169  0.18331713 -0.3388981 \n",
       "5  Swansea           -0.06367499 -0.07450312 -0.07417618 -0.3388981 \n",
       "6  Tottenham         -1.94949177 -1.99054806 -2.01590239 -0.3388981 \n",
       "7  Crystal Palace     0.15047687  0.02742430  0.03268285 -0.3388981 \n",
       "8  Manchester United -0.09842435  0.03513061  0.03288044 -0.3388981 \n",
       "9  Southampton       -0.16643208 -0.20420363 -0.20670962 -0.3388981 \n",
       "10 West Ham           2.78026895  2.82749141  2.84175168 -0.3388981 \n",
       "   is_february d_form_4    d_h2h_2   c_ability_3 team_1_prob team_2_prob \n",
       "1  -0.3181852  -0.48595668 -1.402763  1.92381970 0.8028497   0.0391233367\n",
       "2  -0.3181852  -1.64179633 -1.402763 -1.31565191 0.1690312   0.0008737328\n",
       "3  -0.3181852   1.31733546 -1.402763  1.31911636 0.9994018   0.0000558681\n",
       "4  -0.3181852   1.44243946 -1.402763  0.02321273 0.6687642   0.0821516538\n",
       "5  -0.3181852   0.35385196 -1.402763 -0.14250315 0.5238568   0.2350436677\n",
       "6  -0.3181852  -1.24836563 -1.402763 -1.98777391 0.1297043   0.5818562230\n",
       "7  -0.3181852   0.24193526 -1.402763 -0.27377401 0.4619987   0.2776703446\n",
       "8  -0.3181852  -1.75973037 -1.402763 -0.01497975 0.3861231   0.3577244429\n",
       "9  -0.3181852  -0.16917232 -1.402763 -0.23937974 0.4734958   0.3871510255\n",
       "10 -0.3181852  -0.05953659 -1.402763  2.86975901 0.8915772   0.0438168846\n",
       "   team_tie_prob\n",
       "1  0.1580269319 \n",
       "2  0.8300950634 \n",
       "3  0.0005423213 \n",
       "4  0.2490841436 \n",
       "5  0.2410995765 \n",
       "6  0.2884394701 \n",
       "7  0.2603309529 \n",
       "8  0.2561524854 \n",
       "9  0.1393532226 \n",
       "10 0.0646058786 "
      ]
     },
     "metadata": {},
     "output_type": "display_data"
    }
   ],
   "source": [
    "submit"
   ]
  },
  {
   "cell_type": "code",
   "execution_count": 83,
   "metadata": {
    "collapsed": true
   },
   "outputs": [],
   "source": [
    "submit <- submit %>%\n",
    "    mutate(team_1_prob = round(team_1_prob, digits = 5),\n",
    "           team_2_prob = round(team_2_prob, digits = 5))"
   ]
  },
  {
   "cell_type": "code",
   "execution_count": 84,
   "metadata": {
    "collapsed": true
   },
   "outputs": [],
   "source": [
    "submit$team_tie_prob = 1 - submit$team_1_prob - submit$team_2_prob"
   ]
  },
  {
   "cell_type": "code",
   "execution_count": 85,
   "metadata": {
    "collapsed": true
   },
   "outputs": [],
   "source": [
    "submit %>% write.csv('submit.csv', row.names = F)"
   ]
  },
  {
   "cell_type": "code",
   "execution_count": null,
   "metadata": {
    "collapsed": true
   },
   "outputs": [],
   "source": []
  }
 ],
 "metadata": {
  "kernelspec": {
   "display_name": "R",
   "language": "R",
   "name": "ir"
  },
  "language_info": {
   "codemirror_mode": "r",
   "file_extension": ".r",
   "mimetype": "text/x-r-source",
   "name": "R",
   "pygments_lexer": "r",
   "version": "3.4.2"
  }
 },
 "nbformat": 4,
 "nbformat_minor": 2
}
