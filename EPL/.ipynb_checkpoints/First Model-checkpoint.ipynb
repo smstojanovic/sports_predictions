{
 "cells": [
  {
   "cell_type": "code",
   "execution_count": 1,
   "metadata": {},
   "outputs": [
    {
     "name": "stderr",
     "output_type": "stream",
     "text": [
      "Loading tidyverse: ggplot2\n",
      "Loading tidyverse: tibble\n",
      "Loading tidyverse: tidyr\n",
      "Loading tidyverse: readr\n",
      "Loading tidyverse: purrr\n",
      "Loading tidyverse: dplyr\n",
      "Conflicts with tidy packages ---------------------------------------------------\n",
      "filter(): dplyr, stats\n",
      "lag():    dplyr, stats\n",
      "Loading required package: lattice\n",
      "\n",
      "Attaching package: 'caret'\n",
      "\n",
      "The following object is masked from 'package:purrr':\n",
      "\n",
      "    lift\n",
      "\n",
      "\n",
      "Attaching package: 'plotly'\n",
      "\n",
      "The following object is masked from 'package:ggplot2':\n",
      "\n",
      "    last_plot\n",
      "\n",
      "The following object is masked from 'package:stats':\n",
      "\n",
      "    filter\n",
      "\n",
      "The following object is masked from 'package:graphics':\n",
      "\n",
      "    layout\n",
      "\n"
     ]
    }
   ],
   "source": [
    "library(tidyverse)\n",
    "library(caret)\n",
    "library(plotly)"
   ]
  },
  {
   "cell_type": "markdown",
   "metadata": {},
   "source": [
    "## Read data and view"
   ]
  },
  {
   "cell_type": "code",
   "execution_count": 91,
   "metadata": {},
   "outputs": [],
   "source": [
    "df <- read.csv('english_premier_league_historical_data.csv')"
   ]
  },
  {
   "cell_type": "code",
   "execution_count": 92,
   "metadata": {},
   "outputs": [],
   "source": [
    "score <- read.csv('english_premier_league_competition_data.csv')"
   ]
  },
  {
   "cell_type": "code",
   "execution_count": 93,
   "metadata": {},
   "outputs": [
    {
     "data": {
      "text/html": [
       "<table>\n",
       "<thead><tr><th scope=col>id</th><th scope=col>date</th><th scope=col>team_1_name</th><th scope=col>team_1_score</th><th scope=col>team_2_name</th><th scope=col>team_2_score</th><th scope=col>d_ability_1</th><th scope=col>d_ability_3</th><th scope=col>d_ability_4</th><th scope=col>is_november</th><th scope=col>is_february</th><th scope=col>d_form_4</th><th scope=col>d_h2h_2</th><th scope=col>c_ability_3</th></tr></thead>\n",
       "<tbody>\n",
       "\t<tr><td>5969fbdb4825083689956894</td><td>2004-02-11 19:45:00     </td><td>Fulham                  </td><td>1                       </td><td>Aston Villa             </td><td>2                       </td><td>0.003957119             </td><td>-0.09007358             </td><td>-0.0929783              </td><td>-0.3385736              </td><td>3.145799                </td><td>NaN                     </td><td>NaN                     </td><td>-0.07611189             </td></tr>\n",
       "\t<tr><td>5969fbdb4825083689956893</td><td>2004-02-11 19:45:00     </td><td>Birmingham              </td><td>3                       </td><td>Everton                 </td><td>0                       </td><td>0.003957119             </td><td>-0.09007358             </td><td>-0.0929783              </td><td>-0.3385736              </td><td>3.145799                </td><td>NaN                     </td><td>NaN                     </td><td>-0.07611189             </td></tr>\n",
       "\t<tr><td>5969fbdb4825083689956892</td><td>2004-02-11 20:00:00     </td><td>Portsmouth              </td><td>0                       </td><td>Chelsea                 </td><td>2                       </td><td>0.003957119             </td><td>-0.09007358             </td><td>-0.0929783              </td><td>-0.3385736              </td><td>3.145799                </td><td>NaN                     </td><td>NaN                     </td><td>-0.07611189             </td></tr>\n",
       "</tbody>\n",
       "</table>\n"
      ],
      "text/latex": [
       "\\begin{tabular}{r|llllllllllllll}\n",
       " id & date & team\\_1\\_name & team\\_1\\_score & team\\_2\\_name & team\\_2\\_score & d\\_ability\\_1 & d\\_ability\\_3 & d\\_ability\\_4 & is\\_november & is\\_february & d\\_form\\_4 & d\\_h2h\\_2 & c\\_ability\\_3\\\\\n",
       "\\hline\n",
       "\t 5969fbdb4825083689956894 & 2004-02-11 19:45:00      & Fulham                   & 1                        & Aston Villa              & 2                        & 0.003957119              & -0.09007358              & -0.0929783               & -0.3385736               & 3.145799                 & NaN                      & NaN                      & -0.07611189             \\\\\n",
       "\t 5969fbdb4825083689956893 & 2004-02-11 19:45:00      & Birmingham               & 3                        & Everton                  & 0                        & 0.003957119              & -0.09007358              & -0.0929783               & -0.3385736               & 3.145799                 & NaN                      & NaN                      & -0.07611189             \\\\\n",
       "\t 5969fbdb4825083689956892 & 2004-02-11 20:00:00      & Portsmouth               & 0                        & Chelsea                  & 2                        & 0.003957119              & -0.09007358              & -0.0929783               & -0.3385736               & 3.145799                 & NaN                      & NaN                      & -0.07611189             \\\\\n",
       "\\end{tabular}\n"
      ],
      "text/markdown": [
       "\n",
       "id | date | team_1_name | team_1_score | team_2_name | team_2_score | d_ability_1 | d_ability_3 | d_ability_4 | is_november | is_february | d_form_4 | d_h2h_2 | c_ability_3 | \n",
       "|---|---|---|\n",
       "| 5969fbdb4825083689956894 | 2004-02-11 19:45:00      | Fulham                   | 1                        | Aston Villa              | 2                        | 0.003957119              | -0.09007358              | -0.0929783               | -0.3385736               | 3.145799                 | NaN                      | NaN                      | -0.07611189              | \n",
       "| 5969fbdb4825083689956893 | 2004-02-11 19:45:00      | Birmingham               | 3                        | Everton                  | 0                        | 0.003957119              | -0.09007358              | -0.0929783               | -0.3385736               | 3.145799                 | NaN                      | NaN                      | -0.07611189              | \n",
       "| 5969fbdb4825083689956892 | 2004-02-11 20:00:00      | Portsmouth               | 0                        | Chelsea                  | 2                        | 0.003957119              | -0.09007358              | -0.0929783               | -0.3385736               | 3.145799                 | NaN                      | NaN                      | -0.07611189              | \n",
       "\n",
       "\n"
      ],
      "text/plain": [
       "  id                       date                team_1_name team_1_score\n",
       "1 5969fbdb4825083689956894 2004-02-11 19:45:00 Fulham      1           \n",
       "2 5969fbdb4825083689956893 2004-02-11 19:45:00 Birmingham  3           \n",
       "3 5969fbdb4825083689956892 2004-02-11 20:00:00 Portsmouth  0           \n",
       "  team_2_name team_2_score d_ability_1 d_ability_3 d_ability_4 is_november\n",
       "1 Aston Villa 2            0.003957119 -0.09007358 -0.0929783  -0.3385736 \n",
       "2 Everton     0            0.003957119 -0.09007358 -0.0929783  -0.3385736 \n",
       "3 Chelsea     2            0.003957119 -0.09007358 -0.0929783  -0.3385736 \n",
       "  is_february d_form_4 d_h2h_2 c_ability_3\n",
       "1 3.145799    NaN      NaN     -0.07611189\n",
       "2 3.145799    NaN      NaN     -0.07611189\n",
       "3 3.145799    NaN      NaN     -0.07611189"
      ]
     },
     "metadata": {},
     "output_type": "display_data"
    }
   ],
   "source": [
    "df %>% head(3)"
   ]
  },
  {
   "cell_type": "markdown",
   "metadata": {},
   "source": [
    "### Align score and concat"
   ]
  },
  {
   "cell_type": "code",
   "execution_count": 94,
   "metadata": {
    "collapsed": true
   },
   "outputs": [],
   "source": [
    "score <- score %>%\n",
    "    mutate(team_1_score = NA,\n",
    "           team_2_score = NA,\n",
    "           datatype = 'score'\n",
    "          )"
   ]
  },
  {
   "cell_type": "code",
   "execution_count": 95,
   "metadata": {
    "collapsed": true
   },
   "outputs": [],
   "source": [
    "df <- df %>%\n",
    "    mutate(datatype = 'build',\n",
    "        team_1_prob = NA,\n",
    "          team_tie_prob = NA,\n",
    "           team_2_prob = NA\n",
    "          )"
   ]
  },
  {
   "cell_type": "code",
   "execution_count": 96,
   "metadata": {
    "collapsed": true
   },
   "outputs": [],
   "source": [
    "df <- rbind(df, score)"
   ]
  },
  {
   "cell_type": "markdown",
   "metadata": {},
   "source": [
    "## Build response variables"
   ]
  },
  {
   "cell_type": "code",
   "execution_count": 97,
   "metadata": {
    "collapsed": true
   },
   "outputs": [],
   "source": [
    "df <- df %>%\n",
    "    mutate(team_1_win = as.numeric(team_1_score > team_2_score),\n",
    "           team_1_draw = as.numeric(team_1_score == team_2_score))\n",
    "\n",
    "df <- df %>%\n",
    "    mutate(team_1_result = case_when(.$team_1_win > 0 ~ 'T1_Win',\n",
    "                                     .$team_1_draw > 0 ~ 'Draw',\n",
    "                                    T ~ 'T2_Win') )"
   ]
  },
  {
   "cell_type": "markdown",
   "metadata": {},
   "source": [
    "## Visualise team data"
   ]
  },
  {
   "cell_type": "code",
   "execution_count": 98,
   "metadata": {},
   "outputs": [
    {
     "data": {},
     "metadata": {},
     "output_type": "display_data"
    },
    {
     "data": {
      "image/png": "[encoded data removed]",
      "text/plain": [
       "plot without title"
      ]
     },
     "metadata": {},
     "output_type": "display_data"
    }
   ],
   "source": [
    "df %>%\n",
    "    group_by(team_1_name) %>%\n",
    "    summarise( avg_score = mean(team_1_score),\n",
    "                vol = n()) %>%\n",
    "     filter(vol < 100) %>%\n",
    "    ggplot(aes(x = team_1_name, y = vol)) + geom_bar(stat=\"identity\") + theme(axis.text.x = element_text(angle = 90, hjust = 1))"
   ]
  },
  {
   "cell_type": "code",
   "execution_count": 99,
   "metadata": {},
   "outputs": [
    {
     "name": "stderr",
     "output_type": "stream",
     "text": [
      "Warning message:\n",
      "\"Removed 10 rows containing missing values (position_stack).\""
     ]
    },
    {
     "data": {},
     "metadata": {},
     "output_type": "display_data"
    },
    {
     "data": {
      "image/png": "[encoded data removed]",
      "text/plain": [
       "plot without title"
      ]
     },
     "metadata": {},
     "output_type": "display_data"
    }
   ],
   "source": [
    "df %>%\n",
    "    group_by(team_1_name) %>%\n",
    "    summarise( avg_score = mean(team_1_score),\n",
    "                vol = n()) %>%\n",
    "    ggplot(aes(x = team_1_name, y = avg_score)) + geom_bar(stat=\"identity\") + theme(axis.text.x = element_text(angle = 90, hjust = 1))"
   ]
  },
  {
   "cell_type": "code",
   "execution_count": 100,
   "metadata": {},
   "outputs": [
    {
     "data": {},
     "metadata": {},
     "output_type": "display_data"
    },
    {
     "data": {
      "image/png": "[encoded data removed]",
      "text/plain": [
       "plot without title"
      ]
     },
     "metadata": {},
     "output_type": "display_data"
    }
   ],
   "source": [
    "df %>%\n",
    "    group_by(team_2_name) %>%\n",
    "    summarise( avg_score = mean(team_2_score),\n",
    "                vol = n()) %>%\n",
    "     filter(vol < 100) %>%\n",
    "    ggplot(aes(x = team_2_name, y = vol)) + geom_bar(stat=\"identity\") + theme(axis.text.x = element_text(angle = 90, hjust = 1))"
   ]
  },
  {
   "cell_type": "markdown",
   "metadata": {},
   "source": [
    "# Try simple logit model"
   ]
  },
  {
   "cell_type": "code",
   "execution_count": 101,
   "metadata": {},
   "outputs": [
    {
     "data": {
      "text/html": [
       "<table>\n",
       "<thead><tr><th scope=col>id</th><th scope=col>date</th><th scope=col>team_1_name</th><th scope=col>team_1_score</th><th scope=col>team_2_name</th><th scope=col>team_2_score</th><th scope=col>d_ability_1</th><th scope=col>d_ability_3</th><th scope=col>d_ability_4</th><th scope=col>is_november</th><th scope=col>...</th><th scope=col>d_form_4</th><th scope=col>d_h2h_2</th><th scope=col>c_ability_3</th><th scope=col>datatype</th><th scope=col>team_1_prob</th><th scope=col>team_tie_prob</th><th scope=col>team_2_prob</th><th scope=col>team_1_win</th><th scope=col>team_1_draw</th><th scope=col>team_1_result</th></tr></thead>\n",
       "<tbody>\n",
       "\t<tr><td>5969fbdb4825083689956894</td><td>2004-02-11 19:45:00     </td><td>Fulham                  </td><td>1                       </td><td>Aston Villa             </td><td>2                       </td><td>0.003957119             </td><td>-0.09007358             </td><td>-0.0929783              </td><td>-0.3385736              </td><td>...                     </td><td>NaN                     </td><td>NaN                     </td><td>-0.07611189             </td><td>build                   </td><td>NA                      </td><td>NA                      </td><td>NA                      </td><td>0                       </td><td>0                       </td><td>T2_Win                  </td></tr>\n",
       "\t<tr><td>5969fbdb4825083689956893</td><td>2004-02-11 19:45:00     </td><td>Birmingham              </td><td>3                       </td><td>Everton                 </td><td>0                       </td><td>0.003957119             </td><td>-0.09007358             </td><td>-0.0929783              </td><td>-0.3385736              </td><td>...                     </td><td>NaN                     </td><td>NaN                     </td><td>-0.07611189             </td><td>build                   </td><td>NA                      </td><td>NA                      </td><td>NA                      </td><td>1                       </td><td>0                       </td><td>T1_Win                  </td></tr>\n",
       "\t<tr><td>5969fbdb4825083689956892</td><td>2004-02-11 20:00:00     </td><td>Portsmouth              </td><td>0                       </td><td>Chelsea                 </td><td>2                       </td><td>0.003957119             </td><td>-0.09007358             </td><td>-0.0929783              </td><td>-0.3385736              </td><td>...                     </td><td>NaN                     </td><td>NaN                     </td><td>-0.07611189             </td><td>build                   </td><td>NA                      </td><td>NA                      </td><td>NA                      </td><td>0                       </td><td>0                       </td><td>T2_Win                  </td></tr>\n",
       "</tbody>\n",
       "</table>\n"
      ],
      "text/latex": [
       "\\begin{tabular}{r|lllllllllllllllllllll}\n",
       " id & date & team\\_1\\_name & team\\_1\\_score & team\\_2\\_name & team\\_2\\_score & d\\_ability\\_1 & d\\_ability\\_3 & d\\_ability\\_4 & is\\_november & ... & d\\_form\\_4 & d\\_h2h\\_2 & c\\_ability\\_3 & datatype & team\\_1\\_prob & team\\_tie\\_prob & team\\_2\\_prob & team\\_1\\_win & team\\_1\\_draw & team\\_1\\_result\\\\\n",
       "\\hline\n",
       "\t 5969fbdb4825083689956894 & 2004-02-11 19:45:00      & Fulham                   & 1                        & Aston Villa              & 2                        & 0.003957119              & -0.09007358              & -0.0929783               & -0.3385736               & ...                      & NaN                      & NaN                      & -0.07611189              & build                    & NA                       & NA                       & NA                       & 0                        & 0                        & T2\\_Win                \\\\\n",
       "\t 5969fbdb4825083689956893 & 2004-02-11 19:45:00      & Birmingham               & 3                        & Everton                  & 0                        & 0.003957119              & -0.09007358              & -0.0929783               & -0.3385736               & ...                      & NaN                      & NaN                      & -0.07611189              & build                    & NA                       & NA                       & NA                       & 1                        & 0                        & T1\\_Win                \\\\\n",
       "\t 5969fbdb4825083689956892 & 2004-02-11 20:00:00      & Portsmouth               & 0                        & Chelsea                  & 2                        & 0.003957119              & -0.09007358              & -0.0929783               & -0.3385736               & ...                      & NaN                      & NaN                      & -0.07611189              & build                    & NA                       & NA                       & NA                       & 0                        & 0                        & T2\\_Win                \\\\\n",
       "\\end{tabular}\n"
      ],
      "text/markdown": [
       "\n",
       "id | date | team_1_name | team_1_score | team_2_name | team_2_score | d_ability_1 | d_ability_3 | d_ability_4 | is_november | ... | d_form_4 | d_h2h_2 | c_ability_3 | datatype | team_1_prob | team_tie_prob | team_2_prob | team_1_win | team_1_draw | team_1_result | \n",
       "|---|---|---|\n",
       "| 5969fbdb4825083689956894 | 2004-02-11 19:45:00      | Fulham                   | 1                        | Aston Villa              | 2                        | 0.003957119              | -0.09007358              | -0.0929783               | -0.3385736               | ...                      | NaN                      | NaN                      | -0.07611189              | build                    | NA                       | NA                       | NA                       | 0                        | 0                        | T2_Win                   | \n",
       "| 5969fbdb4825083689956893 | 2004-02-11 19:45:00      | Birmingham               | 3                        | Everton                  | 0                        | 0.003957119              | -0.09007358              | -0.0929783               | -0.3385736               | ...                      | NaN                      | NaN                      | -0.07611189              | build                    | NA                       | NA                       | NA                       | 1                        | 0                        | T1_Win                   | \n",
       "| 5969fbdb4825083689956892 | 2004-02-11 20:00:00      | Portsmouth               | 0                        | Chelsea                  | 2                        | 0.003957119              | -0.09007358              | -0.0929783               | -0.3385736               | ...                      | NaN                      | NaN                      | -0.07611189              | build                    | NA                       | NA                       | NA                       | 0                        | 0                        | T2_Win                   | \n",
       "\n",
       "\n"
      ],
      "text/plain": [
       "  id                       date                team_1_name team_1_score\n",
       "1 5969fbdb4825083689956894 2004-02-11 19:45:00 Fulham      1           \n",
       "2 5969fbdb4825083689956893 2004-02-11 19:45:00 Birmingham  3           \n",
       "3 5969fbdb4825083689956892 2004-02-11 20:00:00 Portsmouth  0           \n",
       "  team_2_name team_2_score d_ability_1 d_ability_3 d_ability_4 is_november ...\n",
       "1 Aston Villa 2            0.003957119 -0.09007358 -0.0929783  -0.3385736  ...\n",
       "2 Everton     0            0.003957119 -0.09007358 -0.0929783  -0.3385736  ...\n",
       "3 Chelsea     2            0.003957119 -0.09007358 -0.0929783  -0.3385736  ...\n",
       "  d_form_4 d_h2h_2 c_ability_3 datatype team_1_prob team_tie_prob team_2_prob\n",
       "1 NaN      NaN     -0.07611189 build    NA          NA            NA         \n",
       "2 NaN      NaN     -0.07611189 build    NA          NA            NA         \n",
       "3 NaN      NaN     -0.07611189 build    NA          NA            NA         \n",
       "  team_1_win team_1_draw team_1_result\n",
       "1 0          0           T2_Win       \n",
       "2 1          0           T1_Win       \n",
       "3 0          0           T2_Win       "
      ]
     },
     "metadata": {},
     "output_type": "display_data"
    }
   ],
   "source": [
    "df %>% head(3)"
   ]
  },
  {
   "cell_type": "code",
   "execution_count": 102,
   "metadata": {
    "collapsed": true
   },
   "outputs": [],
   "source": [
    "df <- df %>% \n",
    "    mutate(team_1_name = as.factor(team_1_name),\n",
    "           team_2_name = as.factor(team_2_name),\n",
    "           team_1_result = as.factor(team_1_result)\n",
    "          )"
   ]
  },
  {
   "cell_type": "code",
   "execution_count": 133,
   "metadata": {
    "collapsed": true
   },
   "outputs": [],
   "source": [
    "index <- createDataPartition(y = df$team_1_result, p = 0.7, list = F)"
   ]
  },
  {
   "cell_type": "code",
   "execution_count": 134,
   "metadata": {
    "collapsed": true
   },
   "outputs": [],
   "source": [
    "train <- df[index,]\n",
    "test <- df[-index,]"
   ]
  },
  {
   "cell_type": "code",
   "execution_count": 135,
   "metadata": {
    "collapsed": true
   },
   "outputs": [],
   "source": [
    "library(nnet)"
   ]
  },
  {
   "cell_type": "code",
   "execution_count": 160,
   "metadata": {},
   "outputs": [
    {
     "name": "stdout",
     "output_type": "stream",
     "text": [
      "# weights:  261 (172 variable)\n",
      "initial  value 3957.201464 \n",
      "iter  10 value 3512.755691\n",
      "iter  20 value 3425.288833\n",
      "iter  30 value 3410.524128\n",
      "iter  40 value 3408.888191\n",
      "iter  50 value 3407.708910\n",
      "iter  60 value 3407.372767\n",
      "iter  70 value 3407.307259\n",
      "iter  80 value 3407.252829\n",
      "iter  90 value 3407.177635\n",
      "iter 100 value 3407.136695\n",
      "final  value 3407.136695 \n",
      "stopped after 100 iterations\n"
     ]
    }
   ],
   "source": [
    "fit.log <- train %>%\n",
    "            filter(datatype == 'build') %>%\n",
    "                multinom(formula = team_1_result ~ team_1_name + team_2_name + d_ability_1 + d_ability_3 + d_ability_4 + is_november + is_february + d_form_4 + d_h2h_2 + c_ability_3)"
   ]
  },
  {
   "cell_type": "code",
   "execution_count": 161,
   "metadata": {},
   "outputs": [
    {
     "data": {
      "text/plain": [
       "Call:\n",
       "multinom(formula = team_1_result ~ team_1_name + team_2_name + \n",
       "    d_ability_1 + d_ability_3 + d_ability_4 + is_november + is_february + \n",
       "    d_form_4 + d_h2h_2, data = .)\n",
       "\n",
       "Coefficients:\n",
       "       (Intercept) team_1_nameAston Villa team_1_nameBirmingham\n",
       "T1_Win  0.43428171             -0.6988803           -1.04262533\n",
       "T2_Win -0.04838566              0.5696731            0.04751472\n",
       "       team_1_nameBlackburn team_1_nameBlackpool team_1_nameBolton\n",
       "T1_Win           -0.2211599           -0.2210221        -0.1299484\n",
       "T2_Win            0.6337532            1.5907144         0.7040461\n",
       "       team_1_nameBournemouth team_1_nameBrighton team_1_nameBurnley\n",
       "T1_Win             -0.4081175          -0.5262926         -0.1360509\n",
       "T2_Win              0.6204587          -0.4336981          0.3240866\n",
       "       team_1_nameCardiff team_1_nameCharlton team_1_nameChelsea\n",
       "T1_Win         -1.5285375          -0.8516610         0.04456272\n",
       "T2_Win          0.5715525           0.7172327        -0.33681645\n",
       "       team_1_nameCrystal Palace team_1_nameDerby team_1_nameEverton\n",
       "T1_Win                 0.6892735        -2.093371      -4.551789e-05\n",
       "T2_Win                 1.7466278         1.345115       3.565811e-01\n",
       "       team_1_nameFulham team_1_nameHuddersfield team_1_nameHull City\n",
       "T1_Win        0.09840064              -0.6055435           -0.6299668\n",
       "T2_Win        0.70892996              -0.7611080            0.5041719\n",
       "       team_1_nameLeeds team_1_nameLeicester team_1_nameLiverpool\n",
       "T1_Win      -1.48802005            0.1179252           0.09471961\n",
       "T2_Win      -0.08325725            0.1911092          -0.18827598\n",
       "       team_1_nameManchester City team_1_nameManchester United\n",
       "T1_Win                  0.4983205                    0.6610845\n",
       "T2_Win                  0.5868294                    0.3760944\n",
       "       team_1_nameMiddlesbrough team_1_nameNewcastle Utd team_1_nameNorwich\n",
       "T1_Win               -0.1647338               -0.1951114         -0.3826326\n",
       "T2_Win                0.5201243                0.3793158          0.2747076\n",
       "       team_1_namePortsmouth team_1_nameQPR team_1_nameReading\n",
       "T1_Win            -0.4046465     -0.5311529          -0.444830\n",
       "T2_Win             0.7214575      0.8136224           1.026061\n",
       "       team_1_nameSheffield Utd team_1_nameSouthampton team_1_nameStoke City\n",
       "T1_Win               -0.6858735             -0.2592685            -0.1827133\n",
       "T2_Win                1.1194062              0.4615164             0.3400540\n",
       "       team_1_nameSunderland team_1_nameSwansea team_1_nameTottenham\n",
       "T1_Win            -0.7991419         -0.3393974            0.2321134\n",
       "T2_Win             0.6690166          0.3852736            0.2443716\n",
       "       team_1_nameWatford team_1_nameWest Brom team_1_nameWest Ham\n",
       "T1_Win         -0.4004069           -0.4483543          -0.1066180\n",
       "T2_Win          0.4845581            0.7992459           0.7875545\n",
       "       team_1_nameWigan team_1_nameWolves team_2_nameAston Villa\n",
       "T1_Win       -0.5696313        -0.8581852             -0.2095902\n",
       "T2_Win        0.8154809         1.3104824             -0.3261357\n",
       "       team_2_nameBirmingham team_2_nameBlackburn team_2_nameBlackpool\n",
       "T1_Win             0.4042024           0.08075867            0.3773215\n",
       "T2_Win            -0.9786773          -0.57053548            0.4080112\n",
       "       team_2_nameBolton team_2_nameBournemouth team_2_nameBrighton\n",
       "T1_Win         0.3716918              0.2759788            5.114296\n",
       "T2_Win        -0.1492964             -0.4742481            5.214387\n",
       "       team_2_nameBurnley team_2_nameCardiff team_2_nameCharlton\n",
       "T1_Win          0.4751583        -0.01045501           0.3847192\n",
       "T2_Win         -0.9264523        -2.01608772          -0.3138011\n",
       "       team_2_nameChelsea team_2_nameCrystal Palace team_2_nameDerby\n",
       "T1_Win          0.1210142                 0.2965838         1.432300\n",
       "T2_Win          0.3554217                -0.5220327        -6.998439\n",
       "       team_2_nameEverton team_2_nameFulham team_2_nameHuddersfield\n",
       "T1_Win         -0.3182880         0.2423532                7.207647\n",
       "T2_Win         -0.9983075        -1.0148319               -2.482611\n",
       "       team_2_nameHull City team_2_nameLeeds team_2_nameLeicester\n",
       "T1_Win            0.3219002         7.592222            0.3232946\n",
       "T2_Win           -1.1700447        -2.049375           -0.5723007\n",
       "       team_2_nameLiverpool team_2_nameManchester City\n",
       "T1_Win           0.50564587                  0.2410623\n",
       "T2_Win          -0.07276394                 -0.2601768\n",
       "       team_2_nameManchester United team_2_nameMiddlesbrough\n",
       "T1_Win                   -0.1932011                0.2803699\n",
       "T2_Win                   -0.1786844               -1.0598319\n",
       "       team_2_nameNewcastle Utd team_2_nameNorwich team_2_namePortsmouth\n",
       "T1_Win                0.4811603          0.6419846             0.6420308\n",
       "T2_Win               -0.4440382         -1.3401473            -0.2330063\n",
       "       team_2_nameQPR team_2_nameReading team_2_nameSheffield Utd\n",
       "T1_Win      0.8338147          1.1039199                1.0226617\n",
       "T2_Win     -0.7483770         -0.4530133               -0.2664351\n",
       "       team_2_nameSouthampton team_2_nameStoke City team_2_nameSunderland\n",
       "T1_Win              0.1845366             0.4179226             0.3902007\n",
       "T2_Win             -0.4303071            -0.8557824            -0.8158739\n",
       "       team_2_nameSwansea team_2_nameTottenham team_2_nameWatford\n",
       "T1_Win          0.7003744            0.2337800          0.6540074\n",
       "T2_Win         -0.4065976           -0.3399995         -0.6160001\n",
       "       team_2_nameWest Brom team_2_nameWest Ham team_2_nameWigan\n",
       "T1_Win            0.1129699           0.4602461       0.39110986\n",
       "T2_Win           -0.9842208          -0.5671398      -0.01974787\n",
       "       team_2_nameWolves d_ability_1 d_ability_3 d_ability_4 is_november\n",
       "T1_Win         0.2678049    2.276861   -7.751726    5.814899 -0.07304238\n",
       "T2_Win        -0.7447936   -1.330977   -0.220069    1.334653 -0.04639207\n",
       "        is_february    d_form_4     d_h2h_2\n",
       "T1_Win  0.006935929 -0.08402294  0.02891131\n",
       "T2_Win -0.029274049  0.04352633 -0.15699262\n",
       "\n",
       "Std. Errors:\n",
       "       (Intercept) team_1_nameAston Villa team_1_nameBirmingham\n",
       "T1_Win   0.3413741              0.3029254             0.3712973\n",
       "T2_Win   0.3877906              0.3686301             0.4289923\n",
       "       team_1_nameBlackburn team_1_nameBlackpool team_1_nameBolton\n",
       "T1_Win            0.3249756            0.8070594         0.3402309\n",
       "T2_Win            0.3919030            0.7581029         0.4074642\n",
       "       team_1_nameBournemouth team_1_nameBrighton team_1_nameBurnley\n",
       "T1_Win              0.5422209            1.042528          0.4610493\n",
       "T2_Win              0.5687163            1.288957          0.5258488\n",
       "       team_1_nameCardiff team_1_nameCharlton team_1_nameChelsea\n",
       "T1_Win          0.8872720           0.4591863          0.2617861\n",
       "T2_Win          0.7149363           0.4882317          0.4127175\n",
       "       team_1_nameCrystal Palace team_1_nameDerby team_1_nameEverton\n",
       "T1_Win                 0.4660406        1.1534468          0.2911154\n",
       "T2_Win                 0.5054690        0.7036612          0.3712131\n",
       "       team_1_nameFulham team_1_nameHuddersfield team_1_nameHull City\n",
       "T1_Win         0.3255340                1.272709            0.4066145\n",
       "T2_Win         0.3938125                1.309798            0.4429066\n",
       "       team_1_nameLeeds team_1_nameLeicester team_1_nameLiverpool\n",
       "T1_Win         1.267444            0.4222499            0.2620698\n",
       "T2_Win         1.285678            0.5099678            0.3740517\n",
       "       team_1_nameManchester City team_1_nameManchester United\n",
       "T1_Win                  0.2877589                    0.2803378\n",
       "T2_Win                  0.3744613                    0.3940032\n",
       "       team_1_nameMiddlesbrough team_1_nameNewcastle Utd team_1_nameNorwich\n",
       "T1_Win                0.3757268                0.3116168          0.3662743\n",
       "T2_Win                0.4444091                0.3822181          0.4236104\n",
       "       team_1_namePortsmouth team_1_nameQPR team_1_nameReading\n",
       "T1_Win             0.3529834      0.5534560          0.5432796\n",
       "T2_Win             0.4074855      0.5423915          0.5645209\n",
       "       team_1_nameSheffield Utd team_1_nameSouthampton team_1_nameStoke City\n",
       "T1_Win                0.8041906              0.3556835             0.3208079\n",
       "T2_Win                0.8046215              0.4233631             0.3902727\n",
       "       team_1_nameSunderland team_1_nameSwansea team_1_nameTottenham\n",
       "T1_Win             0.3147775          0.3680767            0.2759538\n",
       "T2_Win             0.3630172          0.4204799            0.3662679\n",
       "       team_1_nameWatford team_1_nameWest Brom team_1_nameWest Ham\n",
       "T1_Win          0.4556805            0.3244898           0.3052526\n",
       "T2_Win          0.5149323            0.3787390           0.3690382\n",
       "       team_1_nameWigan team_1_nameWolves team_2_nameAston Villa\n",
       "T1_Win        0.3599351         0.5180486              0.3265645\n",
       "T2_Win        0.4162747         0.5131068              0.3207549\n",
       "       team_2_nameBirmingham team_2_nameBlackburn team_2_nameBlackpool\n",
       "T1_Win             0.4131228            0.3520792            0.8732724\n",
       "T2_Win             0.4874253            0.3728834            0.9667823\n",
       "       team_2_nameBolton team_2_nameBournemouth team_2_nameBrighton\n",
       "T1_Win         0.3574679              0.5333226            11.89046\n",
       "T2_Win         0.3652987              0.5803280            11.88850\n",
       "       team_2_nameBurnley team_2_nameCardiff team_2_nameCharlton\n",
       "T1_Win          0.5628270           0.728782           0.5007795\n",
       "T2_Win          0.6792643           1.181073           0.5700197\n",
       "       team_2_nameChelsea team_2_nameCrystal Palace team_2_nameDerby\n",
       "T1_Win          0.3270854                 0.4375872        0.8865945\n",
       "T2_Win          0.2812462                 0.4726553       21.6069106\n",
       "       team_2_nameEverton team_2_nameFulham team_2_nameHuddersfield\n",
       "T1_Win          0.3017427         0.3602604                26.32534\n",
       "T2_Win          0.2987698         0.4017473                80.34991\n",
       "       team_2_nameHull City team_2_nameLeeds team_2_nameLeicester\n",
       "T1_Win            0.4295438         26.76726            0.4450185\n",
       "T2_Win            0.5258152         86.97608            0.4603200\n",
       "       team_2_nameLiverpool team_2_nameManchester City\n",
       "T1_Win            0.3105962                  0.3167323\n",
       "T2_Win            0.2859235                  0.2981078\n",
       "       team_2_nameManchester United team_2_nameMiddlesbrough\n",
       "T1_Win                    0.3055818                0.3849758\n",
       "T2_Win                    0.2643142                0.4532117\n",
       "       team_2_nameNewcastle Utd team_2_nameNorwich team_2_namePortsmouth\n",
       "T1_Win                0.3361604          0.4632961             0.4226628\n",
       "T2_Win                0.3466312          0.5872644             0.4553336\n",
       "       team_2_nameQPR team_2_nameReading team_2_nameSheffield Utd\n",
       "T1_Win      0.5347831          0.4993357                0.8755358\n",
       "T2_Win      0.6696646          0.5782598                1.0583501\n",
       "       team_2_nameSouthampton team_2_nameStoke City team_2_nameSunderland\n",
       "T1_Win              0.3896975             0.3915640             0.3823165\n",
       "T2_Win              0.3946001             0.4276882             0.4197644\n",
       "       team_2_nameSwansea team_2_nameTottenham team_2_nameWatford\n",
       "T1_Win          0.4204973            0.3040272          0.5199695\n",
       "T2_Win          0.4537968            0.2912082          0.6048915\n",
       "       team_2_nameWest Brom team_2_nameWest Ham team_2_nameWigan\n",
       "T1_Win            0.3810156           0.3446632        0.3971668\n",
       "T2_Win            0.4163218           0.3637201        0.4114733\n",
       "       team_2_nameWolves d_ability_1 d_ability_3 d_ability_4 is_november\n",
       "T1_Win         0.4931581   0.8447324    3.926442    3.720846  0.04112445\n",
       "T2_Win         0.5923299   0.9655566    4.270215    4.114859  0.04530424\n",
       "       is_february   d_form_4    d_h2h_2\n",
       "T1_Win  0.04419592 0.09416621 0.05280821\n",
       "T2_Win  0.04977443 0.11131937 0.05857146\n",
       "\n",
       "Residual Deviance: 6814.273 \n",
       "AIC: 7158.273 "
      ]
     },
     "metadata": {},
     "output_type": "display_data"
    }
   ],
   "source": [
    "fit.log %>% summary"
   ]
  },
  {
   "cell_type": "code",
   "execution_count": 162,
   "metadata": {
    "collapsed": true
   },
   "outputs": [],
   "source": [
    "#? glm"
   ]
  },
  {
   "cell_type": "code",
   "execution_count": 163,
   "metadata": {
    "collapsed": true
   },
   "outputs": [],
   "source": [
    "realtest <- test %>% filter(datatype == 'build')"
   ]
  },
  {
   "cell_type": "code",
   "execution_count": 164,
   "metadata": {
    "collapsed": true
   },
   "outputs": [],
   "source": [
    "preds <- predict(fit.log, newdata = realtest, type=\"probs\")"
   ]
  },
  {
   "cell_type": "code",
   "execution_count": 165,
   "metadata": {
    "collapsed": true
   },
   "outputs": [],
   "source": [
    "realtest$team_tie_prob <- (preds %>% as.data.frame)$Draw\n",
    "realtest$team_1_prob <- (preds %>% as.data.frame)$T1_Win\n",
    "realtest$team_2_prob <- (preds %>% as.data.frame)$T2_Win"
   ]
  },
  {
   "cell_type": "code",
   "execution_count": 166,
   "metadata": {},
   "outputs": [
    {
     "data": {
      "text/html": [
       "<table>\n",
       "<thead><tr><th scope=col>id</th><th scope=col>date</th><th scope=col>team_1_name</th><th scope=col>team_1_score</th><th scope=col>team_2_name</th><th scope=col>team_2_score</th><th scope=col>d_ability_1</th><th scope=col>d_ability_3</th><th scope=col>d_ability_4</th><th scope=col>is_november</th><th scope=col>...</th><th scope=col>d_form_4</th><th scope=col>d_h2h_2</th><th scope=col>c_ability_3</th><th scope=col>datatype</th><th scope=col>team_1_prob</th><th scope=col>team_tie_prob</th><th scope=col>team_2_prob</th><th scope=col>team_1_win</th><th scope=col>team_1_draw</th><th scope=col>team_1_result</th></tr></thead>\n",
       "<tbody>\n",
       "\t<tr><td>5969fbdb482508368995688c</td><td>2004-02-21 12:30:00     </td><td>Chelsea                 </td><td>1                       </td><td>Arsenal                 </td><td>2                       </td><td> 0.0963162398           </td><td>-0.002805337            </td><td>-0.009214321            </td><td>-0.3385736              </td><td>...                     </td><td>       NaN              </td><td>      NaN               </td><td> 0.019748112            </td><td>build                   </td><td>       NA               </td><td>          NA            </td><td>          NA            </td><td>0                       </td><td>0                       </td><td>T2_Win                  </td></tr>\n",
       "\t<tr><td>5969fbdb4825083689956886</td><td>2004-02-22 12:00:00     </td><td>Aston Villa             </td><td>2                       </td><td>Birmingham              </td><td>2                       </td><td>-0.0507959941           </td><td>-0.142396125            </td><td>-0.143272156            </td><td>-0.3385736              </td><td>...                     </td><td>       NaN              </td><td>      NaN               </td><td>-0.127973029            </td><td>build                   </td><td>       NA               </td><td>          NA            </td><td>          NA            </td><td>0                       </td><td>1                       </td><td>Draw                    </td></tr>\n",
       "\t<tr><td>5969fbdb4825083689956884</td><td>2004-02-28 15:00:00     </td><td>Manchester City         </td><td>0                       </td><td>Chelsea                 </td><td>1                       </td><td> 0.0328038621           </td><td>-0.063390990            </td><td>-0.067506462            </td><td>-0.3385736              </td><td>...                     </td><td>       NaN              </td><td>      NaN               </td><td>-0.042838158            </td><td>build                   </td><td>       NA               </td><td>          NA            </td><td>          NA            </td><td>0                       </td><td>0                       </td><td>T2_Win                  </td></tr>\n",
       "\t<tr><td>5969fbdb482508368995687e</td><td>2004-02-29 12:00:00     </td><td>Leeds                   </td><td>2                       </td><td>Liverpool               </td><td>2                       </td><td>-0.0125381155           </td><td>-0.106299213            </td><td>-0.108569825            </td><td>-0.3385736              </td><td>...                     </td><td>       NaN              </td><td>      NaN               </td><td>-0.089546820            </td><td>build                   </td><td>       NA               </td><td>          NA            </td><td>          NA            </td><td>0                       </td><td>1                       </td><td>Draw                    </td></tr>\n",
       "\t<tr><td>5969fbdb482508368995687c</td><td>2004-03-03 19:45:00     </td><td>Birmingham              </td><td>3                       </td><td>Middlesbrough           </td><td>1                       </td><td> 0.0981540809           </td><td> 0.015951228            </td><td> 0.009190359            </td><td>-0.3385736              </td><td>...                     </td><td>-1.1856901              </td><td>0.3780927               </td><td> 0.038883800            </td><td>build                   </td><td>0.4281393               </td><td>0.4463332876            </td><td>1.255274e-01            </td><td>1                       </td><td>0                       </td><td>T1_Win                  </td></tr>\n",
       "\t<tr><td>5969fbdb482508368995687a</td><td>2004-03-09 20:00:00     </td><td>Middlesbrough           </td><td>1                       </td><td>Tottenham               </td><td>0                       </td><td>-0.1134597655           </td><td>-0.201726629            </td><td>-0.200383470            </td><td>-0.3385736              </td><td>...                     </td><td>       NaN              </td><td>      NaN               </td><td>-0.188990861            </td><td>build                   </td><td>       NA               </td><td>          NA            </td><td>          NA            </td><td>1                       </td><td>0                       </td><td>T1_Win                  </td></tr>\n",
       "\t<tr><td>5969fbdb4825083689956878</td><td>2004-03-13 15:00:00     </td><td>Fulham                  </td><td>2                       </td><td>Leeds                   </td><td>0                       </td><td>-0.0851461365           </td><td>-0.183652945            </td><td>-0.183055761            </td><td>-0.3385736              </td><td>...                     </td><td> 0.9000277              </td><td>0.4140936               </td><td>-0.182476445            </td><td>build                   </td><td>0.9996791               </td><td>0.0002614126            </td><td>5.949403e-05            </td><td>1                       </td><td>0                       </td><td>T1_Win                  </td></tr>\n",
       "\t<tr><td>5969fbda4825083689956873</td><td>2004-03-14 12:30:00     </td><td>Wolves                  </td><td>0                       </td><td>Aston Villa             </td><td>4                       </td><td> 0.0717327485           </td><td>-0.021717591            </td><td>-0.027248693            </td><td>-0.3385736              </td><td>...                     </td><td>-0.3525099              </td><td>0.2114271               </td><td>-0.003848086            </td><td>build                   </td><td>0.1732103               </td><td>0.2589195706            </td><td>5.678701e-01            </td><td>0                       </td><td>0                       </td><td>T2_Win                  </td></tr>\n",
       "\t<tr><td>5969fbda4825083689956870</td><td>2004-03-14 16:05:00     </td><td>Southampton             </td><td>2                       </td><td>Liverpool               </td><td>0                       </td><td>-0.0396514549           </td><td>-0.133618361            </td><td>-0.134723936            </td><td>-0.3385736              </td><td>...                     </td><td>-0.3435163              </td><td>0.3449720               </td><td>-0.124009082            </td><td>build                   </td><td>0.5266537               </td><td>0.2132437426            </td><td>2.601026e-01            </td><td>1                       </td><td>0                       </td><td>T1_Win                  </td></tr>\n",
       "\t<tr><td>5969fbda482508368995686f</td><td>2004-03-17 20:00:00     </td><td>Liverpool               </td><td>3                       </td><td>Portsmouth              </td><td>0                       </td><td> 0.1001943339           </td><td> 0.004496722            </td><td>-0.001922372            </td><td>-0.3385736              </td><td>...                     </td><td> 0.5273457              </td><td>0.4177098               </td><td> 0.029540874            </td><td>build                   </td><td>0.7139068               </td><td>0.1862956090            </td><td>9.979760e-02            </td><td>1                       </td><td>0                       </td><td>T1_Win                  </td></tr>\n",
       "\t<tr><td>5969fbd44825083689956866</td><td>2004-03-21 16:05:00     </td><td>Portsmouth              </td><td>1                       </td><td>Southampton             </td><td>0                       </td><td>-0.2901642984           </td><td>-0.383953401            </td><td>-0.375776109            </td><td>-0.3385736              </td><td>...                     </td><td>-1.1441728              </td><td>0.5620141               </td><td>-0.394595112            </td><td>build                   </td><td>0.4343303               </td><td>0.2688584505            </td><td>2.968113e-01            </td><td>1                       </td><td>0                       </td><td>T1_Win                  </td></tr>\n",
       "\t<tr><td>5969fbd3482508368995685c</td><td>2004-03-28 14:00:00     </td><td>Leicester               </td><td>0                       </td><td>Liverpool               </td><td>0                       </td><td>-0.0428392356           </td><td>-0.137752183            </td><td>-0.139016076            </td><td>-0.3385736              </td><td>...                     </td><td>-0.7193277              </td><td>0.6354406               </td><td>-0.125417112            </td><td>build                   </td><td>0.6666016               </td><td>0.1778764371            </td><td>1.555220e-01            </td><td>0                       </td><td>1                       </td><td>Draw                    </td></tr>\n",
       "\t<tr><td>5969fbd34825083689956859</td><td>2004-04-03 14:00:00     </td><td>Tottenham               </td><td>0                       </td><td>Chelsea                 </td><td>1                       </td><td>-0.3547222191           </td><td>-0.429193520            </td><td>-0.418640898            </td><td>-0.3385736              </td><td>...                     </td><td> 1.0891405              </td><td>0.5697962               </td><td>-0.434705576            </td><td>build                   </td><td>0.4549519               </td><td>0.2003995787            </td><td>3.446485e-01            </td><td>0                       </td><td>0                       </td><td>T2_Win                  </td></tr>\n",
       "\t<tr><td>5969fbd34825083689956853</td><td>2004-04-05 19:00:00     </td><td>Leeds                   </td><td>3                       </td><td>Leicester               </td><td>2                       </td><td>-0.1743305081           </td><td>-0.256774614            </td><td>-0.252958435            </td><td>-0.3385736              </td><td>...                     </td><td>-1.1329431              </td><td>0.6653459               </td><td>-0.251267125            </td><td>build                   </td><td>0.3063257               </td><td>0.4905590133            </td><td>2.031153e-01            </td><td>1                       </td><td>0                       </td><td>T1_Win                  </td></tr>\n",
       "\t<tr><td>5969fbd34825083689956850</td><td>2004-04-10 14:00:00     </td><td>Manchester City         </td><td>3                       </td><td>Wolves                  </td><td>3                       </td><td> 0.4608182688           </td><td> 0.348220323            </td><td> 0.338987705            </td><td>-0.3385736              </td><td>...                     </td><td> 2.3600523              </td><td>0.6218460               </td><td> 0.393288453            </td><td>build                   </td><td>0.7018647               </td><td>0.1794754708            </td><td>1.186598e-01            </td><td>0                       </td><td>1                       </td><td>Draw                    </td></tr>\n",
       "\t<tr><td>5969fbd3482508368995684a</td><td>2004-04-10 14:00:00     </td><td>Birmingham              </td><td>1                       </td><td>Manchester United       </td><td>2                       </td><td> 0.2409031237           </td><td> 0.175928189            </td><td> 0.164650385            </td><td>-0.3385736              </td><td>...                     </td><td>-0.4115202              </td><td>0.7126516               </td><td> 0.212314676            </td><td>build                   </td><td>0.2525355               </td><td>0.4517862205            </td><td>2.956783e-01            </td><td>0                       </td><td>0                       </td><td>T2_Win                  </td></tr>\n",
       "\t<tr><td>5969fbd3482508368995684b</td><td>2004-04-10 14:00:00     </td><td>Blackburn               </td><td>1                       </td><td>Leeds                   </td><td>2                       </td><td>-0.1272897307           </td><td>-0.239128759            </td><td>-0.245068002            </td><td>-0.3385736              </td><td>...                     </td><td> 1.1654105              </td><td>0.6467758               </td><td>-0.247679686            </td><td>build                   </td><td>0.9995486               </td><td>0.0003752596            </td><td>7.615530e-05            </td><td>0                       </td><td>0                       </td><td>T2_Win                  </td></tr>\n",
       "\t<tr><td>5969fbd3482508368995684e</td><td>2004-04-10 14:00:00     </td><td>Chelsea                 </td><td>0                       </td><td>Middlesbrough           </td><td>0                       </td><td> 0.2313095511           </td><td> 0.137221983            </td><td> 0.126118602            </td><td>-0.3385736              </td><td>...                     </td><td>-1.7397098              </td><td>0.6875901               </td><td> 0.165591776            </td><td>build                   </td><td>0.7285591               </td><td>0.2320504897            </td><td>3.939042e-02            </td><td>0                       </td><td>1                       </td><td>Draw                    </td></tr>\n",
       "\t<tr><td>5969fbd34825083689956847</td><td>2004-04-12 14:00:00     </td><td>Tottenham               </td><td>1                       </td><td>Manchester City         </td><td>1                       </td><td>-0.2233998988           </td><td>-0.310604058            </td><td>-0.305534275            </td><td>-0.3385736              </td><td>...                     </td><td> 0.4281003              </td><td>0.5280532               </td><td>-0.308703706            </td><td>build                   </td><td>0.6007688               </td><td>0.2141153122            </td><td>1.851159e-01            </td><td>0                       </td><td>1                       </td><td>Draw                    </td></tr>\n",
       "\t<tr><td>5969fbd34825083689956846</td><td>2004-04-12 14:00:00     </td><td>Portsmouth              </td><td>3                       </td><td>Birmingham              </td><td>1                       </td><td>-0.2749301879           </td><td>-0.363785120            </td><td>-0.357680303            </td><td>-0.3385736              </td><td>...                     </td><td>-0.2114655              </td><td>0.5759401               </td><td>-0.359989560            </td><td>build                   </td><td>0.5241114               </td><td>0.2862346829            </td><td>1.896540e-01            </td><td>1                       </td><td>0                       </td><td>T1_Win                  </td></tr>\n",
       "\t<tr><td>5969fbd34825083689956845</td><td>2004-04-12 14:00:00     </td><td>Middlesbrough           </td><td>3                       </td><td>Southampton             </td><td>1                       </td><td>-0.0458148905           </td><td>-0.112710951            </td><td>-0.114726419            </td><td>-0.3385736              </td><td>...                     </td><td> 0.1085665              </td><td>0.5316914               </td><td>-0.085611109            </td><td>build                   </td><td>0.4827586               </td><td>0.2689133705            </td><td>2.483280e-01            </td><td>1                       </td><td>0                       </td><td>T1_Win                  </td></tr>\n",
       "\t<tr><td>5969fbcc482508368995683a</td><td>2004-04-17 14:00:00     </td><td>Liverpool               </td><td>0                       </td><td>Fulham                  </td><td>0                       </td><td> 0.1176446368           </td><td> 0.051667542            </td><td> 0.054473100            </td><td>-0.3385736              </td><td>...                     </td><td>-0.5460027              </td><td>0.6128846               </td><td> 0.080408575            </td><td>build                   </td><td>0.6962020               </td><td>0.2456875105            </td><td>5.811048e-02            </td><td>0                       </td><td>1                       </td><td>Draw                    </td></tr>\n",
       "\t<tr><td>5969fbcc482508368995683c</td><td>2004-04-17 14:00:00     </td><td>Wolves                  </td><td>2                       </td><td>Middlesbrough           </td><td>0                       </td><td>-0.5896502538           </td><td>-0.699223447            </td><td>-0.690402015            </td><td>-0.3385736              </td><td>...                     </td><td> 0.1353500              </td><td>0.6570521               </td><td>-0.748051035            </td><td>build                   </td><td>0.3057956               </td><td>0.3215915643            </td><td>3.726129e-01            </td><td>1                       </td><td>0                       </td><td>T1_Win                  </td></tr>\n",
       "\t<tr><td>5969fbcc4825083689956836</td><td>2004-04-18 13:00:00     </td><td>Aston Villa             </td><td>0                       </td><td>Newcastle Utd           </td><td>0                       </td><td> 0.0114330477           </td><td>-0.093477778            </td><td>-0.087186144            </td><td>-0.3385736              </td><td>...                     </td><td> 0.7391891              </td><td>0.6445707               </td><td>-0.083329365            </td><td>build                   </td><td>0.4462733               </td><td>0.2876231066            </td><td>2.661036e-01            </td><td>0                       </td><td>1                       </td><td>Draw                    </td></tr>\n",
       "\t<tr><td>5969fbcc4825083689956833</td><td>2004-04-24 14:00:00     </td><td>Middlesbrough           </td><td>1                       </td><td>Aston Villa             </td><td>2                       </td><td> 0.0120086883           </td><td>-0.050783616            </td><td>-0.064271217            </td><td>-0.3385736              </td><td>...                     </td><td>-0.9928073              </td><td>0.6478911               </td><td>-0.018491701            </td><td>build                   </td><td>0.3942890               </td><td>0.3126795245            </td><td>2.930315e-01            </td><td>0                       </td><td>0                       </td><td>T2_Win                  </td></tr>\n",
       "\t<tr><td>5969fbcc4825083689956832</td><td>2004-04-24 14:00:00     </td><td>Manchester United       </td><td>0                       </td><td>Liverpool               </td><td>1                       </td><td>-0.0009941148           </td><td>-0.072001191            </td><td>-0.084072509            </td><td>-0.3385736              </td><td>...                     </td><td>-0.2372807              </td><td>0.5574651               </td><td>-0.041698365            </td><td>build                   </td><td>0.7288820               </td><td>0.1296610066            </td><td>1.414570e-01            </td><td>0                       </td><td>0                       </td><td>T2_Win                  </td></tr>\n",
       "\t<tr><td>5969fbcc482508368995682f</td><td>2004-04-24 14:00:00     </td><td>Everton                 </td><td>0                       </td><td>Blackburn               </td><td>1                       </td><td> 0.2349935784           </td><td> 0.148851539            </td><td> 0.145050430            </td><td>-0.3385736              </td><td>...                     </td><td>-0.7080666              </td><td>0.5539636               </td><td> 0.191346192            </td><td>build                   </td><td>0.5905536               </td><td>0.2555416705            </td><td>1.539048e-01            </td><td>0                       </td><td>0                       </td><td>T2_Win                  </td></tr>\n",
       "\t<tr><td>5969fbcc482508368995682c</td><td>2004-04-25 13:00:00     </td><td>Newcastle Utd           </td><td>2                       </td><td>Chelsea                 </td><td>1                       </td><td>-0.1355478495           </td><td>-0.203585934            </td><td>-0.202350438            </td><td>-0.3385736              </td><td>...                     </td><td>-1.2790174              </td><td>0.5204134               </td><td>-0.187697526            </td><td>build                   </td><td>0.4027017               </td><td>0.2214290502            </td><td>3.758692e-01            </td><td>1                       </td><td>0                       </td><td>T1_Win                  </td></tr>\n",
       "\t<tr><td>5969fbcc4825083689956829</td><td>2004-05-01 14:00:00     </td><td>Wolves                  </td><td>2                       </td><td>Everton                 </td><td>1                       </td><td>-0.2624654330           </td><td>-0.375369216            </td><td>-0.379219583            </td><td>-0.3385736              </td><td>...                     </td><td> 1.4893741              </td><td>0.6196362               </td><td>-0.390838478            </td><td>build                   </td><td>0.1812016               </td><td>0.3722125200            </td><td>4.465859e-01            </td><td>1                       </td><td>0                       </td><td>T1_Win                  </td></tr>\n",
       "\t<tr><td>5969fbcc4825083689956823</td><td>2004-05-02 13:00:00     </td><td>Bolton                  </td><td>4                       </td><td>Leeds                   </td><td>1                       </td><td> 0.2046687261           </td><td> 0.090562044            </td><td> 0.090297662            </td><td>-0.3385736              </td><td>...                     </td><td> 0.9567446              </td><td>0.6920993               </td><td> 0.118417066            </td><td>build                   </td><td>0.9996528               </td><td>0.0002892813            </td><td>5.796645e-05            </td><td>1                       </td><td>0                       </td><td>T1_Win                  </td></tr>\n",
       "\t<tr><td>...</td><td>...</td><td>...</td><td>...</td><td>...</td><td>...</td><td>...</td><td>...</td><td>...</td><td>...</td><td>   </td><td>...</td><td>...</td><td>...</td><td>...</td><td>...</td><td>...</td><td>...</td><td>...</td><td>...</td><td>...</td></tr>\n",
       "\t<tr><td>59b50c804825080c2d524c8e</td><td>2017-09-23 14:00:00     </td><td>Swansea                 </td><td>1                       </td><td>Watford                 </td><td>2                       </td><td> 0.368522610            </td><td> 0.26881167             </td><td> 0.26541786             </td><td>-0.3385736              </td><td>...                     </td><td> 0.81552695             </td><td>-1.572533               </td><td> 0.23503815             </td><td>build                   </td><td>0.58493419              </td><td>0.2248359139            </td><td>1.902299e-01            </td><td>0                       </td><td>0                       </td><td>T2_Win                  </td></tr>\n",
       "\t<tr><td>59b50c7c4825080c2d524c89</td><td>2017-09-23 14:00:00     </td><td>Burnley                 </td><td>0                       </td><td>Huddersfield            </td><td>0                       </td><td> 1.109564969            </td><td> 1.05915935             </td><td> 1.06089590             </td><td>-0.3385736              </td><td>...                     </td><td>-1.23184777             </td><td>-1.533941               </td><td> 1.07681909             </td><td>build                   </td><td>0.99965650              </td><td>0.0003118725            </td><td>3.162448e-05            </td><td>0                       </td><td>1                       </td><td>Draw                    </td></tr>\n",
       "\t<tr><td>59b50c7d4825080c2d524c8b</td><td>2017-09-23 14:00:00     </td><td>Manchester City         </td><td>5                       </td><td>Crystal Palace          </td><td>0                       </td><td> 2.374909094            </td><td> 2.38336184             </td><td> 2.39659266             </td><td>-0.3385736              </td><td>...                     </td><td>-0.14691059             </td><td>-1.441273               </td><td> 2.37712746             </td><td>build                   </td><td>0.81813684              </td><td>0.1011424267            </td><td>8.072074e-02            </td><td>1                       </td><td>0                       </td><td>T1_Win                  </td></tr>\n",
       "\t<tr><td>59b50c804825080c2d524c8f</td><td>2017-09-23 16:30:00     </td><td>Leicester               </td><td>2                       </td><td>Liverpool               </td><td>3                       </td><td>-0.885124886            </td><td>-0.73046593             </td><td>-0.73544688             </td><td>-0.3385736              </td><td>...                     </td><td>-1.13632813             </td><td>-1.642036               </td><td>-0.75325840             </td><td>build                   </td><td>0.35936716              </td><td>0.2182074090            </td><td>4.224254e-01            </td><td>0                       </td><td>0                       </td><td>T2_Win                  </td></tr>\n",
       "\t<tr><td>59c1572f48250809e4273432</td><td>2017-09-30 14:00:00     </td><td>West Ham                </td><td>1                       </td><td>Swansea                 </td><td>0                       </td><td> 0.034902725            </td><td>-0.01765965             </td><td>-0.01821871             </td><td>-0.3385736              </td><td>...                     </td><td> 0.17475932             </td><td>-1.674759               </td><td>-0.10945503             </td><td>build                   </td><td>0.52130016              </td><td>0.1738937188            </td><td>3.048061e-01            </td><td>1                       </td><td>0                       </td><td>T1_Win                  </td></tr>\n",
       "\t<tr><td>59c1573148250809e4273435</td><td>2017-10-01 13:15:00     </td><td>Everton                 </td><td>0                       </td><td>Burnley                 </td><td>1                       </td><td> 0.467714613            </td><td> 0.54734374             </td><td> 0.55432465             </td><td>-0.3385736              </td><td>...                     </td><td> 2.00678523             </td><td>-1.612649               </td><td> 0.50428897             </td><td>build                   </td><td>0.54703723              </td><td>0.2552982820            </td><td>1.976645e-01            </td><td>0                       </td><td>0                       </td><td>T2_Win                  </td></tr>\n",
       "\t<tr><td>59d153c648250812289fb7db</td><td>2017-10-14 14:00:00     </td><td>Burnley                 </td><td>1                       </td><td>West Ham                </td><td>1                       </td><td> 0.239099730            </td><td> 0.21822194             </td><td> 0.22274381             </td><td>-0.3385736              </td><td>...                     </td><td> 0.44334286             </td><td>-1.643253               </td><td> 0.23240903             </td><td>build                   </td><td>0.54482149              </td><td>0.2342016607            </td><td>2.209768e-01            </td><td>0                       </td><td>1                       </td><td>Draw                    </td></tr>\n",
       "\t<tr><td>59d153c948250812289fb7e0</td><td>2017-10-14 16:30:00     </td><td>Watford                 </td><td>2                       </td><td>Arsenal                 </td><td>1                       </td><td>-1.636368929            </td><td>-1.69443277             </td><td>-1.69524962             </td><td>-0.3385736              </td><td>...                     </td><td>-1.61661530             </td><td>-1.411712               </td><td>-1.70803532             </td><td>build                   </td><td>0.17668475              </td><td>0.2378546210            </td><td>5.854606e-01            </td><td>1                       </td><td>0                       </td><td>T1_Win                  </td></tr>\n",
       "\t<tr><td>59d153cb48250812289fb7e2</td><td>2017-10-15 15:00:00     </td><td>Southampton             </td><td>2                       </td><td>Newcastle Utd           </td><td>2                       </td><td> 0.118472015            </td><td> 0.16320834             </td><td> 0.18300086             </td><td>-0.3385736              </td><td>...                     </td><td> 0.46549526             </td><td>-1.432527               </td><td> 0.08809345             </td><td>build                   </td><td>0.45470730              </td><td>0.2334000736            </td><td>3.118926e-01            </td><td>0                       </td><td>1                       </td><td>Draw                    </td></tr>\n",
       "\t<tr><td>59d3f462482508115887068d</td><td>2017-10-16 19:00:00     </td><td>Leicester               </td><td>1                       </td><td>West Brom               </td><td>1                       </td><td> 0.341123556            </td><td> 0.34684589             </td><td> 0.34405140             </td><td>-0.3385736              </td><td>...                     </td><td> 0.64970958             </td><td>-1.442919               </td><td> 0.26108882             </td><td>build                   </td><td>0.56318128              </td><td>0.2853013305            </td><td>1.515174e-01            </td><td>0                       </td><td>1                       </td><td>Draw                    </td></tr>\n",
       "\t<tr><td>59dbb63a4825080bdbe14824</td><td>2017-10-21 14:00:00     </td><td>Huddersfield            </td><td>2                       </td><td>Manchester United       </td><td>1                       </td><td>-2.637369714            </td><td>-2.58950041             </td><td>-2.58978074             </td><td>-0.3385736              </td><td>...                     </td><td>-2.30237998             </td><td>-1.473919               </td><td>-2.65803309             </td><td>build                   </td><td>0.14471735              </td><td>0.4720192615            </td><td>3.832634e-01            </td><td>1                       </td><td>0                       </td><td>T1_Win                  </td></tr>\n",
       "\t<tr><td>59dbb63d4825080bdbe14829</td><td>2017-10-21 16:30:00     </td><td>Southampton             </td><td>1                       </td><td>West Brom               </td><td>0                       </td><td> 0.248059806            </td><td> 0.17449090             </td><td> 0.19288003             </td><td>-0.3385736              </td><td>...                     </td><td> 0.92975410             </td><td>-1.440943               </td><td> 0.15939706             </td><td>build                   </td><td>0.50191739              </td><td>0.2970609777            </td><td>2.010216e-01            </td><td>1                       </td><td>0                       </td><td>T1_Win                  </td></tr>\n",
       "\t<tr><td>59e2710848250813c1940cb0</td><td>2017-10-28 14:00:00     </td><td>Arsenal                 </td><td>2                       </td><td>Swansea                 </td><td>1                       </td><td> 1.486793074            </td><td> 1.55420483             </td><td> 1.55334977             </td><td>-0.3385736              </td><td>...                     </td><td>-0.51077062             </td><td>-1.400228               </td><td> 1.50831267             </td><td>build                   </td><td>0.74039197              </td><td>0.1603792357            </td><td>9.922880e-02            </td><td>1                       </td><td>0                       </td><td>T1_Win                  </td></tr>\n",
       "\t<tr><td>59e2710948250813c1940cb1</td><td>2017-10-28 14:00:00     </td><td>Crystal Palace          </td><td>2                       </td><td>West Ham                </td><td>2                       </td><td>-0.225299163            </td><td>-0.33515865             </td><td>-0.32704901             </td><td>-0.3385736              </td><td>...                     </td><td> 0.28688937             </td><td>-1.492700               </td><td>-0.37538358             </td><td>build                   </td><td>0.53736952              </td><td>0.0959948180            </td><td>3.666357e-01            </td><td>0                       </td><td>1                       </td><td>Draw                    </td></tr>\n",
       "\t<tr><td>59e2710948250813c1940cb2</td><td>2017-10-28 14:00:00     </td><td>Liverpool               </td><td>3                       </td><td>Huddersfield            </td><td>0                       </td><td> 2.014378268            </td><td> 2.05483085             </td><td> 2.07326468             </td><td>-0.3385736              </td><td>...                     </td><td>-0.26858286             </td><td>-1.418125               </td><td> 2.03719517             </td><td>build                   </td><td>0.99977480              </td><td>0.0002128839            </td><td>1.232002e-05            </td><td>1                       </td><td>0                       </td><td>T1_Win                  </td></tr>\n",
       "\t<tr><td>59e2710a48250813c1940cb4</td><td>2017-10-28 14:00:00     </td><td>West Brom               </td><td>2                       </td><td>Manchester City         </td><td>3                       </td><td>-2.449294845            </td><td>-2.30947759             </td><td>-2.31356666             </td><td>-0.3385736              </td><td>...                     </td><td>-0.70291756             </td><td>-1.438955               </td><td>-2.38129632             </td><td>build                   </td><td>0.07770327              </td><td>0.1837076414            </td><td>7.385891e-01            </td><td>0                       </td><td>0                       </td><td>T2_Win                  </td></tr>\n",
       "\t<tr><td>59e3c815482508497e129ee6</td><td>2017-10-29 13:30:00     </td><td>Brighton                </td><td>1                       </td><td>Southampton             </td><td>1                       </td><td>-0.325354372            </td><td>-0.33410446             </td><td>-0.34430380             </td><td>-0.3385736              </td><td>...                     </td><td>-0.35288144             </td><td>-1.487989               </td><td>-0.30559986             </td><td>build                   </td><td>0.38201012              </td><td>0.4021228823            </td><td>2.158670e-01            </td><td>0                       </td><td>1                       </td><td>Draw                    </td></tr>\n",
       "\t<tr><td>59e658da4825081e87f447c1</td><td>2017-10-30 20:00:00     </td><td>Burnley                 </td><td>1                       </td><td>Newcastle Utd           </td><td>0                       </td><td> 0.001516272            </td><td> 0.10097728             </td><td> 0.09902837             </td><td>-0.3385736              </td><td>...                     </td><td> 0.28146570             </td><td>-1.423801               </td><td> 0.01418400             </td><td>build                   </td><td>0.43420831              </td><td>0.2546467619            </td><td>3.111449e-01            </td><td>1                       </td><td>0                       </td><td>T1_Win                  </td></tr>\n",
       "\t<tr><td>59ee280a4825080b9ed279d0</td><td>2017-11-05 14:15:00     </td><td>Manchester City         </td><td>3                       </td><td>Arsenal                 </td><td>1                       </td><td> 1.039834378            </td><td> 1.18472072             </td><td> 1.21644399             </td><td> 2.9535677              </td><td>...                     </td><td>-1.43001915             </td><td>-1.562839               </td><td> 1.23575284             </td><td>build                   </td><td>0.50678507              </td><td>0.1778655438            </td><td>3.153494e-01            </td><td>1                       </td><td>0                       </td><td>T1_Win                  </td></tr>\n",
       "\t<tr><td>59fe4df04825080beffcd886</td><td>2017-11-18 15:00:00     </td><td>Liverpool               </td><td>3                       </td><td>Southampton             </td><td>0                       </td><td> 1.079273813            </td><td> 1.18898850             </td><td> 1.17587945             </td><td> 2.9535677              </td><td>...                     </td><td>-0.11085880             </td><td>-1.457527               </td><td> 1.14451752             </td><td>build                   </td><td>0.53436243              </td><td>0.3110761375            </td><td>1.545614e-01            </td><td>1                       </td><td>0                       </td><td>T1_Win                  </td></tr>\n",
       "\t<tr><td>5a00efc34825081984b461cd</td><td>2017-11-20 20:00:00     </td><td>Brighton                </td><td>2                       </td><td>Stoke City              </td><td>2                       </td><td> 0.093640502            </td><td> 0.08775050             </td><td> 0.09692052             </td><td> 2.9535677              </td><td>...                     </td><td> 0.18973129             </td><td>-1.347311               </td><td> 0.15473719             </td><td>build                   </td><td>0.47502712              </td><td>0.4090033281            </td><td>1.159696e-01            </td><td>0                       </td><td>1                       </td><td>Draw                    </td></tr>\n",
       "\t<tr><td>5a08cab648250813a77a4032</td><td>2017-11-26 13:30:00     </td><td>Southampton             </td><td>4                       </td><td>Everton                 </td><td>1                       </td><td>-0.223878647            </td><td>-0.25178860             </td><td>-0.23450098             </td><td> 2.9535677              </td><td>...                     </td><td>-0.04125162             </td><td>-1.374314               </td><td>-0.18655268             </td><td>build                   </td><td>0.30811088              </td><td>0.4238950170            </td><td>2.679941e-01            </td><td>1                       </td><td>0                       </td><td>T1_Win                  </td></tr>\n",
       "\t<tr><td>5a08cab648250813a77a4033</td><td>2017-11-26 14:00:00     </td><td>Burnley                 </td><td>0                       </td><td>Arsenal                 </td><td>1                       </td><td>-1.117428541            </td><td>-1.04922785             </td><td>-1.04115296             </td><td> 2.9535677              </td><td>...                     </td><td>-0.87499658             </td><td>-1.413066               </td><td>-1.03655937             </td><td>build                   </td><td>0.19325401              </td><td>0.2748294234            </td><td>5.319166e-01            </td><td>0                       </td><td>0                       </td><td>T2_Win                  </td></tr>\n",
       "\t<tr><td>5a08cab648250813a77a4034</td><td>2017-11-26 16:00:00     </td><td>Huddersfield            </td><td>1                       </td><td>Manchester City         </td><td>2                       </td><td>-3.432138389            </td><td>-3.25224439             </td><td>-3.26667104             </td><td> 2.9535677              </td><td>...                     </td><td>-0.28044017             </td><td>-1.451780               </td><td>-3.26811042             </td><td>build                   </td><td>0.08086863              </td><td>0.4728279902            </td><td>4.463034e-01            </td><td>0                       </td><td>0                       </td><td>T2_Win                  </td></tr>\n",
       "\t<tr><td>5a0c9ccc4825080cc88ed833</td><td>2017-11-29 19:45:00     </td><td>Arsenal                 </td><td>5                       </td><td>Huddersfield            </td><td>0                       </td><td> 2.359762426            </td><td> 2.36842053             </td><td> 2.36888852             </td><td> 2.9535677              </td><td>...                     </td><td>-0.03124246             </td><td>-1.390302               </td><td> 2.35119103             </td><td>build                   </td><td>0.99970356              </td><td>0.0002815881            </td><td>1.485415e-05            </td><td>1                       </td><td>0                       </td><td>T1_Win                  </td></tr>\n",
       "\t<tr><td>5a0e063f48250809b11b6aed</td><td>2017-11-29 20:00:00     </td><td>Everton                 </td><td>4                       </td><td>West Ham                </td><td>0                       </td><td> 0.527125631            </td><td> 0.51422454             </td><td> 0.52810809             </td><td> 2.9535677              </td><td>...                     </td><td> 0.64693925             </td><td>-1.308335               </td><td> 0.42281545             </td><td>build                   </td><td>0.57421204              </td><td>0.2407312284            </td><td>1.850567e-01            </td><td>1                       </td><td>0                       </td><td>T1_Win                  </td></tr>\n",
       "\t<tr><td>5a0e063f48250809b11b6aee</td><td>2017-11-29 20:00:00     </td><td>Manchester City         </td><td>2                       </td><td>Southampton             </td><td>1                       </td><td> 2.166772356            </td><td> 2.28765993             </td><td> 2.28798061             </td><td> 2.9535677              </td><td>...                     </td><td>-0.51486504             </td><td>-1.290548               </td><td> 2.29194216             </td><td>build                   </td><td>0.68982621              </td><td>0.1684754355            </td><td>1.416984e-01            </td><td>1                       </td><td>0                       </td><td>T1_Win                  </td></tr>\n",
       "\t<tr><td>5a120d709772221454d5f49b</td><td>2017-12-02 15:00:00     </td><td>Leicester               </td><td>1                       </td><td>Burnley                 </td><td>0                       </td><td> 0.104588760            </td><td> 0.17877223             </td><td> 0.18401173             </td><td>-0.3385736              </td><td>...                     </td><td> 1.44281145             </td><td>-1.455926               </td><td> 0.02306867             </td><td>build                   </td><td>0.57347042              </td><td>0.2553888946            </td><td>1.711407e-01            </td><td>1                       </td><td>0                       </td><td>T1_Win                  </td></tr>\n",
       "\t<tr><td>5a120d709772221454d5f49d</td><td>2017-12-02 15:00:00     </td><td>Watford                 </td><td>1                       </td><td>Tottenham               </td><td>1                       </td><td>-1.948430942            </td><td>-1.98951429             </td><td>-2.01486575             </td><td>-0.3385736              </td><td>...                     </td><td>-1.24835970             </td><td>-1.473878               </td><td>-1.98803603             </td><td>build                   </td><td>0.19130238              </td><td>0.2791567201            </td><td>5.295409e-01            </td><td>0                       </td><td>1                       </td><td>Draw                    </td></tr>\n",
       "\t<tr><td>5a120d709772221454d5f4a1</td><td>2017-12-03 16:00:00     </td><td>Manchester City         </td><td>2                       </td><td>West Ham                </td><td>1                       </td><td> 2.780657831            </td><td> 2.82778485             </td><td> 2.84203281             </td><td>-0.3385736              </td><td>...                     </td><td>-0.05933733             </td><td>-1.525527               </td><td> 2.86978208             </td><td>build                   </td><td>0.85291976              </td><td>0.0843791037            </td><td>6.270114e-02            </td><td>1                       </td><td>0                       </td><td>T1_Win                  </td></tr>\n",
       "</tbody>\n",
       "</table>\n"
      ],
      "text/latex": [
       "\\begin{tabular}{r|lllllllllllllllllllll}\n",
       " id & date & team\\_1\\_name & team\\_1\\_score & team\\_2\\_name & team\\_2\\_score & d\\_ability\\_1 & d\\_ability\\_3 & d\\_ability\\_4 & is\\_november & ... & d\\_form\\_4 & d\\_h2h\\_2 & c\\_ability\\_3 & datatype & team\\_1\\_prob & team\\_tie\\_prob & team\\_2\\_prob & team\\_1\\_win & team\\_1\\_draw & team\\_1\\_result\\\\\n",
       "\\hline\n",
       "\t 5969fbdb482508368995688c & 2004-02-21 12:30:00      & Chelsea                  & 1                        & Arsenal                  & 2                        &  0.0963162398            & -0.002805337             & -0.009214321             & -0.3385736               & ...                      &        NaN               &       NaN                &  0.019748112             & build                    &        NA                &           NA             &           NA             & 0                        & 0                        & T2\\_Win                \\\\\n",
       "\t 5969fbdb4825083689956886 & 2004-02-22 12:00:00      & Aston Villa              & 2                        & Birmingham               & 2                        & -0.0507959941            & -0.142396125             & -0.143272156             & -0.3385736               & ...                      &        NaN               &       NaN                & -0.127973029             & build                    &        NA                &           NA             &           NA             & 0                        & 1                        & Draw                    \\\\\n",
       "\t 5969fbdb4825083689956884 & 2004-02-28 15:00:00      & Manchester City          & 0                        & Chelsea                  & 1                        &  0.0328038621            & -0.063390990             & -0.067506462             & -0.3385736               & ...                      &        NaN               &       NaN                & -0.042838158             & build                    &        NA                &           NA             &           NA             & 0                        & 0                        & T2\\_Win                \\\\\n",
       "\t 5969fbdb482508368995687e & 2004-02-29 12:00:00      & Leeds                    & 2                        & Liverpool                & 2                        & -0.0125381155            & -0.106299213             & -0.108569825             & -0.3385736               & ...                      &        NaN               &       NaN                & -0.089546820             & build                    &        NA                &           NA             &           NA             & 0                        & 1                        & Draw                    \\\\\n",
       "\t 5969fbdb482508368995687c & 2004-03-03 19:45:00      & Birmingham               & 3                        & Middlesbrough            & 1                        &  0.0981540809            &  0.015951228             &  0.009190359             & -0.3385736               & ...                      & -1.1856901               & 0.3780927                &  0.038883800             & build                    & 0.4281393                & 0.4463332876             & 1.255274e-01             & 1                        & 0                        & T1\\_Win                \\\\\n",
       "\t 5969fbdb482508368995687a & 2004-03-09 20:00:00      & Middlesbrough            & 1                        & Tottenham                & 0                        & -0.1134597655            & -0.201726629             & -0.200383470             & -0.3385736               & ...                      &        NaN               &       NaN                & -0.188990861             & build                    &        NA                &           NA             &           NA             & 1                        & 0                        & T1\\_Win                \\\\\n",
       "\t 5969fbdb4825083689956878 & 2004-03-13 15:00:00      & Fulham                   & 2                        & Leeds                    & 0                        & -0.0851461365            & -0.183652945             & -0.183055761             & -0.3385736               & ...                      &  0.9000277               & 0.4140936                & -0.182476445             & build                    & 0.9996791                & 0.0002614126             & 5.949403e-05             & 1                        & 0                        & T1\\_Win                \\\\\n",
       "\t 5969fbda4825083689956873 & 2004-03-14 12:30:00      & Wolves                   & 0                        & Aston Villa              & 4                        &  0.0717327485            & -0.021717591             & -0.027248693             & -0.3385736               & ...                      & -0.3525099               & 0.2114271                & -0.003848086             & build                    & 0.1732103                & 0.2589195706             & 5.678701e-01             & 0                        & 0                        & T2\\_Win                \\\\\n",
       "\t 5969fbda4825083689956870 & 2004-03-14 16:05:00      & Southampton              & 2                        & Liverpool                & 0                        & -0.0396514549            & -0.133618361             & -0.134723936             & -0.3385736               & ...                      & -0.3435163               & 0.3449720                & -0.124009082             & build                    & 0.5266537                & 0.2132437426             & 2.601026e-01             & 1                        & 0                        & T1\\_Win                \\\\\n",
       "\t 5969fbda482508368995686f & 2004-03-17 20:00:00      & Liverpool                & 3                        & Portsmouth               & 0                        &  0.1001943339            &  0.004496722             & -0.001922372             & -0.3385736               & ...                      &  0.5273457               & 0.4177098                &  0.029540874             & build                    & 0.7139068                & 0.1862956090             & 9.979760e-02             & 1                        & 0                        & T1\\_Win                \\\\\n",
       "\t 5969fbd44825083689956866 & 2004-03-21 16:05:00      & Portsmouth               & 1                        & Southampton              & 0                        & -0.2901642984            & -0.383953401             & -0.375776109             & -0.3385736               & ...                      & -1.1441728               & 0.5620141                & -0.394595112             & build                    & 0.4343303                & 0.2688584505             & 2.968113e-01             & 1                        & 0                        & T1\\_Win                \\\\\n",
       "\t 5969fbd3482508368995685c & 2004-03-28 14:00:00      & Leicester                & 0                        & Liverpool                & 0                        & -0.0428392356            & -0.137752183             & -0.139016076             & -0.3385736               & ...                      & -0.7193277               & 0.6354406                & -0.125417112             & build                    & 0.6666016                & 0.1778764371             & 1.555220e-01             & 0                        & 1                        & Draw                    \\\\\n",
       "\t 5969fbd34825083689956859 & 2004-04-03 14:00:00      & Tottenham                & 0                        & Chelsea                  & 1                        & -0.3547222191            & -0.429193520             & -0.418640898             & -0.3385736               & ...                      &  1.0891405               & 0.5697962                & -0.434705576             & build                    & 0.4549519                & 0.2003995787             & 3.446485e-01             & 0                        & 0                        & T2\\_Win                \\\\\n",
       "\t 5969fbd34825083689956853 & 2004-04-05 19:00:00      & Leeds                    & 3                        & Leicester                & 2                        & -0.1743305081            & -0.256774614             & -0.252958435             & -0.3385736               & ...                      & -1.1329431               & 0.6653459                & -0.251267125             & build                    & 0.3063257                & 0.4905590133             & 2.031153e-01             & 1                        & 0                        & T1\\_Win                \\\\\n",
       "\t 5969fbd34825083689956850 & 2004-04-10 14:00:00      & Manchester City          & 3                        & Wolves                   & 3                        &  0.4608182688            &  0.348220323             &  0.338987705             & -0.3385736               & ...                      &  2.3600523               & 0.6218460                &  0.393288453             & build                    & 0.7018647                & 0.1794754708             & 1.186598e-01             & 0                        & 1                        & Draw                    \\\\\n",
       "\t 5969fbd3482508368995684a & 2004-04-10 14:00:00      & Birmingham               & 1                        & Manchester United        & 2                        &  0.2409031237            &  0.175928189             &  0.164650385             & -0.3385736               & ...                      & -0.4115202               & 0.7126516                &  0.212314676             & build                    & 0.2525355                & 0.4517862205             & 2.956783e-01             & 0                        & 0                        & T2\\_Win                \\\\\n",
       "\t 5969fbd3482508368995684b & 2004-04-10 14:00:00      & Blackburn                & 1                        & Leeds                    & 2                        & -0.1272897307            & -0.239128759             & -0.245068002             & -0.3385736               & ...                      &  1.1654105               & 0.6467758                & -0.247679686             & build                    & 0.9995486                & 0.0003752596             & 7.615530e-05             & 0                        & 0                        & T2\\_Win                \\\\\n",
       "\t 5969fbd3482508368995684e & 2004-04-10 14:00:00      & Chelsea                  & 0                        & Middlesbrough            & 0                        &  0.2313095511            &  0.137221983             &  0.126118602             & -0.3385736               & ...                      & -1.7397098               & 0.6875901                &  0.165591776             & build                    & 0.7285591                & 0.2320504897             & 3.939042e-02             & 0                        & 1                        & Draw                    \\\\\n",
       "\t 5969fbd34825083689956847 & 2004-04-12 14:00:00      & Tottenham                & 1                        & Manchester City          & 1                        & -0.2233998988            & -0.310604058             & -0.305534275             & -0.3385736               & ...                      &  0.4281003               & 0.5280532                & -0.308703706             & build                    & 0.6007688                & 0.2141153122             & 1.851159e-01             & 0                        & 1                        & Draw                    \\\\\n",
       "\t 5969fbd34825083689956846 & 2004-04-12 14:00:00      & Portsmouth               & 3                        & Birmingham               & 1                        & -0.2749301879            & -0.363785120             & -0.357680303             & -0.3385736               & ...                      & -0.2114655               & 0.5759401                & -0.359989560             & build                    & 0.5241114                & 0.2862346829             & 1.896540e-01             & 1                        & 0                        & T1\\_Win                \\\\\n",
       "\t 5969fbd34825083689956845 & 2004-04-12 14:00:00      & Middlesbrough            & 3                        & Southampton              & 1                        & -0.0458148905            & -0.112710951             & -0.114726419             & -0.3385736               & ...                      &  0.1085665               & 0.5316914                & -0.085611109             & build                    & 0.4827586                & 0.2689133705             & 2.483280e-01             & 1                        & 0                        & T1\\_Win                \\\\\n",
       "\t 5969fbcc482508368995683a & 2004-04-17 14:00:00      & Liverpool                & 0                        & Fulham                   & 0                        &  0.1176446368            &  0.051667542             &  0.054473100             & -0.3385736               & ...                      & -0.5460027               & 0.6128846                &  0.080408575             & build                    & 0.6962020                & 0.2456875105             & 5.811048e-02             & 0                        & 1                        & Draw                    \\\\\n",
       "\t 5969fbcc482508368995683c & 2004-04-17 14:00:00      & Wolves                   & 2                        & Middlesbrough            & 0                        & -0.5896502538            & -0.699223447             & -0.690402015             & -0.3385736               & ...                      &  0.1353500               & 0.6570521                & -0.748051035             & build                    & 0.3057956                & 0.3215915643             & 3.726129e-01             & 1                        & 0                        & T1\\_Win                \\\\\n",
       "\t 5969fbcc4825083689956836 & 2004-04-18 13:00:00      & Aston Villa              & 0                        & Newcastle Utd            & 0                        &  0.0114330477            & -0.093477778             & -0.087186144             & -0.3385736               & ...                      &  0.7391891               & 0.6445707                & -0.083329365             & build                    & 0.4462733                & 0.2876231066             & 2.661036e-01             & 0                        & 1                        & Draw                    \\\\\n",
       "\t 5969fbcc4825083689956833 & 2004-04-24 14:00:00      & Middlesbrough            & 1                        & Aston Villa              & 2                        &  0.0120086883            & -0.050783616             & -0.064271217             & -0.3385736               & ...                      & -0.9928073               & 0.6478911                & -0.018491701             & build                    & 0.3942890                & 0.3126795245             & 2.930315e-01             & 0                        & 0                        & T2\\_Win                \\\\\n",
       "\t 5969fbcc4825083689956832 & 2004-04-24 14:00:00      & Manchester United        & 0                        & Liverpool                & 1                        & -0.0009941148            & -0.072001191             & -0.084072509             & -0.3385736               & ...                      & -0.2372807               & 0.5574651                & -0.041698365             & build                    & 0.7288820                & 0.1296610066             & 1.414570e-01             & 0                        & 0                        & T2\\_Win                \\\\\n",
       "\t 5969fbcc482508368995682f & 2004-04-24 14:00:00      & Everton                  & 0                        & Blackburn                & 1                        &  0.2349935784            &  0.148851539             &  0.145050430             & -0.3385736               & ...                      & -0.7080666               & 0.5539636                &  0.191346192             & build                    & 0.5905536                & 0.2555416705             & 1.539048e-01             & 0                        & 0                        & T2\\_Win                \\\\\n",
       "\t 5969fbcc482508368995682c & 2004-04-25 13:00:00      & Newcastle Utd            & 2                        & Chelsea                  & 1                        & -0.1355478495            & -0.203585934             & -0.202350438             & -0.3385736               & ...                      & -1.2790174               & 0.5204134                & -0.187697526             & build                    & 0.4027017                & 0.2214290502             & 3.758692e-01             & 1                        & 0                        & T1\\_Win                \\\\\n",
       "\t 5969fbcc4825083689956829 & 2004-05-01 14:00:00      & Wolves                   & 2                        & Everton                  & 1                        & -0.2624654330            & -0.375369216             & -0.379219583             & -0.3385736               & ...                      &  1.4893741               & 0.6196362                & -0.390838478             & build                    & 0.1812016                & 0.3722125200             & 4.465859e-01             & 1                        & 0                        & T1\\_Win                \\\\\n",
       "\t 5969fbcc4825083689956823 & 2004-05-02 13:00:00      & Bolton                   & 4                        & Leeds                    & 1                        &  0.2046687261            &  0.090562044             &  0.090297662             & -0.3385736               & ...                      &  0.9567446               & 0.6920993                &  0.118417066             & build                    & 0.9996528                & 0.0002892813             & 5.796645e-05             & 1                        & 0                        & T1\\_Win                \\\\\n",
       "\t ... & ... & ... & ... & ... & ... & ... & ... & ... & ... &     & ... & ... & ... & ... & ... & ... & ... & ... & ... & ...\\\\\n",
       "\t 59b50c804825080c2d524c8e & 2017-09-23 14:00:00      & Swansea                  & 1                        & Watford                  & 2                        &  0.368522610             &  0.26881167              &  0.26541786              & -0.3385736               & ...                      &  0.81552695              & -1.572533                &  0.23503815              & build                    & 0.58493419               & 0.2248359139             & 1.902299e-01             & 0                        & 0                        & T2\\_Win                \\\\\n",
       "\t 59b50c7c4825080c2d524c89 & 2017-09-23 14:00:00      & Burnley                  & 0                        & Huddersfield             & 0                        &  1.109564969             &  1.05915935              &  1.06089590              & -0.3385736               & ...                      & -1.23184777              & -1.533941                &  1.07681909              & build                    & 0.99965650               & 0.0003118725             & 3.162448e-05             & 0                        & 1                        & Draw                    \\\\\n",
       "\t 59b50c7d4825080c2d524c8b & 2017-09-23 14:00:00      & Manchester City          & 5                        & Crystal Palace           & 0                        &  2.374909094             &  2.38336184              &  2.39659266              & -0.3385736               & ...                      & -0.14691059              & -1.441273                &  2.37712746              & build                    & 0.81813684               & 0.1011424267             & 8.072074e-02             & 1                        & 0                        & T1\\_Win                \\\\\n",
       "\t 59b50c804825080c2d524c8f & 2017-09-23 16:30:00      & Leicester                & 2                        & Liverpool                & 3                        & -0.885124886             & -0.73046593              & -0.73544688              & -0.3385736               & ...                      & -1.13632813              & -1.642036                & -0.75325840              & build                    & 0.35936716               & 0.2182074090             & 4.224254e-01             & 0                        & 0                        & T2\\_Win                \\\\\n",
       "\t 59c1572f48250809e4273432 & 2017-09-30 14:00:00      & West Ham                 & 1                        & Swansea                  & 0                        &  0.034902725             & -0.01765965              & -0.01821871              & -0.3385736               & ...                      &  0.17475932              & -1.674759                & -0.10945503              & build                    & 0.52130016               & 0.1738937188             & 3.048061e-01             & 1                        & 0                        & T1\\_Win                \\\\\n",
       "\t 59c1573148250809e4273435 & 2017-10-01 13:15:00      & Everton                  & 0                        & Burnley                  & 1                        &  0.467714613             &  0.54734374              &  0.55432465              & -0.3385736               & ...                      &  2.00678523              & -1.612649                &  0.50428897              & build                    & 0.54703723               & 0.2552982820             & 1.976645e-01             & 0                        & 0                        & T2\\_Win                \\\\\n",
       "\t 59d153c648250812289fb7db & 2017-10-14 14:00:00      & Burnley                  & 1                        & West Ham                 & 1                        &  0.239099730             &  0.21822194              &  0.22274381              & -0.3385736               & ...                      &  0.44334286              & -1.643253                &  0.23240903              & build                    & 0.54482149               & 0.2342016607             & 2.209768e-01             & 0                        & 1                        & Draw                    \\\\\n",
       "\t 59d153c948250812289fb7e0 & 2017-10-14 16:30:00      & Watford                  & 2                        & Arsenal                  & 1                        & -1.636368929             & -1.69443277              & -1.69524962              & -0.3385736               & ...                      & -1.61661530              & -1.411712                & -1.70803532              & build                    & 0.17668475               & 0.2378546210             & 5.854606e-01             & 1                        & 0                        & T1\\_Win                \\\\\n",
       "\t 59d153cb48250812289fb7e2 & 2017-10-15 15:00:00      & Southampton              & 2                        & Newcastle Utd            & 2                        &  0.118472015             &  0.16320834              &  0.18300086              & -0.3385736               & ...                      &  0.46549526              & -1.432527                &  0.08809345              & build                    & 0.45470730               & 0.2334000736             & 3.118926e-01             & 0                        & 1                        & Draw                    \\\\\n",
       "\t 59d3f462482508115887068d & 2017-10-16 19:00:00      & Leicester                & 1                        & West Brom                & 1                        &  0.341123556             &  0.34684589              &  0.34405140              & -0.3385736               & ...                      &  0.64970958              & -1.442919                &  0.26108882              & build                    & 0.56318128               & 0.2853013305             & 1.515174e-01             & 0                        & 1                        & Draw                    \\\\\n",
       "\t 59dbb63a4825080bdbe14824 & 2017-10-21 14:00:00      & Huddersfield             & 2                        & Manchester United        & 1                        & -2.637369714             & -2.58950041              & -2.58978074              & -0.3385736               & ...                      & -2.30237998              & -1.473919                & -2.65803309              & build                    & 0.14471735               & 0.4720192615             & 3.832634e-01             & 1                        & 0                        & T1\\_Win                \\\\\n",
       "\t 59dbb63d4825080bdbe14829 & 2017-10-21 16:30:00      & Southampton              & 1                        & West Brom                & 0                        &  0.248059806             &  0.17449090              &  0.19288003              & -0.3385736               & ...                      &  0.92975410              & -1.440943                &  0.15939706              & build                    & 0.50191739               & 0.2970609777             & 2.010216e-01             & 1                        & 0                        & T1\\_Win                \\\\\n",
       "\t 59e2710848250813c1940cb0 & 2017-10-28 14:00:00      & Arsenal                  & 2                        & Swansea                  & 1                        &  1.486793074             &  1.55420483              &  1.55334977              & -0.3385736               & ...                      & -0.51077062              & -1.400228                &  1.50831267              & build                    & 0.74039197               & 0.1603792357             & 9.922880e-02             & 1                        & 0                        & T1\\_Win                \\\\\n",
       "\t 59e2710948250813c1940cb1 & 2017-10-28 14:00:00      & Crystal Palace           & 2                        & West Ham                 & 2                        & -0.225299163             & -0.33515865              & -0.32704901              & -0.3385736               & ...                      &  0.28688937              & -1.492700                & -0.37538358              & build                    & 0.53736952               & 0.0959948180             & 3.666357e-01             & 0                        & 1                        & Draw                    \\\\\n",
       "\t 59e2710948250813c1940cb2 & 2017-10-28 14:00:00      & Liverpool                & 3                        & Huddersfield             & 0                        &  2.014378268             &  2.05483085              &  2.07326468              & -0.3385736               & ...                      & -0.26858286              & -1.418125                &  2.03719517              & build                    & 0.99977480               & 0.0002128839             & 1.232002e-05             & 1                        & 0                        & T1\\_Win                \\\\\n",
       "\t 59e2710a48250813c1940cb4 & 2017-10-28 14:00:00      & West Brom                & 2                        & Manchester City          & 3                        & -2.449294845             & -2.30947759              & -2.31356666              & -0.3385736               & ...                      & -0.70291756              & -1.438955                & -2.38129632              & build                    & 0.07770327               & 0.1837076414             & 7.385891e-01             & 0                        & 0                        & T2\\_Win                \\\\\n",
       "\t 59e3c815482508497e129ee6 & 2017-10-29 13:30:00      & Brighton                 & 1                        & Southampton              & 1                        & -0.325354372             & -0.33410446              & -0.34430380              & -0.3385736               & ...                      & -0.35288144              & -1.487989                & -0.30559986              & build                    & 0.38201012               & 0.4021228823             & 2.158670e-01             & 0                        & 1                        & Draw                    \\\\\n",
       "\t 59e658da4825081e87f447c1 & 2017-10-30 20:00:00      & Burnley                  & 1                        & Newcastle Utd            & 0                        &  0.001516272             &  0.10097728              &  0.09902837              & -0.3385736               & ...                      &  0.28146570              & -1.423801                &  0.01418400              & build                    & 0.43420831               & 0.2546467619             & 3.111449e-01             & 1                        & 0                        & T1\\_Win                \\\\\n",
       "\t 59ee280a4825080b9ed279d0 & 2017-11-05 14:15:00      & Manchester City          & 3                        & Arsenal                  & 1                        &  1.039834378             &  1.18472072              &  1.21644399              &  2.9535677               & ...                      & -1.43001915              & -1.562839                &  1.23575284              & build                    & 0.50678507               & 0.1778655438             & 3.153494e-01             & 1                        & 0                        & T1\\_Win                \\\\\n",
       "\t 59fe4df04825080beffcd886 & 2017-11-18 15:00:00      & Liverpool                & 3                        & Southampton              & 0                        &  1.079273813             &  1.18898850              &  1.17587945              &  2.9535677               & ...                      & -0.11085880              & -1.457527                &  1.14451752              & build                    & 0.53436243               & 0.3110761375             & 1.545614e-01             & 1                        & 0                        & T1\\_Win                \\\\\n",
       "\t 5a00efc34825081984b461cd & 2017-11-20 20:00:00      & Brighton                 & 2                        & Stoke City               & 2                        &  0.093640502             &  0.08775050              &  0.09692052              &  2.9535677               & ...                      &  0.18973129              & -1.347311                &  0.15473719              & build                    & 0.47502712               & 0.4090033281             & 1.159696e-01             & 0                        & 1                        & Draw                    \\\\\n",
       "\t 5a08cab648250813a77a4032 & 2017-11-26 13:30:00      & Southampton              & 4                        & Everton                  & 1                        & -0.223878647             & -0.25178860              & -0.23450098              &  2.9535677               & ...                      & -0.04125162              & -1.374314                & -0.18655268              & build                    & 0.30811088               & 0.4238950170             & 2.679941e-01             & 1                        & 0                        & T1\\_Win                \\\\\n",
       "\t 5a08cab648250813a77a4033 & 2017-11-26 14:00:00      & Burnley                  & 0                        & Arsenal                  & 1                        & -1.117428541             & -1.04922785              & -1.04115296              &  2.9535677               & ...                      & -0.87499658              & -1.413066                & -1.03655937              & build                    & 0.19325401               & 0.2748294234             & 5.319166e-01             & 0                        & 0                        & T2\\_Win                \\\\\n",
       "\t 5a08cab648250813a77a4034 & 2017-11-26 16:00:00      & Huddersfield             & 1                        & Manchester City          & 2                        & -3.432138389             & -3.25224439              & -3.26667104              &  2.9535677               & ...                      & -0.28044017              & -1.451780                & -3.26811042              & build                    & 0.08086863               & 0.4728279902             & 4.463034e-01             & 0                        & 0                        & T2\\_Win                \\\\\n",
       "\t 5a0c9ccc4825080cc88ed833 & 2017-11-29 19:45:00      & Arsenal                  & 5                        & Huddersfield             & 0                        &  2.359762426             &  2.36842053              &  2.36888852              &  2.9535677               & ...                      & -0.03124246              & -1.390302                &  2.35119103              & build                    & 0.99970356               & 0.0002815881             & 1.485415e-05             & 1                        & 0                        & T1\\_Win                \\\\\n",
       "\t 5a0e063f48250809b11b6aed & 2017-11-29 20:00:00      & Everton                  & 4                        & West Ham                 & 0                        &  0.527125631             &  0.51422454              &  0.52810809              &  2.9535677               & ...                      &  0.64693925              & -1.308335                &  0.42281545              & build                    & 0.57421204               & 0.2407312284             & 1.850567e-01             & 1                        & 0                        & T1\\_Win                \\\\\n",
       "\t 5a0e063f48250809b11b6aee & 2017-11-29 20:00:00      & Manchester City          & 2                        & Southampton              & 1                        &  2.166772356             &  2.28765993              &  2.28798061              &  2.9535677               & ...                      & -0.51486504              & -1.290548                &  2.29194216              & build                    & 0.68982621               & 0.1684754355             & 1.416984e-01             & 1                        & 0                        & T1\\_Win                \\\\\n",
       "\t 5a120d709772221454d5f49b & 2017-12-02 15:00:00      & Leicester                & 1                        & Burnley                  & 0                        &  0.104588760             &  0.17877223              &  0.18401173              & -0.3385736               & ...                      &  1.44281145              & -1.455926                &  0.02306867              & build                    & 0.57347042               & 0.2553888946             & 1.711407e-01             & 1                        & 0                        & T1\\_Win                \\\\\n",
       "\t 5a120d709772221454d5f49d & 2017-12-02 15:00:00      & Watford                  & 1                        & Tottenham                & 1                        & -1.948430942             & -1.98951429              & -2.01486575              & -0.3385736               & ...                      & -1.24835970              & -1.473878                & -1.98803603              & build                    & 0.19130238               & 0.2791567201             & 5.295409e-01             & 0                        & 1                        & Draw                    \\\\\n",
       "\t 5a120d709772221454d5f4a1 & 2017-12-03 16:00:00      & Manchester City          & 2                        & West Ham                 & 1                        &  2.780657831             &  2.82778485              &  2.84203281              & -0.3385736               & ...                      & -0.05933733              & -1.525527                &  2.86978208              & build                    & 0.85291976               & 0.0843791037             & 6.270114e-02             & 1                        & 0                        & T1\\_Win                \\\\\n",
       "\\end{tabular}\n"
      ],
      "text/markdown": [
       "\n",
       "id | date | team_1_name | team_1_score | team_2_name | team_2_score | d_ability_1 | d_ability_3 | d_ability_4 | is_november | ... | d_form_4 | d_h2h_2 | c_ability_3 | datatype | team_1_prob | team_tie_prob | team_2_prob | team_1_win | team_1_draw | team_1_result | \n",
       "|---|---|---|---|---|---|---|---|---|---|---|---|---|---|---|---|---|---|---|---|---|---|---|---|---|---|---|---|---|---|---|---|---|---|---|---|---|---|---|---|---|---|---|---|---|---|---|---|---|---|---|---|---|---|---|---|---|---|---|---|---|\n",
       "| 5969fbdb482508368995688c | 2004-02-21 12:30:00      | Chelsea                  | 1                        | Arsenal                  | 2                        |  0.0963162398            | -0.002805337             | -0.009214321             | -0.3385736               | ...                      |        NaN               |       NaN                |  0.019748112             | build                    |        NA                |           NA             |           NA             | 0                        | 0                        | T2_Win                   | \n",
       "| 5969fbdb4825083689956886 | 2004-02-22 12:00:00      | Aston Villa              | 2                        | Birmingham               | 2                        | -0.0507959941            | -0.142396125             | -0.143272156             | -0.3385736               | ...                      |        NaN               |       NaN                | -0.127973029             | build                    |        NA                |           NA             |           NA             | 0                        | 1                        | Draw                     | \n",
       "| 5969fbdb4825083689956884 | 2004-02-28 15:00:00      | Manchester City          | 0                        | Chelsea                  | 1                        |  0.0328038621            | -0.063390990             | -0.067506462             | -0.3385736               | ...                      |        NaN               |       NaN                | -0.042838158             | build                    |        NA                |           NA             |           NA             | 0                        | 0                        | T2_Win                   | \n",
       "| 5969fbdb482508368995687e | 2004-02-29 12:00:00      | Leeds                    | 2                        | Liverpool                | 2                        | -0.0125381155            | -0.106299213             | -0.108569825             | -0.3385736               | ...                      |        NaN               |       NaN                | -0.089546820             | build                    |        NA                |           NA             |           NA             | 0                        | 1                        | Draw                     | \n",
       "| 5969fbdb482508368995687c | 2004-03-03 19:45:00      | Birmingham               | 3                        | Middlesbrough            | 1                        |  0.0981540809            |  0.015951228             |  0.009190359             | -0.3385736               | ...                      | -1.1856901               | 0.3780927                |  0.038883800             | build                    | 0.4281393                | 0.4463332876             | 1.255274e-01             | 1                        | 0                        | T1_Win                   | \n",
       "| 5969fbdb482508368995687a | 2004-03-09 20:00:00      | Middlesbrough            | 1                        | Tottenham                | 0                        | -0.1134597655            | -0.201726629             | -0.200383470             | -0.3385736               | ...                      |        NaN               |       NaN                | -0.188990861             | build                    |        NA                |           NA             |           NA             | 1                        | 0                        | T1_Win                   | \n",
       "| 5969fbdb4825083689956878 | 2004-03-13 15:00:00      | Fulham                   | 2                        | Leeds                    | 0                        | -0.0851461365            | -0.183652945             | -0.183055761             | -0.3385736               | ...                      |  0.9000277               | 0.4140936                | -0.182476445             | build                    | 0.9996791                | 0.0002614126             | 5.949403e-05             | 1                        | 0                        | T1_Win                   | \n",
       "| 5969fbda4825083689956873 | 2004-03-14 12:30:00      | Wolves                   | 0                        | Aston Villa              | 4                        |  0.0717327485            | -0.021717591             | -0.027248693             | -0.3385736               | ...                      | -0.3525099               | 0.2114271                | -0.003848086             | build                    | 0.1732103                | 0.2589195706             | 5.678701e-01             | 0                        | 0                        | T2_Win                   | \n",
       "| 5969fbda4825083689956870 | 2004-03-14 16:05:00      | Southampton              | 2                        | Liverpool                | 0                        | -0.0396514549            | -0.133618361             | -0.134723936             | -0.3385736               | ...                      | -0.3435163               | 0.3449720                | -0.124009082             | build                    | 0.5266537                | 0.2132437426             | 2.601026e-01             | 1                        | 0                        | T1_Win                   | \n",
       "| 5969fbda482508368995686f | 2004-03-17 20:00:00      | Liverpool                | 3                        | Portsmouth               | 0                        |  0.1001943339            |  0.004496722             | -0.001922372             | -0.3385736               | ...                      |  0.5273457               | 0.4177098                |  0.029540874             | build                    | 0.7139068                | 0.1862956090             | 9.979760e-02             | 1                        | 0                        | T1_Win                   | \n",
       "| 5969fbd44825083689956866 | 2004-03-21 16:05:00      | Portsmouth               | 1                        | Southampton              | 0                        | -0.2901642984            | -0.383953401             | -0.375776109             | -0.3385736               | ...                      | -1.1441728               | 0.5620141                | -0.394595112             | build                    | 0.4343303                | 0.2688584505             | 2.968113e-01             | 1                        | 0                        | T1_Win                   | \n",
       "| 5969fbd3482508368995685c | 2004-03-28 14:00:00      | Leicester                | 0                        | Liverpool                | 0                        | -0.0428392356            | -0.137752183             | -0.139016076             | -0.3385736               | ...                      | -0.7193277               | 0.6354406                | -0.125417112             | build                    | 0.6666016                | 0.1778764371             | 1.555220e-01             | 0                        | 1                        | Draw                     | \n",
       "| 5969fbd34825083689956859 | 2004-04-03 14:00:00      | Tottenham                | 0                        | Chelsea                  | 1                        | -0.3547222191            | -0.429193520             | -0.418640898             | -0.3385736               | ...                      |  1.0891405               | 0.5697962                | -0.434705576             | build                    | 0.4549519                | 0.2003995787             | 3.446485e-01             | 0                        | 0                        | T2_Win                   | \n",
       "| 5969fbd34825083689956853 | 2004-04-05 19:00:00      | Leeds                    | 3                        | Leicester                | 2                        | -0.1743305081            | -0.256774614             | -0.252958435             | -0.3385736               | ...                      | -1.1329431               | 0.6653459                | -0.251267125             | build                    | 0.3063257                | 0.4905590133             | 2.031153e-01             | 1                        | 0                        | T1_Win                   | \n",
       "| 5969fbd34825083689956850 | 2004-04-10 14:00:00      | Manchester City          | 3                        | Wolves                   | 3                        |  0.4608182688            |  0.348220323             |  0.338987705             | -0.3385736               | ...                      |  2.3600523               | 0.6218460                |  0.393288453             | build                    | 0.7018647                | 0.1794754708             | 1.186598e-01             | 0                        | 1                        | Draw                     | \n",
       "| 5969fbd3482508368995684a | 2004-04-10 14:00:00      | Birmingham               | 1                        | Manchester United        | 2                        |  0.2409031237            |  0.175928189             |  0.164650385             | -0.3385736               | ...                      | -0.4115202               | 0.7126516                |  0.212314676             | build                    | 0.2525355                | 0.4517862205             | 2.956783e-01             | 0                        | 0                        | T2_Win                   | \n",
       "| 5969fbd3482508368995684b | 2004-04-10 14:00:00      | Blackburn                | 1                        | Leeds                    | 2                        | -0.1272897307            | -0.239128759             | -0.245068002             | -0.3385736               | ...                      |  1.1654105               | 0.6467758                | -0.247679686             | build                    | 0.9995486                | 0.0003752596             | 7.615530e-05             | 0                        | 0                        | T2_Win                   | \n",
       "| 5969fbd3482508368995684e | 2004-04-10 14:00:00      | Chelsea                  | 0                        | Middlesbrough            | 0                        |  0.2313095511            |  0.137221983             |  0.126118602             | -0.3385736               | ...                      | -1.7397098               | 0.6875901                |  0.165591776             | build                    | 0.7285591                | 0.2320504897             | 3.939042e-02             | 0                        | 1                        | Draw                     | \n",
       "| 5969fbd34825083689956847 | 2004-04-12 14:00:00      | Tottenham                | 1                        | Manchester City          | 1                        | -0.2233998988            | -0.310604058             | -0.305534275             | -0.3385736               | ...                      |  0.4281003               | 0.5280532                | -0.308703706             | build                    | 0.6007688                | 0.2141153122             | 1.851159e-01             | 0                        | 1                        | Draw                     | \n",
       "| 5969fbd34825083689956846 | 2004-04-12 14:00:00      | Portsmouth               | 3                        | Birmingham               | 1                        | -0.2749301879            | -0.363785120             | -0.357680303             | -0.3385736               | ...                      | -0.2114655               | 0.5759401                | -0.359989560             | build                    | 0.5241114                | 0.2862346829             | 1.896540e-01             | 1                        | 0                        | T1_Win                   | \n",
       "| 5969fbd34825083689956845 | 2004-04-12 14:00:00      | Middlesbrough            | 3                        | Southampton              | 1                        | -0.0458148905            | -0.112710951             | -0.114726419             | -0.3385736               | ...                      |  0.1085665               | 0.5316914                | -0.085611109             | build                    | 0.4827586                | 0.2689133705             | 2.483280e-01             | 1                        | 0                        | T1_Win                   | \n",
       "| 5969fbcc482508368995683a | 2004-04-17 14:00:00      | Liverpool                | 0                        | Fulham                   | 0                        |  0.1176446368            |  0.051667542             |  0.054473100             | -0.3385736               | ...                      | -0.5460027               | 0.6128846                |  0.080408575             | build                    | 0.6962020                | 0.2456875105             | 5.811048e-02             | 0                        | 1                        | Draw                     | \n",
       "| 5969fbcc482508368995683c | 2004-04-17 14:00:00      | Wolves                   | 2                        | Middlesbrough            | 0                        | -0.5896502538            | -0.699223447             | -0.690402015             | -0.3385736               | ...                      |  0.1353500               | 0.6570521                | -0.748051035             | build                    | 0.3057956                | 0.3215915643             | 3.726129e-01             | 1                        | 0                        | T1_Win                   | \n",
       "| 5969fbcc4825083689956836 | 2004-04-18 13:00:00      | Aston Villa              | 0                        | Newcastle Utd            | 0                        |  0.0114330477            | -0.093477778             | -0.087186144             | -0.3385736               | ...                      |  0.7391891               | 0.6445707                | -0.083329365             | build                    | 0.4462733                | 0.2876231066             | 2.661036e-01             | 0                        | 1                        | Draw                     | \n",
       "| 5969fbcc4825083689956833 | 2004-04-24 14:00:00      | Middlesbrough            | 1                        | Aston Villa              | 2                        |  0.0120086883            | -0.050783616             | -0.064271217             | -0.3385736               | ...                      | -0.9928073               | 0.6478911                | -0.018491701             | build                    | 0.3942890                | 0.3126795245             | 2.930315e-01             | 0                        | 0                        | T2_Win                   | \n",
       "| 5969fbcc4825083689956832 | 2004-04-24 14:00:00      | Manchester United        | 0                        | Liverpool                | 1                        | -0.0009941148            | -0.072001191             | -0.084072509             | -0.3385736               | ...                      | -0.2372807               | 0.5574651                | -0.041698365             | build                    | 0.7288820                | 0.1296610066             | 1.414570e-01             | 0                        | 0                        | T2_Win                   | \n",
       "| 5969fbcc482508368995682f | 2004-04-24 14:00:00      | Everton                  | 0                        | Blackburn                | 1                        |  0.2349935784            |  0.148851539             |  0.145050430             | -0.3385736               | ...                      | -0.7080666               | 0.5539636                |  0.191346192             | build                    | 0.5905536                | 0.2555416705             | 1.539048e-01             | 0                        | 0                        | T2_Win                   | \n",
       "| 5969fbcc482508368995682c | 2004-04-25 13:00:00      | Newcastle Utd            | 2                        | Chelsea                  | 1                        | -0.1355478495            | -0.203585934             | -0.202350438             | -0.3385736               | ...                      | -1.2790174               | 0.5204134                | -0.187697526             | build                    | 0.4027017                | 0.2214290502             | 3.758692e-01             | 1                        | 0                        | T1_Win                   | \n",
       "| 5969fbcc4825083689956829 | 2004-05-01 14:00:00      | Wolves                   | 2                        | Everton                  | 1                        | -0.2624654330            | -0.375369216             | -0.379219583             | -0.3385736               | ...                      |  1.4893741               | 0.6196362                | -0.390838478             | build                    | 0.1812016                | 0.3722125200             | 4.465859e-01             | 1                        | 0                        | T1_Win                   | \n",
       "| 5969fbcc4825083689956823 | 2004-05-02 13:00:00      | Bolton                   | 4                        | Leeds                    | 1                        |  0.2046687261            |  0.090562044             |  0.090297662             | -0.3385736               | ...                      |  0.9567446               | 0.6920993                |  0.118417066             | build                    | 0.9996528                | 0.0002892813             | 5.796645e-05             | 1                        | 0                        | T1_Win                   | \n",
       "| ... | ... | ... | ... | ... | ... | ... | ... | ... | ... |     | ... | ... | ... | ... | ... | ... | ... | ... | ... | ... | \n",
       "| 59b50c804825080c2d524c8e | 2017-09-23 14:00:00      | Swansea                  | 1                        | Watford                  | 2                        |  0.368522610             |  0.26881167              |  0.26541786              | -0.3385736               | ...                      |  0.81552695              | -1.572533                |  0.23503815              | build                    | 0.58493419               | 0.2248359139             | 1.902299e-01             | 0                        | 0                        | T2_Win                   | \n",
       "| 59b50c7c4825080c2d524c89 | 2017-09-23 14:00:00      | Burnley                  | 0                        | Huddersfield             | 0                        |  1.109564969             |  1.05915935              |  1.06089590              | -0.3385736               | ...                      | -1.23184777              | -1.533941                |  1.07681909              | build                    | 0.99965650               | 0.0003118725             | 3.162448e-05             | 0                        | 1                        | Draw                     | \n",
       "| 59b50c7d4825080c2d524c8b | 2017-09-23 14:00:00      | Manchester City          | 5                        | Crystal Palace           | 0                        |  2.374909094             |  2.38336184              |  2.39659266              | -0.3385736               | ...                      | -0.14691059              | -1.441273                |  2.37712746              | build                    | 0.81813684               | 0.1011424267             | 8.072074e-02             | 1                        | 0                        | T1_Win                   | \n",
       "| 59b50c804825080c2d524c8f | 2017-09-23 16:30:00      | Leicester                | 2                        | Liverpool                | 3                        | -0.885124886             | -0.73046593              | -0.73544688              | -0.3385736               | ...                      | -1.13632813              | -1.642036                | -0.75325840              | build                    | 0.35936716               | 0.2182074090             | 4.224254e-01             | 0                        | 0                        | T2_Win                   | \n",
       "| 59c1572f48250809e4273432 | 2017-09-30 14:00:00      | West Ham                 | 1                        | Swansea                  | 0                        |  0.034902725             | -0.01765965              | -0.01821871              | -0.3385736               | ...                      |  0.17475932              | -1.674759                | -0.10945503              | build                    | 0.52130016               | 0.1738937188             | 3.048061e-01             | 1                        | 0                        | T1_Win                   | \n",
       "| 59c1573148250809e4273435 | 2017-10-01 13:15:00      | Everton                  | 0                        | Burnley                  | 1                        |  0.467714613             |  0.54734374              |  0.55432465              | -0.3385736               | ...                      |  2.00678523              | -1.612649                |  0.50428897              | build                    | 0.54703723               | 0.2552982820             | 1.976645e-01             | 0                        | 0                        | T2_Win                   | \n",
       "| 59d153c648250812289fb7db | 2017-10-14 14:00:00      | Burnley                  | 1                        | West Ham                 | 1                        |  0.239099730             |  0.21822194              |  0.22274381              | -0.3385736               | ...                      |  0.44334286              | -1.643253                |  0.23240903              | build                    | 0.54482149               | 0.2342016607             | 2.209768e-01             | 0                        | 1                        | Draw                     | \n",
       "| 59d153c948250812289fb7e0 | 2017-10-14 16:30:00      | Watford                  | 2                        | Arsenal                  | 1                        | -1.636368929             | -1.69443277              | -1.69524962              | -0.3385736               | ...                      | -1.61661530              | -1.411712                | -1.70803532              | build                    | 0.17668475               | 0.2378546210             | 5.854606e-01             | 1                        | 0                        | T1_Win                   | \n",
       "| 59d153cb48250812289fb7e2 | 2017-10-15 15:00:00      | Southampton              | 2                        | Newcastle Utd            | 2                        |  0.118472015             |  0.16320834              |  0.18300086              | -0.3385736               | ...                      |  0.46549526              | -1.432527                |  0.08809345              | build                    | 0.45470730               | 0.2334000736             | 3.118926e-01             | 0                        | 1                        | Draw                     | \n",
       "| 59d3f462482508115887068d | 2017-10-16 19:00:00      | Leicester                | 1                        | West Brom                | 1                        |  0.341123556             |  0.34684589              |  0.34405140              | -0.3385736               | ...                      |  0.64970958              | -1.442919                |  0.26108882              | build                    | 0.56318128               | 0.2853013305             | 1.515174e-01             | 0                        | 1                        | Draw                     | \n",
       "| 59dbb63a4825080bdbe14824 | 2017-10-21 14:00:00      | Huddersfield             | 2                        | Manchester United        | 1                        | -2.637369714             | -2.58950041              | -2.58978074              | -0.3385736               | ...                      | -2.30237998              | -1.473919                | -2.65803309              | build                    | 0.14471735               | 0.4720192615             | 3.832634e-01             | 1                        | 0                        | T1_Win                   | \n",
       "| 59dbb63d4825080bdbe14829 | 2017-10-21 16:30:00      | Southampton              | 1                        | West Brom                | 0                        |  0.248059806             |  0.17449090              |  0.19288003              | -0.3385736               | ...                      |  0.92975410              | -1.440943                |  0.15939706              | build                    | 0.50191739               | 0.2970609777             | 2.010216e-01             | 1                        | 0                        | T1_Win                   | \n",
       "| 59e2710848250813c1940cb0 | 2017-10-28 14:00:00      | Arsenal                  | 2                        | Swansea                  | 1                        |  1.486793074             |  1.55420483              |  1.55334977              | -0.3385736               | ...                      | -0.51077062              | -1.400228                |  1.50831267              | build                    | 0.74039197               | 0.1603792357             | 9.922880e-02             | 1                        | 0                        | T1_Win                   | \n",
       "| 59e2710948250813c1940cb1 | 2017-10-28 14:00:00      | Crystal Palace           | 2                        | West Ham                 | 2                        | -0.225299163             | -0.33515865              | -0.32704901              | -0.3385736               | ...                      |  0.28688937              | -1.492700                | -0.37538358              | build                    | 0.53736952               | 0.0959948180             | 3.666357e-01             | 0                        | 1                        | Draw                     | \n",
       "| 59e2710948250813c1940cb2 | 2017-10-28 14:00:00      | Liverpool                | 3                        | Huddersfield             | 0                        |  2.014378268             |  2.05483085              |  2.07326468              | -0.3385736               | ...                      | -0.26858286              | -1.418125                |  2.03719517              | build                    | 0.99977480               | 0.0002128839             | 1.232002e-05             | 1                        | 0                        | T1_Win                   | \n",
       "| 59e2710a48250813c1940cb4 | 2017-10-28 14:00:00      | West Brom                | 2                        | Manchester City          | 3                        | -2.449294845             | -2.30947759              | -2.31356666              | -0.3385736               | ...                      | -0.70291756              | -1.438955                | -2.38129632              | build                    | 0.07770327               | 0.1837076414             | 7.385891e-01             | 0                        | 0                        | T2_Win                   | \n",
       "| 59e3c815482508497e129ee6 | 2017-10-29 13:30:00      | Brighton                 | 1                        | Southampton              | 1                        | -0.325354372             | -0.33410446              | -0.34430380              | -0.3385736               | ...                      | -0.35288144              | -1.487989                | -0.30559986              | build                    | 0.38201012               | 0.4021228823             | 2.158670e-01             | 0                        | 1                        | Draw                     | \n",
       "| 59e658da4825081e87f447c1 | 2017-10-30 20:00:00      | Burnley                  | 1                        | Newcastle Utd            | 0                        |  0.001516272             |  0.10097728              |  0.09902837              | -0.3385736               | ...                      |  0.28146570              | -1.423801                |  0.01418400              | build                    | 0.43420831               | 0.2546467619             | 3.111449e-01             | 1                        | 0                        | T1_Win                   | \n",
       "| 59ee280a4825080b9ed279d0 | 2017-11-05 14:15:00      | Manchester City          | 3                        | Arsenal                  | 1                        |  1.039834378             |  1.18472072              |  1.21644399              |  2.9535677               | ...                      | -1.43001915              | -1.562839                |  1.23575284              | build                    | 0.50678507               | 0.1778655438             | 3.153494e-01             | 1                        | 0                        | T1_Win                   | \n",
       "| 59fe4df04825080beffcd886 | 2017-11-18 15:00:00      | Liverpool                | 3                        | Southampton              | 0                        |  1.079273813             |  1.18898850              |  1.17587945              |  2.9535677               | ...                      | -0.11085880              | -1.457527                |  1.14451752              | build                    | 0.53436243               | 0.3110761375             | 1.545614e-01             | 1                        | 0                        | T1_Win                   | \n",
       "| 5a00efc34825081984b461cd | 2017-11-20 20:00:00      | Brighton                 | 2                        | Stoke City               | 2                        |  0.093640502             |  0.08775050              |  0.09692052              |  2.9535677               | ...                      |  0.18973129              | -1.347311                |  0.15473719              | build                    | 0.47502712               | 0.4090033281             | 1.159696e-01             | 0                        | 1                        | Draw                     | \n",
       "| 5a08cab648250813a77a4032 | 2017-11-26 13:30:00      | Southampton              | 4                        | Everton                  | 1                        | -0.223878647             | -0.25178860              | -0.23450098              |  2.9535677               | ...                      | -0.04125162              | -1.374314                | -0.18655268              | build                    | 0.30811088               | 0.4238950170             | 2.679941e-01             | 1                        | 0                        | T1_Win                   | \n",
       "| 5a08cab648250813a77a4033 | 2017-11-26 14:00:00      | Burnley                  | 0                        | Arsenal                  | 1                        | -1.117428541             | -1.04922785              | -1.04115296              |  2.9535677               | ...                      | -0.87499658              | -1.413066                | -1.03655937              | build                    | 0.19325401               | 0.2748294234             | 5.319166e-01             | 0                        | 0                        | T2_Win                   | \n",
       "| 5a08cab648250813a77a4034 | 2017-11-26 16:00:00      | Huddersfield             | 1                        | Manchester City          | 2                        | -3.432138389             | -3.25224439              | -3.26667104              |  2.9535677               | ...                      | -0.28044017              | -1.451780                | -3.26811042              | build                    | 0.08086863               | 0.4728279902             | 4.463034e-01             | 0                        | 0                        | T2_Win                   | \n",
       "| 5a0c9ccc4825080cc88ed833 | 2017-11-29 19:45:00      | Arsenal                  | 5                        | Huddersfield             | 0                        |  2.359762426             |  2.36842053              |  2.36888852              |  2.9535677               | ...                      | -0.03124246              | -1.390302                |  2.35119103              | build                    | 0.99970356               | 0.0002815881             | 1.485415e-05             | 1                        | 0                        | T1_Win                   | \n",
       "| 5a0e063f48250809b11b6aed | 2017-11-29 20:00:00      | Everton                  | 4                        | West Ham                 | 0                        |  0.527125631             |  0.51422454              |  0.52810809              |  2.9535677               | ...                      |  0.64693925              | -1.308335                |  0.42281545              | build                    | 0.57421204               | 0.2407312284             | 1.850567e-01             | 1                        | 0                        | T1_Win                   | \n",
       "| 5a0e063f48250809b11b6aee | 2017-11-29 20:00:00      | Manchester City          | 2                        | Southampton              | 1                        |  2.166772356             |  2.28765993              |  2.28798061              |  2.9535677               | ...                      | -0.51486504              | -1.290548                |  2.29194216              | build                    | 0.68982621               | 0.1684754355             | 1.416984e-01             | 1                        | 0                        | T1_Win                   | \n",
       "| 5a120d709772221454d5f49b | 2017-12-02 15:00:00      | Leicester                | 1                        | Burnley                  | 0                        |  0.104588760             |  0.17877223              |  0.18401173              | -0.3385736               | ...                      |  1.44281145              | -1.455926                |  0.02306867              | build                    | 0.57347042               | 0.2553888946             | 1.711407e-01             | 1                        | 0                        | T1_Win                   | \n",
       "| 5a120d709772221454d5f49d | 2017-12-02 15:00:00      | Watford                  | 1                        | Tottenham                | 1                        | -1.948430942             | -1.98951429              | -2.01486575              | -0.3385736               | ...                      | -1.24835970              | -1.473878                | -1.98803603              | build                    | 0.19130238               | 0.2791567201             | 5.295409e-01             | 0                        | 1                        | Draw                     | \n",
       "| 5a120d709772221454d5f4a1 | 2017-12-03 16:00:00      | Manchester City          | 2                        | West Ham                 | 1                        |  2.780657831             |  2.82778485              |  2.84203281              | -0.3385736               | ...                      | -0.05933733              | -1.525527                |  2.86978208              | build                    | 0.85291976               | 0.0843791037             | 6.270114e-02             | 1                        | 0                        | T1_Win                   | \n",
       "\n",
       "\n"
      ],
      "text/plain": [
       "     id                       date                team_1_name      \n",
       "1    5969fbdb482508368995688c 2004-02-21 12:30:00 Chelsea          \n",
       "2    5969fbdb4825083689956886 2004-02-22 12:00:00 Aston Villa      \n",
       "3    5969fbdb4825083689956884 2004-02-28 15:00:00 Manchester City  \n",
       "4    5969fbdb482508368995687e 2004-02-29 12:00:00 Leeds            \n",
       "5    5969fbdb482508368995687c 2004-03-03 19:45:00 Birmingham       \n",
       "6    5969fbdb482508368995687a 2004-03-09 20:00:00 Middlesbrough    \n",
       "7    5969fbdb4825083689956878 2004-03-13 15:00:00 Fulham           \n",
       "8    5969fbda4825083689956873 2004-03-14 12:30:00 Wolves           \n",
       "9    5969fbda4825083689956870 2004-03-14 16:05:00 Southampton      \n",
       "10   5969fbda482508368995686f 2004-03-17 20:00:00 Liverpool        \n",
       "11   5969fbd44825083689956866 2004-03-21 16:05:00 Portsmouth       \n",
       "12   5969fbd3482508368995685c 2004-03-28 14:00:00 Leicester        \n",
       "13   5969fbd34825083689956859 2004-04-03 14:00:00 Tottenham        \n",
       "14   5969fbd34825083689956853 2004-04-05 19:00:00 Leeds            \n",
       "15   5969fbd34825083689956850 2004-04-10 14:00:00 Manchester City  \n",
       "16   5969fbd3482508368995684a 2004-04-10 14:00:00 Birmingham       \n",
       "17   5969fbd3482508368995684b 2004-04-10 14:00:00 Blackburn        \n",
       "18   5969fbd3482508368995684e 2004-04-10 14:00:00 Chelsea          \n",
       "19   5969fbd34825083689956847 2004-04-12 14:00:00 Tottenham        \n",
       "20   5969fbd34825083689956846 2004-04-12 14:00:00 Portsmouth       \n",
       "21   5969fbd34825083689956845 2004-04-12 14:00:00 Middlesbrough    \n",
       "22   5969fbcc482508368995683a 2004-04-17 14:00:00 Liverpool        \n",
       "23   5969fbcc482508368995683c 2004-04-17 14:00:00 Wolves           \n",
       "24   5969fbcc4825083689956836 2004-04-18 13:00:00 Aston Villa      \n",
       "25   5969fbcc4825083689956833 2004-04-24 14:00:00 Middlesbrough    \n",
       "26   5969fbcc4825083689956832 2004-04-24 14:00:00 Manchester United\n",
       "27   5969fbcc482508368995682f 2004-04-24 14:00:00 Everton          \n",
       "28   5969fbcc482508368995682c 2004-04-25 13:00:00 Newcastle Utd    \n",
       "29   5969fbcc4825083689956829 2004-05-01 14:00:00 Wolves           \n",
       "30   5969fbcc4825083689956823 2004-05-02 13:00:00 Bolton           \n",
       "...  ...                      ...                 ...              \n",
       "1531 59b50c804825080c2d524c8e 2017-09-23 14:00:00 Swansea          \n",
       "1532 59b50c7c4825080c2d524c89 2017-09-23 14:00:00 Burnley          \n",
       "1533 59b50c7d4825080c2d524c8b 2017-09-23 14:00:00 Manchester City  \n",
       "1534 59b50c804825080c2d524c8f 2017-09-23 16:30:00 Leicester        \n",
       "1535 59c1572f48250809e4273432 2017-09-30 14:00:00 West Ham         \n",
       "1536 59c1573148250809e4273435 2017-10-01 13:15:00 Everton          \n",
       "1537 59d153c648250812289fb7db 2017-10-14 14:00:00 Burnley          \n",
       "1538 59d153c948250812289fb7e0 2017-10-14 16:30:00 Watford          \n",
       "1539 59d153cb48250812289fb7e2 2017-10-15 15:00:00 Southampton      \n",
       "1540 59d3f462482508115887068d 2017-10-16 19:00:00 Leicester        \n",
       "1541 59dbb63a4825080bdbe14824 2017-10-21 14:00:00 Huddersfield     \n",
       "1542 59dbb63d4825080bdbe14829 2017-10-21 16:30:00 Southampton      \n",
       "1543 59e2710848250813c1940cb0 2017-10-28 14:00:00 Arsenal          \n",
       "1544 59e2710948250813c1940cb1 2017-10-28 14:00:00 Crystal Palace   \n",
       "1545 59e2710948250813c1940cb2 2017-10-28 14:00:00 Liverpool        \n",
       "1546 59e2710a48250813c1940cb4 2017-10-28 14:00:00 West Brom        \n",
       "1547 59e3c815482508497e129ee6 2017-10-29 13:30:00 Brighton         \n",
       "1548 59e658da4825081e87f447c1 2017-10-30 20:00:00 Burnley          \n",
       "1549 59ee280a4825080b9ed279d0 2017-11-05 14:15:00 Manchester City  \n",
       "1550 59fe4df04825080beffcd886 2017-11-18 15:00:00 Liverpool        \n",
       "1551 5a00efc34825081984b461cd 2017-11-20 20:00:00 Brighton         \n",
       "1552 5a08cab648250813a77a4032 2017-11-26 13:30:00 Southampton      \n",
       "1553 5a08cab648250813a77a4033 2017-11-26 14:00:00 Burnley          \n",
       "1554 5a08cab648250813a77a4034 2017-11-26 16:00:00 Huddersfield     \n",
       "1555 5a0c9ccc4825080cc88ed833 2017-11-29 19:45:00 Arsenal          \n",
       "1556 5a0e063f48250809b11b6aed 2017-11-29 20:00:00 Everton          \n",
       "1557 5a0e063f48250809b11b6aee 2017-11-29 20:00:00 Manchester City  \n",
       "1558 5a120d709772221454d5f49b 2017-12-02 15:00:00 Leicester        \n",
       "1559 5a120d709772221454d5f49d 2017-12-02 15:00:00 Watford          \n",
       "1560 5a120d709772221454d5f4a1 2017-12-03 16:00:00 Manchester City  \n",
       "     team_1_score team_2_name       team_2_score d_ability_1   d_ability_3 \n",
       "1    1            Arsenal           2             0.0963162398 -0.002805337\n",
       "2    2            Birmingham        2            -0.0507959941 -0.142396125\n",
       "3    0            Chelsea           1             0.0328038621 -0.063390990\n",
       "4    2            Liverpool         2            -0.0125381155 -0.106299213\n",
       "5    3            Middlesbrough     1             0.0981540809  0.015951228\n",
       "6    1            Tottenham         0            -0.1134597655 -0.201726629\n",
       "7    2            Leeds             0            -0.0851461365 -0.183652945\n",
       "8    0            Aston Villa       4             0.0717327485 -0.021717591\n",
       "9    2            Liverpool         0            -0.0396514549 -0.133618361\n",
       "10   3            Portsmouth        0             0.1001943339  0.004496722\n",
       "11   1            Southampton       0            -0.2901642984 -0.383953401\n",
       "12   0            Liverpool         0            -0.0428392356 -0.137752183\n",
       "13   0            Chelsea           1            -0.3547222191 -0.429193520\n",
       "14   3            Leicester         2            -0.1743305081 -0.256774614\n",
       "15   3            Wolves            3             0.4608182688  0.348220323\n",
       "16   1            Manchester United 2             0.2409031237  0.175928189\n",
       "17   1            Leeds             2            -0.1272897307 -0.239128759\n",
       "18   0            Middlesbrough     0             0.2313095511  0.137221983\n",
       "19   1            Manchester City   1            -0.2233998988 -0.310604058\n",
       "20   3            Birmingham        1            -0.2749301879 -0.363785120\n",
       "21   3            Southampton       1            -0.0458148905 -0.112710951\n",
       "22   0            Fulham            0             0.1176446368  0.051667542\n",
       "23   2            Middlesbrough     0            -0.5896502538 -0.699223447\n",
       "24   0            Newcastle Utd     0             0.0114330477 -0.093477778\n",
       "25   1            Aston Villa       2             0.0120086883 -0.050783616\n",
       "26   0            Liverpool         1            -0.0009941148 -0.072001191\n",
       "27   0            Blackburn         1             0.2349935784  0.148851539\n",
       "28   2            Chelsea           1            -0.1355478495 -0.203585934\n",
       "29   2            Everton           1            -0.2624654330 -0.375369216\n",
       "30   4            Leeds             1             0.2046687261  0.090562044\n",
       "...  ...          ...               ...          ...           ...         \n",
       "1531 1            Watford           2             0.368522610   0.26881167 \n",
       "1532 0            Huddersfield      0             1.109564969   1.05915935 \n",
       "1533 5            Crystal Palace    0             2.374909094   2.38336184 \n",
       "1534 2            Liverpool         3            -0.885124886  -0.73046593 \n",
       "1535 1            Swansea           0             0.034902725  -0.01765965 \n",
       "1536 0            Burnley           1             0.467714613   0.54734374 \n",
       "1537 1            West Ham          1             0.239099730   0.21822194 \n",
       "1538 2            Arsenal           1            -1.636368929  -1.69443277 \n",
       "1539 2            Newcastle Utd     2             0.118472015   0.16320834 \n",
       "1540 1            West Brom         1             0.341123556   0.34684589 \n",
       "1541 2            Manchester United 1            -2.637369714  -2.58950041 \n",
       "1542 1            West Brom         0             0.248059806   0.17449090 \n",
       "1543 2            Swansea           1             1.486793074   1.55420483 \n",
       "1544 2            West Ham          2            -0.225299163  -0.33515865 \n",
       "1545 3            Huddersfield      0             2.014378268   2.05483085 \n",
       "1546 2            Manchester City   3            -2.449294845  -2.30947759 \n",
       "1547 1            Southampton       1            -0.325354372  -0.33410446 \n",
       "1548 1            Newcastle Utd     0             0.001516272   0.10097728 \n",
       "1549 3            Arsenal           1             1.039834378   1.18472072 \n",
       "1550 3            Southampton       0             1.079273813   1.18898850 \n",
       "1551 2            Stoke City        2             0.093640502   0.08775050 \n",
       "1552 4            Everton           1            -0.223878647  -0.25178860 \n",
       "1553 0            Arsenal           1            -1.117428541  -1.04922785 \n",
       "1554 1            Manchester City   2            -3.432138389  -3.25224439 \n",
       "1555 5            Huddersfield      0             2.359762426   2.36842053 \n",
       "1556 4            West Ham          0             0.527125631   0.51422454 \n",
       "1557 2            Southampton       1             2.166772356   2.28765993 \n",
       "1558 1            Burnley           0             0.104588760   0.17877223 \n",
       "1559 1            Tottenham         1            -1.948430942  -1.98951429 \n",
       "1560 2            West Ham          1             2.780657831   2.82778485 \n",
       "     d_ability_4  is_november ... d_form_4    d_h2h_2   c_ability_3  datatype\n",
       "1    -0.009214321 -0.3385736  ...        NaN        NaN  0.019748112 build   \n",
       "2    -0.143272156 -0.3385736  ...        NaN        NaN -0.127973029 build   \n",
       "3    -0.067506462 -0.3385736  ...        NaN        NaN -0.042838158 build   \n",
       "4    -0.108569825 -0.3385736  ...        NaN        NaN -0.089546820 build   \n",
       "5     0.009190359 -0.3385736  ... -1.1856901  0.3780927  0.038883800 build   \n",
       "6    -0.200383470 -0.3385736  ...        NaN        NaN -0.188990861 build   \n",
       "7    -0.183055761 -0.3385736  ...  0.9000277  0.4140936 -0.182476445 build   \n",
       "8    -0.027248693 -0.3385736  ... -0.3525099  0.2114271 -0.003848086 build   \n",
       "9    -0.134723936 -0.3385736  ... -0.3435163  0.3449720 -0.124009082 build   \n",
       "10   -0.001922372 -0.3385736  ...  0.5273457  0.4177098  0.029540874 build   \n",
       "11   -0.375776109 -0.3385736  ... -1.1441728  0.5620141 -0.394595112 build   \n",
       "12   -0.139016076 -0.3385736  ... -0.7193277  0.6354406 -0.125417112 build   \n",
       "13   -0.418640898 -0.3385736  ...  1.0891405  0.5697962 -0.434705576 build   \n",
       "14   -0.252958435 -0.3385736  ... -1.1329431  0.6653459 -0.251267125 build   \n",
       "15    0.338987705 -0.3385736  ...  2.3600523  0.6218460  0.393288453 build   \n",
       "16    0.164650385 -0.3385736  ... -0.4115202  0.7126516  0.212314676 build   \n",
       "17   -0.245068002 -0.3385736  ...  1.1654105  0.6467758 -0.247679686 build   \n",
       "18    0.126118602 -0.3385736  ... -1.7397098  0.6875901  0.165591776 build   \n",
       "19   -0.305534275 -0.3385736  ...  0.4281003  0.5280532 -0.308703706 build   \n",
       "20   -0.357680303 -0.3385736  ... -0.2114655  0.5759401 -0.359989560 build   \n",
       "21   -0.114726419 -0.3385736  ...  0.1085665  0.5316914 -0.085611109 build   \n",
       "22    0.054473100 -0.3385736  ... -0.5460027  0.6128846  0.080408575 build   \n",
       "23   -0.690402015 -0.3385736  ...  0.1353500  0.6570521 -0.748051035 build   \n",
       "24   -0.087186144 -0.3385736  ...  0.7391891  0.6445707 -0.083329365 build   \n",
       "25   -0.064271217 -0.3385736  ... -0.9928073  0.6478911 -0.018491701 build   \n",
       "26   -0.084072509 -0.3385736  ... -0.2372807  0.5574651 -0.041698365 build   \n",
       "27    0.145050430 -0.3385736  ... -0.7080666  0.5539636  0.191346192 build   \n",
       "28   -0.202350438 -0.3385736  ... -1.2790174  0.5204134 -0.187697526 build   \n",
       "29   -0.379219583 -0.3385736  ...  1.4893741  0.6196362 -0.390838478 build   \n",
       "30    0.090297662 -0.3385736  ...  0.9567446  0.6920993  0.118417066 build   \n",
       "...  ...          ...             ...         ...       ...          ...     \n",
       "1531  0.26541786  -0.3385736  ...  0.81552695 -1.572533  0.23503815  build   \n",
       "1532  1.06089590  -0.3385736  ... -1.23184777 -1.533941  1.07681909  build   \n",
       "1533  2.39659266  -0.3385736  ... -0.14691059 -1.441273  2.37712746  build   \n",
       "1534 -0.73544688  -0.3385736  ... -1.13632813 -1.642036 -0.75325840  build   \n",
       "1535 -0.01821871  -0.3385736  ...  0.17475932 -1.674759 -0.10945503  build   \n",
       "1536  0.55432465  -0.3385736  ...  2.00678523 -1.612649  0.50428897  build   \n",
       "1537  0.22274381  -0.3385736  ...  0.44334286 -1.643253  0.23240903  build   \n",
       "1538 -1.69524962  -0.3385736  ... -1.61661530 -1.411712 -1.70803532  build   \n",
       "1539  0.18300086  -0.3385736  ...  0.46549526 -1.432527  0.08809345  build   \n",
       "1540  0.34405140  -0.3385736  ...  0.64970958 -1.442919  0.26108882  build   \n",
       "1541 -2.58978074  -0.3385736  ... -2.30237998 -1.473919 -2.65803309  build   \n",
       "1542  0.19288003  -0.3385736  ...  0.92975410 -1.440943  0.15939706  build   \n",
       "1543  1.55334977  -0.3385736  ... -0.51077062 -1.400228  1.50831267  build   \n",
       "1544 -0.32704901  -0.3385736  ...  0.28688937 -1.492700 -0.37538358  build   \n",
       "1545  2.07326468  -0.3385736  ... -0.26858286 -1.418125  2.03719517  build   \n",
       "1546 -2.31356666  -0.3385736  ... -0.70291756 -1.438955 -2.38129632  build   \n",
       "1547 -0.34430380  -0.3385736  ... -0.35288144 -1.487989 -0.30559986  build   \n",
       "1548  0.09902837  -0.3385736  ...  0.28146570 -1.423801  0.01418400  build   \n",
       "1549  1.21644399   2.9535677  ... -1.43001915 -1.562839  1.23575284  build   \n",
       "1550  1.17587945   2.9535677  ... -0.11085880 -1.457527  1.14451752  build   \n",
       "1551  0.09692052   2.9535677  ...  0.18973129 -1.347311  0.15473719  build   \n",
       "1552 -0.23450098   2.9535677  ... -0.04125162 -1.374314 -0.18655268  build   \n",
       "1553 -1.04115296   2.9535677  ... -0.87499658 -1.413066 -1.03655937  build   \n",
       "1554 -3.26667104   2.9535677  ... -0.28044017 -1.451780 -3.26811042  build   \n",
       "1555  2.36888852   2.9535677  ... -0.03124246 -1.390302  2.35119103  build   \n",
       "1556  0.52810809   2.9535677  ...  0.64693925 -1.308335  0.42281545  build   \n",
       "1557  2.28798061   2.9535677  ... -0.51486504 -1.290548  2.29194216  build   \n",
       "1558  0.18401173  -0.3385736  ...  1.44281145 -1.455926  0.02306867  build   \n",
       "1559 -2.01486575  -0.3385736  ... -1.24835970 -1.473878 -1.98803603  build   \n",
       "1560  2.84203281  -0.3385736  ... -0.05933733 -1.525527  2.86978208  build   \n",
       "     team_1_prob team_tie_prob team_2_prob  team_1_win team_1_draw\n",
       "1           NA             NA            NA 0          0          \n",
       "2           NA             NA            NA 0          1          \n",
       "3           NA             NA            NA 0          0          \n",
       "4           NA             NA            NA 0          1          \n",
       "5    0.4281393   0.4463332876  1.255274e-01 1          0          \n",
       "6           NA             NA            NA 1          0          \n",
       "7    0.9996791   0.0002614126  5.949403e-05 1          0          \n",
       "8    0.1732103   0.2589195706  5.678701e-01 0          0          \n",
       "9    0.5266537   0.2132437426  2.601026e-01 1          0          \n",
       "10   0.7139068   0.1862956090  9.979760e-02 1          0          \n",
       "11   0.4343303   0.2688584505  2.968113e-01 1          0          \n",
       "12   0.6666016   0.1778764371  1.555220e-01 0          1          \n",
       "13   0.4549519   0.2003995787  3.446485e-01 0          0          \n",
       "14   0.3063257   0.4905590133  2.031153e-01 1          0          \n",
       "15   0.7018647   0.1794754708  1.186598e-01 0          1          \n",
       "16   0.2525355   0.4517862205  2.956783e-01 0          0          \n",
       "17   0.9995486   0.0003752596  7.615530e-05 0          0          \n",
       "18   0.7285591   0.2320504897  3.939042e-02 0          1          \n",
       "19   0.6007688   0.2141153122  1.851159e-01 0          1          \n",
       "20   0.5241114   0.2862346829  1.896540e-01 1          0          \n",
       "21   0.4827586   0.2689133705  2.483280e-01 1          0          \n",
       "22   0.6962020   0.2456875105  5.811048e-02 0          1          \n",
       "23   0.3057956   0.3215915643  3.726129e-01 1          0          \n",
       "24   0.4462733   0.2876231066  2.661036e-01 0          1          \n",
       "25   0.3942890   0.3126795245  2.930315e-01 0          0          \n",
       "26   0.7288820   0.1296610066  1.414570e-01 0          0          \n",
       "27   0.5905536   0.2555416705  1.539048e-01 0          0          \n",
       "28   0.4027017   0.2214290502  3.758692e-01 1          0          \n",
       "29   0.1812016   0.3722125200  4.465859e-01 1          0          \n",
       "30   0.9996528   0.0002892813  5.796645e-05 1          0          \n",
       "...  ...         ...           ...          ...        ...        \n",
       "1531 0.58493419  0.2248359139  1.902299e-01 0          0          \n",
       "1532 0.99965650  0.0003118725  3.162448e-05 0          1          \n",
       "1533 0.81813684  0.1011424267  8.072074e-02 1          0          \n",
       "1534 0.35936716  0.2182074090  4.224254e-01 0          0          \n",
       "1535 0.52130016  0.1738937188  3.048061e-01 1          0          \n",
       "1536 0.54703723  0.2552982820  1.976645e-01 0          0          \n",
       "1537 0.54482149  0.2342016607  2.209768e-01 0          1          \n",
       "1538 0.17668475  0.2378546210  5.854606e-01 1          0          \n",
       "1539 0.45470730  0.2334000736  3.118926e-01 0          1          \n",
       "1540 0.56318128  0.2853013305  1.515174e-01 0          1          \n",
       "1541 0.14471735  0.4720192615  3.832634e-01 1          0          \n",
       "1542 0.50191739  0.2970609777  2.010216e-01 1          0          \n",
       "1543 0.74039197  0.1603792357  9.922880e-02 1          0          \n",
       "1544 0.53736952  0.0959948180  3.666357e-01 0          1          \n",
       "1545 0.99977480  0.0002128839  1.232002e-05 1          0          \n",
       "1546 0.07770327  0.1837076414  7.385891e-01 0          0          \n",
       "1547 0.38201012  0.4021228823  2.158670e-01 0          1          \n",
       "1548 0.43420831  0.2546467619  3.111449e-01 1          0          \n",
       "1549 0.50678507  0.1778655438  3.153494e-01 1          0          \n",
       "1550 0.53436243  0.3110761375  1.545614e-01 1          0          \n",
       "1551 0.47502712  0.4090033281  1.159696e-01 0          1          \n",
       "1552 0.30811088  0.4238950170  2.679941e-01 1          0          \n",
       "1553 0.19325401  0.2748294234  5.319166e-01 0          0          \n",
       "1554 0.08086863  0.4728279902  4.463034e-01 0          0          \n",
       "1555 0.99970356  0.0002815881  1.485415e-05 1          0          \n",
       "1556 0.57421204  0.2407312284  1.850567e-01 1          0          \n",
       "1557 0.68982621  0.1684754355  1.416984e-01 1          0          \n",
       "1558 0.57347042  0.2553888946  1.711407e-01 1          0          \n",
       "1559 0.19130238  0.2791567201  5.295409e-01 0          1          \n",
       "1560 0.85291976  0.0843791037  6.270114e-02 1          0          \n",
       "     team_1_result\n",
       "1    T2_Win       \n",
       "2    Draw         \n",
       "3    T2_Win       \n",
       "4    Draw         \n",
       "5    T1_Win       \n",
       "6    T1_Win       \n",
       "7    T1_Win       \n",
       "8    T2_Win       \n",
       "9    T1_Win       \n",
       "10   T1_Win       \n",
       "11   T1_Win       \n",
       "12   Draw         \n",
       "13   T2_Win       \n",
       "14   T1_Win       \n",
       "15   Draw         \n",
       "16   T2_Win       \n",
       "17   T2_Win       \n",
       "18   Draw         \n",
       "19   Draw         \n",
       "20   T1_Win       \n",
       "21   T1_Win       \n",
       "22   Draw         \n",
       "23   T1_Win       \n",
       "24   Draw         \n",
       "25   T2_Win       \n",
       "26   T2_Win       \n",
       "27   T2_Win       \n",
       "28   T1_Win       \n",
       "29   T1_Win       \n",
       "30   T1_Win       \n",
       "...  ...          \n",
       "1531 T2_Win       \n",
       "1532 Draw         \n",
       "1533 T1_Win       \n",
       "1534 T2_Win       \n",
       "1535 T1_Win       \n",
       "1536 T2_Win       \n",
       "1537 Draw         \n",
       "1538 T1_Win       \n",
       "1539 Draw         \n",
       "1540 Draw         \n",
       "1541 T1_Win       \n",
       "1542 T1_Win       \n",
       "1543 T1_Win       \n",
       "1544 Draw         \n",
       "1545 T1_Win       \n",
       "1546 T2_Win       \n",
       "1547 Draw         \n",
       "1548 T1_Win       \n",
       "1549 T1_Win       \n",
       "1550 T1_Win       \n",
       "1551 Draw         \n",
       "1552 T1_Win       \n",
       "1553 T2_Win       \n",
       "1554 T2_Win       \n",
       "1555 T1_Win       \n",
       "1556 T1_Win       \n",
       "1557 T1_Win       \n",
       "1558 T1_Win       \n",
       "1559 Draw         \n",
       "1560 T1_Win       "
      ]
     },
     "metadata": {},
     "output_type": "display_data"
    }
   ],
   "source": [
    "realtest"
   ]
  },
  {
   "cell_type": "code",
   "execution_count": 167,
   "metadata": {},
   "outputs": [],
   "source": [
    "library(pROC)"
   ]
  },
  {
   "cell_type": "code",
   "execution_count": 168,
   "metadata": {
    "collapsed": true
   },
   "outputs": [],
   "source": [
    "realtest <- realtest %>%\n",
    "    rowwise() %>%\n",
    "    mutate(team_2_win = 1 - max(c(team_1_win, team_1_draw)))"
   ]
  },
  {
   "cell_type": "markdown",
   "metadata": {},
   "source": [
    "## Looking at individual ROC's"
   ]
  },
  {
   "cell_type": "code",
   "execution_count": 169,
   "metadata": {},
   "outputs": [
    {
     "data": {
      "text/plain": [
       "\n",
       "Call:\n",
       "roc.default(response = realtest$team_1_win, predictor = realtest$team_1_prob)\n",
       "\n",
       "Data: realtest$team_1_prob in 825 controls (realtest$team_1_win 0) < 718 cases (realtest$team_1_win 1).\n",
       "Area under the curve: 0.7008"
      ]
     },
     "metadata": {},
     "output_type": "display_data"
    }
   ],
   "source": [
    "pROC::roc(response = realtest$team_1_win, predictor = realtest$team_1_prob)"
   ]
  },
  {
   "cell_type": "code",
   "execution_count": 170,
   "metadata": {},
   "outputs": [
    {
     "data": {
      "text/plain": [
       "\n",
       "Call:\n",
       "roc.default(response = realtest$team_1_draw, predictor = realtest$team_tie_prob)\n",
       "\n",
       "Data: realtest$team_tie_prob in 1151 controls (realtest$team_1_draw 0) < 392 cases (realtest$team_1_draw 1).\n",
       "Area under the curve: 0.5511"
      ]
     },
     "metadata": {},
     "output_type": "display_data"
    }
   ],
   "source": [
    "pROC::roc(response = realtest$team_1_draw, predictor = realtest$team_tie_prob)"
   ]
  },
  {
   "cell_type": "code",
   "execution_count": 171,
   "metadata": {},
   "outputs": [
    {
     "data": {
      "text/plain": [
       "\n",
       "Call:\n",
       "roc.default(response = realtest$team_2_win, predictor = realtest$team_2_prob)\n",
       "\n",
       "Data: realtest$team_2_prob in 1110 controls (realtest$team_2_win 0) < 433 cases (realtest$team_2_win 1).\n",
       "Area under the curve: 0.7538"
      ]
     },
     "metadata": {},
     "output_type": "display_data"
    }
   ],
   "source": [
    "pROC::roc(response = realtest$team_2_win, predictor = realtest$team_2_prob)"
   ]
  },
  {
   "cell_type": "markdown",
   "metadata": {},
   "source": [
    "# Try decision trees"
   ]
  },
  {
   "cell_type": "code",
   "execution_count": 29,
   "metadata": {
    "collapsed": true
   },
   "outputs": [],
   "source": [
    "library(rpart)"
   ]
  },
  {
   "cell_type": "code",
   "execution_count": null,
   "metadata": {
    "collapsed": true
   },
   "outputs": [],
   "source": [
    "fit.tree <- train %>%\n",
    "            filter(datatype == 'build') %>%\n",
    "                rpart(formula = team_1_result ~ team_1_name + team_2_name + d_ability_1 + d_ability_3 + d_ability_4 \n",
    "                      + is_november + is_february + d_form_4 + d_h2h_2 + c_ability_3,\n",
    "                      control = rpart.control(minbucket=2)\n",
    "                      #,split = \"information\"\n",
    "                     )"
   ]
  },
  {
   "cell_type": "code",
   "execution_count": null,
   "metadata": {
    "collapsed": true
   },
   "outputs": [],
   "source": [
    "fit.tree %>% summary"
   ]
  },
  {
   "cell_type": "code",
   "execution_count": null,
   "metadata": {
    "collapsed": true
   },
   "outputs": [],
   "source": [
    "108800 / 60"
   ]
  },
  {
   "cell_type": "code",
   "execution_count": 87,
   "metadata": {
    "collapsed": true
   },
   "outputs": [],
   "source": [
    "? rpart"
   ]
  },
  {
   "cell_type": "code",
   "execution_count": 172,
   "metadata": {
    "collapsed": true
   },
   "outputs": [],
   "source": [
    "score_df <- df %>%\n",
    "                filter(datatype == 'score')"
   ]
  },
  {
   "cell_type": "code",
   "execution_count": 173,
   "metadata": {
    "collapsed": true
   },
   "outputs": [],
   "source": [
    "score_preds <- predict(fit.log, newdata = score_df, type=\"probs\")"
   ]
  },
  {
   "cell_type": "code",
   "execution_count": 174,
   "metadata": {
    "collapsed": true
   },
   "outputs": [],
   "source": [
    "score_df$team_tie_prob <- (score_preds %>% as.data.frame)$Draw\n",
    "score_df$team_1_prob <- (score_preds %>% as.data.frame)$T1_Win\n",
    "score_df$team_2_prob <- (score_preds %>% as.data.frame)$T2_Win"
   ]
  },
  {
   "cell_type": "code",
   "execution_count": 175,
   "metadata": {},
   "outputs": [
    {
     "data": {
      "text/html": [
       "<table>\n",
       "<thead><tr><th scope=col>id</th><th scope=col>date</th><th scope=col>team_1_name</th><th scope=col>team_1_score</th><th scope=col>team_2_name</th><th scope=col>team_2_score</th><th scope=col>d_ability_1</th><th scope=col>d_ability_3</th><th scope=col>d_ability_4</th><th scope=col>is_november</th><th scope=col>...</th><th scope=col>d_form_4</th><th scope=col>d_h2h_2</th><th scope=col>c_ability_3</th><th scope=col>datatype</th><th scope=col>team_1_prob</th><th scope=col>team_tie_prob</th><th scope=col>team_2_prob</th><th scope=col>team_1_win</th><th scope=col>team_1_draw</th><th scope=col>team_1_result</th></tr></thead>\n",
       "<tbody>\n",
       "\t<tr><td>5a19f6719772221c48d2f9ec</td><td>2017-12-09 12:30:00     </td><td>West Ham                </td><td>NA                      </td><td>Chelsea                 </td><td>NA                      </td><td>-2.20500635             </td><td>-2.2454484              </td><td>-2.2445428              </td><td>-0.3385736              </td><td>...                     </td><td>-0.94887132             </td><td>-1.525527               </td><td>        NaN             </td><td>score                   </td><td>0.1119974               </td><td>0.131345534             </td><td>0.7566571               </td><td>NA                      </td><td>NA                      </td><td>T2_Win                  </td></tr>\n",
       "\t<tr><td>5a19f6719772221c48d2f9ed</td><td>2017-12-09 15:00:00     </td><td>Burnley                 </td><td>NA                      </td><td>Watford                 </td><td>NA                      </td><td> 0.36483990             </td><td> 0.3435022              </td><td> 0.3538497              </td><td>-0.3385736              </td><td>...                     </td><td> 0.71709936             </td><td>-1.525527               </td><td> 0.30058679             </td><td>score                   </td><td>0.6147532               </td><td>0.205461789             </td><td>0.1797850               </td><td>NA                      </td><td>NA                      </td><td>T2_Win                  </td></tr>\n",
       "\t<tr><td>5a19f6719772221c48d2f9ee</td><td>2017-12-09 15:00:00     </td><td>Crystal Palace          </td><td>NA                      </td><td>Bournemouth             </td><td>NA                      </td><td>-0.33941503             </td><td>-0.4276060              </td><td>-0.4371238              </td><td>-0.3385736              </td><td>...                     </td><td> 0.28919047             </td><td>-1.525527               </td><td>        NaN             </td><td>score                   </td><td>0.4211646               </td><td>0.108778647             </td><td>0.4700568               </td><td>NA                      </td><td>NA                      </td><td>T2_Win                  </td></tr>\n",
       "\t<tr><td>5a19f6719772221c48d2f9ef</td><td>2017-12-09 15:00:00     </td><td>Huddersfield            </td><td>NA                      </td><td>Brighton                </td><td>NA                      </td><td>-0.88925776             </td><td>-0.8380912              </td><td>-0.8429574              </td><td>-0.3385736              </td><td>...                     </td><td> 0.03982277             </td><td>-1.525527               </td><td>-0.89467958             </td><td>score                   </td><td>0.3933909               </td><td>0.004421458             </td><td>0.6021877               </td><td>NA                      </td><td>NA                      </td><td>T2_Win                  </td></tr>\n",
       "\t<tr><td>5a19f6719772221c48d2f9f0</td><td>2017-12-09 15:00:00     </td><td>Swansea                 </td><td>NA                      </td><td>West Brom               </td><td>NA                      </td><td>-0.02423344             </td><td>-0.1066833              </td><td>-0.1148918              </td><td>-0.3385736              </td><td>...                     </td><td> 0.74354760             </td><td>-1.525527               </td><td> 0.02459464             </td><td>score                   </td><td>0.4337707               </td><td>0.345501753             </td><td>0.2207276               </td><td>NA                      </td><td>NA                      </td><td>T2_Win                  </td></tr>\n",
       "\t<tr><td>5a19f6719772221c48d2f9f1</td><td>2017-12-09 15:00:00     </td><td>Tottenham               </td><td>NA                      </td><td>Stoke City              </td><td>NA                      </td><td> 2.02210898             </td><td> 2.0842651              </td><td> 2.0996903              </td><td>-0.3385736              </td><td>...                     </td><td> 0.79409032             </td><td>-1.525527               </td><td> 2.04973789             </td><td>score                   </td><td>0.7777348               </td><td>0.148929556             </td><td>0.0733356               </td><td>NA                      </td><td>NA                      </td><td>T2_Win                  </td></tr>\n",
       "\t<tr><td>5a19f6719772221c48d2f9f2</td><td>2017-12-09 17:30:00     </td><td>Newcastle Utd           </td><td>NA                      </td><td>Leicester               </td><td>NA                      </td><td>-0.55800277             </td><td>-0.4606444              </td><td>-0.4416270              </td><td>-0.3385736              </td><td>...                     </td><td> 0.21156075             </td><td>-1.525527               </td><td>-0.31882605             </td><td>score                   </td><td>0.3562872               </td><td>0.275985894             </td><td>0.3677269               </td><td>NA                      </td><td>NA                      </td><td>T2_Win                  </td></tr>\n",
       "\t<tr><td>5a1ac45d4825080ad7e3b9c2</td><td>2017-12-10 12:00:00     </td><td>Southampton             </td><td>NA                      </td><td>Arsenal                 </td><td>NA                      </td><td>-1.16595526             </td><td>-1.1310483              </td><td>-1.1045425              </td><td>-0.3385736              </td><td>...                     </td><td>-0.73148374             </td><td>-1.525527               </td><td>        NaN             </td><td>score                   </td><td>0.1996951               </td><td>0.219607472             </td><td>0.5806974               </td><td>NA                      </td><td>NA                      </td><td>T2_Win                  </td></tr>\n",
       "\t<tr><td>5a1ad9014825081aeace6799</td><td>2017-12-10 14:15:00     </td><td>Liverpool               </td><td>NA                      </td><td>Everton                 </td><td>NA                      </td><td> 1.17455248             </td><td> 1.2793569              </td><td> 1.2666328              </td><td>-0.3385736              </td><td>...                     </td><td>-0.29539431             </td><td>-1.525527               </td><td> 1.14170119             </td><td>score                   </td><td>0.5145707               </td><td>0.367590374             </td><td>0.1178389               </td><td>NA                      </td><td>NA                      </td><td>T2_Win                  </td></tr>\n",
       "\t<tr><td>5a1b13b99772220c94eb5151</td><td>2017-12-10 16:30:00     </td><td>Manchester United       </td><td>NA                      </td><td>Manchester City         </td><td>NA                      </td><td>-0.56000922             </td><td>-0.3529263              </td><td>-0.3716552              </td><td>-0.3385736              </td><td>...                     </td><td>-1.48296742             </td><td>-1.525527               </td><td>        NaN             </td><td>score                   </td><td>0.4268061               </td><td>0.203830835             </td><td>0.3693631               </td><td>NA                      </td><td>NA                      </td><td>T2_Win                  </td></tr>\n",
       "</tbody>\n",
       "</table>\n"
      ],
      "text/latex": [
       "\\begin{tabular}{r|lllllllllllllllllllll}\n",
       " id & date & team\\_1\\_name & team\\_1\\_score & team\\_2\\_name & team\\_2\\_score & d\\_ability\\_1 & d\\_ability\\_3 & d\\_ability\\_4 & is\\_november & ... & d\\_form\\_4 & d\\_h2h\\_2 & c\\_ability\\_3 & datatype & team\\_1\\_prob & team\\_tie\\_prob & team\\_2\\_prob & team\\_1\\_win & team\\_1\\_draw & team\\_1\\_result\\\\\n",
       "\\hline\n",
       "\t 5a19f6719772221c48d2f9ec & 2017-12-09 12:30:00      & West Ham                 & NA                       & Chelsea                  & NA                       & -2.20500635              & -2.2454484               & -2.2445428               & -0.3385736               & ...                      & -0.94887132              & -1.525527                &         NaN              & score                    & 0.1119974                & 0.131345534              & 0.7566571                & NA                       & NA                       & T2\\_Win                \\\\\n",
       "\t 5a19f6719772221c48d2f9ed & 2017-12-09 15:00:00      & Burnley                  & NA                       & Watford                  & NA                       &  0.36483990              &  0.3435022               &  0.3538497               & -0.3385736               & ...                      &  0.71709936              & -1.525527                &  0.30058679              & score                    & 0.6147532                & 0.205461789              & 0.1797850                & NA                       & NA                       & T2\\_Win                \\\\\n",
       "\t 5a19f6719772221c48d2f9ee & 2017-12-09 15:00:00      & Crystal Palace           & NA                       & Bournemouth              & NA                       & -0.33941503              & -0.4276060               & -0.4371238               & -0.3385736               & ...                      &  0.28919047              & -1.525527                &         NaN              & score                    & 0.4211646                & 0.108778647              & 0.4700568                & NA                       & NA                       & T2\\_Win                \\\\\n",
       "\t 5a19f6719772221c48d2f9ef & 2017-12-09 15:00:00      & Huddersfield             & NA                       & Brighton                 & NA                       & -0.88925776              & -0.8380912               & -0.8429574               & -0.3385736               & ...                      &  0.03982277              & -1.525527                & -0.89467958              & score                    & 0.3933909                & 0.004421458              & 0.6021877                & NA                       & NA                       & T2\\_Win                \\\\\n",
       "\t 5a19f6719772221c48d2f9f0 & 2017-12-09 15:00:00      & Swansea                  & NA                       & West Brom                & NA                       & -0.02423344              & -0.1066833               & -0.1148918               & -0.3385736               & ...                      &  0.74354760              & -1.525527                &  0.02459464              & score                    & 0.4337707                & 0.345501753              & 0.2207276                & NA                       & NA                       & T2\\_Win                \\\\\n",
       "\t 5a19f6719772221c48d2f9f1 & 2017-12-09 15:00:00      & Tottenham                & NA                       & Stoke City               & NA                       &  2.02210898              &  2.0842651               &  2.0996903               & -0.3385736               & ...                      &  0.79409032              & -1.525527                &  2.04973789              & score                    & 0.7777348                & 0.148929556              & 0.0733356                & NA                       & NA                       & T2\\_Win                \\\\\n",
       "\t 5a19f6719772221c48d2f9f2 & 2017-12-09 17:30:00      & Newcastle Utd            & NA                       & Leicester                & NA                       & -0.55800277              & -0.4606444               & -0.4416270               & -0.3385736               & ...                      &  0.21156075              & -1.525527                & -0.31882605              & score                    & 0.3562872                & 0.275985894              & 0.3677269                & NA                       & NA                       & T2\\_Win                \\\\\n",
       "\t 5a1ac45d4825080ad7e3b9c2 & 2017-12-10 12:00:00      & Southampton              & NA                       & Arsenal                  & NA                       & -1.16595526              & -1.1310483               & -1.1045425               & -0.3385736               & ...                      & -0.73148374              & -1.525527                &         NaN              & score                    & 0.1996951                & 0.219607472              & 0.5806974                & NA                       & NA                       & T2\\_Win                \\\\\n",
       "\t 5a1ad9014825081aeace6799 & 2017-12-10 14:15:00      & Liverpool                & NA                       & Everton                  & NA                       &  1.17455248              &  1.2793569               &  1.2666328               & -0.3385736               & ...                      & -0.29539431              & -1.525527                &  1.14170119              & score                    & 0.5145707                & 0.367590374              & 0.1178389                & NA                       & NA                       & T2\\_Win                \\\\\n",
       "\t 5a1b13b99772220c94eb5151 & 2017-12-10 16:30:00      & Manchester United        & NA                       & Manchester City          & NA                       & -0.56000922              & -0.3529263               & -0.3716552               & -0.3385736               & ...                      & -1.48296742              & -1.525527                &         NaN              & score                    & 0.4268061                & 0.203830835              & 0.3693631                & NA                       & NA                       & T2\\_Win                \\\\\n",
       "\\end{tabular}\n"
      ],
      "text/markdown": [
       "\n",
       "id | date | team_1_name | team_1_score | team_2_name | team_2_score | d_ability_1 | d_ability_3 | d_ability_4 | is_november | ... | d_form_4 | d_h2h_2 | c_ability_3 | datatype | team_1_prob | team_tie_prob | team_2_prob | team_1_win | team_1_draw | team_1_result | \n",
       "|---|---|---|---|---|---|---|---|---|---|\n",
       "| 5a19f6719772221c48d2f9ec | 2017-12-09 12:30:00      | West Ham                 | NA                       | Chelsea                  | NA                       | -2.20500635              | -2.2454484               | -2.2445428               | -0.3385736               | ...                      | -0.94887132              | -1.525527                |         NaN              | score                    | 0.1119974                | 0.131345534              | 0.7566571                | NA                       | NA                       | T2_Win                   | \n",
       "| 5a19f6719772221c48d2f9ed | 2017-12-09 15:00:00      | Burnley                  | NA                       | Watford                  | NA                       |  0.36483990              |  0.3435022               |  0.3538497               | -0.3385736               | ...                      |  0.71709936              | -1.525527                |  0.30058679              | score                    | 0.6147532                | 0.205461789              | 0.1797850                | NA                       | NA                       | T2_Win                   | \n",
       "| 5a19f6719772221c48d2f9ee | 2017-12-09 15:00:00      | Crystal Palace           | NA                       | Bournemouth              | NA                       | -0.33941503              | -0.4276060               | -0.4371238               | -0.3385736               | ...                      |  0.28919047              | -1.525527                |         NaN              | score                    | 0.4211646                | 0.108778647              | 0.4700568                | NA                       | NA                       | T2_Win                   | \n",
       "| 5a19f6719772221c48d2f9ef | 2017-12-09 15:00:00      | Huddersfield             | NA                       | Brighton                 | NA                       | -0.88925776              | -0.8380912               | -0.8429574               | -0.3385736               | ...                      |  0.03982277              | -1.525527                | -0.89467958              | score                    | 0.3933909                | 0.004421458              | 0.6021877                | NA                       | NA                       | T2_Win                   | \n",
       "| 5a19f6719772221c48d2f9f0 | 2017-12-09 15:00:00      | Swansea                  | NA                       | West Brom                | NA                       | -0.02423344              | -0.1066833               | -0.1148918               | -0.3385736               | ...                      |  0.74354760              | -1.525527                |  0.02459464              | score                    | 0.4337707                | 0.345501753              | 0.2207276                | NA                       | NA                       | T2_Win                   | \n",
       "| 5a19f6719772221c48d2f9f1 | 2017-12-09 15:00:00      | Tottenham                | NA                       | Stoke City               | NA                       |  2.02210898              |  2.0842651               |  2.0996903               | -0.3385736               | ...                      |  0.79409032              | -1.525527                |  2.04973789              | score                    | 0.7777348                | 0.148929556              | 0.0733356                | NA                       | NA                       | T2_Win                   | \n",
       "| 5a19f6719772221c48d2f9f2 | 2017-12-09 17:30:00      | Newcastle Utd            | NA                       | Leicester                | NA                       | -0.55800277              | -0.4606444               | -0.4416270               | -0.3385736               | ...                      |  0.21156075              | -1.525527                | -0.31882605              | score                    | 0.3562872                | 0.275985894              | 0.3677269                | NA                       | NA                       | T2_Win                   | \n",
       "| 5a1ac45d4825080ad7e3b9c2 | 2017-12-10 12:00:00      | Southampton              | NA                       | Arsenal                  | NA                       | -1.16595526              | -1.1310483               | -1.1045425               | -0.3385736               | ...                      | -0.73148374              | -1.525527                |         NaN              | score                    | 0.1996951                | 0.219607472              | 0.5806974                | NA                       | NA                       | T2_Win                   | \n",
       "| 5a1ad9014825081aeace6799 | 2017-12-10 14:15:00      | Liverpool                | NA                       | Everton                  | NA                       |  1.17455248              |  1.2793569               |  1.2666328               | -0.3385736               | ...                      | -0.29539431              | -1.525527                |  1.14170119              | score                    | 0.5145707                | 0.367590374              | 0.1178389                | NA                       | NA                       | T2_Win                   | \n",
       "| 5a1b13b99772220c94eb5151 | 2017-12-10 16:30:00      | Manchester United        | NA                       | Manchester City          | NA                       | -0.56000922              | -0.3529263               | -0.3716552               | -0.3385736               | ...                      | -1.48296742              | -1.525527                |         NaN              | score                    | 0.4268061                | 0.203830835              | 0.3693631                | NA                       | NA                       | T2_Win                   | \n",
       "\n",
       "\n"
      ],
      "text/plain": [
       "   id                       date                team_1_name       team_1_score\n",
       "1  5a19f6719772221c48d2f9ec 2017-12-09 12:30:00 West Ham          NA          \n",
       "2  5a19f6719772221c48d2f9ed 2017-12-09 15:00:00 Burnley           NA          \n",
       "3  5a19f6719772221c48d2f9ee 2017-12-09 15:00:00 Crystal Palace    NA          \n",
       "4  5a19f6719772221c48d2f9ef 2017-12-09 15:00:00 Huddersfield      NA          \n",
       "5  5a19f6719772221c48d2f9f0 2017-12-09 15:00:00 Swansea           NA          \n",
       "6  5a19f6719772221c48d2f9f1 2017-12-09 15:00:00 Tottenham         NA          \n",
       "7  5a19f6719772221c48d2f9f2 2017-12-09 17:30:00 Newcastle Utd     NA          \n",
       "8  5a1ac45d4825080ad7e3b9c2 2017-12-10 12:00:00 Southampton       NA          \n",
       "9  5a1ad9014825081aeace6799 2017-12-10 14:15:00 Liverpool         NA          \n",
       "10 5a1b13b99772220c94eb5151 2017-12-10 16:30:00 Manchester United NA          \n",
       "   team_2_name     team_2_score d_ability_1 d_ability_3 d_ability_4 is_november\n",
       "1  Chelsea         NA           -2.20500635 -2.2454484  -2.2445428  -0.3385736 \n",
       "2  Watford         NA            0.36483990  0.3435022   0.3538497  -0.3385736 \n",
       "3  Bournemouth     NA           -0.33941503 -0.4276060  -0.4371238  -0.3385736 \n",
       "4  Brighton        NA           -0.88925776 -0.8380912  -0.8429574  -0.3385736 \n",
       "5  West Brom       NA           -0.02423344 -0.1066833  -0.1148918  -0.3385736 \n",
       "6  Stoke City      NA            2.02210898  2.0842651   2.0996903  -0.3385736 \n",
       "7  Leicester       NA           -0.55800277 -0.4606444  -0.4416270  -0.3385736 \n",
       "8  Arsenal         NA           -1.16595526 -1.1310483  -1.1045425  -0.3385736 \n",
       "9  Everton         NA            1.17455248  1.2793569   1.2666328  -0.3385736 \n",
       "10 Manchester City NA           -0.56000922 -0.3529263  -0.3716552  -0.3385736 \n",
       "   ... d_form_4    d_h2h_2   c_ability_3 datatype team_1_prob team_tie_prob\n",
       "1  ... -0.94887132 -1.525527         NaN score    0.1119974   0.131345534  \n",
       "2  ...  0.71709936 -1.525527  0.30058679 score    0.6147532   0.205461789  \n",
       "3  ...  0.28919047 -1.525527         NaN score    0.4211646   0.108778647  \n",
       "4  ...  0.03982277 -1.525527 -0.89467958 score    0.3933909   0.004421458  \n",
       "5  ...  0.74354760 -1.525527  0.02459464 score    0.4337707   0.345501753  \n",
       "6  ...  0.79409032 -1.525527  2.04973789 score    0.7777348   0.148929556  \n",
       "7  ...  0.21156075 -1.525527 -0.31882605 score    0.3562872   0.275985894  \n",
       "8  ... -0.73148374 -1.525527         NaN score    0.1996951   0.219607472  \n",
       "9  ... -0.29539431 -1.525527  1.14170119 score    0.5145707   0.367590374  \n",
       "10 ... -1.48296742 -1.525527         NaN score    0.4268061   0.203830835  \n",
       "   team_2_prob team_1_win team_1_draw team_1_result\n",
       "1  0.7566571   NA         NA          T2_Win       \n",
       "2  0.1797850   NA         NA          T2_Win       \n",
       "3  0.4700568   NA         NA          T2_Win       \n",
       "4  0.6021877   NA         NA          T2_Win       \n",
       "5  0.2207276   NA         NA          T2_Win       \n",
       "6  0.0733356   NA         NA          T2_Win       \n",
       "7  0.3677269   NA         NA          T2_Win       \n",
       "8  0.5806974   NA         NA          T2_Win       \n",
       "9  0.1178389   NA         NA          T2_Win       \n",
       "10 0.3693631   NA         NA          T2_Win       "
      ]
     },
     "metadata": {},
     "output_type": "display_data"
    }
   ],
   "source": [
    "score_df"
   ]
  },
  {
   "cell_type": "markdown",
   "metadata": {},
   "source": [
    "### Rebuild scores, merge and write"
   ]
  },
  {
   "cell_type": "code",
   "execution_count": 176,
   "metadata": {
    "collapsed": true
   },
   "outputs": [],
   "source": [
    "score <- read.csv('english_premier_league_competition_data.csv')"
   ]
  },
  {
   "cell_type": "code",
   "execution_count": 177,
   "metadata": {},
   "outputs": [],
   "source": [
    "submit <- score %>%\n",
    "    select(-team_1_prob,-team_2_prob,-team_tie_prob) %>%\n",
    "    merge(\n",
    "        score_df %>% select(id, team_1_prob, team_2_prob, team_tie_prob)\n",
    "    )"
   ]
  },
  {
   "cell_type": "code",
   "execution_count": 178,
   "metadata": {},
   "outputs": [
    {
     "data": {
      "text/html": [
       "<table>\n",
       "<thead><tr><th scope=col>id</th><th scope=col>date</th><th scope=col>team_1_name</th><th scope=col>team_2_name</th><th scope=col>d_ability_1</th><th scope=col>d_ability_3</th><th scope=col>d_ability_4</th><th scope=col>is_november</th><th scope=col>is_february</th><th scope=col>d_form_4</th><th scope=col>d_h2h_2</th><th scope=col>c_ability_3</th><th scope=col>team_1_prob</th><th scope=col>team_2_prob</th><th scope=col>team_tie_prob</th></tr></thead>\n",
       "<tbody>\n",
       "\t<tr><td>5a19f6719772221c48d2f9ec</td><td>2017-12-09 12:30:00     </td><td>West Ham                </td><td>Chelsea                 </td><td>-2.20500635             </td><td>-2.2454484              </td><td>-2.2445428              </td><td>-0.3385736              </td><td>-0.3178843              </td><td>-0.94887132             </td><td>-1.525527               </td><td>        NaN             </td><td>0.1119974               </td><td>0.7566571               </td><td>0.131345534             </td></tr>\n",
       "\t<tr><td>5a19f6719772221c48d2f9ed</td><td>2017-12-09 15:00:00     </td><td>Burnley                 </td><td>Watford                 </td><td> 0.36483990             </td><td> 0.3435022              </td><td> 0.3538497              </td><td>-0.3385736              </td><td>-0.3178843              </td><td> 0.71709936             </td><td>-1.525527               </td><td> 0.30058679             </td><td>0.6147532               </td><td>0.1797850               </td><td>0.205461789             </td></tr>\n",
       "\t<tr><td>5a19f6719772221c48d2f9ee</td><td>2017-12-09 15:00:00     </td><td>Crystal Palace          </td><td>Bournemouth             </td><td>-0.33941503             </td><td>-0.4276060              </td><td>-0.4371238              </td><td>-0.3385736              </td><td>-0.3178843              </td><td> 0.28919047             </td><td>-1.525527               </td><td>        NaN             </td><td>0.4211646               </td><td>0.4700568               </td><td>0.108778647             </td></tr>\n",
       "\t<tr><td>5a19f6719772221c48d2f9ef</td><td>2017-12-09 15:00:00     </td><td>Huddersfield            </td><td>Brighton                </td><td>-0.88925776             </td><td>-0.8380912              </td><td>-0.8429574              </td><td>-0.3385736              </td><td>-0.3178843              </td><td> 0.03982277             </td><td>-1.525527               </td><td>-0.89467958             </td><td>0.3933909               </td><td>0.6021877               </td><td>0.004421458             </td></tr>\n",
       "\t<tr><td>5a19f6719772221c48d2f9f0</td><td>2017-12-09 15:00:00     </td><td>Swansea                 </td><td>West Brom               </td><td>-0.02423344             </td><td>-0.1066833              </td><td>-0.1148918              </td><td>-0.3385736              </td><td>-0.3178843              </td><td> 0.74354760             </td><td>-1.525527               </td><td> 0.02459464             </td><td>0.4337707               </td><td>0.2207276               </td><td>0.345501753             </td></tr>\n",
       "\t<tr><td>5a19f6719772221c48d2f9f1</td><td>2017-12-09 15:00:00     </td><td>Tottenham               </td><td>Stoke City              </td><td> 2.02210898             </td><td> 2.0842651              </td><td> 2.0996903              </td><td>-0.3385736              </td><td>-0.3178843              </td><td> 0.79409032             </td><td>-1.525527               </td><td> 2.04973789             </td><td>0.7777348               </td><td>0.0733356               </td><td>0.148929556             </td></tr>\n",
       "\t<tr><td>5a19f6719772221c48d2f9f2</td><td>2017-12-09 17:30:00     </td><td>Newcastle Utd           </td><td>Leicester               </td><td>-0.55800277             </td><td>-0.4606444              </td><td>-0.4416270              </td><td>-0.3385736              </td><td>-0.3178843              </td><td> 0.21156075             </td><td>-1.525527               </td><td>-0.31882605             </td><td>0.3562872               </td><td>0.3677269               </td><td>0.275985894             </td></tr>\n",
       "\t<tr><td>5a1ac45d4825080ad7e3b9c2</td><td>2017-12-10 12:00:00     </td><td>Southampton             </td><td>Arsenal                 </td><td>-1.16595526             </td><td>-1.1310483              </td><td>-1.1045425              </td><td>-0.3385736              </td><td>-0.3178843              </td><td>-0.73148374             </td><td>-1.525527               </td><td>        NaN             </td><td>0.1996951               </td><td>0.5806974               </td><td>0.219607472             </td></tr>\n",
       "\t<tr><td>5a1ad9014825081aeace6799</td><td>2017-12-10 14:15:00     </td><td>Liverpool               </td><td>Everton                 </td><td> 1.17455248             </td><td> 1.2793569              </td><td> 1.2666328              </td><td>-0.3385736              </td><td>-0.3178843              </td><td>-0.29539431             </td><td>-1.525527               </td><td> 1.14170119             </td><td>0.5145707               </td><td>0.1178389               </td><td>0.367590374             </td></tr>\n",
       "\t<tr><td>5a1b13b99772220c94eb5151</td><td>2017-12-10 16:30:00     </td><td>Manchester United       </td><td>Manchester City         </td><td>-0.56000922             </td><td>-0.3529263              </td><td>-0.3716552              </td><td>-0.3385736              </td><td>-0.3178843              </td><td>-1.48296742             </td><td>-1.525527               </td><td>        NaN             </td><td>0.4268061               </td><td>0.3693631               </td><td>0.203830835             </td></tr>\n",
       "</tbody>\n",
       "</table>\n"
      ],
      "text/latex": [
       "\\begin{tabular}{r|lllllllllllllll}\n",
       " id & date & team\\_1\\_name & team\\_2\\_name & d\\_ability\\_1 & d\\_ability\\_3 & d\\_ability\\_4 & is\\_november & is\\_february & d\\_form\\_4 & d\\_h2h\\_2 & c\\_ability\\_3 & team\\_1\\_prob & team\\_2\\_prob & team\\_tie\\_prob\\\\\n",
       "\\hline\n",
       "\t 5a19f6719772221c48d2f9ec & 2017-12-09 12:30:00      & West Ham                 & Chelsea                  & -2.20500635              & -2.2454484               & -2.2445428               & -0.3385736               & -0.3178843               & -0.94887132              & -1.525527                &         NaN              & 0.1119974                & 0.7566571                & 0.131345534             \\\\\n",
       "\t 5a19f6719772221c48d2f9ed & 2017-12-09 15:00:00      & Burnley                  & Watford                  &  0.36483990              &  0.3435022               &  0.3538497               & -0.3385736               & -0.3178843               &  0.71709936              & -1.525527                &  0.30058679              & 0.6147532                & 0.1797850                & 0.205461789             \\\\\n",
       "\t 5a19f6719772221c48d2f9ee & 2017-12-09 15:00:00      & Crystal Palace           & Bournemouth              & -0.33941503              & -0.4276060               & -0.4371238               & -0.3385736               & -0.3178843               &  0.28919047              & -1.525527                &         NaN              & 0.4211646                & 0.4700568                & 0.108778647             \\\\\n",
       "\t 5a19f6719772221c48d2f9ef & 2017-12-09 15:00:00      & Huddersfield             & Brighton                 & -0.88925776              & -0.8380912               & -0.8429574               & -0.3385736               & -0.3178843               &  0.03982277              & -1.525527                & -0.89467958              & 0.3933909                & 0.6021877                & 0.004421458             \\\\\n",
       "\t 5a19f6719772221c48d2f9f0 & 2017-12-09 15:00:00      & Swansea                  & West Brom                & -0.02423344              & -0.1066833               & -0.1148918               & -0.3385736               & -0.3178843               &  0.74354760              & -1.525527                &  0.02459464              & 0.4337707                & 0.2207276                & 0.345501753             \\\\\n",
       "\t 5a19f6719772221c48d2f9f1 & 2017-12-09 15:00:00      & Tottenham                & Stoke City               &  2.02210898              &  2.0842651               &  2.0996903               & -0.3385736               & -0.3178843               &  0.79409032              & -1.525527                &  2.04973789              & 0.7777348                & 0.0733356                & 0.148929556             \\\\\n",
       "\t 5a19f6719772221c48d2f9f2 & 2017-12-09 17:30:00      & Newcastle Utd            & Leicester                & -0.55800277              & -0.4606444               & -0.4416270               & -0.3385736               & -0.3178843               &  0.21156075              & -1.525527                & -0.31882605              & 0.3562872                & 0.3677269                & 0.275985894             \\\\\n",
       "\t 5a1ac45d4825080ad7e3b9c2 & 2017-12-10 12:00:00      & Southampton              & Arsenal                  & -1.16595526              & -1.1310483               & -1.1045425               & -0.3385736               & -0.3178843               & -0.73148374              & -1.525527                &         NaN              & 0.1996951                & 0.5806974                & 0.219607472             \\\\\n",
       "\t 5a1ad9014825081aeace6799 & 2017-12-10 14:15:00      & Liverpool                & Everton                  &  1.17455248              &  1.2793569               &  1.2666328               & -0.3385736               & -0.3178843               & -0.29539431              & -1.525527                &  1.14170119              & 0.5145707                & 0.1178389                & 0.367590374             \\\\\n",
       "\t 5a1b13b99772220c94eb5151 & 2017-12-10 16:30:00      & Manchester United        & Manchester City          & -0.56000922              & -0.3529263               & -0.3716552               & -0.3385736               & -0.3178843               & -1.48296742              & -1.525527                &         NaN              & 0.4268061                & 0.3693631                & 0.203830835             \\\\\n",
       "\\end{tabular}\n"
      ],
      "text/markdown": [
       "\n",
       "id | date | team_1_name | team_2_name | d_ability_1 | d_ability_3 | d_ability_4 | is_november | is_february | d_form_4 | d_h2h_2 | c_ability_3 | team_1_prob | team_2_prob | team_tie_prob | \n",
       "|---|---|---|---|---|---|---|---|---|---|\n",
       "| 5a19f6719772221c48d2f9ec | 2017-12-09 12:30:00      | West Ham                 | Chelsea                  | -2.20500635              | -2.2454484               | -2.2445428               | -0.3385736               | -0.3178843               | -0.94887132              | -1.525527                |         NaN              | 0.1119974                | 0.7566571                | 0.131345534              | \n",
       "| 5a19f6719772221c48d2f9ed | 2017-12-09 15:00:00      | Burnley                  | Watford                  |  0.36483990              |  0.3435022               |  0.3538497               | -0.3385736               | -0.3178843               |  0.71709936              | -1.525527                |  0.30058679              | 0.6147532                | 0.1797850                | 0.205461789              | \n",
       "| 5a19f6719772221c48d2f9ee | 2017-12-09 15:00:00      | Crystal Palace           | Bournemouth              | -0.33941503              | -0.4276060               | -0.4371238               | -0.3385736               | -0.3178843               |  0.28919047              | -1.525527                |         NaN              | 0.4211646                | 0.4700568                | 0.108778647              | \n",
       "| 5a19f6719772221c48d2f9ef | 2017-12-09 15:00:00      | Huddersfield             | Brighton                 | -0.88925776              | -0.8380912               | -0.8429574               | -0.3385736               | -0.3178843               |  0.03982277              | -1.525527                | -0.89467958              | 0.3933909                | 0.6021877                | 0.004421458              | \n",
       "| 5a19f6719772221c48d2f9f0 | 2017-12-09 15:00:00      | Swansea                  | West Brom                | -0.02423344              | -0.1066833               | -0.1148918               | -0.3385736               | -0.3178843               |  0.74354760              | -1.525527                |  0.02459464              | 0.4337707                | 0.2207276                | 0.345501753              | \n",
       "| 5a19f6719772221c48d2f9f1 | 2017-12-09 15:00:00      | Tottenham                | Stoke City               |  2.02210898              |  2.0842651               |  2.0996903               | -0.3385736               | -0.3178843               |  0.79409032              | -1.525527                |  2.04973789              | 0.7777348                | 0.0733356                | 0.148929556              | \n",
       "| 5a19f6719772221c48d2f9f2 | 2017-12-09 17:30:00      | Newcastle Utd            | Leicester                | -0.55800277              | -0.4606444               | -0.4416270               | -0.3385736               | -0.3178843               |  0.21156075              | -1.525527                | -0.31882605              | 0.3562872                | 0.3677269                | 0.275985894              | \n",
       "| 5a1ac45d4825080ad7e3b9c2 | 2017-12-10 12:00:00      | Southampton              | Arsenal                  | -1.16595526              | -1.1310483               | -1.1045425               | -0.3385736               | -0.3178843               | -0.73148374              | -1.525527                |         NaN              | 0.1996951                | 0.5806974                | 0.219607472              | \n",
       "| 5a1ad9014825081aeace6799 | 2017-12-10 14:15:00      | Liverpool                | Everton                  |  1.17455248              |  1.2793569               |  1.2666328               | -0.3385736               | -0.3178843               | -0.29539431              | -1.525527                |  1.14170119              | 0.5145707                | 0.1178389                | 0.367590374              | \n",
       "| 5a1b13b99772220c94eb5151 | 2017-12-10 16:30:00      | Manchester United        | Manchester City          | -0.56000922              | -0.3529263               | -0.3716552               | -0.3385736               | -0.3178843               | -1.48296742              | -1.525527                |         NaN              | 0.4268061                | 0.3693631                | 0.203830835              | \n",
       "\n",
       "\n"
      ],
      "text/plain": [
       "   id                       date                team_1_name      \n",
       "1  5a19f6719772221c48d2f9ec 2017-12-09 12:30:00 West Ham         \n",
       "2  5a19f6719772221c48d2f9ed 2017-12-09 15:00:00 Burnley          \n",
       "3  5a19f6719772221c48d2f9ee 2017-12-09 15:00:00 Crystal Palace   \n",
       "4  5a19f6719772221c48d2f9ef 2017-12-09 15:00:00 Huddersfield     \n",
       "5  5a19f6719772221c48d2f9f0 2017-12-09 15:00:00 Swansea          \n",
       "6  5a19f6719772221c48d2f9f1 2017-12-09 15:00:00 Tottenham        \n",
       "7  5a19f6719772221c48d2f9f2 2017-12-09 17:30:00 Newcastle Utd    \n",
       "8  5a1ac45d4825080ad7e3b9c2 2017-12-10 12:00:00 Southampton      \n",
       "9  5a1ad9014825081aeace6799 2017-12-10 14:15:00 Liverpool        \n",
       "10 5a1b13b99772220c94eb5151 2017-12-10 16:30:00 Manchester United\n",
       "   team_2_name     d_ability_1 d_ability_3 d_ability_4 is_november is_february\n",
       "1  Chelsea         -2.20500635 -2.2454484  -2.2445428  -0.3385736  -0.3178843 \n",
       "2  Watford          0.36483990  0.3435022   0.3538497  -0.3385736  -0.3178843 \n",
       "3  Bournemouth     -0.33941503 -0.4276060  -0.4371238  -0.3385736  -0.3178843 \n",
       "4  Brighton        -0.88925776 -0.8380912  -0.8429574  -0.3385736  -0.3178843 \n",
       "5  West Brom       -0.02423344 -0.1066833  -0.1148918  -0.3385736  -0.3178843 \n",
       "6  Stoke City       2.02210898  2.0842651   2.0996903  -0.3385736  -0.3178843 \n",
       "7  Leicester       -0.55800277 -0.4606444  -0.4416270  -0.3385736  -0.3178843 \n",
       "8  Arsenal         -1.16595526 -1.1310483  -1.1045425  -0.3385736  -0.3178843 \n",
       "9  Everton          1.17455248  1.2793569   1.2666328  -0.3385736  -0.3178843 \n",
       "10 Manchester City -0.56000922 -0.3529263  -0.3716552  -0.3385736  -0.3178843 \n",
       "   d_form_4    d_h2h_2   c_ability_3 team_1_prob team_2_prob team_tie_prob\n",
       "1  -0.94887132 -1.525527         NaN 0.1119974   0.7566571   0.131345534  \n",
       "2   0.71709936 -1.525527  0.30058679 0.6147532   0.1797850   0.205461789  \n",
       "3   0.28919047 -1.525527         NaN 0.4211646   0.4700568   0.108778647  \n",
       "4   0.03982277 -1.525527 -0.89467958 0.3933909   0.6021877   0.004421458  \n",
       "5   0.74354760 -1.525527  0.02459464 0.4337707   0.2207276   0.345501753  \n",
       "6   0.79409032 -1.525527  2.04973789 0.7777348   0.0733356   0.148929556  \n",
       "7   0.21156075 -1.525527 -0.31882605 0.3562872   0.3677269   0.275985894  \n",
       "8  -0.73148374 -1.525527         NaN 0.1996951   0.5806974   0.219607472  \n",
       "9  -0.29539431 -1.525527  1.14170119 0.5145707   0.1178389   0.367590374  \n",
       "10 -1.48296742 -1.525527         NaN 0.4268061   0.3693631   0.203830835  "
      ]
     },
     "metadata": {},
     "output_type": "display_data"
    }
   ],
   "source": [
    "submit"
   ]
  },
  {
   "cell_type": "code",
   "execution_count": 179,
   "metadata": {
    "collapsed": true
   },
   "outputs": [],
   "source": [
    "submit <- submit %>%\n",
    "    mutate(team_1_prob = round(team_1_prob, digits = 5),\n",
    "           team_2_prob = round(team_2_prob, digits = 5))"
   ]
  },
  {
   "cell_type": "code",
   "execution_count": 180,
   "metadata": {
    "collapsed": true
   },
   "outputs": [],
   "source": [
    "submit$team_tie_prob = 1 - submit$team_1_prob - submit$team_2_prob"
   ]
  },
  {
   "cell_type": "code",
   "execution_count": 181,
   "metadata": {
    "collapsed": true
   },
   "outputs": [],
   "source": [
    "submit %>% write.csv('submit.csv', row.names = F)"
   ]
  },
  {
   "cell_type": "code",
   "execution_count": null,
   "metadata": {
    "collapsed": true
   },
   "outputs": [],
   "source": []
  }
 ],
 "metadata": {
  "kernelspec": {
   "display_name": "R",
   "language": "R",
   "name": "ir"
  },
  "language_info": {
   "codemirror_mode": "r",
   "file_extension": ".r",
   "mimetype": "text/x-r-source",
   "name": "R",
   "pygments_lexer": "r",
   "version": "3.4.2"
  }
 },
 "nbformat": 4,
 "nbformat_minor": 2
}
