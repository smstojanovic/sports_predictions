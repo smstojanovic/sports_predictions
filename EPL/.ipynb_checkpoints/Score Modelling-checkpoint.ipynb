{
 "cells": [
  {
   "cell_type": "markdown",
   "metadata": {},
   "source": [
    "# The idea here is to model the score (with a poisson response)"
   ]
  },
  {
   "cell_type": "code",
   "execution_count": 49,
   "metadata": {},
   "outputs": [],
   "source": [
    "library(tidyverse)\n",
    "library(rpart)\n",
    "library(pROC)\n",
    "library(rpart.plot)\n",
    "library(caret)\n",
    "library(nnet)\n",
    "library(randomForest)\n",
    "library(Matrix)\n",
    "library(xgboost)\n",
    "library(zoo)"
   ]
  },
  {
   "cell_type": "code",
   "execution_count": 78,
   "metadata": {},
   "outputs": [],
   "source": [
    "library(skellam)"
   ]
  },
  {
   "cell_type": "code",
   "execution_count": 164,
   "metadata": {
    "collapsed": true
   },
   "outputs": [],
   "source": [
    "df <- read.csv('epl_data_w_features.csv')"
   ]
  },
  {
   "cell_type": "code",
   "execution_count": 165,
   "metadata": {
    "collapsed": true
   },
   "outputs": [],
   "source": [
    "df_play <- df %>%\n",
    "    filter(data_type == 'hist') %>%\n",
    "    na.omit %>%\n",
    "    select(-data_type, -id)"
   ]
  },
  {
   "cell_type": "code",
   "execution_count": 166,
   "metadata": {
    "collapsed": true
   },
   "outputs": [],
   "source": [
    "logloss <- function(result, team_1_prob, team_2_prob, team_tie_prob){\n",
    "    \n",
    "    team_tie <- as.numeric(result == 'tie')\n",
    "    team_1_win <- as.numeric(result == 'team_1_win')\n",
    "    team_2_win <- as.numeric(result == 'team_2_win')\n",
    "    \n",
    "    log_losses <- team_tie * log(team_tie_prob) + team_1_win * log(team_1_prob) + team_2_win * log(team_2_prob)\n",
    "    \n",
    "    log_losses[which(!is.finite(log_losses))] <- NA\n",
    "    \n",
    "    return(\n",
    "         -1 * mean( log_losses, na.rm = T  )\n",
    "        )\n",
    "}"
   ]
  },
  {
   "cell_type": "code",
   "execution_count": 167,
   "metadata": {
    "collapsed": true
   },
   "outputs": [],
   "source": [
    "holdout <- df_play[round(df_play %>% nrow * 0.95):(df_play %>% nrow),]\n",
    "df_model <- df_play[1:round(df_play %>% nrow * 0.95),]"
   ]
  },
  {
   "cell_type": "code",
   "execution_count": 168,
   "metadata": {},
   "outputs": [],
   "source": [
    "index <- caret::createDataPartition(y = df_model$team_1_score, p = 0.8, list = F)"
   ]
  },
  {
   "cell_type": "code",
   "execution_count": 169,
   "metadata": {
    "collapsed": true
   },
   "outputs": [],
   "source": [
    "train <- df_model[index,]\n",
    "test <- df_model[-index,]"
   ]
  },
  {
   "cell_type": "markdown",
   "metadata": {},
   "source": [
    "## GLM methods"
   ]
  },
  {
   "cell_type": "markdown",
   "metadata": {},
   "source": [
    "### Standard approach"
   ]
  },
  {
   "cell_type": "code",
   "execution_count": 170,
   "metadata": {},
   "outputs": [],
   "source": [
    "fit.poiss_1 <- train %>%\n",
    "                select(-team_2_score, -result) %>%\n",
    "                glm(formula = team_1_score ~ .,\n",
    "                       family=\"poisson\")\n",
    "\n",
    "fit.poiss_2 <- train %>%\n",
    "                select(-team_1_score, -result) %>%\n",
    "                glm(formula = team_2_score ~ .,\n",
    "                       family=\"poisson\")"
   ]
  },
  {
   "cell_type": "code",
   "execution_count": 171,
   "metadata": {},
   "outputs": [
    {
     "data": {
      "text/plain": [
       "\n",
       "Call:\n",
       "glm(formula = team_2_score ~ ., family = \"poisson\", data = .)\n",
       "\n",
       "Deviance Residuals: \n",
       "   Min      1Q  Median      3Q     Max  \n",
       "-2.198  -1.223  -0.085   0.517   3.192  \n",
       "\n",
       "Coefficients:\n",
       "                               Estimate Std. Error z value Pr(>|z|)    \n",
       "(Intercept)                   1.288e+00  9.426e-01   1.366 0.171937    \n",
       "is_february                  -5.660e-03  1.676e-02  -0.338 0.735632    \n",
       "is_november                  -1.818e-02  1.761e-02  -1.032 0.301943    \n",
       "c_ability_3                   2.326e-02  2.754e-01   0.084 0.932668    \n",
       "d_ability_1                  -2.461e+00  5.288e-01  -4.654 3.26e-06 ***\n",
       "d_ability_3                   2.521e+00  1.665e+00   1.514 0.129985    \n",
       "d_ability_4                  -1.757e-01  1.501e+00  -0.117 0.906852    \n",
       "d_form_4                     -3.646e-02  6.178e-02  -0.590 0.555106    \n",
       "d_h2h_2                      -9.133e-02  2.646e-02  -3.451 0.000558 ***\n",
       "team_1_nameAston Villa        6.035e-01  1.650e-01   3.657 0.000255 ***\n",
       "team_1_nameBirmingham         2.455e-01  2.070e-01   1.186 0.235626    \n",
       "team_1_nameBlackburn          4.401e-01  1.690e-01   2.604 0.009213 ** \n",
       "team_1_nameBlackpool          9.123e-01  2.991e-01   3.050 0.002291 ** \n",
       "team_1_nameBolton             5.588e-01  1.732e-01   3.226 0.001256 ** \n",
       "team_1_nameBournemouth        7.940e-01  2.923e-01   2.716 0.006599 ** \n",
       "team_1_nameBurnley            2.301e-01  3.210e-01   0.717 0.473497    \n",
       "team_1_nameCardiff            9.151e-01  3.196e-01   2.863 0.004192 ** \n",
       "team_1_nameCharlton           5.934e-01  2.082e-01   2.850 0.004376 ** \n",
       "team_1_nameChelsea           -6.234e-02  1.284e-01  -0.485 0.627365    \n",
       "team_1_nameCrystal Palace     5.568e-01  2.336e-01   2.384 0.017147 *  \n",
       "team_1_nameEverton            3.719e-01  1.584e-01   2.348 0.018854 *  \n",
       "team_1_nameFulham             5.638e-01  1.773e-01   3.179 0.001479 ** \n",
       "team_1_nameHull City          5.447e-01  2.255e-01   2.416 0.015682 *  \n",
       "team_1_nameLeicester          2.063e-01  2.572e-01   0.802 0.422453    \n",
       "team_1_nameLiverpool         -8.429e-02  1.243e-01  -0.678 0.497594    \n",
       "team_1_nameManchester City    1.257e-01  1.530e-01   0.821 0.411520    \n",
       "team_1_nameManchester United -4.220e-02  1.257e-01  -0.336 0.737124    \n",
       "team_1_nameMiddlesbrough      3.914e-01  1.780e-01   2.198 0.027928 *  \n",
       "team_1_nameNewcastle Utd      4.232e-01  1.633e-01   2.591 0.009564 ** \n",
       "team_1_nameNorwich            2.030e-01  2.329e-01   0.872 0.383463    \n",
       "team_1_namePortsmouth         4.452e-01  1.729e-01   2.575 0.010031 *  \n",
       "team_1_nameQPR                3.739e-01  2.657e-01   1.407 0.159379    \n",
       "team_1_nameReading            7.016e-01  2.147e-01   3.268 0.001083 ** \n",
       "team_1_nameSheffield Utd      6.508e-01  3.757e-01   1.732 0.083264 .  \n",
       "team_1_nameSouthampton        3.906e-01  1.989e-01   1.964 0.049552 *  \n",
       "team_1_nameStoke City         1.787e-01  1.834e-01   0.974 0.329978    \n",
       "team_1_nameSunderland         4.854e-01  1.864e-01   2.603 0.009229 ** \n",
       "team_1_nameSwansea            3.814e-01  2.130e-01   1.791 0.073350 .  \n",
       "team_1_nameTottenham          1.737e-01  1.389e-01   1.250 0.211223    \n",
       "team_1_nameWatford            6.152e-01  2.569e-01   2.395 0.016635 *  \n",
       "team_1_nameWest Brom          6.085e-01  1.941e-01   3.135 0.001716 ** \n",
       "team_1_nameWest Ham           6.006e-01  1.711e-01   3.510 0.000449 ***\n",
       "team_1_nameWigan              8.537e-01  1.820e-01   4.692 2.71e-06 ***\n",
       "team_1_nameWolves             1.007e+00  2.329e-01   4.323 1.54e-05 ***\n",
       "team_2_nameAston Villa       -1.389e-01  1.496e-01  -0.928 0.353272    \n",
       "team_2_nameBirmingham        -6.314e-01  2.053e-01  -3.075 0.002102 ** \n",
       "team_2_nameBlackburn         -3.079e-01  1.590e-01  -1.936 0.052849 .  \n",
       "team_2_nameBlackpool          1.177e-01  3.251e-01   0.362 0.717207    \n",
       "team_2_nameBolton            -3.222e-01  1.539e-01  -2.093 0.036338 *  \n",
       "team_2_nameBournemouth       -4.379e-01  2.986e-01  -1.467 0.142483    \n",
       "team_2_nameBurnley           -1.270e+00  3.648e-01  -3.481 0.000499 ***\n",
       "team_2_nameCardiff           -9.508e-01  4.491e-01  -2.117 0.034241 *  \n",
       "team_2_nameCharlton          -6.528e-01  2.423e-01  -2.694 0.007057 ** \n",
       "team_2_nameChelsea            1.176e-01  9.594e-02   1.226 0.220280    \n",
       "team_2_nameCrystal Palace    -4.473e-01  2.367e-01  -1.890 0.058743 .  \n",
       "team_2_nameEverton           -3.903e-01  1.355e-01  -2.881 0.003961 ** \n",
       "team_2_nameFulham            -5.560e-01  1.811e-01  -3.071 0.002135 ** \n",
       "team_2_nameHull City         -6.851e-01  2.514e-01  -2.725 0.006425 ** \n",
       "team_2_nameLeeds             -1.209e+01  2.847e+02  -0.042 0.966110    \n",
       "team_2_nameLeicester         -4.860e-01  2.459e-01  -1.976 0.048114 *  \n",
       "team_2_nameLiverpool         -2.137e-01  9.307e-02  -2.297 0.021641 *  \n",
       "team_2_nameManchester City   -2.645e-01  1.269e-01  -2.085 0.037101 *  \n",
       "team_2_nameManchester United -3.261e-02  8.972e-02  -0.363 0.716279    \n",
       "team_2_nameMiddlesbrough     -6.863e-01  1.845e-01  -3.720 0.000199 ***\n",
       "team_2_nameNewcastle Utd     -5.063e-01  1.474e-01  -3.436 0.000591 ***\n",
       "team_2_nameNorwich           -8.443e-01  2.526e-01  -3.343 0.000830 ***\n",
       "team_2_namePortsmouth        -6.602e-01  1.830e-01  -3.607 0.000309 ***\n",
       "team_2_nameQPR               -5.729e-01  2.668e-01  -2.148 0.031733 *  \n",
       "team_2_nameReading           -4.414e-01  2.307e-01  -1.913 0.055699 .  \n",
       "team_2_nameSheffield Utd     -9.187e-01  4.514e-01  -2.035 0.041818 *  \n",
       "team_2_nameSouthampton       -5.037e-01  1.964e-01  -2.564 0.010338 *  \n",
       "team_2_nameStoke City        -7.112e-01  1.900e-01  -3.743 0.000182 ***\n",
       "team_2_nameSunderland        -5.096e-01  1.998e-01  -2.550 0.010773 *  \n",
       "team_2_nameSwansea           -4.413e-01  2.026e-01  -2.178 0.029393 *  \n",
       "team_2_nameTottenham         -2.490e-01  1.120e-01  -2.223 0.026212 *  \n",
       "team_2_nameWatford           -3.592e-01  2.903e-01  -1.237 0.215934    \n",
       "team_2_nameWest Brom         -6.664e-01  2.055e-01  -3.242 0.001185 ** \n",
       "team_2_nameWest Ham          -3.913e-01  1.639e-01  -2.388 0.016944 *  \n",
       "team_2_nameWigan             -3.029e-01  1.893e-01  -1.600 0.109668    \n",
       "team_2_nameWolves            -2.025e-01  2.545e-01  -0.796 0.426146    \n",
       "team_1_match_count           -4.777e-05  4.526e-04  -0.106 0.915949    \n",
       "team_1_opponent_last_score   -1.010e-02  1.769e-02  -0.571 0.567837    \n",
       "team_1_opponent_score_ema_10  1.049e-02  1.119e-01   0.094 0.925332    \n",
       "team_1_opponent_score_ma_10   1.100e-01  9.517e-02   1.156 0.247715    \n",
       "team_1_team_last_score       -1.228e-02  1.996e-02  -0.615 0.538484    \n",
       "team_1_team_score_ema_10      5.669e-02  1.147e-01   0.494 0.621007    \n",
       "team_1_team_score_ma_10      -4.393e-02  9.929e-02  -0.442 0.658133    \n",
       "team_1_team_win_index         4.692e-02  2.288e-01   0.205 0.837518    \n",
       "team_1_team_loss_index       -3.858e-01  3.137e-01  -1.230 0.218695    \n",
       "team_1_tie_index              8.753e-02  2.249e-01   0.389 0.697099    \n",
       "team_2_match_count           -4.726e-04  4.296e-04  -1.100 0.271265    \n",
       "team_2_opponent_last_score   -2.225e-02  1.964e-02  -1.133 0.257303    \n",
       "team_2_opponent_score_ema_10 -4.648e-03  1.135e-01  -0.041 0.967347    \n",
       "team_2_opponent_score_ma_10   9.119e-02  9.688e-02   0.941 0.346527    \n",
       "team_2_team_last_score        2.522e-02  1.770e-02   1.425 0.154204    \n",
       "team_2_team_score_ema_10     -1.078e-01  1.111e-01  -0.971 0.331581    \n",
       "team_2_team_score_ma_10       7.791e-02  9.350e-02   0.833 0.404707    \n",
       "team_2_team_win_index        -5.471e-01  2.867e-01  -1.908 0.056381 .  \n",
       "team_2_team_loss_index       -4.553e-01  2.863e-01  -1.591 0.111708    \n",
       "team_2_tie_index             -2.285e-01  2.282e-01  -1.001 0.316639    \n",
       "x_year                       -4.028e-03  2.976e-02  -0.135 0.892341    \n",
       "y_year                       -1.812e-02  2.370e-02  -0.765 0.444472    \n",
       "x_week                       -5.235e-03  3.947e-02  -0.133 0.894498    \n",
       "y_week                       -2.819e-02  2.713e-02  -1.039 0.298653    \n",
       "x_day                        -1.988e-02  2.382e-02  -0.835 0.403972    \n",
       "y_day                         4.176e-05  4.469e-02   0.001 0.999254    \n",
       "---\n",
       "Signif. codes:  0 '***' 0.001 '**' 0.01 '*' 0.05 '.' 0.1 ' ' 1\n",
       "\n",
       "(Dispersion parameter for poisson family taken to be 1)\n",
       "\n",
       "    Null deviance: 4353.5  on 3510  degrees of freedom\n",
       "Residual deviance: 3841.9  on 3405  degrees of freedom\n",
       "AIC: 9554.6\n",
       "\n",
       "Number of Fisher Scoring iterations: 10\n"
      ]
     },
     "metadata": {},
     "output_type": "display_data"
    }
   ],
   "source": [
    "fit.poiss_2 %>% summary"
   ]
  },
  {
   "cell_type": "code",
   "execution_count": 172,
   "metadata": {},
   "outputs": [],
   "source": [
    "preds_score_1 <- predict(fit.poiss_1, newdata = test, type=\"response\")\n",
    "preds_score_2 <- predict(fit.poiss_2, newdata = test, type=\"response\")"
   ]
  },
  {
   "cell_type": "code",
   "execution_count": 173,
   "metadata": {},
   "outputs": [],
   "source": [
    "test$preds_score_team_1_poiss_standard <- preds_score_1\n",
    "test$preds_score_team_2_poiss_standard <- preds_score_2"
   ]
  },
  {
   "cell_type": "markdown",
   "metadata": {},
   "source": [
    "### using the skellam distribution (defined as the difference between two poisson random variables) to infer the match probability"
   ]
  },
  {
   "cell_type": "code",
   "execution_count": 174,
   "metadata": {},
   "outputs": [],
   "source": [
    "test$prob_team_1 <- pskellam(-1, test$preds_score_team_2_poiss_standard, test$preds_score_team_1_poiss_standard, log.p = F)\n",
    "test$prob_tie <- dskellam(0, test$preds_score_team_2_poiss_standard, test$preds_score_team_1_poiss_standard, log = F)\n",
    "test$prob_team_2 <- 1 - pskellam(0, test$preds_score_team_2_poiss_standard, test$preds_score_team_1_poiss_standard, log.p = F)"
   ]
  },
  {
   "cell_type": "code",
   "execution_count": 175,
   "metadata": {},
   "outputs": [],
   "source": [
    "#test"
   ]
  },
  {
   "cell_type": "code",
   "execution_count": 176,
   "metadata": {},
   "outputs": [
    {
     "data": {
      "text/html": [
       "1.33974781056516"
      ],
      "text/latex": [
       "1.33974781056516"
      ],
      "text/markdown": [
       "1.33974781056516"
      ],
      "text/plain": [
       "[1] 1.339748"
      ]
     },
     "metadata": {},
     "output_type": "display_data"
    }
   ],
   "source": [
    "logloss(test$result, test$prob_tie, test$prob_team_1, test$prob_team_2)"
   ]
  },
  {
   "cell_type": "code",
   "execution_count": 177,
   "metadata": {
    "collapsed": true
   },
   "outputs": [],
   "source": [
    "test$team_tie <- as.numeric(test$result == 'tie')\n",
    "test$team_1_win <- as.numeric(test$result == 'team_1_win')\n",
    "test$team_2_win <- as.numeric(test$result == 'team_2_win')"
   ]
  },
  {
   "cell_type": "code",
   "execution_count": 178,
   "metadata": {},
   "outputs": [
    {
     "data": {
      "text/plain": [
       "\n",
       "Call:\n",
       "roc.default(response = test$team_tie, predictor = test$prob_tie)\n",
       "\n",
       "Data: test$prob_tie in 653 controls (test$team_tie 0) < 223 cases (test$team_tie 1).\n",
       "Area under the curve: 0.6078"
      ]
     },
     "metadata": {},
     "output_type": "display_data"
    }
   ],
   "source": [
    "pROC::roc(response = test$team_tie, predictor = test$prob_tie)"
   ]
  },
  {
   "cell_type": "code",
   "execution_count": 179,
   "metadata": {},
   "outputs": [
    {
     "data": {
      "text/plain": [
       "\n",
       "Call:\n",
       "roc.default(response = test$team_1_win, predictor = test$prob_team_1)\n",
       "\n",
       "Data: test$prob_team_1 in 460 controls (test$team_1_win 0) < 416 cases (test$team_1_win 1).\n",
       "Area under the curve: 0.7011"
      ]
     },
     "metadata": {},
     "output_type": "display_data"
    }
   ],
   "source": [
    "pROC::roc(response = test$team_1_win, predictor = test$prob_team_1)"
   ]
  },
  {
   "cell_type": "code",
   "execution_count": 180,
   "metadata": {
    "scrolled": true
   },
   "outputs": [
    {
     "data": {
      "text/plain": [
       "\n",
       "Call:\n",
       "roc.default(response = test$team_2_win, predictor = test$prob_team_2)\n",
       "\n",
       "Data: test$prob_team_2 in 639 controls (test$team_2_win 0) < 237 cases (test$team_2_win 1).\n",
       "Area under the curve: 0.7134"
      ]
     },
     "metadata": {},
     "output_type": "display_data"
    }
   ],
   "source": [
    "pROC::roc(response = test$team_2_win, predictor = test$prob_team_2)"
   ]
  },
  {
   "cell_type": "markdown",
   "metadata": {},
   "source": [
    "### Results seem good"
   ]
  },
  {
   "cell_type": "code",
   "execution_count": 186,
   "metadata": {},
   "outputs": [],
   "source": [
    "holdout <- holdout %>%\n",
    "    filter(!team_1_name %in% c('Brighton','Huddersfield'),\n",
    "           !team_2_name %in% c('Brighton','Huddersfield'))"
   ]
  },
  {
   "cell_type": "code",
   "execution_count": 187,
   "metadata": {},
   "outputs": [],
   "source": [
    "preds_score_1 <- predict(fit.poiss_1, newdata = holdout, type=\"response\")\n",
    "preds_score_2 <- predict(fit.poiss_2, newdata = holdout, type=\"response\")"
   ]
  },
  {
   "cell_type": "code",
   "execution_count": 188,
   "metadata": {
    "collapsed": true
   },
   "outputs": [],
   "source": [
    "holdout$preds_score_team_1_poiss_standard <- preds_score_1\n",
    "holdout$preds_score_team_2_poiss_standard <- preds_score_2"
   ]
  },
  {
   "cell_type": "markdown",
   "metadata": {},
   "source": [
    "### using the skellam distribution (defined as the difference between two poisson random variables) to infer the match probability"
   ]
  },
  {
   "cell_type": "code",
   "execution_count": 190,
   "metadata": {},
   "outputs": [],
   "source": [
    "holdout$prob_team_1 <- pskellam(-1, holdout$preds_score_team_2_poiss_standard, holdout$preds_score_team_1_poiss_standard, log.p = F)\n",
    "holdout$prob_tie <- dskellam(0, holdout$preds_score_team_2_poiss_standard, holdout$preds_score_team_1_poiss_standard, log = F)\n",
    "holdout$prob_team_2 <- 1 - pskellam(0, holdout$preds_score_team_2_poiss_standard, holdout$preds_score_team_1_poiss_standard, log.p = F)"
   ]
  },
  {
   "cell_type": "code",
   "execution_count": 191,
   "metadata": {
    "collapsed": true
   },
   "outputs": [],
   "source": [
    "#test"
   ]
  },
  {
   "cell_type": "code",
   "execution_count": 192,
   "metadata": {},
   "outputs": [
    {
     "data": {
      "text/html": [
       "1.40868416431503"
      ],
      "text/latex": [
       "1.40868416431503"
      ],
      "text/markdown": [
       "1.40868416431503"
      ],
      "text/plain": [
       "[1] 1.408684"
      ]
     },
     "metadata": {},
     "output_type": "display_data"
    }
   ],
   "source": [
    "logloss(holdout$result, holdout$prob_tie, holdout$prob_team_1, holdout$prob_team_2)"
   ]
  },
  {
   "cell_type": "code",
   "execution_count": 193,
   "metadata": {
    "collapsed": true
   },
   "outputs": [],
   "source": [
    "holdout$team_tie <- as.numeric(holdout$result == 'tie')\n",
    "holdout$team_1_win <- as.numeric(holdout$result == 'team_1_win')\n",
    "holdout$team_2_win <- as.numeric(holdout$result == 'team_2_win')"
   ]
  },
  {
   "cell_type": "code",
   "execution_count": 194,
   "metadata": {},
   "outputs": [
    {
     "data": {
      "text/plain": [
       "\n",
       "Call:\n",
       "roc.default(response = holdout$team_tie, predictor = holdout$prob_tie)\n",
       "\n",
       "Data: holdout$prob_tie in 172 controls (holdout$team_tie 0) < 50 cases (holdout$team_tie 1).\n",
       "Area under the curve: 0.5823"
      ]
     },
     "metadata": {},
     "output_type": "display_data"
    }
   ],
   "source": [
    "pROC::roc(response = holdout$team_tie, predictor = holdout$prob_tie)"
   ]
  },
  {
   "cell_type": "code",
   "execution_count": 195,
   "metadata": {},
   "outputs": [
    {
     "data": {
      "text/plain": [
       "\n",
       "Call:\n",
       "roc.default(response = holdout$team_1_win, predictor = holdout$prob_team_1)\n",
       "\n",
       "Data: holdout$prob_team_1 in 121 controls (holdout$team_1_win 0) < 101 cases (holdout$team_1_win 1).\n",
       "Area under the curve: 0.7557"
      ]
     },
     "metadata": {},
     "output_type": "display_data"
    }
   ],
   "source": [
    "pROC::roc(response = holdout$team_1_win, predictor = holdout$prob_team_1)"
   ]
  },
  {
   "cell_type": "code",
   "execution_count": 196,
   "metadata": {
    "scrolled": true
   },
   "outputs": [
    {
     "data": {
      "text/plain": [
       "\n",
       "Call:\n",
       "roc.default(response = holdout$team_2_win, predictor = holdout$prob_team_2)\n",
       "\n",
       "Data: holdout$prob_team_2 in 151 controls (holdout$team_2_win 0) < 71 cases (holdout$team_2_win 1).\n",
       "Area under the curve: 0.7915"
      ]
     },
     "metadata": {},
     "output_type": "display_data"
    }
   ],
   "source": [
    "pROC::roc(response = holdout$team_2_win, predictor = holdout$prob_team_2)"
   ]
  },
  {
   "cell_type": "markdown",
   "metadata": {},
   "source": [
    "### Try boosting on poisson response"
   ]
  },
  {
   "cell_type": "code",
   "execution_count": null,
   "metadata": {
    "collapsed": true
   },
   "outputs": [],
   "source": []
  }
 ],
 "metadata": {
  "kernelspec": {
   "display_name": "R",
   "language": "R",
   "name": "ir"
  },
  "language_info": {
   "codemirror_mode": "r",
   "file_extension": ".r",
   "mimetype": "text/x-r-source",
   "name": "R",
   "pygments_lexer": "r",
   "version": "3.4.2"
  }
 },
 "nbformat": 4,
 "nbformat_minor": 2
}
